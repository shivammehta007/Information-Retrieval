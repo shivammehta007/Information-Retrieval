{
  "nbformat": 4,
  "nbformat_minor": 0,
  "metadata": {
    "anaconda-cloud": {},
    "kernelspec": {
      "display_name": "Python 3",
      "language": "python",
      "name": "python3"
    },
    "language_info": {
      "codemirror_mode": {
        "name": "ipython",
        "version": 3
      },
      "file_extension": ".py",
      "mimetype": "text/x-python",
      "name": "python",
      "nbconvert_exporter": "python",
      "pygments_lexer": "ipython3",
      "version": "3.6.9"
    },
    "colab": {
      "name": "AntispamStatsSeminar.ipynb",
      "provenance": [],
      "include_colab_link": true
    }
  },
  "cells": [
    {
      "cell_type": "markdown",
      "metadata": {
        "id": "view-in-github",
        "colab_type": "text"
      },
      "source": [
        "<a href=\"https://colab.research.google.com/github/shivammehta007/Information-Retrieval/blob/master/AntispamStatsSeminar.ipynb\" target=\"_parent\"><img src=\"https://colab.research.google.com/assets/colab-badge.svg\" alt=\"Open In Colab\"/></a>"
      ]
    },
    {
      "cell_type": "markdown",
      "metadata": {
        "id": "s_n-mabRFKRU",
        "colab_type": "text"
      },
      "source": [
        "# **Description**"
      ]
    },
    {
      "cell_type": "markdown",
      "metadata": {
        "id": "WRyA5sjQFKRh",
        "colab_type": "text"
      },
      "source": [
        "Build distribution charts in spam and non-spam sets of the following features:\n",
        "\n",
        "1 Number of words per page\n",
        "2 Average word length\n",
        "3 Number of words in the page title (words in the <html><head> <title> Some text </title> tag)\n",
        "4 Number of words in link anchors (<html> <body> <a> Some text </a>)\n",
        "5 compression ratio\n",
        "\n",
        "It is necessary to calculate the statistics for at least three signs and be sure to do for the 1st and 2nd signs\n",
        "\n",
        "And send the first decision to the competition https://kaggle.com/join/antispam_infopoisk\n",
        "Based on one of the above signs, try to divide the number so that the score in the competition is more than 0.55\n",
        "\n",
        "If all these conditions are met during the seminar, +1 point to DZ\n",
        "\n",
        "Description of DZ and the rules for setting points for it at https://inclass.kaggle.com/c/antispam-infopoisk\n",
        "To specify the terms of DZ with the teacher - usually 2 weeks"
      ]
    },
    {
      "cell_type": "code",
      "metadata": {
        "id": "kKclE4mPLOIG",
        "colab_type": "code",
        "colab": {
          "base_uri": "https://localhost:8080/",
          "height": 34
        },
        "outputId": "ac40f917-6d7d-4aca-8081-6a383423bc05"
      },
      "source": [
        "from google.colab import drive\n",
        "drive.mount('/content/drive')"
      ],
      "execution_count": 2,
      "outputs": [
        {
          "output_type": "stream",
          "text": [
            "Drive already mounted at /content/drive; to attempt to forcibly remount, call drive.mount(\"/content/drive\", force_remount=True).\n"
          ],
          "name": "stdout"
        }
      ]
    },
    {
      "cell_type": "code",
      "metadata": {
        "id": "0UNKLZCYFKRj",
        "colab_type": "code",
        "colab": {}
      },
      "source": [
        "from importlib import reload"
      ],
      "execution_count": 0,
      "outputs": []
    },
    {
      "cell_type": "code",
      "metadata": {
        "id": "DKJ-rZQ7FKRn",
        "colab_type": "code",
        "colab": {
          "base_uri": "https://localhost:8080/",
          "height": 51
        },
        "outputId": "135a5adf-18ef-4087-8e21-2c272a84cdb3"
      },
      "source": [
        "from __future__ import division\n",
        "! pip install ftfy\n",
        "\n",
        "import base64\n",
        "import csv\n",
        "import gzip\n",
        "import zlib\n",
        "import ftfy\n",
        "\n",
        "from collections import namedtuple\n",
        "\n",
        "%matplotlib inline\n",
        "import matplotlib.pyplot as plt"
      ],
      "execution_count": 4,
      "outputs": [
        {
          "output_type": "stream",
          "text": [
            "Requirement already satisfied: ftfy in /usr/local/lib/python3.6/dist-packages (5.6)\n",
            "Requirement already satisfied: wcwidth in /usr/local/lib/python3.6/dist-packages (from ftfy) (0.1.7)\n"
          ],
          "name": "stdout"
        }
      ]
    },
    {
      "cell_type": "code",
      "metadata": {
        "id": "copo5Eo-FKRq",
        "colab_type": "code",
        "colab": {}
      },
      "source": [
        "TRACE_NUM = 1000\n",
        "import logging\n",
        "reload(logging)\n",
        "logging.basicConfig(format='%(asctime)s %(levelname)s:%(message)s', level=logging.INFO, datefmt='%H:%M:%S')\n",
        "\n",
        "def trace(items_num, trace_num=TRACE_NUM):\n",
        "    if items_num % trace_num == 0: logging.info(\"Complete items %05d\" % items_num)"
      ],
      "execution_count": 0,
      "outputs": []
    },
    {
      "cell_type": "markdown",
      "metadata": {
        "id": "J9THHP1aFKR3",
        "colab_type": "text"
      },
      "source": [
        "### Utilities"
      ]
    },
    {
      "cell_type": "markdown",
      "metadata": {
        "id": "zvHqpTPbFKR4",
        "colab_type": "text"
      },
      "source": [
        "#### Decorators"
      ]
    },
    {
      "cell_type": "markdown",
      "metadata": {
        "id": "O1pqmjnbJxxl",
        "colab_type": "text"
      },
      "source": [
        "### What I changed here was the use of ftfy library to fix the text, encoding was latin-1, So i decoded the text and converted into russian characters with ftfy library"
      ]
    },
    {
      "cell_type": "code",
      "metadata": {
        "id": "UhRV4hNQFKR5",
        "colab_type": "code",
        "colab": {}
      },
      "source": [
        "def to_utf8(text):\n",
        "    if isinstance(text, str): text = text.encode(\"ISO-8859-1\")\n",
        "    return text\n",
        "\n",
        "def convert2unicode(f):\n",
        "    def tmp(text):\n",
        "        if not isinstance(text, str): text = ftfy.fix_text(text.decode(\"latin-1\"))\n",
        "        return f(text)\n",
        "    return tmp\n",
        "\n",
        "def convert2lower(f):\n",
        "    def tmp(text):        \n",
        "        return f(text.lower())\n",
        "    return tmp\n",
        "\n",
        "#P.S. Decorators can complicate debugging, so you can completely discard them and use copy-paste"
      ],
      "execution_count": 0,
      "outputs": []
    },
    {
      "cell_type": "markdown",
      "metadata": {
        "id": "7LuvbeBFFKR8",
        "colab_type": "text"
      },
      "source": [
        "### Extract text from html"
      ]
    },
    {
      "cell_type": "markdown",
      "metadata": {
        "id": "i_0M7qHwFKR9",
        "colab_type": "text"
      },
      "source": [
        "#### Extraction of text using built-in modules"
      ]
    },
    {
      "cell_type": "code",
      "metadata": {
        "id": "YqWvb1iDFKR-",
        "colab_type": "code",
        "colab": {}
      },
      "source": [
        "from html.parser import HTMLParser\n",
        "import re\n",
        "\n",
        "###Extracting text from title can be entered here\n",
        "\n",
        "class TextHTMLParser(HTMLParser):\n",
        "    def __init__(self):\n",
        "        HTMLParser.__init__(self)\n",
        "        self._text = []\n",
        "        self._title = \"\"\n",
        "        self._in_title = False\n",
        "\n",
        "    def handle_data(self, data):\n",
        "        text = data.strip()\n",
        "        if len(text) > 0:\n",
        "            text = re.sub('[ \\t\\r\\n]+', ' ', text)\n",
        "            self._text.append(text + ' ')\n",
        "\n",
        "    def handle_starttag(self, tag, attrs):\n",
        "        if tag == 'p':\n",
        "            self._text.append('\\n\\n')\n",
        "        elif tag == 'br':\n",
        "            self._text.append('\\n')\n",
        "        elif tag == 'title':\n",
        "            self._in_title = True\n",
        "\n",
        "    def handle_startendtag(self, tag, attrs):\n",
        "        if tag == 'br':\n",
        "            self._text.append('\\n\\n')\n",
        "\n",
        "    def text(self):\n",
        "        return ''.join(self._text).strip()\n",
        "    \n",
        "    def extract_title(self):\n",
        "        soup = BeautifulSoup(text)\n",
        "        if soup.title != None:\n",
        "            self._title = soup.title.string\n",
        "\n",
        "@convert2unicode\n",
        "def html2text_parser(text):\n",
        "    parser = TextHTMLParser()\n",
        "    parser.feed(text)\n",
        "    soup = BeautifulSoup(text)\n",
        "    title = \"\"\n",
        "    if soup.title != None:\n",
        "        title = soup.title.string\n",
        "    anchor = \"\"\n",
        "    if soup.find('a') != None:\n",
        "        anchor = soup.find('a').text\n",
        "        \n",
        "    return parser.text(), title, anchor"
      ],
      "execution_count": 0,
      "outputs": []
    },
    {
      "cell_type": "code",
      "metadata": {
        "id": "cUdYn1GZFKSM",
        "colab_type": "code",
        "colab": {}
      },
      "source": [
        "from bs4 import BeautifulSoup"
      ],
      "execution_count": 0,
      "outputs": []
    },
    {
      "cell_type": "markdown",
      "metadata": {
        "id": "QT9uTuduFKSP",
        "colab_type": "text"
      },
      "source": [
        "#### Extraction of text using additional libraries"
      ]
    },
    {
      "cell_type": "code",
      "metadata": {
        "id": "bSLvdnTwFKSQ",
        "colab_type": "code",
        "colab": {}
      },
      "source": [
        "def html2text_bs(raw_html):\n",
        "    \"\"\"\n",
        "    Here is the extraction of text from html\n",
        "    \"\"\"\n",
        "    soup = BeautifulSoup(raw_html, \"html.parser\")\n",
        "    [s.extract() for s in soup(['script', 'style'])]\n",
        "    return soup.get_text()\n",
        "\n",
        "def html2text_bs_visible(raw_html):\n",
        "    \"\"\"\n",
        "    Here the text is extracted from the html, which is visible to the user\n",
        "    \"\"\"\n",
        "    soup = BeautifulSoup(raw_html, \"html.parser\")    \n",
        "    [s.extract() for s in soup(['style', 'script', '[document]', 'head', 'title'])]\n",
        "    return soup.get_text()\n",
        "\n",
        "def html2text_boilerpipe(raw_html):\n",
        "    import boilerpipe\n",
        "    \"\"\"\n",
        "    another library that extracts the text that is visible to the user very well,\n",
        "    but it is tied to java\n",
        "    \"\"\"\n",
        "    pass"
      ],
      "execution_count": 0,
      "outputs": []
    },
    {
      "cell_type": "markdown",
      "metadata": {
        "id": "jhCYaBrUFKSS",
        "colab_type": "text"
      },
      "source": [
        "#### Choose which method to convert html to text will be the main"
      ]
    },
    {
      "cell_type": "code",
      "metadata": {
        "id": "v4TbVCvTFKST",
        "colab_type": "code",
        "colab": {}
      },
      "source": [
        "#html2text = html2text_bs\n",
        "html2text = html2text_parser"
      ],
      "execution_count": 0,
      "outputs": []
    },
    {
      "cell_type": "markdown",
      "metadata": {
        "id": "2Q5wT31lFKSh",
        "colab_type": "text"
      },
      "source": [
        "#### Methods for tokenizing text"
      ]
    },
    {
      "cell_type": "code",
      "metadata": {
        "id": "T86B3ewlFKSi",
        "colab_type": "code",
        "colab": {}
      },
      "source": [
        "@convert2lower\n",
        "@convert2unicode\n",
        "def easy_tokenizer(text):\n",
        "    word = str()\n",
        "    for symbol in text:\n",
        "        if symbol.isalnum(): word += symbol\n",
        "        elif word:\n",
        "            yield word\n",
        "            word = str()\n",
        "    if word: yield word\n",
        "\n",
        "PYMORPHY_CACHE = {}\n",
        "MORPH = None\n",
        "#hint so that installing pymorphy2 would not be required\n",
        "def get_lemmatizer():\n",
        "    import pymorphy2\n",
        "    global MORPH\n",
        "    if MORPH is None: MORPH = pymorphy2.MorphAnalyzer()\n",
        "    return MORPH\n",
        "\n",
        "@convert2lower\n",
        "@convert2unicode\n",
        "def pymorphy_tokenizer(text):\n",
        "    global PYMORPHY_CACHE\n",
        "    for word in easy_tokenizer(text):\n",
        "        word_hash = hash(word)\n",
        "        if word_hash not in PYMORPHY_CACHE:\n",
        "            PYMORPHY_CACHE[word_hash] = get_lemmatizer().parse(word)[0].normal_form            \n",
        "        yield PYMORPHY_CACHE[word_hash]"
      ],
      "execution_count": 0,
      "outputs": []
    },
    {
      "cell_type": "markdown",
      "metadata": {
        "id": "RIyGsgTlFKSk",
        "colab_type": "text"
      },
      "source": [
        "#### The main function that is called to convert html to a list of words"
      ]
    },
    {
      "cell_type": "code",
      "metadata": {
        "id": "2X1UAO8vFKSm",
        "colab_type": "code",
        "colab": {}
      },
      "source": [
        "def html2word(raw_html, to_text=html2text, tokenizer=easy_tokenizer):\n",
        "    text, title, anchor = to_text(raw_html)\n",
        "    if title == None:\n",
        "        title = \"\"\n",
        "    if anchor == None:\n",
        "        anchor = \"\"\n",
        "    return tokenizer(text.lower()), tokenizer(title.lower()), tokenizer(anchor.lower())"
      ],
      "execution_count": 0,
      "outputs": []
    },
    {
      "cell_type": "markdown",
      "metadata": {
        "id": "-xsD-itEFKSo",
        "colab_type": "text"
      },
      "source": [
        "#### Calculation of final metrics"
      ]
    },
    {
      "cell_type": "code",
      "metadata": {
        "id": "ofdA3Od0FKSp",
        "colab_type": "code",
        "colab": {}
      },
      "source": [
        "def safe_divide(a, b):\n",
        "    if a == 0: return 0.0\n",
        "    elif b == 0: return 0.0\n",
        "    else: return a/b\n",
        "\n",
        "def calculate_metrics(predictions, threshold):    \n",
        "    \"\"\"\n",
        "    Metric counting function\n",
        "    Options\n",
        "    predictions - document rank\n",
        "    threshold - threshold for metrics\n",
        "    \"\"\"\n",
        "    true_positive = 0\n",
        "    false_positive = 0\n",
        "    true_negative = 0\n",
        "    false_negative = 0\n",
        "    for (url_id, mark, url, prediction) in predictions:        \n",
        "        mark_predict = prediction > threshold\n",
        "\n",
        "        if mark_predict:                     \n",
        "            if mark_predict == mark: true_positive += 1\n",
        "            else: false_positive += 1                    \n",
        "        else:                     \n",
        "            if  mark_predict == mark: true_negative += 1\n",
        "            else: false_negative += 1\n",
        "\n",
        "    class_prec  = safe_divide(true_positive, true_positive + false_positive)\n",
        "    class_recall = safe_divide(true_positive, true_positive + false_negative)\n",
        "        \n",
        "    class_F1 = safe_divide(2 * class_prec * class_recall, class_prec + class_recall)\n",
        "    \n",
        "    \n",
        "    not_class_prec = safe_divide(true_negative, true_negative + false_negative)\n",
        "    not_class_recall = safe_divide(true_negative, true_negative + false_positive)\n",
        "    \n",
        "    not_class_F1 = safe_divide(2 * not_class_prec * not_class_recall, not_class_prec + not_class_recall)\n",
        "    \n",
        "    return ( (class_prec, class_recall, class_F1), (not_class_prec, not_class_recall, not_class_F1) )\n",
        "\n",
        "def arange(start, stop, step):\n",
        "    cur_value = start\n",
        "    while True:\n",
        "        if cur_value > stop: break\n",
        "        yield cur_value\n",
        "        cur_value += step\n",
        "\n",
        "def plot_results(docs, min_threshold=-1, max_threshold=1, step=0.1, trace=False):\n",
        "    x = []\n",
        "    y_p = []\n",
        "    y_n = []\n",
        "    docs_predictions = classifier.predict_all(docs)\n",
        "    for threshold in arange(min_threshold, max_threshold, step):\n",
        "        r = calculate_metrics(docs_predictions, threshold)\n",
        "        x.append(threshold)\n",
        "        y_p.append(r[0])\n",
        "        y_n.append(r[1])        \n",
        "        if trace: \n",
        "            print('threshold %s' % threshold)\n",
        "            print('\\tclass_prec %s, class_recall %s, class_F1 %s' % r[0])\n",
        "            print('\\tnot_class_prec %s, not_class_recall %s, not_class_F1 %s' % r[1])\n",
        "            print('\\t\\tMacroF1Mesure %s' % ((r[0][2] + r[1][2])/2))\n",
        "    plot_stats(x, y_p, \"Class Result\")\n",
        "    plot_stats(x, y_n, \"Not class Result\")    \n",
        "\n",
        "\n",
        "def plot_stats(x, y, title):\n",
        "    plt.figure(figsize=(10, 5))\n",
        "\n",
        "    prec, = plt.plot( x, \n",
        "                     [k[0] for k in y], \"r\", label='Precision', \n",
        "                     linewidth=1)\n",
        "    accur, = plt.plot( x, \n",
        "                      [k[1] for k in y], \"b\", label='Recall',\n",
        "                      linewidth=1)\n",
        "    f1, =    plt.plot( x, \n",
        "                      [k[2] for k in y], \"g\", label='F1',\n",
        "                      linewidth=1)\n",
        "    plt.grid(True)\n",
        "    plt.legend(handles=[prec, accur, f1])\n",
        "    plt.title(title)\n",
        "    plt.show()"
      ],
      "execution_count": 0,
      "outputs": []
    },
    {
      "cell_type": "code",
      "metadata": {
        "id": "Xv6SBN1HFKSs",
        "colab_type": "code",
        "colab": {}
      },
      "source": [
        "def calc_features(url, html_data):\n",
        "    words, title, anchor = html2word(html_data)\n",
        "\n",
        "    anchor = list(anchor)\n",
        "    words = list(words)\n",
        "    title = list(title)\n",
        "    words_num = len(words)\n",
        "    # print(words, title, anchor)\n",
        "    \n",
        "    avg_word_len = 0\n",
        "    for word in words:\n",
        "        avg_word_len += len(word)\n",
        "    avg_word_len = avg_word_len/words_num\n",
        "    title_words_num = len(title)    \n",
        "    anchor_words_num = len(anchor)\n",
        "    compression_level = 0\n",
        "    \n",
        "    return [len(words), avg_word_len, title_words_num, anchor_words_num, compression_level, words]"
      ],
      "execution_count": 0,
      "outputs": []
    },
    {
      "cell_type": "code",
      "metadata": {
        "id": "Q2uDbfD6FKSx",
        "colab_type": "code",
        "colab": {
          "base_uri": "https://localhost:8080/",
          "height": 34
        },
        "outputId": "6936a89a-30f9-477b-98ae-627082609927"
      },
      "source": [
        "test_html_data = u'''\n",
        "<html>\n",
        "<title> Заголовок Ololo </title>\n",
        "спам 1 2 3\n",
        "'<html><body><a> Some text </a>'\n",
        "</html>\n",
        "'''\n",
        "test_url = 'http://ololo'\n",
        "test_features = calc_features(test_url, test_html_data)\n",
        "print(test_features)"
      ],
      "execution_count": 15,
      "outputs": [
        {
          "output_type": "stream",
          "text": [
            "[8, 3.625, 2, 2, 0, ['заголовок', 'ololo', 'спам', '1', '2', '3', 'some', 'text']]\n"
          ],
          "name": "stdout"
        }
      ]
    },
    {
      "cell_type": "code",
      "metadata": {
        "id": "UBqahAcbKzRc",
        "colab_type": "code",
        "colab": {}
      },
      "source": [
        ""
      ],
      "execution_count": 0,
      "outputs": []
    },
    {
      "cell_type": "code",
      "metadata": {
        "id": "DoAquNqDFKS2",
        "colab_type": "code",
        "colab": {}
      },
      "source": [
        "DocItem = namedtuple('DocItem', ['doc_id', 'is_spam', 'url', 'features', 'words'])\n",
        "\n",
        "def load_csv(input_file_name, calc_features_f):    \n",
        "    \"\"\"\n",
        "    We load data and extract signs on the fly\n",
        "    Content itself is not saved to reduce memory consumption - to\n",
        "    could run even on laptops in class\n",
        "    \"\"\"\n",
        "    \n",
        "    with gzip.open(input_file_name) if input_file_name.endswith('gz') else open(input_file_name)  as input_file:            \n",
        "        headers = input_file.readline()\n",
        "        \n",
        "        for i, line in enumerate(input_file):\n",
        "            trace(i)\n",
        "            line = line.decode()\n",
        "            parts = line.strip().split('\\t')\n",
        "            url_id = int(parts[0])                                        \n",
        "            mark = bool(int(parts[1]))                    \n",
        "            url = parts[2]\n",
        "            pageInb64 = parts[3]\n",
        "            html_data = base64.b64decode(pageInb64)\n",
        "            features = calc_features_f(url, html_data)      \n",
        "            yield DocItem(url_id, mark, url, features[:-1], features[-1])            \n",
        "                \n",
        "        trace(i, 1)        "
      ],
      "execution_count": 0,
      "outputs": []
    },
    {
      "cell_type": "markdown",
      "metadata": {
        "id": "dVX02vXFFKS5",
        "colab_type": "text"
      },
      "source": [
        "** We process the input file **\n",
        "<br>\n",
        "Format - fields separated by tabs\n",
        "<br>\n",
        "0 - document id\n",
        "<br>\n",
        "1 - class label 0 - not spam, 1 - spam\n",
        "<br>\n",
        "2 - url of the document\n",
        "<br>\n",
        "3 - base64 encoded document\n",
        "### I Added a fourth returning parameter that will give me all the words in that row\n",
        "4 - Words\n",
        "\n",
        "The output format is an array of tuples of the form\n",
        "(doc_id, is_spam, url, html_data, **words**)"
      ]
    },
    {
      "cell_type": "code",
      "metadata": {
        "id": "AnWRNVrGFKS6",
        "colab_type": "code",
        "colab": {}
      },
      "source": [
        "import pandas as pd\n"
      ],
      "execution_count": 0,
      "outputs": []
    },
    {
      "cell_type": "code",
      "metadata": {
        "id": "razvhBSWLjXD",
        "colab_type": "code",
        "colab": {}
      },
      "source": [
        "import os"
      ],
      "execution_count": 0,
      "outputs": []
    },
    {
      "cell_type": "code",
      "metadata": {
        "id": "VwotNoKFMpeP",
        "colab_type": "code",
        "colab": {
          "base_uri": "https://localhost:8080/",
          "height": 34
        },
        "outputId": "4ccfb491-c70f-4b3b-fda0-0bd960e43e16"
      },
      "source": [
        "os.path.exists('drive/My Drive/Homeworks/InformationRetrieval/hw3/kaggle_test_data_tab_new.csv.gz')"
      ],
      "execution_count": 19,
      "outputs": [
        {
          "output_type": "execute_result",
          "data": {
            "text/plain": [
              "True"
            ]
          },
          "metadata": {
            "tags": []
          },
          "execution_count": 19
        }
      ]
    },
    {
      "cell_type": "code",
      "metadata": {
        "scrolled": true,
        "id": "EyAxcb76FKS8",
        "colab_type": "code",
        "colab": {
          "base_uri": "https://localhost:8080/",
          "height": 204
        },
        "outputId": "d4d27dd4-40a9-428e-d678-798f65d4e692"
      },
      "source": [
        "%%time\n",
        "\n",
        "file_location = 'drive/My Drive/Homeworks/InformationRetrieval/hw3/kaggle_train_data_tab_new.csv.gz'\n",
        "TRAIN_DATA_FILE  = file_location\n",
        "\n",
        "train_docs = list(load_csv(TRAIN_DATA_FILE, calc_features))"
      ],
      "execution_count": 20,
      "outputs": [
        {
          "output_type": "stream",
          "text": [
            "12:57:02 INFO:Complete items 00000\n",
            "12:59:19 INFO:Complete items 01000\n",
            "13:01:07 INFO:Complete items 02000\n",
            "13:03:05 INFO:Complete items 03000\n",
            "13:05:04 INFO:Complete items 04000\n",
            "13:07:06 INFO:Complete items 05000\n",
            "13:09:05 INFO:Complete items 06000\n",
            "13:11:16 INFO:Complete items 07000\n",
            "13:11:20 INFO:Complete items 07043\n"
          ],
          "name": "stderr"
        },
        {
          "output_type": "stream",
          "text": [
            "CPU times: user 14min 14s, sys: 3.95 s, total: 14min 18s\n",
            "Wall time: 14min 18s\n"
          ],
          "name": "stdout"
        }
      ]
    },
    {
      "cell_type": "code",
      "metadata": {
        "id": "xni4l3kRFKTF",
        "colab_type": "code",
        "colab": {
          "base_uri": "https://localhost:8080/",
          "height": 281
        },
        "outputId": "b1c7d8fe-03e1-4e3e-a186-9af17925d8b3"
      },
      "source": [
        "is_spam_data = [doc.features[0] for doc in train_docs if doc[1] == True]\n",
        "not_spam_data = [doc.features[0] for doc in train_docs if doc[1] == False]\n",
        "bins = range(0,3000,10)\n",
        "plt.hist(is_spam_data, bins=bins, color='red', density=True, alpha=0.7, label='spam')\n",
        "plt.hist(not_spam_data, bins=bins, color='blue', density=True, alpha=0.7, label='not_spam')\n",
        "plt.title('NumWords')\n",
        "plt.legend()\n",
        "plt.show()"
      ],
      "execution_count": 21,
      "outputs": [
        {
          "output_type": "display_data",
          "data": {
            "image/png": "[encoded data removed]",
            "text/plain": [
              "<Figure size 432x288 with 1 Axes>"
            ]
          },
          "metadata": {
            "tags": []
          }
        }
      ]
    },
    {
      "cell_type": "code",
      "metadata": {
        "id": "Dqii3KnHFKTK",
        "colab_type": "code",
        "colab": {
          "base_uri": "https://localhost:8080/",
          "height": 281
        },
        "outputId": "4e74c0c2-b9b5-4b8c-9c34-e0fce5c06e00"
      },
      "source": [
        "is_spam_data = [doc.features[1] for doc in train_docs if doc[1] == True]\n",
        "not_spam_data = [doc.features[1] for doc in train_docs if doc[1] == False]\n",
        "bins = 100\n",
        "plt.hist(is_spam_data, bins=bins, color='red', density=True, alpha=0.7, label='spam')\n",
        "plt.hist(not_spam_data, bins=bins, color='blue', density=True, alpha=0.7, label='not_spam')\n",
        "plt.title('AvgWordLen')\n",
        "plt.legend()\n",
        "plt.show()"
      ],
      "execution_count": 22,
      "outputs": [
        {
          "output_type": "display_data",
          "data": {
            "image/png": "[encoded data removed]",
            "text/plain": [
              "<Figure size 432x288 with 1 Axes>"
            ]
          },
          "metadata": {
            "tags": []
          }
        }
      ]
    },
    {
      "cell_type": "code",
      "metadata": {
        "id": "byGNhtEIFKTc",
        "colab_type": "code",
        "colab": {
          "base_uri": "https://localhost:8080/",
          "height": 383
        },
        "outputId": "64dda4d3-be41-4e90-f197-347922e26d11"
      },
      "source": [
        "is_spam_data = [doc.features[3] for doc in train_docs if doc[1] == True]\n",
        "not_spam_data = [doc.features[3] for doc in train_docs if doc[1] == False]\n",
        "bins = range(0, 30, 1)\n",
        "plt.hist(is_spam_data, bins=bins, color='red', normed=True, alpha=0.7, label='spam')\n",
        "plt.hist(not_spam_data, bins=bins, color='blue', normed=True, alpha=0.7, label='not_spam')\n",
        "plt.title('NumWordsTitle')\n",
        "plt.legend()\n",
        "plt.show()"
      ],
      "execution_count": 23,
      "outputs": [
        {
          "output_type": "stream",
          "text": [
            "/usr/local/lib/python3.6/dist-packages/ipykernel_launcher.py:4: MatplotlibDeprecationWarning: \n",
            "The 'normed' kwarg was deprecated in Matplotlib 2.1 and will be removed in 3.1. Use 'density' instead.\n",
            "  after removing the cwd from sys.path.\n",
            "/usr/local/lib/python3.6/dist-packages/ipykernel_launcher.py:5: MatplotlibDeprecationWarning: \n",
            "The 'normed' kwarg was deprecated in Matplotlib 2.1 and will be removed in 3.1. Use 'density' instead.\n",
            "  \"\"\"\n"
          ],
          "name": "stderr"
        },
        {
          "output_type": "display_data",
          "data": {
            "image/png": "[encoded data removed]",
            "text/plain": [
              "<Figure size 432x288 with 1 Axes>"
            ]
          },
          "metadata": {
            "tags": []
          }
        }
      ]
    },
    {
      "cell_type": "markdown",
      "metadata": {
        "id": "Z8znQ-nVFKTv",
        "colab_type": "text"
      },
      "source": [
        "## **Classifier**\n"
      ]
    },
    {
      "cell_type": "code",
      "metadata": {
        "id": "ZKcw-Qbu2nYN",
        "colab_type": "code",
        "colab": {}
      },
      "source": [
        "from sklearn.feature_extraction.text import TfidfVectorizer\n",
        "from sklearn.feature_extraction.text import CountVectorizer\n",
        "from sklearn.neural_network import MLPClassifier\n",
        "from sklearn.ensemble import RandomForestClassifier\n",
        "from sklearn.model_selection import train_test_split\n",
        "from sklearn.svm import SVC\n",
        "\n",
        "from sklearn.metrics import accuracy_score\n",
        "\n",
        "import numpy as np\n"
      ],
      "execution_count": 0,
      "outputs": []
    },
    {
      "cell_type": "code",
      "metadata": {
        "id": "tfS6PPyi1svC",
        "colab_type": "code",
        "colab": {}
      },
      "source": [
        "train_data = pd.DataFrame(train_docs)\n",
        "X_train = train_data['words'].apply(' '.join)\n",
        "y_train = train_data['is_spam'].replace({True: 1, False: 0})"
      ],
      "execution_count": 0,
      "outputs": []
    },
    {
      "cell_type": "code",
      "metadata": {
        "id": "UetBZOSP3XcO",
        "colab_type": "code",
        "colab": {}
      },
      "source": [
        "tf = TfidfVectorizer()\n",
        "X_train = tf.fit_transform(X_train)"
      ],
      "execution_count": 0,
      "outputs": []
    },
    {
      "cell_type": "code",
      "metadata": {
        "id": "XWChFwE42df9",
        "colab_type": "code",
        "colab": {
          "base_uri": "https://localhost:8080/",
          "height": 34
        },
        "outputId": "546c90e1-838e-4196-e1a7-f96ab7237d0f"
      },
      "source": [
        "X_train.shape, y_train.shape"
      ],
      "execution_count": 28,
      "outputs": [
        {
          "output_type": "execute_result",
          "data": {
            "text/plain": [
              "((7044, 632797), (7044,))"
            ]
          },
          "metadata": {
            "tags": []
          },
          "execution_count": 28
        }
      ]
    },
    {
      "cell_type": "code",
      "metadata": {
        "id": "WLM3UNcn1N-A",
        "colab_type": "code",
        "colab": {}
      },
      "source": [
        "X_train, X_test, y_train, y_test = train_test_split(X_train, y_train, test_size=0.2)"
      ],
      "execution_count": 0,
      "outputs": []
    },
    {
      "cell_type": "code",
      "metadata": {
        "id": "Om06ZKrQW176",
        "colab_type": "code",
        "colab": {
          "base_uri": "https://localhost:8080/",
          "height": 989
        },
        "outputId": "c78306f0-564b-4d11-c26b-5f362ab26ae1"
      },
      "source": [
        "models = [MLPClassifier, RandomForestClassifier, SVC]\n",
        "accuracy = []\n",
        "trained_models = []\n",
        "for model in models:\n",
        "    m = model(verbose=True)\n",
        "    m.fit(X_train, y_train)\n",
        "    output = m.predict(X_test)\n",
        "    acc = accuracy_score(output, y_test)\n",
        "    print(f'Accuracy : {acc:.4f}%')\n",
        "\n",
        "    accuracy.append(acc)\n",
        "    trained_models.append(m)"
      ],
      "execution_count": 30,
      "outputs": [
        {
          "output_type": "stream",
          "text": [
            "Iteration 1, loss = 0.54993798\n",
            "Iteration 2, loss = 0.24809562\n",
            "Iteration 3, loss = 0.11818287\n",
            "Iteration 4, loss = 0.06684747\n",
            "Iteration 5, loss = 0.04301014\n",
            "Iteration 6, loss = 0.03052526\n",
            "Iteration 7, loss = 0.02321568\n",
            "Iteration 8, loss = 0.01871268\n",
            "Iteration 9, loss = 0.01564856\n",
            "Iteration 10, loss = 0.01342359\n",
            "Iteration 11, loss = 0.01184358\n",
            "Iteration 12, loss = 0.01062684\n",
            "Iteration 13, loss = 0.00960382\n",
            "Iteration 14, loss = 0.00882661\n",
            "Iteration 15, loss = 0.00816573\n",
            "Iteration 16, loss = 0.00761375\n",
            "Iteration 17, loss = 0.00717191\n",
            "Iteration 18, loss = 0.00678036\n",
            "Iteration 19, loss = 0.00642716\n",
            "Iteration 20, loss = 0.00612971\n",
            "Iteration 21, loss = 0.00587121\n",
            "Iteration 22, loss = 0.00563902\n",
            "Iteration 23, loss = 0.00541524\n",
            "Iteration 24, loss = 0.00521820\n",
            "Iteration 25, loss = 0.00504531\n",
            "Iteration 26, loss = 0.00487996\n",
            "Iteration 27, loss = 0.00472899\n",
            "Iteration 28, loss = 0.00459071\n",
            "Iteration 29, loss = 0.00445398\n",
            "Iteration 30, loss = 0.00433535\n",
            "Iteration 31, loss = 0.00421598\n",
            "Iteration 32, loss = 0.00410205\n",
            "Iteration 33, loss = 0.00399931\n",
            "Iteration 34, loss = 0.00390107\n",
            "Iteration 35, loss = 0.00380937\n",
            "Iteration 36, loss = 0.00372394\n",
            "Iteration 37, loss = 0.00364228\n",
            "Iteration 38, loss = 0.00356002\n",
            "Iteration 39, loss = 0.00347988\n",
            "Iteration 40, loss = 0.00340450\n",
            "Iteration 41, loss = 0.00333258\n",
            "Iteration 42, loss = 0.00326402\n",
            "Iteration 43, loss = 0.00320300\n",
            "Iteration 44, loss = 0.00313848\n",
            "Training loss did not improve more than tol=0.000100 for 10 consecutive epochs. Stopping.\n",
            "Accuracy : 0.9702%\n"
          ],
          "name": "stdout"
        },
        {
          "output_type": "stream",
          "text": [
            "/usr/local/lib/python3.6/dist-packages/sklearn/ensemble/forest.py:245: FutureWarning: The default value of n_estimators will change from 10 in version 0.20 to 100 in 0.22.\n",
            "  \"10 in version 0.20 to 100 in 0.22.\", FutureWarning)\n",
            "[Parallel(n_jobs=1)]: Using backend SequentialBackend with 1 concurrent workers.\n",
            "[Parallel(n_jobs=1)]: Done  10 out of  10 | elapsed:    2.9s finished\n",
            "[Parallel(n_jobs=1)]: Using backend SequentialBackend with 1 concurrent workers.\n",
            "[Parallel(n_jobs=1)]: Done  10 out of  10 | elapsed:    0.1s finished\n"
          ],
          "name": "stderr"
        },
        {
          "output_type": "stream",
          "text": [
            "Accuracy : 0.9461%\n"
          ],
          "name": "stdout"
        },
        {
          "output_type": "stream",
          "text": [
            "/usr/local/lib/python3.6/dist-packages/sklearn/svm/base.py:193: FutureWarning: The default value of gamma will change from 'auto' to 'scale' in version 0.22 to account better for unscaled features. Set gamma explicitly to 'auto' or 'scale' to avoid this warning.\n",
            "  \"avoid this warning.\", FutureWarning)\n"
          ],
          "name": "stderr"
        },
        {
          "output_type": "stream",
          "text": [
            "[LibSVM]Accuracy : 0.5919%\n"
          ],
          "name": "stdout"
        }
      ]
    },
    {
      "cell_type": "code",
      "metadata": {
        "id": "rgmUlxFnW2H9",
        "colab_type": "code",
        "colab": {}
      },
      "source": [
        "best_model = trained_models[0]"
      ],
      "execution_count": 0,
      "outputs": []
    },
    {
      "cell_type": "code",
      "metadata": {
        "id": "gQI_CHR_FKWI",
        "colab_type": "code",
        "colab": {
          "base_uri": "https://localhost:8080/",
          "height": 357
        },
        "outputId": "6c52d813-88dc-4729-d0a7-375f1dea6909"
      },
      "source": [
        "%%time\n",
        "test_file_location = 'drive/My Drive/Homeworks/InformationRetrieval/hw3/kaggle_test_data_tab_new.csv.gz'\n",
        "\n",
        "TEST_DATA_FILE  = test_file_location"
      ],
      "execution_count": 36,
      "outputs": [
        {
          "output_type": "stream",
          "text": [
            "13:56:23 INFO:Complete items 00000\n",
            "13:59:26 INFO:Complete items 01000\n",
            "14:02:07 INFO:Complete items 02000\n",
            "14:04:36 INFO:Complete items 03000\n",
            "14:06:50 INFO:Complete items 04000\n",
            "14:09:00 INFO:Complete items 05000\n",
            "14:11:43 INFO:Complete items 06000\n",
            "14:14:02 INFO:Complete items 07000\n",
            "14:16:30 INFO:Complete items 08000\n",
            "14:18:53 INFO:Complete items 09000\n",
            "14:22:00 INFO:Complete items 10000\n",
            "14:24:23 INFO:Complete items 11000\n",
            "14:26:45 INFO:Complete items 12000\n",
            "14:28:50 INFO:Complete items 13000\n",
            "14:31:22 INFO:Complete items 14000\n",
            "14:34:02 INFO:Complete items 15000\n",
            "14:36:46 INFO:Complete items 16000\n",
            "14:36:54 INFO:Complete items 16038\n"
          ],
          "name": "stderr"
        },
        {
          "output_type": "stream",
          "text": [
            "CPU times: user 40min 21s, sys: 8.31 s, total: 40min 29s\n",
            "Wall time: 40min 31s\n"
          ],
          "name": "stdout"
        }
      ]
    },
    {
      "cell_type": "markdown",
      "metadata": {
        "id": "kArIA9gk4EtK",
        "colab_type": "text"
      },
      "source": [
        "## Writing Output"
      ]
    },
    {
      "cell_type": "code",
      "metadata": {
        "id": "6N2TAs5lFKWL",
        "colab_type": "code",
        "colab": {
          "base_uri": "https://localhost:8080/",
          "height": 357
        },
        "outputId": "fb8ba82e-8484-45ba-db4f-b4ee3c4540cf"
      },
      "source": [
        "%%time\n",
        "TEST_DATA_FILE  = test_file_location\n",
        "\n",
        "test_docs = load_csv(TEST_DATA_FILE, calc_features)\n",
        "\n",
        "\n",
        "with open('my_submission.csv' , 'w') as fout:\n",
        "    writer = csv.writer(fout)\n",
        "    writer.writerow(['Id','Prediction'])\n",
        "    for item in test_docs:\n",
        "        line = ' '.join(item.words)\n",
        "        line = tf.transform([line])\n",
        "        prediction = best_model.predict(line)[0]\n",
        "        writer.writerow([item[0], prediction])"
      ],
      "execution_count": 81,
      "outputs": [
        {
          "output_type": "stream",
          "text": [
            "15:16:30 INFO:Complete items 00000\n",
            "15:19:40 INFO:Complete items 01000\n",
            "15:22:26 INFO:Complete items 02000\n",
            "15:25:01 INFO:Complete items 03000\n",
            "15:27:17 INFO:Complete items 04000\n",
            "15:29:29 INFO:Complete items 05000\n",
            "15:32:12 INFO:Complete items 06000\n",
            "15:34:31 INFO:Complete items 07000\n",
            "15:36:59 INFO:Complete items 08000\n",
            "15:39:19 INFO:Complete items 09000\n",
            "15:42:23 INFO:Complete items 10000\n",
            "15:44:44 INFO:Complete items 11000\n",
            "15:47:04 INFO:Complete items 12000\n",
            "15:49:06 INFO:Complete items 13000\n",
            "15:51:31 INFO:Complete items 14000\n",
            "15:54:04 INFO:Complete items 15000\n",
            "15:56:40 INFO:Complete items 16000\n",
            "15:56:46 INFO:Complete items 16038\n"
          ],
          "name": "stderr"
        },
        {
          "output_type": "stream",
          "text": [
            "CPU times: user 40min 7s, sys: 5.86 s, total: 40min 13s\n",
            "Wall time: 40min 15s\n"
          ],
          "name": "stdout"
        }
      ]
    },
    {
      "cell_type": "code",
      "metadata": {
        "id": "dAw6XYvk4MxB",
        "colab_type": "code",
        "colab": {
          "base_uri": "https://localhost:8080/",
          "height": 266
        },
        "outputId": "4fda6318-b282-474a-89e1-b0449c1c38d6"
      },
      "source": [
        "pd.read_csv('my_submission.csv')"
      ],
      "execution_count": 80,
      "outputs": [
        {
          "output_type": "execute_result",
          "data": {
            "text/html": [
              "<div>\n",
              "<style scoped>\n",
              "    .dataframe tbody tr th:only-of-type {\n",
              "        vertical-align: middle;\n",
              "    }\n",
              "\n",
              "    .dataframe tbody tr th {\n",
              "        vertical-align: top;\n",
              "    }\n",
              "\n",
              "    .dataframe thead th {\n",
              "        text-align: right;\n",
              "    }\n",
              "</style>\n",
              "<table border=\"1\" class=\"dataframe\">\n",
              "  <thead>\n",
              "    <tr style=\"text-align: right;\">\n",
              "      <th></th>\n",
              "      <th>Id</th>\n",
              "      <th>Prediction</th>\n",
              "    </tr>\n",
              "  </thead>\n",
              "  <tbody>\n",
              "    <tr>\n",
              "      <th>0</th>\n",
              "      <td>-1109772587479963780</td>\n",
              "      <td>0</td>\n",
              "    </tr>\n",
              "    <tr>\n",
              "      <th>1</th>\n",
              "      <td>-1106366422832451997</td>\n",
              "      <td>1</td>\n",
              "    </tr>\n",
              "    <tr>\n",
              "      <th>2</th>\n",
              "      <td>-1105668373469654832</td>\n",
              "      <td>0</td>\n",
              "    </tr>\n",
              "    <tr>\n",
              "      <th>3</th>\n",
              "      <td>-1105237772827470662</td>\n",
              "      <td>1</td>\n",
              "    </tr>\n",
              "    <tr>\n",
              "      <th>4</th>\n",
              "      <td>-1103748450951392672</td>\n",
              "      <td>0</td>\n",
              "    </tr>\n",
              "    <tr>\n",
              "      <th>5</th>\n",
              "      <td>-1102576576553740237</td>\n",
              "      <td>1</td>\n",
              "    </tr>\n",
              "    <tr>\n",
              "      <th>6</th>\n",
              "      <td>-1101841293250128385</td>\n",
              "      <td>1</td>\n",
              "    </tr>\n",
              "  </tbody>\n",
              "</table>\n",
              "</div>"
            ],
            "text/plain": [
              "                    Id  Prediction\n",
              "0 -1109772587479963780           0\n",
              "1 -1106366422832451997           1\n",
              "2 -1105668373469654832           0\n",
              "3 -1105237772827470662           1\n",
              "4 -1103748450951392672           0\n",
              "5 -1102576576553740237           1\n",
              "6 -1101841293250128385           1"
            ]
          },
          "metadata": {
            "tags": []
          },
          "execution_count": 80
        }
      ]
    }
  ]
}