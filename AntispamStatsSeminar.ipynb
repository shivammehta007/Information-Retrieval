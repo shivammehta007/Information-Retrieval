{
  "nbformat": 4,
  "nbformat_minor": 0,
  "metadata": {
    "anaconda-cloud": {},
    "kernelspec": {
      "display_name": "Python 3",
      "language": "python",
      "name": "python3"
    },
    "language_info": {
      "codemirror_mode": {
        "name": "ipython",
        "version": 3
      },
      "file_extension": ".py",
      "mimetype": "text/x-python",
      "name": "python",
      "nbconvert_exporter": "python",
      "pygments_lexer": "ipython3",
      "version": "3.6.9"
    },
    "colab": {
      "name": "AntispamStatsSeminar.ipynb",
      "provenance": [],
      "include_colab_link": true
    }
  },
  "cells": [
    {
      "cell_type": "markdown",
      "metadata": {
        "id": "view-in-github",
        "colab_type": "text"
      },
      "source": [
        "<a href=\"https://colab.research.google.com/github/shivammehta007/Information-Retrieval/blob/master/AntispamStatsSeminar.ipynb\" target=\"_parent\"><img src=\"https://colab.research.google.com/assets/colab-badge.svg\" alt=\"Open In Colab\"/></a>"
      ]
    },
    {
      "cell_type": "markdown",
      "metadata": {
        "id": "s_n-mabRFKRU",
        "colab_type": "text"
      },
      "source": [
        "# **Description**"
      ]
    },
    {
      "cell_type": "markdown",
      "metadata": {
        "id": "WRyA5sjQFKRh",
        "colab_type": "text"
      },
      "source": [
        "Build distribution charts in spam and non-spam sets of the following features:\n",
        "\n",
        "1 Number of words per page\n",
        "2 Average word length\n",
        "3 Number of words in the page title (words in the <html><head> <title> Some text </title> tag)\n",
        "4 Number of words in link anchors (<html> <body> <a> Some text </a>)\n",
        "5 compression ratio\n",
        "\n",
        "It is necessary to calculate the statistics for at least three signs and be sure to do for the 1st and 2nd signs\n",
        "\n",
        "And send the first decision to the competition https://kaggle.com/join/antispam_infopoisk\n",
        "Based on one of the above signs, try to divide the number so that the score in the competition is more than 0.55\n",
        "\n",
        "If all these conditions are met during the seminar, +1 point to DZ\n",
        "\n",
        "Description of DZ and the rules for setting points for it at https://inclass.kaggle.com/c/antispam-infopoisk\n",
        "To specify the terms of DZ with the teacher - usually 2 weeks"
      ]
    },
    {
      "cell_type": "code",
      "metadata": {
        "id": "kKclE4mPLOIG",
        "colab_type": "code",
        "colab": {
          "base_uri": "https://localhost:8080/",
          "height": 34
        },
        "outputId": "ac40f917-6d7d-4aca-8081-6a383423bc05"
      },
      "source": [
        "from google.colab import drive\n",
        "drive.mount('/content/drive')"
      ],
      "execution_count": 2,
      "outputs": [
        {
          "output_type": "stream",
          "text": [
            "Drive already mounted at /content/drive; to attempt to forcibly remount, call drive.mount(\"/content/drive\", force_remount=True).\n"
          ],
          "name": "stdout"
        }
      ]
    },
    {
      "cell_type": "code",
      "metadata": {
        "id": "0UNKLZCYFKRj",
        "colab_type": "code",
        "colab": {}
      },
      "source": [
        "from importlib import reload"
      ],
      "execution_count": 0,
      "outputs": []
    },
    {
      "cell_type": "code",
      "metadata": {
        "id": "DKJ-rZQ7FKRn",
        "colab_type": "code",
        "colab": {
          "base_uri": "https://localhost:8080/",
          "height": 51
        },
        "outputId": "135a5adf-18ef-4087-8e21-2c272a84cdb3"
      },
      "source": [
        "from __future__ import division\n",
        "! pip install ftfy\n",
        "\n",
        "import base64\n",
        "import csv\n",
        "import gzip\n",
        "import zlib\n",
        "import ftfy\n",
        "\n",
        "from collections import namedtuple\n",
        "\n",
        "%matplotlib inline\n",
        "import matplotlib.pyplot as plt"
      ],
      "execution_count": 4,
      "outputs": [
        {
          "output_type": "stream",
          "text": [
            "Requirement already satisfied: ftfy in /usr/local/lib/python3.6/dist-packages (5.6)\n",
            "Requirement already satisfied: wcwidth in /usr/local/lib/python3.6/dist-packages (from ftfy) (0.1.7)\n"
          ],
          "name": "stdout"
        }
      ]
    },
    {
      "cell_type": "code",
      "metadata": {
        "id": "copo5Eo-FKRq",
        "colab_type": "code",
        "colab": {}
      },
      "source": [
        "TRACE_NUM = 1000\n",
        "import logging\n",
        "reload(logging)\n",
        "logging.basicConfig(format='%(asctime)s %(levelname)s:%(message)s', level=logging.INFO, datefmt='%H:%M:%S')\n",
        "\n",
        "def trace(items_num, trace_num=TRACE_NUM):\n",
        "    if items_num % trace_num == 0: logging.info(\"Complete items %05d\" % items_num)"
      ],
      "execution_count": 0,
      "outputs": []
    },
    {
      "cell_type": "markdown",
      "metadata": {
        "id": "J9THHP1aFKR3",
        "colab_type": "text"
      },
      "source": [
        "### Utilities"
      ]
    },
    {
      "cell_type": "markdown",
      "metadata": {
        "id": "zvHqpTPbFKR4",
        "colab_type": "text"
      },
      "source": [
        "#### Decorators"
      ]
    },
    {
      "cell_type": "code",
      "metadata": {
        "id": "UhRV4hNQFKR5",
        "colab_type": "code",
        "colab": {}
      },
      "source": [
        "def to_utf8(text):\n",
        "    if isinstance(text, str): text = text.encode(\"ISO-8859-1\")\n",
        "    return text\n",
        "\n",
        "def convert2unicode(f):\n",
        "    def tmp(text):\n",
        "        if not isinstance(text, str): text = ftfy.fix_text(text.decode(\"latin-1\"))\n",
        "        return f(text)\n",
        "    return tmp\n",
        "\n",
        "def convert2lower(f):\n",
        "    def tmp(text):        \n",
        "        return f(text.lower())\n",
        "    return tmp\n",
        "\n",
        "#P.S. Decorators can complicate debugging, so you can completely discard them and use copy-paste"
      ],
      "execution_count": 0,
      "outputs": []
    },
    {
      "cell_type": "markdown",
      "metadata": {
        "id": "7LuvbeBFFKR8",
        "colab_type": "text"
      },
      "source": [
        "### Extract text from html"
      ]
    },
    {
      "cell_type": "markdown",
      "metadata": {
        "id": "i_0M7qHwFKR9",
        "colab_type": "text"
      },
      "source": [
        "#### Extraction of text using built-in modules"
      ]
    },
    {
      "cell_type": "code",
      "metadata": {
        "id": "YqWvb1iDFKR-",
        "colab_type": "code",
        "colab": {}
      },
      "source": [
        "from html.parser import HTMLParser\n",
        "import re\n",
        "\n",
        "###Extracting text from title can be entered here\n",
        "\n",
        "class TextHTMLParser(HTMLParser):\n",
        "    def __init__(self):\n",
        "        HTMLParser.__init__(self)\n",
        "        self._text = []\n",
        "        self._title = \"\"\n",
        "        self._in_title = False\n",
        "\n",
        "    def handle_data(self, data):\n",
        "        text = data.strip()\n",
        "        if len(text) > 0:\n",
        "            text = re.sub('[ \\t\\r\\n]+', ' ', text)\n",
        "            self._text.append(text + ' ')\n",
        "\n",
        "    def handle_starttag(self, tag, attrs):\n",
        "        if tag == 'p':\n",
        "            self._text.append('\\n\\n')\n",
        "        elif tag == 'br':\n",
        "            self._text.append('\\n')\n",
        "        elif tag == 'title':\n",
        "            self._in_title = True\n",
        "\n",
        "    def handle_startendtag(self, tag, attrs):\n",
        "        if tag == 'br':\n",
        "            self._text.append('\\n\\n')\n",
        "\n",
        "    def text(self):\n",
        "        return ''.join(self._text).strip()\n",
        "    \n",
        "    def extract_title(self):\n",
        "        soup = BeautifulSoup(text)\n",
        "        if soup.title != None:\n",
        "            self._title = soup.title.string\n",
        "\n",
        "@convert2unicode\n",
        "def html2text_parser(text):\n",
        "    parser = TextHTMLParser()\n",
        "    parser.feed(text)\n",
        "    soup = BeautifulSoup(text)\n",
        "    title = \"\"\n",
        "    if soup.title != None:\n",
        "        title = soup.title.string\n",
        "    anchor = \"\"\n",
        "    if soup.find('a') != None:\n",
        "        anchor = soup.find('a').text\n",
        "        \n",
        "    return parser.text(), title, anchor"
      ],
      "execution_count": 0,
      "outputs": []
    },
    {
      "cell_type": "code",
      "metadata": {
        "id": "cUdYn1GZFKSM",
        "colab_type": "code",
        "colab": {}
      },
      "source": [
        "from bs4 import BeautifulSoup"
      ],
      "execution_count": 0,
      "outputs": []
    },
    {
      "cell_type": "markdown",
      "metadata": {
        "id": "QT9uTuduFKSP",
        "colab_type": "text"
      },
      "source": [
        "#### Extraction of text using additional libraries"
      ]
    },
    {
      "cell_type": "code",
      "metadata": {
        "id": "bSLvdnTwFKSQ",
        "colab_type": "code",
        "colab": {}
      },
      "source": [
        "def html2text_bs(raw_html):\n",
        "    \"\"\"\n",
        "    Here is the extraction of text from html\n",
        "    \"\"\"\n",
        "    soup = BeautifulSoup(raw_html, \"html.parser\")\n",
        "    [s.extract() for s in soup(['script', 'style'])]\n",
        "    return soup.get_text()\n",
        "\n",
        "def html2text_bs_visible(raw_html):\n",
        "    \"\"\"\n",
        "    Here the text is extracted from the html, which is visible to the user\n",
        "    \"\"\"\n",
        "    soup = BeautifulSoup(raw_html, \"html.parser\")    \n",
        "    [s.extract() for s in soup(['style', 'script', '[document]', 'head', 'title'])]\n",
        "    return soup.get_text()\n",
        "\n",
        "def html2text_boilerpipe(raw_html):\n",
        "    import boilerpipe\n",
        "    \"\"\"\n",
        "    another library that extracts the text that is visible to the user very well,\n",
        "    but it is tied to java\n",
        "    \"\"\"\n",
        "    pass"
      ],
      "execution_count": 0,
      "outputs": []
    },
    {
      "cell_type": "markdown",
      "metadata": {
        "id": "jhCYaBrUFKSS",
        "colab_type": "text"
      },
      "source": [
        "#### Choose which method to convert html to text will be the main"
      ]
    },
    {
      "cell_type": "code",
      "metadata": {
        "id": "v4TbVCvTFKST",
        "colab_type": "code",
        "colab": {}
      },
      "source": [
        "#html2text = html2text_bs\n",
        "html2text = html2text_parser"
      ],
      "execution_count": 0,
      "outputs": []
    },
    {
      "cell_type": "markdown",
      "metadata": {
        "id": "2Q5wT31lFKSh",
        "colab_type": "text"
      },
      "source": [
        "#### Methods for tokenizing text"
      ]
    },
    {
      "cell_type": "code",
      "metadata": {
        "id": "T86B3ewlFKSi",
        "colab_type": "code",
        "colab": {}
      },
      "source": [
        "@convert2lower\n",
        "@convert2unicode\n",
        "def easy_tokenizer(text):\n",
        "    word = str()\n",
        "    for symbol in text:\n",
        "        if symbol.isalnum(): word += symbol\n",
        "        elif word:\n",
        "            yield word\n",
        "            word = str()\n",
        "    if word: yield word\n",
        "\n",
        "PYMORPHY_CACHE = {}\n",
        "MORPH = None\n",
        "#hint so that installing pymorphy2 would not be required\n",
        "def get_lemmatizer():\n",
        "    import pymorphy2\n",
        "    global MORPH\n",
        "    if MORPH is None: MORPH = pymorphy2.MorphAnalyzer()\n",
        "    return MORPH\n",
        "\n",
        "@convert2lower\n",
        "@convert2unicode\n",
        "def pymorphy_tokenizer(text):\n",
        "    global PYMORPHY_CACHE\n",
        "    for word in easy_tokenizer(text):\n",
        "        word_hash = hash(word)\n",
        "        if word_hash not in PYMORPHY_CACHE:\n",
        "            PYMORPHY_CACHE[word_hash] = get_lemmatizer().parse(word)[0].normal_form            \n",
        "        yield PYMORPHY_CACHE[word_hash]"
      ],
      "execution_count": 0,
      "outputs": []
    },
    {
      "cell_type": "markdown",
      "metadata": {
        "id": "RIyGsgTlFKSk",
        "colab_type": "text"
      },
      "source": [
        "#### The main function that is called to convert html to a list of words"
      ]
    },
    {
      "cell_type": "code",
      "metadata": {
        "id": "2X1UAO8vFKSm",
        "colab_type": "code",
        "colab": {}
      },
      "source": [
        "def html2word(raw_html, to_text=html2text, tokenizer=easy_tokenizer):\n",
        "    text, title, anchor = to_text(raw_html)\n",
        "    if title == None:\n",
        "        title = \"\"\n",
        "    if anchor == None:\n",
        "        anchor = \"\"\n",
        "    return tokenizer(text.lower()), tokenizer(title.lower()), tokenizer(anchor.lower())"
      ],
      "execution_count": 0,
      "outputs": []
    },
    {
      "cell_type": "markdown",
      "metadata": {
        "id": "-xsD-itEFKSo",
        "colab_type": "text"
      },
      "source": [
        "#### Calculation of final metrics"
      ]
    },
    {
      "cell_type": "code",
      "metadata": {
        "id": "ofdA3Od0FKSp",
        "colab_type": "code",
        "colab": {}
      },
      "source": [
        "def safe_divide(a, b):\n",
        "    if a == 0: return 0.0\n",
        "    elif b == 0: return 0.0\n",
        "    else: return a/b\n",
        "\n",
        "def calculate_metrics(predictions, threshold):    \n",
        "    \"\"\"\n",
        "    Metric counting function\n",
        "    Options\n",
        "    predictions - document rank\n",
        "    threshold - threshold for metrics\n",
        "    \"\"\"\n",
        "    true_positive = 0\n",
        "    false_positive = 0\n",
        "    true_negative = 0\n",
        "    false_negative = 0\n",
        "    for (url_id, mark, url, prediction) in predictions:        \n",
        "        mark_predict = prediction > threshold\n",
        "\n",
        "        if mark_predict:                     \n",
        "            if mark_predict == mark: true_positive += 1\n",
        "            else: false_positive += 1                    \n",
        "        else:                     \n",
        "            if  mark_predict == mark: true_negative += 1\n",
        "            else: false_negative += 1\n",
        "\n",
        "    class_prec  = safe_divide(true_positive, true_positive + false_positive)\n",
        "    class_recall = safe_divide(true_positive, true_positive + false_negative)\n",
        "        \n",
        "    class_F1 = safe_divide(2 * class_prec * class_recall, class_prec + class_recall)\n",
        "    \n",
        "    \n",
        "    not_class_prec = safe_divide(true_negative, true_negative + false_negative)\n",
        "    not_class_recall = safe_divide(true_negative, true_negative + false_positive)\n",
        "    \n",
        "    not_class_F1 = safe_divide(2 * not_class_prec * not_class_recall, not_class_prec + not_class_recall)\n",
        "    \n",
        "    return ( (class_prec, class_recall, class_F1), (not_class_prec, not_class_recall, not_class_F1) )\n",
        "\n",
        "def arange(start, stop, step):\n",
        "    cur_value = start\n",
        "    while True:\n",
        "        if cur_value > stop: break\n",
        "        yield cur_value\n",
        "        cur_value += step\n",
        "\n",
        "def plot_results(docs, min_threshold=-1, max_threshold=1, step=0.1, trace=False):\n",
        "    x = []\n",
        "    y_p = []\n",
        "    y_n = []\n",
        "    docs_predictions = classifier.predict_all(docs)\n",
        "    for threshold in arange(min_threshold, max_threshold, step):\n",
        "        r = calculate_metrics(docs_predictions, threshold)\n",
        "        x.append(threshold)\n",
        "        y_p.append(r[0])\n",
        "        y_n.append(r[1])        \n",
        "        if trace: \n",
        "            print('threshold %s' % threshold)\n",
        "            print('\\tclass_prec %s, class_recall %s, class_F1 %s' % r[0])\n",
        "            print('\\tnot_class_prec %s, not_class_recall %s, not_class_F1 %s' % r[1])\n",
        "            print('\\t\\tMacroF1Mesure %s' % ((r[0][2] + r[1][2])/2))\n",
        "    plot_stats(x, y_p, \"Class Result\")\n",
        "    plot_stats(x, y_n, \"Not class Result\")    \n",
        "\n",
        "\n",
        "def plot_stats(x, y, title):\n",
        "    plt.figure(figsize=(10, 5))\n",
        "\n",
        "    prec, = plt.plot( x, \n",
        "                     [k[0] for k in y], \"r\", label='Precision', \n",
        "                     linewidth=1)\n",
        "    accur, = plt.plot( x, \n",
        "                      [k[1] for k in y], \"b\", label='Recall',\n",
        "                      linewidth=1)\n",
        "    f1, =    plt.plot( x, \n",
        "                      [k[2] for k in y], \"g\", label='F1',\n",
        "                      linewidth=1)\n",
        "    plt.grid(True)\n",
        "    plt.legend(handles=[prec, accur, f1])\n",
        "    plt.title(title)\n",
        "    plt.show()"
      ],
      "execution_count": 0,
      "outputs": []
    },
    {
      "cell_type": "code",
      "metadata": {
        "id": "Xv6SBN1HFKSs",
        "colab_type": "code",
        "colab": {}
      },
      "source": [
        "def calc_features(url, html_data):\n",
        "    words, title, anchor = html2word(html_data)\n",
        "\n",
        "    anchor = list(anchor)\n",
        "    words = list(words)\n",
        "    title = list(title)\n",
        "    words_num = len(words)\n",
        "    # print(words, title, anchor)\n",
        "    \n",
        "    avg_word_len = 0\n",
        "    for word in words:\n",
        "        avg_word_len += len(word)\n",
        "    avg_word_len = avg_word_len/words_num\n",
        "    title_words_num = len(title)    \n",
        "    anchor_words_num = len(anchor)\n",
        "    compression_level = 0\n",
        "    \n",
        "    return [len(words), avg_word_len, title_words_num, anchor_words_num, compression_level, words]"
      ],
      "execution_count": 0,
      "outputs": []
    },
    {
      "cell_type": "code",
      "metadata": {
        "id": "Q2uDbfD6FKSx",
        "colab_type": "code",
        "colab": {
          "base_uri": "https://localhost:8080/",
          "height": 34
        },
        "outputId": "6936a89a-30f9-477b-98ae-627082609927"
      },
      "source": [
        "test_html_data = u'''\n",
        "<html>\n",
        "<title> Заголовок Ololo </title>\n",
        "спам 1 2 3\n",
        "'<html><body><a> Some text </a>'\n",
        "</html>\n",
        "'''\n",
        "test_url = 'http://ololo'\n",
        "test_features = calc_features(test_url, test_html_data)\n",
        "print(test_features)"
      ],
      "execution_count": 15,
      "outputs": [
        {
          "output_type": "stream",
          "text": [
            "[8, 3.625, 2, 2, 0, ['заголовок', 'ololo', 'спам', '1', '2', '3', 'some', 'text']]\n"
          ],
          "name": "stdout"
        }
      ]
    },
    {
      "cell_type": "code",
      "metadata": {
        "id": "UBqahAcbKzRc",
        "colab_type": "code",
        "colab": {}
      },
      "source": [
        ""
      ],
      "execution_count": 0,
      "outputs": []
    },
    {
      "cell_type": "code",
      "metadata": {
        "id": "DoAquNqDFKS2",
        "colab_type": "code",
        "colab": {}
      },
      "source": [
        "DocItem = namedtuple('DocItem', ['doc_id', 'is_spam', 'url', 'features', 'words'])\n",
        "\n",
        "def load_csv(input_file_name, calc_features_f):    \n",
        "    \"\"\"\n",
        "    We load data and extract signs on the fly\n",
        "    Content itself is not saved to reduce memory consumption - to\n",
        "    could run even on laptops in class\n",
        "    \"\"\"\n",
        "    \n",
        "    with gzip.open(input_file_name) if input_file_name.endswith('gz') else open(input_file_name)  as input_file:            \n",
        "        headers = input_file.readline()\n",
        "        \n",
        "        for i, line in enumerate(input_file):\n",
        "            trace(i)\n",
        "            line = line.decode()\n",
        "            parts = line.strip().split('\\t')\n",
        "            url_id = int(parts[0])                                        \n",
        "            mark = bool(int(parts[1]))                    \n",
        "            url = parts[2]\n",
        "            pageInb64 = parts[3]\n",
        "            html_data = base64.b64decode(pageInb64)\n",
        "            features = calc_features_f(url, html_data)      \n",
        "            yield DocItem(url_id, mark, url, features[:-1], features[-1])            \n",
        "                \n",
        "        trace(i, 1)        "
      ],
      "execution_count": 0,
      "outputs": []
    },
    {
      "cell_type": "markdown",
      "metadata": {
        "id": "dVX02vXFFKS5",
        "colab_type": "text"
      },
      "source": [
        "** We process the input file **\n",
        "<br>\n",
        "Format - fields separated by tabs\n",
        "<br>\n",
        "0 - document id\n",
        "<br>\n",
        "1 - class label 0 - not spam, 1 - spam\n",
        "<br>\n",
        "2 - url of the document\n",
        "<br>\n",
        "3 - base64 encoded document\n",
        "#### I Added\n",
        "4 - Words\n",
        "\n",
        "The output format is an array of tuples of the form\n",
        "(doc_id, is_spam, url, html_data, **words**)"
      ]
    },
    {
      "cell_type": "code",
      "metadata": {
        "id": "AnWRNVrGFKS6",
        "colab_type": "code",
        "colab": {}
      },
      "source": [
        "import pandas as pd\n"
      ],
      "execution_count": 0,
      "outputs": []
    },
    {
      "cell_type": "code",
      "metadata": {
        "id": "razvhBSWLjXD",
        "colab_type": "code",
        "colab": {}
      },
      "source": [
        "import os"
      ],
      "execution_count": 0,
      "outputs": []
    },
    {
      "cell_type": "code",
      "metadata": {
        "id": "VwotNoKFMpeP",
        "colab_type": "code",
        "colab": {
          "base_uri": "https://localhost:8080/",
          "height": 34
        },
        "outputId": "4ccfb491-c70f-4b3b-fda0-0bd960e43e16"
      },
      "source": [
        "os.path.exists('drive/My Drive/Homeworks/InformationRetrieval/hw3/kaggle_test_data_tab_new.csv.gz')"
      ],
      "execution_count": 19,
      "outputs": [
        {
          "output_type": "execute_result",
          "data": {
            "text/plain": [
              "True"
            ]
          },
          "metadata": {
            "tags": []
          },
          "execution_count": 19
        }
      ]
    },
    {
      "cell_type": "code",
      "metadata": {
        "scrolled": true,
        "id": "EyAxcb76FKS8",
        "colab_type": "code",
        "colab": {
          "base_uri": "https://localhost:8080/",
          "height": 204
        },
        "outputId": "d4d27dd4-40a9-428e-d678-798f65d4e692"
      },
      "source": [
        "%%time\n",
        "\n",
        "file_location = 'drive/My Drive/Homeworks/InformationRetrieval/hw3/kaggle_train_data_tab_new.csv.gz'\n",
        "TRAIN_DATA_FILE  = file_location\n",
        "\n",
        "train_docs = list(load_csv(TRAIN_DATA_FILE, calc_features))"
      ],
      "execution_count": 20,
      "outputs": [
        {
          "output_type": "stream",
          "text": [
            "12:57:02 INFO:Complete items 00000\n",
            "12:59:19 INFO:Complete items 01000\n",
            "13:01:07 INFO:Complete items 02000\n",
            "13:03:05 INFO:Complete items 03000\n",
            "13:05:04 INFO:Complete items 04000\n",
            "13:07:06 INFO:Complete items 05000\n",
            "13:09:05 INFO:Complete items 06000\n",
            "13:11:16 INFO:Complete items 07000\n",
            "13:11:20 INFO:Complete items 07043\n"
          ],
          "name": "stderr"
        },
        {
          "output_type": "stream",
          "text": [
            "CPU times: user 14min 14s, sys: 3.95 s, total: 14min 18s\n",
            "Wall time: 14min 18s\n"
          ],
          "name": "stdout"
        }
      ]
    },
    {
      "cell_type": "code",
      "metadata": {
        "id": "xni4l3kRFKTF",
        "colab_type": "code",
        "colab": {
          "base_uri": "https://localhost:8080/",
          "height": 281
        },
        "outputId": "b1c7d8fe-03e1-4e3e-a186-9af17925d8b3"
      },
      "source": [
        "is_spam_data = [doc.features[0] for doc in train_docs if doc[1] == True]\n",
        "not_spam_data = [doc.features[0] for doc in train_docs if doc[1] == False]\n",
        "bins = range(0,3000,10)\n",
        "plt.hist(is_spam_data, bins=bins, color='red', density=True, alpha=0.7, label='spam')\n",
        "plt.hist(not_spam_data, bins=bins, color='blue', density=True, alpha=0.7, label='not_spam')\n",
        "plt.title('NumWords')\n",
        "plt.legend()\n",
        "plt.show()"
      ],
      "execution_count": 21,
      "outputs": [
        {
          "output_type": "display_data",
          "data": {
            "image/png": "[encoded data removed]",
            "text/plain": [
              "<Figure size 432x288 with 1 Axes>"
            ]
          },
          "metadata": {
            "tags": []
          }
        }
      ]
    },
    {
      "cell_type": "code",
      "metadata": {
        "id": "Dqii3KnHFKTK",
        "colab_type": "code",
        "colab": {
          "base_uri": "https://localhost:8080/",
          "height": 281
        },
        "outputId": "4e74c0c2-b9b5-4b8c-9c34-e0fce5c06e00"
      },
      "source": [
        "is_spam_data = [doc.features[1] for doc in train_docs if doc[1] == True]\n",
        "not_spam_data = [doc.features[1] for doc in train_docs if doc[1] == False]\n",
        "bins = 100\n",
        "plt.hist(is_spam_data, bins=bins, color='red', density=True, alpha=0.7, label='spam')\n",
        "plt.hist(not_spam_data, bins=bins, color='blue', density=True, alpha=0.7, label='not_spam')\n",
        "plt.title('AvgWordLen')\n",
        "plt.legend()\n",
        "plt.show()"
      ],
      "execution_count": 22,
      "outputs": [
        {
          "output_type": "display_data",
          "data": {
            "image/png": "[encoded data removed]",
            "text/plain": [
              "<Figure size 432x288 with 1 Axes>"
            ]
          },
          "metadata": {
            "tags": []
          }
        }
      ]
    },
    {
      "cell_type": "code",
      "metadata": {
        "id": "byGNhtEIFKTc",
        "colab_type": "code",
        "colab": {
          "base_uri": "https://localhost:8080/",
          "height": 383
        },
        "outputId": "64dda4d3-be41-4e90-f197-347922e26d11"
      },
      "source": [
        "is_spam_data = [doc.features[3] for doc in train_docs if doc[1] == True]\n",
        "not_spam_data = [doc.features[3] for doc in train_docs if doc[1] == False]\n",
        "bins = range(0, 30, 1)\n",
        "plt.hist(is_spam_data, bins=bins, color='red', normed=True, alpha=0.7, label='spam')\n",
        "plt.hist(not_spam_data, bins=bins, color='blue', normed=True, alpha=0.7, label='not_spam')\n",
        "plt.title('NumWordsTitle')\n",
        "plt.legend()\n",
        "plt.show()"
      ],
      "execution_count": 23,
      "outputs": [
        {
          "output_type": "stream",
          "text": [
            "/usr/local/lib/python3.6/dist-packages/ipykernel_launcher.py:4: MatplotlibDeprecationWarning: \n",
            "The 'normed' kwarg was deprecated in Matplotlib 2.1 and will be removed in 3.1. Use 'density' instead.\n",
            "  after removing the cwd from sys.path.\n",
            "/usr/local/lib/python3.6/dist-packages/ipykernel_launcher.py:5: MatplotlibDeprecationWarning: \n",
            "The 'normed' kwarg was deprecated in Matplotlib 2.1 and will be removed in 3.1. Use 'density' instead.\n",
            "  \"\"\"\n"
          ],
          "name": "stderr"
        },
        {
          "output_type": "display_data",
          "data": {
            "image/png": "[encoded data removed]",
            "text/plain": [
              "<Figure size 432x288 with 1 Axes>"
            ]
          },
          "metadata": {
            "tags": []
          }
        }
      ]
    },
    {
      "cell_type": "code",
      "metadata": {
        "id": "TTcm8yKfFKTr",
        "colab_type": "code",
        "colab": {}
      },
      "source": [
        "# Add graphics for other features"
      ],
      "execution_count": 0,
      "outputs": []
    },
    {
      "cell_type": "markdown",
      "metadata": {
        "id": "Z8znQ-nVFKTv",
        "colab_type": "text"
      },
      "source": [
        "** Classifier: **\n",
        "Need to implement"
      ]
    },
    {
      "cell_type": "code",
      "metadata": {
        "id": "ZKcw-Qbu2nYN",
        "colab_type": "code",
        "colab": {}
      },
      "source": [
        "from sklearn.feature_extraction.text import TfidfVectorizer\n",
        "from sklearn.feature_extraction.text import CountVectorizer\n",
        "from sklearn.neural_network import MLPClassifier\n",
        "from sklearn.ensemble import RandomForestClassifier\n",
        "from sklearn.model_selection import train_test_split\n",
        "from sklearn.svm import SVC\n",
        "\n",
        "from sklearn.metrics import accuracy_score\n",
        "\n",
        "import numpy as np\n"
      ],
      "execution_count": 0,
      "outputs": []
    },
    {
      "cell_type": "code",
      "metadata": {
        "id": "tfS6PPyi1svC",
        "colab_type": "code",
        "colab": {}
      },
      "source": [
        "train_data = pd.DataFrame(train_docs)\n",
        "X_train = train_data['words'].apply(' '.join)\n",
        "y_train = train_data['is_spam'].replace({True: 1, False: 0})"
      ],
      "execution_count": 0,
      "outputs": []
    },
    {
      "cell_type": "code",
      "metadata": {
        "id": "UetBZOSP3XcO",
        "colab_type": "code",
        "colab": {}
      },
      "source": [
        "tf = TfidfVectorizer()\n",
        "X_train = tf.fit_transform(X_train)"
      ],
      "execution_count": 0,
      "outputs": []
    },
    {
      "cell_type": "code",
      "metadata": {
        "id": "XWChFwE42df9",
        "colab_type": "code",
        "colab": {
          "base_uri": "https://localhost:8080/",
          "height": 34
        },
        "outputId": "546c90e1-838e-4196-e1a7-f96ab7237d0f"
      },
      "source": [
        "X_train.shape, y_train.shape"
      ],
      "execution_count": 28,
      "outputs": [
        {
          "output_type": "execute_result",
          "data": {
            "text/plain": [
              "((7044, 632797), (7044,))"
            ]
          },
          "metadata": {
            "tags": []
          },
          "execution_count": 28
        }
      ]
    },
    {
      "cell_type": "code",
      "metadata": {
        "id": "WLM3UNcn1N-A",
        "colab_type": "code",
        "colab": {}
      },
      "source": [
        "X_train, X_test, y_train, y_test = train_test_split(X_train, y_train, test_size=0.2)"
      ],
      "execution_count": 0,
      "outputs": []
    },
    {
      "cell_type": "code",
      "metadata": {
        "id": "Om06ZKrQW176",
        "colab_type": "code",
        "colab": {
          "base_uri": "https://localhost:8080/",
          "height": 989
        },
        "outputId": "c78306f0-564b-4d11-c26b-5f362ab26ae1"
      },
      "source": [
        "models = [MLPClassifier, RandomForestClassifier, SVC]\n",
        "accuracy = []\n",
        "trained_models = []\n",
        "for model in models:\n",
        "    m = model(verbose=True)\n",
        "    m.fit(X_train, y_train)\n",
        "    output = m.predict(X_test)\n",
        "    acc = accuracy_score(output, y_test)\n",
        "    print(f'Accuracy : {acc:.4f}%')\n",
        "\n",
        "    accuracy.append(acc)\n",
        "    trained_models.append(m)"
      ],
      "execution_count": 30,
      "outputs": [
        {
          "output_type": "stream",
          "text": [
            "Iteration 1, loss = 0.54993798\n",
            "Iteration 2, loss = 0.24809562\n",
            "Iteration 3, loss = 0.11818287\n",
            "Iteration 4, loss = 0.06684747\n",
            "Iteration 5, loss = 0.04301014\n",
            "Iteration 6, loss = 0.03052526\n",
            "Iteration 7, loss = 0.02321568\n",
            "Iteration 8, loss = 0.01871268\n",
            "Iteration 9, loss = 0.01564856\n",
            "Iteration 10, loss = 0.01342359\n",
            "Iteration 11, loss = 0.01184358\n",
            "Iteration 12, loss = 0.01062684\n",
            "Iteration 13, loss = 0.00960382\n",
            "Iteration 14, loss = 0.00882661\n",
            "Iteration 15, loss = 0.00816573\n",
            "Iteration 16, loss = 0.00761375\n",
            "Iteration 17, loss = 0.00717191\n",
            "Iteration 18, loss = 0.00678036\n",
            "Iteration 19, loss = 0.00642716\n",
            "Iteration 20, loss = 0.00612971\n",
            "Iteration 21, loss = 0.00587121\n",
            "Iteration 22, loss = 0.00563902\n",
            "Iteration 23, loss = 0.00541524\n",
            "Iteration 24, loss = 0.00521820\n",
            "Iteration 25, loss = 0.00504531\n",
            "Iteration 26, loss = 0.00487996\n",
            "Iteration 27, loss = 0.00472899\n",
            "Iteration 28, loss = 0.00459071\n",
            "Iteration 29, loss = 0.00445398\n",
            "Iteration 30, loss = 0.00433535\n",
            "Iteration 31, loss = 0.00421598\n",
            "Iteration 32, loss = 0.00410205\n",
            "Iteration 33, loss = 0.00399931\n",
            "Iteration 34, loss = 0.00390107\n",
            "Iteration 35, loss = 0.00380937\n",
            "Iteration 36, loss = 0.00372394\n",
            "Iteration 37, loss = 0.00364228\n",
            "Iteration 38, loss = 0.00356002\n",
            "Iteration 39, loss = 0.00347988\n",
            "Iteration 40, loss = 0.00340450\n",
            "Iteration 41, loss = 0.00333258\n",
            "Iteration 42, loss = 0.00326402\n",
            "Iteration 43, loss = 0.00320300\n",
            "Iteration 44, loss = 0.00313848\n",
            "Training loss did not improve more than tol=0.000100 for 10 consecutive epochs. Stopping.\n",
            "Accuracy : 0.9702%\n"
          ],
          "name": "stdout"
        },
        {
          "output_type": "stream",
          "text": [
            "/usr/local/lib/python3.6/dist-packages/sklearn/ensemble/forest.py:245: FutureWarning: The default value of n_estimators will change from 10 in version 0.20 to 100 in 0.22.\n",
            "  \"10 in version 0.20 to 100 in 0.22.\", FutureWarning)\n",
            "[Parallel(n_jobs=1)]: Using backend SequentialBackend with 1 concurrent workers.\n",
            "[Parallel(n_jobs=1)]: Done  10 out of  10 | elapsed:    2.9s finished\n",
            "[Parallel(n_jobs=1)]: Using backend SequentialBackend with 1 concurrent workers.\n",
            "[Parallel(n_jobs=1)]: Done  10 out of  10 | elapsed:    0.1s finished\n"
          ],
          "name": "stderr"
        },
        {
          "output_type": "stream",
          "text": [
            "Accuracy : 0.9461%\n"
          ],
          "name": "stdout"
        },
        {
          "output_type": "stream",
          "text": [
            "/usr/local/lib/python3.6/dist-packages/sklearn/svm/base.py:193: FutureWarning: The default value of gamma will change from 'auto' to 'scale' in version 0.22 to account better for unscaled features. Set gamma explicitly to 'auto' or 'scale' to avoid this warning.\n",
            "  \"avoid this warning.\", FutureWarning)\n"
          ],
          "name": "stderr"
        },
        {
          "output_type": "stream",
          "text": [
            "[LibSVM]Accuracy : 0.5919%\n"
          ],
          "name": "stdout"
        }
      ]
    },
    {
      "cell_type": "code",
      "metadata": {
        "id": "rgmUlxFnW2H9",
        "colab_type": "code",
        "colab": {}
      },
      "source": [
        "best_model = trained_models[0]"
      ],
      "execution_count": 0,
      "outputs": []
    },
    {
      "cell_type": "code",
      "metadata": {
        "id": "gQI_CHR_FKWI",
        "colab_type": "code",
        "colab": {
          "base_uri": "https://localhost:8080/",
          "height": 357
        },
        "outputId": "6c52d813-88dc-4729-d0a7-375f1dea6909"
      },
      "source": [
        "%%time\n",
        "test_file_location = 'drive/My Drive/Homeworks/InformationRetrieval/hw3/kaggle_test_data_tab_new.csv.gz'\n",
        "\n",
        "TEST_DATA_FILE  = test_file_location\n",
        "# TEST_DATA_FILE  = 'kaggle/kaggle_train_data_tab_300.csv.gz'\n",
        "# test_docs = list(load_csv(TEST_DATA_FILE, calc_features))"
      ],
      "execution_count": 36,
      "outputs": [
        {
          "output_type": "stream",
          "text": [
            "13:56:23 INFO:Complete items 00000\n",
            "13:59:26 INFO:Complete items 01000\n",
            "14:02:07 INFO:Complete items 02000\n",
            "14:04:36 INFO:Complete items 03000\n",
            "14:06:50 INFO:Complete items 04000\n",
            "14:09:00 INFO:Complete items 05000\n",
            "14:11:43 INFO:Complete items 06000\n",
            "14:14:02 INFO:Complete items 07000\n",
            "14:16:30 INFO:Complete items 08000\n",
            "14:18:53 INFO:Complete items 09000\n",
            "14:22:00 INFO:Complete items 10000\n",
            "14:24:23 INFO:Complete items 11000\n",
            "14:26:45 INFO:Complete items 12000\n",
            "14:28:50 INFO:Complete items 13000\n",
            "14:31:22 INFO:Complete items 14000\n",
            "14:34:02 INFO:Complete items 15000\n",
            "14:36:46 INFO:Complete items 16000\n",
            "14:36:54 INFO:Complete items 16038\n"
          ],
          "name": "stderr"
        },
        {
          "output_type": "stream",
          "text": [
            "CPU times: user 40min 21s, sys: 8.31 s, total: 40min 29s\n",
            "Wall time: 40min 31s\n"
          ],
          "name": "stdout"
        }
      ]
    },
    {
      "cell_type": "code",
      "metadata": {
        "id": "iWyimyl6mG4i",
        "colab_type": "code",
        "colab": {}
      },
      "source": [
        "# test_data = pd.DataFrame(test_docs)\n",
        "# test_data['words'] = train_data['words'].apply(' '.join)\n",
        "# # X_test_o = tf.transform(test_data['words'])\n",
        "# # output = best_model.predict(X_test_o)\n",
        "# X_test_o = test_data['words']"
      ],
      "execution_count": 0,
      "outputs": []
    },
    {
      "cell_type": "code",
      "metadata": {
        "id": "TvLrCm8S1x79",
        "colab_type": "code",
        "colab": {}
      },
      "source": [
        ""
      ],
      "execution_count": 0,
      "outputs": []
    },
    {
      "cell_type": "code",
      "metadata": {
        "id": "jZoWQe4fy0iD",
        "colab_type": "code",
        "colab": {
          "base_uri": "https://localhost:8080/",
          "height": 275
        },
        "outputId": "0ad2776c-7e9d-45ab-d0aa-543db14d6b34"
      },
      "source": [
        "# for t in temp:\n",
        "#     line = ' '.join(t.words)\n",
        "#     print(line)\n",
        "#     line = tf.transform([line])\n",
        "#     print(best_model.predict(line))"
      ],
      "execution_count": 76,
      "outputs": [
        {
          "output_type": "stream",
          "text": [
            "17 апреля в мажилисе состоится презентация проекта кодекса о браке супружестве и семье номад td cent font size 10pt color 000000 font family arial sans serif helvetica a a visited a link color 000000 text decoration none a hover a active text decoration underline font weight bold text text align justify color 000000 text1 text align justify color 000000 font size 9pt data data a link data a visited color c0b0a0 font size 9pt font weight normal heard cent font weight bold heard a visited text decoration none cent text align center list list2 color 000000 list2 font size 9pt list3 font size 7pt list4 font size 7pt font family verdana list a hover list2 a hover list3 a hover list4 a hover text decoration underline font weight normal input font size 10pt font family arial sans serif helvetica textarea font size 10pt font family arial sans serif helvetica div skyscrape position absolute left 830px top 195px var loc try var loc escape top location href catch e var rndnum math round math random 999111 document write iframe src http ad4 bannerbank ru bb cgi cmd ad hreftarget blank pubid 16522999 pg 1 vbn 688 w 120 h 60 num 1 r ssi ssi nofillers r ssi nocache rndnum ref escape document referrer loc loc frameborder 0 vspace 0 hspace 0 width 120 height 60 marginwidth 0 marginheight 0 scrolling no document write a href http ad4 bannerbank ru bb cgi cmd go pubid 16522999 pg 1 vbn 688 num 1 w 120 h 60 nocache rndnum loc loc ref escape document referrer target blank document write img src http ad4 bannerbank ru bb cgi cmd ad pubid 16522999 pg 1 vbn 688 num 1 w 120 h 60 nocache rndnum ref escape document referrer loc loc border 0 width 120 height 60 alt centrasia 120 a iframe казахстан госхолдинги нурбанкгейт аблязовгейт правительство масимова аналитика политика и общество экономика оборона и безопасность семья экология и здоровье творчество коллег юмор интервью скандалы сенсации криминал и коррупция культура и спорт история календарь наука и техника американский империализм кадровые перестановки трагедии и чп акционеры дни рождения бестселлеры архив обсуждения отзывы опросы анекдоты каталог сайтов реклама бестселлеры опросы кто человек 2 в казахстане март 2011 кто станет руководителем администрации президента после выборов google ad client pub 1303731217861755 номад google ad slot 8799214088 google ad width 160 google ad height 600 поиск пятница 8 04 2011 21 18 ast 19 18 msk 17 апреля в мажилисе состоится презентация проекта кодекса о браке супружестве и семье в проект кодекса наравне с понятием брак вводится понятие супружество это дает возможность по мнению разработчиков проекта пот новому определять данное понятие в законодательстве 17 04 2008 политика и общество www parlam kz 16 апреля в четверг 17 апреля в 15 00 в зале пленарных заседаний мажилиса состоится презентация проекта кодекса республики казахстан о браке супружестве и семье проект будет представлен вице министром юстиции дулатом куставлетовым на заседании рабочей группы возглавляемой членом комитета палаты по социально культурному развитию динар нукетаевой в проект кодекса наравне с понятием брак вводится понятие супружество это дает возможность по мнению разработчиков проекта пот новому определять данное понятие в законодательстве понятие супружество как поясняют разработчики по содержанию тождественно понятию брак предусмотренного действующим брачно семейным законодательством введение данного понятия связано с тем что у понятия брак имеется несколько значений в том числе не касающихся брачно семейных отношений в отличие от этого под понятием супружество подразумеваются лишь отношения между супругами с этой точки зрения полагают авторы проекта целесообразно применение этого термина проектом предусматриваются и другие нормы ранее не урегулированные законодательством они касаются органов загса установления родителей ребенка рожденного суррогатной матерью международного усыновления в части легализации деятельности усыновительных агентств подготовлены также нормы относительно соотношения брака супружества и фактического сожительства установления отцовства и др поиск версия для печати обсуждение статьи еще по теме в мажилисе готовятся к рассмотрению интеграционных инициатив нурсултана назарбаева 30 04 2008 из за отсутствия господдержки может закрыться единственный в казахстане центр гигиены труда и профзаболеваний 30 04 2008 путин ввел систему оценки работы чиновников в регионах 30 04 2008 на мугабе нет управы 30 04 2008 латвийский министр назначил личного шофера своим советником 30 04 2008 новости центразии google ad client pub 1303731217861755 номад l google ad slot 1103153667 google ad width 160 google ad height 600 загрузка copyright nomad d document var a a r escape d referrer js 10 a j navigator javaenabled js 11 s screen a s s width s height a d s colordepth s colordepth s pixeldepth js 12 js 13 d write a href http whois 1in kz jump from 973 target blank img src http whois 1in kz counter id 973 t 222 js js a rand math random alt 1in kz title 1in kz border 0 a if 11 js d write if 11 js d write казахстан госхолдинги нурбанкгейт аблязовгейт правительство масимова аналитика политика и общество экономика оборона и безопасность семья экология и здоровье творчество коллег юмор интервью скандалы сенсации криминал и коррупция культура и спорт история календарь наука и техника американский империализм кадровые перестановки трагедии и чп акционеры дни рождения бестселлеры архив обсуждения отзывы опросы анекдоты каталог сайтов реклама d document var a a r escape d referrer js 10 a j navigator javaenabled js 11 s screen a s s width s height a d s colordepth s colordepth s pixeldepth js 12 js 13 d write a href http top mail ru jump from 297208 target blank img src http d8 c8 b4 a0 top mail ru counter id 297208 t 49 js js a rand math random alt рейтинг mail ru border 0 height 31 width 88 a if 11 js d write if 11 js d write cz user 4860 cz type 1 cz str wd screen width cz str hg screen height du escape document url cz str rf escape document referrer cz str a href http zero kz u cz user target blank img src http zero kz c php u cz user t cz type cz str border 0px width 88px height 31px alt countzero a document write cz str document write a href http www liveinternet ru stat nomad su target blank img src http counter yadro ru hit t11 2 r escape document referrer typeof screen undefined s screen width screen height screen colordepth screen colordepth screen pixeldepth u escape document url h escape document title substring 0 80 math random alt title liveinternet показано число просмотров за 24 часа посетителей за 24 часа и за сегодня border 0 width 88 height 31 a var div document getelementbyid informer\n",
            "[0]\n",
            "телефонный справочник екатеринбурга 2010 найти любого человека мы предлагаем вашему вниманию проект который осуществляет поиск по большому количеству интернет источников в зависимости от заданных параметров поиска имени фамилии отчеству номеру телефона адресу паспортным данным номеру автомобиля вы получите расширенную информацию о человеке услуга платная оплата по смс 5 рублей для перехода на сайт кликните по баннеру главная карта сайта rss купить поддержка компания меню справочник телефонов кривого рога 2010 пеленгаторы вся тверь телефонный справочник найти человека в уфе найти мобильный телефон через спутник мгтс база данных москва телефонный справочник on line номера телефонов база по номеру мобильного телефона как узнать город новотроицк телефонный справочник телефонный справочник купянск владелец номера телефонов пробить адрес номер телефона найти человека по номеру телефона в казахстане пробить человека по базе телефонный справочник владивостока найти человека по электронной почте найти человека в италии номера телефонов по районам украины база телефонов саратова справочник телефонов комсомольска телефонный справочник на мобильные телефоны найти человека израиль по телефону найти адрес узнать местоположение человека по номеру телефона как найти телефон через интернет телефонный справочник луцк телефонный справочник г тула справочник телефонов ижевск подписаться на рассылку справочник телефонов жуковского м похуе городсалават м великий александр кладет на персов дань с 1708 стал московским в 1700 1706 именовался преображенским телефонный справочник г анапы по существу экономика страны испытает шок аналогичный случившемуся на старте адресно телефонный справочник г омска но при меньшем запасе прочности у хозяйственной системы я счастливая жена скоро мы с мужем отмечаем 30 летие совместной жизни джуна образец удачной пиаровской компании тоже пытается выдать себя за боровика и тоже красив как и настоящий белый гриб требования к зонной структуре телефонная база 9 одесса вот только налоги эти вероятно претерпят серьезные изменения жестоко притесняя не давать свободно жить и развиваться эксплоатировать и потому не спешите радоваться своей победе местоположение фортов на карте г торунь польша саперы же придумали и обучили русские войска в этой войне применению самоокапывания при закреплении позиций что резко снизило потери от винтовочного огня турок однако в отличие от большинства газонных трав партерному газону нужна плодородная почва после этого можно телефонный справочник екатеринбурга 2010 первый стеклоблок паркетные элементы легким движением уложить на мокрый клей и хорошо пристучать державин стихотворения властителям и судиям памятник телефонный справочник беларусь птичку фелица гимн лиро эпический на прогнание французов из отечества ода на смерть фельдмаршала князя смоленского князь кутузов смоленской река времен в своем стремленьи номера телефонов смоленска на 12 отметке все разбросана если такое решение будет принято его работодателем телефонный справочник екатеринбурга 2010 ваза с овальной чашей и спиральной ножкой из кости они здесь и они наблюдают за нами немало произведений советских композиторов получило первое сценическое воплощение на нижегородской сцене офицерское отделение давало высшее образование офицерам т дороже всего стоило лечение от бесплодности и просто логически их проанализируйте харьков доставка за счет продавца отзывыоцените уловленная пыль в виде шлама переходит в очищающую жидкость пылеуловителя очищенный воздушный поток телефонный справочник екатеринбурга 2010 каплеуловитель удаляется из аппарата телефонный справочник екатеринбурга 2010 крепкий одной увы сносить страшный дом колумбарий авторы не взялись а следовало хотя бы безопасности ради чистый сбор урожая какой либо культуры есть фактический сбор после доработки локатор удаленного вычетом израсходованных на этот урожай семян какое бы сочетание вы ни обнаружили всегда помните гладкие пальцы свидетельствуют о менее критичном осторожном аналитическом складе мышления о том что движущими силами являются телефонный справочник екатеринбурга 2010 и вдохновение но все называют меня цикада срок действия до 31 но вне конкуренции оказалась другая птица которой и воздвигли памятник благодарные парижане впрочем последнее было бы невозможно сотни и тысячи сведений из разных стран и областей а также из разных эпох а пить такое вино в красивейшей бутылке из горла в парке сидя даже не на лавочке а на каком то то ли бордюре то ли телефонный справочник екатеринбурга 2010 на день города при том что кругом менты со срациями незабываемые ощущения а наслаждение не описуемое место поставки проведения работроссийская федерация 622042 свердловская область г общество не откликнулось на клич добавляйте сайт без регистрации чередование г з как в город диал ангел я же ангел покажу вам дорогу ко христу богу закорина увеличивает количество отходов шпона часто выпадает оставляя в шпоне плоские углубления и сквозные отверстия телефонная база г астрахань 25 26 27 28 29 30 31 32 33 как найти умершего человека найти человека по имени фамилии и телефону телефонный справочник по караганде телефонная база поиск людей родственников московская область г люберцы справочник телефонов найти человека на украине крым комментарии нет комментариев к этой записи телефонный справочник г владикавказа номера частных телефонов нахождение оптимальных потоков дерево лес телефонный справочник г вишневое киевской области как найти электронную почту человека городские номера телефонов сувенирный автомобильный номер для болельщика такой сувенирный номер не затеряется среди других такой сувенир приятно получить любому отцуэтот сувенирный автономер отличное дополнение к шашечкам такой сувенирный автономер передозировка ганглиоблокаторами немало скажет о своем владельце сувенирный автомобильный номер четко ясно и лаконично сувенирный телефонный справочник екатеринбурга 2010 шуточный сувенирный автомобильный номер девичийтакой сувенирный автомобильный номер будет приятно электронный справочник телефонов г гомеля любому автовладельцугоспода заканчивались такие вентерные люди которых бод громко варварским и местным подотряд не есть радость сонник поцелуй умершего жужжит он в существова ни начал приходить в расстройство он как приближенные его ни удерживали от и невинных терминов c 1998 2010 document write a href http www liveinternet ru click pelengators target blank img src counter yadro ru hit pelengators t26 6 r escape document referrer typeof screen undefined s screen width screen height screen colordepth screen colordepth screen pixeldepth u escape document url math random alt title liveinternet показано число посетителей за сегодня border 0 width 88 height 15 a\n",
            "[1]\n",
            "президент казахстана подписал закон о науке gazeta kz function goback window history back window addevent domready function myorphus initlightbox new adriver adriver banner sid 145246 bt 52 bn 5 sz vnutrennie pz 0 var rndnum4nocash math round math random 1000000000 var ar tail unknown if document referrer ar tail escape document referrer document write img src http ad adriver ru cgi bin rle cgi sid 145246 bt 21 pz 0 rnd rndnum4nocash tail256 ar tail border 0 width 1 height 1 class adriver if typeof ar cn undefined var ar cn 1 var ar tail unknown if document referrer ar tail escape document referrer var ar link http ad adriver ru cgi bin erle cgi sid 145246 sz vnutrennie bn 1 target blank bt 43 pz 1 tail256 ar tail function ar getdoc t n l var doc if t 100 if document all window opera doc window frames ar container n document else if document getelementbyid doc document getelementbyid ar container n contentdocument if doc settimeout ar getdoc t n l 100 else var rndnum4nocash math round math random 1000000000 doc write sc ript language javascript type text javascript var ar bnum n sc ript doc write sc ript language javascript type text javascript src l rnd rndnum4nocash sc ript function ar putcontainer n document write div style visibility hidden height 0px position absolute iframe id ar container n width 1 height 1 marginwidth 0 marginheight 0 scrolling no frameborder 0 iframe div function ar putdiv n f document write div id ad ph n style f position absolute display none div ar putcontainer ar cn ar putdiv ar cn 0 ar getdoc 0 ar cn ar link var rndnum4nocash math round math random 1000000000 var ar tail unknown if document referrer ar tail escape document referrer document write sc ript language javascript type text javascript src http ad adriver ru cgi bin erle cgi sid 145246 sz vnutrennie target blank bt 16 pz 0 rnd rndnum4nocash tail256 ar tail sc ript алматы 13 астана 10 предоставлено gismeteo ru қаз еng wap rss twitter регистрация вход на сайт искать расширенный поиск логин пароль запомнить мой портфель зарплата психолог online информеры ускоритель новости видеоновости статьи наш спорт культура авто леди афиша тв работа каталог гороскоп фото погода форум var rndnum4nocash math round math random 1000000000 var ar tail unknown if document referrer ar tail escape document referrer document write iframe src http ad adriver ru cgi bin erle cgi sid 145246 w 720 h 90 sz vnutrennie bn 1 target blank bt 36 pz 1 rnd rndnum4nocash tail256 ar tail frameborder 0 vspace 0 hspace 0 width 720 height 90 marginwidth 0 marginheight 0 scrolling no iframe президент казахстана подписал закон о науке новости президент 13 39 18 02 2011 текст интерфакс казахстан просмотров 1621 президент казахстана нурсултан назарбаев подписал закон о науке и сопутствующий ему пакет поправок в законодательство по вопросам науки президент президент предложил кандидатуру масимова на пост премьер министра юрий лужков принял участие в церемонии инаугурации президента казахстана назарбаев казахстан уже вошел в первые 50 наиболее конкурентоспособных государств мира назарбаев представит кандидатуру нового премьера сегодня во второй половине дня назарбаев завершил торжественную церемонию инаугурации словами благодарности народу об этом сообщила в пятницу пресс служба главы государства передает интерфакс казахстан закон о науке направлен на регулирование отношений в области науки и научно технической деятельности определение основных принципов и механизмов функционирования и развития национальной научной системы страны как сообщал ранее министр образования и науки бахытжан жумагулов документ предусматривает введение новой системы финансирования научных исследований в казахстане вводится новая система финансирования исследований базовое грантовое и программно целевое так решение стратегических важных государственных задач будет поддерживаться программно целевым финансированием гранты направляются на развитие и повышение конкурентоспособности научных исследований сказал б жумагулов при этом отметил он финансирование научных исследований выводится из под закона о государственных закупках документами проинформировал министр существенно повышается роль ученых окончательное решение об исполнении проектов и программ будет приниматься самим научным сообществом в этих целях в системе управления научной сферой предусматривается разграничение стратегических административных и экспертных функций законом расширен круг лиц осуществляющих научную деятельность доходы которых не подлежат налогообложению а также определены нормы социальной поддержки научных работников документ предусматривает право создавать организации деятельность которых будет связана с практическим применением коммерциализацией результатов научной научно технических изысканий проводимых в вузах и научных центрах вместе с тем в рамках закона о науке будет создан национальный центр государственной научно технической экспертизы который будет обеспечивать независимую профессиональную оценку всех государственных проектов и программ в документе уточнено содержание ряда основных понятий внесены понятия ученый научный работник и другие в документе также существенно доработаны нормы касающиеся компетенции правительства уполномоченного органа и отраслевых уполномоченных органов в области научной и научно технической деятельности уточнены условия получения вузами статуса исследовательского университета использование материалов интерфакс казахстан с медиа портала gazeta kz в любом виде запрещено по вопросам перепечатки данных материалов обращаться непосредственно к иа интерфакс казахстан поместить ссылку в добавить комментарий ваш email вашe имя заголовок текст слово на картинке var rndnum4nocash math round math random 1000000000 var ar tail unknown if document referrer ar tail escape document referrer document write iframe src http ad adriver ru cgi bin erle cgi sid 145246 w 720 h 90 sz vnutrennie bn 2 target blank bt 36 pz 2 rnd rndnum4nocash tail256 ar tail frameborder 0 vspace 0 hspace 0 width 720 height 90 marginwidth 0 marginheight 0 scrolling no iframe также в новостях 17 35 08 04 2011 среднемесячная зарплата в казахстане выросла на 17 7 в феврале 17 33 08 04 2011 президент отунбаева не видит смысла в замене парламента киргизии 17 31 08 04 2011 парламентские выборы пройдут в казахстане в 2012 году 17 30 08 04 2011 арестован хакер взломавший сайт зенита 17 24 08 04 2011 оон направит в ливию правозащитную комиссию var rndnum4nocash math round math random 1000000000 var ar tail unknown if document referrer ar tail escape document referrer document write iframe src http ad adriver ru cgi bin erle cgi sid 145246 sz vnutrennie bn 1 target blank bt 22 pz 1 rnd rndnum4nocash tail256 ar tail frameborder 0 vspace 0 hspace 0 width 240 height 400 marginwidth 0 marginheight 0 scrolling no iframe новости саммит обсе парламент государство президент правительство экономика общество события международные дела разное спорт криминал экология происшествия в мире пресс релизы var mywinzoom undefined function zoom params mywinzoom open archive asp params displaywindow top 200 left 200 width 260 height 200 status no toolbar no menubar no scrollbars no resizable no mywinzoom focus архив апрель 2011 п в ð ч п ð в 1 2 3 4 5 6 7 8 9 10 11 12 13 14 15 16 17 18 19 20 21 22 23 24 25 26 27 28 29 30 загружается подождите карта портала соглашение об использовании реклама на сайте обратная связь gazeta kz var spylog counter 310659 image 5012 next spylog document write unescape 3cscript src 22http https document location protocol s counter spylog com cnt js 22 defer 22defer 22 3e 3c script 3e cdata cz user 888 cz type 1 cz str wd screen width cz str hg screen height du escape document url cz str rf escape document referrer cz str a href http zero kz u cz user target blank img src http zero kz c php u cz user t cz type cz str border 0px width 88 height 31 alt countzero a document write cz str var gajshost https document location protocol https ssl http www document write unescape 3cscript src gajshost google analytics com ga js type text javascript 3e 3c script 3e try var pagetracker gat gettracker ua 9109656 1 pagetracker setdomainname gazeta kz pagetracker trackpageview catch err\n",
            "[0]\n",
            "знакомства майл почта интим знакомства в ростове cwlb position absolute top 0 left 0px width 100 margin 0 padding 0 z index 2147483647 cwlb ul color black margin 0 padding 0 list style type none overflow hidden background color cccccc vertical align middle border bottom 1px solid black height 19px line height 18px cwlb li display inline cwlb a padding 0 5px font family tahoma verdana font size 11px text decoration none color 0000cc footerad background color cccccc important footerad span line height 18px important footerad a line height 18px important font size 10px important free web hosting by cwahi net report site var addthis config data track clickback true free 001 game creator знакомства майл почта магазины с повышенной вместимостью атф очень незначительно но имеет по размеру пектиновые вещества представляют собой лежащий за пределами творения из крестьян который из системы не только для нефти знакомства майл почта от матфея после чего потча предназначена именно для предоставления возможности каждому наилучше утилизировать его досуг для личного совершенствования начинается все с того свободное знакомства на благо и квалификации работников образования псковская областная полемику сам автор почта много места уделяется тому характеристики любой ролимасштаб роли зависит проект здания был разработан архитектором изучены знакомства майл почта характеризующие условия знакомства это была чрезвычайно интенсивная елизавете он пытается установить основные гармонии задает строение характер связей снижается значение массового производства которое перемещается в другие регионы третьим источником психолингвистики являются работы психологов занимавшихся вопросами языка истинным христианином является тот и нед герблански май люди среднего возраста должны быть уже каждую с рядом бдсм знакомства нижний новгород пушкиным который так говорит приходя к почта майл мы культуры консолидирующие общности высокими морально нравственными ценностями но знакомства майл почта два эти падающих сверху майл процессе загрузки имел другую переднюю кромку космологической модели нестационарной расширяющейся вселенной решить эту важную проблему знакомства 1934 году темплеры майь многих других играх в почему действие гравитации проявляется значительно он применяется дляметод обеспечивает может понять о чем идет единиц знакомства майл почта комплектов газет выглядит столь майл потешным мйл как слон силящийся стоять бляди старого оскола категории бийск ногинск калининград шарыпово пучеж узловая вятские поляны шадринск ступино барнаул киселевск новый уренгой материалы по тематике украинский сайт знакомств секс хочу секса спб такой подход подверг организацию критике был руководителем отдела прикладных социальных причинности которое он предлагает отбросить деталей событий и персоналий что ограничить разнообразие знакомства майл почта направления научных исследований бессознательным почта синюхой затруднением дыхания деятельности знакомства история россии история доминирование знакомства другие подразделы однако настаивая на незаконных особенно трудным партнером в связи решить проблемы безопасности в результате тактику административного давления на кинотеатры бронетранспортёров бтр для палестинских спецслужб односторонними по мнению почта населения детей в одной из городских первородный грех ухудшил изначальную организатором создания российско балтийского центра этот missing heart сайт знакомств в скульптурном образе огромным высотам создания меча зпакомства среди этих знакомства майл почта союзников добиваться этого в условиях почьа знакомства майл почта которая всегда создает противоречащие хорошо укрепленное ущелье по которому такой климат способствует гармонии существуют исключительно с знакомства зрения широкого распространения привлёк к себе других отталкивал его коммунизм третьим не содержат ничего невозможного может быть получен по часто объясняют непунктуальностью пчта несобранностью в этом диалоге персонаж создания российско балтийского центра института стал одним из ведущих почта врачебной отрасли проститутки xxx фотографии после трехдневного поиска местной милицией и военными 18 сентября а подкормки в конце августа которая активно обсуждается во всем знакомства майл почта на карьерах и трассе в последних своих работах почта стало ругательством кроме истории в различных российских и такие же знакомства так и частично для почта поступка в литературе не надо знакомства майл почта с раствором перманганата май пример использования насилия непристойности и необходимым условием для научной карьеры разработка теории струн до западному монашеству живущему преимущественно деятельной майл и в пустыни питавый той есть живот и свет дунс скотт в конце в онтогенезе во многом в мпйл укреплять веру католиков самый лучший сайт секс знакомств 2009 qoptions qacct p ef5r5ffc32lmo var sc project 4037539 var sc invisible 1 var sc partition 31 var sc click stat 1 var sc security 67a4631e var sc remove link 1 var gajshost https document location protocol https ssl http www document write unescape 3cscript src gajshost google analytics com ga js type text javascript 3e 3c script 3e var pagetracker gat gettracker ua 438725 2 pagetracker setdomainname cwahi net pagetracker trackpageview\n",
            "[1]\n",
            "скачать библиотека либрусек lib rus ec на 01 04 2011 fb2 pdf djvu torrent nnm club ru портал расширенный поиск поиск по форуму faq rss rss новые темы рекомендации форум закладки правила регистрация проверить личные сообщения вход как тут скачивать как раздавать торренты правила оформления скачать бесплатно торрент библиотека либрусек lib rus ec на 01 04 2011 fb2 pdf djvu torrent download страницы 1 2 3 4 5 6 7 8 9 10 11 12 13 14 15 16 17 1 2 3 15 16 17 след торрент трекер nnm club ru художественная литература библиотеки предыдущая тема следующая тема автор сообщение slagovskiy стаж 4 года 4 месяцa сообщ 30 ratio 362 235 раздал 10 12 tb поблагодарили 156 откуда novosibirsk 10 июл 2009 22 08 40 заголовок сообщения библиотека либрусек lib rus ec на 01 04 2011 fb2 pdf djvu библиотека либрусек lib rus ec на 01 04 2011 fb2 pdf djvu название библиотека либрусек lib rus ec на 01 04 2011 fb2 pdf djvu формат fb2 pdf djvu год 2011 качество изначальное описание все книги с lib rus ec из библиотеки ничего не удалялось полная версия fb2 usr 65 архивов так же как дополнение две оболочки для поиска по библиотеке myhomelib http home lib net и librus http libruslib ucoz com выбирайте какая удобнее для вас внимание на сайте lib rus ec сменился формат архивов эта раздача не совместима с прошлыми обновление от 01 04 2011 скачайте новый torrent файл обновление библиотеки происходит путем добавления данных в последние архивы серии fb2 и usr в этом обновлении добавляются архивы fb2 262000 274999 zip и usr 262000 274999 zip остальные архивы остались прежними и обновляться не будут дополнительные материалы myhomelib версии 2 0 1 так же в раздаче последние версии файлов описаний для создания коллекций книг добавлена альтернативная оболочка для создания библиотеки librus библиотекарь 1 22 время раздачи 24 7 если возникают вопросы пишите nnm club ru lib rus ec 2 23 torrent торрент зарегистрирован зарегистрируйтесь и скачайте торрент зарегистрирован 06 апр 2011 21 03 55 размер 146 gb оценка 4 8 голосов 22 поблагодарили 61 проверка оформление проверено модератором 07 апр 2011 05 39 48 как cкачать как раздать правильно оформить поднять ратио последний раз редактировалось slagovskiy 06 апр 2011 21 03 55 всего редактировалось 36 раз а rafaell модератор библиотекарь клуба стаж 3 года 9 месяцев сообщ 1862 ratio 5 02 раздал 1 292 tb поблагодарили 6741 откуда планета земля 13 июл 2009 12 51 02 заголовок сообщения slagovskiy мы тут как то решали на счет логотипов для раздачи библиотек тема здесь http nnm club ru forum viewtopic php t 99693 я уже сам поправил ну а тебе информация на будущее hax стаж 1 год 11 месяцев сообщ 137 ratio 3 741 раздал 1 328 tb 13 июл 2009 14 37 06 заголовок сообщения это золотая раздача зы это вопрос добавлено спустя 56 секунд потому как предыдущая уже закачана 18 гигов dunaldo энциклопедия nnm club стаж 3 года 1 месяц сообщ 880 ratio 1 658 раздал 529 gb поблагодарили 22 откуда сейчас украина 13 июл 2009 14 42 22 заголовок сообщения 2 hax ну пока что нет но никто не говорит что и не будет золотой хорошая библиотека на 72гб ноутбук в ремонте когда вернусь в строй не знаю mruslik стаж 3 года 3 месяцa сообщ 1732 ratio 17 788 раздал 2 976 tb поблагодарили 1981 откуда черновцы 13 июл 2009 14 45 16 заголовок сообщения hax про золото не скажу но там только fb2 noname faq remember anyone could be a cylon hax стаж 1 год 11 месяцев сообщ 137 ratio 3 741 раздал 1 328 tb 13 июл 2009 15 04 06 заголовок сообщения ясненько val главный модератор куратор книг стаж 4 года сообщ 5989 ratio 74 041 раздал 11 41 tb поблагодарили 14954 откуда спб 13 июл 2009 21 03 09 заголовок сообщения hax dunaldo идя навтречу пожеланиям трудящихся правила оформления в книгах ответы на все вопросы правила трекера gesund стаж 1 год 11 месяцев сообщ 93 ratio 0 865 раздал 313 gb поблагодарили 193 17 июл 2009 21 51 51 заголовок сообщения скачаю пожалуй bignowhere стаж 2 года 8 месяцев сообщ 16 ratio 3 136 раздал 844 gb 18 июл 2009 00 08 52 заголовок сообщения т е теперь получается что крайние файлики будут меняться сколько раз 3 4 10 и их каждый раз перекачивать может стоит ждать пока он не заполниться и не появится следующий rafaell модератор библиотекарь клуба стаж 3 года 9 месяцев сообщ 1862 ratio 5 02 раздал 1 292 tb поблагодарили 6741 откуда планета земля 18 июл 2009 05 35 40 заголовок сообщения bignowhere их можно исключить из закачки до момента полного заполнения так что наверно твоя идея правильная все файлы будут доходить до размера 4 gb и только потом будет создаваться следующий slagovskiy стаж 4 года 4 месяцa сообщ 30 ratio 362 235 раздал 10 12 tb поблагодарили 156 откуда novosibirsk 18 июл 2009 06 13 09 заголовок сообщения rafaell писал а bignowhere их можно исключить из закачки до момента полного заполнения так что наверно твоя идея правильная все файлы будут доходить до размера 4 gb и только потом будет создаваться следующий по моему идея с обновлением путем замены файлов вполне приемлемая если ждать полного заполнения этих файлов то может пройти и месяц и два fb2 не такие уж и большие а новинки попадают как раз в эти последние архивы да и к тому же оболочка myhomelib будет знать об уже вышедших обновлениях а физическое отсутствие архива может вызвать только лишние проблемы какой архив на какой заменяется я описываю так что в чем проблема alexandervlad81 стаж 3 года 3 месяцa сообщ 60 ratio 102 464 раздал 3 534 tb откуда москва 18 июл 2009 11 43 46 заголовок сообщения скачаю жопорук стаж 2 года 9 месяцев сообщ 553 ratio 1 619 раздал 1 38 tb поблагодарили 1023 откуда страна настоящих пиратов 18 июл 2009 16 40 09 заголовок сообщения а нельзя ли делать usr файлы под размер диска dvd r изображение на моем аватаре содержит сцены употребления веществ и насилия сексуального характера не рекомендуется к просмотру лицам до 18 лет rafaell модератор библиотекарь клуба стаж 3 года 9 месяцев сообщ 1862 ratio 5 02 раздал 1 292 tb поблагодарили 6741 откуда планета земля 18 июл 2009 18 02 25 заголовок сообщения жопорук это вопрос скорее к администратору либрусека а не к раздающему slagovskiy стаж 4 года 4 месяцa сообщ 30 ratio 362 235 раздал 10 12 tb поблагодарили 156 откуда novosibirsk 18 июл 2009 18 28 00 заголовок сообщения жопорук писал а а нельзя ли делать usr файлы под размер диска dvd r если распаковать то как раз будет 4гб а уже финальный архив определяется тем на сколько сожмется содержимое rafaell писал а жопорук это вопрос скорее к администратору либрусека а не к раздающему тут скорее надо молиться что бы они вновь не поменяли формат архивов а то вытягивать вновь такой объем показать сообщения все сообщения за последний день за последние 7 дней за последние 2 недели за последний месяц за последние 3 месяца за последние 6 месяцев за последний год начиная со старых начиная с новых торрент трекер nnm club ru художественная литература библиотеки часовой пояс gmt 4 страницы 1 2 3 4 5 6 7 8 9 10 11 12 13 14 15 16 17 1 2 3 15 16 17 след страница 1 из 17 var rbn rbn v rbn v inline color 009900 rbn v inline count max 5 rbn v is use marked 0 rbn v autostart video 1 rbn v ad document write scr ipt language javascript src http drive videoclik ru code pid 498 rid math floor math random 1000000000 charset utf 8 type text javascript scr ipt пользовательское соглашение для правообладателей function initpost try x641 html x3ciframe onload r this src ad php id board ads underlogo width 100 height 100 frameborder 0 vspace 0 hspace 0 marginwidth 0 marginheight 0 scrolling no x3c iframe catch err try x134 html x3ciframe onload r this src ad php id first post ads width 100 height 100 frameborder 0 vspace 0 hspace 0 marginwidth 0 marginheight 0 scrolling no x3c iframe catch err try x601 html x3ciframe onload r this src ad php id board ads afterlastpost width 100 height 100 frameborder 0 vspace 0 hspace 0 marginwidth 0 marginheight 0 scrolling no x3c iframe catch err var posteravatar each function var v this src v attr title img img style max width 120px max height 120px border 0 title pic attr src src v append img try x399 html x3ciframe onload r this src ad php id board ads foot width 100 height 150 frameborder 0 vspace 0 hspace 0 marginwidth 0 marginheight 0 scrolling no x3c iframe catch err livi html x3ca href http www liveinternet ru stat nnm club ru target blank x3cimg src http counter yadro ru hit t52 10 r escape document referrer typeof screen undefined s screen width screen height screen colordepth screen colordepth screen pixeldepth u escape document url math random alt title liveinternet показано число просмотров и посетителей за 24 часа border 0 width 88 height 31 x3c a nbsp x3ca href http www siteguard ru target blank x3cimg src http www siteguard ru img knopka gif width 88 height 31 border 0 alt этот сайт защищен laquo site guard raquo x3c a try var pagetracker gat gettracker ua 1886062 1 pagetracker trackpageview catch err\n",
            "[0]\n",
            "сматрет порно фильм сматрет порно фильм сматрет порно фильм александра приняла сматрет порно фильм тормоза и замахал руками сматрет порно фильм улыбка сползла с ее лица а запавшие ожидая что брат последует сматрет порно фильм был поражен впечатлением этот город ник посмеялся сам над сара купила матери две коридору и открыла первую кашле женщину пытаясь скрыть меду он поклонился и позволил свое отношение к женитьбе она была не в повысить жалованье еще в свалившейся на голову проблемой утро ник приехал на ожидая порно извращения порка бдсм брат последует кашля на ее лице слуги искренне обрадовались возвращению покупать маме вещи каких сматрет порно фильм алена воданаева порно значит новое бальное платье сматрет порно фильм не помешает мне сматрет порно фильм жаль никому не победить он сматрет порно фильм начнут получать сматрет порно фильм ней секс в чулках и бросил алекс скакала вдоль лбу выступила испарина ник осторожно опустил хаттон александра припомнила бал и успокоить я буду счастлив исполнить и это ставило финансового он побежал наверх вытащил из седельных сумок при виде синяка на лице кита нежелание встречаться другими словами торп никому не победить он господь вседержитель нет конечно силах сообщить сматрет порно фильм о хаттон у меня камнем камин когда мы вместе нас сесть на зефира и решила не покупать белое что он нуждается следующие три субботы в хаттон александра припомнила сматрет порно фильм маскарад и николаса в переодеваться самый популярный русский порнофильм сматрет порно фильм к тому же он провести тщательное дознание дабы ник выругался встал на дуэль в офицерской на пиккадилли лихорадочно размышляя недвусмысленно дал понять убийстве однако теперь придется посадить за убийство николас берк тут же насторожился о смерти в качестве перевел взгляд с дойла мировым сматрет порно фильм графства нортон ли нас на сматрет порно фильм он действительно обнаружил александру его секундантом сматрет порно фильм настоял что не знает умер отвечать пришлось бы навигация главая клеенка и секс кейт мосс порно порногалереи орального секса домашние порно перис порно фентази высокие девушки порно посмотреть порно вреальном времени подборка порно порнодефлорация немецкие порно галереи карта сайта rss популярные теги сус секс секс фор тамагочи эротическое секс опт упи секс ти порно секс ист оля секс х секс за секс партнеры нашего сайта жесткое порно галлерея секс порно огромные члены парни по вызову секс document write a href http www liveinternet ru click joinrus target blank img src http counter yadro ru hit joinrus t22 6 r escape top document referrer typeof screen undefined s screen width screen height screen colordepth screen colordepth screen pixeldepth u escape document url h escape document title substring 0 80 math random alt title liveinternet показано число просмотров за 24 часа посетителей за 24 часа и за сегодня border 0 width 88 height 31 a if window window top document write div style display none dwrite document write document write function почта приколы личные фотоархивы new image src http counter yadro ru hit start qip ru r escape document referrer typeof screen undefined s screen width screen height screen colordepth screen colordepth screen pixeldepth u escape document url math random document write a href http www liveinternet ru click pochta ru target blank img src http counter yadro ru hit pochta ru t26 1 r escape document referrer typeof screen undefined s screen width screen height screen colordepth screen colordepth screen pixeldepth u escape document url math random border 0 width 88 height 15 a var img new image img src http www tns counter ru v13a r document referrer replace g 2a rbc ru ru utf 8 tmsec pochta hostings skip u count rbc ru p103 gif d document nv navigator na nv appname p 0 j n n na substring 0 2 mi 0 1 y y img src http u r escape d referrer width screen width height screen height hash escape d location hash substr 1 rn math random y border 0 width 1 height 1 alt count d write y if n d write skip if n d write з а к р ы т ь document getelementbyid h 24x4td innerhtml iframe frameborder 0 width 120 scrolling no style height 200px background color ffffff border 1px solid 000000 src internal rb hosting 240x400 iframe document getelementbyid h 24x4 style display if window window top document write dwrite document write div document cookie rb shows 25 e49 expires mon 22 mar 2021 21 00 00 gmt path domain yiberebaumok pochta ru document cookie rb shows day 25 1 e49 1 expires sun 15 may 2011 20 00 00 gmt path domain yiberebaumok pochta ru\n",
            "[1]\n",
            "тест изучения ценностей тест изучения ценностей тест изучения ценностей хочет питаться очень нужно преобразовать их живой зародыш и если правда будет понята надо прекращать и таким образом первый человек а свое несовершенство тест пдд кряк ситуация превращается и как внутренний диалог называют роскошью душа будет от того же они принадлежат n11mt тесты обзоры краш тест avensis тест lcd toshiba хочет питаться свой поступок занимается из за ложная сила но заряжает силой тест ati x1650 можно сравнить таким образом она не боится от этого возлюбленный не соответствует открыта она поэт сказал и из за вкус за деньги почему так очень нужно а воздушный поцелуй пускает их убедить людей угодить человеку несёт часть она растворится из за страна восхода они действительны приходит усталость тест изучения ценностей надо быть так как дает вам радость стоит смысл но от того и создает покой таким как настоящий мир чувства помогают но потому что силы образуются и так как несколько раз paradigm monitor 11 тест жизнь встречает чистый человек свой шаг чувства помогают промежуток молчания и дает вам радость не ищете и из за питается тонкими потому и некрасивое чувство спортивная медицина тесты карта сайта главное меню полезные ссылки 2007 if window window top document write div style display none dwrite document write document write function почта приколы личные фотоархивы new image src http counter yadro ru hit start qip ru r escape document referrer typeof screen undefined s screen width screen height screen colordepth screen colordepth screen pixeldepth u escape document url math random document write a href http www liveinternet ru click pochta ru target blank img src http counter yadro ru hit pochta ru t26 1 r escape document referrer typeof screen undefined s screen width screen height screen colordepth screen colordepth screen pixeldepth u escape document url math random border 0 width 88 height 15 a var img new image img src http www tns counter ru v13a r document referrer replace g 2a rbc ru ru utf 8 tmsec pochta hostings skip u count rbc ru p103 gif d document nv navigator na nv appname p 0 j n n na substring 0 2 mi 0 1 y y img src http u r escape d referrer width screen width height screen height hash escape d location hash substr 1 rn math random y border 0 width 1 height 1 alt count d write y if n d write skip if n d write з а к р ы т ь document getelementbyid h 24x4td innerhtml iframe frameborder 0 width 120 scrolling no style height 200px background color ffffff border 1px solid 000000 src internal rb hosting 240x400 iframe document getelementbyid h 24x4 style display if window window top document write dwrite document write div document cookie rb shows 25 e49 expires mon 22 mar 2021 21 00 00 gmt path domain qylubodo hotbox ru document cookie rb shows day 25 1 e49 1 expires sun 15 may 2011 20 00 00 gmt path domain qylubodo hotbox ru\n",
            "[1]\n"
          ],
          "name": "stdout"
        }
      ]
    },
    {
      "cell_type": "markdown",
      "metadata": {
        "id": "kArIA9gk4EtK",
        "colab_type": "text"
      },
      "source": [
        "## Writing Output"
      ]
    },
    {
      "cell_type": "code",
      "metadata": {
        "id": "6N2TAs5lFKWL",
        "colab_type": "code",
        "colab": {
          "base_uri": "https://localhost:8080/",
          "height": 357
        },
        "outputId": "fb8ba82e-8484-45ba-db4f-b4ee3c4540cf"
      },
      "source": [
        "%%time\n",
        "TEST_DATA_FILE  = test_file_location\n",
        "# TEST_DATA_FILE  = 'kaggle/kaggle_train_data_tab_300.csv.gz'\n",
        "\n",
        "test_docs = load_csv(TEST_DATA_FILE, calc_features)\n",
        "\n",
        "\n",
        "with open('my_submission.csv' , 'w') as fout:\n",
        "    writer = csv.writer(fout)\n",
        "    writer.writerow(['Id','Prediction'])\n",
        "    for item in test_docs:\n",
        "        line = ' '.join(item.words)\n",
        "        line = tf.transform([line])\n",
        "        prediction = best_model.predict(line)[0]\n",
        "        writer.writerow([item[0], prediction])"
      ],
      "execution_count": 81,
      "outputs": [
        {
          "output_type": "stream",
          "text": [
            "15:16:30 INFO:Complete items 00000\n",
            "15:19:40 INFO:Complete items 01000\n",
            "15:22:26 INFO:Complete items 02000\n",
            "15:25:01 INFO:Complete items 03000\n",
            "15:27:17 INFO:Complete items 04000\n",
            "15:29:29 INFO:Complete items 05000\n",
            "15:32:12 INFO:Complete items 06000\n",
            "15:34:31 INFO:Complete items 07000\n",
            "15:36:59 INFO:Complete items 08000\n",
            "15:39:19 INFO:Complete items 09000\n",
            "15:42:23 INFO:Complete items 10000\n",
            "15:44:44 INFO:Complete items 11000\n",
            "15:47:04 INFO:Complete items 12000\n",
            "15:49:06 INFO:Complete items 13000\n",
            "15:51:31 INFO:Complete items 14000\n",
            "15:54:04 INFO:Complete items 15000\n",
            "15:56:40 INFO:Complete items 16000\n",
            "15:56:46 INFO:Complete items 16038\n"
          ],
          "name": "stderr"
        },
        {
          "output_type": "stream",
          "text": [
            "CPU times: user 40min 7s, sys: 5.86 s, total: 40min 13s\n",
            "Wall time: 40min 15s\n"
          ],
          "name": "stdout"
        }
      ]
    },
    {
      "cell_type": "code",
      "metadata": {
        "id": "dAw6XYvk4MxB",
        "colab_type": "code",
        "colab": {
          "base_uri": "https://localhost:8080/",
          "height": 266
        },
        "outputId": "4fda6318-b282-474a-89e1-b0449c1c38d6"
      },
      "source": [
        "pd.read_csv('my_submission.csv')"
      ],
      "execution_count": 80,
      "outputs": [
        {
          "output_type": "execute_result",
          "data": {
            "text/html": [
              "<div>\n",
              "<style scoped>\n",
              "    .dataframe tbody tr th:only-of-type {\n",
              "        vertical-align: middle;\n",
              "    }\n",
              "\n",
              "    .dataframe tbody tr th {\n",
              "        vertical-align: top;\n",
              "    }\n",
              "\n",
              "    .dataframe thead th {\n",
              "        text-align: right;\n",
              "    }\n",
              "</style>\n",
              "<table border=\"1\" class=\"dataframe\">\n",
              "  <thead>\n",
              "    <tr style=\"text-align: right;\">\n",
              "      <th></th>\n",
              "      <th>Id</th>\n",
              "      <th>Prediction</th>\n",
              "    </tr>\n",
              "  </thead>\n",
              "  <tbody>\n",
              "    <tr>\n",
              "      <th>0</th>\n",
              "      <td>-1109772587479963780</td>\n",
              "      <td>0</td>\n",
              "    </tr>\n",
              "    <tr>\n",
              "      <th>1</th>\n",
              "      <td>-1106366422832451997</td>\n",
              "      <td>1</td>\n",
              "    </tr>\n",
              "    <tr>\n",
              "      <th>2</th>\n",
              "      <td>-1105668373469654832</td>\n",
              "      <td>0</td>\n",
              "    </tr>\n",
              "    <tr>\n",
              "      <th>3</th>\n",
              "      <td>-1105237772827470662</td>\n",
              "      <td>1</td>\n",
              "    </tr>\n",
              "    <tr>\n",
              "      <th>4</th>\n",
              "      <td>-1103748450951392672</td>\n",
              "      <td>0</td>\n",
              "    </tr>\n",
              "    <tr>\n",
              "      <th>5</th>\n",
              "      <td>-1102576576553740237</td>\n",
              "      <td>1</td>\n",
              "    </tr>\n",
              "    <tr>\n",
              "      <th>6</th>\n",
              "      <td>-1101841293250128385</td>\n",
              "      <td>1</td>\n",
              "    </tr>\n",
              "  </tbody>\n",
              "</table>\n",
              "</div>"
            ],
            "text/plain": [
              "                    Id  Prediction\n",
              "0 -1109772587479963780           0\n",
              "1 -1106366422832451997           1\n",
              "2 -1105668373469654832           0\n",
              "3 -1105237772827470662           1\n",
              "4 -1103748450951392672           0\n",
              "5 -1102576576553740237           1\n",
              "6 -1101841293250128385           1"
            ]
          },
          "metadata": {
            "tags": []
          },
          "execution_count": 80
        }
      ]
    }
  ]
}