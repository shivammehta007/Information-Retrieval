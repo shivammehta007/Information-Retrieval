{
  "nbformat": 4,
  "nbformat_minor": 0,
  "metadata": {
    "anaconda-cloud": {},
    "kernelspec": {
      "display_name": "Python 3",
      "language": "python",
      "name": "python3"
    },
    "language_info": {
      "codemirror_mode": {
        "name": "ipython",
        "version": 3
      },
      "file_extension": ".py",
      "mimetype": "text/x-python",
      "name": "python",
      "nbconvert_exporter": "python",
      "pygments_lexer": "ipython3",
      "version": "3.6.9"
    },
    "colab": {
      "name": "AntispamStatsSeminar.ipynb",
      "provenance": []
    }
  },
  "cells": [
    {
      "cell_type": "markdown",
      "metadata": {
        "id": "s_n-mabRFKRU",
        "colab_type": "text"
      },
      "source": [
        "# **Description**"
      ]
    },
    {
      "cell_type": "markdown",
      "metadata": {
        "id": "WRyA5sjQFKRh",
        "colab_type": "text"
      },
      "source": [
        "Build distribution charts in spam and non-spam sets of the following features:\n",
        "\n",
        "1 Number of words per page\n",
        "2 Average word length\n",
        "3 Number of words in the page title (words in the <html><head> <title> Some text </title> tag)\n",
        "4 Number of words in link anchors (<html> <body> <a> Some text </a>)\n",
        "5 compression ratio\n",
        "\n",
        "It is necessary to calculate the statistics for at least three signs and be sure to do for the 1st and 2nd signs\n",
        "\n",
        "And send the first decision to the competition https://kaggle.com/join/antispam_infopoisk\n",
        "Based on one of the above signs, try to divide the number so that the score in the competition is more than 0.55\n",
        "\n",
        "If all these conditions are met during the seminar, +1 point to DZ\n",
        "\n",
        "Description of DZ and the rules for setting points for it at https://inclass.kaggle.com/c/antispam-infopoisk\n",
        "To specify the terms of DZ with the teacher - usually 2 weeks"
      ]
    },
    {
      "cell_type": "code",
      "metadata": {
        "id": "kKclE4mPLOIG",
        "colab_type": "code",
        "colab": {
          "base_uri": "https://localhost:8080/",
          "height": 122
        },
        "outputId": "953fd61d-b23e-4df2-e4d0-1b097b454613"
      },
      "source": [
        "from google.colab import drive\n",
        "drive.mount('/content/drive')"
      ],
      "execution_count": 1,
      "outputs": [
        {
          "output_type": "stream",
          "text": [
            "Go to this URL in a browser: https://accounts.google.com/o/oauth2/auth?client_id=947318989803-6bn6qk8qdgf4n4g3pfee6491hc0brc4i.apps.googleusercontent.com&redirect_uri=urn%3aietf%3awg%3aoauth%3a2.0%3aoob&response_type=code&scope=email%20https%3a%2f%2fwww.googleapis.com%2fauth%2fdocs.test%20https%3a%2f%2fwww.googleapis.com%2fauth%2fdrive%20https%3a%2f%2fwww.googleapis.com%2fauth%2fdrive.photos.readonly%20https%3a%2f%2fwww.googleapis.com%2fauth%2fpeopleapi.readonly\n",
            "\n",
            "Enter your authorization code:\n",
            "··········\n",
            "Mounted at /content/drive\n"
          ],
          "name": "stdout"
        }
      ]
    },
    {
      "cell_type": "code",
      "metadata": {
        "id": "0UNKLZCYFKRj",
        "colab_type": "code",
        "colab": {}
      },
      "source": [
        "from importlib import reload"
      ],
      "execution_count": 0,
      "outputs": []
    },
    {
      "cell_type": "code",
      "metadata": {
        "id": "DKJ-rZQ7FKRn",
        "colab_type": "code",
        "colab": {
          "base_uri": "https://localhost:8080/",
          "height": 204
        },
        "outputId": "6223e448-0956-42a9-b0fc-d18e7faa2f24"
      },
      "source": [
        "from __future__ import division\n",
        "! pip install ftfy\n",
        "\n",
        "import base64\n",
        "import csv\n",
        "import gzip\n",
        "import zlib\n",
        "import ftfy\n",
        "\n",
        "from collections import namedtuple\n",
        "\n",
        "%matplotlib inline\n",
        "import matplotlib.pyplot as plt"
      ],
      "execution_count": 99,
      "outputs": [
        {
          "output_type": "stream",
          "text": [
            "Collecting ftfy\n",
            "\u001b[?25l  Downloading https://files.pythonhosted.org/packages/75/ca/2d9a5030eaf1bcd925dab392762b9709a7ad4bd486a90599d93cd79cb188/ftfy-5.6.tar.gz (58kB)\n",
            "\r\u001b[K     |█████▋                          | 10kB 16.7MB/s eta 0:00:01\r\u001b[K     |███████████▏                    | 20kB 1.8MB/s eta 0:00:01\r\u001b[K     |████████████████▊               | 30kB 2.6MB/s eta 0:00:01\r\u001b[K     |██████████████████████▎         | 40kB 1.7MB/s eta 0:00:01\r\u001b[K     |███████████████████████████▉    | 51kB 2.1MB/s eta 0:00:01\r\u001b[K     |████████████████████████████████| 61kB 2.0MB/s \n",
            "\u001b[?25hRequirement already satisfied: wcwidth in /usr/local/lib/python3.6/dist-packages (from ftfy) (0.1.7)\n",
            "Building wheels for collected packages: ftfy\n",
            "  Building wheel for ftfy (setup.py) ... \u001b[?25l\u001b[?25hdone\n",
            "  Created wheel for ftfy: filename=ftfy-5.6-cp36-none-any.whl size=44553 sha256=f7d715885d7266be15ffcfcb879a904ccc10c1caf664efa8af6044ca61ef7d67\n",
            "  Stored in directory: /root/.cache/pip/wheels/43/34/ce/cbb38d71543c408de56f3c5e26ce8ba495a0fa5a28eaaf1046\n",
            "Successfully built ftfy\n",
            "Installing collected packages: ftfy\n",
            "Successfully installed ftfy-5.6\n"
          ],
          "name": "stdout"
        }
      ]
    },
    {
      "cell_type": "code",
      "metadata": {
        "id": "copo5Eo-FKRq",
        "colab_type": "code",
        "colab": {}
      },
      "source": [
        "TRACE_NUM = 1000\n",
        "import logging\n",
        "reload(logging)\n",
        "logging.basicConfig(format='%(asctime)s %(levelname)s:%(message)s', level=logging.INFO, datefmt='%H:%M:%S')\n",
        "\n",
        "def trace(items_num, trace_num=TRACE_NUM):\n",
        "    if items_num % trace_num == 0: logging.info(\"Complete items %05d\" % items_num)"
      ],
      "execution_count": 0,
      "outputs": []
    },
    {
      "cell_type": "markdown",
      "metadata": {
        "id": "J9THHP1aFKR3",
        "colab_type": "text"
      },
      "source": [
        "### Utilities"
      ]
    },
    {
      "cell_type": "markdown",
      "metadata": {
        "id": "zvHqpTPbFKR4",
        "colab_type": "text"
      },
      "source": [
        "#### Decorators"
      ]
    },
    {
      "cell_type": "code",
      "metadata": {
        "id": "UhRV4hNQFKR5",
        "colab_type": "code",
        "colab": {}
      },
      "source": [
        "def to_utf8(text):\n",
        "    if isinstance(text, str): text = text.encode(\"ISO-8859-1\")\n",
        "    return text\n",
        "\n",
        "def convert2unicode(f):\n",
        "    def tmp(text):\n",
        "        if not isinstance(text, str): text = ftfy.fix_text(text.decode(\"latin-1\"))\n",
        "        return f(text)\n",
        "    return tmp\n",
        "\n",
        "def convert2lower(f):\n",
        "    def tmp(text):        \n",
        "        return f(text.lower())\n",
        "    return tmp\n",
        "\n",
        "#P.S. Decorators can complicate debugging, so you can completely discard them and use copy-paste"
      ],
      "execution_count": 0,
      "outputs": []
    },
    {
      "cell_type": "markdown",
      "metadata": {
        "id": "7LuvbeBFFKR8",
        "colab_type": "text"
      },
      "source": [
        "### Extract text from html"
      ]
    },
    {
      "cell_type": "markdown",
      "metadata": {
        "id": "i_0M7qHwFKR9",
        "colab_type": "text"
      },
      "source": [
        "#### Extraction of text using built-in modules"
      ]
    },
    {
      "cell_type": "code",
      "metadata": {
        "id": "YqWvb1iDFKR-",
        "colab_type": "code",
        "colab": {}
      },
      "source": [
        "from html.parser import HTMLParser\n",
        "import re\n",
        "\n",
        "###Extracting text from title can be entered here\n",
        "\n",
        "class TextHTMLParser(HTMLParser):\n",
        "    def __init__(self):\n",
        "        HTMLParser.__init__(self)\n",
        "        self._text = []\n",
        "        self._title = \"\"\n",
        "        self._in_title = False\n",
        "\n",
        "    def handle_data(self, data):\n",
        "        text = data.strip()\n",
        "        if len(text) > 0:\n",
        "            text = re.sub('[ \\t\\r\\n]+', ' ', text)\n",
        "            self._text.append(text + ' ')\n",
        "\n",
        "    def handle_starttag(self, tag, attrs):\n",
        "        if tag == 'p':\n",
        "            self._text.append('\\n\\n')\n",
        "        elif tag == 'br':\n",
        "            self._text.append('\\n')\n",
        "        elif tag == 'title':\n",
        "            self._in_title = True\n",
        "\n",
        "    def handle_startendtag(self, tag, attrs):\n",
        "        if tag == 'br':\n",
        "            self._text.append('\\n\\n')\n",
        "\n",
        "    def text(self):\n",
        "        return ''.join(self._text).strip()\n",
        "    \n",
        "    def extract_title(self):\n",
        "        soup = BeautifulSoup(text)\n",
        "        if soup.title != None:\n",
        "            self._title = soup.title.string\n",
        "\n",
        "@convert2unicode\n",
        "def html2text_parser(text):\n",
        "    parser = TextHTMLParser()\n",
        "    parser.feed(text)\n",
        "    soup = BeautifulSoup(text)\n",
        "    title = \"\"\n",
        "    if soup.title != None:\n",
        "        title = soup.title.string\n",
        "    anchor = \"\"\n",
        "    if soup.find('a') != None:\n",
        "        anchor = soup.find('a').text\n",
        "        \n",
        "    return parser.text(), title, anchor"
      ],
      "execution_count": 0,
      "outputs": []
    },
    {
      "cell_type": "code",
      "metadata": {
        "id": "cUdYn1GZFKSM",
        "colab_type": "code",
        "colab": {}
      },
      "source": [
        "from bs4 import BeautifulSoup"
      ],
      "execution_count": 0,
      "outputs": []
    },
    {
      "cell_type": "markdown",
      "metadata": {
        "id": "QT9uTuduFKSP",
        "colab_type": "text"
      },
      "source": [
        "#### Extraction of text using additional libraries"
      ]
    },
    {
      "cell_type": "code",
      "metadata": {
        "id": "bSLvdnTwFKSQ",
        "colab_type": "code",
        "colab": {}
      },
      "source": [
        "def html2text_bs(raw_html):\n",
        "    \"\"\"\n",
        "    Here is the extraction of text from html\n",
        "    \"\"\"\n",
        "    soup = BeautifulSoup(raw_html, \"html.parser\")\n",
        "    [s.extract() for s in soup(['script', 'style'])]\n",
        "    return soup.get_text()\n",
        "\n",
        "def html2text_bs_visible(raw_html):\n",
        "    \"\"\"\n",
        "    Here the text is extracted from the html, which is visible to the user\n",
        "    \"\"\"\n",
        "    soup = BeautifulSoup(raw_html, \"html.parser\")    \n",
        "    [s.extract() for s in soup(['style', 'script', '[document]', 'head', 'title'])]\n",
        "    return soup.get_text()\n",
        "\n",
        "def html2text_boilerpipe(raw_html):\n",
        "    import boilerpipe\n",
        "    \"\"\"\n",
        "    another library that extracts the text that is visible to the user very well,\n",
        "    but it is tied to java\n",
        "    \"\"\"\n",
        "    pass"
      ],
      "execution_count": 0,
      "outputs": []
    },
    {
      "cell_type": "markdown",
      "metadata": {
        "id": "jhCYaBrUFKSS",
        "colab_type": "text"
      },
      "source": [
        "#### Choose which method to convert html to text will be the main"
      ]
    },
    {
      "cell_type": "code",
      "metadata": {
        "id": "v4TbVCvTFKST",
        "colab_type": "code",
        "colab": {}
      },
      "source": [
        "#html2text = html2text_bs\n",
        "html2text = html2text_parser"
      ],
      "execution_count": 0,
      "outputs": []
    },
    {
      "cell_type": "markdown",
      "metadata": {
        "id": "2Q5wT31lFKSh",
        "colab_type": "text"
      },
      "source": [
        "#### Methods for tokenizing text"
      ]
    },
    {
      "cell_type": "code",
      "metadata": {
        "id": "T86B3ewlFKSi",
        "colab_type": "code",
        "colab": {}
      },
      "source": [
        "@convert2lower\n",
        "@convert2unicode\n",
        "def easy_tokenizer(text):\n",
        "    word = str()\n",
        "    for symbol in text:\n",
        "        if symbol.isalnum(): word += symbol\n",
        "        elif word:\n",
        "            yield word\n",
        "            word = str()\n",
        "    if word: yield word\n",
        "\n",
        "PYMORPHY_CACHE = {}\n",
        "MORPH = None\n",
        "#hint so that installing pymorphy2 would not be required\n",
        "def get_lemmatizer():\n",
        "    import pymorphy2\n",
        "    global MORPH\n",
        "    if MORPH is None: MORPH = pymorphy2.MorphAnalyzer()\n",
        "    return MORPH\n",
        "\n",
        "@convert2lower\n",
        "@convert2unicode\n",
        "def pymorphy_tokenizer(text):\n",
        "    global PYMORPHY_CACHE\n",
        "    for word in easy_tokenizer(text):\n",
        "        word_hash = hash(word)\n",
        "        if word_hash not in PYMORPHY_CACHE:\n",
        "            PYMORPHY_CACHE[word_hash] = get_lemmatizer().parse(word)[0].normal_form            \n",
        "        yield PYMORPHY_CACHE[word_hash]"
      ],
      "execution_count": 0,
      "outputs": []
    },
    {
      "cell_type": "markdown",
      "metadata": {
        "id": "RIyGsgTlFKSk",
        "colab_type": "text"
      },
      "source": [
        "#### The main function that is called to convert html to a list of words"
      ]
    },
    {
      "cell_type": "code",
      "metadata": {
        "id": "2X1UAO8vFKSm",
        "colab_type": "code",
        "colab": {}
      },
      "source": [
        "def html2word(raw_html, to_text=html2text, tokenizer=easy_tokenizer):\n",
        "    text, title, anchor = to_text(raw_html)\n",
        "    if title == None:\n",
        "        title = \"\"\n",
        "    if anchor == None:\n",
        "        anchor = \"\"\n",
        "    return tokenizer(text.lower()), tokenizer(title.lower()), tokenizer(anchor.lower())"
      ],
      "execution_count": 0,
      "outputs": []
    },
    {
      "cell_type": "markdown",
      "metadata": {
        "id": "-xsD-itEFKSo",
        "colab_type": "text"
      },
      "source": [
        "#### Calculation of final metrics"
      ]
    },
    {
      "cell_type": "code",
      "metadata": {
        "id": "ofdA3Od0FKSp",
        "colab_type": "code",
        "colab": {}
      },
      "source": [
        "def safe_divide(a, b):\n",
        "    if a == 0: return 0.0\n",
        "    elif b == 0: return 0.0\n",
        "    else: return a/b\n",
        "\n",
        "def calculate_metrics(predictions, threshold):    \n",
        "    \"\"\"\n",
        "    Metric counting function\n",
        "    Options\n",
        "    predictions - document rank\n",
        "    threshold - threshold for metrics\n",
        "    \"\"\"\n",
        "    true_positive = 0\n",
        "    false_positive = 0\n",
        "    true_negative = 0\n",
        "    false_negative = 0\n",
        "    for (url_id, mark, url, prediction) in predictions:        \n",
        "        mark_predict = prediction > threshold\n",
        "\n",
        "        if mark_predict:                     \n",
        "            if mark_predict == mark: true_positive += 1\n",
        "            else: false_positive += 1                    \n",
        "        else:                     \n",
        "            if  mark_predict == mark: true_negative += 1\n",
        "            else: false_negative += 1\n",
        "\n",
        "    class_prec  = safe_divide(true_positive, true_positive + false_positive)\n",
        "    class_recall = safe_divide(true_positive, true_positive + false_negative)\n",
        "        \n",
        "    class_F1 = safe_divide(2 * class_prec * class_recall, class_prec + class_recall)\n",
        "    \n",
        "    \n",
        "    not_class_prec = safe_divide(true_negative, true_negative + false_negative)\n",
        "    not_class_recall = safe_divide(true_negative, true_negative + false_positive)\n",
        "    \n",
        "    not_class_F1 = safe_divide(2 * not_class_prec * not_class_recall, not_class_prec + not_class_recall)\n",
        "    \n",
        "    return ( (class_prec, class_recall, class_F1), (not_class_prec, not_class_recall, not_class_F1) )\n",
        "\n",
        "def arange(start, stop, step):\n",
        "    cur_value = start\n",
        "    while True:\n",
        "        if cur_value > stop: break\n",
        "        yield cur_value\n",
        "        cur_value += step\n",
        "\n",
        "def plot_results(docs, min_threshold=-1, max_threshold=1, step=0.1, trace=False):\n",
        "    x = []\n",
        "    y_p = []\n",
        "    y_n = []\n",
        "    docs_predictions = classifier.predict_all(docs)\n",
        "    for threshold in arange(min_threshold, max_threshold, step):\n",
        "        r = calculate_metrics(docs_predictions, threshold)\n",
        "        x.append(threshold)\n",
        "        y_p.append(r[0])\n",
        "        y_n.append(r[1])        \n",
        "        if trace: \n",
        "            print('threshold %s' % threshold)\n",
        "            print('\\tclass_prec %s, class_recall %s, class_F1 %s' % r[0])\n",
        "            print('\\tnot_class_prec %s, not_class_recall %s, not_class_F1 %s' % r[1])\n",
        "            print('\\t\\tMacroF1Mesure %s' % ((r[0][2] + r[1][2])/2))\n",
        "    plot_stats(x, y_p, \"Class Result\")\n",
        "    plot_stats(x, y_n, \"Not class Result\")    \n",
        "\n",
        "\n",
        "def plot_stats(x, y, title):\n",
        "    plt.figure(figsize=(10, 5))\n",
        "\n",
        "    prec, = plt.plot( x, \n",
        "                     [k[0] for k in y], \"r\", label='Precision', \n",
        "                     linewidth=1)\n",
        "    accur, = plt.plot( x, \n",
        "                      [k[1] for k in y], \"b\", label='Recall',\n",
        "                      linewidth=1)\n",
        "    f1, =    plt.plot( x, \n",
        "                      [k[2] for k in y], \"g\", label='F1',\n",
        "                      linewidth=1)\n",
        "    plt.grid(True)\n",
        "    plt.legend(handles=[prec, accur, f1])\n",
        "    plt.title(title)\n",
        "    plt.show()"
      ],
      "execution_count": 0,
      "outputs": []
    },
    {
      "cell_type": "code",
      "metadata": {
        "id": "Xv6SBN1HFKSs",
        "colab_type": "code",
        "colab": {}
      },
      "source": [
        "def calc_features(url, html_data):\n",
        "    words, title, anchor = html2word(html_data)\n",
        "\n",
        "    anchor = list(anchor)\n",
        "    words = list(words)\n",
        "    title = list(title)\n",
        "    words_num = len(words)\n",
        "    # print(words, title, anchor)\n",
        "    \n",
        "    avg_word_len = 0\n",
        "    for word in words:\n",
        "        avg_word_len += len(word)\n",
        "    avg_word_len = avg_word_len/words_num\n",
        "    title_words_num = len(title)    \n",
        "    anchor_words_num = len(anchor)\n",
        "    compression_level = 0\n",
        "    \n",
        "    return [len(words), avg_word_len, title_words_num, anchor_words_num, compression_level, words]"
      ],
      "execution_count": 0,
      "outputs": []
    },
    {
      "cell_type": "code",
      "metadata": {
        "id": "Q2uDbfD6FKSx",
        "colab_type": "code",
        "colab": {
          "base_uri": "https://localhost:8080/",
          "height": 34
        },
        "outputId": "fda94c5f-cf62-4966-a494-ba7779fb3717"
      },
      "source": [
        "test_html_data = u'''\n",
        "<html>\n",
        "<title> Заголовок Ololo </title>\n",
        "спам 1 2 3\n",
        "'<html><body><a> Some text </a>'\n",
        "</html>\n",
        "'''\n",
        "test_url = 'http://ololo'\n",
        "test_features = calc_features(test_url, test_html_data)\n",
        "print(test_features)"
      ],
      "execution_count": 128,
      "outputs": [
        {
          "output_type": "stream",
          "text": [
            "[8, 3.625, 2, 2, 0, ['заголовок', 'ololo', 'спам', '1', '2', '3', 'some', 'text']]\n"
          ],
          "name": "stdout"
        }
      ]
    },
    {
      "cell_type": "code",
      "metadata": {
        "id": "UBqahAcbKzRc",
        "colab_type": "code",
        "colab": {}
      },
      "source": [
        ""
      ],
      "execution_count": 0,
      "outputs": []
    },
    {
      "cell_type": "code",
      "metadata": {
        "id": "DoAquNqDFKS2",
        "colab_type": "code",
        "colab": {}
      },
      "source": [
        "DocItem = namedtuple('DocItem', ['doc_id', 'is_spam', 'url', 'features', 'words'])\n",
        "\n",
        "def load_csv(input_file_name, calc_features_f):    \n",
        "    \"\"\"\n",
        "    We load data and extract signs on the fly\n",
        "    Content itself is not saved to reduce memory consumption - to\n",
        "    could run even on laptops in class\n",
        "    \"\"\"\n",
        "    \n",
        "    with gzip.open(input_file_name) if input_file_name.endswith('gz') else open(input_file_name)  as input_file:            \n",
        "        headers = input_file.readline()\n",
        "        \n",
        "        for i, line in enumerate(input_file):\n",
        "            trace(i)\n",
        "            #print(line)\n",
        "            if i > 10:\n",
        "                break\n",
        "            line = line.decode()\n",
        "            parts = line.strip().split('\\t')\n",
        "            url_id = int(parts[0])                                        \n",
        "            mark = bool(int(parts[1]))                    \n",
        "            url = parts[2]\n",
        "            pageInb64 = parts[3]\n",
        "            html_data = base64.b64decode(pageInb64)\n",
        "            features = calc_features_f(url, html_data)      \n",
        "            yield DocItem(url_id, mark, url, features[:-1], features[-1])            \n",
        "                \n",
        "        trace(i, 1)        "
      ],
      "execution_count": 0,
      "outputs": []
    },
    {
      "cell_type": "markdown",
      "metadata": {
        "id": "dVX02vXFFKS5",
        "colab_type": "text"
      },
      "source": [
        "** We process the input file **\n",
        "<br>\n",
        "Format - fields separated by tabs\n",
        "<br>\n",
        "0 - document id\n",
        "<br>\n",
        "1 - class label 0 - not spam, 1 - spam\n",
        "<br>\n",
        "2 - url of the document\n",
        "<br>\n",
        "3 - base64 encoded document\n",
        "#### I Added\n",
        "4 - Words\n",
        "\n",
        "The output format is an array of tuples of the form\n",
        "(doc_id, is_spam, url, html_data, **words**)"
      ]
    },
    {
      "cell_type": "code",
      "metadata": {
        "id": "AnWRNVrGFKS6",
        "colab_type": "code",
        "colab": {}
      },
      "source": [
        "import pandas as pd"
      ],
      "execution_count": 0,
      "outputs": []
    },
    {
      "cell_type": "code",
      "metadata": {
        "id": "razvhBSWLjXD",
        "colab_type": "code",
        "colab": {
          "base_uri": "https://localhost:8080/",
          "height": 34
        },
        "outputId": "3725be70-05a8-46db-9b65-a72111c6e7d5"
      },
      "source": [
        "import os\n",
        "os.getcwd()\n",
        "os.listdir()\n",
        "os.listdir()"
      ],
      "execution_count": 84,
      "outputs": [
        {
          "output_type": "execute_result",
          "data": {
            "text/plain": [
              "['.config', 'drive', 'sample_data']"
            ]
          },
          "metadata": {
            "tags": []
          },
          "execution_count": 84
        }
      ]
    },
    {
      "cell_type": "code",
      "metadata": {
        "id": "VwotNoKFMpeP",
        "colab_type": "code",
        "colab": {
          "base_uri": "https://localhost:8080/",
          "height": 34
        },
        "outputId": "4b12eaca-c841-4fc4-d88f-06dda79aa03c"
      },
      "source": [
        "os.path.exists('drive/My Drive/Homeworks/InformationRetrieval/hw3/kaggle_test_data_tab_new.csv.gz')"
      ],
      "execution_count": 85,
      "outputs": [
        {
          "output_type": "execute_result",
          "data": {
            "text/plain": [
              "True"
            ]
          },
          "metadata": {
            "tags": []
          },
          "execution_count": 85
        }
      ]
    },
    {
      "cell_type": "code",
      "metadata": {
        "scrolled": true,
        "id": "EyAxcb76FKS8",
        "colab_type": "code",
        "colab": {
          "base_uri": "https://localhost:8080/",
          "height": 85
        },
        "outputId": "c5f1bae0-8a97-4a68-ab6e-46aff5607fac"
      },
      "source": [
        "%%time\n",
        "\n",
        "file_location = 'drive/My Drive/Homeworks/InformationRetrieval/hw3/kaggle_train_data_tab_new.csv.gz'\n",
        "TRAIN_DATA_FILE  = file_location\n",
        "\n",
        "train_docs = list(load_csv(TRAIN_DATA_FILE, calc_features))"
      ],
      "execution_count": 130,
      "outputs": [
        {
          "output_type": "stream",
          "text": [
            "12:25:46 INFO:Complete items 00000\n",
            "12:25:47 INFO:Complete items 00011\n"
          ],
          "name": "stderr"
        },
        {
          "output_type": "stream",
          "text": [
            "CPU times: user 799 ms, sys: 11 ms, total: 810 ms\n",
            "Wall time: 818 ms\n"
          ],
          "name": "stdout"
        }
      ]
    },
    {
      "cell_type": "code",
      "metadata": {
        "id": "sMb_CezDFKS_",
        "colab_type": "code",
        "colab": {
          "base_uri": "https://localhost:8080/",
          "height": 204
        },
        "outputId": "89e4da98-c832-469f-b6f1-c8b29e9dc93c"
      },
      "source": [
        "train_docs[:5]\n",
        "temp = pd.DataFrame(train_docs)\n",
        "temp['words'] = temp['words'].apply(lambda x: [ftfy.fix_text(y) for y in x])\n",
        "temp.head()"
      ],
      "execution_count": 131,
      "outputs": [
        {
          "output_type": "execute_result",
          "data": {
            "text/html": [
              "<div>\n",
              "<style scoped>\n",
              "    .dataframe tbody tr th:only-of-type {\n",
              "        vertical-align: middle;\n",
              "    }\n",
              "\n",
              "    .dataframe tbody tr th {\n",
              "        vertical-align: top;\n",
              "    }\n",
              "\n",
              "    .dataframe thead th {\n",
              "        text-align: right;\n",
              "    }\n",
              "</style>\n",
              "<table border=\"1\" class=\"dataframe\">\n",
              "  <thead>\n",
              "    <tr style=\"text-align: right;\">\n",
              "      <th></th>\n",
              "      <th>doc_id</th>\n",
              "      <th>is_spam</th>\n",
              "      <th>url</th>\n",
              "      <th>features</th>\n",
              "      <th>words</th>\n",
              "    </tr>\n",
              "  </thead>\n",
              "  <tbody>\n",
              "    <tr>\n",
              "      <th>0</th>\n",
              "      <td>-9222401963271173253</td>\n",
              "      <td>False</td>\n",
              "      <td>http://lawleader.ru/docs/32/</td>\n",
              "      <td>[3359, 6.318547186662697, 4, 1, 0]</td>\n",
              "      <td>[договор, займа, договоры, договора, function,...</td>\n",
              "    </tr>\n",
              "    <tr>\n",
              "      <th>1</th>\n",
              "      <td>-9221399504663603656</td>\n",
              "      <td>False</td>\n",
              "      <td>http://alterhost.ruwww.alterhost.ruwww.user.kz...</td>\n",
              "      <td>[956, 4.908995815899582, 3, 1, 0]</td>\n",
              "      <td>[uzru, миры, общения, domain, discovery, backg...</td>\n",
              "    </tr>\n",
              "    <tr>\n",
              "      <th>2</th>\n",
              "      <td>-9219733223042265364</td>\n",
              "      <td>False</td>\n",
              "      <td>http://www.ferio.ru/c_1-acura-legend.html</td>\n",
              "      <td>[1551, 4.8807221147646676, 7, 2, 0]</td>\n",
              "      <td>[ferio, ru, ремонт, и, автозапчасти, acura, le...</td>\n",
              "    </tr>\n",
              "    <tr>\n",
              "      <th>3</th>\n",
              "      <td>-9218561774155397294</td>\n",
              "      <td>False</td>\n",
              "      <td>http://fshops.otzyv.ru/read.php?id=277</td>\n",
              "      <td>[1062, 4.869114877589454, 3, 0, 0]</td>\n",
              "      <td>[как, повесить, штору, function, checkuser, if...</td>\n",
              "    </tr>\n",
              "    <tr>\n",
              "      <th>4</th>\n",
              "      <td>-9216163564171210203</td>\n",
              "      <td>True</td>\n",
              "      <td>http://penhea895.narod.ru/familiya-shushmarche...</td>\n",
              "      <td>[522, 5.241379310344827, 4, 1, 0]</td>\n",
              "      <td>[фамилия, шушмарченко, французские, фамилии, b...</td>\n",
              "    </tr>\n",
              "  </tbody>\n",
              "</table>\n",
              "</div>"
            ],
            "text/plain": [
              "                doc_id  ...                                              words\n",
              "0 -9222401963271173253  ...  [договор, займа, договоры, договора, function,...\n",
              "1 -9221399504663603656  ...  [uzru, миры, общения, domain, discovery, backg...\n",
              "2 -9219733223042265364  ...  [ferio, ru, ремонт, и, автозапчасти, acura, le...\n",
              "3 -9218561774155397294  ...  [как, повесить, штору, function, checkuser, if...\n",
              "4 -9216163564171210203  ...  [фамилия, шушмарченко, французские, фамилии, b...\n",
              "\n",
              "[5 rows x 5 columns]"
            ]
          },
          "metadata": {
            "tags": []
          },
          "execution_count": 131
        }
      ]
    },
    {
      "cell_type": "code",
      "metadata": {
        "id": "fA2FY3PWQYKj",
        "colab_type": "code",
        "colab": {
          "base_uri": "https://localhost:8080/",
          "height": 34
        },
        "outputId": "03381a18-01db-4053-e482-3f0648e9c807"
      },
      "source": [
        ""
      ],
      "execution_count": 118,
      "outputs": [
        {
          "output_type": "execute_result",
          "data": {
            "text/plain": [
              "'ð'"
            ]
          },
          "metadata": {
            "tags": []
          },
          "execution_count": 118
        }
      ]
    },
    {
      "cell_type": "code",
      "metadata": {
        "id": "xni4l3kRFKTF",
        "colab_type": "code",
        "colab": {
          "base_uri": "https://localhost:8080/",
          "height": 281
        },
        "outputId": "e0ac37b1-397b-4d92-cf4d-aec17de6e240"
      },
      "source": [
        "is_spam_data = [doc.features[0] for doc in train_docs if doc[1] == True]\n",
        "not_spam_data = [doc.features[0] for doc in train_docs if doc[1] == False]\n",
        "bins = range(0,3000,10)\n",
        "plt.hist(is_spam_data, bins=bins, color='red', density=True, alpha=0.7, label='spam')\n",
        "plt.hist(not_spam_data, bins=bins, color='blue', density=True, alpha=0.7, label='not_spam')\n",
        "plt.title('NumWords')\n",
        "plt.legend()\n",
        "plt.show()"
      ],
      "execution_count": 132,
      "outputs": [
        {
          "output_type": "display_data",
          "data": {
            "image/png": "[encoded data removed]",
            "text/plain": [
              "<Figure size 432x288 with 1 Axes>"
            ]
          },
          "metadata": {
            "tags": []
          }
        }
      ]
    },
    {
      "cell_type": "code",
      "metadata": {
        "id": "Dqii3KnHFKTK",
        "colab_type": "code",
        "colab": {
          "base_uri": "https://localhost:8080/",
          "height": 281
        },
        "outputId": "d65e211a-eee7-4545-ac27-bc5bc262f5c9"
      },
      "source": [
        "is_spam_data = [doc.features[1] for doc in train_docs if doc[1] == True]\n",
        "not_spam_data = [doc.features[1] for doc in train_docs if doc[1] == False]\n",
        "bins = 100\n",
        "plt.hist(is_spam_data, bins=bins, color='red', density=True, alpha=0.7, label='spam')\n",
        "plt.hist(not_spam_data, bins=bins, color='blue', density=True, alpha=0.7, label='not_spam')\n",
        "plt.title('AvgWordLen')\n",
        "plt.legend()\n",
        "plt.show()"
      ],
      "execution_count": 133,
      "outputs": [
        {
          "output_type": "display_data",
          "data": {
            "image/png": "[encoded data removed]",
            "text/plain": [
              "<Figure size 432x288 with 1 Axes>"
            ]
          },
          "metadata": {
            "tags": []
          }
        }
      ]
    },
    {
      "cell_type": "code",
      "metadata": {
        "id": "byGNhtEIFKTc",
        "colab_type": "code",
        "colab": {
          "base_uri": "https://localhost:8080/",
          "height": 383
        },
        "outputId": "3dd0cde2-db4f-4463-bda3-06d337e491de"
      },
      "source": [
        "is_spam_data = [doc.features[3] for doc in train_docs if doc[1] == True]\n",
        "not_spam_data = [doc.features[3] for doc in train_docs if doc[1] == False]\n",
        "bins = range(0, 30, 1)\n",
        "plt.hist(is_spam_data, bins=bins, color='red', normed=True, alpha=0.7, label='spam')\n",
        "plt.hist(not_spam_data, bins=bins, color='blue', normed=True, alpha=0.7, label='not_spam')\n",
        "plt.title('NumWordsTitle')\n",
        "plt.legend()\n",
        "plt.show()"
      ],
      "execution_count": 23,
      "outputs": [
        {
          "output_type": "stream",
          "text": [
            "/usr/local/lib/python3.6/dist-packages/ipykernel_launcher.py:4: MatplotlibDeprecationWarning: \n",
            "The 'normed' kwarg was deprecated in Matplotlib 2.1 and will be removed in 3.1. Use 'density' instead.\n",
            "  after removing the cwd from sys.path.\n",
            "/usr/local/lib/python3.6/dist-packages/ipykernel_launcher.py:5: MatplotlibDeprecationWarning: \n",
            "The 'normed' kwarg was deprecated in Matplotlib 2.1 and will be removed in 3.1. Use 'density' instead.\n",
            "  \"\"\"\n"
          ],
          "name": "stderr"
        },
        {
          "output_type": "display_data",
          "data": {
            "image/png": "[encoded data removed]",
            "text/plain": [
              "<Figure size 432x288 with 1 Axes>"
            ]
          },
          "metadata": {
            "tags": []
          }
        }
      ]
    },
    {
      "cell_type": "code",
      "metadata": {
        "id": "TTcm8yKfFKTr",
        "colab_type": "code",
        "colab": {}
      },
      "source": [
        "# Add graphics for other features"
      ],
      "execution_count": 0,
      "outputs": []
    },
    {
      "cell_type": "markdown",
      "metadata": {
        "id": "Z8znQ-nVFKTv",
        "colab_type": "text"
      },
      "source": [
        "** Classifier: **\n",
        "Need to implement"
      ]
    },
    {
      "cell_type": "code",
      "metadata": {
        "id": "ZKcw-Qbu2nYN",
        "colab_type": "code",
        "colab": {}
      },
      "source": [
        "from sklearn.feature_extraction.text import TfidfVectorizer\n",
        "from sklearn.feature_extraction.text import CountVectorizer"
      ],
      "execution_count": 0,
      "outputs": []
    },
    {
      "cell_type": "code",
      "metadata": {
        "id": "tfS6PPyi1svC",
        "colab_type": "code",
        "colab": {}
      },
      "source": [
        "train_data = pd.DataFrame(train_docs)\n",
        "X_train = train_data['words']\n",
        "y_train = train_data['is_spam'].replace({True: 1, False: 0})"
      ],
      "execution_count": 0,
      "outputs": []
    },
    {
      "cell_type": "code",
      "metadata": {
        "id": "UetBZOSP3XcO",
        "colab_type": "code",
        "colab": {
          "base_uri": "https://localhost:8080/",
          "height": 681
        },
        "outputId": "4bf6cf5c-96c0-4e47-ede9-85a4271123d4"
      },
      "source": [
        "tf = TfidfVectorizer()\n",
        "X_train = tf.fit_transform(X_train)"
      ],
      "execution_count": 40,
      "outputs": [
        {
          "output_type": "error",
          "ename": "AttributeError",
          "evalue": "ignored",
          "traceback": [
            "\u001b[0;31m---------------------------------------------------------------------------\u001b[0m",
            "\u001b[0;31mAttributeError\u001b[0m                            Traceback (most recent call last)",
            "\u001b[0;32m<ipython-input-40-8083ff937ed9>\u001b[0m in \u001b[0;36m<module>\u001b[0;34m()\u001b[0m\n\u001b[1;32m      1\u001b[0m \u001b[0mcv\u001b[0m \u001b[0;34m=\u001b[0m \u001b[0mCountVectorizer\u001b[0m\u001b[0;34m(\u001b[0m\u001b[0;34m)\u001b[0m\u001b[0;34m\u001b[0m\u001b[0;34m\u001b[0m\u001b[0m\n\u001b[0;32m----> 2\u001b[0;31m \u001b[0mX_train\u001b[0m \u001b[0;34m=\u001b[0m \u001b[0mcv\u001b[0m\u001b[0;34m.\u001b[0m\u001b[0mfit_transform\u001b[0m\u001b[0;34m(\u001b[0m\u001b[0mX_train\u001b[0m\u001b[0;34m)\u001b[0m\u001b[0;34m\u001b[0m\u001b[0;34m\u001b[0m\u001b[0m\n\u001b[0m",
            "\u001b[0;32m/usr/local/lib/python3.6/dist-packages/sklearn/feature_extraction/text.py\u001b[0m in \u001b[0;36mfit_transform\u001b[0;34m(self, raw_documents, y)\u001b[0m\n\u001b[1;32m   1056\u001b[0m \u001b[0;34m\u001b[0m\u001b[0m\n\u001b[1;32m   1057\u001b[0m         vocabulary, X = self._count_vocab(raw_documents,\n\u001b[0;32m-> 1058\u001b[0;31m                                           self.fixed_vocabulary_)\n\u001b[0m\u001b[1;32m   1059\u001b[0m \u001b[0;34m\u001b[0m\u001b[0m\n\u001b[1;32m   1060\u001b[0m         \u001b[0;32mif\u001b[0m \u001b[0mself\u001b[0m\u001b[0;34m.\u001b[0m\u001b[0mbinary\u001b[0m\u001b[0;34m:\u001b[0m\u001b[0;34m\u001b[0m\u001b[0;34m\u001b[0m\u001b[0m\n",
            "\u001b[0;32m/usr/local/lib/python3.6/dist-packages/sklearn/feature_extraction/text.py\u001b[0m in \u001b[0;36m_count_vocab\u001b[0;34m(self, raw_documents, fixed_vocab)\u001b[0m\n\u001b[1;32m    968\u001b[0m         \u001b[0;32mfor\u001b[0m \u001b[0mdoc\u001b[0m \u001b[0;32min\u001b[0m \u001b[0mraw_documents\u001b[0m\u001b[0;34m:\u001b[0m\u001b[0;34m\u001b[0m\u001b[0;34m\u001b[0m\u001b[0m\n\u001b[1;32m    969\u001b[0m             \u001b[0mfeature_counter\u001b[0m \u001b[0;34m=\u001b[0m \u001b[0;34m{\u001b[0m\u001b[0;34m}\u001b[0m\u001b[0;34m\u001b[0m\u001b[0;34m\u001b[0m\u001b[0m\n\u001b[0;32m--> 970\u001b[0;31m             \u001b[0;32mfor\u001b[0m \u001b[0mfeature\u001b[0m \u001b[0;32min\u001b[0m \u001b[0manalyze\u001b[0m\u001b[0;34m(\u001b[0m\u001b[0mdoc\u001b[0m\u001b[0;34m)\u001b[0m\u001b[0;34m:\u001b[0m\u001b[0;34m\u001b[0m\u001b[0;34m\u001b[0m\u001b[0m\n\u001b[0m\u001b[1;32m    971\u001b[0m                 \u001b[0;32mtry\u001b[0m\u001b[0;34m:\u001b[0m\u001b[0;34m\u001b[0m\u001b[0;34m\u001b[0m\u001b[0m\n\u001b[1;32m    972\u001b[0m                     \u001b[0mfeature_idx\u001b[0m \u001b[0;34m=\u001b[0m \u001b[0mvocabulary\u001b[0m\u001b[0;34m[\u001b[0m\u001b[0mfeature\u001b[0m\u001b[0;34m]\u001b[0m\u001b[0;34m\u001b[0m\u001b[0;34m\u001b[0m\u001b[0m\n",
            "\u001b[0;32m/usr/local/lib/python3.6/dist-packages/sklearn/feature_extraction/text.py\u001b[0m in \u001b[0;36m<lambda>\u001b[0;34m(doc)\u001b[0m\n\u001b[1;32m    350\u001b[0m                                                tokenize)\n\u001b[1;32m    351\u001b[0m             return lambda doc: self._word_ngrams(\n\u001b[0;32m--> 352\u001b[0;31m                 tokenize(preprocess(self.decode(doc))), stop_words)\n\u001b[0m\u001b[1;32m    353\u001b[0m \u001b[0;34m\u001b[0m\u001b[0m\n\u001b[1;32m    354\u001b[0m         \u001b[0;32melse\u001b[0m\u001b[0;34m:\u001b[0m\u001b[0;34m\u001b[0m\u001b[0;34m\u001b[0m\u001b[0m\n",
            "\u001b[0;32m/usr/local/lib/python3.6/dist-packages/sklearn/feature_extraction/text.py\u001b[0m in \u001b[0;36m<lambda>\u001b[0;34m(x)\u001b[0m\n\u001b[1;32m    254\u001b[0m \u001b[0;34m\u001b[0m\u001b[0m\n\u001b[1;32m    255\u001b[0m         \u001b[0;32mif\u001b[0m \u001b[0mself\u001b[0m\u001b[0;34m.\u001b[0m\u001b[0mlowercase\u001b[0m\u001b[0;34m:\u001b[0m\u001b[0;34m\u001b[0m\u001b[0;34m\u001b[0m\u001b[0m\n\u001b[0;32m--> 256\u001b[0;31m             \u001b[0;32mreturn\u001b[0m \u001b[0;32mlambda\u001b[0m \u001b[0mx\u001b[0m\u001b[0;34m:\u001b[0m \u001b[0mstrip_accents\u001b[0m\u001b[0;34m(\u001b[0m\u001b[0mx\u001b[0m\u001b[0;34m.\u001b[0m\u001b[0mlower\u001b[0m\u001b[0;34m(\u001b[0m\u001b[0;34m)\u001b[0m\u001b[0;34m)\u001b[0m\u001b[0;34m\u001b[0m\u001b[0;34m\u001b[0m\u001b[0m\n\u001b[0m\u001b[1;32m    257\u001b[0m         \u001b[0;32melse\u001b[0m\u001b[0;34m:\u001b[0m\u001b[0;34m\u001b[0m\u001b[0;34m\u001b[0m\u001b[0m\n\u001b[1;32m    258\u001b[0m             \u001b[0;32mreturn\u001b[0m \u001b[0mstrip_accents\u001b[0m\u001b[0;34m\u001b[0m\u001b[0;34m\u001b[0m\u001b[0m\n",
            "\u001b[0;31mAttributeError\u001b[0m: 'list' object has no attribute 'lower'"
          ]
        }
      ]
    },
    {
      "cell_type": "code",
      "metadata": {
        "id": "XWChFwE42df9",
        "colab_type": "code",
        "colab": {
          "base_uri": "https://localhost:8080/",
          "height": 164
        },
        "outputId": "e949d047-59fd-488e-ecce-17dfa1db2a25"
      },
      "source": [
        "X_train.shape, y_train.shape"
      ],
      "execution_count": 32,
      "outputs": [
        {
          "output_type": "error",
          "ename": "AttributeError",
          "evalue": "ignored",
          "traceback": [
            "\u001b[0;31m---------------------------------------------------------------------------\u001b[0m",
            "\u001b[0;31mAttributeError\u001b[0m                            Traceback (most recent call last)",
            "\u001b[0;32m<ipython-input-32-a363d04b017e>\u001b[0m in \u001b[0;36m<module>\u001b[0;34m()\u001b[0m\n\u001b[0;32m----> 1\u001b[0;31m \u001b[0mX_train\u001b[0m\u001b[0;34m.\u001b[0m\u001b[0mshape\u001b[0m\u001b[0;34m,\u001b[0m \u001b[0my_train\u001b[0m\u001b[0;34m.\u001b[0m\u001b[0mshape\u001b[0m\u001b[0;34m\u001b[0m\u001b[0;34m\u001b[0m\u001b[0m\n\u001b[0m",
            "\u001b[0;31mAttributeError\u001b[0m: 'TfidfVectorizer' object has no attribute 'shape'"
          ]
        }
      ]
    },
    {
      "cell_type": "code",
      "metadata": {
        "id": "AU9kLds01OB4",
        "colab_type": "code",
        "colab": {
          "base_uri": "https://localhost:8080/",
          "height": 204
        },
        "outputId": "32e7934b-0c6c-4275-b4b1-7d7549b1d4cd"
      },
      "source": [
        "pd.DataFrame(train_docs[:5])"
      ],
      "execution_count": 25,
      "outputs": [
        {
          "output_type": "execute_result",
          "data": {
            "text/html": [
              "<div>\n",
              "<style scoped>\n",
              "    .dataframe tbody tr th:only-of-type {\n",
              "        vertical-align: middle;\n",
              "    }\n",
              "\n",
              "    .dataframe tbody tr th {\n",
              "        vertical-align: top;\n",
              "    }\n",
              "\n",
              "    .dataframe thead th {\n",
              "        text-align: right;\n",
              "    }\n",
              "</style>\n",
              "<table border=\"1\" class=\"dataframe\">\n",
              "  <thead>\n",
              "    <tr style=\"text-align: right;\">\n",
              "      <th></th>\n",
              "      <th>doc_id</th>\n",
              "      <th>is_spam</th>\n",
              "      <th>url</th>\n",
              "      <th>features</th>\n",
              "      <th>words</th>\n",
              "    </tr>\n",
              "  </thead>\n",
              "  <tbody>\n",
              "    <tr>\n",
              "      <th>0</th>\n",
              "      <td>-9222401963271173253</td>\n",
              "      <td>False</td>\n",
              "      <td>http://lawleader.ru/docs/32/</td>\n",
              "      <td>[13071, 2.20434549766659, 11, 5, 0]</td>\n",
              "      <td>[ð, ð¾ð³ð¾ð²ð¾ñ, ð, ð, ð¹ð¼ð, ð, ð¾ð³ð¾ð²ð¾ñ, ...</td>\n",
              "    </tr>\n",
              "    <tr>\n",
              "      <th>1</th>\n",
              "      <td>-9221399504663603656</td>\n",
              "      <td>False</td>\n",
              "      <td>http://alterhost.ruwww.alterhost.ruwww.user.kz...</td>\n",
              "      <td>[2049, 2.6012689116642265, 8, 5, 0]</td>\n",
              "      <td>[uzru, ð¼ð, ñ, ñ, ð¾ð, ñ, ðµð½ð, ñ, domain, di...</td>\n",
              "    </tr>\n",
              "    <tr>\n",
              "      <th>2</th>\n",
              "      <td>-9219733223042265364</td>\n",
              "      <td>False</td>\n",
              "      <td>http://www.ferio.ru/c_1-acura-legend.html</td>\n",
              "      <td>[4212, 2.221272554605888, 17, 10, 0]</td>\n",
              "      <td>[ferio, ru, ñ, ðµð¼ð¾ð½ñ, ð, ð, ð²ñ, ð¾ð, ð, ð...</td>\n",
              "    </tr>\n",
              "    <tr>\n",
              "      <th>3</th>\n",
              "      <td>-9218561774155397294</td>\n",
              "      <td>False</td>\n",
              "      <td>http://fshops.otzyv.ru/read.php?id=277</td>\n",
              "      <td>[2647, 2.365697015489233, 12, 0, 0]</td>\n",
              "      <td>[ð, ð, ðº, ð, ð¾ð²ðµñ, ð, ñ, ñ, ñ, ñ, ð¾ñ, ñ, ...</td>\n",
              "    </tr>\n",
              "    <tr>\n",
              "      <th>4</th>\n",
              "      <td>-9216163564171210203</td>\n",
              "      <td>True</td>\n",
              "      <td>http://penhea895.narod.ru/familiya-shushmarche...</td>\n",
              "      <td>[1639, 2.1287370347773034, 28, 5, 0]</td>\n",
              "      <td>[ð, ð, ð¼ð, ð, ð, ñ, ð, ñ, ñ, ð¼ð, ñ, ñ, ðµð½ð...</td>\n",
              "    </tr>\n",
              "  </tbody>\n",
              "</table>\n",
              "</div>"
            ],
            "text/plain": [
              "                doc_id  ...                                              words\n",
              "0 -9222401963271173253  ...  [ð, ð¾ð³ð¾ð²ð¾ñ, ð, ð, ð¹ð¼ð, ð, ð¾ð³ð¾ð²ð¾ñ, ...\n",
              "1 -9221399504663603656  ...  [uzru, ð¼ð, ñ, ñ, ð¾ð, ñ, ðµð½ð, ñ, domain, di...\n",
              "2 -9219733223042265364  ...  [ferio, ru, ñ, ðµð¼ð¾ð½ñ, ð, ð, ð²ñ, ð¾ð, ð, ð...\n",
              "3 -9218561774155397294  ...  [ð, ð, ðº, ð, ð¾ð²ðµñ, ð, ñ, ñ, ñ, ñ, ð¾ñ, ñ, ...\n",
              "4 -9216163564171210203  ...  [ð, ð, ð¼ð, ð, ð, ñ, ð, ñ, ñ, ð¼ð, ñ, ñ, ðµð½ð...\n",
              "\n",
              "[5 rows x 5 columns]"
            ]
          },
          "metadata": {
            "tags": []
          },
          "execution_count": 25
        }
      ]
    },
    {
      "cell_type": "code",
      "metadata": {
        "id": "Onz4Osxd1OHH",
        "colab_type": "code",
        "colab": {}
      },
      "source": [
        ""
      ],
      "execution_count": 0,
      "outputs": []
    },
    {
      "cell_type": "code",
      "metadata": {
        "id": "WLM3UNcn1N-A",
        "colab_type": "code",
        "colab": {}
      },
      "source": [
        ""
      ],
      "execution_count": 0,
      "outputs": []
    },
    {
      "cell_type": "code",
      "metadata": {
        "id": "abPRkZTlFKTx",
        "colab_type": "code",
        "colab": {}
      },
      "source": [
        "from sklearn.neural_network import MLPClassifier\n",
        "import numpy as np"
      ],
      "execution_count": 0,
      "outputs": []
    },
    {
      "cell_type": "code",
      "metadata": {
        "id": "O9XG5EU8FKT0",
        "colab_type": "code",
        "colab": {}
      },
      "source": [
        "from sklearn.svm import SVC\n",
        "from sklearn.metrics import f1_score, confusion_matrix\n",
        "from sklearn.tree import DecisionTreeClassifier\n",
        "from sklearn.ensemble import RandomForestClassifier\n",
        "from sklearn.ensemble import GradientBoostingClassifier\n",
        "from sklearn.model_selection import GridSearchCV"
      ],
      "execution_count": 0,
      "outputs": []
    },
    {
      "cell_type": "code",
      "metadata": {
        "id": "pEAt4P1cFKT3",
        "colab_type": "code",
        "colab": {},
        "outputId": "d4e11d68-49da-42de-b3c0-602caf0da306"
      },
      "source": [
        "parameters = {'learning_rate':[1, 0.5, 0.25, 0.1, 0.05, 0.01], 'n_estimators':[1, 2, 4, 8, 16, 32, 64, 100, 200],\n",
        "             'max_depth':np.linspace(1, 32, 32, endpoint=True),'min_samples_split':np.linspace(0.1, 1.0, 10, endpoint=True)}\n",
        "clf = GradientBoostingClassifier()\n",
        "gs = GridSearchCV(clf, parameters, verbose = True, n_jobs = -1)\n",
        "gs.fit(data, target)"
      ],
      "execution_count": 0,
      "outputs": [
        {
          "output_type": "stream",
          "text": [
            "Fitting 3 folds for each of 17280 candidates, totalling 51840 fits\n"
          ],
          "name": "stdout"
        },
        {
          "output_type": "stream",
          "text": [
            "/opt/anaconda3/lib/python3.7/site-packages/sklearn/model_selection/_split.py:1978: FutureWarning: The default value of cv will change from 3 to 5 in version 0.22. Specify it explicitly to silence this warning.\n",
            "  warnings.warn(CV_WARNING, FutureWarning)\n",
            "[Parallel(n_jobs=-1)]: Using backend LokyBackend with 8 concurrent workers.\n",
            "[Parallel(n_jobs=-1)]: Done  34 tasks      | elapsed:    3.2s\n",
            "[Parallel(n_jobs=-1)]: Done 184 tasks      | elapsed:   12.3s\n",
            "[Parallel(n_jobs=-1)]: Done 434 tasks      | elapsed:   28.3s\n",
            "[Parallel(n_jobs=-1)]: Done 784 tasks      | elapsed:   51.9s\n",
            "[Parallel(n_jobs=-1)]: Done 1234 tasks      | elapsed:  1.4min\n",
            "[Parallel(n_jobs=-1)]: Done 1784 tasks      | elapsed:  2.0min\n",
            "[Parallel(n_jobs=-1)]: Done 2434 tasks      | elapsed:  2.7min\n",
            "[Parallel(n_jobs=-1)]: Done 3184 tasks      | elapsed:  3.6min\n",
            "[Parallel(n_jobs=-1)]: Done 4034 tasks      | elapsed:  4.6min\n",
            "[Parallel(n_jobs=-1)]: Done 4984 tasks      | elapsed:  5.8min\n",
            "[Parallel(n_jobs=-1)]: Done 6034 tasks      | elapsed:  7.1min\n",
            "[Parallel(n_jobs=-1)]: Done 7184 tasks      | elapsed:  8.6min\n",
            "[Parallel(n_jobs=-1)]: Done 8434 tasks      | elapsed: 10.3min\n",
            "[Parallel(n_jobs=-1)]: Done 9784 tasks      | elapsed: 11.8min\n",
            "[Parallel(n_jobs=-1)]: Done 11234 tasks      | elapsed: 13.6min\n",
            "[Parallel(n_jobs=-1)]: Done 12784 tasks      | elapsed: 15.5min\n",
            "[Parallel(n_jobs=-1)]: Done 14434 tasks      | elapsed: 17.9min\n",
            "[Parallel(n_jobs=-1)]: Done 16184 tasks      | elapsed: 20.3min\n",
            "[Parallel(n_jobs=-1)]: Done 18034 tasks      | elapsed: 22.7min\n",
            "[Parallel(n_jobs=-1)]: Done 19984 tasks      | elapsed: 24.9min\n",
            "[Parallel(n_jobs=-1)]: Done 22034 tasks      | elapsed: 27.5min\n",
            "[Parallel(n_jobs=-1)]: Done 24184 tasks      | elapsed: 30.4min\n",
            "[Parallel(n_jobs=-1)]: Done 26434 tasks      | elapsed: 33.4min\n",
            "[Parallel(n_jobs=-1)]: Done 28784 tasks      | elapsed: 36.2min\n",
            "[Parallel(n_jobs=-1)]: Done 31234 tasks      | elapsed: 39.2min\n",
            "[Parallel(n_jobs=-1)]: Done 33784 tasks      | elapsed: 42.6min\n",
            "[Parallel(n_jobs=-1)]: Done 36434 tasks      | elapsed: 45.6min\n",
            "[Parallel(n_jobs=-1)]: Done 39184 tasks      | elapsed: 48.8min\n",
            "[Parallel(n_jobs=-1)]: Done 42034 tasks      | elapsed: 52.2min\n",
            "[Parallel(n_jobs=-1)]: Done 44984 tasks      | elapsed: 55.6min\n",
            "[Parallel(n_jobs=-1)]: Done 48034 tasks      | elapsed: 59.0min\n",
            "[Parallel(n_jobs=-1)]: Done 51184 tasks      | elapsed: 62.7min\n",
            "[Parallel(n_jobs=-1)]: Done 51840 out of 51840 | elapsed: 63.5min finished\n"
          ],
          "name": "stderr"
        },
        {
          "output_type": "execute_result",
          "data": {
            "text/plain": [
              "GridSearchCV(cv='warn', error_score='raise-deprecating',\n",
              "             estimator=GradientBoostingClassifier(criterion='friedman_mse',\n",
              "                                                  init=None, learning_rate=0.1,\n",
              "                                                  loss='deviance', max_depth=3,\n",
              "                                                  max_features=None,\n",
              "                                                  max_leaf_nodes=None,\n",
              "                                                  min_impurity_decrease=0.0,\n",
              "                                                  min_impurity_split=None,\n",
              "                                                  min_samples_leaf=1,\n",
              "                                                  min_samples_split=2,\n",
              "                                                  min_weight_fraction_leaf=0.0,\n",
              "                                                  n_estimators=100,\n",
              "                                                  n_it...\n",
              "             param_grid={'learning_rate': [1, 0.5, 0.25, 0.1, 0.05, 0.01],\n",
              "                         'max_depth': array([ 1.,  2.,  3.,  4.,  5.,  6.,  7.,  8.,  9., 10., 11., 12., 13.,\n",
              "       14., 15., 16., 17., 18., 19., 20., 21., 22., 23., 24., 25., 26.,\n",
              "       27., 28., 29., 30., 31., 32.]),\n",
              "                         'min_samples_split': array([0.1, 0.2, 0.3, 0.4, 0.5, 0.6, 0.7, 0.8, 0.9, 1. ]),\n",
              "                         'n_estimators': [1, 2, 4, 8, 16, 32, 64, 100, 200]},\n",
              "             pre_dispatch='2*n_jobs', refit=True, return_train_score=False,\n",
              "             scoring=None, verbose=True)"
            ]
          },
          "metadata": {
            "tags": []
          },
          "execution_count": 397
        }
      ]
    },
    {
      "cell_type": "code",
      "metadata": {
        "id": "mxfZozUwFKT6",
        "colab_type": "code",
        "colab": {},
        "outputId": "29e3802f-cd3d-4b8c-e955-6656f5bd802c"
      },
      "source": [
        "best_params = gs.best_params_\n",
        "best_params"
      ],
      "execution_count": 0,
      "outputs": [
        {
          "output_type": "execute_result",
          "data": {
            "text/plain": [
              "{'learning_rate': 0.25,\n",
              " 'max_depth': 3.0,\n",
              " 'min_samples_split': 0.1,\n",
              " 'n_estimators': 200}"
            ]
          },
          "metadata": {
            "tags": []
          },
          "execution_count": 400
        }
      ]
    },
    {
      "cell_type": "code",
      "metadata": {
        "id": "FRwHVObsFKT-",
        "colab_type": "code",
        "colab": {}
      },
      "source": [
        "data = []\n",
        "target = []\n",
        "for s in train_docs:\n",
        "    data.append(s.features[:3])\n",
        "    target.append(s.is_spam)"
      ],
      "execution_count": 0,
      "outputs": []
    },
    {
      "cell_type": "code",
      "metadata": {
        "id": "dqkjE6abFKUG",
        "colab_type": "code",
        "colab": {}
      },
      "source": [
        "class Classifier:\n",
        "    \n",
        "    def __init__(self):\n",
        "        \n",
        "        self.clf = GradientBoostingClassifier(learning_rate= 0.25, max_depth= 3.0, min_samples_split= 0.1,\n",
        "                                              n_estimators= 200, verbose = True)\n",
        "        pass\n",
        "\n",
        "    def predict(self, doc):       \n",
        "        print([doc.features[:4]])\n",
        "        return self.clf.predict([doc.features[:4]])                    \n",
        "    \n",
        "    def predict_all(self, docs):\n",
        "        res = []\n",
        "        for doc_num, doc in enumerate(docs):\n",
        "            #if doc_num > 500:\n",
        "                #break\n",
        "            trace(doc_num)\n",
        "            prediction = self.predict(doc)            \n",
        "            res.append( (doc.doc_id, doc.is_spam, doc.url, prediction) )\n",
        "        return res\n",
        "    \n",
        "    def predict_proba(self, doc):\n",
        "        return self.clf.predict_proba([doc.features[:4]])    \n",
        "    \n",
        "    def predict_proba_all(self, docs):\n",
        "        res = []\n",
        "        for doc_num, doc in enumerate(docs):\n",
        "            trace(doc_num)\n",
        "            proba = self.predict_proba(doc)            \n",
        "            res.append(proba)\n",
        "        return res\n",
        "    \n",
        "    def train(self, docs):\n",
        "        features = []\n",
        "        labels = []\n",
        "        for doc_num, doc in enumerate(docs):\n",
        "            features.append(doc.features)\n",
        "            labels.append(doc.is_spam)\n",
        "            #TODO вставить код обучения\n",
        "            trace(doc_num)\n",
        "        features = np.array(features)[:,:4]\n",
        "        self.clf.fit(features,labels)\n",
        "        print(self.clf.feature_importances_)\n",
        "        trace(doc_num, 1)"
      ],
      "execution_count": 0,
      "outputs": []
    },
    {
      "cell_type": "code",
      "metadata": {
        "id": "GzJRt_n8FKUJ",
        "colab_type": "code",
        "colab": {}
      },
      "source": [
        "train_train = train_docs[:5500]\n",
        "train_val = train_docs[5500:]"
      ],
      "execution_count": 0,
      "outputs": []
    },
    {
      "cell_type": "code",
      "metadata": {
        "scrolled": true,
        "id": "mtm8b39BFKUN",
        "colab_type": "code",
        "colab": {},
        "outputId": "296c90f0-ff83-4486-e26a-62251bcdcc2a"
      },
      "source": [
        "classifier = Classifier()\n",
        "classifier.train(train_train)"
      ],
      "execution_count": 0,
      "outputs": [
        {
          "output_type": "stream",
          "text": [
            "17:45:34 INFO:Complete items 00000\n",
            "17:45:34 INFO:Complete items 01000\n",
            "17:45:34 INFO:Complete items 02000\n",
            "17:45:34 INFO:Complete items 03000\n",
            "17:45:34 INFO:Complete items 04000\n",
            "17:45:34 INFO:Complete items 05000\n"
          ],
          "name": "stderr"
        },
        {
          "output_type": "stream",
          "text": [
            "      Iter       Train Loss   Remaining Time \n",
            "         1           1.2294            0.55s\n",
            "         2           1.1504            0.55s\n",
            "         3           1.1008            0.53s\n",
            "         4           1.0649            0.52s\n",
            "         5           1.0399            0.52s\n",
            "         6           1.0180            0.51s\n",
            "         7           0.9987            0.51s\n",
            "         8           0.9824            0.50s\n",
            "         9           0.9694            0.49s\n",
            "        10           0.9583            0.49s\n",
            "        20           0.9155            0.48s\n",
            "        30           0.8930            0.42s\n",
            "        40           0.8747            0.37s\n",
            "        50           0.8617            0.36s\n",
            "        60           0.8502            0.32s\n",
            "        70           0.8421            0.28s\n",
            "        80           0.8340            0.25s\n",
            "        90           0.8255            0.22s\n",
            "       100           0.8173            0.20s\n"
          ],
          "name": "stdout"
        },
        {
          "output_type": "stream",
          "text": [
            "17:45:34 INFO:Complete items 05499\n"
          ],
          "name": "stderr"
        },
        {
          "output_type": "stream",
          "text": [
            "       200           0.7471            0.00s\n",
            "[0.30034742 0.46122268 0.11286008 0.12556982]\n"
          ],
          "name": "stdout"
        }
      ]
    },
    {
      "cell_type": "code",
      "metadata": {
        "id": "QPRA0yzeFKUU",
        "colab_type": "code",
        "colab": {},
        "outputId": "4ed3a4c5-51f4-4be5-a70b-5f27b5556330"
      },
      "source": [
        "# See what is predicted for test html\n",
        "classifier.predict(DocItem(0, 0, test_url , test_features))"
      ],
      "execution_count": 0,
      "outputs": [
        {
          "output_type": "error",
          "ename": "NameError",
          "evalue": "name 'classifier' is not defined",
          "traceback": [
            "\u001b[0;31m---------------------------------------------------------------------------\u001b[0m",
            "\u001b[0;31mNameError\u001b[0m                                 Traceback (most recent call last)",
            "\u001b[0;32m<ipython-input-32-9cf2cb8385cb>\u001b[0m in \u001b[0;36m<module>\u001b[0;34m\u001b[0m\n\u001b[1;32m      1\u001b[0m \u001b[0;31m# See what is predicted for test html\u001b[0m\u001b[0;34m\u001b[0m\u001b[0;34m\u001b[0m\u001b[0;34m\u001b[0m\u001b[0m\n\u001b[0;32m----> 2\u001b[0;31m \u001b[0mclassifier\u001b[0m\u001b[0;34m.\u001b[0m\u001b[0mpredict\u001b[0m\u001b[0;34m(\u001b[0m\u001b[0mDocItem\u001b[0m\u001b[0;34m(\u001b[0m\u001b[0;36m0\u001b[0m\u001b[0;34m,\u001b[0m \u001b[0;36m0\u001b[0m\u001b[0;34m,\u001b[0m \u001b[0mtest_url\u001b[0m \u001b[0;34m,\u001b[0m \u001b[0mtest_features\u001b[0m\u001b[0;34m)\u001b[0m\u001b[0;34m)\u001b[0m\u001b[0;34m\u001b[0m\u001b[0;34m\u001b[0m\u001b[0m\n\u001b[0m",
            "\u001b[0;31mNameError\u001b[0m: name 'classifier' is not defined"
          ]
        }
      ]
    },
    {
      "cell_type": "code",
      "metadata": {
        "id": "4IGqVPTXFKUd",
        "colab_type": "code",
        "colab": {}
      },
      "source": [
        "probs_true = np.array(probs)[:,0][:,1]\n",
        "breds2 = probs_true > 0.5"
      ],
      "execution_count": 0,
      "outputs": []
    },
    {
      "cell_type": "code",
      "metadata": {
        "id": "JyXVPF5jFKUi",
        "colab_type": "code",
        "colab": {},
        "outputId": "1a2e37e2-d837-41ca-ea7f-8ddce16d4e8d"
      },
      "source": [
        "f1_score(list(np.array(breds)[:,1]), list(np.array(breds)[:,3]), labels = [True, False],average = None)"
      ],
      "execution_count": 0,
      "outputs": [
        {
          "output_type": "execute_result",
          "data": {
            "text/plain": [
              "array([0.82599119, 0.75157233])"
            ]
          },
          "metadata": {
            "tags": []
          },
          "execution_count": 458
        }
      ]
    },
    {
      "cell_type": "code",
      "metadata": {
        "id": "MKLYXTpOFKUl",
        "colab_type": "code",
        "colab": {},
        "outputId": "103e67ea-b864-4d11-b043-292b266bfd95"
      },
      "source": [
        "np.sum(f1_score(list(np.array(breds)[:,1]), list(np.array(breds)[:,3]), average = None)* [nt/n,nf/n])"
      ],
      "execution_count": 0,
      "outputs": [
        {
          "output_type": "execute_result",
          "data": {
            "text/plain": [
              "0.7825641201220394"
            ]
          },
          "metadata": {
            "tags": []
          },
          "execution_count": 459
        }
      ]
    },
    {
      "cell_type": "code",
      "metadata": {
        "id": "LZ2AYgAWFKUo",
        "colab_type": "code",
        "colab": {}
      },
      "source": [
        "nt = list(np.array(breds)[:,1]).count(True)\n",
        "nf = list(np.array(breds)[:,1]).count(False)\n",
        "n = len(list(np.array(breds)[:,1]))"
      ],
      "execution_count": 0,
      "outputs": []
    },
    {
      "cell_type": "code",
      "metadata": {
        "id": "-mZh3nJ7FKUw",
        "colab_type": "code",
        "colab": {},
        "outputId": "9ab2a469-49ba-45d2-dba6-6614a4d457a4"
      },
      "source": [
        "nt,nf"
      ],
      "execution_count": 0,
      "outputs": [
        {
          "output_type": "execute_result",
          "data": {
            "text/plain": [
              "(901, 643)"
            ]
          },
          "metadata": {
            "tags": []
          },
          "execution_count": 305
        }
      ]
    },
    {
      "cell_type": "code",
      "metadata": {
        "id": "1P7Z2NebFKUz",
        "colab_type": "code",
        "colab": {},
        "outputId": "91529947-963a-4606-9e56-aeba625f0e12"
      },
      "source": [
        "confusion_matrix(list(np.array(breds)[:,1]), list(np.array(breds)[:,3]))"
      ],
      "execution_count": 0,
      "outputs": [
        {
          "output_type": "execute_result",
          "data": {
            "text/plain": [
              "array([[478, 165],\n",
              "       [151, 750]])"
            ]
          },
          "metadata": {
            "tags": []
          },
          "execution_count": 460
        }
      ]
    },
    {
      "cell_type": "code",
      "metadata": {
        "id": "NX6WzdWHFKU3",
        "colab_type": "code",
        "colab": {},
        "outputId": "b4d914b0-10ed-458b-e1d2-ba49ecee5b18"
      },
      "source": [
        "np.array(breds)[:,1]"
      ],
      "execution_count": 0,
      "outputs": [
        {
          "output_type": "execute_result",
          "data": {
            "text/plain": [
              "array([False, True, True, ..., True, True, False], dtype=object)"
            ]
          },
          "metadata": {
            "tags": []
          },
          "execution_count": 158
        }
      ]
    },
    {
      "cell_type": "code",
      "metadata": {
        "id": "D2bHDy47FKU-",
        "colab_type": "code",
        "colab": {},
        "outputId": "832704aa-5d4a-4c28-a62f-906f6c226e6b"
      },
      "source": [
        "np.array(train_val)[:,3]"
      ],
      "execution_count": 0,
      "outputs": [
        {
          "output_type": "execute_result",
          "data": {
            "text/plain": [
              "array([list([6784, 2.2140330188679247, 0, 0, 0]),\n",
              "       list([1035, 2.4241545893719807, 0, 0, 0]),\n",
              "       list([5257, 2.132585124595777, 0, 0, 0]), ...,\n",
              "       list([3016, 2.1644562334217508, 0, 0, 0]),\n",
              "       list([4814, 2.2029497299543, 0, 0, 0]),\n",
              "       list([1400, 2.3264285714285715, 0, 0, 0])], dtype=object)"
            ]
          },
          "metadata": {
            "tags": []
          },
          "execution_count": 124
        }
      ]
    },
    {
      "cell_type": "markdown",
      "metadata": {
        "id": "AcpuEpa_FKVA",
        "colab_type": "text"
      },
      "source": [
        "** Draw graphics **"
      ]
    },
    {
      "cell_type": "code",
      "metadata": {
        "scrolled": true,
        "id": "ZaRKJvOWFKVB",
        "colab_type": "code",
        "colab": {},
        "outputId": "818e5a93-ac8e-4f09-f9a7-f76d8faa3e46"
      },
      "source": [
        "plot_results(train_docs, min_threshold=0, max_threshold=3000, step=100, trace=1)"
      ],
      "execution_count": 0,
      "outputs": [
        {
          "output_type": "stream",
          "text": [
            "00:54:00 INFO:Complete items 00000\n",
            "00:54:01 INFO:Complete items 01000\n",
            "00:54:01 INFO:Complete items 02000\n",
            "00:54:02 INFO:Complete items 03000\n",
            "00:54:02 INFO:Complete items 04000\n",
            "00:54:03 INFO:Complete items 05000\n",
            "00:54:03 INFO:Complete items 06000\n",
            "00:54:04 INFO:Complete items 07000\n"
          ],
          "name": "stderr"
        },
        {
          "output_type": "stream",
          "text": [
            "threshold 0\n",
            "\tclass_prec 0.9470951792336217, class_recall 0.9323436359211487, class_F1 0.9396615158204562\n",
            "\tnot_class_prec 0.9073024341447149, not_class_recall 0.9270868824531516, not_class_F1 0.917087967644085\n",
            "\t\tMacroF1Mesure 0.9283747417322705\n",
            "threshold 100\n",
            "\tclass_prec 0.0, class_recall 0.0, class_F1 0.0\n",
            "\tnot_class_prec 0.4166666666666667, not_class_recall 1.0, not_class_F1 0.5882352941176471\n",
            "\t\tMacroF1Mesure 0.29411764705882354\n",
            "threshold 200\n",
            "\tclass_prec 0.0, class_recall 0.0, class_F1 0.0\n",
            "\tnot_class_prec 0.4166666666666667, not_class_recall 1.0, not_class_F1 0.5882352941176471\n",
            "\t\tMacroF1Mesure 0.29411764705882354\n",
            "threshold 300\n",
            "\tclass_prec 0.0, class_recall 0.0, class_F1 0.0\n",
            "\tnot_class_prec 0.4166666666666667, not_class_recall 1.0, not_class_F1 0.5882352941176471\n",
            "\t\tMacroF1Mesure 0.29411764705882354\n",
            "threshold 400\n",
            "\tclass_prec 0.0, class_recall 0.0, class_F1 0.0\n",
            "\tnot_class_prec 0.4166666666666667, not_class_recall 1.0, not_class_F1 0.5882352941176471\n",
            "\t\tMacroF1Mesure 0.29411764705882354\n",
            "threshold 500\n",
            "\tclass_prec 0.0, class_recall 0.0, class_F1 0.0\n",
            "\tnot_class_prec 0.4166666666666667, not_class_recall 1.0, not_class_F1 0.5882352941176471\n",
            "\t\tMacroF1Mesure 0.29411764705882354\n",
            "threshold 600\n",
            "\tclass_prec 0.0, class_recall 0.0, class_F1 0.0\n",
            "\tnot_class_prec 0.4166666666666667, not_class_recall 1.0, not_class_F1 0.5882352941176471\n",
            "\t\tMacroF1Mesure 0.29411764705882354\n",
            "threshold 700\n",
            "\tclass_prec 0.0, class_recall 0.0, class_F1 0.0\n",
            "\tnot_class_prec 0.4166666666666667, not_class_recall 1.0, not_class_F1 0.5882352941176471\n",
            "\t\tMacroF1Mesure 0.29411764705882354\n",
            "threshold 800\n",
            "\tclass_prec 0.0, class_recall 0.0, class_F1 0.0\n",
            "\tnot_class_prec 0.4166666666666667, not_class_recall 1.0, not_class_F1 0.5882352941176471\n",
            "\t\tMacroF1Mesure 0.29411764705882354\n",
            "threshold 900\n",
            "\tclass_prec 0.0, class_recall 0.0, class_F1 0.0\n",
            "\tnot_class_prec 0.4166666666666667, not_class_recall 1.0, not_class_F1 0.5882352941176471\n",
            "\t\tMacroF1Mesure 0.29411764705882354\n",
            "threshold 1000\n",
            "\tclass_prec 0.0, class_recall 0.0, class_F1 0.0\n",
            "\tnot_class_prec 0.4166666666666667, not_class_recall 1.0, not_class_F1 0.5882352941176471\n",
            "\t\tMacroF1Mesure 0.29411764705882354\n",
            "threshold 1100\n",
            "\tclass_prec 0.0, class_recall 0.0, class_F1 0.0\n",
            "\tnot_class_prec 0.4166666666666667, not_class_recall 1.0, not_class_F1 0.5882352941176471\n",
            "\t\tMacroF1Mesure 0.29411764705882354\n",
            "threshold 1200\n",
            "\tclass_prec 0.0, class_recall 0.0, class_F1 0.0\n",
            "\tnot_class_prec 0.4166666666666667, not_class_recall 1.0, not_class_F1 0.5882352941176471\n",
            "\t\tMacroF1Mesure 0.29411764705882354\n",
            "threshold 1300\n",
            "\tclass_prec 0.0, class_recall 0.0, class_F1 0.0\n",
            "\tnot_class_prec 0.4166666666666667, not_class_recall 1.0, not_class_F1 0.5882352941176471\n",
            "\t\tMacroF1Mesure 0.29411764705882354\n",
            "threshold 1400\n",
            "\tclass_prec 0.0, class_recall 0.0, class_F1 0.0\n",
            "\tnot_class_prec 0.4166666666666667, not_class_recall 1.0, not_class_F1 0.5882352941176471\n",
            "\t\tMacroF1Mesure 0.29411764705882354\n",
            "threshold 1500\n",
            "\tclass_prec 0.0, class_recall 0.0, class_F1 0.0\n",
            "\tnot_class_prec 0.4166666666666667, not_class_recall 1.0, not_class_F1 0.5882352941176471\n",
            "\t\tMacroF1Mesure 0.29411764705882354\n",
            "threshold 1600\n",
            "\tclass_prec 0.0, class_recall 0.0, class_F1 0.0\n",
            "\tnot_class_prec 0.4166666666666667, not_class_recall 1.0, not_class_F1 0.5882352941176471\n",
            "\t\tMacroF1Mesure 0.29411764705882354\n",
            "threshold 1700\n",
            "\tclass_prec 0.0, class_recall 0.0, class_F1 0.0\n",
            "\tnot_class_prec 0.4166666666666667, not_class_recall 1.0, not_class_F1 0.5882352941176471\n",
            "\t\tMacroF1Mesure 0.29411764705882354\n",
            "threshold 1800\n",
            "\tclass_prec 0.0, class_recall 0.0, class_F1 0.0\n",
            "\tnot_class_prec 0.4166666666666667, not_class_recall 1.0, not_class_F1 0.5882352941176471\n",
            "\t\tMacroF1Mesure 0.29411764705882354\n",
            "threshold 1900\n",
            "\tclass_prec 0.0, class_recall 0.0, class_F1 0.0\n",
            "\tnot_class_prec 0.4166666666666667, not_class_recall 1.0, not_class_F1 0.5882352941176471\n",
            "\t\tMacroF1Mesure 0.29411764705882354\n",
            "threshold 2000\n",
            "\tclass_prec 0.0, class_recall 0.0, class_F1 0.0\n",
            "\tnot_class_prec 0.4166666666666667, not_class_recall 1.0, not_class_F1 0.5882352941176471\n",
            "\t\tMacroF1Mesure 0.29411764705882354\n",
            "threshold 2100\n",
            "\tclass_prec 0.0, class_recall 0.0, class_F1 0.0\n",
            "\tnot_class_prec 0.4166666666666667, not_class_recall 1.0, not_class_F1 0.5882352941176471\n",
            "\t\tMacroF1Mesure 0.29411764705882354\n",
            "threshold 2200\n",
            "\tclass_prec 0.0, class_recall 0.0, class_F1 0.0\n",
            "\tnot_class_prec 0.4166666666666667, not_class_recall 1.0, not_class_F1 0.5882352941176471\n",
            "\t\tMacroF1Mesure 0.29411764705882354\n",
            "threshold 2300\n",
            "\tclass_prec 0.0, class_recall 0.0, class_F1 0.0\n",
            "\tnot_class_prec 0.4166666666666667, not_class_recall 1.0, not_class_F1 0.5882352941176471\n",
            "\t\tMacroF1Mesure 0.29411764705882354\n",
            "threshold 2400\n",
            "\tclass_prec 0.0, class_recall 0.0, class_F1 0.0\n",
            "\tnot_class_prec 0.4166666666666667, not_class_recall 1.0, not_class_F1 0.5882352941176471\n",
            "\t\tMacroF1Mesure 0.29411764705882354\n",
            "threshold 2500\n",
            "\tclass_prec 0.0, class_recall 0.0, class_F1 0.0\n",
            "\tnot_class_prec 0.4166666666666667, not_class_recall 1.0, not_class_F1 0.5882352941176471\n",
            "\t\tMacroF1Mesure 0.29411764705882354\n",
            "threshold 2600\n",
            "\tclass_prec 0.0, class_recall 0.0, class_F1 0.0\n",
            "\tnot_class_prec 0.4166666666666667, not_class_recall 1.0, not_class_F1 0.5882352941176471\n",
            "\t\tMacroF1Mesure 0.29411764705882354\n",
            "threshold 2700\n",
            "\tclass_prec 0.0, class_recall 0.0, class_F1 0.0\n",
            "\tnot_class_prec 0.4166666666666667, not_class_recall 1.0, not_class_F1 0.5882352941176471\n",
            "\t\tMacroF1Mesure 0.29411764705882354\n",
            "threshold 2800\n",
            "\tclass_prec 0.0, class_recall 0.0, class_F1 0.0\n",
            "\tnot_class_prec 0.4166666666666667, not_class_recall 1.0, not_class_F1 0.5882352941176471\n",
            "\t\tMacroF1Mesure 0.29411764705882354\n",
            "threshold 2900\n",
            "\tclass_prec 0.0, class_recall 0.0, class_F1 0.0\n",
            "\tnot_class_prec 0.4166666666666667, not_class_recall 1.0, not_class_F1 0.5882352941176471\n",
            "\t\tMacroF1Mesure 0.29411764705882354\n",
            "threshold 3000\n",
            "\tclass_prec 0.0, class_recall 0.0, class_F1 0.0\n",
            "\tnot_class_prec 0.4166666666666667, not_class_recall 1.0, not_class_F1 0.5882352941176471\n",
            "\t\tMacroF1Mesure 0.29411764705882354\n"
          ],
          "name": "stdout"
        },
        {
          "output_type": "display_data",
          "data": {
            "image/png": "[encoded data removed]",
            "text/plain": [
              "<Figure size 720x360 with 1 Axes>"
            ]
          },
          "metadata": {
            "tags": [],
            "needs_background": "light"
          }
        },
        {
          "output_type": "display_data",
          "data": {
            "image/png": "[encoded data removed]",
            "text/plain": [
              "<Figure size 720x360 with 1 Axes>"
            ]
          },
          "metadata": {
            "tags": [],
            "needs_background": "light"
          }
        }
      ]
    },
    {
      "cell_type": "code",
      "metadata": {
        "id": "gQI_CHR_FKWI",
        "colab_type": "code",
        "colab": {}
      },
      "source": [
        "TEST_DATA_FILE  = 'kaggle_test_data_tab.csv.gz'\n",
        "# TEST_DATA_FILE  = 'kaggle/kaggle_train_data_tab_300.csv.gz'\n",
        "\n",
        "test_docs = load_csv(TEST_DATA_FILE, calc_features)"
      ],
      "execution_count": 0,
      "outputs": []
    },
    {
      "cell_type": "code",
      "metadata": {
        "id": "6N2TAs5lFKWL",
        "colab_type": "code",
        "colab": {},
        "outputId": "220ccf56-ddc0-446b-da35-bdd2b0e9d65c"
      },
      "source": [
        "TEST_DATA_FILE  = 'kaggle_test_data_tab.csv.gz'\n",
        "# TEST_DATA_FILE  = 'kaggle/kaggle_train_data_tab_300.csv.gz'\n",
        "\n",
        "test_docs = load_csv(TEST_DATA_FILE, calc_features)\n",
        "\n",
        "threshold = 0\n",
        "\n",
        "with open('my_submission.csv' , 'w') as fout:\n",
        "    writer = csv.writer(fout)\n",
        "    writer.writerow(['Id','Prediction'])\n",
        "    for num, item in enumerate(classifier.predict_all(test_docs)):\n",
        "\n",
        "        prediction =  1 if item[3] == True else 0\n",
        "        writer.writerow([item[0], prediction])"
      ],
      "execution_count": 0,
      "outputs": [
        {
          "output_type": "stream",
          "text": [
            "17:20:33 INFO:Complete items 00000\n",
            "17:20:33 INFO:Complete items 00000\n",
            "17:21:11 INFO:Complete items 01000\n",
            "17:21:11 INFO:Complete items 01000\n",
            "17:21:46 INFO:Complete items 02000\n",
            "17:21:46 INFO:Complete items 02000\n",
            "17:22:17 INFO:Complete items 03000\n",
            "17:22:17 INFO:Complete items 03000\n",
            "17:22:45 INFO:Complete items 04000\n",
            "17:22:45 INFO:Complete items 04000\n",
            "17:23:12 INFO:Complete items 05000\n",
            "17:23:12 INFO:Complete items 05000\n",
            "17:23:45 INFO:Complete items 06000\n",
            "17:23:45 INFO:Complete items 06000\n",
            "17:24:14 INFO:Complete items 07000\n",
            "17:24:14 INFO:Complete items 07000\n",
            "17:24:42 INFO:Complete items 08000\n",
            "17:24:42 INFO:Complete items 08000\n",
            "17:25:13 INFO:Complete items 09000\n",
            "17:25:13 INFO:Complete items 09000\n",
            "17:25:51 INFO:Complete items 10000\n",
            "17:25:51 INFO:Complete items 10000\n",
            "17:26:19 INFO:Complete items 11000\n",
            "17:26:19 INFO:Complete items 11000\n",
            "17:26:48 INFO:Complete items 12000\n",
            "17:26:48 INFO:Complete items 12000\n",
            "17:27:13 INFO:Complete items 13000\n",
            "17:27:13 INFO:Complete items 13000\n",
            "17:27:41 INFO:Complete items 14000\n",
            "17:27:41 INFO:Complete items 14000\n",
            "17:28:10 INFO:Complete items 15000\n",
            "17:28:10 INFO:Complete items 15000\n",
            "17:28:40 INFO:Complete items 16000\n",
            "17:28:40 INFO:Complete items 16000\n",
            "17:28:42 INFO:Complete items 16038\n"
          ],
          "name": "stderr"
        }
      ]
    },
    {
      "cell_type": "code",
      "metadata": {
        "id": "ouuyZXaDFKWR",
        "colab_type": "code",
        "colab": {},
        "outputId": "ab792339-1804-4acc-e09e-18f9476bebb2"
      },
      "source": [
        "train_docs"
      ],
      "execution_count": 0,
      "outputs": [
        {
          "output_type": "execute_result",
          "data": {
            "text/plain": [
              "[DocItem(doc_id=-9222401963271173253, is_spam=False, url='http://lawleader.ru/docs/32/', features=[13071, 2.20434549766659, 11, 5, 0]),\n",
              " DocItem(doc_id=-9221399504663603656, is_spam=False, url='http://alterhost.ruwww.alterhost.ruwww.user.kz.ru/', features=[2049, 2.6012689116642265, 8, 5, 0]),\n",
              " DocItem(doc_id=-9219733223042265364, is_spam=False, url='http://www.ferio.ru/c_1-acura-legend.html', features=[4212, 2.221272554605888, 17, 10, 0]),\n",
              " DocItem(doc_id=-9218561774155397294, is_spam=False, url='http://fshops.otzyv.ru/read.php?id=277', features=[2647, 2.365697015489233, 12, 0, 0]),\n",
              " DocItem(doc_id=-9216163564171210203, is_spam=True, url='http://penhea895.narod.ru/familiya-shushmarchenko.html', features=[1639, 2.1287370347773034, 28, 5, 0]),\n",
              " DocItem(doc_id=-9213263092469495632, is_spam=True, url='http://ntklhjdawv5.edu.ms/5/open24-ru-znakomstva-97.html', features=[3384, 2.1660756501182035, 34, 0, 0]),\n",
              " DocItem(doc_id=-9210905935710158021, is_spam=True, url='http://cursedec69.110mb.com/170skachat-gfi-mailsecurity-for-exchange-smtp-v8.1.html', features=[1411, 2.15946137491141, 13, 0, 0]),\n",
              " DocItem(doc_id=-9209767567868339114, is_spam=True, url='http://sacvina.narod.ru/', features=[1253, 2.074221867517957, 12, 0, 0]),\n",
              " DocItem(doc_id=-9201586758757258004, is_spam=True, url='http://caduchandme.narod.ru/prostitutki-g-dedovska.html', features=[4147, 2.0954907161803713, 56, 16, 0]),\n",
              " DocItem(doc_id=-9200554234989740212, is_spam=False, url='http://www.ocgsen.nnov.ru/', features=[1239, 2.3728813559322033, 33, 0, 0]),\n",
              " DocItem(doc_id=-9196615556004000760, is_spam=True, url='http://gvhoqnwj.blogonline.ru/869.html', features=[1443, 3.0228690228690227, 11, 0, 0]),\n",
              " DocItem(doc_id=-9194487696136281484, is_spam=False, url='http://www.orientaltravel.ru/country.asp?country_id=4', features=[12012, 2.296203796203796, 59, 0, 0]),\n",
              " DocItem(doc_id=-9191036552063391799, is_spam=True, url='http://launce7fzhanel.narod.ru/ebut-zhenu-porno-roliki-onlayn.html', features=[2554, 2.205559906029757, 25, 13, 0]),\n",
              " DocItem(doc_id=-9188185208163365623, is_spam=False, url='http://svadbavpitere.ru/zags/', features=[8550, 2.831345029239766, 15, 13, 0]),\n",
              " DocItem(doc_id=-9184117963342970590, is_spam=False, url='http://normalvent.ru/', features=[2569, 2.697547683923706, 89, 9, 0]),\n",
              " DocItem(doc_id=-9182561172813352572, is_spam=False, url='http://kulichkovvk.ru/fil/lek/estestv_i_iskustv_yaziki/index.html', features=[2888, 2.1336565096952906, 66, 0, 0]),\n",
              " DocItem(doc_id=-9178943679345349852, is_spam=False, url='http://spb-ipad.ru/krossvord-dlya-ipad-serye-kletki', features=[1569, 2.2523900573613767, 17, 0, 0]),\n",
              " DocItem(doc_id=-9176631814206126003, is_spam=False, url='http://kruso.narod.ru/poisk01.htm', features=[2659, 2.1436630312147424, 45, 0, 0]),\n",
              " DocItem(doc_id=-9176337023286867830, is_spam=True, url='http://phalalog.zapto.org/24572.html', features=[1666, 2.4813925570228093, 45, 0, 0]),\n",
              " DocItem(doc_id=-9174179519511665059, is_spam=False, url='http://www.komitet8.km.duma.gov.ru/', features=[837, 2.7001194743130226, 37, 45, 0]),\n",
              " DocItem(doc_id=-9168331480621859174, is_spam=True, url='http://ranmarickvil.narod2.ru/sotovyy-telefon-kupit-tseny.html', features=[1230, 2.3626016260162603, 15, 15, 0]),\n",
              " DocItem(doc_id=-9166621535431551141, is_spam=True, url='http://zapexox.angelfire.com/page_300.html', features=[4975, 2.060502512562814, 32, 0, 0]),\n",
              " DocItem(doc_id=-9164896129367003160, is_spam=True, url='http://iurce.uni.cc/Genius_gf100txr4_skachat_drayver_510.html', features=[1751, 2.4905768132495716, 32, 19, 0]),\n",
              " DocItem(doc_id=-9164546915605331722, is_spam=False, url='http://anekdot.1002.ru/anekdot/69805.html', features=[714, 2.738095238095238, 4, 0, 0]),\n",
              " DocItem(doc_id=-9159216767390655388, is_spam=True, url='http://fjvagavgi.narod.ru/gta-baku-city-skachat.html', features=[1898, 2.4309799789251842, 18, 7, 0]),\n",
              " DocItem(doc_id=-9155999722619395759, is_spam=True, url='http://phopegua.narod.ru/razvrat-ru.html', features=[729, 2.0123456790123457, 16, 0, 0]),\n",
              " DocItem(doc_id=-9155712161459929826, is_spam=True, url='http://idafu.co.cc/79.html', features=[2498, 2.16613290632506, 49, 12, 0]),\n",
              " DocItem(doc_id=-9151819420828250509, is_spam=True, url='http://avto-iz-ruk-v-ruki.creditbf.ru', features=[4443, 3.3013729462075174, 23, 0, 0]),\n",
              " DocItem(doc_id=-9151390393482396547, is_spam=True, url='http://cosrilasmoi.yc.cz/tdcat13/index1.html', features=[2429, 1.9995883079456567, 28, 6, 0]),\n",
              " DocItem(doc_id=-9150290948654759317, is_spam=False, url='http://myref.ru/preview/38201.html', features=[11948, 2.0410110478741212, 52, 0, 0]),\n",
              " DocItem(doc_id=-9149784736200026104, is_spam=False, url='http://www.inim.ru/', features=[2432, 2.3873355263157894, 43, 10, 0]),\n",
              " DocItem(doc_id=-9148321264643088847, is_spam=False, url='http://mattino.ru/', features=[16928, 3.457880434782609, 25, 10, 0]),\n",
              " DocItem(doc_id=-9143329542129738795, is_spam=True, url='http://walterhw2dmcgow.pop3.ru/page_122.html', features=[4962, 2.4361144699717854, 29, 0, 0]),\n",
              " DocItem(doc_id=-9140829861108859761, is_spam=True, url='http://zero74games.42t.com/igry-prichski.html', features=[2300, 2.031304347826087, 20, 0, 0]),\n",
              " DocItem(doc_id=-9138313693692510593, is_spam=False, url='http://adrenaline-game.ru', features=[2363, 2.050359712230216, 55, 0, 0]),\n",
              " DocItem(doc_id=-9137806019939260928, is_spam=True, url='http://neharades.yc.cz/kak-uvelichit-dlinnu-chlena-c7/kak-uvelichit-shirinu-chlena-7.html', features=[2673, 2.0729517396184063, 18, 0, 0]),\n",
              " DocItem(doc_id=-9137348293759989581, is_spam=False, url='http://www.150shchyolkovov-komarovschool.edusite.ru/p354aa1.html', features=[5861, 2.053574475345504, 20, 0, 0]),\n",
              " DocItem(doc_id=-9135505776930967523, is_spam=False, url='http://my-hit.ru/film/3596/online', features=[4467, 2.1835683904186256, 12, 5, 0]),\n",
              " DocItem(doc_id=-9135427352077425272, is_spam=True, url='http://ciatinabar.narod.ru/page-950028.html', features=[4631, 2.121787950766573, 8, 14, 0]),\n",
              " DocItem(doc_id=-9134936703021936206, is_spam=True, url='http://xkdtwywtv1.edu.ms/1/skachat-dj-dark-100.html', features=[2737, 2.0398246255023746, 36, 0, 0]),\n",
              " DocItem(doc_id=-9132202689376831096, is_spam=True, url='http://tomowanboy.narod.ru/Panin-proisxozhdenie-familii.html', features=[8256, 2.909035852713178, 26, 5, 0]),\n",
              " DocItem(doc_id=-9129506227288396643, is_spam=True, url='http://eirleri.uni.cc/krasivye_shalavy/prostitutka_v_saune_419.html', features=[2583, 1.9957413859852884, 28, 4, 0]),\n",
              " DocItem(doc_id=-9123571754311557665, is_spam=True, url='http://iuheati.forsite.org/?page=15', features=[7604, 2.083377169910573, 15, 6, 0]),\n",
              " DocItem(doc_id=-9122437974145025455, is_spam=True, url='http://peorciu.ugig.ir/?page=20', features=[7005, 2.109350463954318, 22, 5, 0]),\n",
              " DocItem(doc_id=-9118092143548809495, is_spam=False, url='http://www.fxclub.com/ru/', features=[3080, 2.434090909090909, 13, 0, 0]),\n",
              " DocItem(doc_id=-9113027938845390820, is_spam=False, url='http://sex-nn.net.ru/', features=[5618, 2.2337130651477395, 77, 0, 0]),\n",
              " DocItem(doc_id=-9111920960635330595, is_spam=False, url='http://medicall.ru/firms/europecenter/', features=[2741, 2.4013133892739877, 45, 0, 0]),\n",
              " DocItem(doc_id=-9109585848122649399, is_spam=True, url='http://yf.mifocm.info/index.php?nali=58', features=[2871, 2.07697666318356, 18, 16, 0]),\n",
              " DocItem(doc_id=-9108377762069095307, is_spam=False, url='http://vrtp.ru/index.php?showtopic=7944', features=[6022, 2.961308535370309, 7, 12, 0]),\n",
              " DocItem(doc_id=-9106393078890554830, is_spam=False, url='http://polit.ru/country/2010/06/22/govweb.html', features=[2434, 2.3755135579293345, 42, 0, 0]),\n",
              " DocItem(doc_id=-9103300872497968202, is_spam=False, url='http://www.amatory.ru/', features=[2026, 2.4106614017769004, 16, 0, 0]),\n",
              " DocItem(doc_id=-9102008385816042102, is_spam=False, url='http://atv.volga.ru/autosale/index.shtml', features=[967, 2.1044467425025855, 30, 0, 0]),\n",
              " DocItem(doc_id=-9097691853340472754, is_spam=False, url='http://www.lenta.ru/news/', features=[2407, 2.3606148732862486, 6, 0, 0]),\n",
              " DocItem(doc_id=-9097507785886332596, is_spam=False, url='http://marktishman.ru/forum/12-224-1', features=[5045, 2.0749256689791875, 90, 10, 0]),\n",
              " DocItem(doc_id=-9095095006478055689, is_spam=True, url='http://ikevepi.freei.me/?page=2', features=[4993, 3.0024033647105948, 8, 0, 0]),\n",
              " DocItem(doc_id=-9093003705938778054, is_spam=True, url='http://szxbise3.edu.ms/3/eblya-blyadey-6.html', features=[2355, 1.9966029723991507, 35, 0, 0]),\n",
              " DocItem(doc_id=-9088758403347921420, is_spam=True, url='http://aexyfe.uni.cc/?cali=179', features=[3019, 2.3077177873468036, 48, 19, 0]),\n",
              " DocItem(doc_id=-9081647801963570066, is_spam=False, url='http://softo-drom.com/', features=[3839, 2.2893982808022924, 12, 5, 0]),\n",
              " DocItem(doc_id=-9077264950498509647, is_spam=False, url='http://megaonline.kz/?subaction=userinfo&user=le', features=[2104, 2.417300380228137, 22, 0, 0]),\n",
              " DocItem(doc_id=-9075488203360589901, is_spam=True, url='http://gi.cndnge.info/?rukore=31', features=[2613, 2.0577879831611177, 61, 23, 0]),\n",
              " DocItem(doc_id=-9075470340699529276, is_spam=False, url='http://pravauto.com/list.php', features=[1709, 2.4850789935634876, 19, 0, 0]),\n",
              " DocItem(doc_id=-9074131210875282580, is_spam=False, url='http://en.wikipedia.org/wiki/Waterland', features=[1005, 5.874626865671642, 5, 0, 0]),\n",
              " DocItem(doc_id=-9074030177782872693, is_spam=True, url='http://ikovycaz.kilu.de/oct/erotika-video-lesbiyanok.htm', features=[2372, 2.0741989881956155, 32, 24, 0]),\n",
              " DocItem(doc_id=-9073531729367703026, is_spam=False, url='http://pokaza.net/films/view_3357', features=[1366, 2.49194729136164, 50, 0, 0]),\n",
              " DocItem(doc_id=-9073363581979506960, is_spam=True, url='http://rvoej.co.cc/28/03/2010/nec-dvd-rw-nd-3520a-drayver-skach-53.htm', features=[2066, 2.09486931268151, 18, 19, 0]),\n",
              " DocItem(doc_id=-9064175035264236421, is_spam=False, url='http://www.domodedovo.ru/ru/main/way/', features=[1168, 2.80222602739726, 30, 10, 0]),\n",
              " DocItem(doc_id=-9063431006494010455, is_spam=False, url='http://lossofsoul.com/LIFE_IS/Songs/songs.htm', features=[42869, 2.458746413492267, 25, 0, 0]),\n",
              " DocItem(doc_id=-9063136490547653004, is_spam=True, url='http://budteeperta.yc.cz/tzcat6/index4.html', features=[3102, 2.0686653771760155, 25, 0, 0]),\n",
              " DocItem(doc_id=-9062924799695864178, is_spam=True, url='http://auto-days.ru/arenda-kvartir-v-barnaule-bez-posrednikov-pomesyachno.html', features=[4253, 2.018339995297437, 30, 0, 0]),\n",
              " DocItem(doc_id=-9062080465580630835, is_spam=True, url='http://ricazu.pochta.ru/blog10.html', features=[2621, 2.167874856924838, 29, 10, 0]),\n",
              " DocItem(doc_id=-9059253770301433080, is_spam=True, url='http://mhxo8gn7e8.narod.ru/file-177603.html', features=[3345, 2.2526158445440956, 24, 4, 0]),\n",
              " DocItem(doc_id=-9058443081947120294, is_spam=True, url='http://paule13153.inf.ua/znachenie-imeni-anastasiya-vladimirovna.html', features=[3917, 2.0571866224151134, 27, 17, 0]),\n",
              " DocItem(doc_id=-9058273452080736129, is_spam=False, url='http://kp.ru/daily/24607/777953/', features=[8596, 2.94683573755235, 47, 18, 0]),\n",
              " DocItem(doc_id=-9057476866134862460, is_spam=True, url='http://igimij.20x.cc/', features=[4129, 3.064180188907726, 7, 1, 0]),\n",
              " DocItem(doc_id=-9057201302276276023, is_spam=False, url='http://gruzovik-online.ru/', features=[2933, 1.9116945107398569, 78, 2, 0]),\n",
              " DocItem(doc_id=-9056307669800245870, is_spam=True, url='http://saphanmig5w.ce.ms/korseti/foto-bdsm-semeynih-par.html', features=[1595, 2.085266457680251, 34, 0, 0]),\n",
              " DocItem(doc_id=-9048952355962527489, is_spam=True, url='http://reitracdiepa.tk/myaso-soevoe-dietprodukt/nastoi-trav-dlya-pohudeniya.html', features=[4032, 2.0543154761904763, 14, 0, 0]),\n",
              " DocItem(doc_id=-9046867349410150135, is_spam=True, url='http://rankrydormo.yc.cz/srednyaya-dlina-chelovecheskogo-chlena-c3/uvelichenie-chlena-narodnaya-meditsina-3.html', features=[2454, 2.0639771801140996, 30, 0, 0]),\n",
              " DocItem(doc_id=-9040960540337338801, is_spam=True, url='http://primo14.edu.ms/futbolki-so-strazami-svarovski-mujski.html', features=[6016, 2.017785904255319, 44, 12, 0]),\n",
              " DocItem(doc_id=-9040159922125644662, is_spam=True, url='http://gesexame.ifrance.com/gregorio-ugdulena-torretta.htm', features=[5446, 2.974476680132207, 78, 3, 0]),\n",
              " DocItem(doc_id=-9035149928347311851, is_spam=True, url='http://velomole.angelfire.com/porno-rasskazy-kaschtanka.html', features=[2762, 2.0184648805213614, 15, 0, 0]),\n",
              " DocItem(doc_id=-9031439982603511698, is_spam=True, url='http://traqeofa.20x.cc/?cope=sitemap', features=[3526, 2.2521270561542823, 8, 10, 0]),\n",
              " DocItem(doc_id=-9030813797540496684, is_spam=True, url='http://aleksandreihana.narod.ru/fundamenta-120.html', features=[26158, 2.1796391161403776, 208, 26, 0]),\n",
              " DocItem(doc_id=-9029208628859720308, is_spam=True, url='http://iubyr.co.cc', features=[4347, 2.0400276052449966, 68, 18, 0]),\n",
              " DocItem(doc_id=-9026829787192884120, is_spam=True, url='http://katenoutbuk.cc.ua/dlya-vanny-i-dusha/internet-magazin-zapchastey-dlya-noutbukov.html', features=[2096, 2.196564885496183, 25, 0, 0]),\n",
              " DocItem(doc_id=-9023952535057819811, is_spam=True, url='http://ytgrosluma.narod.ru/skachat-bazu-dannih-telefonnih-nomerov.html', features=[1862, 2.0902255639097747, 21, 0, 0]),\n",
              " DocItem(doc_id=-9016627559760416438, is_spam=False, url='http://megainf.ru/foto/id_9854_retsept-prigotovleniya-kury_3.html', features=[3903, 2.4481168332052268, 42, 0, 0]),\n",
              " DocItem(doc_id=-9013972568849016013, is_spam=True, url='http://ontaflumbscud.yc.cz/', features=[2094, 2.020057306590258, 27, 0, 0]),\n",
              " DocItem(doc_id=-9012629594054880318, is_spam=True, url='http://rvaem.uni.cc/drayvera_intel/358/', features=[2324, 2.3270223752151464, 15, 14, 0]),\n",
              " DocItem(doc_id=-9012191864952311609, is_spam=False, url='http://anekdot.kz/', features=[3239, 2.800555727076258, 91, 0, 0]),\n",
              " DocItem(doc_id=-8994983395272961522, is_spam=True, url='http://mdxqjbbe.sytes.net/86/04-02-2010.html', features=[3729, 2.210512201662644, 25, 0, 0]),\n",
              " DocItem(doc_id=-8988508443203060235, is_spam=True, url='http://odnoklassniki-lubov.ru/hitrosti_i_vzlomy_sayta_odnoklassniki.php', features=[1146, 2.4712041884816753, 22, 22, 0]),\n",
              " DocItem(doc_id=-8987373799999661006, is_spam=True, url='http://eafruiwae.01lx.net/', features=[6358, 2.1755268952500786, 14, 5, 0]),\n",
              " DocItem(doc_id=-8982531780890585039, is_spam=False, url='http://www.kraslife.com/334-ufms-po-krasnoyarskomu-krayu-krasufmsru.html', features=[1619, 2.565163681284744, 43, 0, 0]),\n",
              " DocItem(doc_id=-8981044648920852109, is_spam=False, url='http://www.luxe.ru/countries/item1799.htm', features=[1640, 2.857317073170732, 29, 0, 0]),\n",
              " DocItem(doc_id=-8974328639534981444, is_spam=True, url='http://diamet.hotbox.ru/79.html', features=[2791, 2.2296667860981727, 14, 14, 0]),\n",
              " DocItem(doc_id=-8964696105592206339, is_spam=True, url='http://hamgephimypc.yc.cz/dhcat1/videouroki-po-uvelicheniyu-chlena-137.html', features=[3046, 2.156598818122127, 23, 6, 0]),\n",
              " DocItem(doc_id=-8962459456940047814, is_spam=True, url='http://telefony-qip.ru/otchet-o-rabote-metodicheskogo-obb2edinenija-klassny1h.html', features=[2379, 2.8066414459857083, 33, 0, 0]),\n",
              " DocItem(doc_id=-8958291588238871860, is_spam=True, url='http://bernktzz1.edu.ms/1/intim-znakmstva-60.html', features=[2881, 2.122526900381812, 46, 0, 0]),\n",
              " DocItem(doc_id=-8955200415882489562, is_spam=False, url='http://kpnemo.ws/music/popsa/', features=[6808, 2.346944770857814, 74, 0, 0]),\n",
              " DocItem(doc_id=-8948427781023968121, is_spam=True, url='http://odoqori.20x.cc/?page=65', features=[4568, 2.199430823117338, 23, 5, 0]),\n",
              " DocItem(doc_id=-8945819529698735129, is_spam=True, url='http://alice1042.newmail.ru/1319251270.html', features=[563, 3.673179396092362, 3, 1, 0]),\n",
              " DocItem(doc_id=-8945672960352477443, is_spam=False, url='http://kvetky.net/category/uhod-za-rasteniyami/', features=[15941, 2.043472805972022, 15, 2, 0]),\n",
              " DocItem(doc_id=-8945470681488401746, is_spam=False, url='http://line.mole.ru/', features=[1297, 2.6915959907478797, 42, 0, 0]),\n",
              " DocItem(doc_id=-8944635106379203889, is_spam=True, url='http://buklet66.ru/arenda-kvartiry-bez-posrednikov-na-televizionnom-zavode-v-omske.html', features=[6355, 2.0970889063729348, 32, 0, 0]),\n",
              " DocItem(doc_id=-8941548274093850925, is_spam=True, url='http://agilepc.com/archives/2397', features=[1025, 2.5785365853658537, 19, 9, 0]),\n",
              " DocItem(doc_id=-8938634600930200544, is_spam=True, url='http://missfitw.dousetsu.com/ludchshaya-dieta-dlya-devushki-v-16-let.html', features=[1633, 3.101653398652786, 43, 0, 0]),\n",
              " DocItem(doc_id=-8936293212008072102, is_spam=False, url='http://tomsk.fm/watch/62681', features=[4699, 3.1696105554373273, 33, 1, 0]),\n",
              " DocItem(doc_id=-8935915864405595683, is_spam=True, url='http://cfbeaafa.tk/samouchitel-razrabotchika-ustroystv-na-mikrokontrollerah-avr.html', features=[2484, 2.1517713365539453, 58, 0, 0]),\n",
              " DocItem(doc_id=-8932929006107702377, is_spam=True, url='http://urxoaxutlu.undonet.com/proi-buma-pake.html', features=[3357, 2.06970509383378, 18, 3, 0]),\n",
              " DocItem(doc_id=-8927744658709026127, is_spam=False, url='http://masterkosta.my1.ru/photo/ljubopytnyj_signal_2/1-0-982', features=[2665, 3.4637898686679174, 51, 1, 0]),\n",
              " DocItem(doc_id=-8922699995891778289, is_spam=True, url='http://chalute.110mb.com/64vip-prostitutki-v-v-novgorode.htm', features=[2261, 2.00265369305617, 15, 5, 0]),\n",
              " DocItem(doc_id=-8922690656226161626, is_spam=True, url='http://spirarcor.narod.ru/page-157.html', features=[4027, 2.144772783709958, 81, 3, 0]),\n",
              " DocItem(doc_id=-8921920933344887790, is_spam=False, url='http://www.neugnali.ru/Products/dirid_2/', features=[2799, 2.476956055734191, 20, 0, 0]),\n",
              " DocItem(doc_id=-8919154483230120020, is_spam=False, url='http://muftyat.kz/', features=[3631, 2.0980446158083175, 30, 5, 0]),\n",
              " DocItem(doc_id=-8918758073297376562, is_spam=True, url='http://enobmazing.yc.cz/kak-uvelichit-chlen-podruchnimi-sredstvami-j2/kak-uvelichit-chlen-na-10sm-237.html', features=[2899, 2.022421524663677, 28, 0, 0]),\n",
              " DocItem(doc_id=-8917635324221028178, is_spam=True, url='http://job2010.website.org/spravka-o-trudoustroystve.html', features=[1508, 2.060344827586207, 17, 13, 0]),\n",
              " DocItem(doc_id=-8917564256440766783, is_spam=True, url='http://tranadglital.narod.ru', features=[1632, 2.0263480392156863, 14, 0, 0]),\n",
              " DocItem(doc_id=-8916281094872236078, is_spam=False, url='http://smoking-room.ru/data/pnp/s_google.html', features=[14125, 2.054371681415929, 20, 0, 0]),\n",
              " DocItem(doc_id=-8914159667679099156, is_spam=True, url='http://neymilomchie.narod.ru/bilayn-uznat-nomer-telefona/uznat-mestonahozhdenie-po-mobilnomu-telefonu.html', features=[6783, 2.110275689223058, 24, 0, 0]),\n",
              " DocItem(doc_id=-8912350799248103576, is_spam=True, url='http://finitos.times.lv/page_id275.html', features=[10037, 2.2526651389857526, 37, 5, 0]),\n",
              " DocItem(doc_id=-8911838650104133414, is_spam=True, url='http://uib.udoteo.info/57/23/41.htm', features=[3093, 2.0232783705140642, 13, 8, 0]),\n",
              " DocItem(doc_id=-8911493709855529896, is_spam=True, url='http://metenbobut.narod.ru/bilayn-modem-bezlimitnyy/uznat-nomer-pasporta-po-familii.html', features=[7336, 2.0265812431842964, 21, 0, 0]),\n",
              " DocItem(doc_id=-8909313452894962178, is_spam=False, url='http://moikrug.ru/vacancies/?city_did=721&industry_did=259025', features=[5575, 2.28, 17, 0, 0]),\n",
              " DocItem(doc_id=-8907848775180022016, is_spam=True, url='http://sweatboanua.ce.ms/derevenskie/porno-ero-erotik-video.html', features=[1551, 2.143778207607995, 35, 0, 0]),\n",
              " DocItem(doc_id=-8905140953520127886, is_spam=False, url='http://moikrug.ru/vacancies/?ok=1&perpage=50%3f&orderby=renewed&ordertype=asc&schedule_did=6747&industry_did=259093', features=[5479, 2.264281803248768, 16, 0, 0]),\n",
              " DocItem(doc_id=-8905005882659384301, is_spam=True, url='http://raz1780.narod.ru/file-648968.html', features=[3003, 1.967032967032967, 50, 0, 0]),\n",
              " DocItem(doc_id=-8901072157930619243, is_spam=True, url='http://pulaqar.angelfire.com/smotret-besplatnoe-porno-sperma.html', features=[3499, 2.2226350385824523, 19, 0, 0]),\n",
              " DocItem(doc_id=-8899207737631284820, is_spam=True, url='http://meskerantevi.narod.ru/prostitutka-battersa-hd-russkaya-ozvuchka.html', features=[1684, 2.090855106888361, 42, 27, 0]),\n",
              " DocItem(doc_id=-8895933059960569758, is_spam=False, url='http://linkstars.ru/site/delfin__detskaja_jestradnaja_studija_izhevsk.html', features=[4865, 2.1738951695786226, 29, 0, 0]),\n",
              " DocItem(doc_id=-8891179708111592347, is_spam=True, url='http://diosuppdisva.yc.cz/kak-pornoakteri-uvelichivayut-chlen-a7/srednyaya-dlina-muzhskogo-polovogo-chlena-7.html', features=[2149, 2.0618892508143323, 26, 6, 0]),\n",
              " DocItem(doc_id=-8889950704842943019, is_spam=False, url='http://miss-roza61.narod2.ru/', features=[330, 4.054545454545455, 9, 7, 0]),\n",
              " DocItem(doc_id=-8889128898302470753, is_spam=True, url='http://brack.pbnet.ru/znakomstva-laveplanet.html', features=[1278, 2.4788732394366195, 6, 16, 0]),\n",
              " DocItem(doc_id=-8888521869810699744, is_spam=False, url='http://alta-karter.ru/index.php?productID=7234&picture_id=52107', features=[2017, 2.967278135845315, 158, 0, 0]),\n",
              " DocItem(doc_id=-8888362709512831984, is_spam=True, url='http://zeourgnpani.co.cc/intimnie-znakomstva-ufa.html', features=[5674, 2.1446951004582306, 13, 3, 0]),\n",
              " DocItem(doc_id=-8884210666433046447, is_spam=False, url='http://kzotrf.ru/comment_384.html', features=[3127, 2.097217780620403, 31, 0, 0]),\n",
              " DocItem(doc_id=-8883119108279811915, is_spam=False, url='http://gta-real.com/publ/gta_vice_city/faq/gta_vice_city_cheats/36-1-0-446', features=[5026, 2.18324711500199, 7, 2, 0]),\n",
              " DocItem(doc_id=-8879829396323425064, is_spam=False, url='http://kotik911.narod.ru/an.shok.htm', features=[43773, 2.470335595001485, 41, 3, 0]),\n",
              " DocItem(doc_id=-8878737282456000337, is_spam=True, url='http://friepea.5gigs.net/7_recept_diety_dlya_pohudeniya_po_gru/', features=[2662, 2.037565740045079, 70, 16, 0]),\n",
              " DocItem(doc_id=-8877507648374153259, is_spam=False, url='http://rusfan.ru/posts/34390', features=[862, 2.2598607888631093, 25, 9, 0]),\n",
              " DocItem(doc_id=-8876444540844124487, is_spam=True, url='http://haidietaty.tk/schitalka-kalloriy.html', features=[6344, 2.081651954602774, 33, 0, 0]),\n",
              " DocItem(doc_id=-8872309351468114477, is_spam=False, url='http://www.tianacat.ru/index.php?page_name=advice', features=[7302, 2.1073678444261845, 27, 0, 0]),\n",
              " DocItem(doc_id=-8867271316951874274, is_spam=False, url='http://www.intervesp-stanki.ru/firms/GRIGGIO.htm', features=[2552, 2.749216300940439, 1, 0, 0]),\n",
              " DocItem(doc_id=-8865557861937433122, is_spam=True, url='http://miobl.ru/prodazha-uchastkov-v-p-solnechnoe.html', features=[5018, 2.0472299721004386, 18, 0, 0]),\n",
              " DocItem(doc_id=-8862529516617853240, is_spam=False, url='http://amway.ru/catalog', features=[1297, 2.566692367000771, 2, 2, 0]),\n",
              " DocItem(doc_id=-8860886044477914626, is_spam=True, url='http://saysurheira.narod.ru/Tajna-familii-feliksen.html', features=[6196, 3.248224661071659, 21, 5, 0]),\n",
              " DocItem(doc_id=-8856438107378790607, is_spam=True, url='http://boggearshom.de.gd/88958.html', features=[1303, 2.1297006907137375, 25, 0, 0]),\n",
              " DocItem(doc_id=-8855653766063698458, is_spam=True, url='http://saddleback491f3.110mb.com/skachat-jeroticheskijj-pazl-30.html', features=[2864, 1.9947625698324023, 18, 0, 0]),\n",
              " DocItem(doc_id=-8851134690611529930, is_spam=False, url='http://www.nalogovik.ru/fns.html', features=[5125, 2.1521951219512196, 121, 0, 0]),\n",
              " DocItem(doc_id=-8849998660452387688, is_spam=False, url='http://megabrick.ru/category/784/', features=[5017, 2.368546940402631, 41, 5, 0]),\n",
              " DocItem(doc_id=-8848242135476698453, is_spam=True, url='http://yiheflux.livejournal.com/739.html', features=[1975, 3.56, 24, 2, 0]),\n",
              " DocItem(doc_id=-8847242108286638127, is_spam=True, url='http://guasico.narod.ru/09-2010/10-2010.html', features=[2519, 2.0357284636760618, 28, 0, 0]),\n",
              " DocItem(doc_id=-8846361403814548136, is_spam=True, url='http://actorfouche.narod.ru/21.html', features=[1705, 1.975366568914956, 12, 0, 0]),\n",
              " DocItem(doc_id=-8839767332304995965, is_spam=False, url='http://kurortmag.ru/description/5328/', features=[7788, 3.59065228556754, 82, 0, 0]),\n",
              " DocItem(doc_id=-8839102663548886830, is_spam=True, url='http://traeruw.ugig.ir/?page=18', features=[5678, 2.10584712927087, 23, 10, 0]),\n",
              " DocItem(doc_id=-8830148974855796832, is_spam=True, url='http://futbolochka.net', features=[1385, 2.0259927797833934, 7, 7, 0]),\n",
              " DocItem(doc_id=-8829681305423823086, is_spam=True, url='http://steaksouea.narod.ru/index77.html', features=[1251, 2.1223021582733814, 18, 18, 0]),\n",
              " DocItem(doc_id=-8827267032236131475, is_spam=False, url='http://maxstreamclub.com/', features=[357, 2.80672268907563, 30, 12, 0]),\n",
              " DocItem(doc_id=-8824479037887458001, is_spam=True, url='http://hycroeniu.co.cc/index.php?u=94', features=[2986, 2.194574681848627, 30, 9, 0]),\n",
              " DocItem(doc_id=-8819074536164328520, is_spam=False, url='http://onlinetb.com.ua/programm/rossia', features=[3436, 2.1062281722933642, 47, 0, 0]),\n",
              " DocItem(doc_id=-8809944521187172281, is_spam=True, url='http://ozonub.newmail.ru/read52.html', features=[12509, 2.637061315852586, 332, 14, 0]),\n",
              " DocItem(doc_id=-8808364675673796420, is_spam=True, url='http://hitgame527.edu.ms/index.html', features=[3379, 2.181710565255993, 26, 1, 0]),\n",
              " DocItem(doc_id=-8804135534591333385, is_spam=True, url='http://baflugumze.pochtamt.ru/adam-brodi-v-novostyah.html', features=[2509, 2.3411717815862896, 29, 0, 0]),\n",
              " DocItem(doc_id=-8803427675252373637, is_spam=False, url='http://pricepi.ru/snowmobile', features=[1888, 2.5577330508474576, 23, 0, 0]),\n",
              " DocItem(doc_id=-8796789135250177026, is_spam=False, url='http://megashara.com/movies/102966/dom_1000_trupov_2_izgnannye_dyavolom_the_devil_s_rejects_unrated.html', features=[4749, 2.540534849441988, 246, 12, 0]),\n",
              " DocItem(doc_id=-8796368617338505855, is_spam=False, url='http://www.dir.antula.ru/production-factory_26.htm', features=[1540, 2.4214285714285713, 29, 6, 0]),\n",
              " DocItem(doc_id=-8794191639767110745, is_spam=False, url='http://liepajniekiem.lv/rus/ob_avlenie/?page=27', features=[3863, 2.6546725342997672, 15, 2, 0]),\n",
              " DocItem(doc_id=-8792853562126392389, is_spam=False, url='http://kvartira.miel.ru/', features=[3671, 3.43612094797058, 41, 5, 0]),\n",
              " DocItem(doc_id=-8792738891617137128, is_spam=True, url='http://mapovedvedon.narod.ru/6.html', features=[1605, 2.2137071651090343, 20, 20, 0]),\n",
              " DocItem(doc_id=-8792234722287169129, is_spam=True, url='http://casstevens08h.narod.ru/wiki_37.html', features=[4117, 2.1926159825115374, 36, 19, 0]),\n",
              " DocItem(doc_id=-8788527668606320249, is_spam=False, url='http://torrentszona.com/torrent/Pervoklassnitsa/details.php?id=6683', features=[5071, 3.4713074344310786, 20, 0, 0]),\n",
              " DocItem(doc_id=-8786182604447023646, is_spam=False, url='http://lomonosov-msu.ru/eng/user_1974/blog.html', features=[616, 3.844155844155844, 17, 1, 0]),\n",
              " DocItem(doc_id=-8778261488270080696, is_spam=False, url='http://liveinternet.ru/showjournal.php?journalid=3649101&keywordid=1342740', features=[25647, 2.4976800405505517, 23, 3, 0]),\n",
              " DocItem(doc_id=-8776280756696128751, is_spam=True, url='http://feirosodo.narod.ru', features=[2462, 2.073923639317628, 23, 14, 0]),\n",
              " DocItem(doc_id=-8776038834351448484, is_spam=False, url='http://kp.ru/daily/24554/729761/', features=[9679, 2.8168199194131627, 26, 18, 0]),\n",
              " DocItem(doc_id=-8773157286548042910, is_spam=True, url='http://griffithcadman.szm.com/inf-457218.html', features=[3868, 2.1982936918304032, 40, 0, 0]),\n",
              " DocItem(doc_id=-8771977264052765413, is_spam=True, url='http://gqunkscobfr.blogonline.ru/1263.html', features=[1273, 3.0950510604870387, 8, 0, 0]),\n",
              " DocItem(doc_id=-8770872212646894546, is_spam=False, url='http://joomla-support.ru/showthread.php?t=9311&goto=nextoldest', features=[4721, 2.5225587799195086, 28, 17, 0]),\n",
              " DocItem(doc_id=-8770600436654804795, is_spam=False, url='http://1cv8.ru/1cv8_acc.php', features=[4381, 2.0703035836566994, 57, 0, 0]),\n",
              " DocItem(doc_id=-8765789493796782636, is_spam=True, url='http://primo13.edu.ms/mayki-s-simpsonami.html', features=[3495, 2.054077253218884, 30, 12, 0]),\n",
              " DocItem(doc_id=-8761863896788559867, is_spam=True, url='http://writegame069.edu.ms/skachat-onlayn-igru-darkorbit%20.html', features=[1561, 2.1704035874439462, 20, 0, 0]),\n",
              " DocItem(doc_id=-8761398971532399528, is_spam=False, url='http://rikatv.kz/modules.php%3Fname%3DContent%26pa%3Dshowpage%26pid%3D5878', features=[1033, 2.3368828654404648, 25, 0, 0]),\n",
              " DocItem(doc_id=-8760407255777186697, is_spam=True, url='http://ghbus7o3hj.narod.ru/file-299194.html', features=[3351, 2.2984183825723665, 15, 4, 0]),\n",
              " DocItem(doc_id=-8758569731470892075, is_spam=False, url='http://landrovercenter.ru/serves/aftersales/servicing/', features=[2624, 2.5522103658536586, 158, 0, 0]),\n",
              " DocItem(doc_id=-8750542386029410939, is_spam=False, url='http://maxidor.ru/company.php', features=[2332, 2.21483704974271, 105, 0, 0]),\n",
              " DocItem(doc_id=-8748673174509950245, is_spam=True, url='http://letridu.narod.ru/foto-lery-kozlovoi-goloi.html', features=[775, 2.232258064516129, 22, 0, 0]),\n",
              " DocItem(doc_id=-8744107150055625822, is_spam=True, url='http://ciupospika.yc.cz/nacat6/index.html', features=[2028, 2.0927021696252464, 22, 6, 0]),\n",
              " DocItem(doc_id=-8739679536915269730, is_spam=False, url='http://medi.ru/doc/7790908.htm', features=[12940, 2.1443585780525503, 34, 2, 0]),\n",
              " DocItem(doc_id=-8724717262241119939, is_spam=True, url='http://sisucatmu.inf.ua/brauzernaya-igra-tehnomagiya/onlaynd-igri.html', features=[3714, 2.155896607431341, 17, 7, 0]),\n",
              " DocItem(doc_id=-8723316511107775941, is_spam=True, url='http://jaerpies.xtreemhost.com/?ma=22', features=[2853, 2.090080616894497, 31, 11, 0]),\n",
              " DocItem(doc_id=-8720931388213087784, is_spam=False, url='http://ru.wikipedia.org/wiki/%D0%90%D0%9A%D0%A8_%D0%BD%D0%B0_%D1%80%D0%B0%D0%B1%D0%BE%D1%82%D0%B0%D1%8E%D1%89%D0%B5%D0%BC_%D1%81%D0%B5%D1%80%D0%B4%D1%86%D0%B5', features=[4664, 2.7045454545454546, 25, 0, 0]),\n",
              " DocItem(doc_id=-8717358502973340140, is_spam=True, url='http://naaeappal.pochta.ru/news11.html', features=[2707, 2.5526413003324713, 232, 110, 0]),\n",
              " DocItem(doc_id=-8714394246933547917, is_spam=False, url='http://www.kinomania.ru/movies/p/Pirates_of_the_Caribbean/', features=[10757, 2.086734219577949, 33, 0, 0]),\n",
              " DocItem(doc_id=-8712945729795380202, is_spam=True, url='http://qdgtypit.sytes.net/11-2010/', features=[2828, 2.236916548797737, 21, 0, 0]),\n",
              " DocItem(doc_id=-8710157486667296771, is_spam=True, url='http://segfaul6a7.110mb.com/download-xcition-v1-build-4.html', features=[2607, 2.07518220176448, 10, 5, 0]),\n",
              " DocItem(doc_id=-8705733531248568488, is_spam=False, url='http://amg-portal.com/', features=[10627, 1.5501082149242496, 125, 22, 0]),\n",
              " DocItem(doc_id=-8702310716880833894, is_spam=True, url='http://rveowaem.co.cc/345_otjimaniya_ot_pola_uvelichivayut_li_grud.html', features=[3932, 1.9720244150559512, 74, 4, 0]),\n",
              " DocItem(doc_id=-8701521205682757734, is_spam=True, url='http://sulsielamo.yc.cz/cycat13/', features=[3044, 1.9566360052562417, 22, 6, 0]),\n",
              " DocItem(doc_id=-8701344836401193061, is_spam=False, url='http://lred.ru/index.php/prodvij', features=[7902, 2.135788407997975, 18, 0, 0]),\n",
              " DocItem(doc_id=-8701184786898345962, is_spam=True, url='http://sleliza.narod.ru/bully-skachat.html', features=[3691, 2.1281495529666756, 7, 7, 0]),\n",
              " DocItem(doc_id=-8699302504655817054, is_spam=True, url='http://judgemen2.110mb.com/125prostitutki-negretjanki-moskvy.html', features=[2330, 2.0579399141630903, 15, 0, 0]),\n",
              " DocItem(doc_id=-8695951293872597159, is_spam=False, url='http://veseley.my1.ru/index/86-728-5-5', features=[4452, 2.516397124887691, 41, 0, 0]),\n",
              " DocItem(doc_id=-8693849364975689057, is_spam=False, url='http://medbookaide.ru/books/fold9001/book2026/p55.php', features=[12727, 2.1830753516146775, 14, 1, 0]),\n",
              " DocItem(doc_id=-8691411853920335961, is_spam=True, url='http://aiaiiooar.strefa.pl/sayty-znakomstv-novocherkasska.html', features=[1454, 2.6286107290233836, 15, 17, 0]),\n",
              " DocItem(doc_id=-8682840870258978279, is_spam=False, url='http://medi.ru/doc/180105.htm', features=[13382, 2.1696308474069648, 34, 2, 0]),\n",
              " DocItem(doc_id=-8680395579604724259, is_spam=True, url='http://atareal.my5gigs.com/index.php?vul=20', features=[3551, 2.1402421852999156, 23, 17, 0]),\n",
              " DocItem(doc_id=-8676989360722499302, is_spam=True, url='http://m0yhjf9mc.pop3.ru/page-619643.html', features=[2361, 2.6692079627276577, 56, 19, 0]),\n",
              " DocItem(doc_id=-8674239559740552906, is_spam=True, url='http://nickfnwcourser.narod.ru/Eltis-trejding-ooo.html', features=[4947, 3.4234889832221547, 12, 5, 0]),\n",
              " DocItem(doc_id=-8664236658521601526, is_spam=False, url='http://www.lenta.ru/news/2010/01/20/rename/', features=[2780, 2.4913669064748203, 39, 0, 0]),\n",
              " DocItem(doc_id=-8662940508300014756, is_spam=True, url='http://kevethjs1.narod.ru/sovmestimost-imeni-svetlana-i-kirill.html', features=[9859, 2.3032761943401967, 40, 17, 0]),\n",
              " DocItem(doc_id=-8660534360775741576, is_spam=True, url='http://erodtipho.narod.ru/besplatnie-igri-dlya-devochek-makiyazh-pricheski-odivalki-onlayn.html', features=[498, 2.176706827309237, 116, 13, 0]),\n",
              " DocItem(doc_id=-8659557558855878297, is_spam=True, url='http://backpenhe.narod.ru/familiya-yagujin.html', features=[2252, 2.069715808170515, 29, 3, 0]),\n",
              " DocItem(doc_id=-8658991726529553738, is_spam=True, url='http://lypcatulve.narod.ru/citaty-o-devushkah/prostitutki-rayona-metro-profsouznaya.html', features=[4860, 2.004320987654321, 23, 0, 0]),\n",
              " DocItem(doc_id=-8657808442158210114, is_spam=False, url='http://meatinfo.ru/trade', features=[11166, 2.474923876052302, 70, 9, 0]),\n",
              " DocItem(doc_id=-8648018011884283490, is_spam=True, url='http://nauhorremas.yc.cz/uvelichivaet-li-pompa-chlen-i6/sylyta-108.html', features=[3254, 1.9913952059004303, 29, 0, 0]),\n",
              " DocItem(doc_id=-8646789498977007218, is_spam=True, url='http://kizeikre.byethost13.com/60_skachat_instrukciyu_po_ekspluatacii/', features=[1838, 1.9961915125136018, 40, 35, 0]),\n",
              " DocItem(doc_id=-8640700013258322767, is_spam=True, url='http://their-uvr.pipetol.info/skachat-porno_qjo.html', features=[1416, 2.1716101694915255, 11, 5, 0]),\n",
              " DocItem(doc_id=-8638698483771366340, is_spam=True, url='http://thacherr09.narod.ru/detskie-futbolki-kupit.html', features=[2063, 2.0683470673776054, 32, 6, 0]),\n",
              " DocItem(doc_id=-8637249642298510686, is_spam=False, url='http://mgts.ru/switcher/client/', features=[1702, 2.309048178613396, 25, 0, 0]),\n",
              " DocItem(doc_id=-8636299730089099231, is_spam=True, url='http://oppers19.narod.ru/zakazat-gufa-maiku.html', features=[1272, 2.217767295597484, 18, 6, 0]),\n",
              " DocItem(doc_id=-8635008870856313231, is_spam=True, url='http://voqurome.shopping2000.com/sep/lesbi-bez-registracii.htm', features=[1762, 2.125993189557321, 36, 11, 0]),\n",
              " DocItem(doc_id=-8627868692485652252, is_spam=False, url='http://maxiforum.ru/qip-ili-icq-4125.html', features=[3305, 2.649924357034796, 5, 0, 0]),\n",
              " DocItem(doc_id=-8627459620483466977, is_spam=True, url='http://gykerobi.ugig.ir/?page=79', features=[3830, 2.1258485639686686, 21, 10, 0]),\n",
              " DocItem(doc_id=-8625111134064032246, is_spam=True, url='http://littstaroc.narod.ru/negr-chlen.html', features=[691, 2.2301013024602026, 9, 0, 0]),\n",
              " DocItem(doc_id=-8623758612922970273, is_spam=True, url='http://wranadatic.yc.cz/zacat3/manualniy-metod-uvelicheniya-chlena-227.html', features=[2526, 2.130245447347585, 27, 0, 0]),\n",
              " DocItem(doc_id=-8623496357611938795, is_spam=False, url='http://ppkk.permonline.ru/', features=[1433, 3.0153524075366365, 4, 0, 0]),\n",
              " DocItem(doc_id=-8621071063872230453, is_spam=False, url='http://ptr-vlad.ru/news/society/44266-kraevoy-gidrometcentr-ugrozy-radiacionnogo-zarazheniya-primorya-net-i-ne-prognoziruetsya.html', features=[4649, 2.4140675414067543, 66, 5, 0]),\n",
              " DocItem(doc_id=-8620244210216002776, is_spam=True, url='http://eajru.ugig.ir/?page=22', features=[3717, 2.124831853645413, 15, 6, 0]),\n",
              " DocItem(doc_id=-8617271747651991817, is_spam=False, url='http://mafona.ru/AlbumInfo.aspx?albumId=119079', features=[4616, 2.9597053726169844, 43, 19, 0]),\n",
              " DocItem(doc_id=-8613339767789200592, is_spam=True, url='http://stobb.prv.pl/menu692.html', features=[235, 4.842553191489362, 6, 0, 0]),\n",
              " DocItem(doc_id=-8612982617111085770, is_spam=False, url='http://kruchok1.my1.ru/photo/14', features=[1216, 2.8889802631578947, 37, 0, 0]),\n",
              " DocItem(doc_id=-8611819022794961400, is_spam=True, url='http://plumbuningcour.narod.ru/page-853467.html', features=[5573, 2.133680244033734, 10, 9, 0]),\n",
              " DocItem(doc_id=-8611772959171437217, is_spam=False, url='http://list.riall.ru/cat/179/', features=[1360, 2.527941176470588, 20, 6, 0]),\n",
              " DocItem(doc_id=-8610061970963420785, is_spam=True, url='http://tach-avtomob.narod.ru/remont-avtomobilya-mazda-6.html', features=[1716, 2.2791375291375293, 13, 4, 0]),\n",
              " DocItem(doc_id=-8607113945419450736, is_spam=False, url='http://lkforum.ru/showthread.php?t=18732&page=2', features=[17100, 2.3303508771929824, 59, 0, 0]),\n",
              " DocItem(doc_id=-8606613211967560387, is_spam=False, url='http://mega-mir.com/stats/231.html', features=[1442, 2.38626907073509, 27, 7, 0]),\n",
              " DocItem(doc_id=-8601569198745366776, is_spam=True, url='http://mirguasupp.com.nu/index453.html', features=[768, 2.44140625, 45, 9, 0]),\n",
              " DocItem(doc_id=-8586911168010574394, is_spam=False, url='http://reflexxx.ru/gallery/489', features=[1135, 2.3048458149779734, 25, 0, 0]),\n",
              " DocItem(doc_id=-8584763228707356817, is_spam=True, url='http://priprei.01lx.net/?page=43', features=[5430, 2.248987108655617, 22, 5, 0]),\n",
              " DocItem(doc_id=-8583462192510312519, is_spam=True, url='http://gyteaw.20x.cc/?page=48', features=[4637, 2.0819495363381497, 15, 5, 0]),\n",
              " DocItem(doc_id=-8576672345036035296, is_spam=True, url='http://boxmaichiadant.narod2.ru/doc86.html', features=[1271, 2.1683713611329662, 16, 15, 0]),\n",
              " DocItem(doc_id=-8573768482546069313, is_spam=False, url='http://v8.1c.ru/news/newsAbout.jsp?id=3616', features=[3890, 2.2455012853470437, 34, 5, 0]),\n",
              " DocItem(doc_id=-8569494121953620409, is_spam=True, url='http://liyhoz.hotmail.ru/', features=[2333, 2.4843549078439775, 15, 15, 0]),\n",
              " DocItem(doc_id=-8563372193933939344, is_spam=True, url='http://cuzmina-in.narod.ru/prostitutki-severouralsk-.html', features=[3357, 2.002085195114686, 25, 9, 0]),\n",
              " DocItem(doc_id=-8562776935614197614, is_spam=True, url='http://anfibiaw.tk/p-91123.html', features=[5525, 2.7102262443438914, 28, 0, 0]),\n",
              " DocItem(doc_id=-8562569343012756949, is_spam=False, url='http://loveplanet.ru/a-ljcmm/post-4549443/affiliate_id-1254', features=[8523, 3.144432711486566, 15, 0, 0]),\n",
              " DocItem(doc_id=-8561507853978665952, is_spam=True, url='http://tayfeltoo.narod.ru/58/04-2010.html', features=[3276, 2.091880341880342, 19, 0, 0]),\n",
              " DocItem(doc_id=-8552573825390134141, is_spam=False, url='http://sweb.ru/pay/eleksnet/', features=[2790, 2.3021505376344087, 11, 0, 0]),\n",
              " DocItem(doc_id=-8549769336973404801, is_spam=True, url='http://wisomood.livejournal.com/9393.html', features=[2005, 3.6134663341645887, 18, 2, 0]),\n",
              " DocItem(doc_id=-8549629074015305294, is_spam=True, url='http://tabevuf.tk/rezultaty-diety-uzhin-minus.html', features=[6017, 1.9815522685723783, 40, 17, 0]),\n",
              " DocItem(doc_id=-8548770070836737018, is_spam=True, url='http://extxyo.hu.cz/transy-krasnodar.html', features=[2395, 1.9954070981210856, 27, 0, 0]),\n",
              " DocItem(doc_id=-8542246674322565382, is_spam=False, url='http://littlefox.ru/tag/multserialy/page/5', features=[9458, 2.219708183548319, 43, 15, 0]),\n",
              " DocItem(doc_id=-8540400819142004068, is_spam=True, url='http://micknumese.narod.ru/rezultaty-diety-protasova.html', features=[2823, 1.9521785334750266, 37, 9, 0]),\n",
              " DocItem(doc_id=-8539905294331756917, is_spam=False, url='http://mapsshop.ru/product_595.html', features=[5999, 2.1208534755792634, 58, 0, 0]),\n",
              " DocItem(doc_id=-8538281372228145871, is_spam=False, url='http://medlinks.ru/modules.php?op=modload&name=Forum&file=viewtopic&topic=52814&forum=96', features=[6992, 2.179204805491991, 52, 5, 0]),\n",
              " DocItem(doc_id=-8538114282347153312, is_spam=False, url='http://lf.rbc.ru/bank/769/', features=[6692, 2.684548714883443, 47, 3, 0]),\n",
              " DocItem(doc_id=-8535756253480164957, is_spam=True, url='http://je.uronel.info/?u=25', features=[2427, 2.008652657601978, 78, 14, 0]),\n",
              " DocItem(doc_id=-8531863189905292740, is_spam=False, url='http://agbike.spb.ru/link/links.php?id=1', features=[1772, 3.2048532731376973, 53, 0, 0]),\n",
              " DocItem(doc_id=-8529481692489457573, is_spam=True, url='http://asbnv.megabyet.net/znakomstva-vladikavkaz-seks-intim-vstrechi-devushki.html', features=[1413, 2.40481245576787, 27, 27, 0]),\n",
              " DocItem(doc_id=-8527001028873040072, is_spam=True, url='http://geldietascon.tk/kataralnyy-bulbit-rubcovaya-deformaciya-ldpk-dieta.html', features=[6085, 2.0419063270336895, 46, 0, 0]),\n",
              " DocItem(doc_id=-8525461605898275133, is_spam=True, url='http://unbishod2ab9e.110mb.com/skachat-waterproof-phpedit-v2.0.1.206-french47.html', features=[2094, 2.1303724928366763, 13, 5, 0]),\n",
              " DocItem(doc_id=-8520176934819183314, is_spam=True, url='http://vitaliychujinov447.narod.ru/interfeys/view272.html', features=[2906, 2.184101858224363, 5, 0, 0]),\n",
              " DocItem(doc_id=-8517903066526739990, is_spam=False, url='http://logist.com.ua/warehouse/tehnika/forklift_choice.htm', features=[5114, 2.296245600312867, 43, 4, 0]),\n",
              " DocItem(doc_id=-8517229102693059110, is_spam=False, url='http://picmir.nu/pub/51108/', features=[1287, 1.9953379953379953, 15, 11, 0]),\n",
              " DocItem(doc_id=-8515138548626202691, is_spam=False, url='http://mannkauf.ru/termoclip-stena_1', features=[2263, 2.433937251436147, 10, 0, 0]),\n",
              " DocItem(doc_id=-8512024701350357908, is_spam=True, url='http://beshm20.edu.ms/gde-kupit-sumku-shanel.html', features=[5741, 2.0870928409684724, 15, 5, 0]),\n",
              " DocItem(doc_id=-8508931426980943854, is_spam=True, url='http://l-egu.narod.ru/tema-dnya/mafiya-na-feysbuke.html', features=[1064, 2.088345864661654, 31, 11, 0]),\n",
              " DocItem(doc_id=-8504289876203091128, is_spam=True, url='http://wrytui.20x.cc/?page=6', features=[7424, 2.103313577586207, 23, 5, 0]),\n",
              " DocItem(doc_id=-8499852499503005527, is_spam=True, url='http://jennkieow3.narod.ru/board109173.html', features=[5354, 2.1081434441539035, 30, 9, 0]),\n",
              " DocItem(doc_id=-8498294647739103507, is_spam=True, url='http://fovetherli.narod2.ru/rabota-dlya-dmitriy-dorodnova.html', features=[1680, 2.151190476190476, 18, 18, 0]),\n",
              " DocItem(doc_id=-8496357343856550096, is_spam=True, url='http://kubehutu.livejournal.com/8226.html', features=[1991, 3.5409342039176295, 28, 2, 0]),\n",
              " DocItem(doc_id=-8494105614079106739, is_spam=False, url='http://www.dsnovik.ru/naming.htm?p_party=2', features=[1857, 2.228325255788907, 50, 0, 0]),\n",
              " DocItem(doc_id=-8491699965257593693, is_spam=True, url='http://ldrqlnkar3.edu.ms/3/skachat-igru-gonki-drift-27.html', features=[2015, 2.072456575682382, 46, 0, 0]),\n",
              " DocItem(doc_id=-8489980231889264234, is_spam=False, url='http://16.product.ru/sfres.asp?pg=0&VID=13&SFERA=904', features=[4519, 1.9623810577561407, 32, 4, 0]),\n",
              " DocItem(doc_id=-8488160381182758855, is_spam=False, url='http://www.komiinform.ru/news/73671/', features=[2526, 2.413697545526524, 40, 0, 0]),\n",
              " DocItem(doc_id=-8481559790411682424, is_spam=True, url='http://joywtcscers.co.cc/igor-rabiner-lokomotiv-kotoriy-mi-poteryali.html', features=[5345, 2.2130963517305893, 35, 29, 0]),\n",
              " DocItem(doc_id=-8479276096463194620, is_spam=False, url='http://www.hotelsmoscow.ru/history/izmailovo.htm', features=[2186, 2.1724611161939618, 26, 0, 0]),\n",
              " DocItem(doc_id=-8477885135207156261, is_spam=True, url='http://lbkyxyajv5.edu.ms/5/super-mario-theme-skachat-34.html', features=[2600, 2.163076923076923, 39, 0, 0]),\n",
              " DocItem(doc_id=-8475036691823148880, is_spam=True, url='http://vjxqyt996j.narod.ru/file-33748.html', features=[4266, 2.2320675105485233, 48, 4, 0]),\n",
              " DocItem(doc_id=-8475034056223612766, is_spam=False, url='http://alta-d.ru/about.htm', features=[3788, 2.1470432946145723, 122, 0, 0]),\n",
              " DocItem(doc_id=-8474345359197502210, is_spam=True, url='http://icti.ru/noutbuki-eldorado-set-magazinov-novokuznetsk', features=[3178, 1.6390811831340466, 114, 38, 0]),\n",
              " DocItem(doc_id=-8473575467057906862, is_spam=True, url='http://saugirea.livejournal.com', features=[2187, 4.256515775034294, 28, 2, 0]),\n",
              " DocItem(doc_id=-8469665624140935385, is_spam=True, url='http://tabugtna.narod.ru/ufo-inoplanetyane-neosporimie-dokazatelstva.html', features=[8553, 2.1729217818309365, 26, 7, 0]),\n",
              " DocItem(doc_id=-8466933607111886265, is_spam=False, url='http://www.26-2.ru/poleznoe/document89254.phtml', features=[13571, 2.1589418613219364, 116, 17, 0]),\n",
              " DocItem(doc_id=-8462668140611672745, is_spam=True, url='http://eldarius.front.ru/menu-908481.html', features=[2281, 2.453309951775537, 30, 15, 0]),\n",
              " DocItem(doc_id=-8458063498021423174, is_spam=False, url='http://mapsshop.ru/product_2521.html', features=[5364, 2.098806860551827, 47, 0, 0]),\n",
              " DocItem(doc_id=-8456692185796257780, is_spam=True, url='http://bycajoju10.hotbox.ru/10.html', features=[2902, 2.0482425913163333, 19, 19, 0]),\n",
              " DocItem(doc_id=-8456379232092429322, is_spam=True, url='http://sauryolache4345.narod.ru/nb17/19/rezult/20.html', features=[7085, 2.0299223712067747, 47, 0, 0]),\n",
              " DocItem(doc_id=-8455764760505221774, is_spam=False, url='http://lenta.ru/lib/14196499/', features=[8975, 2.155097493036212, 14, 0, 0]),\n",
              " DocItem(doc_id=-8453341931747156440, is_spam=True, url='http://www.expensivebags.ru/Sumki-iz-mexa/79.html', features=[3177, 2.3194837897387472, 19, 7, 0]),\n",
              " DocItem(doc_id=-8452614394454591796, is_spam=False, url='http://lib.ru/KING/king_pl.txt', features=[509030, 2.054564563974618, 16, 0, 0]),\n",
              " DocItem(doc_id=-8447741637083559552, is_spam=False, url='http://modnaya.ru/shop/parfum/parfum.pl?ven=thierry-mugler', features=[5533, 2.2606181095246702, 10, 12, 0]),\n",
              " DocItem(doc_id=-8446663398032149871, is_spam=True, url='http://nedorogie-igrush1ki-tanki.tanchikigame.ru/', features=[2804, 2.6137660485021397, 20, 0, 0]),\n",
              " DocItem(doc_id=-8445353396994717699, is_spam=True, url='http://spasmatch294.narod.ru/lockngo-crack.html', features=[1449, 2.3485162180814356, 66, 5, 0]),\n",
              " DocItem(doc_id=-8445339580977218014, is_spam=True, url='http://coultrtherfor.narod.ru/b/15/mq/35.html', features=[10502, 2.101599695296134, 43, 0, 0]),\n",
              " DocItem(doc_id=-8443109405049770958, is_spam=True, url='http://daewoo-work-2010.narod.ru/lamboru/22/atalo/8.html', features=[2135, 2.5395784543325526, 23, 12, 0]),\n",
              " DocItem(doc_id=-8442510221883222111, is_spam=True, url='http://rein211.110mb.com/170-skachat-housatonic-project-viewer-v7.8.1.22913.htm', features=[3356, 2.0914779499404053, 13, 0, 0]),\n",
              " DocItem(doc_id=-8440507107699329423, is_spam=False, url='http://lic.obrnadzor.gov.ru/FileDownload.ashx?f=1102012', features=[228751, 2.090390861679293, 0, 6, 0]),\n",
              " DocItem(doc_id=-8434364555667481242, is_spam=True, url='http://ttgut.up100mb.com/seks-l.html', features=[2286, 2.1666666666666665, 3, 0, 0]),\n",
              " DocItem(doc_id=-8433404616041519701, is_spam=False, url='http://lawlibrary.ru/poisk.php?izdatel=+%C8%E7%E4-%E2%EE+%C2%C3%C0%C2%D2&tochno=1', features=[5047, 2.045769764216366, 18, 16, 0]),\n",
              " DocItem(doc_id=-8432447454615643252, is_spam=False, url='http://law-students.net/modules.php?name=Forums&file=viewtopic&t=548', features=[3227, 3.315773163929346, 55, 7, 0]),\n",
              " DocItem(doc_id=-8427786949563618776, is_spam=False, url='http://lib.tr200.net/v.php?id=84871', features=[70817, 2.0197833853453266, 51, 0, 0]),\n",
              " DocItem(doc_id=-8421076365091206197, is_spam=True, url='http://vsevmesteda.typepad.com/blog/page/12/', features=[4005, 2.4636704119850186, 3, 3, 0]),\n",
              " DocItem(doc_id=-8415925434074134020, is_spam=False, url='http://kosy.my1.ru/photo/2-0-80', features=[1430, 3.0643356643356645, 66, 0, 0]),\n",
              " DocItem(doc_id=-8414684224798250747, is_spam=False, url='http://america-countries.ru/argentina.php', features=[7236, 2.0892758430071865, 8, 0, 0]),\n",
              " DocItem(doc_id=-8411719734830850102, is_spam=True, url='http://semetmevin.yc.cz/kak-mozhno-uvelichit-polovoy-chlen-l4/index2.html', features=[2852, 2.144460028050491, 24, 0, 0]),\n",
              " DocItem(doc_id=-8410942988600961432, is_spam=True, url='http://aprob.co.cc/?pavedu=15', features=[7265, 2.097591190640055, 40, 30, 0]),\n",
              " DocItem(doc_id=-8410064119369248535, is_spam=False, url='http://www.irk.ru/sms/%3Fredir%3D%252Fphones%252Ffirm%252F10199%252F', features=[2135, 2.1784543325526933, 22, 0, 0]),\n",
              " DocItem(doc_id=-8406033558998542663, is_spam=True, url='http://onlinetorneuigri.com.nu/sport/igri-onlayn-pao-pao.html', features=[1791, 2.185929648241206, 28, 12, 0]),\n",
              " DocItem(doc_id=-8403654432246217703, is_spam=False, url='http://mp3slot.ru/track_info/path_221/tracknumber22138.shtml', features=[995, 2.9849246231155777, 43, 9, 0]),\n",
              " DocItem(doc_id=-8402622628575012316, is_spam=False, url='http://mega-soft.ru/prg/macromedia_flash_player_9.0.28.0_final/', features=[1669, 2.56141402037148, 19, 0, 0]),\n",
              " DocItem(doc_id=-8401352174491796279, is_spam=True, url='http://dogowake.livejournal.com/', features=[12655, 2.587198735677598, 1, 2, 0]),\n",
              " DocItem(doc_id=-8398488836523288589, is_spam=False, url='http://megasait.ru/html_girls/trusiki/8.html', features=[2395, 3.493528183716075, 48, 0, 0]),\n",
              " DocItem(doc_id=-8388359055002209576, is_spam=True, url='http://hydnucolthe.narod2.ru/topaz-i-znaki-zodiaka.html', features=[1487, 2.52320107599193, 13, 13, 0]),\n",
              " DocItem(doc_id=-8387526916907999879, is_spam=False, url='http://www.stroyestetic.ru/tepliy-pol.html', features=[2843, 2.2219486457966937, 51, 13, 0]),\n",
              " DocItem(doc_id=-8381011428298827015, is_spam=True, url='http://ydtji3j328.narod.ru/file-992020.html', features=[5524, 2.37961622013034, 35, 0, 0]),\n",
              " DocItem(doc_id=-8379940392794780543, is_spam=False, url='http://life-trip.ru/dolmeny-gelendzhika-karta-dolmenov/', features=[8738, 2.237926298924239, 19, 7, 0]),\n",
              " DocItem(doc_id=-8379211508863421717, is_spam=True, url='http://begagur.host.sk/index.php?menu=81', features=[2485, 1.9134808853118712, 24, 0, 0]),\n",
              " DocItem(doc_id=-8374594044366718583, is_spam=True, url='http://ffecsoupwinsni.yc.cz/operatsiya-po-uvelicheniyu-penisa-video-v4/kolocepy-324.html', features=[3100, 2.0735483870967744, 25, 6, 0]),\n",
              " DocItem(doc_id=-8372629383062877536, is_spam=True, url='http://onlineinculigri.com.nu/map.html', features=[33820, 2.054701360141928, 40, 20, 0]),\n",
              " DocItem(doc_id=-8368629889030267257, is_spam=False, url='http://amr.ru/research/analit/detail.php?ID=3480', features=[11282, 2.1762985286296757, 25, 0, 0]),\n",
              " DocItem(doc_id=-8366295463897458439, is_spam=True, url='http://primo52.edu.ms/kakoe-prozvishe-u-trenera-mayka-kinema-hokkey.html', features=[4446, 2.1025641025641026, 41, 12, 0]),\n",
              " DocItem(doc_id=-8364023483323125547, is_spam=True, url='http://tadtpjonathan.narod.ru/devushki-vladivostoka-kotorie-hotyat-poznakomitsya.html', features=[2367, 2.1258977608787495, 27, 0, 0]),\n",
              " DocItem(doc_id=-8360577313043156674, is_spam=False, url='http://gameru.net/forum/index.php?showtopic=20257', features=[6807, 2.367415895401792, 25, 0, 0]),\n",
              " DocItem(doc_id=-8352364093043462825, is_spam=False, url='http://vashdom.spb.ru/browse1195236.htm', features=[4806, 2.7095297544735746, 49, 8, 0]),\n",
              " DocItem(doc_id=-8350334973796860366, is_spam=True, url='http://peucrazaplit.inf.ua/igrat-v-onlayn-besplatnie-draki/igrat-krutie-gonki-onlayn-besplatno.html', features=[2848, 2.044241573033708, 31, 21, 0]),\n",
              " DocItem(doc_id=-8342462059984237345, is_spam=False, url='http://huyandex.com/blog/488/26.html', features=[6237, 2.185505852172519, 37, 0, 0]),\n",
              " DocItem(doc_id=-8337546784386043539, is_spam=False, url='http://lovekinozal.ru/news/8-0-12', features=[8119, 2.1667693065648477, 48, 0, 0]),\n",
              " DocItem(doc_id=-8335522871714993188, is_spam=True, url='http://fsthinexpamp.narod.ru/56.html', features=[581, 2.938037865748709, 3, 1, 0]),\n",
              " DocItem(doc_id=-8329170885919400984, is_spam=True, url='http://sat-kmv.com', features=[5239, 2.1822866959343385, 47, 0, 0]),\n",
              " DocItem(doc_id=-8326975462247701976, is_spam=False, url='http://ssr-portal.ru/983-aram-zam-zam-novyj-yakcupcop.html', features=[4377, 3.0180488919351154, 49, 0, 0]),\n",
              " DocItem(doc_id=-8323108899887728458, is_spam=False, url='http://lion555.narod.ru/Book/Bookantasi/ruini.htm', features=[233810, 2.00537616013002, 2, 0, 0]),\n",
              " DocItem(doc_id=-8321220028857721512, is_spam=True, url='http://transformation68e.krovatka.su/number-7.html', features=[2414, 2.3301574150787077, 14, 5, 0]),\n",
              " DocItem(doc_id=-8320835910572662418, is_spam=True, url='http://raul55.narod.ru/file-469521.html', features=[3891, 2.1326137239784115, 37, 0, 0]),\n",
              " DocItem(doc_id=-8316285448452370606, is_spam=True, url='http://momiseg.host.sk/index.php?thread=41', features=[2870, 1.9407665505226481, 25, 0, 0]),\n",
              " DocItem(doc_id=-8315160951751890811, is_spam=True, url='http://alexiagnkut.narod.ru/gde-snyat-kvartiru-s-zhivotnym.html', features=[1403, 2.1168923734853884, 19, 18, 0]),\n",
              " DocItem(doc_id=-8315135091083871329, is_spam=False, url='http://www.bibliofond.ru/view.aspx?id=104115', features=[18057, 2.1047239297779257, 45, 0, 0]),\n",
              " DocItem(doc_id=-8315092523045144050, is_spam=True, url='http://bafiwing.livejournal.com/7506.html', features=[2119, 3.4218971212836244, 28, 2, 0]),\n",
              " DocItem(doc_id=-8313584250998157805, is_spam=False, url='http://megashara.com/movies/656562/ragnarek_animatsiya_epizody_01_26_iz_26_rus_ragnarok_the_animation.html', features=[3817, 2.739324076499869, 248, 12, 0]),\n",
              " DocItem(doc_id=-8312910913897437026, is_spam=True, url='http://gjhyjgjhyj.fromru.su/', features=[478, 4.579497907949791, 0, 0, 0]),\n",
              " DocItem(doc_id=-8306963925290969966, is_spam=False, url='http://amurnet.ru/', features=[6885, 2.0931009440813364, 35, 7, 0]),\n",
              " DocItem(doc_id=-8302928253771415312, is_spam=False, url='http://altufevo.ru/?src=ny', features=[2286, 2.394575678040245, 19, 0, 0]),\n",
              " DocItem(doc_id=-8298881765140424760, is_spam=True, url='http://mehelipsy.yc.cz/emcat6/index1.html', features=[2457, 2.118030118030118, 29, 6, 0]),\n",
              " DocItem(doc_id=-8297324866082877373, is_spam=True, url='http://wautalovslen.yc.cz/qdcat7/index2.html', features=[2530, 2.0209486166007906, 22, 6, 0]),\n",
              " DocItem(doc_id=-8294056098405323956, is_spam=True, url='http://arerokedq.ce.ms/massazh/mish-siski.html', features=[2200, 2.05, 30, 0, 0]),\n",
              " DocItem(doc_id=-8292141661981729360, is_spam=False, url='http://pilot.strizhi.info/2007/03/20/3035', features=[3385, 2.11314623338257, 26, 5, 0]),\n",
              " DocItem(doc_id=-8290722199560625924, is_spam=True, url='http://rkoyvtefi3.edu.ms/3/karty-gta-skachat-46.html', features=[3074, 1.987312947299935, 35, 0, 0]),\n",
              " DocItem(doc_id=-8286374761584303323, is_spam=False, url='http://www.dushkabina.ru/', features=[1487, 2.546065904505716, 71, 16, 0]),\n",
              " DocItem(doc_id=-8285778914512697000, is_spam=True, url='http://irvono.uni.cc/Sayt-znakomstv/43/', features=[3724, 2.122717508055854, 22, 29, 0]),\n",
              " DocItem(doc_id=-8282219779161352870, is_spam=False, url='http://oriental-mebel.ru/ViewFamily.aspx?ID=85', features=[2161, 2.4414622859787136, 29, 9, 0]),\n",
              " DocItem(doc_id=-8279755133562861016, is_spam=True, url='http://groupafdasasu.narod.ru/games/fuxqf.html', features=[1738, 2.1691599539700808, 61, 0, 0]),\n",
              " DocItem(doc_id=-8276653725664845630, is_spam=True, url='http://coursewar7d6.110mb.com/download-nikon-capture-nx-v1.0.html', features=[3614, 2.097952407304925, 11, 11, 0]),\n",
              " DocItem(doc_id=-8271727392740600306, is_spam=True, url='http://oryzuda.20x.cc/?page=2', features=[4685, 2.861472785485592, 8, 0, 0]),\n",
              " DocItem(doc_id=-8270708776927141805, is_spam=False, url='http://kostol-t.ru/ultra.htm', features=[3830, 2.430026109660574, 1, 40, 0]),\n",
              " DocItem(doc_id=-8269225573924126908, is_spam=False, url='http://www.masmec.ru/pages/remont_gidravliki', features=[2555, 2.5847358121330726, 36, 1, 0]),\n",
              " DocItem(doc_id=-8264557840035553037, is_spam=False, url='http://www.goldfishka.com/ru/articles/blackjack.aspx', features=[2217, 3.106450157870997, 36, 9, 0]),\n",
              " DocItem(doc_id=-8258001681671052938, is_spam=True, url='http://perlalunab.inf.ua/skachat-besplatno-igri-onlayn-draki/pitometsyuru-onlayn-igri.html', features=[3347, 2.1780699133552437, 30, 13, 0]),\n",
              " DocItem(doc_id=-8257318870789962318, is_spam=False, url='http://profi-tehnika.ru/catalog/120/', features=[2385, 2.321593291404612, 59, 18, 0]),\n",
              " DocItem(doc_id=-8255073527775423123, is_spam=True, url='http://piacrowmic.narod.ru/lico-pohudet.html', features=[2755, 2.173865698729583, 48, 9, 0]),\n",
              " DocItem(doc_id=-8250920322960712281, is_spam=True, url='http://piriral.narod.ru/dieta-moermana.html', features=[3412, 2.196658851113716, 41, 0, 0]),\n",
              " DocItem(doc_id=-8250462626253887527, is_spam=True, url='http://fjai5264a9.narod.ru/file-326770.html', features=[3653, 2.2354229400492747, 28, 4, 0]),\n",
              " DocItem(doc_id=-8248547232346934234, is_spam=True, url='http://leopoldoch.myslenno.pp.ua/index.php?page=46', features=[2221, 2.0288158487167944, 26, 0, 0]),\n",
              " DocItem(doc_id=-8243200248717643009, is_spam=True, url='http://resttapatinf.yc.cz/uvelichenie-chlena-vakuumnoy-pompoy-y4/mefuhyf-4.html', features=[1938, 2.0443756449948403, 18, 0, 0]),\n",
              " DocItem(doc_id=-8239307935152740642, is_spam=True, url='http://cticconreatt.edu.ms/anket31.html', features=[671, 2.005961251862891, 19, 5, 0]),\n",
              " DocItem(doc_id=-8217993595856007546, is_spam=False, url='http://letitbit.net/download/51424.5724899be7f1edfd01f34d86d5a5/2GIS_Samara-27.zip.html', features=[682, 3.5073313782991202, 43, 0, 0]),\n",
              " DocItem(doc_id=-8213583313699147595, is_spam=True, url='http://taxafon.ucoz.net/6/porno-foto-iznasilovanie.shtm', features=[5241, 2.08376264071742, 15, 5, 0]),\n",
              " DocItem(doc_id=-8211313671562306644, is_spam=False, url='http://lastfm.ru/music/sparks', features=[5411, 2.996673442986509, 37, 2, 0]),\n",
              " DocItem(doc_id=-8209149800133463130, is_spam=False, url='http://maybe.ru/dom/lib/1751/forum_2007-11-13.html', features=[487054, 2.0672861736070334, 28, 11, 0]),\n",
              " DocItem(doc_id=-8205465515515625118, is_spam=True, url='http://lokamativ.strefa.pl/280-rezultaty-diety-maggi.html', features=[1717, 2.118229470005824, 30, 0, 0]),\n",
              " DocItem(doc_id=-8200828086413582855, is_spam=True, url='http://shardam7r7h.rbcmail.ru/site-12.html', features=[2120, 2.468867924528302, 19, 0, 0]),\n",
              " DocItem(doc_id=-8200176016114617694, is_spam=False, url='http://kotorov.ru/', features=[1507, 2.3576642335766422, 60, 0, 0]),\n",
              " DocItem(doc_id=-8197797423563246433, is_spam=True, url='http://ponugo.narod.ru/map.html', features=[18912, 2.0639805414551606, 9, 13, 0]),\n",
              " DocItem(doc_id=-8194536715963998800, is_spam=False, url='http://lichnosti.net/people_632.html', features=[8651, 2.399722575424806, 9, 0, 0]),\n",
              " DocItem(doc_id=-8193706101347556944, is_spam=True, url='http://clipincasto.narod.ru/page-194377.html', features=[3917, 2.155731427112586, 9, 13, 0]),\n",
              " DocItem(doc_id=-8189283819454792176, is_spam=True, url='http://plk81m28d4.narod.ru/file-269160.html', features=[3298, 2.3138265615524563, 28, 4, 0]),\n",
              " DocItem(doc_id=-8188071183882155213, is_spam=False, url='http://angara.net/user/Alex_Nevsky/', features=[1488, 2.521505376344086, 10, 0, 0]),\n",
              " DocItem(doc_id=-8182352619312227124, is_spam=False, url='http://lib.komarovskiy.net/nifuroksazid-enterofuril-sleduet-li-naznachat-ego-detyam.html', features=[3157, 2.4478935698447892, 47, 0, 0]),\n",
              " DocItem(doc_id=-8178472245825234798, is_spam=False, url='http://makita-online.ru/', features=[3712, 2.255657327586207, 36, 5, 0]),\n",
              " DocItem(doc_id=-8177890452228784635, is_spam=False, url='http://autosecurity.ru/security/immobiliser/archive/med/med58.php', features=[2090, 2.445933014354067, 10, 5, 0]),\n",
              " DocItem(doc_id=-8175653467305181101, is_spam=True, url='http://yuri-bs.pochta.ru/pg-494443.html', features=[2342, 2.5046968403074295, 52, 15, 0]),\n",
              " DocItem(doc_id=-8174779888404710684, is_spam=True, url='http://bluginblu.co.cc/besplatnie-eroticheskie-znakomstva-bez-registracii-c-foto.html', features=[3321, 2.247515808491418, 36, 9, 0]),\n",
              " DocItem(doc_id=-8172771554559964777, is_spam=False, url='http://gvir.ru/text2008/n12/gdi12116.htm', features=[18550, 2.1375741239892183, 19, 0, 0]),\n",
              " DocItem(doc_id=-8168491500470067793, is_spam=False, url='http://altay.kabelino.ru/firm_3699_news', features=[1498, 3.05607476635514, 46, 0, 0]),\n",
              " DocItem(doc_id=-8161537703997358196, is_spam=False, url='http://hd-smasher.livejournal.com/2009/07/20/', features=[3100, 2.777741935483871, 16, 0, 0]),\n",
              " DocItem(doc_id=-8160916936903705075, is_spam=True, url='http://ovdremas.narod.ru/deystvennye-diety-dlya-pohudeniya.html', features=[4212, 2.16690408357075, 70, 0, 0]),\n",
              " DocItem(doc_id=-8159939647015918910, is_spam=False, url='http://ldpr-online.ru/', features=[7038, 2.215544188689969, 20, 0, 0]),\n",
              " DocItem(doc_id=-8158172211360752137, is_spam=True, url='http://tongsogo.narod.ru/dieta-ceroz-pecheni.html', features=[4218, 2.2230915125651967, 44, 0, 0]),\n",
              " DocItem(doc_id=-8157801074055027142, is_spam=True, url='http://ikfitnma.co.cc/mgts-baza-dannih-moskva/39.html', features=[2773, 2.2160115398485396, 0, 0, 0]),\n",
              " DocItem(doc_id=-8153916464408716094, is_spam=True, url='http://birraugu.co.cc/znakomstva-losandjeles.html', features=[5469, 2.24026330224904, 12, 20, 0]),\n",
              " DocItem(doc_id=-8152843987327393924, is_spam=True, url='http://goegoecr.5gigs.net/12/06/10/279/', features=[2099, 2.1048118151500717, 54, 18, 0]),\n",
              " DocItem(doc_id=-8148611159308079509, is_spam=False, url='http://maklakovo.eto-ya.com/tatarskie-imena/', features=[18710, 1.7175841795831106, 54, 12, 0]),\n",
              " DocItem(doc_id=-8147094178615035860, is_spam=True, url='http://forumgbrest.nm.ru/page-302158.html', features=[1771, 2.709203839638622, 34, 32, 0]),\n",
              " DocItem(doc_id=-8147055744414763211, is_spam=True, url='http://cowsxylmeera.narod.ru/Tajna-familii-mostvilishker.html', features=[695, 2.530935251798561, 55, 5, 0]),\n",
              " DocItem(doc_id=-8145918355061601048, is_spam=True, url='http://yulusago.livejournal.com/2066.html', features=[2028, 3.5285996055226825, 31, 2, 0]),\n",
              " DocItem(doc_id=-8141838981104786486, is_spam=False, url='http://livetv.ru/eventinfo/47722_philadelphia_chicago/194/', features=[4579, 2.7263594671325615, 32, 0, 0]),\n",
              " DocItem(doc_id=-8141819324309817409, is_spam=True, url='http://rdvoxtf.com.nu/42.html', features=[1958, 2.206843718079673, 13, 1, 0]),\n",
              " DocItem(doc_id=-8137026091494554626, is_spam=False, url='http://apteka-forte.ru/info/altevir/buy_altevir.html', features=[940, 2.926595744680851, 20, 0, 0]),\n",
              " DocItem(doc_id=-8136988100196882326, is_spam=True, url='http://raul-blanko.narod.ru/file-778833.html', features=[4547, 2.0859907631405323, 40, 0, 0]),\n",
              " DocItem(doc_id=-8135245458363151392, is_spam=False, url='http://nnm-club.ru/forum/viewtopic.php?t=150875', features=[3942, 2.279807204464739, 23, 0, 0]),\n",
              " DocItem(doc_id=-8129858140095082817, is_spam=False, url='http://www.estate.spb.ru/news/4799/index.html', features=[3716, 3.1907965554359525, 54, 4, 0]),\n",
              " DocItem(doc_id=-8129752034340698573, is_spam=True, url='http://kacaiigru.times.lv/muzyka-shumana/igra-balance-pro-sharik.html', features=[15597, 2.1368211835609414, 23, 0, 0]),\n",
              " DocItem(doc_id=-8128093388525300187, is_spam=True, url='http://ergnm.erufa.com/?capaf=2', features=[1913, 2.0554103502352326, 145, 43, 0]),\n",
              " DocItem(doc_id=-8127568871797958118, is_spam=True, url='http://zazirkinjehob.pochta.ru/seks-posmotret.html', features=[2106, 2.5014245014245016, 7, 12, 0]),\n",
              " DocItem(doc_id=-8126035241555469794, is_spam=True, url='http://blueladiesuzar.forum24.ru/', features=[7120, 2.343820224719101, 71, 9, 0]),\n",
              " DocItem(doc_id=-8122498689934787693, is_spam=True, url='http://forlinudo.narod.ru/05-2010/266.html', features=[2758, 2.253807106598985, 16, 0, 0]),\n",
              " DocItem(doc_id=-8122089330873503051, is_spam=False, url='http://market.3dnews.ru/?firm=258&vendor=2936', features=[3458, 2.942163100057837, 6, 6, 0]),\n",
              " DocItem(doc_id=-8118363004146925737, is_spam=True, url='http://ttketyilm2.edu.ms/2/skachat-tegi-dlya-cs-16-40.html', features=[2552, 2.021551724137931, 40, 0, 0]),\n",
              " DocItem(doc_id=-8115371150188641442, is_spam=True, url='http://pramesbonligh.narod.ru/page-893893.html', features=[3587, 2.1020351268469475, 11, 12, 0]),\n",
              " DocItem(doc_id=-8114385200082653534, is_spam=True, url='http://langnessdefri.narod.ru/Proisxozhdenie-familii-muzhekov.html', features=[2691, 2.087328130806392, 46, 5, 0]),\n",
              " DocItem(doc_id=-8112825846138593172, is_spam=True, url='http://cencstisbangstav.yc.cz/gtcat8/dlina-chlena-petra-1-221.html', features=[2205, 2.0408163265306123, 15, 6, 0]),\n",
              " DocItem(doc_id=-8111009818198304266, is_spam=False, url='http://www.gven.ru/iteminfo/708.html', features=[2715, 2.161325966850829, 83, 0, 0]),\n",
              " DocItem(doc_id=-8108346107645884524, is_spam=True, url='http://odbocomwii.narod.ru', features=[3305, 2.0822995461422087, 39, 31, 0]),\n",
              " DocItem(doc_id=-8107821406343444913, is_spam=True, url='http://distisasys.yc.cz/pkcat7/kan-182.html', features=[2352, 2.201955782312925, 37, 6, 0]),\n",
              " DocItem(doc_id=-8106302267959639938, is_spam=False, url='http://krugosvet.ru/enc/strany_mira/MALDIVI.html', features=[3364, 2.8873365041617123, 25, 17, 0]),\n",
              " DocItem(doc_id=-8104454453904732970, is_spam=False, url='http://kremz.ru/pmpt.html', features=[2986, 2.1604152712659075, 91, 0, 0]),\n",
              " DocItem(doc_id=-8102768531999370522, is_spam=True, url='http://ayserenslece.narod.ru/samouchitel-po-floristike-skachat.html', features=[670, 2.1417910447761193, 24, 21, 0]),\n",
              " DocItem(doc_id=-8096293335123709964, is_spam=True, url='http://vatikano.tk/740-bordo-newyear-toys.html', features=[2319, 2.439844760672704, 12, 0, 0]),\n",
              " DocItem(doc_id=-8095140914147587086, is_spam=False, url='http://mds.altervision.ru/?fc', features=[133396, 1.9998950493268164, 51, 0, 0]),\n",
              " DocItem(doc_id=-8084482377181902577, is_spam=True, url='http://provobsacen.yc.cz/kak-uvelichit-penis-forum-d1/kak-uvelichit-chlen-soveti-206.html', features=[3366, 2.0828877005347595, 21, 6, 0]),\n",
              " DocItem(doc_id=-8083555630713153402, is_spam=False, url='http://31-police.mnogonado.net/firms/?cmd=subfirm&id=314', features=[5481, 2.200328407224959, 39, 0, 0]),\n",
              " DocItem(doc_id=-8080769545358461946, is_spam=True, url='http://gogna47.edu.ms/sony-sound-forge-russifikator.html', features=[4777, 2.069709022398995, 31, 0, 0]),\n",
              " DocItem(doc_id=-8076726896211078339, is_spam=True, url='http://seamanshipa.livejournal.com/13794.html', features=[9107, 2.560008784451521, 5, 2, 0]),\n",
              " DocItem(doc_id=-8072198615224141558, is_spam=True, url='http://anybody.builtfree.org/files143.html', features=[1890, 2.5973544973544973, 8, 3, 0]),\n",
              " DocItem(doc_id=-8072169279301631106, is_spam=False, url='http://materinstvo.org/articles/birth.php?city=2495', features=[46991, 2.0968908940009787, 42, 12, 0]),\n",
              " DocItem(doc_id=-8072129163663431350, is_spam=False, url='http://internetno.net/base/vkontakte/', features=[1158, 3.7815198618307426, 44, 5, 0]),\n",
              " DocItem(doc_id=-8071313695807091954, is_spam=True, url='http://defragmentinbbca.110mb.com/italija-film-jerotika-junosha-fantocci-s-tetejj.html', features=[1912, 1.9895397489539748, 29, 0, 0]),\n",
              " DocItem(doc_id=-8068282779290403675, is_spam=True, url='http://alteks-opt.ru/snyat-kvartiru-voroncovskiy-park.html', features=[3783, 2.0385937086968013, 19, 0, 0]),\n",
              " DocItem(doc_id=-8063914472382048563, is_spam=False, url='http://medkarta.com.ua/mdv/med_1.php?url=lp60', features=[11815, 2.219212865002116, 43, 0, 0]),\n",
              " DocItem(doc_id=-8062795886479604366, is_spam=False, url='http://lyakhov.kz/iguide/03/ig50.shtml', features=[14474, 2.2141080558242368, 38, 0, 0]),\n",
              " DocItem(doc_id=-8059248868359241444, is_spam=False, url='http://lr.ru/', features=[4601, 2.210823733970876, 59, 9, 0]),\n",
              " DocItem(doc_id=-8054659087325721152, is_spam=True, url='http://riocopubtai.inf.ua/besplatno-onlayn-igri-flesh-gonki/igra-otbeysya-ot-tolpi-onlayn.html', features=[3205, 2.1076443057722307, 32, 15, 0]),\n",
              " DocItem(doc_id=-8051310181897358581, is_spam=True, url='http://rpegurp.20x.cc/?page=90', features=[3922, 2.0260071392146863, 22, 5, 0]),\n",
              " DocItem(doc_id=-8048978668268573719, is_spam=False, url='http://mapru.com/forum/index.php?showtopic=1025', features=[9217, 2.244114136920907, 27, 8, 0]),\n",
              " DocItem(doc_id=-8045551657604771510, is_spam=True, url='http://qbtujo.hdsell.ru/vakansii-ovd-moskvi', features=[1547, 2.1603102779573367, 23, 0, 0]),\n",
              " DocItem(doc_id=-8042333310371104438, is_spam=False, url='http://vedomostivuz.ru/article.shtml?2007/12/19/4586', features=[2632, 2.8822188449848025, 30, 46, 0]),\n",
              " DocItem(doc_id=-8033643368651021309, is_spam=True, url='http://irput.tk/index.php?cegek=sitemap', features=[5403, 2.30094392004442, 48, 12, 0]),\n",
              " DocItem(doc_id=-8029132840580332212, is_spam=False, url='http://andrey-che.livejournal.com/75361.html', features=[6909, 3.140396584165581, 41, 0, 0]),\n",
              " DocItem(doc_id=-8028455764781122827, is_spam=True, url='http://lis6folis.narod2.ru/sado-mazo-bdsm-bondazh.html', features=[1758, 2.0813424345847555, 15, 0, 0]),\n",
              " DocItem(doc_id=-8021509766335045777, is_spam=False, url='http://mashki.ru/', features=[5000, 2.1168, 79, 3, 0]),\n",
              " DocItem(doc_id=-8011695955006230648, is_spam=False, url='http://lekmed.ru/lekarstva/analgetiki/kombigripp-deksa.html', features=[6672, 2.2618405275779376, 10, 0, 0]),\n",
              " DocItem(doc_id=-8011346986891446681, is_spam=True, url='http://aureliaremedios.i-was-in-paris.com/detal.html', features=[1456, 2.2987637362637363, 3, 5, 0]),\n",
              " DocItem(doc_id=-8007375432968153271, is_spam=True, url='http://pornofilmysmotret.seksroliki.info/podsmatrivanie/russkre-porno-online.html', features=[1744, 2.2551605504587156, 31, 0, 0]),\n",
              " DocItem(doc_id=-8003709670117967136, is_spam=False, url='http://k-telecom.org/voprosotvet/', features=[1047, 2.422158548233047, 20, 0, 0]),\n",
              " DocItem(doc_id=-8003260233741838758, is_spam=True, url='http://primo85.edu.ms/futbolka-angliyskiy-flag.html', features=[4305, 2.0694541231126595, 36, 12, 0]),\n",
              " DocItem(doc_id=-8003130357428286451, is_spam=False, url='http://nnm-club.ru/forum/viewtopic.php?t=2923', features=[2594, 2.3858905165767155, 16, 0, 0]),\n",
              " DocItem(doc_id=-8000994975292453738, is_spam=False, url='http://www.mincult12.ru/', features=[2199, 2.2264665757162345, 2, 3, 0]),\n",
              " DocItem(doc_id=-7999773865887476148, is_spam=True, url='http://eblivietelki.ru/trahnut-molodinkuyu-popku.html', features=[4591, 2.0291875408407756, 46, 18, 0]),\n",
              " DocItem(doc_id=-7999549752373503481, is_spam=True, url='http://lewey.mizubasyou.com/index_290.html', features=[884, 1.588235294117647, 2, 0, 0]),\n",
              " DocItem(doc_id=-7996037766428791727, is_spam=True, url='http://kifmeto.au.nf/sitemap28.html', features=[1737, 2.157743235463443, 25, 0, 0]),\n",
              " DocItem(doc_id=-7994684712802804139, is_spam=True, url='http://mtneap.info/21/05/2010/1513.html', features=[2233, 2.06180026869682, 15, 21, 0]),\n",
              " DocItem(doc_id=-7991478014081238619, is_spam=True, url='http://sriurce.20x.cc/?c=97', features=[2410, 2.073858921161826, 61, 18, 0]),\n",
              " DocItem(doc_id=-7990066150500286721, is_spam=False, url='http://malls72.ru/', features=[4621, 2.5280242371781, 47, 0, 0]),\n",
              " DocItem(doc_id=-7989711765284706130, is_spam=True, url='http://biqihu.pochta.ru/4.html', features=[1606, 2.6488169364881693, 11, 7, 0]),\n",
              " DocItem(doc_id=-7988901280017547660, is_spam=True, url='http://nudorank.livejournal.com/1688.html', features=[2131, 3.442515251055842, 32, 2, 0]),\n",
              " DocItem(doc_id=-7987358067412104593, is_spam=True, url='http://hcdxstwqm5.edu.ms/5/skachat-chit-dlya-cs-ecc-55.html', features=[3048, 2.0669291338582676, 37, 0, 0]),\n",
              " DocItem(doc_id=-7984911614276611601, is_spam=True, url='http://far.devushka-porka.info/fl.html', features=[1025, 2.050731707317073, 12, 7, 0]),\n",
              " DocItem(doc_id=-7980979050695906341, is_spam=False, url='http://pravmin74.ru/news/ministerstvo-informatsionnykh-tekhnologii-i-svyazi-povysit-bezopasnost-raboty-chinovnikov', features=[2538, 2.41016548463357, 72, 20, 0]),\n",
              " DocItem(doc_id=-7980443957486790487, is_spam=True, url='http://ovensis.uni.cc/69-chto-oznachaet-familiya-basalgin.htm', features=[2712, 2.0837020648967552, 21, 16, 0]),\n",
              " DocItem(doc_id=-7980239607970883019, is_spam=False, url='http://marketing.rbc.ru/research/1207078.shtml?&investigations=3', features=[9710, 2.4328527291452113, 48, 3, 0]),\n",
              " DocItem(doc_id=-7979389522810649005, is_spam=True, url='http://tegidowncuhun.narod.ru/games/ijyvg.html', features=[1497, 2.1983967935871744, 26, 0, 0]),\n",
              " DocItem(doc_id=-7978008531821300915, is_spam=True, url='http://c1zvwnsn.blogonline.ru/', features=[7821, 2.3482930571538168, 9, 0, 0]),\n",
              " DocItem(doc_id=-7974781025512066472, is_spam=True, url='http://elmoharding.narod.ru/izvrasheniya-foto-skachat.html', features=[3354, 1.9588550983899822, 16, 4, 0]),\n",
              " DocItem(doc_id=-7974330208837857356, is_spam=False, url='http://ma-journal.ru/news/51918/', features=[4207, 2.4176372712146423, 65, 0, 0]),\n",
              " DocItem(doc_id=-7972627234059633961, is_spam=True, url='http://partsihal.narod.ru/lechenie-shum-v-ushah.html', features=[2267, 2.0776356418173796, 32, 3, 0]),\n",
              " DocItem(doc_id=-7970842599697128318, is_spam=False, url='http://mcrt.ru/', features=[3404, 1.9756169212690953, 54, 0, 0]),\n",
              " DocItem(doc_id=-7966769382867548317, is_spam=False, url='http://parni.nu/topic3863.html', features=[1923, 2.4726989079563184, 22, 0, 0]),\n",
              " DocItem(doc_id=-7959293989361117513, is_spam=True, url='http://jonellz7trisler.narod.ru/celki-pizdi-foto-porno.html', features=[2915, 2.069639794168096, 34, 12, 0]),\n",
              " DocItem(doc_id=-7956358532112027263, is_spam=True, url='http://sedilanis.yc.cz/ykcat7/vyvisug-7.html', features=[2552, 2.049373040752351, 16, 0, 0]),\n",
              " DocItem(doc_id=-7956248237551004107, is_spam=True, url='http://shigematsu.sqweebs.org/prostitutki-v-verhney-have.html', features=[4058, 6.6421882700837855, 5, 2, 0]),\n",
              " DocItem(doc_id=-7955616934754726882, is_spam=False, url='http://www.fcshop.ru/price/computers/p_c_1:t_35:p_6:info_91691_Noutbuk_Sony_VAIO_VPCEB2E1R_WI.html', features=[4239, 2.6350554376032083, 10, 0, 0]),\n",
              " DocItem(doc_id=-7954854592539723019, is_spam=True, url='http://xzzpwdbj2.edu.ms/2/kupit-kupit-prostitutku-v-moskve-128.html', features=[2616, 2.03019877675841, 51, 0, 0]),\n",
              " DocItem(doc_id=-7949440401511834458, is_spam=False, url='http://kreditovik.ru/kredit_otziv.php?marka=21', features=[45148, 1.9745060689288563, 34, 0, 0]),\n",
              " DocItem(doc_id=-7947123053500834631, is_spam=False, url='http://ladoshki.com/1747-books-%D0%BA%D0%BD%D0%B8%D0%B3%D0%B0-%D0%94%D1%80%D0%B0%D0%BA%D1%83%D0%BB%D0%B0.htm', features=[6193, 2.580009688357823, 63, 0, 0]),\n",
              " DocItem(doc_id=-7941486770038071305, is_spam=False, url='http://www.all4pet.ru/new/Na_svadbe_Nikol_Richi_i_Dzhoela_Meddena_bili_druzya__chleni_semi_i____slon_', features=[2476, 2.2322294022617126, 63, 6, 0]),\n",
              " DocItem(doc_id=-7941326528132744149, is_spam=True, url='http://cheslavae40dd.narod.ru/adresa_devushek_kotorye_hotjat_seksa.html', features=[1958, 2.159346271705822, 35, 20, 0]),\n",
              " DocItem(doc_id=-7940023014256320448, is_spam=True, url='http://primo38.edu.ms/hokkeynie-mayki.html', features=[4419, 2.184204571169948, 25, 12, 0]),\n",
              " DocItem(doc_id=-7937437873029218669, is_spam=True, url='http://bimetallizm.ru/eldorado_internet_magazin_kredit.html', features=[3980, 3.294974874371859, 21, 5, 0]),\n",
              " DocItem(doc_id=-7936959833797609438, is_spam=True, url='http://yobabock.livejournal.com/3230.html', features=[2041, 3.4767270945614897, 32, 2, 0]),\n",
              " DocItem(doc_id=-7936722450256944999, is_spam=True, url='http://ocrena.narod.ru/lechenie-limfouzlov-shei.html', features=[1450, 2.183448275862069, 43, 6, 0]),\n",
              " DocItem(doc_id=-7935672231057368541, is_spam=True, url='http://super-dieta-hucy.narod.ru/rezultaty-diety-dolinoy.html', features=[2683, 2.0544166977264258, 19, 19, 0]),\n",
              " DocItem(doc_id=-7933029273039865827, is_spam=True, url='http://xevuwave.livejournal.com/13003.html', features=[1966, 3.6297049847405902, 15, 2, 0]),\n",
              " DocItem(doc_id=-7926084562114291200, is_spam=True, url='http://znakomstva-lv.gndmail.com/index.php?boleve=129', features=[2958, 2.1514536849222448, 25, 35, 0]),\n",
              " DocItem(doc_id=-7921157577576793810, is_spam=False, url='http://limuvi.ru/load/muzykalnaja_shkatulka/muzyka_i_ispolniteli/super_junior_suju/6-1-0-241', features=[14681, 2.3655745521422245, 80, 5, 0]),\n",
              " DocItem(doc_id=-7919001445313163468, is_spam=False, url='http://www.arabic.com.ua/article.php?art=115', features=[17215, 1.7040952657566075, 48, 0, 0]),\n",
              " DocItem(doc_id=-7915933259492434787, is_spam=False, url='http://lostl.ru/about', features=[1705, 2.0891495601173022, 20, 13, 0]),\n",
              " DocItem(doc_id=-7915048212555785037, is_spam=False, url='http://onlady.com.ua/catalog/dresses/', features=[1195, 2.5238493723849373, 64, 0, 0]),\n",
              " DocItem(doc_id=-7913248797271185461, is_spam=True, url='http://fkyfgt2064.narod.ru', features=[119, 1.9327731092436975, 25, 7, 0]),\n",
              " DocItem(doc_id=-7913205292493716586, is_spam=True, url='http://diodietastyl.tk/lnyanaya-muka-dlya-pokhudeniya-oficialnyy-sayt.html', features=[6702, 2.012384362876753, 107, 0, 0]),\n",
              " DocItem(doc_id=-7913162172084080464, is_spam=False, url='http://m2mcom.ru/', features=[21803, 3.5318534146677063, 80, 0, 0]),\n",
              " DocItem(doc_id=-7911412207504831060, is_spam=True, url='http://coulise01fd.001webs.com/78prostitutki-vdnkh.html', features=[2186, 2.0567246111619397, 11, 5, 0]),\n",
              " DocItem(doc_id=-7907409201666089764, is_spam=True, url='http://ierceaju.20x.cc/?page=25', features=[6368, 2.092650753768844, 21, 20, 0]),\n",
              " DocItem(doc_id=-7906767401504064791, is_spam=False, url='http://www.24open.ru/?lectures', features=[1092, 3.5064102564102564, 17, 0, 0]),\n",
              " DocItem(doc_id=-7904439636209433289, is_spam=True, url='http://deijeac.20x.cc/?page=3', features=[6453, 2.1191693785836043, 22, 5, 0]),\n",
              " DocItem(doc_id=-7904208493371195796, is_spam=False, url='http://uahotels.info/hotel/Otel-Vorontsovskiy-Melitopol/contacts/', features=[3038, 2.531599736668861, 51, 1, 0]),\n",
              " DocItem(doc_id=-7902633746843498325, is_spam=True, url='http://flaluren.narod.ru/90/90.html', features=[3017, 2.117998011269473, 23, 0, 0]),\n",
              " DocItem(doc_id=-7902482074518357936, is_spam=False, url='http://poiskm.ru/artist/433512-Dina-Dzho', features=[1665, 2.3567567567567567, 64, 0, 0]),\n",
              " DocItem(doc_id=-7900516811367234859, is_spam=False, url='http://www.64school.ru/', features=[2694, 2.4710467706013364, 16, 3, 0]),\n",
              " DocItem(doc_id=-7898632016128221690, is_spam=True, url='http://futbolochka.net/', features=[3405, 2.069016152716593, 13, 7, 0]),\n",
              " DocItem(doc_id=-7897501297141251645, is_spam=False, url='http://adrenaline-game.ru', features=[2363, 2.050359712230216, 55, 0, 0]),\n",
              " DocItem(doc_id=-7897358494393875674, is_spam=True, url='http://xukieji.byethost17.com/20/61/42/Drayvera-acorp-international-skachat-besplat-7.xml', features=[3913, 2.17224635829287, 66, 8, 0]),\n",
              " DocItem(doc_id=-7896550537992893947, is_spam=True, url='http://onlajnbesplatnyjseks.seksroliki.info/', features=[2017, 2.1338621715418937, 39, 0, 0]),\n",
              " DocItem(doc_id=-7895190055418325807, is_spam=False, url='http://legal-consultation.org/ddir/article_3719/page-5.htm', features=[13185, 2.043610163064088, 101, 6, 0]),\n",
              " DocItem(doc_id=-7891592159633755354, is_spam=True, url='http://giucsismino8926.narod.ru/r2/13/secret/95.html', features=[8982, 1.9831885994210643, 53, 0, 0]),\n",
              " DocItem(doc_id=-7888810818331392214, is_spam=True, url='http://rogov31c3.narod.ru/', features=[2438, 2.2432321575061525, 3, 1, 0]),\n",
              " DocItem(doc_id=-7888789279666717294, is_spam=True, url='http://ydaruz.front.ru/5.html', features=[3201, 2.1565135895032803, 23, 23, 0]),\n",
              " DocItem(doc_id=-7888700254104248241, is_spam=True, url='http://nw3luehring.narod.ru/38.html', features=[1794, 2.0473801560758083, 12, 0, 0]),\n",
              " DocItem(doc_id=-7886472823015488160, is_spam=True, url='http://dreamdating.narod.ru/kak-nayti-parnya-besplatno.html', features=[1254, 2.083732057416268, 47, 16, 0]),\n",
              " DocItem(doc_id=-7883888631083888806, is_spam=True, url='http://doronav14.narod.ru/shalavy-po-vyzovu/page_6.html', features=[1723, 1.9419616947185143, 15, 0, 0]),\n",
              " DocItem(doc_id=-7880454449840369917, is_spam=False, url='http://lenta.ru/story/dme/', features=[8790, 2.1696245733788397, 16, 0, 0]),\n",
              " DocItem(doc_id=-7877298837516629130, is_spam=True, url='http://intimhead.001webs.com/exfq.html', features=[1381, 2.2961622013034035, 9, 1272, 0]),\n",
              " DocItem(doc_id=-7876346087475032541, is_spam=False, url='http://auto.slando.kh.ua/kharkov_city/tenty_na_fury_gruzoviki_pritsepy_harkov_remont_avto_tenty_harkov_P_26314984.html', features=[2839, 2.9873194786896793, 48, 0, 0]),\n",
              " DocItem(doc_id=-7875026097377941223, is_spam=True, url='http://trusanseli.inf.ua/map2.html', features=[15791, 2.1348236337154076, 28, 0, 0]),\n",
              " DocItem(doc_id=-7874547695768303142, is_spam=True, url='http://yjilec.xtreemhost.com/', features=[2707, 3.952715182859254, 7, 1, 0]),\n",
              " DocItem(doc_id=-7873562028233216899, is_spam=True, url='http://thadcano42.murashev.pp.ua/index.php?page=67', features=[2110, 2.066350710900474, 22, 0, 0]),\n",
              " DocItem(doc_id=-7869286209143853013, is_spam=False, url='http://legal74.com/', features=[3850, 2.264935064935065, 81, 11, 0]),\n",
              " DocItem(doc_id=-7864328604173205837, is_spam=False, url='http://www.avia-uspeh.ru/nashi-uslugi/podbor-personala/prodazha-at', features=[913, 2.746987951807229, 23, 0, 0]),\n",
              " DocItem(doc_id=-7860891340330636655, is_spam=True, url='http://writegame051.edu.ms/poigrat-v-igru-transformery-onlayn%20.html', features=[2321, 2.12494614390349, 41, 0, 0]),\n",
              " DocItem(doc_id=-7860181652044480534, is_spam=False, url='http://topdownloads.ru/search.php?ss=www%20.filmix.net', features=[2307, 2.5370611183355005, 17, 0, 0]),\n",
              " DocItem(doc_id=-7852011861833357988, is_spam=False, url='http://www.exponet.ru/exhibitions/online/autocomponentsmo2005/bibika.ru.html', features=[1638, 2.3492063492063493, 18, 0, 0]),\n",
              " DocItem(doc_id=-7848623769671865613, is_spam=True, url='http://pornorasskazy.seksroliki.info/svechi/transseksualka-lula.html', features=[1901, 2.081536033666491, 35, 0, 0]),\n",
              " DocItem(doc_id=-7837609812327263801, is_spam=True, url='http://sexmom.ru/huyandeks-porno.php', features=[3909, 2.2591455615246865, 8, 0, 0]),\n",
              " DocItem(doc_id=-7833406577382480575, is_spam=True, url='http://trumesylgan.narod.ru/page-932752.html', features=[3554, 2.279684862127181, 13, 5, 0]),\n",
              " DocItem(doc_id=-7828766581395312453, is_spam=True, url='http://tfulelchlor.narod.ru/dieta-eshli-simpson.html', features=[3455, 2.850940665701881, 52, 0, 0]),\n",
              " DocItem(doc_id=-7827963129327621305, is_spam=True, url='http://babwqerq.strefa.pl/huy-v-rot.html', features=[355, 2.816901408450704, 6, 0, 0]),\n",
              " DocItem(doc_id=-7813530995363495537, is_spam=True, url='http://ivv-inn.narod.ru/osvoit-nemeckiy-yazyk-nachalnyy-kurs.html', features=[5881, 2.007141642577793, 22, 2, 0]),\n",
              " DocItem(doc_id=-7813383633917134053, is_spam=False, url='http://livesport.ru/football/barcelona/7/', features=[4407, 2.1549807125028364, 15, 0, 0]),\n",
              " DocItem(doc_id=-7810258216882660835, is_spam=True, url='http://gjjitknw.co.cc/baza-dannih-lyudey-novosibirsk/index3.html', features=[1222, 2.229950900163666, 29, 0, 0]),\n",
              " DocItem(doc_id=-7803878129738405682, is_spam=False, url='http://l2top.ru/', features=[2507, 2.7562824092540885, 13, 0, 0]),\n",
              " DocItem(doc_id=-7798546090817293375, is_spam=False, url='http://kvadrociklov.net/product_47.html', features=[2416, 2.611341059602649, 3, 0, 0]),\n",
              " DocItem(doc_id=-7797518466328956551, is_spam=True, url='http://fruircyd.ugig.ir/?page=54', features=[5563, 2.0880819701599855, 22, 5, 0]),\n",
              " DocItem(doc_id=-7797035742885109542, is_spam=True, url='http://eacrui.ugig.ir/?page=11', features=[6622, 2.125339776502567, 23, 5, 0]),\n",
              " DocItem(doc_id=-7793714600629239139, is_spam=True, url='http://auc.forum24.ru/', features=[7997, 2.4260347630361387, 240, 0, 0]),\n",
              " DocItem(doc_id=-7791682895982143884, is_spam=False, url='http://makler.md/chisinau/obuchenie-i-rabota', features=[6748, 3.690871369294606, 16, 0, 0]),\n",
              " DocItem(doc_id=-7790332919132774789, is_spam=True, url='http://reisomasttomw.narod.ru/78.html', features=[2002, 2.020979020979021, 19, 0, 0]),\n",
              " DocItem(doc_id=-7788270543231088025, is_spam=False, url='http://lenta.ru/most/2003/09/25/stop/', features=[2861, 2.4697658161482, 39, 0, 0]),\n",
              " DocItem(doc_id=-7787844011390189498, is_spam=False, url='http://major-toyota.ru/', features=[1363, 3.141599413059428, 120, 5, 0]),\n",
              " DocItem(doc_id=-7780480267077602738, is_spam=False, url='http://kp.ru/online/news/857062/', features=[7160, 3.17695530726257, 28, 18, 0]),\n",
              " DocItem(doc_id=-7779405283819541037, is_spam=False, url='http://lawru.info/base05/part4/d05ru4881.htm', features=[20233, 1.987396826965848, 108, 0, 0]),\n",
              " DocItem(doc_id=-7774878205894261468, is_spam=False, url='http://www.mil.ru/847/943/index.shtml', features=[2602, 2.092236740968486, 12, 0, 0]),\n",
              " DocItem(doc_id=-7774448981662555833, is_spam=False, url='http://www.bearing-service.ru/production/monitoring/Instr_SKF_for_montaz/monag_demont_instrumentami/gidravlicheskie_gaiki/', features=[2401, 2.553935860058309, 19, 0, 0]),\n",
              " DocItem(doc_id=-7773244626655478685, is_spam=True, url='http://snowmibi.narod.ru/8/gosudarstvennoe-ekologicheskoe-upravlenie-referat.html', features=[2714, 2.1739130434782608, 39, 1, 0]),\n",
              " DocItem(doc_id=-7768680194666995246, is_spam=True, url='http://chaitioplumam.narod.ru/kashevaya-dieta.html', features=[2361, 1.9864464210080475, 27, 13, 0]),\n",
              " DocItem(doc_id=-7767381960707329272, is_spam=False, url='http://mebsite.ru/companies/angstrem_mebel/1.html', features=[4676, 2.1971770744225836, 14, 0, 0]),\n",
              " DocItem(doc_id=-7765823810051358786, is_spam=False, url='http://www.liveinternet.ru/tags/%25EC%25FB%25F9%25F6%25FB/', features=[14536, 2.255916345624656, 25, 7, 0]),\n",
              " DocItem(doc_id=-7760413460412872878, is_spam=True, url='http://evelinairfarley.narod.ru/298.html', features=[437, 2.3615560640732265, 21, 5, 0]),\n",
              " DocItem(doc_id=-7758682996829065245, is_spam=False, url='http://livemusic.org.ua/song/516279.html', features=[2649, 3.0169875424688564, 57, 3, 0]),\n",
              " DocItem(doc_id=-7756871738801225069, is_spam=True, url='http://avunabiv.20x.cc/?page=3', features=[2175, 2.2528735632183907, 8, 0, 0]),\n",
              " DocItem(doc_id=-7752822266855618840, is_spam=True, url='http://postatopig.inf.ua/onlayn-igra-dostat-soseda-2/flesh-igri-onlayn-podglyadivanie.html', features=[2841, 2.0285110876451955, 27, 18, 0]),\n",
              " DocItem(doc_id=-7752400995422391819, is_spam=True, url='http://hotei.fen-shui8.info/amulety-i-talismany-katalog.html', features=[1941, 2.040700669757857, 18, 7, 0]),\n",
              " DocItem(doc_id=-7745552871985252901, is_spam=True, url='http://tacomgasing.yc.cz/zmcat5/', features=[2653, 1.99434602336977, 17, 6, 0]),\n",
              " DocItem(doc_id=-7743047264155815906, is_spam=False, url='http://kp.ru/daily/24505/657694/', features=[11495, 2.7413658112222707, 46, 18, 0]),\n",
              " DocItem(doc_id=-7739772110649041931, is_spam=False, url='http://ampika.ru/oborudovanie.html?razdel=37', features=[29744, 2.1063407746100054, 22, 0, 0]),\n",
              " DocItem(doc_id=-7739227568199263477, is_spam=True, url='http://ununarme.narod2.ru/sovmestimost-znakov-zodiaka-deva-bliznetsi-x1/imya-natalya-sovmestimost-1.php', features=[4048, 2.0958498023715415, 23, 6, 0]),\n",
              " DocItem(doc_id=-7736764109130993374, is_spam=False, url='http://magickrest.ucoz.ru/publ/1-1-0-1', features=[2705, 2.700554528650647, 69, 0, 0]),\n",
              " DocItem(doc_id=-7732768200083541887, is_spam=True, url='http://modatut.tk/', features=[762, 2.3674540682414698, 26, 1, 0]),\n",
              " DocItem(doc_id=-7729578103105918095, is_spam=False, url='http://anekdoty.onru.ru/prikol/m18', features=[3654, 2.242200328407225, 23, 17, 0]),\n",
              " DocItem(doc_id=-7728664430607392897, is_spam=False, url='http://medicina.kharkov.ua/nature_breath/h5.php', features=[4230, 2.181560283687943, 21, 13, 0]),\n",
              " DocItem(doc_id=-7728396173138321736, is_spam=False, url='http://liveresult.ru/football/matches/match121032_Standard_Baku-Inter_Baku_live/', features=[2905, 2.944922547332186, 37, 0, 0]),\n",
              " DocItem(doc_id=-7727949488310232042, is_spam=False, url='http://medvopros.com/view_ask/46226', features=[3706, 2.314085267134377, 85, 0, 0]),\n",
              " DocItem(doc_id=-7727482771763488898, is_spam=False, url='http://mamask.ru/forum/index.php?topic=605.0', features=[8779, 2.3590386148764098, 13, 6, 0]),\n",
              " DocItem(doc_id=-7725037872333292681, is_spam=True, url='http://ilestarto.yc.cz/mgcat7/goroskop-sovmestimosti-muzhchina-kozerog-538.html', features=[2042, 2.2517140058765914, 26, 6, 0]),\n",
              " DocItem(doc_id=-7718725325990965770, is_spam=True, url='http://guarlecolrey.yc.cz/kak-uvelichit-shirinu-chlena-n11/byxysa-272.html', features=[3048, 2.054790026246719, 18, 6, 0]),\n",
              " DocItem(doc_id=-7715080204568629620, is_spam=True, url='http://ohemynec.xtreemhost.com/?page=4', features=[1626, 2.3357933579335795, 8, 0, 0]),\n",
              " DocItem(doc_id=-7713799775923746052, is_spam=True, url='http://hitgame541.edu.ms/igry-vinks-onlayn-kiko%20.html', features=[3101, 2.316672041277007, 26, 1, 0]),\n",
              " DocItem(doc_id=-7708186229101253186, is_spam=True, url='http://pprlon.co.cc/?ubunem=30', features=[1945, 2.0596401028277636, 44, 17, 0]),\n",
              " DocItem(doc_id=-7707733576493657935, is_spam=False, url='http://www.medbioline.ru/catalog/category-48/product-13139.php', features=[2191, 2.638064810588772, 35, 0, 0]),\n",
              " DocItem(doc_id=-7706231267293996118, is_spam=True, url='http://ednetespoe.narod2.ru/shpionskie-shtuchki-diktofon.html', features=[1401, 2.2748037116345468, 16, 16, 0]),\n",
              " DocItem(doc_id=-7705874599523795555, is_spam=False, url='http://lenta.ru/news/2011/02/15/7x/', features=[3301, 2.479854589518328, 34, 0, 0]),\n",
              " DocItem(doc_id=-7705076595938137010, is_spam=True, url='http://oriez.20x.cc/index.php?la=121', features=[2674, 2.093492894540015, 77, 17, 0]),\n",
              " DocItem(doc_id=-7703338840171228299, is_spam=True, url='http://etanloli.cn.nf/', features=[3118, 2.1837716484926233, 22, 0, 0]),\n",
              " DocItem(doc_id=-7694468783330724813, is_spam=True, url='http://rugitae.co.cc/83/18/459.htm', features=[2652, 2.1406485671191553, 27, 12, 0]),\n",
              " DocItem(doc_id=-7692675988051163128, is_spam=True, url='http://ulhaubor.narod.ru/dieta-zabolevanie-pochek.html', features=[2383, 2.2312211498111623, 52, 9, 0]),\n",
              " DocItem(doc_id=-7692433265129477863, is_spam=False, url='http://mamatest.ru/contraception/influence.html', features=[15740, 2.2019059720457435, 45, 6, 0]),\n",
              " DocItem(doc_id=-7690357962034589947, is_spam=True, url='http://yhfppgup.no-ip.info/05-11-20102/12-08-2011156.html', features=[3907, 2.210391604811876, 22, 0, 0]),\n",
              " DocItem(doc_id=-7683001489174526732, is_spam=True, url='http://dhonordieflow.narod2.ru/igry-ra-aftomatah-na-sotovyy-telefon.html', features=[1513, 2.2405816259087903, 21, 21, 0]),\n",
              " DocItem(doc_id=-7682240390773715951, is_spam=False, url='http://megaforum.uz/index.php?showtopic=13482', features=[12506, 2.907324484247561, 11, 1, 0]),\n",
              " DocItem(doc_id=-7680080818437153092, is_spam=False, url='http://www.gosloto.ru/', features=[2031, 2.7208271787296896, 37, 0, 0]),\n",
              " DocItem(doc_id=-7675840643884961523, is_spam=False, url='http://k-yroky.ru/load/23-1-0-6669', features=[2568, 3.039719626168224, 67, 5, 0]),\n",
              " DocItem(doc_id=-7665147315885789072, is_spam=True, url='http://paule15738.inf.ua/znachenie-imeni-gloriya.html', features=[4359, 2.1105758201422344, 28, 17, 0]),\n",
              " DocItem(doc_id=-7664559941258918583, is_spam=False, url='http://animeonline.su/anime-rus/ova-rus/4141-detskoe-vremya-ova-1-kodomo-no-jikan-ni-gakki-ova-rus.html', features=[4303, 2.896816174761794, 19, 0, 0]),\n",
              " DocItem(doc_id=-7658261954122708154, is_spam=True, url='http://stasiagolcc.mail15.su/seks-znakomstva-v-kondopoge.html', features=[4950, 2.433939393939394, 29, 0, 0]),\n",
              " DocItem(doc_id=-7654600722521521530, is_spam=True, url='http://xywzme.uni.cc/90.html', features=[568, 2.028169014084507, 55, 0, 0]),\n",
              " DocItem(doc_id=-7654191915744031305, is_spam=False, url='http://istocki.pochta.ru/', features=[787, 4.451080050825921, 2, 4, 0]),\n",
              " DocItem(doc_id=-7653176719939172919, is_spam=False, url='http://birzhaplus.ru/avto/?55405', features=[1875, 2.493333333333333, 34, 7, 0]),\n",
              " DocItem(doc_id=-7650568036861221534, is_spam=True, url='http://elvisquinn.szm.com/inf-2900.html', features=[3140, 2.2614649681528665, 35, 0, 0]),\n",
              " DocItem(doc_id=-7649134186707715286, is_spam=False, url='http://listtop.ru/site/78514/', features=[1204, 3.203488372093023, 9, 0, 0]),\n",
              " DocItem(doc_id=-7647873796379673203, is_spam=False, url='http://lyrics-keeper.com/ru/k/here-i-am.html', features=[2126, 2.454374412041392, 22, 6, 0]),\n",
              " DocItem(doc_id=-7643703954663374329, is_spam=True, url='http://rotnereusebia.narod.ru/forex-334.html', features=[3053, 2.5027841467409107, 24, 5, 0]),\n",
              " DocItem(doc_id=-7643261595988087306, is_spam=False, url='http://sektorgaza.ru/', features=[894, 1.9697986577181208, 14, 0, 0]),\n",
              " DocItem(doc_id=-7641296970283307560, is_spam=True, url='http://va.emoanv.info/369_Skachat_drayvera_dlya_soni_erkson_k810i.htm', features=[1962, 2.1574923547400613, 60, 13, 0]),\n",
              " DocItem(doc_id=-7635712811713195351, is_spam=False, url='http://lukoshko.net/pushk/pushk2.shtml', features=[2191, 2.689183021451392, 20, 0, 0]),\n",
              " DocItem(doc_id=-7632024385015792206, is_spam=True, url='http://toreallasour.yc.cz/kak-uvelichit-razmer-polovogo-chlena-l7/coduq-7.html', features=[2654, 2.068575734740015, 21, 0, 0]),\n",
              " DocItem(doc_id=-7630170089809448389, is_spam=True, url='http://nitaktcronk.narod.ru/Molochnij-gribok-kak-poxudet.html', features=[3392, 2.574882075471698, 42, 5, 0]),\n",
              " DocItem(doc_id=-7623299272918691991, is_spam=False, url='http://kru4ok.ru/tag/vyazanye-tapochki/', features=[4377, 2.545350696824309, 53, 20, 0]),\n",
              " DocItem(doc_id=-7622752047061643232, is_spam=True, url='http://trisesitac.narod2.ru/zhenskiy-goroskop-na-strastyah.html', features=[1437, 2.5163535142658318, 16, 16, 0]),\n",
              " DocItem(doc_id=-7621452222657480426, is_spam=False, url='http://litbratstvo.com/forum/index.php?topic=870.0', features=[22089, 2.1002761555525375, 16, 0, 0]),\n",
              " DocItem(doc_id=-7617645564389906480, is_spam=True, url='http://ciepamensbx.ce.ms/paltsi-nog/seks-porno-erotika-erovideo.html', features=[1667, 2.164367126574685, 36, 0, 0]),\n",
              " DocItem(doc_id=-7617294186221140644, is_spam=True, url='http://avtokredit-ak-bars-bank.kafebooks.ru/', features=[3780, 3.535185185185185, 26, 0, 0]),\n",
              " DocItem(doc_id=-7614495334049547234, is_spam=False, url='http://autosoft.ru/online/acat/?idgroup=3&idmodel=111&idmark=4&atype=99', features=[1634, 2.8078335373317014, 29, 0, 0]),\n",
              " DocItem(doc_id=-7613455759038653450, is_spam=True, url='http://ae.utnmed.info/331.htm', features=[2962, 2.060432140445645, 48, 12, 0]),\n",
              " DocItem(doc_id=-7608271472450751829, is_spam=True, url='http://leonardahorkin.krovatka.su/erotika-video-p1_fyev.html', features=[1324, 2.7658610271903323, 9, 9, 0]),\n",
              " DocItem(doc_id=-7606384592990479091, is_spam=False, url='http://made4sale.ru/suveniry/imennye/nachalniku/', features=[4814, 2.1705442459493147, 48, 0, 0]),\n",
              " DocItem(doc_id=-7604142432538199753, is_spam=True, url='http://raketaos.livejournal.com/7874.html', features=[2039, 3.489946051986268, 30, 2, 0]),\n",
              " DocItem(doc_id=-7603992828755103264, is_spam=False, url='http://krugosvet.ru/taxonomy/term/33/%D0%9A', features=[3208, 2.8291770573566084, 111, 17, 0]),\n",
              " DocItem(doc_id=-7602218076826134757, is_spam=True, url='http://sterizacerea.narod.ru/rabota-v-moskve-s-prozhivaniem-remont-bytovoy-tehniki.html', features=[1488, 2.2251344086021505, 26, 26, 0]),\n",
              " DocItem(doc_id=-7600903222381879641, is_spam=False, url='http://ot-goda.ru/page/detskoe-loto', features=[2082, 2.4490874159462055, 7, 10, 0]),\n",
              " DocItem(doc_id=-7600585828156122348, is_spam=False, url='http://www.lenta.ru/news/2010/09/20/prize/', features=[2826, 2.3903043170559095, 41, 0, 0]),\n",
              " DocItem(doc_id=-7600422971788070130, is_spam=True, url='http://toya.hotmail.ru/', features=[1418, 2.6600846262341324, 12, 0, 0]),\n",
              " DocItem(doc_id=-7592174946813229966, is_spam=True, url='http://hardmanmt1.narod.ru/file-7241.html', features=[4780, 2.1859832635983265, 32, 0, 0]),\n",
              " DocItem(doc_id=-7591471536662658617, is_spam=False, url='http://www.forum.littleone.ru/showthread.php?t=1882383', features=[4936, 2.525931928687196, 17, 8, 0]),\n",
              " DocItem(doc_id=-7588787833556163597, is_spam=False, url='http://manualforauto.ru/news/2009-12-16-2154', features=[5367, 2.45612073784237, 33, 0, 0]),\n",
              " DocItem(doc_id=-7587307987732674293, is_spam=False, url='http://macrostar.ru/load/ru/vera_brezhneva_ljubov_spaset_mir/7-1-0-156', features=[2329, 3.320738514383856, 37, 0, 0]),\n",
              " DocItem(doc_id=-7571880808793229613, is_spam=True, url='http://rutuuvea.livejournal.com/', features=[12561, 2.6308414935116633, 1, 2, 0]),\n",
              " DocItem(doc_id=-7567157144814242264, is_spam=True, url='http://jthaluyt.co.cc/telefonniy-spravochnik-lvovskoy-oblasti/nomera-telefonov-v-zaporozhe.html', features=[3630, 2.2203856749311295, 28, 0, 0]),\n",
              " DocItem(doc_id=-7566530134691068491, is_spam=False, url='http://maxim-fans.ru/publ/blizost_intim_ot_maksimzhurnal_molotok/1-1-0-79', features=[6887, 2.49774938289531, 81, 0, 0]),\n",
              " DocItem(doc_id=-7564869729293876888, is_spam=True, url='http://meozuih.20x.cc/?page=9', features=[4211, 2.094039420565186, 21, 5, 0]),\n",
              " DocItem(doc_id=-7561622914088433128, is_spam=True, url='http://vxetuvll.co.cc/kak-nayti-cheloveka-po-mobilnomu-telefonu/12.html', features=[3078, 2.1933073424301495, 32, 0, 0]),\n",
              " DocItem(doc_id=-7558114199346848092, is_spam=False, url='http://oloy.uz/tashkent.html', features=[1794, 2.1588628762541804, 44, 0, 0]),\n",
              " DocItem(doc_id=-7556360185977281182, is_spam=True, url='http://alicedieta.tk/kak-pohudet-legko-i-bystro.html', features=[8597, 2.1709898801907643, 34, 5, 0]),\n",
              " DocItem(doc_id=-7549450942457420225, is_spam=False, url='http://library.by/portalus/modules/different/readme.php?subaction=showfull&id=1261671552&archive=&start_from=&ucat=3&category=3', features=[1005, 2.3213930348258707, 8, 4, 0]),\n",
              " DocItem(doc_id=-7547472663706806660, is_spam=True, url='http://xtigyro8s4.narod.ru/file-242895.html', features=[3546, 2.1883812746756908, 31, 4, 0]),\n",
              " DocItem(doc_id=-7545199033939242324, is_spam=False, url='http://law7.ru/legal1/pravo3/page26.htm', features=[42763, 2.1158478123611535, 118, 0, 0]),\n",
              " DocItem(doc_id=-7541781167547250552, is_spam=True, url='http://yihiroom.livejournal.com/13124.html', features=[2208, 3.3645833333333335, 35, 2, 0]),\n",
              " DocItem(doc_id=-7533493799194689080, is_spam=False, url='http://savliy.livejournal.com/', features=[12804, 2.238206810371759, 21, 0, 0]),\n",
              " DocItem(doc_id=-7533045308525268942, is_spam=True, url='http://leratihe.oueb.eu/russkie-shlyuhi-porno.html', features=[1931, 1.9880890730191612, 32, 4, 0]),\n",
              " DocItem(doc_id=-7530304521843273074, is_spam=True, url='http://noblereese.narod.ru/molot-demonov-skachat.html', features=[3214, 2.1008089607965155, 55, 4, 0]),\n",
              " DocItem(doc_id=-7528590315520059022, is_spam=True, url='http://penkversritscep.yc.cz/gucat1/index1.html', features=[2125, 2.1374117647058823, 20, 6, 0]),\n",
              " DocItem(doc_id=-7528091457702459392, is_spam=True, url='http://andumebel.ru/kirovo-chepeckaya-mebelnaya-fabrika-detskie-krovati.html', features=[2522, 2.057097541633624, 431, 0, 0]),\n",
              " DocItem(doc_id=-7527251992808409519, is_spam=False, url='http://ladyoh.ru/pozdravlenie-s-maslenicej-s-proshhennym-voskresenem/', features=[1297, 3.6892829606784887, 44, 0, 0]),\n",
              " DocItem(doc_id=-7525642117036187532, is_spam=True, url='http://hitgame515.edu.ms/index.html', features=[3097, 2.1940587665482725, 39, 1, 0]),\n",
              " DocItem(doc_id=-7522694362426526066, is_spam=False, url='http://reflexxx.ru/gallery/989', features=[1352, 2.2477810650887573, 33, 0, 0]),\n",
              " DocItem(doc_id=-7518517283049887081, is_spam=False, url='http://lenta.ru/news/2010/10/16/snatch/', features=[3199, 2.8899656142544545, 36, 0, 0]),\n",
              " DocItem(doc_id=-7517308453211033013, is_spam=False, url='http://lovehate.ru/Men-who-cant-fight/15', features=[13333, 2.0343508587714694, 23, 5, 0]),\n",
              " DocItem(doc_id=-7517279587803305091, is_spam=True, url='http://wegaxokid.ifrance.com/index.php', features=[8416, 2.130941064638783, 7, 14, 0]),\n",
              " DocItem(doc_id=-7511055096809087752, is_spam=True, url='http://weithortextcom.inf.ua/igra-razden-uchilku-onlayn/peredovaya-registratsiya.html', features=[3448, 2.0333526682134573, 24, 14, 0]),\n",
              " DocItem(doc_id=-7507051167385367836, is_spam=True, url='http://maranto.prv.pl/posts93.html', features=[2717, 2.5472948104527053, 24, 5, 0]),\n",
              " DocItem(doc_id=-7499764189032629938, is_spam=False, url='http://medi.ru/doc/2230101.htm', features=[10813, 2.1298437066494036, 38, 2, 0]),\n",
              " DocItem(doc_id=-7499359220113407420, is_spam=True, url='http://tulzsqteod.co.cc/vdvoe-silnee.html', features=[4810, 2.1975051975051976, 20, 14, 0]),\n",
              " DocItem(doc_id=-7499247228622106682, is_spam=True, url='http://fyzs229tf3.narod.ru/file-219959.html', features=[2585, 2.2731141199226306, 41, 4, 0]),\n",
              " DocItem(doc_id=-7490706800883178794, is_spam=True, url='http://zicyawfovi.ce.ms/nomer-telefona-mestopolozhenie/24.html', features=[3311, 2.273331319842948, 33, 0, 0]),\n",
              " DocItem(doc_id=-7487257152794643689, is_spam=True, url='http://skypefactory.com/', features=[2195, 2.472892938496583, 43, 0, 0]),\n",
              " DocItem(doc_id=-7486444263860728570, is_spam=True, url='http://kraece.000a.biz/385/', features=[1528, 2.1590314136125652, 28, 6, 0]),\n",
              " DocItem(doc_id=-7485446429673079296, is_spam=False, url='http://www.becompact.ru/notebook/acer/%E0%F0%F5%E8%E2/ACER-eMachines-E730-332G16Mi-LX-N980C-007', features=[2240, 2.797767857142857, 50, 0, 0]),\n",
              " DocItem(doc_id=-7484660908429063257, is_spam=False, url='http://kreditovik.ru/autosalon.php?id=750', features=[6639, 2.1683988552492846, 24, 0, 0]),\n",
              " DocItem(doc_id=-7482770397400850756, is_spam=True, url='http://ransu90.fuma-kotaro.com/pages-6.html', features=[6410, 2.010764430577223, 13, 2, 0]),\n",
              " DocItem(doc_id=-7474099061351080048, is_spam=True, url='http://climormaustep.yc.cz/sovmestimost-imen-artem-i-elena-o6/goroskop-sovmestimosti-oven-telets-293.html', features=[2149, 2.1614704513727316, 15, 6, 0]),\n",
              " DocItem(doc_id=-7471765578237458763, is_spam=True, url='http://mussshobel.co.cc/', features=[5039, 2.1031950783885693, 12, 5, 0]),\n",
              " DocItem(doc_id=-7470900345160010287, is_spam=True, url='http://ocecuh13f1.narod.ru/file-416568.html', features=[4217, 2.4085843016362345, 55, 0, 0]),\n",
              " DocItem(doc_id=-7470889793096554953, is_spam=False, url='http://magicwish.ru/index/0-19', features=[8817, 2.300215492798004, 21, 1, 0]),\n",
              " DocItem(doc_id=-7469582789899956493, is_spam=True, url='http://hccwsug.netfirms.com/kitaiskie-porno-multiki.html', features=[13031, 2.0831095080960784, 15, 0, 0]),\n",
              " DocItem(doc_id=-7469070715504468921, is_spam=True, url='http://marginalizatio7.110mb.com/125prostitutki-g.khersona-bez-regestracii.htm', features=[2479, 2.0221863654699477, 24, 5, 0]),\n",
              " DocItem(doc_id=-7465844987375010037, is_spam=False, url='http://lenta.ru/news/2009/09/16/trial/', features=[3530, 2.368271954674221, 42, 0, 0]),\n",
              " DocItem(doc_id=-7464832443341890368, is_spam=True, url='http://itheal.at.st/?m=99', features=[1855, 2.091644204851752, 57, 24, 0]),\n",
              " DocItem(doc_id=-7463143555622341713, is_spam=False, url='http://megaresearch.ru/work/goods_map?research_id=1658', features=[7841, 2.1038132891212857, 33, 0, 0]),\n",
              " DocItem(doc_id=-7460505984282483229, is_spam=False, url='http://banketnyj-zal.restavignon.ru/', features=[4134, 2.6456216739235607, 40, 0, 0]),\n",
              " DocItem(doc_id=-7459123514434804080, is_spam=True, url='http://ijopile.20x.cc/', features=[2348, 3.9361158432708687, 7, 1, 0]),\n",
              " DocItem(doc_id=-7455024288357217558, is_spam=True, url='http://miroslavkorepin.hotmail.ru/seks-porno_235.html', features=[1245, 2.7855421686746986, 22, 13, 0]),\n",
              " DocItem(doc_id=-7450790157265087589, is_spam=True, url='http://rceodapi.ql4h.net/?kat=570', features=[2814, 2.1236673773987205, 39, 17, 0]),\n",
              " DocItem(doc_id=-7449964870736050809, is_spam=True, url='http://rim6lytorlmco.dnsalias.net/2009-09-20/index10.html', features=[3565, 1.9049088359046282, 16, 15, 0]),\n",
              " DocItem(doc_id=-7449528943690271531, is_spam=True, url='http://k-dnek.narod.ru/glavnye-novosti/ferme-na-feysbuke.html', features=[1022, 2.7250489236790605, 28, 21, 0]),\n",
              " DocItem(doc_id=-7446763490096730146, is_spam=True, url='http://voabromacbut.inf.ua/igri-onlayn-besplatno-syu/igra-na-telefon-nokia-sumerki.html', features=[3054, 2.0753110674525215, 24, 14, 0]),\n",
              " DocItem(doc_id=-7433762065280028595, is_spam=True, url='http://ningstaldufde.narod.ru/28-09-2010/10-11-2010.html', features=[2959, 2.208854342683339, 34, 0, 0]),\n",
              " DocItem(doc_id=-7431333459497494351, is_spam=False, url='http://auto-dealer.ru/offices.php?mark=32&town=0&district=0&metro=0', features=[5221, 2.3175636851177934, 21, 4, 0]),\n",
              " DocItem(doc_id=-7428618908328806864, is_spam=False, url='http://www.ast.ru/author/5157/', features=[6371, 1.9478888714487521, 17, 0, 0]),\n",
              " DocItem(doc_id=-7425125664028111850, is_spam=True, url='http://rpiu.no-ip.info/?e=617', features=[3079, 2.301396557323806, 13, 15, 0]),\n",
              " DocItem(doc_id=-7424007602976976087, is_spam=True, url='http://loatiorencoi.narod.ru', features=[3493, 2.082736902376181, 30, 22, 0]),\n",
              " DocItem(doc_id=-7419532197934271068, is_spam=True, url='http://backhelvi.narod.ru/putani-moskvi-video.html', features=[5110, 2.0827788649706456, 38, 9, 0]),\n",
              " DocItem(doc_id=-7417765904273409656, is_spam=True, url='http://granlobarci.narod2.ru/zaryadnoe-ustroystvo-fotokamera-sony.html', features=[1320, 2.400757575757576, 19, 19, 0]),\n",
              " DocItem(doc_id=-7414601615627928234, is_spam=True, url='http://santillanenv3.narod.ru/zont-52.html', features=[2820, 2.701418439716312, 17, 5, 0]),\n",
              " DocItem(doc_id=-7414422290882213621, is_spam=False, url='http://spasi.ru/xrr/xxs.htm', features=[13071, 2.1175885548160047, 28, 4, 0]),\n",
              " DocItem(doc_id=-7410383406245709659, is_spam=True, url='http://ogzhxxvb2.edu.ms/2/dark-crusade-skachat-torrent-32.html', features=[3254, 2.0786724031960664, 44, 0, 0]),\n",
              " DocItem(doc_id=-7408780856071645629, is_spam=True, url='http://eibiuqeo.5gigs.net/53/68/259.htm', features=[2867, 2.0882455528426926, 54, 14, 0]),\n",
              " DocItem(doc_id=-7407314597327286919, is_spam=True, url='http://guvubop.angelfire.com/page_573.html', features=[4470, 2.133557046979866, 24, 0, 0]),\n",
              " DocItem(doc_id=-7406337509082470551, is_spam=True, url='http://geunerofe.yc.cz/goroskop-sovmestimosti-zhenshina-bliznetsi-h3/index1.html', features=[2129, 2.133865664631282, 27, 6, 0]),\n",
              " DocItem(doc_id=-7402962845711436923, is_spam=False, url='http://loveplanet.ru/', features=[4811, 2.9657035959260027, 33, 0, 0]),\n",
              " DocItem(doc_id=-7399777502077606881, is_spam=False, url='http://www1.tricolor.tv/news-full.aspx?id=675', features=[3015, 2.348922056384743, 49, 0, 0]),\n",
              " DocItem(doc_id=-7398008816692411098, is_spam=True, url='http://tenpulo.narod.ru/doc-2347.html', features=[4521, 2.148197301481973, 76, 3, 0]),\n",
              " DocItem(doc_id=-7395848183023447673, is_spam=True, url='http://koeller6emv.narod.ru/skachat-kryak-winamp.html', features=[1747, 2.1402404121350886, 10, 0, 0]),\n",
              " DocItem(doc_id=-7394472819117995210, is_spam=False, url='http://livefilm.info/first/10784-rapuncel-zaputannaja-istorija-tangled.html', features=[3860, 2.390673575129534, 53, 0, 0]),\n",
              " DocItem(doc_id=-7389269918323467339, is_spam=True, url='http://underneata9bbfa.110mb.com/download-hotdesk-2001-v1.3120.htm', features=[2736, 2.0515350877192984, 10, 0, 0]),\n",
              " DocItem(doc_id=-7380497011419673119, is_spam=False, url='http://historia-site.narod.ru/', features=[1058, 2.4820415879017013, 32, 12, 0]),\n",
              " DocItem(doc_id=-7374931747560203717, is_spam=False, url='http://koolinar.ru/recipe/view/74897', features=[4818, 2.2420091324200913, 40, 0, 0]),\n",
              " DocItem(doc_id=-7374601445737980025, is_spam=True, url='http://avto-iz-ruk-v-ruki.creditbf.ru', features=[4443, 3.3013729462075174, 23, 0, 0]),\n",
              " DocItem(doc_id=-7373635479097184734, is_spam=False, url='http://www.anapa-pallada.ru/', features=[1248, 2.3100961538461537, 32, 15, 0]),\n",
              " DocItem(doc_id=-7369469523397473593, is_spam=False, url='http://alphacat.ru/Music/instruments/', features=[3776, 1.6204978813559323, 161, 14, 0]),\n",
              " DocItem(doc_id=-7367651572841246621, is_spam=False, url='http://megashara.com/movies/77460/obuchayushchie_multfilmy_dlya_detei.html', features=[4662, 2.5154440154440154, 246, 12, 0]),\n",
              " DocItem(doc_id=-7366665790951902333, is_spam=True, url='http://hallkeane.narod.ru/vidjilante-8-skachat.html', features=[3423, 1.897458369851008, 16, 4, 0]),\n",
              " DocItem(doc_id=-7366397478457160929, is_spam=True, url='http://foahnzxsuda.co.cc/mabry-ftpserverx-v100055-datecode-01082005.html', features=[8980, 2.332628062360802, 19, 13, 0]),\n",
              " DocItem(doc_id=-7365806163067981143, is_spam=True, url='http://asiet.co.cc', features=[3219, 2.093196644920783, 27, 4, 0]),\n",
              " DocItem(doc_id=-7362851977956568048, is_spam=False, url='http://lib.sportedu.ru/texts.idc?DocID=79066', features=[323984, 2.149368487332708, 0, 0, 0]),\n",
              " DocItem(doc_id=-7360761059080167762, is_spam=True, url='http://vrjz077r0u.narod.ru', features=[60, 2.283333333333333, 8, 7, 0]),\n",
              " DocItem(doc_id=-7359895197475561457, is_spam=True, url='http://cavalierism4e7.110mb.com/170skachat-powerarchiver-v7.02.01.htm', features=[1847, 2.120736329182458, 10, 0, 0]),\n",
              " DocItem(doc_id=-7359523268256843260, is_spam=True, url='http://stslyo3.chat.dj/?page=73', features=[4819, 2.088400083004773, 21, 5, 0]),\n",
              " DocItem(doc_id=-7358366401759513038, is_spam=False, url='http://lawrussia.ru/texts/legal_744/doc744a227x769.htm', features=[5652, 2.1240268931351736, 138, 0, 0]),\n",
              " DocItem(doc_id=-7358282959779164988, is_spam=True, url='http://hardsexx.ru/yaponku-ebut-v-zhopu.html', features=[4664, 2.0291595197255576, 55, 19, 0]),\n",
              " DocItem(doc_id=-7355744482017309172, is_spam=True, url='http://igarpoe.ql4h.net/index.php?do=33', features=[2756, 2.0163280116110305, 19, 14, 0]),\n",
              " DocItem(doc_id=-7354821692066354402, is_spam=False, url='http://kp.ru/online/news/802846', features=[7301, 2.9810984796603206, 40, 18, 0]),\n",
              " DocItem(doc_id=-7352141688927871016, is_spam=True, url='http://evra.servehttp.com/332.html', features=[6114, 3.428361138370952, 37, 5, 0]),\n",
              " DocItem(doc_id=-7349525046788571624, is_spam=False, url='http://www.audiomania.ru/universalnyj_pult/sunwave/sunwave_src-3060.html', features=[3061, 2.2335837961450506, 27, 5, 0]),\n",
              " DocItem(doc_id=-7348927076652825594, is_spam=True, url='http://rcoervo.20x.cc/?page=36', features=[5808, 2.0826446280991737, 21, 5, 0]),\n",
              " DocItem(doc_id=-7344959797748951768, is_spam=True, url='http://ouvacabhel.yc.cz/qzcat15/paxymile-227.html', features=[2775, 2.007207207207207, 21, 0, 0]),\n",
              " DocItem(doc_id=-7339102435925180298, is_spam=False, url='http://gynecomastia.ru/heart-drugs/index.html', features=[595, 2.9210084033613444, 14, 0, 0]),\n",
              " DocItem(doc_id=-7338275668762815064, is_spam=True, url='http://ryetherin.narod.ru/25kadr-pohudet.html', features=[941, 2.0605738575982997, 9, 9, 0]),\n",
              " DocItem(doc_id=-7334030088177859010, is_spam=True, url='http://gaziavilovichev2.newmail.ru/vnutri-vaginy-foto_vogv-vnutri-vaginy-foto.html', features=[1109, 2.8809738503155997, 25, 14, 0]),\n",
              " DocItem(doc_id=-7333770965293616816, is_spam=True, url='http://kemple40.110mb.com/skachat-atropos-sb-v7.0133.htm', features=[1894, 2.1436114044350583, 10, 5, 0]),\n",
              " DocItem(doc_id=-7331429998140940927, is_spam=False, url='http://lambre.by/', features=[1466, 2.760572987721692, 9, 3, 0]),\n",
              " DocItem(doc_id=-7331259776674221228, is_spam=True, url='http://loarotofi.yc.cz/fgcat7/index3.html', features=[1972, 2.007606490872211, 20, 6, 0]),\n",
              " DocItem(doc_id=-7330939777212361659, is_spam=True, url='http://tosembpica.yc.cz/gde-uvelichit-chlen-t6/manualnoe-uvelichenie-penisa-6.html', features=[2930, 2.1136518771331056, 36, 6, 0]),\n",
              " DocItem(doc_id=-7329165765164196045, is_spam=False, url='http://www.buhgalteria.ru/doc/1346', features=[2812, 2.741465149359886, 24, 0, 0]),\n",
              " DocItem(doc_id=-7327011051731266420, is_spam=True, url='http://esepelur.uni.cc/index.php?eb=681', features=[2046, 2.0527859237536656, 10, 18, 0]),\n",
              " DocItem(doc_id=-7326072464584990021, is_spam=True, url='http://moconnexz.narod.ru/map.html', features=[10546, 2.0444718376635693, 2, 10, 0]),\n",
              " DocItem(doc_id=-7325045461949852941, is_spam=False, url='http://alyurg.narod.ru/virtbib.html', features=[1617, 2.4823747680890538, 17, 0, 0]),\n",
              " DocItem(doc_id=-7324757594450512339, is_spam=True, url='http://tyumenski.00cc.ru/Smotryaschiy-tyumen.html', features=[1941, 2.6424523441524985, 10, 8, 0]),\n",
              " DocItem(doc_id=-7322669983994388608, is_spam=True, url='http://forexupravlenie.ru/doveritelnoe-upravlenie/vlojenie-investitsiy-89.html', features=[2903, 2.2824664140544266, 11, 5, 0]),\n",
              " DocItem(doc_id=-7316445845064044717, is_spam=False, url='http://krasnodar.en.cx/Teams/TeamDetails.aspx?tid=25235', features=[1924, 2.542619542619543, 14, 0, 0]),\n",
              " DocItem(doc_id=-7316402521832602649, is_spam=True, url='http://razeware.livejournal.com/', features=[14918, 2.630915672342137, 1, 2, 0]),\n",
              " DocItem(doc_id=-7315187385273842879, is_spam=False, url='http://altapress.ru/topic/46/', features=[6042, 2.2444554783184376, 29, 0, 0]),\n",
              " DocItem(doc_id=-7312789855294320820, is_spam=False, url='http://vp-pf.ru', features=[546, 2.087912087912088, 12, 4, 0]),\n",
              " DocItem(doc_id=-7312522220124287100, is_spam=True, url='http://ridddietaep.tk/blokator-kalloriy-turboslim.html', features=[7080, 2.0293785310734465, 39, 14, 0]),\n",
              " DocItem(doc_id=-7311568562614840908, is_spam=True, url='http://whmstvzj.sytes.net/04-2010/spravochnik-domashnih-telefonov-gorod-chelyabinsk.html', features=[4461, 2.185160277964582, 34, 0, 0]),\n",
              " DocItem(doc_id=-7309102190632088765, is_spam=True, url='http://campagn664016.110mb.com/125prostitutki-s-barnaula.html', features=[3168, 1.957070707070707, 17, 0, 0]),\n",
              " DocItem(doc_id=-7306548173845785131, is_spam=True, url='http://ugihy.20x.cc/?page=5', features=[1269, 2.5634357762017337, 8, 0, 0]),\n",
              " DocItem(doc_id=-7302307953189815650, is_spam=True, url='http://ravearicar.yc.cz/lacat6/vusyputic-241.html', features=[2159, 2.1102362204724407, 24, 6, 0]),\n",
              " DocItem(doc_id=-7292746769659027808, is_spam=True, url='http://sekszhivotnyj.seksroliki.info/podolnie-tantsi/seks-v-troem-skachat.html', features=[1471, 2.106050305914344, 34, 0, 0]),\n",
              " DocItem(doc_id=-7285323933774560253, is_spam=False, url='http://kuhnistroi.ru/', features=[4300, 2.224186046511628, 51, 0, 0]),\n",
              " DocItem(doc_id=-7281494443306030676, is_spam=False, url='http://igroflot.ru/shot/', features=[1652, 2.1065375302663436, 10, 0, 0]),\n",
              " DocItem(doc_id=-7277204639379706984, is_spam=False, url='http://kroki.ru/view_catalog.php?typeid=52', features=[6435, 2.2693084693084695, 26, 0, 0]),\n",
              " DocItem(doc_id=-7274085514175873072, is_spam=False, url='http://mnogomeb.ru/product_info.php/products_id/168', features=[2570, 3.183657587548638, 23, 135, 0]),\n",
              " DocItem(doc_id=-7273564028547280553, is_spam=True, url='http://retenpha.narod.ru/hanter-rabota.html', features=[1438, 2.1933240611961056, 36, 6, 0]),\n",
              " DocItem(doc_id=-7269526825441107050, is_spam=True, url='http://away-away.my-xxx-lady.info/', features=[490, 2.7979591836734694, 5, 0, 0]),\n",
              " DocItem(doc_id=-7268690677336799571, is_spam=True, url='http://arcaela.freei.me/10/89-A4tech-x-750bf-drayvera-skachat-windows-7.html', features=[1932, 2.1542443064182195, 47, 11, 0]),\n",
              " DocItem(doc_id=-7266379503796606063, is_spam=True, url='http://bopusfbw.no-ip.info/104/adresnaya-kniga-luganskoy-oblasti.html', features=[4701, 2.148691767708998, 28, 0, 0]),\n",
              " DocItem(doc_id=-7266040301553551721, is_spam=False, url='http://kuking.net/7.htm', features=[5089, 2.0583611711534684, 30, 0, 0]),\n",
              " DocItem(doc_id=-7265808308664726465, is_spam=False, url='http://toliatty.ru/', features=[2962, 2.113099257258609, 28, 14, 0]),\n",
              " DocItem(doc_id=-7264303336968273698, is_spam=False, url='http://www.matchfishing.ru/fishing/', features=[2942, 2.565601631543168, 6, 0, 0]),\n",
              " DocItem(doc_id=-7262882140767907980, is_spam=False, url='http://mobparts.ru/', features=[4723, 2.567859411391065, 46, 2, 0]),\n",
              " DocItem(doc_id=-7261251838931478719, is_spam=True, url='http://vfqjotgj.no-ip.biz/', features=[3269, 2.2171918017742427, 26, 0, 0]),\n",
              " DocItem(doc_id=-7259982024172302865, is_spam=True, url='http://ainss69.351.at/?ge_et=95', features=[2555, 2.0223091976516634, 24, 20, 0]),\n",
              " DocItem(doc_id=-7259253664145000770, is_spam=False, url='http://kostromka.ru/zontikov/nekrasov/9.php', features=[6751, 2.2013035105910235, 34, 15, 0]),\n",
              " DocItem(doc_id=-7258306037727268704, is_spam=True, url='http://harfagood.narod.ru/articles-83.html', features=[5313, 2.132505175983437, 54, 3, 0]),\n",
              " DocItem(doc_id=-7256335781696843545, is_spam=True, url='http://devchushka-shlushka.narod.ru', features=[4492, 1.9686108637577917, 13, 0, 0]),\n",
              " DocItem(doc_id=-7252007175026515353, is_spam=True, url='http://doecre.5gigs.net/418.htm', features=[1898, 2.1422550052687037, 57, 30, 0]),\n",
              " DocItem(doc_id=-7250769494853833202, is_spam=True, url='http://hgjiorja.co.cc/2/telefonniy-spravochnik-forum.html', features=[4484, 2.168599464763604, 26, 0, 0]),\n",
              " DocItem(doc_id=-7246591191096199105, is_spam=False, url='http://www.medprom.spb.ru/', features=[2217, 2.0775823184483535, 35, 0, 0]),\n",
              " DocItem(doc_id=-7246163680948330112, is_spam=True, url='http://litttotanne.yc.cz/sovmestimost-znakov-zodiaka-oven-vesi-u8/znak-zodiaka-kozerog-muzhchina-sovmestimost-214.html', features=[2605, 2.1190019193857967, 23, 0, 0]),\n",
              " DocItem(doc_id=-7245009095377790039, is_spam=False, url='http://www.hochuvotpusk.ru/hotel.php?id=1015', features=[5361, 3.2003357582540573, 48, 0, 0]),\n",
              " DocItem(doc_id=-7244148907109156412, is_spam=True, url='http://pryjrui.000a.biz/25/02/2010/Soudmax_zvukovoy_drayver_skachat_305.html', features=[3100, 2.1470967741935483, 58, 9, 0]),\n",
              " DocItem(doc_id=-7243522678253165809, is_spam=False, url='http://magik.3dn.ru/board/sejju/dzjunko_minagava/8', features=[2143, 2.7960802613159124, 18, 0, 0]),\n",
              " DocItem(doc_id=-7243364773478804695, is_spam=True, url='http://kotly.mypage.ru/vkontakte_vhod_na_sayt.html', features=[9166, 2.4325769146847045, 11, 0, 0]),\n",
              " DocItem(doc_id=-7236983995244264445, is_spam=True, url='http://cgqjtpvp1.ua.gp/1/muzyka/skachat-igru-street-racing93.html', features=[1147, 2.3426329555361813, 20, 3, 0]),\n",
              " DocItem(doc_id=-7236631046950044414, is_spam=False, url='http://blokpost.ru/', features=[1484, 2.7809973045822103, 60, 1, 0]),\n",
              " DocItem(doc_id=-7235154364551435651, is_spam=False, url='http://krasauto.narod.ru/', features=[486, 2.623456790123457, 0, 0, 0]),\n",
              " DocItem(doc_id=-7232625293446493054, is_spam=False, url='http://mama-online.spb.ru/category-180/product-2103/', features=[2768, 2.5173410404624277, 129, 5, 0]),\n",
              " DocItem(doc_id=-7221020181703194362, is_spam=True, url='http://folalenu25.narod.ru/internet-shluhi.html', features=[1485, 2.002020202020202, 9, 0, 0]),\n",
              " DocItem(doc_id=-7217950631569141889, is_spam=False, url='http://krasnodar.barahla.net/45.html%3Fpage%3D6', features=[8473, 2.152012274283017, 16, 0, 0]),\n",
              " DocItem(doc_id=-7215739712711320736, is_spam=True, url='http://phirefhocall.yc.cz/sxcat6/cahepa-95.html', features=[2654, 2.0403165033911077, 25, 0, 0]),\n",
              " DocItem(doc_id=-7215070498855126695, is_spam=True, url='http://iesreopr.nivaxhost.com/index.php?peme=5', features=[1892, 2.1855179704016914, 38, 15, 0]),\n",
              " DocItem(doc_id=-7213393578894851719, is_spam=True, url='http://culbaddvikind.yc.cz/skachat-metodiku-uvelicheniya-penisa-r13/gimnastika-dlya-uvelicheniya-chlena-85.html', features=[2241, 2.082552431950022, 26, 6, 0]),\n",
              " DocItem(doc_id=-7213326304051189304, is_spam=True, url='http://uheiwra.ugig.ir/?page=26', features=[6749, 2.057193658319751, 21, 18, 0]),\n",
              " DocItem(doc_id=-7203482286277804040, is_spam=False, url='http://intervesp-stanki.ru/firms/GRIGGIO.htm', features=[2409, 2.800747198007472, 1, 0, 0]),\n",
              " DocItem(doc_id=-7200716956231543796, is_spam=True, url='http://mountiomneseg.yc.cz/qacat9/index2.html', features=[3528, 2.006235827664399, 16, 0, 0]),\n",
              " DocItem(doc_id=-7200708737147682709, is_spam=False, url='http://minstm.gov.ru/', features=[3258, 2.6666666666666665, 47, 15, 0]),\n",
              " DocItem(doc_id=-7198215856610979485, is_spam=True, url='http://rree.up100mb.com/agenstvo-prostitutok.html', features=[2683, 2.0618710398807307, 13, 0, 0]),\n",
              " DocItem(doc_id=-7197267683887387015, is_spam=True, url='http://taton1992.narod.ru/file-515953.html', features=[4087, 2.1348177147051626, 43, 0, 0]),\n",
              " DocItem(doc_id=-7195905841642353424, is_spam=False, url='http://www.naruto-zone.ru/news/blich_303_serija/2010-12-28-142', features=[5107, 2.4824750342666926, 27, 0, 0]),\n",
              " DocItem(doc_id=-7194614125315229976, is_spam=True, url='http://zotygyqa3.front.ru/pg-238457.html', features=[2465, 2.490466531440162, 16, 23, 0]),\n",
              " DocItem(doc_id=-7192165136830909372, is_spam=True, url='http://secret-lxqf.narod.ru/istoriya-familii-andreeva.html', features=[8163, 1.9740291559475682, 18, 11, 0]),\n",
              " DocItem(doc_id=-7189595410497642637, is_spam=True, url='http://er.rvysemn.dyndns.org/map.html', features=[5565, 1.964420485175202, 9, 8, 0]),\n",
              " DocItem(doc_id=-7184556891194491310, is_spam=False, url='http://animebox.com.ua/hentai-manga/5421-xentaj-manga-doujinshi-soul-eater-s-soul-x-maka-jap18.html', features=[3209, 2.529448426301028, 35, 7, 0]),\n",
              " DocItem(doc_id=-7180034056302214379, is_spam=False, url='http://www.kinoteca.ru/stars/michael_j_fox/bio/', features=[1541, 2.2959117456197276, 30, 0, 0]),\n",
              " DocItem(doc_id=-7179087607907853413, is_spam=True, url='http://xxxlab.info/seks-erotika_q.html', features=[1436, 2.2137883008356547, 16, 5, 0]),\n",
              " DocItem(doc_id=-7175598170470796134, is_spam=True, url='http://zowwoax.super-red.es/obicz-z.html', features=[2599, 2.0996537129665254, 37, 5, 0]),\n",
              " DocItem(doc_id=-7173679673888583123, is_spam=True, url='http://ewejevan19.krovatka.su/', features=[862, 2.84338747099768, 21, 21, 0]),\n",
              " DocItem(doc_id=-7166577905971647463, is_spam=False, url='http://lyrics-keeper.com/ru/gamma-ray/heavy-metal-universe.html', features=[2232, 2.745071684587814, 23, 6, 0]),\n",
              " DocItem(doc_id=-7165199834891993444, is_spam=True, url='http://tulgwmaeod.co.cc/ace-dvd-audio-extractor-v1214.html', features=[5543, 2.3503517950568282, 19, 13, 0]),\n",
              " DocItem(doc_id=-7164946978825151336, is_spam=True, url='http://sihealthbackli.yc.cz/malenkiy-chlen-kak-uvelichit-u2/', features=[2792, 2.016117478510029, 24, 0, 0]),\n",
              " DocItem(doc_id=-7164916330920259825, is_spam=True, url='http://barheavilu.com.nu/', features=[1661, 2.033112582781457, 15, 0, 0]),\n",
              " DocItem(doc_id=-7154731975225704445, is_spam=True, url='http://bmavtomobili.narod.ru/avtomobili-marki-kamaz.html', features=[1709, 2.175541252194266, 12, 4, 0]),\n",
              " DocItem(doc_id=-7154636645825466585, is_spam=True, url='http://tetrazoliu2fe94.110mb.com/78prostitutki-v-sapogakh.htm', features=[1535, 1.952442996742671, 15, 0, 0]),\n",
              " DocItem(doc_id=-7149991172003514115, is_spam=True, url='http://triumlhfoul.edu.ms/bdsm-igri-igrat-onlayn.html', features=[2541, 2.0602125147579695, 15, 15, 0]),\n",
              " DocItem(doc_id=-7148854459467664841, is_spam=False, url='http://macroevolution.narod.ru/gene/gene_ru.html', features=[539837, 2.0946433830952675, 13, 5, 0]),\n",
              " DocItem(doc_id=-7148410131185522718, is_spam=True, url='http://beshm10.edu.ms/trusi-calvin-klein-jenskie.html', features=[5368, 2.099478390461997, 24, 5, 0]),\n",
              " DocItem(doc_id=-7148149556109824908, is_spam=False, url='http://luxyri.ru/ycz/dl/%f0%e5%ef%2b%ec%f3%e7%e8%ea%e0%2b%e4%eb%ff%2b%f2%e8%eb%e8%e2%ee%ed%e0.html', features=[3422, 2.456750438340152, 63, 0, 0]),\n",
              " DocItem(doc_id=-7146326112735730405, is_spam=False, url='http://luxury-magazine.ru/blog-poshspace/superjahta-aquarius-vystavlena-na-prodazhu', features=[1611, 3.175046554934823, 25, 0, 0]),\n",
              " DocItem(doc_id=-7144997942185588751, is_spam=False, url='http://www.elitdress.ru/catalog/product_info.php?products_id=37075', features=[4396, 2.54049135577798, 44, 0, 0]),\n",
              " DocItem(doc_id=-7143690002957125448, is_spam=False, url='http://ruskino.narod.ru/', features=[611, 2.3011456628477904, 12, 5, 0]),\n",
              " DocItem(doc_id=-7141412239615406262, is_spam=True, url='http://njjutaqp.no-ip.biz/telefonniy-spravochnik-yasinovatoy/oplata-za-nahozhdenie-v-seti.html', features=[4822, 2.1107424305267526, 25, 0, 0]),\n",
              " DocItem(doc_id=-7130877180114407148, is_spam=False, url='http://www.berchat.ru/', features=[1020, 3.5362745098039214, 98, 10, 0]),\n",
              " DocItem(doc_id=-7130777309608431145, is_spam=False, url='http://lyrika.nm.ru/VarumAnzhelika/Kolybelnaja.htm', features=[2268, 3.5238095238095237, 31, 0, 0]),\n",
              " DocItem(doc_id=-7127615150375367949, is_spam=True, url='http://radeba.narod.ru/docs-209.html', features=[1627, 2.139520590043024, 17, 17, 0]),\n",
              " DocItem(doc_id=-7126078454387974489, is_spam=False, url='http://lookingwell.ru/modnye-strizhki-2011', features=[4575, 3.3569398907103825, 72, 0, 0]),\n",
              " DocItem(doc_id=-7125437999393547183, is_spam=True, url='http://iejiecr.20x.cc/index.php?uvu_u=72', features=[2867, 2.0948726892221834, 23, 17, 0]),\n",
              " DocItem(doc_id=-7124838144933390801, is_spam=False, url='http://poisk.ngs.ru/?mode=0&region=0&q=%D0%BA%D1%80%D0%B0%D0%BD%20&url=bm92b3NpYmlyc2suYmVzdHJ1LnJ1', features=[1380, 3.45, 7, 9, 0]),\n",
              " DocItem(doc_id=-7123706043849084567, is_spam=True, url='http://puvixatu.narod.ru/page64.html', features=[6199, 2.6855944507178577, 52, 3, 0]),\n",
              " DocItem(doc_id=-7120227817750594703, is_spam=True, url='http://firsajibekyqy.narod.ru/kupit-izd-200.html', features=[28567, 2.0831378863723877, 239, 28, 0]),\n",
              " DocItem(doc_id=-7115040375808400499, is_spam=True, url='http://reresets.narod.ru/besplatnoeporno-video-onlain.html', features=[790, 2.170886075949367, 30, 0, 0]),\n",
              " DocItem(doc_id=-7110136991981782864, is_spam=False, url='http://kashtanka333.ya.ru/', features=[1487, 2.9899125756556826, 4, 0, 0]),\n",
              " DocItem(doc_id=-7107335958725808515, is_spam=False, url='http://mail.ru/kb/index.html%3Fform%3DMSearch%26text%3Dq%26keymode%3D2%26savemode%3D0', features=[2232, 3.5627240143369177, 11, 0, 0]),\n",
              " DocItem(doc_id=-7099636740187955699, is_spam=True, url='http://abefcontio.yc.cz/dlina-polovogo-chlena-sostavlyaet-f9/narodnie-sredstva-dlya-uvelicheniya-penisa-9.html', features=[2087, 1.9597508385241975, 32, 6, 0]),\n",
              " DocItem(doc_id=-7097097827954717733, is_spam=False, url='http://les.lesprom.com/members/11284/', features=[3846, 2.426677067082683, 26, 0, 0]),\n",
              " DocItem(doc_id=-7095471193549456256, is_spam=True, url='http://taucimima.narod2.ru/vakansiya-inzhenera-proektirovshchika.html', features=[1554, 2.171171171171171, 18, 17, 0]),\n",
              " DocItem(doc_id=-7095399939054640834, is_spam=True, url='http://vaubedestai.yc.cz/qacat6/mamup-49.html', features=[3367, 2.0727650727650726, 18, 0, 0]),\n",
              " DocItem(doc_id=-7093087229644414730, is_spam=True, url='http://teovyty.ql4h.net/?ulubac=78', features=[2697, 2.0978865406006673, 17, 10, 0]),\n",
              " DocItem(doc_id=-7089357189216720496, is_spam=True, url='http://rciupui.20x.cc/?page=16', features=[3966, 2.0965708522440747, 22, 6, 0]),\n",
              " DocItem(doc_id=-7086584576117516456, is_spam=True, url='http://ghareccharla.edu.ms/sitemap35.html', features=[1764, 2.195578231292517, 18, 0, 0]),\n",
              " DocItem(doc_id=-7081921268252472040, is_spam=False, url='http://kuking.net/t11.htm', features=[4988, 2.130112269446672, 15, 0, 0]),\n",
              " DocItem(doc_id=-7080055777262018143, is_spam=False, url='http://homenew.su/catalog/main_oformlenie/index.php?rc=1254911240', features=[2535, 2.345956607495069, 12, 0, 0]),\n",
              " DocItem(doc_id=-7078240534738587820, is_spam=False, url='http://megasklad.ru/lots/list/0/31894/long/sale/58/100', features=[89163, 1.08285948207216, 43, 0, 0]),\n",
              " DocItem(doc_id=-7077753464037753344, is_spam=False, url='http://mamaisinko.ru/komiksi_pro_incest/', features=[4513, 2.4298692665632617, 68, 9, 0]),\n",
              " DocItem(doc_id=-7076568961159460942, is_spam=False, url='http://liveinternet.ru/users/natali-57/rubric/1434789', features=[17676, 2.259051821679113, 59, 3, 0]),\n",
              " DocItem(doc_id=-7063506097778998242, is_spam=False, url='http://mebelrinok.ru/board/mebel_rossii/penza/129', features=[5846, 2.5258296270954497, 55, 0, 0]),\n",
              " DocItem(doc_id=-7062021878663917951, is_spam=True, url='http://warcacadot.narod.ru/page-617497.html', features=[5473, 2.1554905901699253, 9, 21, 0]),\n",
              " DocItem(doc_id=-7057918802147102852, is_spam=False, url='http://freeloadz.net/915-perevozchik-3-2008.html', features=[6058, 2.2238362495873227, 34, 18, 0]),\n",
              " DocItem(doc_id=-7044337459917232571, is_spam=True, url='http://abywreiv.ugig.ir/?page=73', features=[3840, 2.1203125, 23, 5, 0]),\n",
              " DocItem(doc_id=-7044332402402518781, is_spam=True, url='http://diaheadti.narod.ru/lz/8/8/93.html', features=[10555, 2.0996684036001896, 19, 0, 0]),\n",
              " DocItem(doc_id=-7041699298743701491, is_spam=True, url='http://clarapwk.ce.ms/vlazhnie/triskel-bdsm.html', features=[2076, 2.1035645472061657, 31, 0, 0]),\n",
              " DocItem(doc_id=-7038520207469638587, is_spam=False, url='http://horsesclub.ucoz.ru/forum/54-679-1', features=[12150, 2.122057613168724, 60, 0, 0]),\n",
              " DocItem(doc_id=-7036604740708639869, is_spam=False, url='http://loveplanet.ru/a-journal/', features=[5531, 2.894051708551799, 3, 0, 0]),\n",
              " DocItem(doc_id=-7036306589709660579, is_spam=False, url='http://liveinternet.ru/users/3798319/rubric/1444331/page14.html', features=[23327, 2.22797616495906, 56, 3, 0]),\n",
              " DocItem(doc_id=-7031444266486542456, is_spam=False, url='http://krassota.com/dogs.htm', features=[829, 2.3172496984318456, 67, 0, 0]),\n",
              " DocItem(doc_id=-7026643153555778643, is_spam=True, url='http://hydrhanpodisc.narod2.ru/ustroystvo-karta-pamyati-sdhc-qumo-4gb-qm4gsdhc6.html', features=[1599, 2.2570356472795496, 20, 20, 0]),\n",
              " DocItem(doc_id=-7025403268301533247, is_spam=True, url='http://yxfrixbhk1.edu.ms/1/skachat-igru-gta-zima-torrent-72.html', features=[2676, 2.014200298953662, 46, 0, 0]),\n",
              " DocItem(doc_id=-7011763670592287545, is_spam=True, url='http://yesoueluch.narod.ru/page_439.html', features=[614, 1.8973941368078175, 15, 25, 0]),\n",
              " DocItem(doc_id=-7010416970516250134, is_spam=True, url='http://ulzsruap.pochtamt.ru/putany-uslugi-spb.html', features=[1757, 2.3170176437108707, 22, 0, 0]),\n",
              " DocItem(doc_id=-7005375224351866315, is_spam=True, url='http://aevakyky.20x.cc/Drayvera_ASUS/Skachat_ide_drayver_standartnyy_332.html', features=[3038, 2.1695194206714943, 51, 15, 0]),\n",
              " DocItem(doc_id=-7000620990524092705, is_spam=False, url='http://www.informpora.ru/yellowpages/novorossiysk/3898/23769/', features=[2057, 2.432668935342732, 25, 7, 0]),\n",
              " DocItem(doc_id=-6997695267668306958, is_spam=False, url='http://megasklad.ru/lots/list/0/5757/long/sale/1/100', features=[45289, 1.1353087946300426, 96, 0, 0]),\n",
              " DocItem(doc_id=-6996931966325419940, is_spam=False, url='http://kp.by/daily/24497.3/650421/', features=[17147, 2.53257129527031, 56, 18, 0]),\n",
              " DocItem(doc_id=-6995787488379720237, is_spam=True, url='http://zaharkat-prikladyvat.narod.ru/Diety_dlya_beremennyh_dlya_snizheniya_vesa.html', features=[3065, 2.0127243066884177, 100, 21, 0]),\n",
              " DocItem(doc_id=-6988764346886972572, is_spam=True, url='http://pinlame.narod.ru/semeynye-pary-dlya-seksa/page-id-24.html', features=[4774, 2.1512358609132805, 36, 6, 0]),\n",
              " DocItem(doc_id=-6987913032713349608, is_spam=False, url='http://ufo-online.ru/file_3859.html', features=[11799, 2.097550639884736, 27, 9, 0]),\n",
              " DocItem(doc_id=-6986215482531285356, is_spam=False, url='http://languages-study.com/russian-homo.html', features=[4915, 2.2775178026449643, 19, 21, 0]),\n",
              " DocItem(doc_id=-6983947078108701361, is_spam=True, url='http://opgooddi.narod.ru/parnuhi-onlain-prosmotr.html', features=[745, 2.1516778523489934, 28, 0, 0]),\n",
              " DocItem(doc_id=-6982281545150913037, is_spam=False, url='http://kp.ru/online/news/649531', features=[8451, 2.9868654597089104, 55, 18, 0]),\n",
              " DocItem(doc_id=-6980763594581988356, is_spam=True, url='http://doidkiri.ru/shablony-dlya-saytov/skachat-plaginy-video-dlya-mozily.html', features=[2725, 1.958165137614679, 21, 0, 0]),\n",
              " DocItem(doc_id=-6979210778314486717, is_spam=False, url='http://anekdot.yaxy.ru/', features=[4808, 2.195299500831947, 22, 0, 0]),\n",
              " DocItem(doc_id=-6978027980693964924, is_spam=True, url='http://odnoclassnik-forh.narod.ru/odnoklassniki-seks-ru.html', features=[4218, 2.0808440018966334, 13, 14, 0]),\n",
              " DocItem(doc_id=-6977559360964212978, is_spam=False, url='http://www.ntv.ru/peredacha/proisschestvie/', features=[2583, 3.5632984901277585, 47, 3, 0]),\n",
              " DocItem(doc_id=-6977236534419498944, is_spam=True, url='http://liryk4.edu.ms/sayti-znakomstv-stanciya-metro.html', features=[4976, 2.092644694533762, 18, 5, 0]),\n",
              " DocItem(doc_id=-6969617782572213605, is_spam=True, url='http://qeilui.byethost17.com/index.php?geda=31', features=[1678, 2.137663885578069, 63, 13, 0]),\n",
              " DocItem(doc_id=-6968422306466437708, is_spam=True, url='http://excasti.cn.nf/file_9209.html', features=[2756, 2.013788098693759, 34, 0, 0]),\n",
              " DocItem(doc_id=-6967169812775240834, is_spam=True, url='http://bemusrent014.com.nu/prostitutki-valuyki.html', features=[1212, 1.8853135313531353, 25, 14, 0]),\n",
              " DocItem(doc_id=-6956747849991381664, is_spam=False, url='http://major-strogino.ru/', features=[1431, 2.6778476589797346, 68, 0, 0]),\n",
              " DocItem(doc_id=-6956518959639962730, is_spam=False, url='http://www.mebelmag.com/catalog/%3Fsection%3D27', features=[944, 2.422669491525424, 0, 3, 0]),\n",
              " DocItem(doc_id=-6955402857319667239, is_spam=True, url='http://chaziqy6.narod.ru/4/uznat-nomer-telefona.html', features=[1788, 2.2069351230425056, 10, 1, 0]),\n",
              " DocItem(doc_id=-6953836294427429425, is_spam=True, url='http://akimlorgoshev.narod.ru/21.html', features=[7593, 3.375345713156855, 30, 4, 0]),\n",
              " DocItem(doc_id=-6952014938953667052, is_spam=True, url='http://full-drivers.com/asus-eee-drayvera.html', features=[3396, 2.125736160188457, 32, 4, 0]),\n",
              " DocItem(doc_id=-6946657055344992156, is_spam=False, url='http://www.novosib.ru/odezhda-optom/10744/', features=[2269, 2.4125165271044513, 97, 30, 0]),\n",
              " DocItem(doc_id=-6943634769159012087, is_spam=True, url='http://pabelahu.livejournal.com/3603.html', features=[1870, 3.6882352941176473, 21, 2, 0]),\n",
              " DocItem(doc_id=-6941531623914881542, is_spam=False, url='http://gde.ru/c/%D0%BD%D0%B0%D1%81%D1%82%D1%80%D0%BE%D0%B9%D0%BA%D0%B0%20%D0%BA%D0%BE%D0%BC%D0%BF%D1%8C%D1%8E%D1%82%D0%B5%D1%80%D0%B0?member=ALEXRAW', features=[2028, 2.9087771203155817, 17, 12, 0]),\n",
              " DocItem(doc_id=-6936660777112229598, is_spam=True, url='http://datingsexndyfml.110mb.com/videoznakomstva.html', features=[2297, 2.0796691336525903, 10, 0, 0]),\n",
              " DocItem(doc_id=-6934368845836399816, is_spam=True, url='http://tskerosbayot.narod.ru/znakomstva-nso.html', features=[4126, 2.1677169171110036, 7, 5, 0]),\n",
              " DocItem(doc_id=-6933632461912595655, is_spam=True, url='http://mevfer.tk/reshenie-demo-ege-2011-informatika.html', features=[2027, 2.4928465712876173, 27, 5, 0]),\n",
              " DocItem(doc_id=-6932304135030518264, is_spam=False, url='http://the-tim.promodj.ru/avisha/197197.html', features=[3748, 2.9071504802561368, 8, 0, 0]),\n",
              " DocItem(doc_id=-6931785318468113382, is_spam=False, url='http://smetnoe.ru/smeta_v_bazah', features=[2599, 2.29049634474798, 21, 0, 0]),\n",
              " DocItem(doc_id=-6930128936681398194, is_spam=False, url='http://www.opendrivers.ru/', features=[1819, 2.315557998900495, 44, 0, 0]),\n",
              " DocItem(doc_id=-6925832167680957671, is_spam=True, url='http://pachka63.narod.ru/prostitutki-konkovo-moskva.html', features=[778, 2.012853470437018, 13, 5, 0]),\n",
              " DocItem(doc_id=-6922397948488278150, is_spam=False, url='http://linux.org.ru/', features=[15159, 2.2605712777887725, 20, 9, 0]),\n",
              " DocItem(doc_id=-6920240760729379213, is_spam=True, url='http://kewroera.uni.cc/?evute=22', features=[3889, 2.1136538956029827, 52, 19, 0]),\n",
              " DocItem(doc_id=-6917789441100259303, is_spam=True, url='http://cxema.front.ru/pages-759442.html', features=[2327, 2.3038246669531586, 79, 20, 0]),\n",
              " DocItem(doc_id=-6916076815506563233, is_spam=False, url='http://autorambler.ru/catalogue/Opel/', features=[5228, 3.2928462127008418, 184, 12, 0]),\n",
              " DocItem(doc_id=-6915033245138694097, is_spam=False, url='http://major-lexus.ru/', features=[4433, 2.2077599819535303, 63, 0, 0]),\n",
              " DocItem(doc_id=-6914385943808015365, is_spam=False, url='http://www.delphoauto.ru/auto/opel/', features=[1541, 2.3770279039584685, 28, 0, 0]),\n",
              " DocItem(doc_id=-6913923101053819586, is_spam=True, url='http://leucepadd.strefa.pl/prostitutki-spb-pushkin.htm', features=[2921, 2.0842177336528587, 17, 0, 0]),\n",
              " DocItem(doc_id=-6910607690683465375, is_spam=True, url='http://croucher.xlx.pl/posts410.html', features=[235, 4.842553191489362, 6, 0, 0]),\n",
              " DocItem(doc_id=-6905113847141094481, is_spam=True, url='http://koxicutta.narod.ru/page-526021.html', features=[4574, 2.0677743769129866, 14, 10, 0]),\n",
              " DocItem(doc_id=-6904985466485457071, is_spam=True, url='http://job-casa.ru/bilayn-penza-vakansii.html', features=[6158, 2.198603442676194, 29, 0, 0]),\n",
              " DocItem(doc_id=-6903889807251094581, is_spam=True, url='http://iuduimn.20x.cc/?page=64', features=[4864, 3.6543996710526314, 86, 0, 0]),\n",
              " DocItem(doc_id=-6903015060056231685, is_spam=False, url='http://anime-online.kz/doramanew/page/5/', features=[9538, 2.266932270916335, 32, 0, 0]),\n",
              " DocItem(doc_id=-6902422621839965107, is_spam=False, url='http://krasarenda.ru/', features=[9129, 2.3756161682550117, 40, 14, 0]),\n",
              " DocItem(doc_id=-6900809458467317491, is_spam=False, url='http://media.club4x4.ru/127-steyrdaimlerpuch_pinzgauer.html', features=[7623, 2.302899121080939, 33, 2, 0]),\n",
              " DocItem(doc_id=-6899953815942887338, is_spam=True, url='http://frawei.20x.cc/?efa_us=1', features=[8516, 2.0530765617660873, 63, 17, 0]),\n",
              " DocItem(doc_id=-6899359282318730219, is_spam=True, url='http://vetalchumak.narod.ru/arenda-kvartir-v-moskovskoy-oblasti-bez-posrednikov.html', features=[1585, 2.1943217665615142, 27, 27, 0]),\n",
              " DocItem(doc_id=-6899205607678015407, is_spam=True, url='http://miecro.20x.cc/?page=45', features=[5126, 2.220639875146313, 15, 5, 0]),\n",
              " DocItem(doc_id=-6897625078551494709, is_spam=True, url='http://tulrueeeod.co.cc/xilisoft-avi-to-dvd-converter-v30300824.html', features=[9123, 2.3382659212978187, 21, 15, 0]),\n",
              " DocItem(doc_id=-6894278138327545736, is_spam=False, url='http://odessa-daily.com.ua/component/content/article/162-yandex-news/26413-zadywili-devuwky.html?directory=1', features=[2318, 3.4499568593615186, 28, 11, 0]),\n",
              " DocItem(doc_id=-6892525075736293610, is_spam=True, url='http://puggare6ee.110mb.com/10-download-obnovlenija-dlja-kasperskogo-2009.html', features=[3433, 2.019516457908535, 20, 5, 0]),\n",
              " DocItem(doc_id=-6887853546934794910, is_spam=False, url='http://lvovich.ru/larisa/start_larisa.shtml', features=[6835, 2.087783467446964, 38, 31, 0]),\n",
              " DocItem(doc_id=-6887508659686934560, is_spam=False, url='http://pfrf.ru/ot_kemer/ado/', features=[16512, 1.942405523255814, 38, 20, 0]),\n",
              " DocItem(doc_id=-6880932537191925167, is_spam=False, url='http://www.mirstavok.com/', features=[3248, 2.4732142857142856, 16, 3, 0]),\n",
              " DocItem(doc_id=-6876056898267750603, is_spam=False, url='http://medask.ru/faq_same_40656.htm', features=[6382, 2.3829520526480725, 38, 0, 0]),\n",
              " DocItem(doc_id=-6872232554642028443, is_spam=False, url='http://andreykurkin1.moikrug.ru/', features=[1296, 2.6828703703703702, 16, 0, 0]),\n",
              " DocItem(doc_id=-6870918948912663201, is_spam=True, url='http://ierofejdetistov.nightmail.ru/oralnyi-seks-zppp-p102_htyk.html', features=[1229, 2.762408462164361, 13, 13, 0]),\n",
              " DocItem(doc_id=-6869180671621681958, is_spam=False, url='http://www.gazeta.ru/2007/02/16/oa_231861.shtml', features=[4919, 3.2831876397641797, 12, 0, 0]),\n",
              " DocItem(doc_id=-6869089649465736674, is_spam=False, url='http://rootlink.org.ru/details/ru.tomsk.nirvana.html', features=[2247, 2.7783711615487316, 19, 0, 0]),\n",
              " DocItem(doc_id=-6865265350774567842, is_spam=True, url='http://swqdjkf5.edu.ms/5/krutoy-sem-2-skachat-torrent-112.html', features=[4387, 2.000683838614087, 49, 0, 0]),\n",
              " DocItem(doc_id=-6864469199172155705, is_spam=False, url='http://amwaylike.ru/', features=[985, 2.3411167512690354, 28, 11, 0]),\n",
              " DocItem(doc_id=-6863541800044143649, is_spam=True, url='http://tictefounne1983.narod.ru/italyanskie-znakomstva/page-id-32.html', features=[4090, 2.1877750611246944, 34, 6, 0]),\n",
              " DocItem(doc_id=-6862370598646171579, is_spam=False, url='http://mabico.ru/', features=[9295, 2.5399677245831094, 35, 14, 0]),\n",
              " DocItem(doc_id=-6860900678319308429, is_spam=False, url='http://magicdrink.ru/', features=[6319, 2.3228358917550245, 48, 6, 0]),\n",
              " DocItem(doc_id=-6859163855457338058, is_spam=False, url='http://life-star.ru/page/4582', features=[2952, 2.6375338753387534, 38, 5, 0]),\n",
              " DocItem(doc_id=-6857472588202892711, is_spam=True, url='http://dedpbasrighdensicht.narod.ru/games/lwmqm.html', features=[1427, 2.2291520672740015, 21, 0, 0]),\n",
              " DocItem(doc_id=-6857373632948476841, is_spam=False, url='http://www.glavbuh.net/buhuchet_poizvodstva/', features=[1721, 2.557815223707147, 45, 0, 0]),\n",
              " DocItem(doc_id=-6852109335463071206, is_spam=True, url='http://hohepaq33.narod.ru/prostitutki-moskvy/page-3.html', features=[1749, 1.9010863350485991, 10, 0, 0]),\n",
              " DocItem(doc_id=-6850541547070711267, is_spam=True, url='http://cruid.uni.cc/Mustek/710.html', features=[3490, 2.331805157593123, 19, 1, 0]),\n",
              " DocItem(doc_id=-6848933359478866523, is_spam=False, url='http://linkstars.ru/site/Primorye.ru__prognoz_pogody_vo_vladivostoke.html', features=[5638, 2.434373891450869, 17, 0, 0]),\n",
              " DocItem(doc_id=-6847520713194529091, is_spam=False, url='http://mov1.ru/load/tv_peredachi/nasha_russia_novye_serii_5_sezon/25-1-0-5382', features=[4086, 2.467449828683309, 31, 1, 0]),\n",
              " DocItem(doc_id=-6844991231312516780, is_spam=True, url='http://ralesour91u.ce.ms/seks-v-parke/porno-rozkazi.html', features=[1679, 2.156640857653365, 29, 0, 0]),\n",
              " DocItem(doc_id=-6844280472658501517, is_spam=False, url='http://liga-sport.ru/', features=[23957, 2.2076637308511082, 1042, 19, 0]),\n",
              " DocItem(doc_id=-6842451895080866327, is_spam=True, url='http://loahe236.narod.ru/skachat-besplatno-minusovka-pesnya-gadalka.html', features=[1844, 2.1822125813449023, 32, 5, 0]),\n",
              " DocItem(doc_id=-6841057443904377649, is_spam=True, url='http://moskvaintim.oni.cc/c14/76/index.php', features=[2282, 2.007011393514461, 17, 5, 0]),\n",
              " DocItem(doc_id=-6839933827909599449, is_spam=False, url='http://www.govweb.ru/govbody/60/', features=[2180, 2.2678899082568806, 25, 0, 0]),\n",
              " DocItem(doc_id=-6836725295376877669, is_spam=False, url='http://www.bards.ru/', features=[2736, 2.2101608187134505, 3, 0, 0]),\n",
              " DocItem(doc_id=-6831974816731012932, is_spam=False, url='http://bm4u.ru/info2514.htm', features=[775, 3.0606451612903225, 25, 2, 0]),\n",
              " DocItem(doc_id=-6828932546634588094, is_spam=True, url='http://leachies1.110mb.com/skachat-plato-dvd-copy-v7.70.html', features=[2917, 2.076105587932808, 11, 0, 0]),\n",
              " DocItem(doc_id=-6828725837850123131, is_spam=True, url='http://5bazuka8424.livejournal.com/6165.html', features=[14233, 2.4250685027752406, 3, 1, 0]),\n",
              " DocItem(doc_id=-6828012501761713117, is_spam=True, url='http://nounnoneno6613.narod.ru/secret/7/semya/37.html', features=[5850, 2.083931623931624, 57, 0, 0]),\n",
              " DocItem(doc_id=-6826501841289036317, is_spam=False, url='http://lovefavour.ru/verses/', features=[5082, 2.119047619047619, 52, 0, 0]),\n",
              " DocItem(doc_id=-6825427827354950690, is_spam=False, url='http://kavkaz.ge/2010/12/06/my-podstavili-russkim-grushnikam-byvshego-oficera/', features=[14175, 2.1034920634920633, 33, 0, 0]),\n",
              " DocItem(doc_id=-6824053775336429315, is_spam=True, url='http://qael8ax3.blogonline.ru/682.html', features=[3278, 2.586333129957291, 23, 0, 0]),\n",
              " DocItem(doc_id=-6822764326696432580, is_spam=True, url='http://zambvirtizi.yc.cz/ipcat9/otzivi-ob-uvelichenii-penisa-206.html', features=[2872, 2.016016713091922, 21, 0, 0]),\n",
              " DocItem(doc_id=-6821776688788026033, is_spam=True, url='http://prenexrocmesear.narod.ru/games/mhpcs.html', features=[1546, 2.23738680465718, 32, 0, 0]),\n",
              " DocItem(doc_id=-6820399154937115444, is_spam=True, url='http://metizirostova.front.ru/page-218482.html', features=[2865, 2.387783595113438, 60, 14, 0]),\n",
              " DocItem(doc_id=-6819030729256615028, is_spam=True, url='http://drkqrtwqg2.edu.ms/2/piraty-rossiyskoy-imperii-skachat-torrent-162.html', features=[2962, 1.987846049966239, 56, 0, 0]),\n",
              " DocItem(doc_id=-6813164785983551674, is_spam=False, url='http://lawtoday.ru/razdel/biblo/mnucipial/023.php', features=[5557, 2.215224041749145, 72, 5, 0]),\n",
              " DocItem(doc_id=-6811291335706468269, is_spam=True, url='http://vtatqin2.edu.ms/2/skachat-igru-gta-po-internetu-140.html', features=[3024, 2.0916005291005293, 45, 0, 0]),\n",
              " DocItem(doc_id=-6809766036619665797, is_spam=True, url='http://priusrer.5gigs.net/Gigabyte/99.html', features=[1850, 2.051891891891892, 47, 18, 0]),\n",
              " DocItem(doc_id=-6809740932456947852, is_spam=True, url='http://tiologarzamb6770.narod.ru/history8/20/b/64.html', features=[4705, 2.055047821466525, 39, 0, 0]),\n",
              " DocItem(doc_id=-6807532435967907039, is_spam=False, url='http://tlt.ru/articles.php?n=1342677', features=[2504, 2.315894568690096, 19, 0, 0]),\n",
              " DocItem(doc_id=-6805075532954454858, is_spam=True, url='http://capabilit3fd8.110mb.com/78prostitutki-g-ufa.html', features=[1796, 1.962694877505568, 13, 5, 0]),\n",
              " DocItem(doc_id=-6802937242724107148, is_spam=False, url='http://lexus.avterra.ru/', features=[7334, 2.2268884646850284, 40, 5, 0]),\n",
              " DocItem(doc_id=-6802390393202043250, is_spam=True, url='http://duvernoisiqz7.narod.ru/zont-693.html', features=[2899, 2.6619523973784065, 19, 5, 0]),\n",
              " DocItem(doc_id=-6798263824510513312, is_spam=False, url='http://anchiktigra.livejournal.com/42820.html', features=[6049, 2.235576128285667, 58, 0, 0]),\n",
              " DocItem(doc_id=-6786902905747872831, is_spam=True, url='http://fmofafi.narod.ru/nauka/pozdrvleniya-s-dnm-medsestry.html', features=[1037, 2.064609450337512, 36, 30, 0]),\n",
              " DocItem(doc_id=-6786898560506292692, is_spam=False, url='http://webnut.ru/games/play/deal-or-no-deal-3', features=[1278, 3.171361502347418, 16, 3, 0]),\n",
              " DocItem(doc_id=-6783677653450696986, is_spam=False, url='http://lanos-club.ru/forum/index.php?showtopic=250&st=100&p=52340&', features=[9025, 2.4809972299168974, 29, 7, 0]),\n",
              " DocItem(doc_id=-6779328982375171196, is_spam=True, url='http://terkingfranyb.narod.ru/page-366876.html', features=[3454, 2.1323103647944412, 10, 18, 0]),\n",
              " DocItem(doc_id=-6777295735112919388, is_spam=True, url='http://porlurog.edu.ms/anket260.html', features=[581, 1.9810671256454389, 22, 5, 0]),\n",
              " DocItem(doc_id=-6770179870339585342, is_spam=False, url='http://www.managerkurs.ru/', features=[3636, 2.152915291529153, 28, 7, 0]),\n",
              " DocItem(doc_id=-6769063218378108924, is_spam=True, url='http://udfjjcrt.co.cc/18/nayti-telefon-po-imeni.html', features=[3446, 2.1700522344747535, 18, 0, 0]),\n",
              " DocItem(doc_id=-6768309240107717744, is_spam=True, url='http://putnyt.uni.cc/72.html', features=[505, 2.514851485148515, 17, 0, 0]),\n",
              " DocItem(doc_id=-6765129415215263924, is_spam=False, url='http://management.ru/news/reklama-i-marketing/s-panasonic-viera-3d-roboty-i-dinozavry-zajdut-k-vam-v-gosti/', features=[475, 2.6210526315789475, 67, 27, 0]),\n",
              " DocItem(doc_id=-6764325599396394733, is_spam=False, url='http://altapress.ru/story/59272', features=[3613, 2.5480210351508443, 39, 0, 0]),\n",
              " DocItem(doc_id=-6761389219371292736, is_spam=True, url='http://amdzhadchekrizhov7.pop3.ru/smotret-porno_438.html', features=[1950, 2.4215384615384616, 26, 22, 0]),\n",
              " DocItem(doc_id=-6760659969944517023, is_spam=False, url='http://milonga.ru/', features=[1898, 2.076923076923077, 35, 0, 0]),\n",
              " DocItem(doc_id=-6758577374814350337, is_spam=True, url='http://lioucapuful.yc.cz/lccat10/index2.html', features=[3122, 2.039077514413837, 24, 6, 0]),\n",
              " DocItem(doc_id=-6757821649652033317, is_spam=True, url='http://sokolskis19.narod.ru/13-04-2010/uznat-nomer-na-mts.html', features=[2389, 2.141900376726664, 9, 8, 0]),\n",
              " DocItem(doc_id=-6754502622640451134, is_spam=True, url='http://neu9903eyr.narod.ru/file-193140.html', features=[3517, 2.5615581461472847, 23, 0, 0]),\n",
              " DocItem(doc_id=-6753137188381197810, is_spam=False, url='http://sibelle.ru/sale/2700.html', features=[1004, 2.3864541832669324, 40, 0, 0]),\n",
              " DocItem(doc_id=-6751500550129776334, is_spam=False, url='http://kp.ru/online/news/834106/', features=[6896, 3.0336426914153134, 31, 18, 0]),\n",
              " DocItem(doc_id=-6750820752328470963, is_spam=True, url='http://niesuif.20x.cc/?page=23', features=[5040, 2.081547619047619, 22, 5, 0]),\n",
              " DocItem(doc_id=-6750782176214789616, is_spam=True, url='http://steerenor.narod.ru/articles-367.html', features=[1817, 2.4887176664832142, 11, 12, 0]),\n",
              " DocItem(doc_id=-6741607063423236766, is_spam=True, url='http://gomi95rvm.297m.com/petergof-intim-uslugi.html', features=[4621, 1.9764120320276997, 13, 0, 0]),\n",
              " DocItem(doc_id=-6741489423223698299, is_spam=False, url='http://transport.marshruty.ru/Transport/Timetable/87421-86972-Kansk-Krasnoyarsk/', features=[9305, 3.968189145620634, 71, 0, 0]),\n",
              " DocItem(doc_id=-6741326776302388983, is_spam=False, url='http://lenta.ru/news/2010/11/17/plan/', features=[3273, 2.3706080048884814, 25, 0, 0]),\n",
              " DocItem(doc_id=-6739664439870738051, is_spam=False, url='http://www.avtobeton.ru/likbez_beton.html', features=[14970, 2.219171676686707, 14, 8, 0]),\n",
              " DocItem(doc_id=-6733863494751138149, is_spam=True, url='http://kreditkarta1.narod.ru/uznat-nomer-kreditnoy-karty.html', features=[1079, 2.6357738646895275, 15, 0, 0]),\n",
              " DocItem(doc_id=-6726051266821443611, is_spam=True, url='http://biaclostysi.narod2.ru/legko-li-vypuskniku-baumanki-nayti-rabotu.html', features=[1157, 2.1650821089023338, 23, 23, 0]),\n",
              " DocItem(doc_id=-6725866730633002181, is_spam=True, url='http://firlemit.narod.ru/articles-117.html', features=[4684, 2.088599487617421, 85, 3, 0]),\n",
              " DocItem(doc_id=-6724226252795772518, is_spam=False, url='http://www.metropoliten.newmail.ru/', features=[11696, 2.198358413132695, 48, 0, 0]),\n",
              " DocItem(doc_id=-6720745533855018211, is_spam=True, url='http://travrekoj0.ce.ms/tyuremnie/porno-ondayn-v-kolgotkah.html', features=[1946, 2.179856115107914, 32, 0, 0]),\n",
              " DocItem(doc_id=-6718400280598396721, is_spam=False, url='http://krasn.pravo.ru/tags/6700/', features=[9957, 2.062569046901677, 37, 0, 0]),\n",
              " DocItem(doc_id=-6716432137910177623, is_spam=True, url='http://moussepota.narod.ru/page-296227.html', features=[3611, 2.1633896427582386, 12, 18, 0]),\n",
              " DocItem(doc_id=-6709529783577433225, is_spam=False, url='http://medvedev-da.ru/blog.php?blog=snr-blog&page=blog', features=[2997, 2.253586920253587, 13, 12, 0]),\n",
              " DocItem(doc_id=-6706687864842756695, is_spam=False, url='http://animebox.com.ua/', features=[5183, 2.3513409222458037, 20, 7, 0]),\n",
              " DocItem(doc_id=-6705396662918751959, is_spam=True, url='http://cwitejqn.co.cc/vse-dlya-mobili-i-pornuha.html', features=[1284, 2.2390965732087227, 48, 7, 0]),\n",
              " DocItem(doc_id=-6701614185096165542, is_spam=True, url='http://laureenqi.nightmail.ru/str-6575.html', features=[1628, 2.3931203931203933, 28, 4, 0]),\n",
              " DocItem(doc_id=-6698940198795753095, is_spam=False, url='http://anekdot.ru/scripts/author.php?o=o2&a1=%C0%F0%F2%F3%F0%20%C2%E5%F0%ED%E5%F0', features=[3879, 2.1497808713585975, 12, 4, 0]),\n",
              " DocItem(doc_id=-6698042364952416632, is_spam=True, url='http://laibinkiaof.ce.ms/dlinie-nogti/porno-i-erovideo.html', features=[1805, 2.142382271468144, 30, 0, 0]),\n",
              " DocItem(doc_id=-6693172886343362682, is_spam=True, url='http://sekaleto.livejournal.com/6837.html', features=[2050, 3.526341463414634, 21, 2, 0]),\n",
              " DocItem(doc_id=-6690220022488479735, is_spam=True, url='http://chzdtzmg.pochtamt.ru/negrityanki-shluhi-v-moskve.html', features=[1856, 2.445581896551724, 22, 0, 0]),\n",
              " DocItem(doc_id=-6690109369474662248, is_spam=False, url='http://lleo.aha.ru/arhive/index.htm', features=[3822, 2.0952380952380953, 20, 16, 0]),\n",
              " DocItem(doc_id=-6688734536270639879, is_spam=True, url='http://oemnyv.ugig.ir/?page=5', features=[6645, 2.1200902934537247, 21, 5, 0]),\n",
              " DocItem(doc_id=-6686359462122470965, is_spam=False, url='http://muz-tv.ru/look/rus_topmodel/', features=[2462, 2.1068237205523963, 82, 0, 0]),\n",
              " DocItem(doc_id=-6685095003794185213, is_spam=False, url='http://lib.hobbi-t.ru/index.php?book=68', features=[436447, 1.9664060011868565, 37, 5, 0]),\n",
              " DocItem(doc_id=-6680460483713213832, is_spam=True, url='http://wobladak.ikaduchi.com/seks-foto-rostov.html', features=[3935, 2.179669631512071, 20, 17, 0]),\n",
              " DocItem(doc_id=-6679447493003517858, is_spam=True, url='http://ederoh.uni.cc/?vav=619', features=[2468, 1.989870340356564, 24, 28, 0]),\n",
              " DocItem(doc_id=-6675953792023692196, is_spam=True, url='http://rewhaquanes.narod.ru/page-879004.html', features=[2469, 2.062778452814905, 14, 16, 0]),\n",
              " DocItem(doc_id=-6675585438531721484, is_spam=True, url='http://uixytri.my-place.us/Skachat-drayvera-dlya-hp-laser-jet-3030-129/', features=[2455, 2.039918533604888, 18, 10, 0]),\n",
              " DocItem(doc_id=-6674993981310872356, is_spam=False, url='http://med-spravki.info/gkt/gastrit.html', features=[5021, 2.15255925114519, 53, 5, 0]),\n",
              " DocItem(doc_id=-6669507547141316733, is_spam=True, url='http://qma10w5703.narod.ru/file-977403.html', features=[3369, 2.296527159394479, 22, 4, 0]),\n",
              " DocItem(doc_id=-6668430026704601549, is_spam=True, url='http://uifrot.20x.cc/?page=6', features=[7771, 2.111568652683052, 21, 5, 0]),\n",
              " DocItem(doc_id=-6666482202068994835, is_spam=True, url='http://maigropabpec.edu.ms/index266.html', features=[951, 2.3133543638275498, 8, 0, 0]),\n",
              " DocItem(doc_id=-6665694376731466199, is_spam=True, url='http://neofyji.ugig.ir/?page=48', features=[3736, 2.02703426124197, 22, 18, 0]),\n",
              " DocItem(doc_id=-6663757727353548332, is_spam=True, url='http://vea.akimot.info/11_massj_intimnye_uslugi.asp', features=[2633, 1.9813900493733383, 15, 0, 0]),\n",
              " DocItem(doc_id=-6663492063018233441, is_spam=True, url='http://seksznakomstva.seksroliki.info/spryatannie/besplatniy-prosmotr-porno-filmov-s-maloletkami.html', features=[1780, 2.1337078651685393, 49, 0, 0]),\n",
              " DocItem(doc_id=-6660258908041867648, is_spam=True, url='http://smotretpornofilm.seksroliki.info/prazdnichnie/tantsuyushaya-devushka-dlya-proigrivatelya.html', features=[2038, 2.037782139352306, 45, 0, 0]),\n",
              " DocItem(doc_id=-6657728828448599744, is_spam=False, url='http://marinetraffic.com/ais/ru/default.aspx?level0=100', features=[3413, 4.244652798124817, 30, 2, 0]),\n",
              " DocItem(doc_id=-6651415807791584066, is_spam=False, url='http://lf.rbc.ru/bank/526/', features=[11788, 2.421869697997964, 39, 3, 0]),\n",
              " DocItem(doc_id=-6651344205472028923, is_spam=True, url='http://hygiene2943.110mb.com/porno-video-narezki-skachat-besplatno.htm', features=[1989, 2.037707390648567, 23, 0, 0]),\n",
              " DocItem(doc_id=-6648002977210691814, is_spam=False, url='http://angio.health-ua.com/article/165.html', features=[15257, 2.1452448056629745, 100, 0, 0]),\n",
              " DocItem(doc_id=-6647613366293296664, is_spam=True, url='http://triuneit.freei.me/?l=8', features=[4864, 2.1735197368421053, 27, 13, 0]),\n",
              " DocItem(doc_id=-6645988561244192860, is_spam=False, url='http://megainf.ru/foto/id_5946_Nokia-N77_8.html', features=[1910, 3.5460732984293193, 11, 0, 0]),\n",
              " DocItem(doc_id=-6644366144314708351, is_spam=True, url='http://oungrubex.narod.ru/porka-remnem-znakomstva.html', features=[2010, 2.2487562189054726, 24, 6, 0]),\n",
              " DocItem(doc_id=-6636380572350152432, is_spam=True, url='http://gnossungthafor.narod.ru/interni-smotret-skachat.html', features=[1698, 1.997055359246172, 15, 0, 0]),\n",
              " DocItem(doc_id=-6632225552448643745, is_spam=True, url='http://burgnedowndap.narod.ru/page-542288.html', features=[4337, 2.1729305971869954, 14, 9, 0]),\n",
              " DocItem(doc_id=-6632102034396378792, is_spam=False, url='http://geriona.com.ua/a7-dance_zhivota.php', features=[3338, 2.2702216896345115, 77, 0, 0]),\n",
              " DocItem(doc_id=-6628964356213799751, is_spam=True, url='http://venhiavil.narod.ru/96/sbornik-igr-dlya-pk.html', features=[3206, 2.103243917654398, 20, 0, 0]),\n",
              " DocItem(doc_id=-6625885747593915521, is_spam=False, url='http://www.alliancesv.ru/rent.htm', features=[1876, 2.498400852878465, 27, 0, 0]),\n",
              " DocItem(doc_id=-6625343906355992936, is_spam=False, url='http://genon.ru/GetAnswer.aspx?qid=d26b97a5-0893-4576-acd5-004e7aeed3f7', features=[2763, 2.599348534201954, 43, 0, 0]),\n",
              " DocItem(doc_id=-6623273408893039848, is_spam=True, url='http://gogna82.edu.ms/russifikator-cabela-s-outdoor-adventures.html', features=[3492, 2.072737686139748, 32, 0, 0]),\n",
              " DocItem(doc_id=-6622543723857715386, is_spam=True, url='http://inifi.xtreemhost.com/', features=[1373, 4.128914785142025, 7, 1, 0]),\n",
              " DocItem(doc_id=-6616167953851416144, is_spam=False, url='http://leloo.com.ua/articles/item-2452.html', features=[8782, 2.7933272603051695, 43, 0, 0]),\n",
              " DocItem(doc_id=-6615749701860615095, is_spam=False, url='http://physics.kgsu.ru/index.php?option=com_content&view=article&id=163', features=[1135, 2.4079295154185023, 1, 0, 0]),\n",
              " DocItem(doc_id=-6615142058346347417, is_spam=False, url='http://www.onlydivx.net/search/deniz-yldizi-kino-serial.html', features=[3194, 2.4552285535378835, 7, 2, 0]),\n",
              " DocItem(doc_id=-6612816581816798107, is_spam=True, url='http://lohekhan.livejournal.com/6137.html', features=[2100, 3.493333333333333, 31, 2, 0]),\n",
              " DocItem(doc_id=-6609888127771099278, is_spam=True, url='http://stintl.my5gigs.com/?page=12', features=[7443, 2.1066774150208247, 23, 6, 0]),\n",
              " DocItem(doc_id=-6598841313708215252, is_spam=True, url='http://gregg1aishawler.narod.ru/Familiya-boldankov.html', features=[5533, 3.4039399963853243, 25, 5, 0]),\n",
              " DocItem(doc_id=-6595855708831503330, is_spam=True, url='http://bosstext.8site.ru/20-pravila', features=[359, 3.713091922005571, 6, 8, 0]),\n",
              " DocItem(doc_id=-6595508313868197907, is_spam=False, url='http://magazinchik.na-ostrovke.ru/product_info.php/products_id/1020', features=[2713, 2.375230372281607, 78, 0, 0]),\n",
              " ...]"
            ]
          },
          "metadata": {
            "tags": []
          },
          "execution_count": 434
        }
      ]
    },
    {
      "cell_type": "code",
      "metadata": {
        "id": "Oj4FyYh_FKWU",
        "colab_type": "code",
        "colab": {},
        "outputId": "2b350d3e-e535-4b19-8b0c-00abab38e3ce"
      },
      "source": [
        "soup = BeautifulSoup('<html><body><a> Some text </a>')\n",
        "soup.find('a').text"
      ],
      "execution_count": 0,
      "outputs": [
        {
          "output_type": "execute_result",
          "data": {
            "text/plain": [
              "' Some text '"
            ]
          },
          "metadata": {
            "tags": []
          },
          "execution_count": 180
        }
      ]
    },
    {
      "cell_type": "code",
      "metadata": {
        "id": "z1wDZkPTFKWX",
        "colab_type": "code",
        "colab": {}
      },
      "source": [
        ""
      ],
      "execution_count": 0,
      "outputs": []
    }
  ]
}