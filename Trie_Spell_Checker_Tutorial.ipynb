{
  "nbformat": 4,
  "nbformat_minor": 0,
  "metadata": {
    "colab": {
      "name": "Trie Spell Checker Tutorial",
      "provenance": [],
      "authorship_tag": "ABX9TyNHwG0XmSFJv+AH1C9+HiIx",
      "include_colab_link": true
    },
    "kernelspec": {
      "name": "python3",
      "display_name": "Python 3"
    },
    "widgets": {
      "application/vnd.jupyter.widget-state+json": {
        "6acd118c82284cd5b28fd239c97638c0": {
          "model_module": "@jupyter-widgets/controls",
          "model_name": "HBoxModel",
          "state": {
            "_view_name": "HBoxView",
            "_dom_classes": [],
            "_model_name": "HBoxModel",
            "_view_module": "@jupyter-widgets/controls",
            "_model_module_version": "1.5.0",
            "_view_count": null,
            "_view_module_version": "1.5.0",
            "box_style": "",
            "layout": "IPY_MODEL_8c15ac9fe73143028f022d6c7c1b8fd7",
            "_model_module": "@jupyter-widgets/controls",
            "children": [
              "IPY_MODEL_d8339b849d274b818b9747f9271ce27e",
              "IPY_MODEL_99bf6df74bcd45b493127cae52785c9b"
            ]
          }
        },
        "8c15ac9fe73143028f022d6c7c1b8fd7": {
          "model_module": "@jupyter-widgets/base",
          "model_name": "LayoutModel",
          "state": {
            "_view_name": "LayoutView",
            "grid_template_rows": null,
            "right": null,
            "justify_content": null,
            "_view_module": "@jupyter-widgets/base",
            "overflow": null,
            "_model_module_version": "1.2.0",
            "_view_count": null,
            "flex_flow": null,
            "width": null,
            "min_width": null,
            "border": null,
            "align_items": null,
            "bottom": null,
            "_model_module": "@jupyter-widgets/base",
            "top": null,
            "grid_column": null,
            "overflow_y": null,
            "overflow_x": null,
            "grid_auto_flow": null,
            "grid_area": null,
            "grid_template_columns": null,
            "flex": null,
            "_model_name": "LayoutModel",
            "justify_items": null,
            "grid_row": null,
            "max_height": null,
            "align_content": null,
            "visibility": null,
            "align_self": null,
            "height": null,
            "min_height": null,
            "padding": null,
            "grid_auto_rows": null,
            "grid_gap": null,
            "max_width": null,
            "order": null,
            "_view_module_version": "1.2.0",
            "grid_template_areas": null,
            "object_position": null,
            "object_fit": null,
            "grid_auto_columns": null,
            "margin": null,
            "display": null,
            "left": null
          }
        },
        "d8339b849d274b818b9747f9271ce27e": {
          "model_module": "@jupyter-widgets/controls",
          "model_name": "FloatProgressModel",
          "state": {
            "_view_name": "ProgressView",
            "style": "IPY_MODEL_089908603269459ba58e3a49afcbab58",
            "_dom_classes": [],
            "description": "100%",
            "_model_name": "FloatProgressModel",
            "bar_style": "success",
            "max": 20459,
            "_view_module": "@jupyter-widgets/controls",
            "_model_module_version": "1.5.0",
            "value": 20459,
            "_view_count": null,
            "_view_module_version": "1.5.0",
            "orientation": "horizontal",
            "min": 0,
            "description_tooltip": null,
            "_model_module": "@jupyter-widgets/controls",
            "layout": "IPY_MODEL_83cf1e75edcc4fc48faf8368878ccced"
          }
        },
        "99bf6df74bcd45b493127cae52785c9b": {
          "model_module": "@jupyter-widgets/controls",
          "model_name": "HTMLModel",
          "state": {
            "_view_name": "HTMLView",
            "style": "IPY_MODEL_bf391628de1a4b979a27890eacc85ff5",
            "_dom_classes": [],
            "description": "",
            "_model_name": "HTMLModel",
            "placeholder": "​",
            "_view_module": "@jupyter-widgets/controls",
            "_model_module_version": "1.5.0",
            "value": " 20459/20459 [00:00&lt;00:00, 102826.23it/s]",
            "_view_count": null,
            "_view_module_version": "1.5.0",
            "description_tooltip": null,
            "_model_module": "@jupyter-widgets/controls",
            "layout": "IPY_MODEL_37244bfc2caf4b15818aed63df6aa589"
          }
        },
        "089908603269459ba58e3a49afcbab58": {
          "model_module": "@jupyter-widgets/controls",
          "model_name": "ProgressStyleModel",
          "state": {
            "_view_name": "StyleView",
            "_model_name": "ProgressStyleModel",
            "description_width": "initial",
            "_view_module": "@jupyter-widgets/base",
            "_model_module_version": "1.5.0",
            "_view_count": null,
            "_view_module_version": "1.2.0",
            "bar_color": null,
            "_model_module": "@jupyter-widgets/controls"
          }
        },
        "83cf1e75edcc4fc48faf8368878ccced": {
          "model_module": "@jupyter-widgets/base",
          "model_name": "LayoutModel",
          "state": {
            "_view_name": "LayoutView",
            "grid_template_rows": null,
            "right": null,
            "justify_content": null,
            "_view_module": "@jupyter-widgets/base",
            "overflow": null,
            "_model_module_version": "1.2.0",
            "_view_count": null,
            "flex_flow": null,
            "width": null,
            "min_width": null,
            "border": null,
            "align_items": null,
            "bottom": null,
            "_model_module": "@jupyter-widgets/base",
            "top": null,
            "grid_column": null,
            "overflow_y": null,
            "overflow_x": null,
            "grid_auto_flow": null,
            "grid_area": null,
            "grid_template_columns": null,
            "flex": null,
            "_model_name": "LayoutModel",
            "justify_items": null,
            "grid_row": null,
            "max_height": null,
            "align_content": null,
            "visibility": null,
            "align_self": null,
            "height": null,
            "min_height": null,
            "padding": null,
            "grid_auto_rows": null,
            "grid_gap": null,
            "max_width": null,
            "order": null,
            "_view_module_version": "1.2.0",
            "grid_template_areas": null,
            "object_position": null,
            "object_fit": null,
            "grid_auto_columns": null,
            "margin": null,
            "display": null,
            "left": null
          }
        },
        "bf391628de1a4b979a27890eacc85ff5": {
          "model_module": "@jupyter-widgets/controls",
          "model_name": "DescriptionStyleModel",
          "state": {
            "_view_name": "StyleView",
            "_model_name": "DescriptionStyleModel",
            "description_width": "",
            "_view_module": "@jupyter-widgets/base",
            "_model_module_version": "1.5.0",
            "_view_count": null,
            "_view_module_version": "1.2.0",
            "_model_module": "@jupyter-widgets/controls"
          }
        },
        "37244bfc2caf4b15818aed63df6aa589": {
          "model_module": "@jupyter-widgets/base",
          "model_name": "LayoutModel",
          "state": {
            "_view_name": "LayoutView",
            "grid_template_rows": null,
            "right": null,
            "justify_content": null,
            "_view_module": "@jupyter-widgets/base",
            "overflow": null,
            "_model_module_version": "1.2.0",
            "_view_count": null,
            "flex_flow": null,
            "width": null,
            "min_width": null,
            "border": null,
            "align_items": null,
            "bottom": null,
            "_model_module": "@jupyter-widgets/base",
            "top": null,
            "grid_column": null,
            "overflow_y": null,
            "overflow_x": null,
            "grid_auto_flow": null,
            "grid_area": null,
            "grid_template_columns": null,
            "flex": null,
            "_model_name": "LayoutModel",
            "justify_items": null,
            "grid_row": null,
            "max_height": null,
            "align_content": null,
            "visibility": null,
            "align_self": null,
            "height": null,
            "min_height": null,
            "padding": null,
            "grid_auto_rows": null,
            "grid_gap": null,
            "max_width": null,
            "order": null,
            "_view_module_version": "1.2.0",
            "grid_template_areas": null,
            "object_position": null,
            "object_fit": null,
            "grid_auto_columns": null,
            "margin": null,
            "display": null,
            "left": null
          }
        }
      }
    }
  },
  "cells": [
    {
      "cell_type": "markdown",
      "metadata": {
        "id": "view-in-github",
        "colab_type": "text"
      },
      "source": [
        "<a href=\"https://colab.research.google.com/github/shivammehta007/Information-Retrieval/blob/master/Trie_Spell_Checker_Tutorial.ipynb\" target=\"_parent\"><img src=\"https://colab.research.google.com/assets/colab-badge.svg\" alt=\"Open In Colab\"/></a>"
      ]
    },
    {
      "cell_type": "code",
      "metadata": {
        "id": "9p3KjvGn5xdS",
        "colab_type": "code",
        "colab": {
          "base_uri": "https://localhost:8080/",
          "height": 34
        },
        "outputId": "687a927d-24cf-421a-aa3b-fd8623df6580"
      },
      "source": [
        "!pip install -U tqdm \n",
        "from tqdm.notebook import tqdm"
      ],
      "execution_count": 9,
      "outputs": [
        {
          "output_type": "stream",
          "text": [
            "Requirement already up-to-date: tqdm in /usr/local/lib/python3.6/dist-packages (4.42.1)\n"
          ],
          "name": "stdout"
        }
      ]
    },
    {
      "cell_type": "code",
      "metadata": {
        "id": "zxg-TMKn20el",
        "colab_type": "code",
        "colab": {}
      },
      "source": [
        "class Trie:\n",
        "    \"\"\"\n",
        "    Trie\n",
        "\n",
        "    Trie is a treelike datastructure used to predict suggestion here is a\n",
        "    simple implementation of it with add and search functionality.\n",
        "    It has a root that is the head or the Trie and a node_count to count\n",
        "    total number of nodes currently in Trie\n",
        "    \"\"\"\n",
        "\n",
        "    class _Node:\n",
        "        \"\"\"\n",
        "        Node\n",
        "\n",
        "        This is how a trie node looks like it has a hashmap of characters\n",
        "        with an end indicating weather this is the end of word or not.\n",
        "        One additional field that I added is the frequency count just for\n",
        "        furthur probabilistic calculations if required.\n",
        "        \"\"\"\n",
        "\n",
        "        def __init__(self, end=False):\n",
        "            self.characters = {}\n",
        "            self.frequency = 0\n",
        "            self.end = end\n",
        "\n",
        "    def __init__(self):\n",
        "        self.root = self._Node()\n",
        "        self.node_count = 1\n",
        "\n",
        "    def add_string(self, string):\n",
        "        \"\"\"\n",
        "        Adds a string to the trie\n",
        "        Parameters:\n",
        "        string: String\n",
        "        \"\"\"\n",
        "        node = self.root\n",
        "        for c in string:\n",
        "            if c not in node.characters:\n",
        "                node.characters[c] = self._Node()\n",
        "                self.node_count += 1\n",
        "\n",
        "            node = node.characters[c]\n",
        "            node.frequency += 1\n",
        "\n",
        "        node.end = True\n",
        "\n",
        "    def search_word(self, string):\n",
        "        \"\"\"\n",
        "        Searches for a word in the trie\n",
        "        Parameters:\n",
        "        string: String\n",
        "        \"\"\"\n",
        "        node = self.root\n",
        "        for c in string:\n",
        "            if c not in node.characters:\n",
        "                return False\n",
        "            node = node.characters[c]\n",
        "\n",
        "        if node.end:\n",
        "            return True\n",
        "\n",
        "        return False   "
      ],
      "execution_count": 0,
      "outputs": []
    },
    {
      "cell_type": "code",
      "metadata": {
        "id": "14L9ui0l3IXd",
        "colab_type": "code",
        "outputId": "782b657a-7373-4184-a3cb-bc173749ba1e",
        "colab": {
          "base_uri": "https://localhost:8080/",
          "height": 34
        }
      },
      "source": [
        "T = Trie()\n",
        "T.add_string('cat')\n",
        "T.add_string('dog')\n",
        "T.add_string('camel')\n",
        "assert T.node_count == 10\n",
        "assert T.search_word('cat')\n",
        "assert T.search_word('dog')\n",
        "assert T.search_word('camel')\n",
        "assert not T.search_word('cab')\n",
        "print('Test Passed Successfully')"
      ],
      "execution_count": 4,
      "outputs": [
        {
          "output_type": "stream",
          "text": [
            "Test Passed Successfully\n"
          ],
          "name": "stdout"
        }
      ]
    },
    {
      "cell_type": "markdown",
      "metadata": {
        "id": "5BvwyuKN3Qb9",
        "colab_type": "text"
      },
      "source": [
        "# Lets Train it with More Corpora and test it with my some text"
      ]
    },
    {
      "cell_type": "code",
      "metadata": {
        "id": "FggoSrNh3NNc",
        "colab_type": "code",
        "colab": {
          "base_uri": "https://localhost:8080/",
          "height": 85
        },
        "outputId": "f1d19921-0553-48ef-ed6b-f4e973f25888"
      },
      "source": [
        "import nltk\n",
        "nltk.download('gutenberg')\n",
        "nltk.download('punkt')\n",
        "from nltk.tokenize import sent_tokenize, PunktSentenceTokenizer\n",
        "from nltk.corpus import gutenberg"
      ],
      "execution_count": 5,
      "outputs": [
        {
          "output_type": "stream",
          "text": [
            "[nltk_data] Downloading package gutenberg to /root/nltk_data...\n",
            "[nltk_data]   Package gutenberg is already up-to-date!\n",
            "[nltk_data] Downloading package punkt to /root/nltk_data...\n",
            "[nltk_data]   Package punkt is already up-to-date!\n"
          ],
          "name": "stdout"
        }
      ]
    },
    {
      "cell_type": "markdown",
      "metadata": {
        "id": "cz-n0Iol5cJf",
        "colab_type": "text"
      },
      "source": [
        "# Using NLTK Caesar Corpora"
      ]
    },
    {
      "cell_type": "code",
      "metadata": {
        "id": "cX2UwHLt4Z2o",
        "colab_type": "code",
        "colab": {}
      },
      "source": [
        "corpora = gutenberg.raw('shakespeare-caesar.txt')"
      ],
      "execution_count": 0,
      "outputs": []
    },
    {
      "cell_type": "code",
      "metadata": {
        "id": "sasTUcPZ5qDy",
        "colab_type": "code",
        "colab": {}
      },
      "source": [
        "spell_checker = Trie()"
      ],
      "execution_count": 0,
      "outputs": []
    },
    {
      "cell_type": "code",
      "metadata": {
        "id": "zn67EK_K4nLA",
        "colab_type": "code",
        "colab": {
          "base_uri": "https://localhost:8080/",
          "height": 66,
          "referenced_widgets": [
            "6acd118c82284cd5b28fd239c97638c0",
            "8c15ac9fe73143028f022d6c7c1b8fd7",
            "d8339b849d274b818b9747f9271ce27e",
            "99bf6df74bcd45b493127cae52785c9b",
            "089908603269459ba58e3a49afcbab58",
            "83cf1e75edcc4fc48faf8368878ccced",
            "bf391628de1a4b979a27890eacc85ff5",
            "37244bfc2caf4b15818aed63df6aa589"
          ]
        },
        "outputId": "8c0c9d19-d981-486f-9041-b493aa6a0ee6"
      },
      "source": [
        "for word in tqdm(corpora.split()):\n",
        "    word = word.lower()\n",
        "    spell_checker.add_string(word)"
      ],
      "execution_count": 32,
      "outputs": [
        {
          "output_type": "display_data",
          "data": {
            "application/vnd.jupyter.widget-view+json": {
              "model_id": "6acd118c82284cd5b28fd239c97638c0",
              "version_minor": 0,
              "version_major": 2
            },
            "text/plain": [
              "HBox(children=(FloatProgress(value=0.0, max=20459.0), HTML(value='')))"
            ]
          },
          "metadata": {
            "tags": []
          }
        },
        {
          "output_type": "stream",
          "text": [
            "\n"
          ],
          "name": "stdout"
        }
      ]
    },
    {
      "cell_type": "code",
      "metadata": {
        "id": "OQqgZFme4qX2",
        "colab_type": "code",
        "colab": {}
      },
      "source": [
        ""
      ],
      "execution_count": 0,
      "outputs": []
    },
    {
      "cell_type": "markdown",
      "metadata": {
        "id": "VEcOMrtJ6isk",
        "colab_type": "text"
      },
      "source": [
        "Now Our spell checkers understands english lets try"
      ]
    },
    {
      "cell_type": "code",
      "metadata": {
        "id": "cuzEIP5t6msr",
        "colab_type": "code",
        "colab": {}
      },
      "source": [
        "def check_spelling(sentence, trie=spell_checker):\n",
        "    \"\"\"This method checks the presence in the trie and \n",
        "       returns the incorrect words\n",
        "    \"\"\"\n",
        "    sentence = sentence.split()\n",
        "    return [word for word in sentence if not trie.search_word(word)]\n",
        "    "
      ],
      "execution_count": 0,
      "outputs": []
    },
    {
      "cell_type": "code",
      "metadata": {
        "id": "mHfoC__B6q7u",
        "colab_type": "code",
        "colab": {
          "base_uri": "https://localhost:8080/",
          "height": 34
        },
        "outputId": "9061fa98-faa1-41c7-92c9-36c97c2bec5a"
      },
      "source": [
        "check_spelling('the julius ws dead when teh brutus stab him with the knofe')"
      ],
      "execution_count": 46,
      "outputs": [
        {
          "output_type": "execute_result",
          "data": {
            "text/plain": [
              "['ws', 'teh', 'knofe']"
            ]
          },
          "metadata": {
            "tags": []
          },
          "execution_count": 46
        }
      ]
    },
    {
      "cell_type": "code",
      "metadata": {
        "id": "YA-g_Emy7qsi",
        "colab_type": "code",
        "colab": {}
      },
      "source": [
        ""
      ],
      "execution_count": 0,
      "outputs": []
    }
  ]
}