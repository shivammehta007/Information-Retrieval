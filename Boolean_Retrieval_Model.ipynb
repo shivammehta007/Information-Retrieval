{
  "nbformat": 4,
  "nbformat_minor": 0,
  "metadata": {
    "colab": {
      "name": "Boolean Retrieval Model.ipynb",
      "provenance": [],
      "include_colab_link": true
    },
    "kernelspec": {
      "name": "python3",
      "display_name": "Python 3"
    }
  },
  "cells": [
    {
      "cell_type": "markdown",
      "metadata": {
        "id": "view-in-github",
        "colab_type": "text"
      },
      "source": [
        "<a href=\"https://colab.research.google.com/github/shivammehta007/Information-Retrieval/blob/master/Boolean_Retrieval_Model.ipynb\" target=\"_parent\"><img src=\"https://colab.research.google.com/assets/colab-badge.svg\" alt=\"Open In Colab\"/></a>"
      ]
    },
    {
      "cell_type": "markdown",
      "metadata": {
        "id": "WcDgh8T8ssDl",
        "colab_type": "text"
      },
      "source": [
        "# Boolean Retrieval Model"
      ]
    },
    {
      "cell_type": "markdown",
      "metadata": {
        "id": "kt1iyTAetJEn",
        "colab_type": "text"
      },
      "source": [
        "## Library Imports\n"
      ]
    },
    {
      "cell_type": "code",
      "metadata": {
        "id": "6m3-c0xbtIaV",
        "colab_type": "code",
        "colab": {
          "base_uri": "https://localhost:8080/",
          "height": 51
        },
        "outputId": "05ba6493-7412-4909-e9d4-1e5db490564e"
      },
      "source": [
        "# !pip install pymorphy2\n",
        "import os\n",
        "import gzip\n",
        "import nltk\n",
        "import pickle\n",
        "# import pymorphy2\n",
        "\n",
        "from nltk.corpus import stopwords\n",
        "nltk.download(\"stopwords\")\n",
        "\n",
        "from string import punctuation"
      ],
      "execution_count": 85,
      "outputs": [
        {
          "output_type": "stream",
          "text": [
            "[nltk_data] Downloading package stopwords to /root/nltk_data...\n",
            "[nltk_data]   Package stopwords is already up-to-date!\n"
          ],
          "name": "stdout"
        }
      ]
    },
    {
      "cell_type": "markdown",
      "metadata": {
        "id": "xGw6jtM1swxL",
        "colab_type": "text"
      },
      "source": [
        "## Reading Files"
      ]
    },
    {
      "cell_type": "code",
      "metadata": {
        "id": "TFdsGQmgs1Y3",
        "colab_type": "code",
        "colab": {
          "base_uri": "https://localhost:8080/",
          "height": 34
        },
        "outputId": "a03080de-a99a-4c13-cfdb-91834fd004a2"
      },
      "source": [
        "from google.colab import drive\n",
        "drive.mount('/content/drive')"
      ],
      "execution_count": 2,
      "outputs": [
        {
          "output_type": "stream",
          "text": [
            "Drive already mounted at /content/drive; to attempt to forcibly remount, call drive.mount(\"/content/drive\", force_remount=True).\n"
          ],
          "name": "stdout"
        }
      ]
    },
    {
      "cell_type": "code",
      "metadata": {
        "id": "hlE9fk4TtFMT",
        "colab_type": "code",
        "colab": {}
      },
      "source": [
        "indexing_data_location = '/content/drive/My Drive/Homeworks/InformationRetrieval/hw1_docs.tsv.gz'"
      ],
      "execution_count": 0,
      "outputs": []
    },
    {
      "cell_type": "code",
      "metadata": {
        "id": "tTcKOEsluiA5",
        "colab_type": "code",
        "colab": {
          "base_uri": "https://localhost:8080/",
          "height": 34
        },
        "outputId": "025ac141-b334-46fa-bd21-91240eccbfcd"
      },
      "source": [
        "with gzip.open(indexing_data_location, \"rb\") as f:\n",
        "    line = f.readline().decode().split('\\t')\n",
        "    print(len(line))\n",
        "\n"
      ],
      "execution_count": 108,
      "outputs": [
        {
          "output_type": "stream",
          "text": [
            "3\n"
          ],
          "name": "stdout"
        }
      ]
    },
    {
      "cell_type": "code",
      "metadata": {
        "id": "jEQ4C7xG5zfD",
        "colab_type": "code",
        "colab": {
          "base_uri": "https://localhost:8080/",
          "height": 54
        },
        "outputId": "fff3296a-c2f8-4366-b31d-7cca92bb2fc4"
      },
      "source": [
        "test_sen = 'OFFICE HOURS SATURDAY THURSDAY 8 AM 5 PM CONSULAR SECTION TUESDAY THURSDAY AND SUNDAY 9 AM 1 PM EMERGENCY ASSISTANCE ADDRESS STREET 3 COMMUNITY 314 UMM HURAIR FIRST BUR DUBAI AREA DUBAI UAE MAKANI NUMBER 29820 94373 TEL 9714 370 60 60 FAX 9714 370 60 63 E MAIL UZBEKCONSULATE AE MAIL RU P O BOX 50478 LOCATION MAP CONSULATE GENERAL OF THE REPUBLIC OF UZBEKISTAN IN DUBAI UAE PROFILE OF UZBEKISTAN STATE SYMBOLS CONSTITUTION PRESIDENT HISTORY PEOPLE CULTURE ECOLOGY NATIONAL HOLIDAYS ECONOMY DEVELOPMENT OF INTERNATIONAL RELATIONS TRAVELING TO UZBEKISTAN INVITATION TO UZBEKISTAN TOURISM IN UZBEKISTAN HISTORICAL PLACES TOUR COMPANIES HOTELS IN UZBEKISTAN BUSINESS IN UZBEKISTAN WHY UZBEKISTAN INVESTMENT GUIDE INVESTMENT OPPORTUNITIES INVESTMENT PROJECTS MULTIMEDIA S VIDEO AUDIO PHOTO HOME CONSULAR SERVICE O ZBEKCHA НА РУССКОМ IN ENGLISH BILETARIAL RELATION PRESS RELEASES EVENTS CONTACT US USEFUL LINKS 25 TH ANNIVERSARY OF INDEPENDENCE OF UZBEKISTAN ЛЕГКАЯ ПРОМЫШЛЕННОСТЬ УЗБЕКИСТАНА УКРЕПЛЯТЬ И РАСШИРЯТЬ ПОЗИЦИИ НА МИРОВОМ РЫНКЕ 7 МИЛЛИОНОВ ДОЛЛАРОВ И БОЛЕЕ 1 МИЛЛИАРДА ДОЛЛАРОВ СРАВНИТЕ ЭТИ ЦИФРЫ ПОЧУВСТВОВАЛИ РАЗНИЦУ А ТАК КАК ПЕРВАЯ ЦИФРА ПОКАЗЫВАЕТ ОБЪЕМ ЭКСПОРТА ТЕКСТИЛЬНОЙ И ШВЕЙНО ТРИКОТАЖНОЙ ПРОДУКЦИИ ОТЕЧЕСТВЕННЫХ ПРЕДПРИЯТИЙ В 1994 ГОДУ А ВТОРАЯ ХАРАКТЕРИЗУЕТ ТОТ ЖЕ ПОКАЗАТЕЛЬ НО УЖЕ ЗА 2015 ГОД ТО МОЖНО С ПОЛНОЙ УВЕРЕННОСТЬЮ СКАЗАТЬ ЧТО ЗА ГОДЫ НЕЗАВИСИМОСТИ ЛЕГКАЯ ПРОМЫШЛЕННОСТЬ УЗБЕКИСТАНА НЕ ТОЛЬКО УВЕРЕННО ВЫШЛА НА ВНЕШНИЙ РЫНОК НО И ЗАНЯЛА НА НЕМ ПРОЧНЫЕ ПОЗИЦИИ ПРОДОЛЖАЯ АКТИВНО НАРАЩИВАТЬ ЭКСПОРТНЫЙ ПОТЕНЦИАЛ ЧТОБЫ ЛУЧШЕ ПОНЯТЬ И ПО ДОСТОИНСТВУ ОЦЕНИТЬ ТУ ГРАНДИОЗНУЮ РАБОТУ КОТОРАЯ БЫЛА ПРОВЕДЕНА РУКОВОДСТВОМ РЕСПУБЛИКИ И ТРУЖЕНИКАМИ ОТРАСЛИ В ДАННОМ НАПРАВЛЕНИИ НАДО ВСПОМНИТЬ ПОЛОЖЕНИЕ СУЩЕСТВОВАВШЕЕ В ЛЕГКОЙ ПРОМЫШЛЕННОСТИ УЗБЕКИСТАНА В НАЧАЛЕ 90 Х ГОДОВ ПРОШЛОГО ВЕКА КАК ТО В ТЕ ВРЕМЕНА ДОВЕЛОСЬ ПРИСУТСТВОВАТЬ НА ВСТРЕЧЕ НАШИХ СПЕЦИАЛИСТОВ С ЗАРУБЕЖНЫМИ КОЛЛЕГАМИ ПРИЕХАВШИМИ В НАШУ СТРАНУ И ИНТЕРЕСОВАВШИМИСЯ КАК РАЗ СИТУАЦИЕЙ В РЯДЕ ОТРАСЛЕЙ В ТОМ ЧИСЛЕ В ЛЕГКОЙ ПРОМЫШЛЕННОСТИ А ТОЧНЕЕ ПРОИЗВОДСТВОМ ТЕКСТИЛЬНОЙ ПРОДУКЦИИ ОНИ НИКАК НЕ МОГЛИ ПОНЯТЬ ПОЧЕМУ В УЗБЕКИСТАНЕ ГДЕ ВЫРАЩИВАЕТСЯ СТОЛЬКО ХЛОПКА ПРАКТИЧЕСКИ НЕТ СОБСТВЕННЫХ ТКАНЕЙ ГОТОВОЙ ОДЕЖДЫ А НА РЫНКАХ ЛЮДЯМ ПРЕДЛАГАЮТ ИМПОРТНЫЙ ТОВАР ПРИЧЕМ СОМНИТЕЛЬНОГО КАЧЕСТВА ЭТОТ ВОПРОС ПОЧЕМУ ЧАЩЕ ВСЕГО ЗВУЧАЛ В ЗАЛЕ НАПРИМЕР ПОЧЕМУ В РЕСПУБЛИКЕ ЗАНИМАЮТСЯ В ОСНОВНОМ ТОЛЬКО ПОЛУЧЕНИЕМ ВОЛОКНА ИЗ ХЛОПКА СЫРЦА ИЛИ ПОЧЕМУ ИЗ ОБЩЕГО КОЛИЧЕСТВА ВЫРАБОТАННОГО ВОЛОКНА В ПРЯЖУ И ТКАНИ ПЕРЕРАБАТЫВАЕТСЯ ВСЕГО ЛИШЬ 10 ПРОЦЕНТОВ ПОЧЕМУ НА ЭКСПОРТ ОТПРАВЛЯЕТСЯ ТОЛЬКО ХЛОПКОВОЕ ВОЛОКНО А НЕ ГОТОВЫЕ ИЗДЕЛИЯ С БОЛЕЕ ВЫСОКОЙ ДОБАВЛЕННОЙ СТОИМОСТЬЮ ЧТО ГОРАЗДО ПРИБЫЛЬНЕЕ ПОЧЕМУ ОТПРАВЛЯЯ ВЫРАЩЕННЫЙ НЕЛЕГКИМ ТРУДОМ ХЛОПОК ЗА ПРЕДЕЛЫ РЕСПУБЛИКИ ТОТ ЖЕ ХЛОПКОРОБ ЗАТЕМ ВЫНУЖДЕН ПОКУПАТЬ РУБАШКУ ИЗ УЗБЕКСКОГО ХЛОПКА ЗА ГОРАЗДО БОЛЬШУЮ ЦЕНУ И ПОДОБНЫХ ВОПРОСОВ БЫЛО НЕМАЛО НАДО ОТДАТЬ ДОЛЖНОЕ НАШИМ СПЕЦИАЛИСТАМ ОНИ ПЫТАЛИСЬ ОТВЕТИТЬ НА ВСЕ ВОПРОСЫ ГОВОРИЛИ О ТОМ ЧТО В БЫВШЕМ СОЮЗЕ УЗБЕКИСТАНУ ОТВОДИЛАСЬ РОЛЬ ОСНОВНОГО ПРОИЗВОДИТЕЛЯ ХЛОПКА СЫРЦА И ПОСТАВЩИКА ХЛОПКОВОГО ВОЛОКНА ДЛЯ ДАЛЬНЕЙШЕЙ ПЕРЕРАБОТКИ В ДРУГИЕ РЕСПУБЛИКИ О ТОМ ЧТО ОБОРУДОВАНИЕ ИСПОЛЬЗУЕМОЕ НА НЕМНОГОЧИСЛЕННЫХ ТЕКСТИЛЬНЫХ ПРЕДПРИЯТИЯХ БЫЛО МОРАЛЬНО УСТАРЕВШИМ И ФИЗИЧЕСКИ ИЗНОШЕННЫМ ЧТО НЕ ПОЗВОЛЯЛО ВНЕДРЯТЬ НОВЫЕ ТЕХНОЛОГИИ И ВЫПУСКАТЬ КОНКУРЕНТОСПОСОБНУЮ ПРОДУКЦИЮ О ТОМ ЧТО ВОПРОСАМИ ЭКСПОРТА ЗАНИМАЛСЯ ЦЕНТР КОТОРЫЙ И ОПРЕДЕЛЯЛ ЧТО СКОЛЬКО И В КАКИЕ СТРАНЫ ОТПРАВЛЯТЬ А САМА РЕСПУБЛИКА НАПРЯМУЮ ОТ ЭКСПОРТА ХЛОПКОВОГО ВОЛОКНА ДОХОДОВ НЕ ПОЛУЧАЛА МОЖНО БЫЛО ПОСОЧУВСТВОВАТЬ СПЕЦИАЛИСТАМ В ЧАСТНОСТИ ИМ ХОРОШО БЫЛО ИЗВЕСТНО ЧТО РАСПОЛАГАЯ ХОРОШЕЙ СЫРЬЕВОЙ БАЗОЙ ВЫГОДНО РАЗВИВАТЬ ТЕКСТИЛЬНОЕ ПРОИЗВОДСТВО ЧТО НА ПРОИЗВОДСТВО ПРЯЖИ И ТКАНЕЙ ПРИХОДИТСЯ ОКОЛО 80 ПРОЦЕНТОВ ДОБАВЛЕННОЙ СТОИМОСТИ КОНЕЧНОЙ ТОВАРНОЙ ПРОДУКЦИИ ТОГДА КАК НА ПРОИЗВОДСТВО ХЛОПКА ВОЛОКНА ОКОЛО 10 ПРОЦЕНТОВ ТО ЕСТЬ СТРАНЫ ЭКСПОРТЕРЫ ПРЯЖИ И ТКАНЕЙ ПОЛУЧАЮТ ДОХОДЫ В ВОСЕМЬ РАЗ ПРЕВЫШАЮЩИЕ ДОХОД ОТ ЭКСПОРТА ХЛОПКОВОГО ВОЛОКНА А ЕСЛИ ЭКСПОРТИРОВАТЬ ГОТОВУЮ ОДЕЖДУ ТО ДОХОДЫ ВЫРАСТУТ ЕЩЕ БОЛЬШЕ НО В ТЕ ВРЕМЕНА И В ТЕХ УСЛОВИЯХ ОПРЕДЕЛЕННЫХ БЫВШЕЙ КОМАНДНО АДМИНИСТРАТИВНОЙ СИСТЕМОЙ РЕШЕНИЯ ПРИНИМАЛИСЬ НЕ НА МЕСТАХ В СОЮЗНЫХ РЕСПУБЛИКАХ А В ТАК НАЗЫВАЕМОМ ЦЕНТРЕ СИТУАЦИЯ КАРДИНАЛЬНО ИЗМЕНИЛАСЬ ПОСЛЕ ОБРЕТЕНИЯ УЗБЕКИСТАНОМ НЕЗАВИСИМОСТИ РАЗРАБОТКИ И НАЧАЛА РЕАЛИЗАЦИИ ЦЕЛЕНАПРАВЛЕННОЙ СИСТЕМНОЙ ГОСУДАРСТВЕННОЙ ПРОМЫШЛЕННОЙ ПОЛИТИКИ НАЦЕЛЕННОЙ НА ДИВЕРСИФИКАЦИЮ И МОДЕРНИЗАЦИЮ ПОВЫШЕНИЕ КОНКУРЕНТОСПОСОБНОСТИ ОТЕЧЕСТВЕННОЙ ЭКОНОМИКИ ПОДДЕРЖКУ РАЗВИТИЯ ВЕДУЩИХ ОТРАСЛЕЙ В ТОМ ЧИСЛЕ ПО НАРАЩИВАНИЮ ИХ ЭКСПОРТНОГО ПОТЕНЦИАЛА ЗА СЧЕТ УГЛУБЛЕНИЯ ПЕРЕРАБОТКИ МЕСТНОГО СЫРЬЯ ПОСЛЕДОВАТЕЛЬНАЯ И ПЛАНОМЕРНАЯ ПЕРЕОРИЕНТАЦИЯ ЭКСПОРТА С СЫРЬЯ НА ГОТОВУЮ ПРОДУКЦИЮ С ВЫСОКОЙ ДОБАВЛЕННОЙ СТОИМОСТЬЮ ПОЗВОЛИЛА СФОРМИРОВАТЬ НОВУЮ СТРАТЕГИЮ РАЗВИТИЯ ЛЕГКОЙ ПРОМЫШЛЕННОСТИ НАЦЕЛЕННУЮ НА ПЕРСПЕКТИВУ МОЩНЫЙ ИМПУЛЬС НОВОМУ ЭТАПУ РАЗВИТИЯ ОТРАСЛИ ПРИДАЛИ ПРИНЯТЫЕ В РАЗНЫЕ ГОДЫ РУКОВОДСТВОМ РЕСПУБЛИКИ ПРОГРАММНЫЕ'\n",
        "stemmer_en = nltk.SnowballStemmer(\"english\")\n",
        "stemmer_ru = nltk.SnowballStemmer(\"russian\")\n",
        "\n",
        "russian_stopwords = stopwords.words(\"russian\")\n",
        "\n",
        "\n",
        "# print([stemmer_ru.stem(word) for word in test_sen.split() if stemmer_ru.stem(word) not in stopwords.words(\"russian\") ])\n",
        "stemmed_sentence = [stemmer_ru.stem(word) for word in test_sen.split()]\n",
        "tokens = [token for token in stemmed_sentence if token not in russian_stopwords\\\n",
        "            and token.strip() not in punctuation]\n",
        "print(' '.join(tokens))\n"
      ],
      "execution_count": 68,
      "outputs": [
        {
          "output_type": "stream",
          "text": [
            "OFFICE HOURS SATURDAY THURSDAY 8 AM 5 PM CONSULAR SECTION TUESDAY THURSDAY AND SUNDAY 9 AM 1 PM EMERGENCY ASSISTANCE ADDRESS STREET 3 COMMUNITY 314 UMM HURAIR FIRST BUR DUBAI A DUBAI UAE MAKANI NUMBER 29820 94373 TEL 9714 370 60 60 FAX 9714 370 60 63 E MAIL UZBEKCONSULATE AE MAIL RU P O BOX 50478 LOCATION MAP CONSULATE GENERAL OF THE REPUBLIC OF UZBEKISTAN IN DUBAI UAE PROFILE OF UZBEKISTAN STATE SYMBOLS CONSTITUTION PRESIDENT HISTORY PEOPLE CULTURE ECOLOGY NATIONAL HOLIDAYS ECONOMY DEVELOPMENT OF INTERNATIONAL RELATIONS TRAVELING TO UZBEKISTAN INVITATION TO UZBEKISTAN TOURISM IN UZBEKISTAN HISTORICAL PLACES TOUR COMPANIES HOTELS IN UZBEKISTAN BUSINESS IN UZBEKISTAN WHY UZBEKISTAN INVESTMENT GUIDE INVESTMENT OPPORTUNITIES INVESTMENT PROJECTS MULTIME S VIDEO AUDIO PHOTO HOME CONSULAR SERVICE O ZBEK русск IN ENGLISH BILETARIAL RELATION PRESS RELEASES EVENTS CONTACT US USEFUL LINKS 25 TH ANNIVERSARY OF INDEPENDENCE OF UZBEKISTAN легк промышлен узбекиста укрепля расширя позиц миров рынк 7 миллион доллар бол 1 миллиард доллар сравн эт цифр почувствова разниц перв цифр показыва обь экспорт текстильн швейн трикотажн продукц отечествен предприят 1994 год втор характериз показател 2015 год можн полн уверен сказа год независим легк промышлен узбекиста тольк уверен вышл внешн рынок заня нем прочн позиц продолж активн наращива экспортн потенциа лучш поня достоинств оцен ту грандиозн работ котор провед руководств республик труженик отрасл дан направлен вспомн положен существова легк промышлен узбекиста начал 90 х год прошл век те врем довел присутствова встреч наш специалист зарубежн коллег приеха наш стран интересова ситуац ряд отрасл числ легк промышлен точн производств текстильн продукц никак могл поня поч узбекистан выращива стольк хлопк практическ собствен ткан готов одежд рынк люд предлага импортн товар прич сомнительн качеств вопрос поч чащ всег звуча зал например поч республик занима основн тольк получен волокн хлопк сырц ил поч общ количеств выработа волокн пряж ткан перерабатыва всег лиш 10 процент поч экспорт отправля тольк хлопков волокн готов издел бол высок добавлен стоимост горазд прибыльн поч отправл выращен нелегк труд хлопок предел республик хлопкороб зат вынужд покупа рубашк узбекск хлопк горазд больш цен подобн вопрос нема отда должн наш специалист пыта ответ вопрос говор бывш союз узбекистан отвод рол основн производител хлопк сырц поставщик хлопков волокн дальн переработк друг республик оборудован используем немногочислен текстильн предприят моральн устаревш физическ изношен позволя внедря нов технолог выпуска конкурентоспособн продукц вопрос экспорт занима центр котор определя скольк стран отправля республик напрям экспорт хлопков волокн доход получа можн посочувствова специалист частност хорош известн располаг хорош сырьев баз выгодн развива текстильн производств производств пряж ткан приход окол 80 процент добавлен стоимост конечн товарн продукц тогд производств хлопк волокн окол 10 процент ест стран экспортер пряж ткан получа доход восем превыша доход экспорт хлопков волокн есл экспортирова готов одежд доход вырастут ещ больш те врем тех услов определен бывш командн административн систем решен принима мест союзн республик называ центр ситуац кардинальн измен посл обретен узбекистан независим разработк нача реализац целенаправлен системн государствен промышлен политик нацелен диверсификац модернизац повышен конкурентоспособн отечествен экономик поддержк развит ведущ отрасл числ наращиван экспортн потенциа счет углублен переработк местн сыр последовательн планомерн переориентац экспорт сыр готов продукц высок добавлен стоимост позвол сформирова нов стратег развит легк промышлен нацелен перспектив мощн импульс нов этап развит отрасл прида принят разн год руководств республик программн\n"
          ],
          "name": "stdout"
        }
      ]
    },
    {
      "cell_type": "code",
      "metadata": {
        "id": "Hs2cdoQu85ZO",
        "colab_type": "code",
        "colab": {
          "base_uri": "https://localhost:8080/",
          "height": 54
        },
        "outputId": "2c7fcf76-08fd-440a-c4a7-02c82f560334"
      },
      "source": [
        "# Incase teacher allows lemmatizer\n",
        "# morph = pymorphy2.MorphAnalyzer()\n",
        "\n",
        "# for word in test_sen.split():\n",
        "#     p = morph.parse(word)[0]\n",
        "#     print(p.normal_form, end=\" \")"
      ],
      "execution_count": 43,
      "outputs": [
        {
          "output_type": "stream",
          "text": [
            "office hours saturday thursday 8 am 5 pm consular section tuesday thursday and sunday 9 am 1 pm emergency assistance address street 3 community 314 umm hurair first bur dubai area dubai uae makani number 29820 94373 tel 9714 370 60 60 fax 9714 370 60 63 e mail uzbekconsulate ae mail ru p o box 50478 location map consulate general of the republic of uzbekistan in dubai uae profile of uzbekistan state symbols constitution president history people culture ecology national holidays economy development of international relations traveling to uzbekistan invitation to uzbekistan tourism in uzbekistan historical places tour companies hotels in uzbekistan business in uzbekistan why uzbekistan investment guide investment opportunities investment projects multimedia s video audio photo home consular service o zbekcha на русский in english biletarial relation press releases events contact us useful links 25 th anniversary of independence of uzbekistan лёгкий промышленность узбекистан укреплять и расширять позиция на мировой рынок 7 миллион доллар и более 1 миллиард доллар сравнить этот цифра почувствовать разница а так как один цифра показывать объесть экспорт текстильный и швейный трикотажный продукция отечественный предприятие в 1994 год а два характеризовать тот же показатель но уже за 2015 год то можно с полный уверенность сказать что за год независимость лёгкий промышленность узбекистан не только уверенно выйти на внешний рынок но и занять на немой прочный позиция продолжать активно наращивать экспортный потенциал чтобы хороший понять и по достоинство оценить тот грандиозный работа который быть провести руководство республика и труженик отрасль в дать направление надо вспомнить положение существовать в лёгкий промышленность узбекистан в начало 90 х год прошлое век как то в тот время довестись присутствовать на встреча наш специалист с зарубежный коллега приехать в наш страна и интересоваться как раз ситуация в ряд отрасль в тот число в лёгкий промышленность а точнее производство текстильный продукция они никак не мочь понять почему в узбекистан где выращиваться столько хлопок практически нет собственный ткань готовый одежда а на рынок человек предлагать импортный товар причём сомнительный качество этот вопрос почему чаща всего звучать в зал например почему в республика заниматься в основное только получение волокно из хлопок сырца или почему из общий количество выработать волокно в пряжа и ткань перерабатываться всего лишь 10 процент почему на экспорт отправляться только хлопковый волокно а не готовый изделие с более высокий добавить стоимость что гораздо прибыльный почему отправлять вырастить нелёгкая труд хлопок за предел республика тот же хлопкороб затем вынужденный покупать рубашка из узбекский хлопок за гораздо большой цена и подобный вопрос быть немало надо отдать должное наш специалист они пытаться ответить на весь вопрос говорить о тот что в бывший союз узбекистан отводиться роль основный производитель хлопок сырца и поставщик хлопковый волокно для дальнейший переработка в другой республика о тот что оборудование использовать на немногочисленный текстильный предприятие быть морально устаревший и физически изношенный что не позволять внедрять новое технология и выпускать конкурентоспособный продукция о тот что вопрос экспорт заниматься центр который и определять что сколько и в какой страна отправлять а сам республика напрямую от экспорт хлопковый волокно доход не получать можно быть посочувствовать специалист в частность имя хорошо быть известно что располагать хорошеть сырьевой база выгодно развивать текстильный производство что на производство пряжа и ткань приходиться около 80 процент добавить стоимость конечный товарный продукция тогда как на производство хлопок волокно около 10 процент то есть страна экспортёр пряжа и ткань получать доход в восемь раз превышать доход от экспорт хлопковый волокно а если экспортировать готовый одежда то доход вырасти ещё большой но в тот время и в тот условие определённый бывший командный административный система решение приниматься не на место в союзный республика а в так называть центр ситуация кардинально измениться после обретение узбекистан независимость разработка и начало реализация целенаправленный системный государственный промышленный политика нацелить на диверсификация и модернизация повышение конкурентоспособность отечественный экономика поддержка развитие ведущий отрасль в тот число по наращивание они экспортный потенциал за счёт углубление переработка местный сырьё последовательный и планомерный переориентация экспорт с сырьё на готовый продукция с высокий добавить стоимость позволить сформировать новый стратегия развитие лёгкий промышленность нацелить на перспектива мощный импульс новый этап развитие отрасль придать принять в разный год руководство республика программный "
          ],
          "name": "stdout"
        }
      ]
    },
    {
      "cell_type": "markdown",
      "metadata": {
        "id": "wlThpXYatF7m",
        "colab_type": "text"
      },
      "source": [
        "## Implementation of Inverted Index"
      ]
    },
    {
      "cell_type": "code",
      "metadata": {
        "id": "RLXSpIMUoNcf",
        "colab_type": "code",
        "colab": {}
      },
      "source": [
        "class InvertedIndexer:\n",
        "    \"\"\"\n",
        "    This class makes inverted index\n",
        "    \"\"\"\n",
        "\n",
        "    def __init__(self, filename=False):\n",
        "        self.filename = filename\n",
        "        self.stemmer_ru = nltk.SnowballStemmer(\"russian\")\n",
        "        self.stopwords = stopwords.words(\"russian\")\n",
        "        self.punctuation = punctuation # from string import punctuation\n",
        "        if filename:\n",
        "            self.inverted_index = self._build_index(self.filename)\n",
        "        else:\n",
        "            self.inverted_index = {}\n",
        "\n",
        "    def preprocess(self, sentence):\n",
        "        \"\"\"\n",
        "        Method to remove stop words stem the sentence and return tokens\n",
        "        \"\"\"\n",
        "        stemmed_sentence = [self.stemmer_ru.stem(word) for word in sentence.lower().split()]\n",
        "        tokens = [token for token in stemmed_sentence if token not in self.stopwords\\\n",
        "                  and token.strip() not in self.punctuation]\n",
        "    \n",
        "        return tokens\n",
        "\n",
        "    def _build_index(self, indexing_data_location):\n",
        "        inverted_index = {}\n",
        "        with gzip.open(indexing_data_location, \"rb\") as f:\n",
        "            i = 0\n",
        "            line = f.readline().decode().split('\\t')\n",
        "            while(line):\n",
        "                if i ==5:\n",
        "                    break\n",
        "                file_number = line[0]\n",
        "                subject = line[1]\n",
        "                text = line[2]\n",
        "                line = subject + ' ' + text\n",
        "                \n",
        "                for word in self.preprocess(line):\n",
        "                    if inverted_index.get(word, None) is None:\n",
        "                        inverted_index[word] = {file_number}\n",
        "                    else:\n",
        "                        inverted_index[word].add(file_number)\n",
        "                line = f.readline().decode().split('\\t')\n",
        "                i += 1\n",
        "            return inverted_index\n",
        "    \n",
        "    def save(self, filename_to_save):\n",
        "        with open(filename_to_save, mode='wb') as f:\n",
        "            pickle.dump(self.inverted_index, f)\n",
        "\n",
        "    def load(self, filelocation_to_load):\n",
        "        with open(filelocation_to_load, mode='rb') as f:\n",
        "            self.inverted_index = pickle.load(f)\n",
        "\n",
        "\n",
        "    "
      ],
      "execution_count": 0,
      "outputs": []
    },
    {
      "cell_type": "code",
      "metadata": {
        "id": "UPkWJjOFLPmW",
        "colab_type": "code",
        "colab": {}
      },
      "source": [
        "hw1 = InvertedIndexer(indexing_data_location)\n",
        "hw1.inverted_index\n",
        "hw1.save('inverted_index.p')"
      ],
      "execution_count": 0,
      "outputs": []
    },
    {
      "cell_type": "code",
      "metadata": {
        "id": "Kas0byg7tEUx",
        "colab_type": "code",
        "colab": {}
      },
      "source": [
        "class SolutionPredictor:\n",
        "    \"\"\"\n",
        "    This classes uses object of Hw1SolutionIndexer\n",
        "    to make boolean search\n",
        "    \"\"\"\n",
        "    def __init__(self, indexer):\n",
        "        \"\"\"\n",
        "        indexer : object of class Hw1SolutionIndexer\n",
        "        \"\"\"\n",
        "        self.indexer = indexer\n",
        "        self.dictionary = indexer.inverted_index.keys()\n",
        "\n",
        "    \n",
        "    def find_docs(self, query):\n",
        "        \"\"\"\n",
        "        This method provides booleaen search\n",
        "        query : string with text of query\n",
        "        Returns Python set with documents which contain query words\n",
        "        Should return maximum 100 docs\n",
        "        \"\"\"\n",
        "        # Your code is here\n",
        "        tokens = self.indexer.preprocess(query)\n",
        "        docs_list = None\n",
        "        for word in tokens:\n",
        "        if docs_list is None:\n",
        "            docs_list = inverted_index.get(word)\n",
        "        else:\n",
        "            docs_list.intersection_update(inverted_index.get(word))\n",
        "        return docs_list\n"
      ],
      "execution_count": 0,
      "outputs": []
    }
  ]
}