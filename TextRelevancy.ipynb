{
  "nbformat": 4,
  "nbformat_minor": 0,
  "metadata": {
    "colab": {
      "name": "Untitled9.ipynb",
      "provenance": [],
      "toc_visible": true,
      "machine_shape": "hm",
      "include_colab_link": true
    },
    "kernelspec": {
      "name": "python3",
      "display_name": "Python 3"
    },
    "widgets": {
      "application/vnd.jupyter.widget-state+json": {
        "8a80079cc37e4a60b9ab448277c7c967": {
          "model_module": "@jupyter-widgets/controls",
          "model_name": "HBoxModel",
          "state": {
            "_view_name": "HBoxView",
            "_dom_classes": [],
            "_model_name": "HBoxModel",
            "_view_module": "@jupyter-widgets/controls",
            "_model_module_version": "1.5.0",
            "_view_count": null,
            "_view_module_version": "1.5.0",
            "box_style": "",
            "layout": "IPY_MODEL_3e3345b2f7c84555922ed0e4af33bd0a",
            "_model_module": "@jupyter-widgets/controls",
            "children": [
              "IPY_MODEL_aa9cbe5bd51b45d988e6fde715f938dd",
              "IPY_MODEL_f3f419abbb6945468ee7d6e55dc42ab7"
            ]
          }
        },
        "3e3345b2f7c84555922ed0e4af33bd0a": {
          "model_module": "@jupyter-widgets/base",
          "model_name": "LayoutModel",
          "state": {
            "_view_name": "LayoutView",
            "grid_template_rows": null,
            "right": null,
            "justify_content": null,
            "_view_module": "@jupyter-widgets/base",
            "overflow": null,
            "_model_module_version": "1.2.0",
            "_view_count": null,
            "flex_flow": null,
            "width": null,
            "min_width": null,
            "border": null,
            "align_items": null,
            "bottom": null,
            "_model_module": "@jupyter-widgets/base",
            "top": null,
            "grid_column": null,
            "overflow_y": null,
            "overflow_x": null,
            "grid_auto_flow": null,
            "grid_area": null,
            "grid_template_columns": null,
            "flex": null,
            "_model_name": "LayoutModel",
            "justify_items": null,
            "grid_row": null,
            "max_height": null,
            "align_content": null,
            "visibility": null,
            "align_self": null,
            "height": null,
            "min_height": null,
            "padding": null,
            "grid_auto_rows": null,
            "grid_gap": null,
            "max_width": null,
            "order": null,
            "_view_module_version": "1.2.0",
            "grid_template_areas": null,
            "object_position": null,
            "object_fit": null,
            "grid_auto_columns": null,
            "margin": null,
            "display": null,
            "left": null
          }
        },
        "aa9cbe5bd51b45d988e6fde715f938dd": {
          "model_module": "@jupyter-widgets/controls",
          "model_name": "FloatProgressModel",
          "state": {
            "_view_name": "ProgressView",
            "style": "IPY_MODEL_5f42f4aa57a94722b78df9f02dc35aa9",
            "_dom_classes": [],
            "description": "",
            "_model_name": "FloatProgressModel",
            "bar_style": "success",
            "max": 1,
            "_view_module": "@jupyter-widgets/controls",
            "_model_module_version": "1.5.0",
            "value": 1,
            "_view_count": null,
            "_view_module_version": "1.5.0",
            "orientation": "horizontal",
            "min": 0,
            "description_tooltip": null,
            "_model_module": "@jupyter-widgets/controls",
            "layout": "IPY_MODEL_4599876378aa45719ec5e427f5ad9a77"
          }
        },
        "f3f419abbb6945468ee7d6e55dc42ab7": {
          "model_module": "@jupyter-widgets/controls",
          "model_name": "HTMLModel",
          "state": {
            "_view_name": "HTMLView",
            "style": "IPY_MODEL_dfd5452c1cac4f859d88d28000b5465f",
            "_dom_classes": [],
            "description": "",
            "_model_name": "HTMLModel",
            "placeholder": "​",
            "_view_module": "@jupyter-widgets/controls",
            "_model_module_version": "1.5.0",
            "value": " 400/? [09:28&lt;00:00,  1.42s/it]",
            "_view_count": null,
            "_view_module_version": "1.5.0",
            "description_tooltip": null,
            "_model_module": "@jupyter-widgets/controls",
            "layout": "IPY_MODEL_bcb8a7aa7e50461d9125a0b268211327"
          }
        },
        "5f42f4aa57a94722b78df9f02dc35aa9": {
          "model_module": "@jupyter-widgets/controls",
          "model_name": "ProgressStyleModel",
          "state": {
            "_view_name": "StyleView",
            "_model_name": "ProgressStyleModel",
            "description_width": "initial",
            "_view_module": "@jupyter-widgets/base",
            "_model_module_version": "1.5.0",
            "_view_count": null,
            "_view_module_version": "1.2.0",
            "bar_color": null,
            "_model_module": "@jupyter-widgets/controls"
          }
        },
        "4599876378aa45719ec5e427f5ad9a77": {
          "model_module": "@jupyter-widgets/base",
          "model_name": "LayoutModel",
          "state": {
            "_view_name": "LayoutView",
            "grid_template_rows": null,
            "right": null,
            "justify_content": null,
            "_view_module": "@jupyter-widgets/base",
            "overflow": null,
            "_model_module_version": "1.2.0",
            "_view_count": null,
            "flex_flow": null,
            "width": null,
            "min_width": null,
            "border": null,
            "align_items": null,
            "bottom": null,
            "_model_module": "@jupyter-widgets/base",
            "top": null,
            "grid_column": null,
            "overflow_y": null,
            "overflow_x": null,
            "grid_auto_flow": null,
            "grid_area": null,
            "grid_template_columns": null,
            "flex": null,
            "_model_name": "LayoutModel",
            "justify_items": null,
            "grid_row": null,
            "max_height": null,
            "align_content": null,
            "visibility": null,
            "align_self": null,
            "height": null,
            "min_height": null,
            "padding": null,
            "grid_auto_rows": null,
            "grid_gap": null,
            "max_width": null,
            "order": null,
            "_view_module_version": "1.2.0",
            "grid_template_areas": null,
            "object_position": null,
            "object_fit": null,
            "grid_auto_columns": null,
            "margin": null,
            "display": null,
            "left": null
          }
        },
        "dfd5452c1cac4f859d88d28000b5465f": {
          "model_module": "@jupyter-widgets/controls",
          "model_name": "DescriptionStyleModel",
          "state": {
            "_view_name": "StyleView",
            "_model_name": "DescriptionStyleModel",
            "description_width": "",
            "_view_module": "@jupyter-widgets/base",
            "_model_module_version": "1.5.0",
            "_view_count": null,
            "_view_module_version": "1.2.0",
            "_model_module": "@jupyter-widgets/controls"
          }
        },
        "bcb8a7aa7e50461d9125a0b268211327": {
          "model_module": "@jupyter-widgets/base",
          "model_name": "LayoutModel",
          "state": {
            "_view_name": "LayoutView",
            "grid_template_rows": null,
            "right": null,
            "justify_content": null,
            "_view_module": "@jupyter-widgets/base",
            "overflow": null,
            "_model_module_version": "1.2.0",
            "_view_count": null,
            "flex_flow": null,
            "width": null,
            "min_width": null,
            "border": null,
            "align_items": null,
            "bottom": null,
            "_model_module": "@jupyter-widgets/base",
            "top": null,
            "grid_column": null,
            "overflow_y": null,
            "overflow_x": null,
            "grid_auto_flow": null,
            "grid_area": null,
            "grid_template_columns": null,
            "flex": null,
            "_model_name": "LayoutModel",
            "justify_items": null,
            "grid_row": null,
            "max_height": null,
            "align_content": null,
            "visibility": null,
            "align_self": null,
            "height": null,
            "min_height": null,
            "padding": null,
            "grid_auto_rows": null,
            "grid_gap": null,
            "max_width": null,
            "order": null,
            "_view_module_version": "1.2.0",
            "grid_template_areas": null,
            "object_position": null,
            "object_fit": null,
            "grid_auto_columns": null,
            "margin": null,
            "display": null,
            "left": null
          }
        },
        "42faa26d38f841e4862f390f14321ecf": {
          "model_module": "@jupyter-widgets/controls",
          "model_name": "HBoxModel",
          "state": {
            "_view_name": "HBoxView",
            "_dom_classes": [],
            "_model_name": "HBoxModel",
            "_view_module": "@jupyter-widgets/controls",
            "_model_module_version": "1.5.0",
            "_view_count": null,
            "_view_module_version": "1.5.0",
            "box_style": "",
            "layout": "IPY_MODEL_581d60c3218f4181a75995fde5a46e19",
            "_model_module": "@jupyter-widgets/controls",
            "children": [
              "IPY_MODEL_13e7cf9691244cfbba3dcecafa3099c3",
              "IPY_MODEL_5daea8fdac1f46968bf328b549b1f345"
            ]
          }
        },
        "581d60c3218f4181a75995fde5a46e19": {
          "model_module": "@jupyter-widgets/base",
          "model_name": "LayoutModel",
          "state": {
            "_view_name": "LayoutView",
            "grid_template_rows": null,
            "right": null,
            "justify_content": null,
            "_view_module": "@jupyter-widgets/base",
            "overflow": null,
            "_model_module_version": "1.2.0",
            "_view_count": null,
            "flex_flow": null,
            "width": null,
            "min_width": null,
            "border": null,
            "align_items": null,
            "bottom": null,
            "_model_module": "@jupyter-widgets/base",
            "top": null,
            "grid_column": null,
            "overflow_y": null,
            "overflow_x": null,
            "grid_auto_flow": null,
            "grid_area": null,
            "grid_template_columns": null,
            "flex": null,
            "_model_name": "LayoutModel",
            "justify_items": null,
            "grid_row": null,
            "max_height": null,
            "align_content": null,
            "visibility": null,
            "align_self": null,
            "height": null,
            "min_height": null,
            "padding": null,
            "grid_auto_rows": null,
            "grid_gap": null,
            "max_width": null,
            "order": null,
            "_view_module_version": "1.2.0",
            "grid_template_areas": null,
            "object_position": null,
            "object_fit": null,
            "grid_auto_columns": null,
            "margin": null,
            "display": null,
            "left": null
          }
        },
        "13e7cf9691244cfbba3dcecafa3099c3": {
          "model_module": "@jupyter-widgets/controls",
          "model_name": "FloatProgressModel",
          "state": {
            "_view_name": "ProgressView",
            "style": "IPY_MODEL_4b9aec8494ce4197bc564496267d2f8d",
            "_dom_classes": [],
            "description": "",
            "_model_name": "FloatProgressModel",
            "bar_style": "success",
            "max": 1,
            "_view_module": "@jupyter-widgets/controls",
            "_model_module_version": "1.5.0",
            "value": 1,
            "_view_count": null,
            "_view_module_version": "1.5.0",
            "orientation": "horizontal",
            "min": 0,
            "description_tooltip": null,
            "_model_module": "@jupyter-widgets/controls",
            "layout": "IPY_MODEL_2dfb411b8b0f4a449219403a882727ff"
          }
        },
        "5daea8fdac1f46968bf328b549b1f345": {
          "model_module": "@jupyter-widgets/controls",
          "model_name": "HTMLModel",
          "state": {
            "_view_name": "HTMLView",
            "style": "IPY_MODEL_74eb78d318c74c2e9f1bbe872cf4e93d",
            "_dom_classes": [],
            "description": "",
            "_model_name": "HTMLModel",
            "placeholder": "​",
            "_view_module": "@jupyter-widgets/controls",
            "_model_module_version": "1.5.0",
            "value": " 400/? [04:48&lt;00:00,  1.38it/s]",
            "_view_count": null,
            "_view_module_version": "1.5.0",
            "description_tooltip": null,
            "_model_module": "@jupyter-widgets/controls",
            "layout": "IPY_MODEL_fa7ed3ef61c84e0284918cc86b3a7528"
          }
        },
        "4b9aec8494ce4197bc564496267d2f8d": {
          "model_module": "@jupyter-widgets/controls",
          "model_name": "ProgressStyleModel",
          "state": {
            "_view_name": "StyleView",
            "_model_name": "ProgressStyleModel",
            "description_width": "initial",
            "_view_module": "@jupyter-widgets/base",
            "_model_module_version": "1.5.0",
            "_view_count": null,
            "_view_module_version": "1.2.0",
            "bar_color": null,
            "_model_module": "@jupyter-widgets/controls"
          }
        },
        "2dfb411b8b0f4a449219403a882727ff": {
          "model_module": "@jupyter-widgets/base",
          "model_name": "LayoutModel",
          "state": {
            "_view_name": "LayoutView",
            "grid_template_rows": null,
            "right": null,
            "justify_content": null,
            "_view_module": "@jupyter-widgets/base",
            "overflow": null,
            "_model_module_version": "1.2.0",
            "_view_count": null,
            "flex_flow": null,
            "width": null,
            "min_width": null,
            "border": null,
            "align_items": null,
            "bottom": null,
            "_model_module": "@jupyter-widgets/base",
            "top": null,
            "grid_column": null,
            "overflow_y": null,
            "overflow_x": null,
            "grid_auto_flow": null,
            "grid_area": null,
            "grid_template_columns": null,
            "flex": null,
            "_model_name": "LayoutModel",
            "justify_items": null,
            "grid_row": null,
            "max_height": null,
            "align_content": null,
            "visibility": null,
            "align_self": null,
            "height": null,
            "min_height": null,
            "padding": null,
            "grid_auto_rows": null,
            "grid_gap": null,
            "max_width": null,
            "order": null,
            "_view_module_version": "1.2.0",
            "grid_template_areas": null,
            "object_position": null,
            "object_fit": null,
            "grid_auto_columns": null,
            "margin": null,
            "display": null,
            "left": null
          }
        },
        "74eb78d318c74c2e9f1bbe872cf4e93d": {
          "model_module": "@jupyter-widgets/controls",
          "model_name": "DescriptionStyleModel",
          "state": {
            "_view_name": "StyleView",
            "_model_name": "DescriptionStyleModel",
            "description_width": "",
            "_view_module": "@jupyter-widgets/base",
            "_model_module_version": "1.5.0",
            "_view_count": null,
            "_view_module_version": "1.2.0",
            "_model_module": "@jupyter-widgets/controls"
          }
        },
        "fa7ed3ef61c84e0284918cc86b3a7528": {
          "model_module": "@jupyter-widgets/base",
          "model_name": "LayoutModel",
          "state": {
            "_view_name": "LayoutView",
            "grid_template_rows": null,
            "right": null,
            "justify_content": null,
            "_view_module": "@jupyter-widgets/base",
            "overflow": null,
            "_model_module_version": "1.2.0",
            "_view_count": null,
            "flex_flow": null,
            "width": null,
            "min_width": null,
            "border": null,
            "align_items": null,
            "bottom": null,
            "_model_module": "@jupyter-widgets/base",
            "top": null,
            "grid_column": null,
            "overflow_y": null,
            "overflow_x": null,
            "grid_auto_flow": null,
            "grid_area": null,
            "grid_template_columns": null,
            "flex": null,
            "_model_name": "LayoutModel",
            "justify_items": null,
            "grid_row": null,
            "max_height": null,
            "align_content": null,
            "visibility": null,
            "align_self": null,
            "height": null,
            "min_height": null,
            "padding": null,
            "grid_auto_rows": null,
            "grid_gap": null,
            "max_width": null,
            "order": null,
            "_view_module_version": "1.2.0",
            "grid_template_areas": null,
            "object_position": null,
            "object_fit": null,
            "grid_auto_columns": null,
            "margin": null,
            "display": null,
            "left": null
          }
        }
      }
    }
  },
  "cells": [
    {
      "cell_type": "markdown",
      "metadata": {
        "id": "view-in-github",
        "colab_type": "text"
      },
      "source": [
        "<a href=\"https://colab.research.google.com/github/shivammehta007/Information-Retrieval/blob/master/TextRelevancy.ipynb\" target=\"_parent\"><img src=\"https://colab.research.google.com/assets/colab-badge.svg\" alt=\"Open In Colab\"/></a>"
      ]
    },
    {
      "cell_type": "markdown",
      "metadata": {
        "id": "INVg1ZIxyPLf",
        "colab_type": "text"
      },
      "source": [
        "# Text Relevancy Without Boolean Search"
      ]
    },
    {
      "cell_type": "markdown",
      "metadata": {
        "id": "KzJfuffGyVAn",
        "colab_type": "text"
      },
      "source": [
        "### Some Operations for Google Colab\n",
        "Mounting Drive and Downloading Data From Kaggle"
      ]
    },
    {
      "cell_type": "code",
      "metadata": {
        "id": "29_ar-4nx13B",
        "colab_type": "code",
        "colab": {
          "base_uri": "https://localhost:8080/",
          "height": 34
        },
        "outputId": "4db23776-98eb-4a9a-cbe5-8c15165a0246"
      },
      "source": [
        "from google.colab import drive\n",
        "drive.mount('/content/drive', force_remount=True)"
      ],
      "execution_count": 1,
      "outputs": [
        {
          "output_type": "stream",
          "text": [
            "Mounted at /content/drive\n"
          ],
          "name": "stdout"
        }
      ]
    },
    {
      "cell_type": "code",
      "metadata": {
        "id": "BRUn75ZDye9_",
        "colab_type": "code",
        "colab": {
          "base_uri": "https://localhost:8080/",
          "height": 340
        },
        "outputId": "05f38b61-2ddc-4d6f-de9c-52e24e0a4853"
      },
      "source": [
        "# Download Data\n",
        "!pip install kaggle\n",
        "import json\n",
        "import os\n",
        "\n",
        "with open('/content/drive/My Drive/kaggle.json') as kc:\n",
        "    kaggle_config = json.load(kc)\n",
        "\n",
        "os.environ['KAGGLE_USERNAME'] = kaggle_config['username'] \n",
        "os.environ['KAGGLE_KEY'] = kaggle_config['key'] \n",
        "\n",
        "!kaggle competitions download -c text-relevance-competition-ir-2-itmo-fall-2019\n",
        "!unzip docs.tsv.zip\n",
        "!rm docs.tsv.zip"
      ],
      "execution_count": 2,
      "outputs": [
        {
          "output_type": "stream",
          "text": [
            "Requirement already satisfied: kaggle in /usr/local/lib/python3.6/dist-packages (1.5.6)\n",
            "Requirement already satisfied: certifi in /usr/local/lib/python3.6/dist-packages (from kaggle) (2019.11.28)\n",
            "Requirement already satisfied: python-slugify in /usr/local/lib/python3.6/dist-packages (from kaggle) (4.0.0)\n",
            "Requirement already satisfied: python-dateutil in /usr/local/lib/python3.6/dist-packages (from kaggle) (2.6.1)\n",
            "Requirement already satisfied: requests in /usr/local/lib/python3.6/dist-packages (from kaggle) (2.21.0)\n",
            "Requirement already satisfied: tqdm in /usr/local/lib/python3.6/dist-packages (from kaggle) (4.41.1)\n",
            "Requirement already satisfied: six>=1.10 in /usr/local/lib/python3.6/dist-packages (from kaggle) (1.12.0)\n",
            "Requirement already satisfied: urllib3<1.25,>=1.21.1 in /usr/local/lib/python3.6/dist-packages (from kaggle) (1.24.3)\n",
            "Requirement already satisfied: text-unidecode>=1.3 in /usr/local/lib/python3.6/dist-packages (from python-slugify->kaggle) (1.3)\n",
            "Requirement already satisfied: chardet<3.1.0,>=3.0.2 in /usr/local/lib/python3.6/dist-packages (from requests->kaggle) (3.0.4)\n",
            "Requirement already satisfied: idna<2.9,>=2.5 in /usr/local/lib/python3.6/dist-packages (from requests->kaggle) (2.8)\n",
            "Warning: Looks like you're using an outdated API Version, please consider updating (server 1.5.6 / client 1.5.4)\n",
            "queries.numerate.txt: Skipping, found more recently modified local copy (use --force to force download)\n",
            "Downloading docs.tsv.zip to /content\n",
            " 99% 1.15G/1.17G [00:09<00:00, 139MB/s]\n",
            "100% 1.17G/1.17G [00:09<00:00, 132MB/s]\n",
            "sample.submission.txt: Skipping, found more recently modified local copy (use --force to force download)\n",
            "Archive:  docs.tsv.zip\n",
            "  inflating: docs.tsv                \n"
          ],
          "name": "stdout"
        }
      ]
    },
    {
      "cell_type": "code",
      "metadata": {
        "id": "jW6Ar286zBGt",
        "colab_type": "code",
        "colab": {
          "base_uri": "https://localhost:8080/",
          "height": 153
        },
        "outputId": "73af19da-6510-4af3-aff5-377c29f13920"
      },
      "source": [
        "!pip install -U tqdm\n",
        "!pip install rank_bm25\n",
        "!pip install keyw\n",
        "import os\n",
        "import gzip\n",
        "import nltk\n",
        "import random\n",
        "import pickle\n",
        "import pandas as pd\n",
        "import keyw\n",
        "import logging\n",
        "import itertools\n",
        "import re\n",
        "import time\n",
        "\n",
        "import numpy as np\n",
        "import pandas as pd\n",
        "\n",
        "from rank_bm25 import BM25Okapi\n",
        "\n",
        "from nltk.corpus import stopwords\n",
        "nltk.download(\"stopwords\")\n",
        "\n",
        "from string import punctuation\n",
        "from collections import defaultdict\n",
        "from collections import OrderedDict\n",
        "from tqdm.notebook import tqdm\n",
        "from sklearn.metrics.pairwise import cosine_similarity\n",
        "from sklearn.feature_extraction.text import TfidfVectorizer\n",
        "\n",
        "\n",
        "logging.basicConfig(level=logging.DEBUG)\n",
        "logging.debug('Test Logger')"
      ],
      "execution_count": 4,
      "outputs": [
        {
          "output_type": "stream",
          "text": [
            "Requirement already up-to-date: tqdm in /usr/local/lib/python3.6/dist-packages (4.41.1)\n",
            "Requirement already satisfied: rank_bm25 in /usr/local/lib/python3.6/dist-packages (0.2)\n",
            "Requirement already satisfied: numpy in /usr/local/lib/python3.6/dist-packages (from rank_bm25) (1.17.4)\n",
            "Requirement already satisfied: keyw in /usr/local/lib/python3.6/dist-packages (1.0)\n",
            "Requirement already satisfied: peppercorn in /usr/local/lib/python3.6/dist-packages (from keyw) (0.6)\n"
          ],
          "name": "stdout"
        },
        {
          "output_type": "stream",
          "text": [
            "DEBUG:root:Test Logger\n"
          ],
          "name": "stderr"
        },
        {
          "output_type": "stream",
          "text": [
            "[nltk_data] Downloading package stopwords to /root/nltk_data...\n",
            "[nltk_data]   Package stopwords is already up-to-date!\n"
          ],
          "name": "stdout"
        }
      ]
    },
    {
      "cell_type": "markdown",
      "metadata": {
        "id": "eDJqSas00g_i",
        "colab_type": "text"
      },
      "source": [
        "## Adding Preprocessing of data"
      ]
    },
    {
      "cell_type": "code",
      "metadata": {
        "id": "2uRUjsRn0gWK",
        "colab_type": "code",
        "colab": {}
      },
      "source": [
        "stemmer = nltk.SnowballStemmer(\"russian\")\n",
        "stop_words = set(stopwords.words(\"russian\")) | set(stopwords.words(\"english\")) | set(['это'])"
      ],
      "execution_count": 0,
      "outputs": []
    },
    {
      "cell_type": "code",
      "metadata": {
        "id": "UeJh3T0B0GCL",
        "colab_type": "code",
        "colab": {}
      },
      "source": [
        "def preprocess(sentence):\n",
        "    \"\"\"\n",
        "    Method to remove stop words and punctuations return tokens\n",
        "    \"\"\"\n",
        "    sentence = keyw.engrus(sentence)\n",
        "    NONTEXT = re.compile('[^0-9 a-z#+_а-яё]')\n",
        "\n",
        "    sentence = sentence.lower()\n",
        "    sentence = sentence.translate(str.maketrans('', '', punctuation))\n",
        "    sentence = re.sub(NONTEXT,'',sentence)\n",
        "\n",
        "    sentence = set(sentence.split())\n",
        "\n",
        "    tokens = sentence - stop_words\n",
        "    # tokens = [stemmer.stem(word) for word in tokens]\n",
        "\n",
        "    return ' '.join(tokens)"
      ],
      "execution_count": 0,
      "outputs": []
    },
    {
      "cell_type": "code",
      "metadata": {
        "id": "vnpiDwKd4MoP",
        "colab_type": "code",
        "colab": {
          "base_uri": "https://localhost:8080/",
          "height": 34
        },
        "outputId": "72754a73-6876-4093-8859-9e83b24d6c7a"
      },
      "source": [
        "# Testing of function:\n",
        "preprocess('бандиты боятся ли ментов 123 &^% the is как это')"
      ],
      "execution_count": 187,
      "outputs": [
        {
          "output_type": "execute_result",
          "data": {
            "text/plain": [
              "'бандиты ментов 123 боятся еру шы'"
            ]
          },
          "metadata": {
            "tags": []
          },
          "execution_count": 187
        }
      ]
    },
    {
      "cell_type": "markdown",
      "metadata": {
        "id": "ZmihbUoM54kj",
        "colab_type": "text"
      },
      "source": [
        "# Get Query and Their Relevant Documents"
      ]
    },
    {
      "cell_type": "code",
      "metadata": {
        "id": "VZQC0Oa14ZhF",
        "colab_type": "code",
        "colab": {}
      },
      "source": [
        "queries_location = '/content/queries.numerate.txt'\n",
        "database_location = '/content/docs.tsv'\n",
        "relevant_docs_location = '/content/sample.submission.txt'"
      ],
      "execution_count": 0,
      "outputs": []
    },
    {
      "cell_type": "code",
      "metadata": {
        "id": "8lwJxjIH4r6g",
        "colab_type": "code",
        "colab": {}
      },
      "source": [
        "queries = pd.read_csv(queries_location, sep='\\t', names=['QueryId', 'Query']).applymap(str)\n",
        "relevant_docs = pd.read_csv(relevant_docs_location).applymap(str)"
      ],
      "execution_count": 0,
      "outputs": []
    },
    {
      "cell_type": "code",
      "metadata": {
        "id": "RP50drE-6ndt",
        "colab_type": "code",
        "colab": {}
      },
      "source": [
        "# Modifying those tables to have only one information\n",
        "queries['Query'] = queries['Query'].apply(preprocess)\n",
        "relevant_docs = pd.DataFrame(relevant_docs.groupby('QueryId')['DocumentId'].agg(','.join)).reset_index()\n",
        "relevance_data = pd.merge(queries, relevant_docs, left_on='QueryId', right_on='QueryId', how='inner')"
      ],
      "execution_count": 0,
      "outputs": []
    },
    {
      "cell_type": "code",
      "metadata": {
        "id": "MAwjYD6z-ptj",
        "colab_type": "code",
        "colab": {
          "base_uri": "https://localhost:8080/",
          "height": 204
        },
        "outputId": "93bbf88d-317c-44be-dbe0-9d90b524244b"
      },
      "source": [
        "relevance_data.head()"
      ],
      "execution_count": 191,
      "outputs": [
        {
          "output_type": "execute_result",
          "data": {
            "text/html": [
              "<div>\n",
              "<style scoped>\n",
              "    .dataframe tbody tr th:only-of-type {\n",
              "        vertical-align: middle;\n",
              "    }\n",
              "\n",
              "    .dataframe tbody tr th {\n",
              "        vertical-align: top;\n",
              "    }\n",
              "\n",
              "    .dataframe thead th {\n",
              "        text-align: right;\n",
              "    }\n",
              "</style>\n",
              "<table border=\"1\" class=\"dataframe\">\n",
              "  <thead>\n",
              "    <tr style=\"text-align: right;\">\n",
              "      <th></th>\n",
              "      <th>QueryId</th>\n",
              "      <th>Query</th>\n",
              "      <th>DocumentId</th>\n",
              "    </tr>\n",
              "  </thead>\n",
              "  <tbody>\n",
              "    <tr>\n",
              "      <th>0</th>\n",
              "      <td>1</td>\n",
              "      <td>отрицательный положительный 1 могут</td>\n",
              "      <td>28590,28847,33229,33711,36240,36527,38598,4174...</td>\n",
              "    </tr>\n",
              "    <tr>\n",
              "      <th>1</th>\n",
              "      <td>31</td>\n",
              "      <td>ящик удаленный почтовый востановить</td>\n",
              "      <td>21651,26501,26511,26514,30864,100675,140009,14...</td>\n",
              "    </tr>\n",
              "    <tr>\n",
              "      <th>2</th>\n",
              "      <td>33</td>\n",
              "      <td>квест удалить скайрим</td>\n",
              "      <td>16658,20060,31777,45320,45638,45664,48088,5250...</td>\n",
              "    </tr>\n",
              "    <tr>\n",
              "      <th>3</th>\n",
              "      <td>44</td>\n",
              "      <td>попасть папку темп</td>\n",
              "      <td>11664,12590,31019,33810,35647,41030,57731,6182...</td>\n",
              "    </tr>\n",
              "    <tr>\n",
              "      <th>4</th>\n",
              "      <td>46</td>\n",
              "      <td>иглой двойной шить</td>\n",
              "      <td>3763,24823,65720,66255,68069,68278,80150,80151...</td>\n",
              "    </tr>\n",
              "  </tbody>\n",
              "</table>\n",
              "</div>"
            ],
            "text/plain": [
              "  QueryId  ...                                         DocumentId\n",
              "0       1  ...  28590,28847,33229,33711,36240,36527,38598,4174...\n",
              "1      31  ...  21651,26501,26511,26514,30864,100675,140009,14...\n",
              "2      33  ...  16658,20060,31777,45320,45638,45664,48088,5250...\n",
              "3      44  ...  11664,12590,31019,33810,35647,41030,57731,6182...\n",
              "4      46  ...  3763,24823,65720,66255,68069,68278,80150,80151...\n",
              "\n",
              "[5 rows x 3 columns]"
            ]
          },
          "metadata": {
            "tags": []
          },
          "execution_count": 191
        }
      ]
    },
    {
      "cell_type": "markdown",
      "metadata": {
        "id": "iq1-P1bkBhyJ",
        "colab_type": "text"
      },
      "source": [
        "### Loading the database"
      ]
    },
    {
      "cell_type": "code",
      "metadata": {
        "id": "itWaYzcx_7hr",
        "colab_type": "code",
        "colab": {
          "base_uri": "https://localhost:8080/",
          "height": 51
        },
        "outputId": "c4d79956-0cfa-42dd-ffe1-75373b2d31f0"
      },
      "source": [
        "%%time\n",
        "database = pd.read_csv(database_location, sep='\\t', header=None,\n",
        "                       names=['id', 'subject', 'content'],\n",
        "                       dtype = {'id': int,'subject': str,\n",
        "                            'content': str})"
      ],
      "execution_count": 127,
      "outputs": [
        {
          "output_type": "stream",
          "text": [
            "CPU times: user 57.4 s, sys: 22.9 s, total: 1min 20s\n",
            "Wall time: 1min 20s\n"
          ],
          "name": "stdout"
        }
      ]
    },
    {
      "cell_type": "code",
      "metadata": {
        "id": "T89fsvBlHSZW",
        "colab_type": "code",
        "colab": {
          "base_uri": "https://localhost:8080/",
          "height": 34
        },
        "outputId": "e56e165a-7df8-4189-9fe4-241d56846736"
      },
      "source": [
        "database.shape"
      ],
      "execution_count": 173,
      "outputs": [
        {
          "output_type": "execute_result",
          "data": {
            "text/plain": [
              "(37816, 3)"
            ]
          },
          "metadata": {
            "tags": []
          },
          "execution_count": 173
        }
      ]
    },
    {
      "cell_type": "markdown",
      "metadata": {
        "id": "sA-acrCnCF3e",
        "colab_type": "text"
      },
      "source": [
        "## Initially Using TFIDF Cosine Similarities"
      ]
    },
    {
      "cell_type": "code",
      "metadata": {
        "id": "5DrprrqyEdeu",
        "colab_type": "code",
        "colab": {}
      },
      "source": [
        "# All relevant documents, will use later after preprocessing them first\n",
        "\n",
        "# all_relevant_documents = np.array([np.array(x.split(',')) for x in .values])\n",
        "# len(all_relevant_documents.flatten())\n",
        "\n"
      ],
      "execution_count": 0,
      "outputs": []
    },
    {
      "cell_type": "code",
      "metadata": {
        "id": "j-GHqlLSCEYQ",
        "colab_type": "code",
        "colab": {
          "base_uri": "https://localhost:8080/",
          "height": 66,
          "referenced_widgets": [
            "8a80079cc37e4a60b9ab448277c7c967",
            "3e3345b2f7c84555922ed0e4af33bd0a",
            "aa9cbe5bd51b45d988e6fde715f938dd",
            "f3f419abbb6945468ee7d6e55dc42ab7",
            "5f42f4aa57a94722b78df9f02dc35aa9",
            "4599876378aa45719ec5e427f5ad9a77",
            "dfd5452c1cac4f859d88d28000b5465f",
            "bcb8a7aa7e50461d9125a0b268211327"
          ]
        },
        "outputId": "994110fa-4036-4e34-8d22-ca01106e042c"
      },
      "source": [
        "with open('submission.csv', 'w') as output:\n",
        "    output.write('QueryId,DocumentId\\n')\n",
        "    for index, row in tqdm(relevance_data.iterrows()):\n",
        "        query = row['Query']\n",
        "        id = row['QueryId']\n",
        "        relevant_documents = row['DocumentId'].split(',')\n",
        "        data = database[database['id'].isin(list(relevant_documents))].copy()\n",
        "        data.loc[:, 'content'] = data[['subject', 'content']].astype(str).apply(' '.join, axis=1)\n",
        "        del data['subject']\n",
        "        data = OrderedDict(data.set_index('id')['content'].to_dict())\n",
        "\n",
        "\n",
        "        tfidf = TfidfVectorizer()\n",
        "        ids = data.keys()\n",
        "        data = tfidf.fit_transform(data.values())\n",
        "        query = tfidf.transform([query])[0]\n",
        "        distances = cosine_similarity(query, data)\n",
        "        rankings =  sorted(list(zip(ids, distances[0])), key=lambda x: x[1], reverse=True)[:10] \n",
        "        for rank in rankings:\n",
        "            output.write('{},{}\\n'.format(id, rank[0]))\n",
        "        \n",
        "        data = None\n",
        "        "
      ],
      "execution_count": 194,
      "outputs": [
        {
          "output_type": "display_data",
          "data": {
            "application/vnd.jupyter.widget-view+json": {
              "model_id": "8a80079cc37e4a60b9ab448277c7c967",
              "version_minor": 0,
              "version_major": 2
            },
            "text/plain": [
              "HBox(children=(FloatProgress(value=1.0, bar_style='info', max=1.0), HTML(value='')))"
            ]
          },
          "metadata": {
            "tags": []
          }
        },
        {
          "output_type": "stream",
          "text": [
            "\n"
          ],
          "name": "stdout"
        }
      ]
    },
    {
      "cell_type": "markdown",
      "metadata": {
        "id": "vSwe_r91WpDb",
        "colab_type": "text"
      },
      "source": [
        "It Gave me **0.66791** Score on Kaggle"
      ]
    },
    {
      "cell_type": "code",
      "metadata": {
        "id": "-gSdz8H5Bn-3",
        "colab_type": "code",
        "colab": {
          "base_uri": "https://localhost:8080/",
          "height": 66,
          "referenced_widgets": [
            "42faa26d38f841e4862f390f14321ecf",
            "581d60c3218f4181a75995fde5a46e19",
            "13e7cf9691244cfbba3dcecafa3099c3",
            "5daea8fdac1f46968bf328b549b1f345",
            "4b9aec8494ce4197bc564496267d2f8d",
            "2dfb411b8b0f4a449219403a882727ff",
            "74eb78d318c74c2e9f1bbe872cf4e93d",
            "fa7ed3ef61c84e0284918cc86b3a7528"
          ]
        },
        "outputId": "940bee90-085a-40d0-e2bb-54ee69a0c6f5"
      },
      "source": [
        "with open('submission_bm25.csv', 'w') as output:\n",
        "    output.write('QueryId,DocumentId\\n')\n",
        "    for index, row in tqdm(relevance_data.iterrows()):\n",
        "        query = row['Query']\n",
        "        id = row['QueryId']\n",
        "        relevant_documents = row['DocumentId'].split(',')\n",
        "        data = database[database['id'].isin(list(relevant_documents))].copy()\n",
        "        data.loc[:, 'content'] = data[['subject', 'content']].astype(str).apply(' '.join, axis=1)\n",
        "        del data['subject']\n",
        "        data = OrderedDict(data.set_index('id')['content'].to_dict())\n",
        "\n",
        "        for key in data:\n",
        "            data[key] = data[key].split()\n",
        "\n",
        "        bm25 = BM25Okapi(data.values())\n",
        "        rankings =  sorted(list(zip(data.keys(), bm25.get_scores(query))), key=lambda x: x[1], reverse=True)[:10]\n",
        "        for rank in rankings:\n",
        "            output.write('{},{}\\n'.format(id, rank[0]))\n",
        "\n",
        "        data = None\n",
        "        "
      ],
      "execution_count": 205,
      "outputs": [
        {
          "output_type": "display_data",
          "data": {
            "application/vnd.jupyter.widget-view+json": {
              "model_id": "42faa26d38f841e4862f390f14321ecf",
              "version_minor": 0,
              "version_major": 2
            },
            "text/plain": [
              "HBox(children=(FloatProgress(value=1.0, bar_style='info', max=1.0), HTML(value='')))"
            ]
          },
          "metadata": {
            "tags": []
          }
        },
        {
          "output_type": "stream",
          "text": [
            "\n"
          ],
          "name": "stdout"
        }
      ]
    },
    {
      "cell_type": "markdown",
      "metadata": {
        "id": "iidaDMBDaGpb",
        "colab_type": "text"
      },
      "source": [
        "Not a good score 0.35279 ! Maybe because of preprocessing"
      ]
    },
    {
      "cell_type": "code",
      "metadata": {
        "id": "gdWN9Mv2XiGX",
        "colab_type": "code",
        "colab": {}
      },
      "source": [
        ""
      ],
      "execution_count": 0,
      "outputs": []
    }
  ]
}