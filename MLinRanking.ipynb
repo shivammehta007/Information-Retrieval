{
  "nbformat": 4,
  "nbformat_minor": 0,
  "metadata": {
    "colab": {
      "name": "MLinRanking.ipynb",
      "provenance": [],
      "machine_shape": "hm",
      "include_colab_link": true
    },
    "kernelspec": {
      "name": "python3",
      "display_name": "Python 3"
    },
    "widgets": {
      "application/vnd.jupyter.widget-state+json": {
        "ec2a2223c03c4d67a334b53ee9ebb937": {
          "model_module": "@jupyter-widgets/controls",
          "model_name": "HBoxModel",
          "state": {
            "_view_name": "HBoxView",
            "_dom_classes": [],
            "_model_name": "HBoxModel",
            "_view_module": "@jupyter-widgets/controls",
            "_model_module_version": "1.5.0",
            "_view_count": null,
            "_view_module_version": "1.5.0",
            "box_style": "",
            "layout": "IPY_MODEL_5a57f2497dd145b281c9af6bef01e8bc",
            "_model_module": "@jupyter-widgets/controls",
            "children": [
              "IPY_MODEL_a58c0781144b4da8a004d224537ffa8b",
              "IPY_MODEL_0a98b993eec648d88536048faa725f2e"
            ]
          }
        },
        "5a57f2497dd145b281c9af6bef01e8bc": {
          "model_module": "@jupyter-widgets/base",
          "model_name": "LayoutModel",
          "state": {
            "_view_name": "LayoutView",
            "grid_template_rows": null,
            "right": null,
            "justify_content": null,
            "_view_module": "@jupyter-widgets/base",
            "overflow": null,
            "_model_module_version": "1.2.0",
            "_view_count": null,
            "flex_flow": null,
            "width": null,
            "min_width": null,
            "border": null,
            "align_items": null,
            "bottom": null,
            "_model_module": "@jupyter-widgets/base",
            "top": null,
            "grid_column": null,
            "overflow_y": null,
            "overflow_x": null,
            "grid_auto_flow": null,
            "grid_area": null,
            "grid_template_columns": null,
            "flex": null,
            "_model_name": "LayoutModel",
            "justify_items": null,
            "grid_row": null,
            "max_height": null,
            "align_content": null,
            "visibility": null,
            "align_self": null,
            "height": null,
            "min_height": null,
            "padding": null,
            "grid_auto_rows": null,
            "grid_gap": null,
            "max_width": null,
            "order": null,
            "_view_module_version": "1.2.0",
            "grid_template_areas": null,
            "object_position": null,
            "object_fit": null,
            "grid_auto_columns": null,
            "margin": null,
            "display": null,
            "left": null
          }
        },
        "a58c0781144b4da8a004d224537ffa8b": {
          "model_module": "@jupyter-widgets/controls",
          "model_name": "FloatProgressModel",
          "state": {
            "_view_name": "ProgressView",
            "style": "IPY_MODEL_6d68638406ce4880aa62ffb5e3200284",
            "_dom_classes": [],
            "description": "",
            "_model_name": "FloatProgressModel",
            "bar_style": "success",
            "max": 1,
            "_view_module": "@jupyter-widgets/controls",
            "_model_module_version": "1.5.0",
            "value": 1,
            "_view_count": null,
            "_view_module_version": "1.5.0",
            "orientation": "horizontal",
            "min": 0,
            "description_tooltip": null,
            "_model_module": "@jupyter-widgets/controls",
            "layout": "IPY_MODEL_cda5eee119fc4c3797131ecc34229323"
          }
        },
        "0a98b993eec648d88536048faa725f2e": {
          "model_module": "@jupyter-widgets/controls",
          "model_name": "HTMLModel",
          "state": {
            "_view_name": "HTMLView",
            "style": "IPY_MODEL_87b53253a2b245a2805164221fddf33a",
            "_dom_classes": [],
            "description": "",
            "_model_name": "HTMLModel",
            "placeholder": "​",
            "_view_module": "@jupyter-widgets/controls",
            "_model_module_version": "1.5.0",
            "value": " 37816/? [11:37&lt;00:00, 54.24it/s]",
            "_view_count": null,
            "_view_module_version": "1.5.0",
            "description_tooltip": null,
            "_model_module": "@jupyter-widgets/controls",
            "layout": "IPY_MODEL_cc1f130a530c4584ad98cc3753197d2e"
          }
        },
        "6d68638406ce4880aa62ffb5e3200284": {
          "model_module": "@jupyter-widgets/controls",
          "model_name": "ProgressStyleModel",
          "state": {
            "_view_name": "StyleView",
            "_model_name": "ProgressStyleModel",
            "description_width": "initial",
            "_view_module": "@jupyter-widgets/base",
            "_model_module_version": "1.5.0",
            "_view_count": null,
            "_view_module_version": "1.2.0",
            "bar_color": null,
            "_model_module": "@jupyter-widgets/controls"
          }
        },
        "cda5eee119fc4c3797131ecc34229323": {
          "model_module": "@jupyter-widgets/base",
          "model_name": "LayoutModel",
          "state": {
            "_view_name": "LayoutView",
            "grid_template_rows": null,
            "right": null,
            "justify_content": null,
            "_view_module": "@jupyter-widgets/base",
            "overflow": null,
            "_model_module_version": "1.2.0",
            "_view_count": null,
            "flex_flow": null,
            "width": null,
            "min_width": null,
            "border": null,
            "align_items": null,
            "bottom": null,
            "_model_module": "@jupyter-widgets/base",
            "top": null,
            "grid_column": null,
            "overflow_y": null,
            "overflow_x": null,
            "grid_auto_flow": null,
            "grid_area": null,
            "grid_template_columns": null,
            "flex": null,
            "_model_name": "LayoutModel",
            "justify_items": null,
            "grid_row": null,
            "max_height": null,
            "align_content": null,
            "visibility": null,
            "align_self": null,
            "height": null,
            "min_height": null,
            "padding": null,
            "grid_auto_rows": null,
            "grid_gap": null,
            "max_width": null,
            "order": null,
            "_view_module_version": "1.2.0",
            "grid_template_areas": null,
            "object_position": null,
            "object_fit": null,
            "grid_auto_columns": null,
            "margin": null,
            "display": null,
            "left": null
          }
        },
        "87b53253a2b245a2805164221fddf33a": {
          "model_module": "@jupyter-widgets/controls",
          "model_name": "DescriptionStyleModel",
          "state": {
            "_view_name": "StyleView",
            "_model_name": "DescriptionStyleModel",
            "description_width": "",
            "_view_module": "@jupyter-widgets/base",
            "_model_module_version": "1.5.0",
            "_view_count": null,
            "_view_module_version": "1.2.0",
            "_model_module": "@jupyter-widgets/controls"
          }
        },
        "cc1f130a530c4584ad98cc3753197d2e": {
          "model_module": "@jupyter-widgets/base",
          "model_name": "LayoutModel",
          "state": {
            "_view_name": "LayoutView",
            "grid_template_rows": null,
            "right": null,
            "justify_content": null,
            "_view_module": "@jupyter-widgets/base",
            "overflow": null,
            "_model_module_version": "1.2.0",
            "_view_count": null,
            "flex_flow": null,
            "width": null,
            "min_width": null,
            "border": null,
            "align_items": null,
            "bottom": null,
            "_model_module": "@jupyter-widgets/base",
            "top": null,
            "grid_column": null,
            "overflow_y": null,
            "overflow_x": null,
            "grid_auto_flow": null,
            "grid_area": null,
            "grid_template_columns": null,
            "flex": null,
            "_model_name": "LayoutModel",
            "justify_items": null,
            "grid_row": null,
            "max_height": null,
            "align_content": null,
            "visibility": null,
            "align_self": null,
            "height": null,
            "min_height": null,
            "padding": null,
            "grid_auto_rows": null,
            "grid_gap": null,
            "max_width": null,
            "order": null,
            "_view_module_version": "1.2.0",
            "grid_template_areas": null,
            "object_position": null,
            "object_fit": null,
            "grid_auto_columns": null,
            "margin": null,
            "display": null,
            "left": null
          }
        },
        "87c4a57902c04c38a133212329795f35": {
          "model_module": "@jupyter-widgets/controls",
          "model_name": "HBoxModel",
          "state": {
            "_view_name": "HBoxView",
            "_dom_classes": [],
            "_model_name": "HBoxModel",
            "_view_module": "@jupyter-widgets/controls",
            "_model_module_version": "1.5.0",
            "_view_count": null,
            "_view_module_version": "1.5.0",
            "box_style": "",
            "layout": "IPY_MODEL_b04e750ef6de4dc0b067c5d3cc49f81b",
            "_model_module": "@jupyter-widgets/controls",
            "children": [
              "IPY_MODEL_ed7f1158eb744bd4aefb9a9fe4d6a63e",
              "IPY_MODEL_bfc2b479de47442b8c3e6aa2886dd191"
            ]
          }
        },
        "b04e750ef6de4dc0b067c5d3cc49f81b": {
          "model_module": "@jupyter-widgets/base",
          "model_name": "LayoutModel",
          "state": {
            "_view_name": "LayoutView",
            "grid_template_rows": null,
            "right": null,
            "justify_content": null,
            "_view_module": "@jupyter-widgets/base",
            "overflow": null,
            "_model_module_version": "1.2.0",
            "_view_count": null,
            "flex_flow": null,
            "width": null,
            "min_width": null,
            "border": null,
            "align_items": null,
            "bottom": null,
            "_model_module": "@jupyter-widgets/base",
            "top": null,
            "grid_column": null,
            "overflow_y": null,
            "overflow_x": null,
            "grid_auto_flow": null,
            "grid_area": null,
            "grid_template_columns": null,
            "flex": null,
            "_model_name": "LayoutModel",
            "justify_items": null,
            "grid_row": null,
            "max_height": null,
            "align_content": null,
            "visibility": null,
            "align_self": null,
            "height": null,
            "min_height": null,
            "padding": null,
            "grid_auto_rows": null,
            "grid_gap": null,
            "max_width": null,
            "order": null,
            "_view_module_version": "1.2.0",
            "grid_template_areas": null,
            "object_position": null,
            "object_fit": null,
            "grid_auto_columns": null,
            "margin": null,
            "display": null,
            "left": null
          }
        },
        "ed7f1158eb744bd4aefb9a9fe4d6a63e": {
          "model_module": "@jupyter-widgets/controls",
          "model_name": "FloatProgressModel",
          "state": {
            "_view_name": "ProgressView",
            "style": "IPY_MODEL_2cd7081a830d41289ef0b3853e4471a4",
            "_dom_classes": [],
            "description": "100%",
            "_model_name": "FloatProgressModel",
            "bar_style": "success",
            "max": 4815884,
            "_view_module": "@jupyter-widgets/controls",
            "_model_module_version": "1.5.0",
            "value": 4815884,
            "_view_count": null,
            "_view_module_version": "1.5.0",
            "orientation": "horizontal",
            "min": 0,
            "description_tooltip": null,
            "_model_module": "@jupyter-widgets/controls",
            "layout": "IPY_MODEL_6a15b51f3d3c4c119610f7add9cf7df6"
          }
        },
        "bfc2b479de47442b8c3e6aa2886dd191": {
          "model_module": "@jupyter-widgets/controls",
          "model_name": "HTMLModel",
          "state": {
            "_view_name": "HTMLView",
            "style": "IPY_MODEL_e8b2327368d141998fb3685bfa325d25",
            "_dom_classes": [],
            "description": "",
            "_model_name": "HTMLModel",
            "placeholder": "​",
            "_view_module": "@jupyter-widgets/controls",
            "_model_module_version": "1.5.0",
            "value": " 4815884/4815884 [05:18&lt;00:00, 15116.80it/s]",
            "_view_count": null,
            "_view_module_version": "1.5.0",
            "description_tooltip": null,
            "_model_module": "@jupyter-widgets/controls",
            "layout": "IPY_MODEL_fdf3b1e56bd443f28a20ec50d39c798f"
          }
        },
        "2cd7081a830d41289ef0b3853e4471a4": {
          "model_module": "@jupyter-widgets/controls",
          "model_name": "ProgressStyleModel",
          "state": {
            "_view_name": "StyleView",
            "_model_name": "ProgressStyleModel",
            "description_width": "initial",
            "_view_module": "@jupyter-widgets/base",
            "_model_module_version": "1.5.0",
            "_view_count": null,
            "_view_module_version": "1.2.0",
            "bar_color": null,
            "_model_module": "@jupyter-widgets/controls"
          }
        },
        "6a15b51f3d3c4c119610f7add9cf7df6": {
          "model_module": "@jupyter-widgets/base",
          "model_name": "LayoutModel",
          "state": {
            "_view_name": "LayoutView",
            "grid_template_rows": null,
            "right": null,
            "justify_content": null,
            "_view_module": "@jupyter-widgets/base",
            "overflow": null,
            "_model_module_version": "1.2.0",
            "_view_count": null,
            "flex_flow": null,
            "width": null,
            "min_width": null,
            "border": null,
            "align_items": null,
            "bottom": null,
            "_model_module": "@jupyter-widgets/base",
            "top": null,
            "grid_column": null,
            "overflow_y": null,
            "overflow_x": null,
            "grid_auto_flow": null,
            "grid_area": null,
            "grid_template_columns": null,
            "flex": null,
            "_model_name": "LayoutModel",
            "justify_items": null,
            "grid_row": null,
            "max_height": null,
            "align_content": null,
            "visibility": null,
            "align_self": null,
            "height": null,
            "min_height": null,
            "padding": null,
            "grid_auto_rows": null,
            "grid_gap": null,
            "max_width": null,
            "order": null,
            "_view_module_version": "1.2.0",
            "grid_template_areas": null,
            "object_position": null,
            "object_fit": null,
            "grid_auto_columns": null,
            "margin": null,
            "display": null,
            "left": null
          }
        },
        "e8b2327368d141998fb3685bfa325d25": {
          "model_module": "@jupyter-widgets/controls",
          "model_name": "DescriptionStyleModel",
          "state": {
            "_view_name": "StyleView",
            "_model_name": "DescriptionStyleModel",
            "description_width": "",
            "_view_module": "@jupyter-widgets/base",
            "_model_module_version": "1.5.0",
            "_view_count": null,
            "_view_module_version": "1.2.0",
            "_model_module": "@jupyter-widgets/controls"
          }
        },
        "fdf3b1e56bd443f28a20ec50d39c798f": {
          "model_module": "@jupyter-widgets/base",
          "model_name": "LayoutModel",
          "state": {
            "_view_name": "LayoutView",
            "grid_template_rows": null,
            "right": null,
            "justify_content": null,
            "_view_module": "@jupyter-widgets/base",
            "overflow": null,
            "_model_module_version": "1.2.0",
            "_view_count": null,
            "flex_flow": null,
            "width": null,
            "min_width": null,
            "border": null,
            "align_items": null,
            "bottom": null,
            "_model_module": "@jupyter-widgets/base",
            "top": null,
            "grid_column": null,
            "overflow_y": null,
            "overflow_x": null,
            "grid_auto_flow": null,
            "grid_area": null,
            "grid_template_columns": null,
            "flex": null,
            "_model_name": "LayoutModel",
            "justify_items": null,
            "grid_row": null,
            "max_height": null,
            "align_content": null,
            "visibility": null,
            "align_self": null,
            "height": null,
            "min_height": null,
            "padding": null,
            "grid_auto_rows": null,
            "grid_gap": null,
            "max_width": null,
            "order": null,
            "_view_module_version": "1.2.0",
            "grid_template_areas": null,
            "object_position": null,
            "object_fit": null,
            "grid_auto_columns": null,
            "margin": null,
            "display": null,
            "left": null
          }
        }
      }
    }
  },
  "cells": [
    {
      "cell_type": "markdown",
      "metadata": {
        "id": "view-in-github",
        "colab_type": "text"
      },
      "source": [
        "<a href=\"https://colab.research.google.com/github/shivammehta007/Information-Retrieval/blob/master/MLinRanking.ipynb\" target=\"_parent\"><img src=\"https://colab.research.google.com/assets/colab-badge.svg\" alt=\"Open In Colab\"/></a>"
      ]
    },
    {
      "cell_type": "markdown",
      "metadata": {
        "id": "DXrlHszYAA-W",
        "colab_type": "text"
      },
      "source": [
        "# Application of ML in Ranking"
      ]
    },
    {
      "cell_type": "markdown",
      "metadata": {
        "id": "NB4Cq_51AKTa",
        "colab_type": "text"
      },
      "source": [
        "# Application of ML in Ranking of Search Engines"
      ]
    },
    {
      "cell_type": "markdown",
      "metadata": {
        "id": "dxVYBQ9tDrAq",
        "colab_type": "text"
      },
      "source": [
        "## Downloading Data From Kaggle\n",
        "#### Might Take a while"
      ]
    },
    {
      "cell_type": "code",
      "metadata": {
        "id": "NXmYVxMwAKlG",
        "colab_type": "code",
        "colab": {
          "base_uri": "https://localhost:8080/",
          "height": 34
        },
        "outputId": "d207ad3c-1db8-43cf-dc9d-be2f00d2349a"
      },
      "source": [
        "from google.colab import drive\n",
        "drive.mount('/content/drive', force_remount=True)"
      ],
      "execution_count": 1,
      "outputs": [
        {
          "output_type": "stream",
          "text": [
            "Mounted at /content/drive\n"
          ],
          "name": "stdout"
        }
      ]
    },
    {
      "cell_type": "code",
      "metadata": {
        "id": "UgE7bVar-3PR",
        "colab_type": "code",
        "colab": {
          "base_uri": "https://localhost:8080/",
          "height": 204
        },
        "outputId": "8abb3e59-d3aa-4c77-c017-241fcbcf703b"
      },
      "source": [
        "# Download Data\n",
        "!pip install kaggle\n",
        "import json\n",
        "import os\n",
        "\n",
        "with open('/content/drive/My Drive/kaggle.json') as kc:\n",
        "    kaggle_config = json.load(kc)\n",
        "\n",
        "os.environ['KAGGLE_USERNAME'] = kaggle_config['username'] \n",
        "os.environ['KAGGLE_KEY'] = kaggle_config['key'] \n",
        "\n",
        "# !kaggle competitions download -c text-relevance-competition-ir-2-itmo-fall-2019\n",
        "# !unzip docs.tsv.zip\n",
        "# !rm docs.tsv.zip"
      ],
      "execution_count": 2,
      "outputs": [
        {
          "output_type": "stream",
          "text": [
            "Requirement already satisfied: kaggle in /usr/local/lib/python3.6/dist-packages (1.5.6)\n",
            "Requirement already satisfied: six>=1.10 in /usr/local/lib/python3.6/dist-packages (from kaggle) (1.12.0)\n",
            "Requirement already satisfied: python-dateutil in /usr/local/lib/python3.6/dist-packages (from kaggle) (2.6.1)\n",
            "Requirement already satisfied: tqdm in /usr/local/lib/python3.6/dist-packages (from kaggle) (4.41.0)\n",
            "Requirement already satisfied: certifi in /usr/local/lib/python3.6/dist-packages (from kaggle) (2019.11.28)\n",
            "Requirement already satisfied: urllib3<1.25,>=1.21.1 in /usr/local/lib/python3.6/dist-packages (from kaggle) (1.24.3)\n",
            "Requirement already satisfied: python-slugify in /usr/local/lib/python3.6/dist-packages (from kaggle) (4.0.0)\n",
            "Requirement already satisfied: requests in /usr/local/lib/python3.6/dist-packages (from kaggle) (2.21.0)\n",
            "Requirement already satisfied: text-unidecode>=1.3 in /usr/local/lib/python3.6/dist-packages (from python-slugify->kaggle) (1.3)\n",
            "Requirement already satisfied: idna<2.9,>=2.5 in /usr/local/lib/python3.6/dist-packages (from requests->kaggle) (2.8)\n",
            "Requirement already satisfied: chardet<3.1.0,>=3.0.2 in /usr/local/lib/python3.6/dist-packages (from requests->kaggle) (3.0.4)\n"
          ],
          "name": "stdout"
        }
      ]
    },
    {
      "cell_type": "markdown",
      "metadata": {
        "id": "B5_6nqBCD04I",
        "colab_type": "text"
      },
      "source": [
        "## Code"
      ]
    },
    {
      "cell_type": "code",
      "metadata": {
        "id": "Qt9i5ism_42a",
        "colab_type": "code",
        "colab": {
          "base_uri": "https://localhost:8080/",
          "height": 85
        },
        "outputId": "dfccb7f4-33f3-4ae2-e17e-b9547caf22dd"
      },
      "source": [
        "!pip install -U tqdm\n",
        "import os\n",
        "import gzip\n",
        "import nltk\n",
        "import pickle\n",
        "import logging\n",
        "import itertools\n",
        "import re\n",
        "import time\n",
        "\n",
        "from nltk.corpus import stopwords\n",
        "nltk.download(\"stopwords\")\n",
        "\n",
        "from string import punctuation\n",
        "from collections import defaultdict\n",
        "from tqdm.notebook import tqdm\n",
        "\n",
        "logging.basicConfig(level=logging.DEBUG)\n",
        "logging.debug('Test Logger')"
      ],
      "execution_count": 3,
      "outputs": [
        {
          "output_type": "stream",
          "text": [
            "Requirement already up-to-date: tqdm in /usr/local/lib/python3.6/dist-packages (4.41.0)\n"
          ],
          "name": "stdout"
        },
        {
          "output_type": "stream",
          "text": [
            "DEBUG:root:Test Logger\n"
          ],
          "name": "stderr"
        },
        {
          "output_type": "stream",
          "text": [
            "[nltk_data] Downloading package stopwords to /root/nltk_data...\n",
            "[nltk_data]   Package stopwords is already up-to-date!\n"
          ],
          "name": "stdout"
        }
      ]
    },
    {
      "cell_type": "code",
      "metadata": {
        "id": "KUDH6FM1-56w",
        "colab_type": "code",
        "colab": {}
      },
      "source": [
        "indexing_data_location = '/content/docs.tsv'\n",
        "queries = '/content/queries.numerate.txt'"
      ],
      "execution_count": 0,
      "outputs": []
    },
    {
      "cell_type": "markdown",
      "metadata": {
        "id": "fnw4CtnZGdLR",
        "colab_type": "text"
      },
      "source": [
        "### Building Inverted Index"
      ]
    },
    {
      "cell_type": "markdown",
      "metadata": {
        "id": "U-LH8zk9GhMT",
        "colab_type": "text"
      },
      "source": [
        "#### Inverted Indexer Class"
      ]
    },
    {
      "cell_type": "code",
      "metadata": {
        "id": "nZvW93v-GXEz",
        "colab_type": "code",
        "colab": {}
      },
      "source": [
        "class InvertedIndexer:\n",
        "    \"\"\"\n",
        "    This class makes inverted index\n",
        "    \"\"\"\n",
        "\n",
        "    def __init__(self, filename=False):\n",
        "        self.filename = filename\n",
        "        self.stemmer_ru = nltk.SnowballStemmer(\"russian\")\n",
        "        self.stopwords = set(stopwords.words(\"russian\")) | set(stopwords.words(\"english\"))\n",
        "        self.punctuation = punctuation # from string import punctuation\n",
        "        if filename:\n",
        "            self.inverted_index = self._build_index(self.filename)\n",
        "        else:\n",
        "            self.inverted_index = defaultdict(set)\n",
        "\n",
        "    def preprocess(self, sentence):\n",
        "        \"\"\"\n",
        "        Method to remove stop words and punctuations return tokens\n",
        "        \"\"\"\n",
        "        NONTEXT = re.compile('[^0-9 a-z#+_а-яё]')\n",
        "\n",
        "        sentence = sentence.lower()\n",
        "        sentence = sentence.translate(str.maketrans('', '', punctuation))\n",
        "        sentence = re.sub(NONTEXT,'',sentence)\n",
        "\n",
        "        # Heavy Operation Taking lot of time will move it outside\n",
        "        # tokens = [self.stemmer_ru.stem(word) for word in sentence.split()]\n",
        "\n",
        "        tokens = [token for token in sentence.split() if token not in self.stopwords]\n",
        "\n",
        "        return tokens\n",
        "\n",
        "    def stem_keys(self, inverted_index):\n",
        "        \"\"\"\n",
        "        Called after index is built to stem all the keys and normalize them\n",
        "        \"\"\"\n",
        "        logging.debug('Indexing Complete will not Stem keys and remap indexes')\n",
        "        temp_dict = defaultdict(set)\n",
        "        i = 0\n",
        "        for word in tqdm(inverted_index):\n",
        "\n",
        "            stemmed_key = self.stemmer_ru.stem(word)\n",
        "            temp_dict[stemmed_key].update(inverted_index[word])\n",
        "            inverted_index[word] = None\n",
        "\n",
        "        inverted_index = temp_dict\n",
        "        logging.debug('Done Stemmping Indexes')\n",
        "        return inverted_index\n",
        "\n",
        "    def _build_index(self, indexing_data_location):\n",
        "        \"\"\"\n",
        "        This method builds the inverted index and returns the invrted index dictionary\n",
        "        \"\"\"\n",
        "        inverted_index = defaultdict(set)\n",
        "        with open(indexing_data_location, \"rb\") as f:\n",
        "            for line in tqdm(f):\n",
        "                line = line.decode().split('\\t')\n",
        "                file_number = line[0]\n",
        "                subject = line[1]\n",
        "                text = line[2]\n",
        "                line = subject + ' ' + text\n",
        "\n",
        "                for word in self.preprocess(line):\n",
        "                        inverted_index[word].add(int(file_number))\n",
        "\n",
        "        # Intermediate Save\n",
        "        # with open('/content/intermediate_inverted_index.pickle', mode='wb') as f:\n",
        "        #     pickle.dump(inverted_index, f)\n",
        "        # Collab crashed don't do that \n",
        "\n",
        "        inverted_index = self.stem_keys(inverted_index)\n",
        "\n",
        "        return inverted_index\n",
        "\n",
        "    def save(self, filename_to_save):\n",
        "        \"\"\"\n",
        "        Save method to save the inverted indexes\n",
        "        \"\"\"\n",
        "        with open(filename_to_save, mode='wb') as f:\n",
        "            pickle.dump(self.inverted_index, f)\n",
        "\n",
        "    def load(self, filelocation_to_load):\n",
        "        \"\"\"\n",
        "        Load method to load the inverted indexes\n",
        "        \"\"\"\n",
        "        with open(filelocation_to_load, mode='rb') as f:\n",
        "            self.inverted_index = pickle.load(f)"
      ],
      "execution_count": 0,
      "outputs": []
    },
    {
      "cell_type": "markdown",
      "metadata": {
        "id": "vXQMVmKdGkmV",
        "colab_type": "text"
      },
      "source": [
        "#### SolutionPredictor Class"
      ]
    },
    {
      "cell_type": "code",
      "metadata": {
        "id": "uvlVal49GpD2",
        "colab_type": "code",
        "colab": {}
      },
      "source": [
        "class SolutionPredictor:\n",
        "    \"\"\"\n",
        "    This classes uses object of Hw1SolutionIndexer\n",
        "    to make boolean search\n",
        "    \"\"\"\n",
        "    def __init__(self, indexer):\n",
        "        \"\"\"\n",
        "        indexer : object of class Hw1SolutionIndexer\n",
        "        \"\"\"\n",
        "        self.indexer = indexer\n",
        "\n",
        "\n",
        "    def find_docs(self, query):\n",
        "        \"\"\"\n",
        "        This method provides booleaen search\n",
        "        query : string with text of query\n",
        "        Returns Python set with documents which contain query words\n",
        "        Should return maximum 100 docs\n",
        "        \"\"\"\n",
        "        tokens = self.indexer.preprocess(query)\n",
        "        tokens = [self.indexer.stemmer_ru.stem(word) for word in tokens]\n",
        "        docs_list = set()\n",
        "        for word in tokens:\n",
        "            if len(docs_list) > 0:\n",
        "                docs_list.intersection_update(self.indexer.inverted_index[word])\n",
        "            else:\n",
        "                docs_list.update(self.indexer.inverted_index[word])\n",
        "\n",
        "        return set(itertools.islice(docs_list, 100))"
      ],
      "execution_count": 0,
      "outputs": []
    },
    {
      "cell_type": "markdown",
      "metadata": {
        "id": "S0J9P0DwG17E",
        "colab_type": "text"
      },
      "source": [
        "#### Generate Index \n",
        "Run Only when Index is not generated Otherwise use the Loading code block"
      ]
    },
    {
      "cell_type": "code",
      "metadata": {
        "id": "qP_FPH13GrU6",
        "colab_type": "code",
        "colab": {
          "base_uri": "https://localhost:8080/",
          "height": 183,
          "referenced_widgets": [
            "ec2a2223c03c4d67a334b53ee9ebb937",
            "5a57f2497dd145b281c9af6bef01e8bc",
            "a58c0781144b4da8a004d224537ffa8b",
            "0a98b993eec648d88536048faa725f2e",
            "6d68638406ce4880aa62ffb5e3200284",
            "cda5eee119fc4c3797131ecc34229323",
            "87b53253a2b245a2805164221fddf33a",
            "cc1f130a530c4584ad98cc3753197d2e",
            "87c4a57902c04c38a133212329795f35",
            "b04e750ef6de4dc0b067c5d3cc49f81b",
            "ed7f1158eb744bd4aefb9a9fe4d6a63e",
            "bfc2b479de47442b8c3e6aa2886dd191",
            "2cd7081a830d41289ef0b3853e4471a4",
            "6a15b51f3d3c4c119610f7add9cf7df6",
            "e8b2327368d141998fb3685bfa325d25",
            "fdf3b1e56bd443f28a20ec50d39c798f"
          ]
        },
        "outputId": "171d569d-6556-4166-c1a8-5307d7b9c795"
      },
      "source": [
        "logging.debug('Index is creating...')\n",
        "start = time.time()\n",
        "new_index = InvertedIndexer(indexing_data_location) \n",
        "end = time.time()\n",
        "logging.debug('Index has been created and saved as inverted_index.pickle in {:.4f}s'.format(end-start))"
      ],
      "execution_count": 7,
      "outputs": [
        {
          "output_type": "stream",
          "text": [
            "DEBUG:root:Index is creating...\n"
          ],
          "name": "stderr"
        },
        {
          "output_type": "display_data",
          "data": {
            "application/vnd.jupyter.widget-view+json": {
              "model_id": "ec2a2223c03c4d67a334b53ee9ebb937",
              "version_minor": 0,
              "version_major": 2
            },
            "text/plain": [
              "HBox(children=(FloatProgress(value=1.0, bar_style='info', max=1.0), HTML(value='')))"
            ]
          },
          "metadata": {
            "tags": []
          }
        },
        {
          "output_type": "stream",
          "text": [
            "DEBUG:root:Indexing Complete will not Stem keys and remap indexes\n"
          ],
          "name": "stderr"
        },
        {
          "output_type": "stream",
          "text": [
            "\n"
          ],
          "name": "stdout"
        },
        {
          "output_type": "display_data",
          "data": {
            "application/vnd.jupyter.widget-view+json": {
              "model_id": "87c4a57902c04c38a133212329795f35",
              "version_minor": 0,
              "version_major": 2
            },
            "text/plain": [
              "HBox(children=(FloatProgress(value=0.0, max=4815884.0), HTML(value='')))"
            ]
          },
          "metadata": {
            "tags": []
          }
        },
        {
          "output_type": "stream",
          "text": [
            "DEBUG:root:Done Stemmping Indexes\n",
            "DEBUG:root:Index has been created and saved as inverted_index.pickle in 1007.3685s\n"
          ],
          "name": "stderr"
        },
        {
          "output_type": "stream",
          "text": [
            "\n"
          ],
          "name": "stdout"
        }
      ]
    },
    {
      "cell_type": "code",
      "metadata": {
        "id": "IkT1dOvjJ8yb",
        "colab_type": "code",
        "colab": {
          "base_uri": "https://localhost:8080/",
          "height": 34
        },
        "outputId": "442f4326-beb0-4f7b-8b7e-18174be864e7"
      },
      "source": [
        "len(new_index.inverted_index)"
      ],
      "execution_count": 8,
      "outputs": [
        {
          "output_type": "execute_result",
          "data": {
            "text/plain": [
              "2858862"
            ]
          },
          "metadata": {
            "tags": []
          },
          "execution_count": 8
        }
      ]
    },
    {
      "cell_type": "code",
      "metadata": {
        "id": "Lrvd8h-1Rr54",
        "colab_type": "code",
        "colab": {}
      },
      "source": [
        "new_index.save('inverted_index.pickle')"
      ],
      "execution_count": 0,
      "outputs": []
    },
    {
      "cell_type": "code",
      "metadata": {
        "id": "FM_7-y9dTCST",
        "colab_type": "code",
        "colab": {}
      },
      "source": [
        "!cp inverted_index.pickle '/content/drive/My Drive/Homeworks/InformationRetrieval/inverted_index_4.pickle'"
      ],
      "execution_count": 0,
      "outputs": []
    },
    {
      "cell_type": "markdown",
      "metadata": {
        "id": "Z1hjVJ3SU1a1",
        "colab_type": "text"
      },
      "source": [
        "#### Load Index\n",
        "Run when Index is not generated"
      ]
    },
    {
      "cell_type": "code",
      "metadata": {
        "id": "sA6qW77ZVJD1",
        "colab_type": "code",
        "colab": {}
      },
      "source": [
        "index_location = '/content/drive/My Drive/Homeworks/InformationRetrieval/inverted_index_4.pickle'"
      ],
      "execution_count": 0,
      "outputs": []
    },
    {
      "cell_type": "code",
      "metadata": {
        "id": "_-huYstNU8Ag",
        "colab_type": "code",
        "colab": {}
      },
      "source": [
        "loggin.debug('Loading Index...')\n",
        "start = time.time()\n",
        "new_index = InvertedIndexer()\n",
        "new_index.load(index_location)\n",
        "end = time.time()\n",
        "logging.debug('Index has been loaded from inverted_index.pickle in {:.4f}s'.format(end-start))"
      ],
      "execution_count": 0,
      "outputs": []
    },
    {
      "cell_type": "markdown",
      "metadata": {
        "id": "E8hg8QdDUHl4",
        "colab_type": "text"
      },
      "source": [
        "##### Testing Block"
      ]
    },
    {
      "cell_type": "code",
      "metadata": {
        "id": "bBxPGXGMHDIp",
        "colab_type": "code",
        "colab": {}
      },
      "source": [
        "test_sentence = 'бандиты боятся ли ментов'"
      ],
      "execution_count": 0,
      "outputs": []
    },
    {
      "cell_type": "code",
      "metadata": {
        "id": "82-U2VzPTSxH",
        "colab_type": "code",
        "colab": {}
      },
      "source": [
        "boolean_model = SolutionPredictor(new_index)"
      ],
      "execution_count": 0,
      "outputs": []
    },
    {
      "cell_type": "code",
      "metadata": {
        "id": "q2AtOv0ITg7i",
        "colab_type": "code",
        "colab": {
          "base_uri": "https://localhost:8080/",
          "height": 71
        },
        "outputId": "74ce07a6-297f-467d-d198-6846d215b6e1"
      },
      "source": [
        "start = time.time()\n",
        "print(boolean_model.find_docs(test_sentence))\n",
        "logging.debug('Search Time: {}'.format(time.time() - start))"
      ],
      "execution_count": 18,
      "outputs": [
        {
          "output_type": "stream",
          "text": [
            "DEBUG:root:Search Time: 0.003613710403442383\n"
          ],
          "name": "stderr"
        },
        {
          "output_type": "stream",
          "text": [
            "{59393, 122885, 92166, 370697, 262166, 477206, 575512, 110616, 145432, 432154, 432166, 247847, 106540, 557108, 421941, 12351, 522305, 190534, 221260, 198735, 284753, 579665, 364632, 505945, 364635, 178274, 313443, 313451, 419951, 489583, 75893, 22646, 57466, 489595, 180351, 106626, 108677, 88199, 221320, 112780, 489618, 489620, 485525, 489622, 221335, 221336, 383136, 364705, 362658, 362662, 204967, 489639, 112810, 245933, 20656, 489651, 577718, 403642, 383163, 61629, 577727, 14529, 403650, 579780, 563400, 577738, 413900, 14540, 577743, 520399, 135378, 379091, 362708, 340183, 92376, 383196, 442590, 221414, 489710, 299250, 155891, 510199, 311545, 311553, 430350, 495888, 92435, 430358, 364825, 416028, 174377, 174380, 10544, 284977, 284978, 452915, 414004, 414006, 311610, 284990}\n"
          ],
          "name": "stdout"
        }
      ]
    },
    {
      "cell_type": "code",
      "metadata": {
        "id": "DMN7KIeYTlei",
        "colab_type": "code",
        "colab": {}
      },
      "source": [
        ""
      ],
      "execution_count": 0,
      "outputs": []
    },
    {
      "cell_type": "code",
      "metadata": {
        "id": "zpr9WQ0FVkLD",
        "colab_type": "code",
        "colab": {}
      },
      "source": [
        ""
      ],
      "execution_count": 0,
      "outputs": []
    }
  ]
}