{
  "nbformat": 4,
  "nbformat_minor": 0,
  "metadata": {
    "colab": {
      "name": "MLinRanking.ipynb",
      "provenance": [],
      "machine_shape": "hm",
      "include_colab_link": true
    },
    "kernelspec": {
      "name": "python3",
      "display_name": "Python 3"
    },
    "widgets": {
      "application/vnd.jupyter.widget-state+json": {
        "ec2a2223c03c4d67a334b53ee9ebb937": {
          "model_module": "@jupyter-widgets/controls",
          "model_name": "HBoxModel",
          "state": {
            "_view_name": "HBoxView",
            "_dom_classes": [],
            "_model_name": "HBoxModel",
            "_view_module": "@jupyter-widgets/controls",
            "_model_module_version": "1.5.0",
            "_view_count": null,
            "_view_module_version": "1.5.0",
            "box_style": "",
            "layout": "IPY_MODEL_5a57f2497dd145b281c9af6bef01e8bc",
            "_model_module": "@jupyter-widgets/controls",
            "children": [
              "IPY_MODEL_a58c0781144b4da8a004d224537ffa8b",
              "IPY_MODEL_0a98b993eec648d88536048faa725f2e"
            ]
          }
        },
        "5a57f2497dd145b281c9af6bef01e8bc": {
          "model_module": "@jupyter-widgets/base",
          "model_name": "LayoutModel",
          "state": {
            "_view_name": "LayoutView",
            "grid_template_rows": null,
            "right": null,
            "justify_content": null,
            "_view_module": "@jupyter-widgets/base",
            "overflow": null,
            "_model_module_version": "1.2.0",
            "_view_count": null,
            "flex_flow": null,
            "width": null,
            "min_width": null,
            "border": null,
            "align_items": null,
            "bottom": null,
            "_model_module": "@jupyter-widgets/base",
            "top": null,
            "grid_column": null,
            "overflow_y": null,
            "overflow_x": null,
            "grid_auto_flow": null,
            "grid_area": null,
            "grid_template_columns": null,
            "flex": null,
            "_model_name": "LayoutModel",
            "justify_items": null,
            "grid_row": null,
            "max_height": null,
            "align_content": null,
            "visibility": null,
            "align_self": null,
            "height": null,
            "min_height": null,
            "padding": null,
            "grid_auto_rows": null,
            "grid_gap": null,
            "max_width": null,
            "order": null,
            "_view_module_version": "1.2.0",
            "grid_template_areas": null,
            "object_position": null,
            "object_fit": null,
            "grid_auto_columns": null,
            "margin": null,
            "display": null,
            "left": null
          }
        },
        "a58c0781144b4da8a004d224537ffa8b": {
          "model_module": "@jupyter-widgets/controls",
          "model_name": "FloatProgressModel",
          "state": {
            "_view_name": "ProgressView",
            "style": "IPY_MODEL_6d68638406ce4880aa62ffb5e3200284",
            "_dom_classes": [],
            "description": "",
            "_model_name": "FloatProgressModel",
            "bar_style": "success",
            "max": 1,
            "_view_module": "@jupyter-widgets/controls",
            "_model_module_version": "1.5.0",
            "value": 1,
            "_view_count": null,
            "_view_module_version": "1.5.0",
            "orientation": "horizontal",
            "min": 0,
            "description_tooltip": null,
            "_model_module": "@jupyter-widgets/controls",
            "layout": "IPY_MODEL_cda5eee119fc4c3797131ecc34229323"
          }
        },
        "0a98b993eec648d88536048faa725f2e": {
          "model_module": "@jupyter-widgets/controls",
          "model_name": "HTMLModel",
          "state": {
            "_view_name": "HTMLView",
            "style": "IPY_MODEL_87b53253a2b245a2805164221fddf33a",
            "_dom_classes": [],
            "description": "",
            "_model_name": "HTMLModel",
            "placeholder": "​",
            "_view_module": "@jupyter-widgets/controls",
            "_model_module_version": "1.5.0",
            "value": " 37816/? [11:37&lt;00:00, 54.24it/s]",
            "_view_count": null,
            "_view_module_version": "1.5.0",
            "description_tooltip": null,
            "_model_module": "@jupyter-widgets/controls",
            "layout": "IPY_MODEL_cc1f130a530c4584ad98cc3753197d2e"
          }
        },
        "6d68638406ce4880aa62ffb5e3200284": {
          "model_module": "@jupyter-widgets/controls",
          "model_name": "ProgressStyleModel",
          "state": {
            "_view_name": "StyleView",
            "_model_name": "ProgressStyleModel",
            "description_width": "initial",
            "_view_module": "@jupyter-widgets/base",
            "_model_module_version": "1.5.0",
            "_view_count": null,
            "_view_module_version": "1.2.0",
            "bar_color": null,
            "_model_module": "@jupyter-widgets/controls"
          }
        },
        "cda5eee119fc4c3797131ecc34229323": {
          "model_module": "@jupyter-widgets/base",
          "model_name": "LayoutModel",
          "state": {
            "_view_name": "LayoutView",
            "grid_template_rows": null,
            "right": null,
            "justify_content": null,
            "_view_module": "@jupyter-widgets/base",
            "overflow": null,
            "_model_module_version": "1.2.0",
            "_view_count": null,
            "flex_flow": null,
            "width": null,
            "min_width": null,
            "border": null,
            "align_items": null,
            "bottom": null,
            "_model_module": "@jupyter-widgets/base",
            "top": null,
            "grid_column": null,
            "overflow_y": null,
            "overflow_x": null,
            "grid_auto_flow": null,
            "grid_area": null,
            "grid_template_columns": null,
            "flex": null,
            "_model_name": "LayoutModel",
            "justify_items": null,
            "grid_row": null,
            "max_height": null,
            "align_content": null,
            "visibility": null,
            "align_self": null,
            "height": null,
            "min_height": null,
            "padding": null,
            "grid_auto_rows": null,
            "grid_gap": null,
            "max_width": null,
            "order": null,
            "_view_module_version": "1.2.0",
            "grid_template_areas": null,
            "object_position": null,
            "object_fit": null,
            "grid_auto_columns": null,
            "margin": null,
            "display": null,
            "left": null
          }
        },
        "87b53253a2b245a2805164221fddf33a": {
          "model_module": "@jupyter-widgets/controls",
          "model_name": "DescriptionStyleModel",
          "state": {
            "_view_name": "StyleView",
            "_model_name": "DescriptionStyleModel",
            "description_width": "",
            "_view_module": "@jupyter-widgets/base",
            "_model_module_version": "1.5.0",
            "_view_count": null,
            "_view_module_version": "1.2.0",
            "_model_module": "@jupyter-widgets/controls"
          }
        },
        "cc1f130a530c4584ad98cc3753197d2e": {
          "model_module": "@jupyter-widgets/base",
          "model_name": "LayoutModel",
          "state": {
            "_view_name": "LayoutView",
            "grid_template_rows": null,
            "right": null,
            "justify_content": null,
            "_view_module": "@jupyter-widgets/base",
            "overflow": null,
            "_model_module_version": "1.2.0",
            "_view_count": null,
            "flex_flow": null,
            "width": null,
            "min_width": null,
            "border": null,
            "align_items": null,
            "bottom": null,
            "_model_module": "@jupyter-widgets/base",
            "top": null,
            "grid_column": null,
            "overflow_y": null,
            "overflow_x": null,
            "grid_auto_flow": null,
            "grid_area": null,
            "grid_template_columns": null,
            "flex": null,
            "_model_name": "LayoutModel",
            "justify_items": null,
            "grid_row": null,
            "max_height": null,
            "align_content": null,
            "visibility": null,
            "align_self": null,
            "height": null,
            "min_height": null,
            "padding": null,
            "grid_auto_rows": null,
            "grid_gap": null,
            "max_width": null,
            "order": null,
            "_view_module_version": "1.2.0",
            "grid_template_areas": null,
            "object_position": null,
            "object_fit": null,
            "grid_auto_columns": null,
            "margin": null,
            "display": null,
            "left": null
          }
        },
        "87c4a57902c04c38a133212329795f35": {
          "model_module": "@jupyter-widgets/controls",
          "model_name": "HBoxModel",
          "state": {
            "_view_name": "HBoxView",
            "_dom_classes": [],
            "_model_name": "HBoxModel",
            "_view_module": "@jupyter-widgets/controls",
            "_model_module_version": "1.5.0",
            "_view_count": null,
            "_view_module_version": "1.5.0",
            "box_style": "",
            "layout": "IPY_MODEL_b04e750ef6de4dc0b067c5d3cc49f81b",
            "_model_module": "@jupyter-widgets/controls",
            "children": [
              "IPY_MODEL_ed7f1158eb744bd4aefb9a9fe4d6a63e",
              "IPY_MODEL_bfc2b479de47442b8c3e6aa2886dd191"
            ]
          }
        },
        "b04e750ef6de4dc0b067c5d3cc49f81b": {
          "model_module": "@jupyter-widgets/base",
          "model_name": "LayoutModel",
          "state": {
            "_view_name": "LayoutView",
            "grid_template_rows": null,
            "right": null,
            "justify_content": null,
            "_view_module": "@jupyter-widgets/base",
            "overflow": null,
            "_model_module_version": "1.2.0",
            "_view_count": null,
            "flex_flow": null,
            "width": null,
            "min_width": null,
            "border": null,
            "align_items": null,
            "bottom": null,
            "_model_module": "@jupyter-widgets/base",
            "top": null,
            "grid_column": null,
            "overflow_y": null,
            "overflow_x": null,
            "grid_auto_flow": null,
            "grid_area": null,
            "grid_template_columns": null,
            "flex": null,
            "_model_name": "LayoutModel",
            "justify_items": null,
            "grid_row": null,
            "max_height": null,
            "align_content": null,
            "visibility": null,
            "align_self": null,
            "height": null,
            "min_height": null,
            "padding": null,
            "grid_auto_rows": null,
            "grid_gap": null,
            "max_width": null,
            "order": null,
            "_view_module_version": "1.2.0",
            "grid_template_areas": null,
            "object_position": null,
            "object_fit": null,
            "grid_auto_columns": null,
            "margin": null,
            "display": null,
            "left": null
          }
        },
        "ed7f1158eb744bd4aefb9a9fe4d6a63e": {
          "model_module": "@jupyter-widgets/controls",
          "model_name": "FloatProgressModel",
          "state": {
            "_view_name": "ProgressView",
            "style": "IPY_MODEL_2cd7081a830d41289ef0b3853e4471a4",
            "_dom_classes": [],
            "description": "100%",
            "_model_name": "FloatProgressModel",
            "bar_style": "success",
            "max": 4815884,
            "_view_module": "@jupyter-widgets/controls",
            "_model_module_version": "1.5.0",
            "value": 4815884,
            "_view_count": null,
            "_view_module_version": "1.5.0",
            "orientation": "horizontal",
            "min": 0,
            "description_tooltip": null,
            "_model_module": "@jupyter-widgets/controls",
            "layout": "IPY_MODEL_6a15b51f3d3c4c119610f7add9cf7df6"
          }
        },
        "bfc2b479de47442b8c3e6aa2886dd191": {
          "model_module": "@jupyter-widgets/controls",
          "model_name": "HTMLModel",
          "state": {
            "_view_name": "HTMLView",
            "style": "IPY_MODEL_e8b2327368d141998fb3685bfa325d25",
            "_dom_classes": [],
            "description": "",
            "_model_name": "HTMLModel",
            "placeholder": "​",
            "_view_module": "@jupyter-widgets/controls",
            "_model_module_version": "1.5.0",
            "value": " 4815884/4815884 [05:18&lt;00:00, 15116.80it/s]",
            "_view_count": null,
            "_view_module_version": "1.5.0",
            "description_tooltip": null,
            "_model_module": "@jupyter-widgets/controls",
            "layout": "IPY_MODEL_fdf3b1e56bd443f28a20ec50d39c798f"
          }
        },
        "2cd7081a830d41289ef0b3853e4471a4": {
          "model_module": "@jupyter-widgets/controls",
          "model_name": "ProgressStyleModel",
          "state": {
            "_view_name": "StyleView",
            "_model_name": "ProgressStyleModel",
            "description_width": "initial",
            "_view_module": "@jupyter-widgets/base",
            "_model_module_version": "1.5.0",
            "_view_count": null,
            "_view_module_version": "1.2.0",
            "bar_color": null,
            "_model_module": "@jupyter-widgets/controls"
          }
        },
        "6a15b51f3d3c4c119610f7add9cf7df6": {
          "model_module": "@jupyter-widgets/base",
          "model_name": "LayoutModel",
          "state": {
            "_view_name": "LayoutView",
            "grid_template_rows": null,
            "right": null,
            "justify_content": null,
            "_view_module": "@jupyter-widgets/base",
            "overflow": null,
            "_model_module_version": "1.2.0",
            "_view_count": null,
            "flex_flow": null,
            "width": null,
            "min_width": null,
            "border": null,
            "align_items": null,
            "bottom": null,
            "_model_module": "@jupyter-widgets/base",
            "top": null,
            "grid_column": null,
            "overflow_y": null,
            "overflow_x": null,
            "grid_auto_flow": null,
            "grid_area": null,
            "grid_template_columns": null,
            "flex": null,
            "_model_name": "LayoutModel",
            "justify_items": null,
            "grid_row": null,
            "max_height": null,
            "align_content": null,
            "visibility": null,
            "align_self": null,
            "height": null,
            "min_height": null,
            "padding": null,
            "grid_auto_rows": null,
            "grid_gap": null,
            "max_width": null,
            "order": null,
            "_view_module_version": "1.2.0",
            "grid_template_areas": null,
            "object_position": null,
            "object_fit": null,
            "grid_auto_columns": null,
            "margin": null,
            "display": null,
            "left": null
          }
        },
        "e8b2327368d141998fb3685bfa325d25": {
          "model_module": "@jupyter-widgets/controls",
          "model_name": "DescriptionStyleModel",
          "state": {
            "_view_name": "StyleView",
            "_model_name": "DescriptionStyleModel",
            "description_width": "",
            "_view_module": "@jupyter-widgets/base",
            "_model_module_version": "1.5.0",
            "_view_count": null,
            "_view_module_version": "1.2.0",
            "_model_module": "@jupyter-widgets/controls"
          }
        },
        "fdf3b1e56bd443f28a20ec50d39c798f": {
          "model_module": "@jupyter-widgets/base",
          "model_name": "LayoutModel",
          "state": {
            "_view_name": "LayoutView",
            "grid_template_rows": null,
            "right": null,
            "justify_content": null,
            "_view_module": "@jupyter-widgets/base",
            "overflow": null,
            "_model_module_version": "1.2.0",
            "_view_count": null,
            "flex_flow": null,
            "width": null,
            "min_width": null,
            "border": null,
            "align_items": null,
            "bottom": null,
            "_model_module": "@jupyter-widgets/base",
            "top": null,
            "grid_column": null,
            "overflow_y": null,
            "overflow_x": null,
            "grid_auto_flow": null,
            "grid_area": null,
            "grid_template_columns": null,
            "flex": null,
            "_model_name": "LayoutModel",
            "justify_items": null,
            "grid_row": null,
            "max_height": null,
            "align_content": null,
            "visibility": null,
            "align_self": null,
            "height": null,
            "min_height": null,
            "padding": null,
            "grid_auto_rows": null,
            "grid_gap": null,
            "max_width": null,
            "order": null,
            "_view_module_version": "1.2.0",
            "grid_template_areas": null,
            "object_position": null,
            "object_fit": null,
            "grid_auto_columns": null,
            "margin": null,
            "display": null,
            "left": null
          }
        },
        "a9806039ea984d72a2320a708aac8cf4": {
          "model_module": "@jupyter-widgets/controls",
          "model_name": "HBoxModel",
          "state": {
            "_view_name": "HBoxView",
            "_dom_classes": [],
            "_model_name": "HBoxModel",
            "_view_module": "@jupyter-widgets/controls",
            "_model_module_version": "1.5.0",
            "_view_count": null,
            "_view_module_version": "1.5.0",
            "box_style": "",
            "layout": "IPY_MODEL_e879e58cfb3440bba217a60425334705",
            "_model_module": "@jupyter-widgets/controls",
            "children": [
              "IPY_MODEL_e418ad5a5e1444278f800280be5f9259",
              "IPY_MODEL_5f544793f91c4047a7a53b035d9b9df5"
            ]
          }
        },
        "e879e58cfb3440bba217a60425334705": {
          "model_module": "@jupyter-widgets/base",
          "model_name": "LayoutModel",
          "state": {
            "_view_name": "LayoutView",
            "grid_template_rows": null,
            "right": null,
            "justify_content": null,
            "_view_module": "@jupyter-widgets/base",
            "overflow": null,
            "_model_module_version": "1.2.0",
            "_view_count": null,
            "flex_flow": null,
            "width": null,
            "min_width": null,
            "border": null,
            "align_items": null,
            "bottom": null,
            "_model_module": "@jupyter-widgets/base",
            "top": null,
            "grid_column": null,
            "overflow_y": null,
            "overflow_x": null,
            "grid_auto_flow": null,
            "grid_area": null,
            "grid_template_columns": null,
            "flex": null,
            "_model_name": "LayoutModel",
            "justify_items": null,
            "grid_row": null,
            "max_height": null,
            "align_content": null,
            "visibility": null,
            "align_self": null,
            "height": null,
            "min_height": null,
            "padding": null,
            "grid_auto_rows": null,
            "grid_gap": null,
            "max_width": null,
            "order": null,
            "_view_module_version": "1.2.0",
            "grid_template_areas": null,
            "object_position": null,
            "object_fit": null,
            "grid_auto_columns": null,
            "margin": null,
            "display": null,
            "left": null
          }
        },
        "e418ad5a5e1444278f800280be5f9259": {
          "model_module": "@jupyter-widgets/controls",
          "model_name": "FloatProgressModel",
          "state": {
            "_view_name": "ProgressView",
            "style": "IPY_MODEL_91af8b1f3f9643cb82d10442e9416fa3",
            "_dom_classes": [],
            "description": "100%",
            "_model_name": "FloatProgressModel",
            "bar_style": "success",
            "max": 400,
            "_view_module": "@jupyter-widgets/controls",
            "_model_module_version": "1.5.0",
            "value": 400,
            "_view_count": null,
            "_view_module_version": "1.5.0",
            "orientation": "horizontal",
            "min": 0,
            "description_tooltip": null,
            "_model_module": "@jupyter-widgets/controls",
            "layout": "IPY_MODEL_b747241b4b554bf5896c908174731cc0"
          }
        },
        "5f544793f91c4047a7a53b035d9b9df5": {
          "model_module": "@jupyter-widgets/controls",
          "model_name": "HTMLModel",
          "state": {
            "_view_name": "HTMLView",
            "style": "IPY_MODEL_6ee8f3528d324929aa04844706664d7c",
            "_dom_classes": [],
            "description": "",
            "_model_name": "HTMLModel",
            "placeholder": "​",
            "_view_module": "@jupyter-widgets/controls",
            "_model_module_version": "1.5.0",
            "value": " 400/400 [6:38:52&lt;00:00, 59.83s/it]",
            "_view_count": null,
            "_view_module_version": "1.5.0",
            "description_tooltip": null,
            "_model_module": "@jupyter-widgets/controls",
            "layout": "IPY_MODEL_efb24012952841c5bdb70cea8f4cc534"
          }
        },
        "91af8b1f3f9643cb82d10442e9416fa3": {
          "model_module": "@jupyter-widgets/controls",
          "model_name": "ProgressStyleModel",
          "state": {
            "_view_name": "StyleView",
            "_model_name": "ProgressStyleModel",
            "description_width": "initial",
            "_view_module": "@jupyter-widgets/base",
            "_model_module_version": "1.5.0",
            "_view_count": null,
            "_view_module_version": "1.2.0",
            "bar_color": null,
            "_model_module": "@jupyter-widgets/controls"
          }
        },
        "b747241b4b554bf5896c908174731cc0": {
          "model_module": "@jupyter-widgets/base",
          "model_name": "LayoutModel",
          "state": {
            "_view_name": "LayoutView",
            "grid_template_rows": null,
            "right": null,
            "justify_content": null,
            "_view_module": "@jupyter-widgets/base",
            "overflow": null,
            "_model_module_version": "1.2.0",
            "_view_count": null,
            "flex_flow": null,
            "width": null,
            "min_width": null,
            "border": null,
            "align_items": null,
            "bottom": null,
            "_model_module": "@jupyter-widgets/base",
            "top": null,
            "grid_column": null,
            "overflow_y": null,
            "overflow_x": null,
            "grid_auto_flow": null,
            "grid_area": null,
            "grid_template_columns": null,
            "flex": null,
            "_model_name": "LayoutModel",
            "justify_items": null,
            "grid_row": null,
            "max_height": null,
            "align_content": null,
            "visibility": null,
            "align_self": null,
            "height": null,
            "min_height": null,
            "padding": null,
            "grid_auto_rows": null,
            "grid_gap": null,
            "max_width": null,
            "order": null,
            "_view_module_version": "1.2.0",
            "grid_template_areas": null,
            "object_position": null,
            "object_fit": null,
            "grid_auto_columns": null,
            "margin": null,
            "display": null,
            "left": null
          }
        },
        "6ee8f3528d324929aa04844706664d7c": {
          "model_module": "@jupyter-widgets/controls",
          "model_name": "DescriptionStyleModel",
          "state": {
            "_view_name": "StyleView",
            "_model_name": "DescriptionStyleModel",
            "description_width": "",
            "_view_module": "@jupyter-widgets/base",
            "_model_module_version": "1.5.0",
            "_view_count": null,
            "_view_module_version": "1.2.0",
            "_model_module": "@jupyter-widgets/controls"
          }
        },
        "efb24012952841c5bdb70cea8f4cc534": {
          "model_module": "@jupyter-widgets/base",
          "model_name": "LayoutModel",
          "state": {
            "_view_name": "LayoutView",
            "grid_template_rows": null,
            "right": null,
            "justify_content": null,
            "_view_module": "@jupyter-widgets/base",
            "overflow": null,
            "_model_module_version": "1.2.0",
            "_view_count": null,
            "flex_flow": null,
            "width": null,
            "min_width": null,
            "border": null,
            "align_items": null,
            "bottom": null,
            "_model_module": "@jupyter-widgets/base",
            "top": null,
            "grid_column": null,
            "overflow_y": null,
            "overflow_x": null,
            "grid_auto_flow": null,
            "grid_area": null,
            "grid_template_columns": null,
            "flex": null,
            "_model_name": "LayoutModel",
            "justify_items": null,
            "grid_row": null,
            "max_height": null,
            "align_content": null,
            "visibility": null,
            "align_self": null,
            "height": null,
            "min_height": null,
            "padding": null,
            "grid_auto_rows": null,
            "grid_gap": null,
            "max_width": null,
            "order": null,
            "_view_module_version": "1.2.0",
            "grid_template_areas": null,
            "object_position": null,
            "object_fit": null,
            "grid_auto_columns": null,
            "margin": null,
            "display": null,
            "left": null
          }
        },
        "f240404a82b648df902d7a43dcf6f595": {
          "model_module": "@jupyter-widgets/controls",
          "model_name": "HBoxModel",
          "state": {
            "_view_name": "HBoxView",
            "_dom_classes": [],
            "_model_name": "HBoxModel",
            "_view_module": "@jupyter-widgets/controls",
            "_model_module_version": "1.5.0",
            "_view_count": null,
            "_view_module_version": "1.5.0",
            "box_style": "",
            "layout": "IPY_MODEL_4978ebc382ae41fb87b42ce43262dcc4",
            "_model_module": "@jupyter-widgets/controls",
            "children": [
              "IPY_MODEL_265f552f4eef4ed8a54848d0c2917fe2",
              "IPY_MODEL_3f7d766157284321bc0d6da9dc68dc2a"
            ]
          }
        },
        "4978ebc382ae41fb87b42ce43262dcc4": {
          "model_module": "@jupyter-widgets/base",
          "model_name": "LayoutModel",
          "state": {
            "_view_name": "LayoutView",
            "grid_template_rows": null,
            "right": null,
            "justify_content": null,
            "_view_module": "@jupyter-widgets/base",
            "overflow": null,
            "_model_module_version": "1.2.0",
            "_view_count": null,
            "flex_flow": null,
            "width": null,
            "min_width": null,
            "border": null,
            "align_items": null,
            "bottom": null,
            "_model_module": "@jupyter-widgets/base",
            "top": null,
            "grid_column": null,
            "overflow_y": null,
            "overflow_x": null,
            "grid_auto_flow": null,
            "grid_area": null,
            "grid_template_columns": null,
            "flex": null,
            "_model_name": "LayoutModel",
            "justify_items": null,
            "grid_row": null,
            "max_height": null,
            "align_content": null,
            "visibility": null,
            "align_self": null,
            "height": null,
            "min_height": null,
            "padding": null,
            "grid_auto_rows": null,
            "grid_gap": null,
            "max_width": null,
            "order": null,
            "_view_module_version": "1.2.0",
            "grid_template_areas": null,
            "object_position": null,
            "object_fit": null,
            "grid_auto_columns": null,
            "margin": null,
            "display": null,
            "left": null
          }
        },
        "265f552f4eef4ed8a54848d0c2917fe2": {
          "model_module": "@jupyter-widgets/controls",
          "model_name": "FloatProgressModel",
          "state": {
            "_view_name": "ProgressView",
            "style": "IPY_MODEL_d2d94a2452a94df1a8bc37652577f11e",
            "_dom_classes": [],
            "description": "100%",
            "_model_name": "FloatProgressModel",
            "bar_style": "success",
            "max": 400,
            "_view_module": "@jupyter-widgets/controls",
            "_model_module_version": "1.5.0",
            "value": 400,
            "_view_count": null,
            "_view_module_version": "1.5.0",
            "orientation": "horizontal",
            "min": 0,
            "description_tooltip": null,
            "_model_module": "@jupyter-widgets/controls",
            "layout": "IPY_MODEL_d53c02a2f9dd46e396039911ef4a0762"
          }
        },
        "3f7d766157284321bc0d6da9dc68dc2a": {
          "model_module": "@jupyter-widgets/controls",
          "model_name": "HTMLModel",
          "state": {
            "_view_name": "HTMLView",
            "style": "IPY_MODEL_2371e52747af40d38a20485cbff63229",
            "_dom_classes": [],
            "description": "",
            "_model_name": "HTMLModel",
            "placeholder": "​",
            "_view_module": "@jupyter-widgets/controls",
            "_model_module_version": "1.5.0",
            "value": " 400/400 [33:21&lt;00:00,  5.00s/it]",
            "_view_count": null,
            "_view_module_version": "1.5.0",
            "description_tooltip": null,
            "_model_module": "@jupyter-widgets/controls",
            "layout": "IPY_MODEL_0b8cfc0cd7734640a7dc761a6750966a"
          }
        },
        "d2d94a2452a94df1a8bc37652577f11e": {
          "model_module": "@jupyter-widgets/controls",
          "model_name": "ProgressStyleModel",
          "state": {
            "_view_name": "StyleView",
            "_model_name": "ProgressStyleModel",
            "description_width": "initial",
            "_view_module": "@jupyter-widgets/base",
            "_model_module_version": "1.5.0",
            "_view_count": null,
            "_view_module_version": "1.2.0",
            "bar_color": null,
            "_model_module": "@jupyter-widgets/controls"
          }
        },
        "d53c02a2f9dd46e396039911ef4a0762": {
          "model_module": "@jupyter-widgets/base",
          "model_name": "LayoutModel",
          "state": {
            "_view_name": "LayoutView",
            "grid_template_rows": null,
            "right": null,
            "justify_content": null,
            "_view_module": "@jupyter-widgets/base",
            "overflow": null,
            "_model_module_version": "1.2.0",
            "_view_count": null,
            "flex_flow": null,
            "width": null,
            "min_width": null,
            "border": null,
            "align_items": null,
            "bottom": null,
            "_model_module": "@jupyter-widgets/base",
            "top": null,
            "grid_column": null,
            "overflow_y": null,
            "overflow_x": null,
            "grid_auto_flow": null,
            "grid_area": null,
            "grid_template_columns": null,
            "flex": null,
            "_model_name": "LayoutModel",
            "justify_items": null,
            "grid_row": null,
            "max_height": null,
            "align_content": null,
            "visibility": null,
            "align_self": null,
            "height": null,
            "min_height": null,
            "padding": null,
            "grid_auto_rows": null,
            "grid_gap": null,
            "max_width": null,
            "order": null,
            "_view_module_version": "1.2.0",
            "grid_template_areas": null,
            "object_position": null,
            "object_fit": null,
            "grid_auto_columns": null,
            "margin": null,
            "display": null,
            "left": null
          }
        },
        "2371e52747af40d38a20485cbff63229": {
          "model_module": "@jupyter-widgets/controls",
          "model_name": "DescriptionStyleModel",
          "state": {
            "_view_name": "StyleView",
            "_model_name": "DescriptionStyleModel",
            "description_width": "",
            "_view_module": "@jupyter-widgets/base",
            "_model_module_version": "1.5.0",
            "_view_count": null,
            "_view_module_version": "1.2.0",
            "_model_module": "@jupyter-widgets/controls"
          }
        },
        "0b8cfc0cd7734640a7dc761a6750966a": {
          "model_module": "@jupyter-widgets/base",
          "model_name": "LayoutModel",
          "state": {
            "_view_name": "LayoutView",
            "grid_template_rows": null,
            "right": null,
            "justify_content": null,
            "_view_module": "@jupyter-widgets/base",
            "overflow": null,
            "_model_module_version": "1.2.0",
            "_view_count": null,
            "flex_flow": null,
            "width": null,
            "min_width": null,
            "border": null,
            "align_items": null,
            "bottom": null,
            "_model_module": "@jupyter-widgets/base",
            "top": null,
            "grid_column": null,
            "overflow_y": null,
            "overflow_x": null,
            "grid_auto_flow": null,
            "grid_area": null,
            "grid_template_columns": null,
            "flex": null,
            "_model_name": "LayoutModel",
            "justify_items": null,
            "grid_row": null,
            "max_height": null,
            "align_content": null,
            "visibility": null,
            "align_self": null,
            "height": null,
            "min_height": null,
            "padding": null,
            "grid_auto_rows": null,
            "grid_gap": null,
            "max_width": null,
            "order": null,
            "_view_module_version": "1.2.0",
            "grid_template_areas": null,
            "object_position": null,
            "object_fit": null,
            "grid_auto_columns": null,
            "margin": null,
            "display": null,
            "left": null
          }
        }
      }
    }
  },
  "cells": [
    {
      "cell_type": "markdown",
      "metadata": {
        "id": "view-in-github",
        "colab_type": "text"
      },
      "source": [
        "<a href=\"https://colab.research.google.com/github/shivammehta007/Information-Retrieval/blob/master/MLinRanking.ipynb\" target=\"_parent\"><img src=\"https://colab.research.google.com/assets/colab-badge.svg\" alt=\"Open In Colab\"/></a>"
      ]
    },
    {
      "cell_type": "markdown",
      "metadata": {
        "id": "DXrlHszYAA-W",
        "colab_type": "text"
      },
      "source": [
        "# Application of ML in Ranking"
      ]
    },
    {
      "cell_type": "markdown",
      "metadata": {
        "id": "NB4Cq_51AKTa",
        "colab_type": "text"
      },
      "source": [
        "# Application of ML in Ranking of Search Engines"
      ]
    },
    {
      "cell_type": "markdown",
      "metadata": {
        "id": "dxVYBQ9tDrAq",
        "colab_type": "text"
      },
      "source": [
        "## Downloading Data From Kaggle\n",
        "#### Might Take a while"
      ]
    },
    {
      "cell_type": "code",
      "metadata": {
        "id": "NXmYVxMwAKlG",
        "colab_type": "code",
        "outputId": "f430f8c8-a9f8-4829-d928-43b05f64b8e1",
        "colab": {
          "base_uri": "https://localhost:8080/",
          "height": 122
        }
      },
      "source": [
        "from google.colab import drive\n",
        "drive.mount('/content/drive', force_remount=True)"
      ],
      "execution_count": 1,
      "outputs": [
        {
          "output_type": "stream",
          "text": [
            "Go to this URL in a browser: https://accounts.google.com/o/oauth2/auth?client_id=947318989803-6bn6qk8qdgf4n4g3pfee6491hc0brc4i.apps.googleusercontent.com&redirect_uri=urn%3aietf%3awg%3aoauth%3a2.0%3aoob&response_type=code&scope=email%20https%3a%2f%2fwww.googleapis.com%2fauth%2fdocs.test%20https%3a%2f%2fwww.googleapis.com%2fauth%2fdrive%20https%3a%2f%2fwww.googleapis.com%2fauth%2fdrive.photos.readonly%20https%3a%2f%2fwww.googleapis.com%2fauth%2fpeopleapi.readonly\n",
            "\n",
            "Enter your authorization code:\n",
            "··········\n",
            "Mounted at /content/drive\n"
          ],
          "name": "stdout"
        }
      ]
    },
    {
      "cell_type": "code",
      "metadata": {
        "id": "UgE7bVar-3PR",
        "colab_type": "code",
        "outputId": "5156f297-07d2-42b8-fcaa-36cf09966ee4",
        "colab": {
          "base_uri": "https://localhost:8080/",
          "height": 408
        }
      },
      "source": [
        "# Download Data\n",
        "!pip install kaggle\n",
        "import json\n",
        "import os\n",
        "\n",
        "with open('/content/drive/My Drive/kaggle.json') as kc:\n",
        "    kaggle_config = json.load(kc)\n",
        "\n",
        "os.environ['KAGGLE_USERNAME'] = kaggle_config['username'] \n",
        "os.environ['KAGGLE_KEY'] = kaggle_config['key'] \n",
        "\n",
        "!kaggle competitions download -c text-relevance-competition-ir-2-itmo-fall-2019\n",
        "!unzip docs.tsv.zip\n",
        "!rm docs.tsv.zip"
      ],
      "execution_count": 2,
      "outputs": [
        {
          "output_type": "stream",
          "text": [
            "Requirement already satisfied: kaggle in /usr/local/lib/python3.6/dist-packages (1.5.6)\n",
            "Requirement already satisfied: urllib3<1.25,>=1.21.1 in /usr/local/lib/python3.6/dist-packages (from kaggle) (1.24.3)\n",
            "Requirement already satisfied: six>=1.10 in /usr/local/lib/python3.6/dist-packages (from kaggle) (1.12.0)\n",
            "Requirement already satisfied: requests in /usr/local/lib/python3.6/dist-packages (from kaggle) (2.21.0)\n",
            "Requirement already satisfied: python-slugify in /usr/local/lib/python3.6/dist-packages (from kaggle) (4.0.0)\n",
            "Requirement already satisfied: python-dateutil in /usr/local/lib/python3.6/dist-packages (from kaggle) (2.6.1)\n",
            "Requirement already satisfied: certifi in /usr/local/lib/python3.6/dist-packages (from kaggle) (2019.11.28)\n",
            "Requirement already satisfied: tqdm in /usr/local/lib/python3.6/dist-packages (from kaggle) (4.28.1)\n",
            "Requirement already satisfied: chardet<3.1.0,>=3.0.2 in /usr/local/lib/python3.6/dist-packages (from requests->kaggle) (3.0.4)\n",
            "Requirement already satisfied: idna<2.9,>=2.5 in /usr/local/lib/python3.6/dist-packages (from requests->kaggle) (2.8)\n",
            "Requirement already satisfied: text-unidecode>=1.3 in /usr/local/lib/python3.6/dist-packages (from python-slugify->kaggle) (1.3)\n",
            "Warning: Looks like you're using an outdated API Version, please consider updating (server 1.5.6 / client 1.5.4)\n",
            "Downloading docs.tsv.zip to /content\n",
            " 99% 1.16G/1.17G [00:10<00:00, 117MB/s]\n",
            "100% 1.17G/1.17G [00:10<00:00, 116MB/s]\n",
            "Downloading queries.numerate.txt to /content\n",
            "  0% 0.00/31.9k [00:00<?, ?B/s]\n",
            "100% 31.9k/31.9k [00:00<00:00, 27.9MB/s]\n",
            "Downloading sample.submission.txt to /content\n",
            "  0% 0.00/434k [00:00<?, ?B/s]\n",
            "100% 434k/434k [00:00<00:00, 138MB/s]\n",
            "Archive:  docs.tsv.zip\n",
            "  inflating: docs.tsv                \n"
          ],
          "name": "stdout"
        }
      ]
    },
    {
      "cell_type": "markdown",
      "metadata": {
        "id": "B5_6nqBCD04I",
        "colab_type": "text"
      },
      "source": [
        "## Code"
      ]
    },
    {
      "cell_type": "code",
      "metadata": {
        "id": "Qt9i5ism_42a",
        "colab_type": "code",
        "outputId": "15120bd0-358d-4aa8-8293-cc7fa2997f54",
        "colab": {
          "base_uri": "https://localhost:8080/",
          "height": 153
        }
      },
      "source": [
        "!pip install -U tqdm\n",
        "!pip install rank_bm25\n",
        "!pip install keyw\n",
        "import os\n",
        "import gzip\n",
        "import nltk\n",
        "import random\n",
        "import pickle\n",
        "import pandas as pd\n",
        "import keyw\n",
        "import logging\n",
        "import itertools\n",
        "import re\n",
        "import time\n",
        "\n",
        "import numpy as np\n",
        "import pandas as pd\n",
        "\n",
        "from rank_bm25 import BM25Okapi\n",
        "\n",
        "from nltk.corpus import stopwords\n",
        "nltk.download(\"stopwords\")\n",
        "\n",
        "from string import punctuation\n",
        "from collections import defaultdict\n",
        "from collections import OrderedDict\n",
        "from tqdm.notebook import tqdm\n",
        "from sklearn.metrics.pairwise import cosine_similarity\n",
        "from sklearn.feature_extraction.text import TfidfVectorizer\n",
        "\n",
        "\n",
        "logging.basicConfig(level=logging.DEBUG)\n",
        "logging.debug('Test Logger')"
      ],
      "execution_count": 19,
      "outputs": [
        {
          "output_type": "stream",
          "text": [
            "Requirement already up-to-date: tqdm in /usr/local/lib/python3.6/dist-packages (4.41.1)\n",
            "Requirement already satisfied: rank_bm25 in /usr/local/lib/python3.6/dist-packages (0.2)\n",
            "Requirement already satisfied: numpy in /usr/local/lib/python3.6/dist-packages (from rank_bm25) (1.17.4)\n",
            "Requirement already satisfied: keyw in /usr/local/lib/python3.6/dist-packages (1.0)\n",
            "Requirement already satisfied: peppercorn in /usr/local/lib/python3.6/dist-packages (from keyw) (0.6)\n"
          ],
          "name": "stdout"
        },
        {
          "output_type": "stream",
          "text": [
            "DEBUG:root:Test Logger\n"
          ],
          "name": "stderr"
        },
        {
          "output_type": "stream",
          "text": [
            "[nltk_data] Downloading package stopwords to /root/nltk_data...\n",
            "[nltk_data]   Package stopwords is already up-to-date!\n"
          ],
          "name": "stdout"
        }
      ]
    },
    {
      "cell_type": "code",
      "metadata": {
        "id": "KUDH6FM1-56w",
        "colab_type": "code",
        "colab": {}
      },
      "source": [
        "indexing_data_location = '/content/docs.tsv'\n",
        "queries_list = '/content/queries.numerate.txt'"
      ],
      "execution_count": 0,
      "outputs": []
    },
    {
      "cell_type": "markdown",
      "metadata": {
        "id": "fnw4CtnZGdLR",
        "colab_type": "text"
      },
      "source": [
        "### Building Inverted Index"
      ]
    },
    {
      "cell_type": "markdown",
      "metadata": {
        "id": "U-LH8zk9GhMT",
        "colab_type": "text"
      },
      "source": [
        "#### Inverted Indexer Class"
      ]
    },
    {
      "cell_type": "code",
      "metadata": {
        "id": "nZvW93v-GXEz",
        "colab_type": "code",
        "colab": {}
      },
      "source": [
        "class InvertedIndexer:\n",
        "    \"\"\"\n",
        "    This class makes inverted index\n",
        "    \"\"\"\n",
        "\n",
        "    def __init__(self, filename=False):\n",
        "        self.filename = filename\n",
        "        self.stemmer_ru = nltk.SnowballStemmer(\"russian\")\n",
        "        self.stopwords = set(stopwords.words(\"russian\")) | set(stopwords.words(\"english\"))\n",
        "        self.punctuation = punctuation # from string import punctuation\n",
        "        if filename:\n",
        "            self.inverted_index = self._build_index(self.filename)\n",
        "        else:\n",
        "            self.inverted_index = defaultdict(set)\n",
        "\n",
        "    def preprocess(self, sentence):\n",
        "        \"\"\"\n",
        "        Method to remove stop words and punctuations return tokens\n",
        "        \"\"\"\n",
        "        NONTEXT = re.compile('[^0-9 a-z#+_а-яё]')\n",
        "\n",
        "        sentence = sentence.lower()\n",
        "        sentence = sentence.translate(str.maketrans('', '', punctuation))\n",
        "        sentence = re.sub(NONTEXT,'',sentence)\n",
        "\n",
        "\n",
        "        tokens = [token for token in sentence.split() if token not in self.stopwords]\n",
        "\n",
        "\n",
        "        return tokens\n",
        "\n",
        "    def stem_keys(self, inverted_index):\n",
        "        \"\"\"\n",
        "        Called after index is built to stem all the keys and normalize them\n",
        "        \"\"\"\n",
        "        logging.debug('Indexing Complete will not Stem keys and remap indexes')\n",
        "        temp_dict = defaultdict(set)\n",
        "        i = 0\n",
        "        for word in tqdm(inverted_index):\n",
        "\n",
        "            stemmed_key = self.stemmer_ru.stem(word)\n",
        "            temp_dict[stemmed_key].update(inverted_index[word])\n",
        "            inverted_index[word] = None\n",
        "\n",
        "        inverted_index = temp_dict\n",
        "        logging.debug('Done Stemmping Indexes')\n",
        "        return inverted_index\n",
        "\n",
        "    def _build_index(self, indexing_data_location):\n",
        "        \"\"\"\n",
        "        This method builds the inverted index and returns the invrted index dictionary\n",
        "        \"\"\"\n",
        "        inverted_index = defaultdict(set)\n",
        "        with open(indexing_data_location, \"rb\") as f:\n",
        "            for line in tqdm(f):\n",
        "                line = line.decode().split('\\t')\n",
        "                file_number = line[0]\n",
        "                subject = line[1]\n",
        "                text = line[2]\n",
        "                line = subject + ' ' + text\n",
        "\n",
        "                for word in self.preprocess(line):\n",
        "                        inverted_index[word].add(int(file_number))\n",
        "\n",
        "\n",
        "        inverted_index = self.stem_keys(inverted_index)\n",
        "\n",
        "        return inverted_index\n",
        "\n",
        "    def save(self, filename_to_save):\n",
        "        \"\"\"\n",
        "        Save method to save the inverted indexes\n",
        "        \"\"\"\n",
        "        with open(filename_to_save, mode='wb') as f:\n",
        "            pickle.dump(self.inverted_index, f)\n",
        "        \n",
        "\n",
        "    def load(self, filelocation_to_load):\n",
        "        \"\"\"\n",
        "        Load method to load the inverted indexes\n",
        "        \"\"\"\n",
        "        with open(filelocation_to_load, mode='rb') as f:\n",
        "            self.inverted_index = pickle.load(f)\n"
      ],
      "execution_count": 0,
      "outputs": []
    },
    {
      "cell_type": "markdown",
      "metadata": {
        "id": "vXQMVmKdGkmV",
        "colab_type": "text"
      },
      "source": [
        "#### SolutionPredictor Class"
      ]
    },
    {
      "cell_type": "code",
      "metadata": {
        "id": "uvlVal49GpD2",
        "colab_type": "code",
        "colab": {}
      },
      "source": [
        "class SolutionPredictor:\n",
        "    \"\"\"\n",
        "    This classes uses object of Hw1SolutionIndexer\n",
        "    to make boolean search\n",
        "    \"\"\"\n",
        "    def __init__(self, indexer):\n",
        "        \"\"\"\n",
        "        indexer : object of class Hw1SolutionIndexer\n",
        "        \"\"\"\n",
        "        self.indexer = indexer\n",
        "\n",
        "\n",
        "    def find_docs(self, query):\n",
        "        \"\"\"\n",
        "        This method provides booleaen search\n",
        "        query : string with text of query\n",
        "        Returns Python set with documents which contain query words\n",
        "        Should return maximum 100 docs\n",
        "        \"\"\"\n",
        "\n",
        "        query = keyw.engrus(query)\n",
        "        tokens = self.indexer.preprocess(query)\n",
        "        tokens = [self.indexer.stemmer_ru.stem(word) for word in tokens]\n",
        "        docs_list = set()\n",
        "        for word in tokens:\n",
        "            if word in self.indexer.inverted_index:\n",
        "                if len(docs_list) > 0:\n",
        "                    docs_list.intersection_update(self.indexer.inverted_index[word]) # changed from intersection_update\n",
        "                else:\n",
        "                    docs_list.update(self.indexer.inverted_index[word])\n",
        "        \n",
        "        return docs_list"
      ],
      "execution_count": 0,
      "outputs": []
    },
    {
      "cell_type": "markdown",
      "metadata": {
        "id": "S0J9P0DwG17E",
        "colab_type": "text"
      },
      "source": [
        "#### Generate Index \n",
        "Run Only when Index is not generated Otherwise use the Loading code block"
      ]
    },
    {
      "cell_type": "code",
      "metadata": {
        "id": "qP_FPH13GrU6",
        "colab_type": "code",
        "outputId": "171d569d-6556-4166-c1a8-5307d7b9c795",
        "colab": {
          "base_uri": "https://localhost:8080/",
          "height": 183,
          "referenced_widgets": [
            "ec2a2223c03c4d67a334b53ee9ebb937",
            "5a57f2497dd145b281c9af6bef01e8bc",
            "a58c0781144b4da8a004d224537ffa8b",
            "0a98b993eec648d88536048faa725f2e",
            "6d68638406ce4880aa62ffb5e3200284",
            "cda5eee119fc4c3797131ecc34229323",
            "87b53253a2b245a2805164221fddf33a",
            "cc1f130a530c4584ad98cc3753197d2e",
            "87c4a57902c04c38a133212329795f35",
            "b04e750ef6de4dc0b067c5d3cc49f81b",
            "ed7f1158eb744bd4aefb9a9fe4d6a63e",
            "bfc2b479de47442b8c3e6aa2886dd191",
            "2cd7081a830d41289ef0b3853e4471a4",
            "6a15b51f3d3c4c119610f7add9cf7df6",
            "e8b2327368d141998fb3685bfa325d25",
            "fdf3b1e56bd443f28a20ec50d39c798f"
          ]
        }
      },
      "source": [
        "logging.debug('Index is creating...')\n",
        "start = time.time()\n",
        "new_index = InvertedIndexer(indexing_data_location) \n",
        "end = time.time()\n",
        "logging.debug('Index has been created and saved as inverted_index.pickle in {:.4f}s'.format(end-start))"
      ],
      "execution_count": 0,
      "outputs": [
        {
          "output_type": "stream",
          "text": [
            "DEBUG:root:Index is creating...\n"
          ],
          "name": "stderr"
        },
        {
          "output_type": "display_data",
          "data": {
            "application/vnd.jupyter.widget-view+json": {
              "model_id": "ec2a2223c03c4d67a334b53ee9ebb937",
              "version_minor": 0,
              "version_major": 2
            },
            "text/plain": [
              "HBox(children=(FloatProgress(value=1.0, bar_style='info', max=1.0), HTML(value='')))"
            ]
          },
          "metadata": {
            "tags": []
          }
        },
        {
          "output_type": "stream",
          "text": [
            "DEBUG:root:Indexing Complete will not Stem keys and remap indexes\n"
          ],
          "name": "stderr"
        },
        {
          "output_type": "stream",
          "text": [
            "\n"
          ],
          "name": "stdout"
        },
        {
          "output_type": "display_data",
          "data": {
            "application/vnd.jupyter.widget-view+json": {
              "model_id": "87c4a57902c04c38a133212329795f35",
              "version_minor": 0,
              "version_major": 2
            },
            "text/plain": [
              "HBox(children=(FloatProgress(value=0.0, max=4815884.0), HTML(value='')))"
            ]
          },
          "metadata": {
            "tags": []
          }
        },
        {
          "output_type": "stream",
          "text": [
            "DEBUG:root:Done Stemmping Indexes\n",
            "DEBUG:root:Index has been created and saved as inverted_index.pickle in 1007.3685s\n"
          ],
          "name": "stderr"
        },
        {
          "output_type": "stream",
          "text": [
            "\n"
          ],
          "name": "stdout"
        }
      ]
    },
    {
      "cell_type": "code",
      "metadata": {
        "id": "IkT1dOvjJ8yb",
        "colab_type": "code",
        "outputId": "442f4326-beb0-4f7b-8b7e-18174be864e7",
        "colab": {
          "base_uri": "https://localhost:8080/",
          "height": 34
        }
      },
      "source": [
        "len(new_index.inverted_index)"
      ],
      "execution_count": 0,
      "outputs": [
        {
          "output_type": "execute_result",
          "data": {
            "text/plain": [
              "2858862"
            ]
          },
          "metadata": {
            "tags": []
          },
          "execution_count": 8
        }
      ]
    },
    {
      "cell_type": "code",
      "metadata": {
        "id": "Lrvd8h-1Rr54",
        "colab_type": "code",
        "colab": {}
      },
      "source": [
        "new_index.save('inverted_index.pickle')"
      ],
      "execution_count": 0,
      "outputs": []
    },
    {
      "cell_type": "code",
      "metadata": {
        "id": "FM_7-y9dTCST",
        "colab_type": "code",
        "colab": {}
      },
      "source": [
        "!cp inverted_index.pickle '/content/drive/My Drive/Homeworks/InformationRetrieval/inverted_index_4.pickle'"
      ],
      "execution_count": 0,
      "outputs": []
    },
    {
      "cell_type": "markdown",
      "metadata": {
        "id": "Z1hjVJ3SU1a1",
        "colab_type": "text"
      },
      "source": [
        "#### Load Index\n",
        "Run when Index is not generated"
      ]
    },
    {
      "cell_type": "code",
      "metadata": {
        "id": "sA6qW77ZVJD1",
        "colab_type": "code",
        "colab": {}
      },
      "source": [
        "index_location = '/content/drive/My Drive/Homeworks/InformationRetrieval/inverted_index_all_rus.pickle'"
      ],
      "execution_count": 0,
      "outputs": []
    },
    {
      "cell_type": "code",
      "metadata": {
        "id": "_-huYstNU8Ag",
        "colab_type": "code",
        "outputId": "ebf13201-82da-4fd5-e509-65e6ea6bd95a",
        "colab": {
          "base_uri": "https://localhost:8080/",
          "height": 51
        }
      },
      "source": [
        "logging.debug('Loading Index...')\n",
        "start = time.time()\n",
        "new_index = InvertedIndexer()\n",
        "new_index.load(index_location)\n",
        "end = time.time()\n",
        "logging.debug('Index has been loaded from inverted_index.pickle in {:.4f}s'.format(end-start))"
      ],
      "execution_count": 8,
      "outputs": [
        {
          "output_type": "stream",
          "text": [
            "DEBUG:root:Loading Index...\n",
            "DEBUG:root:Index has been loaded from inverted_index.pickle in 76.2058s\n"
          ],
          "name": "stderr"
        }
      ]
    },
    {
      "cell_type": "code",
      "metadata": {
        "id": "8wLJB7hqbAIG",
        "colab_type": "code",
        "outputId": "89e549d7-051d-45a7-ba06-7f248c906dc4",
        "colab": {
          "base_uri": "https://localhost:8080/",
          "height": 34
        }
      },
      "source": [
        "len(new_index.inverted_index)"
      ],
      "execution_count": 9,
      "outputs": [
        {
          "output_type": "execute_result",
          "data": {
            "text/plain": [
              "2820826"
            ]
          },
          "metadata": {
            "tags": []
          },
          "execution_count": 9
        }
      ]
    },
    {
      "cell_type": "markdown",
      "metadata": {
        "id": "byC3g9QZgYCe",
        "colab_type": "text"
      },
      "source": [
        "#### Convert keys to all Russian only text"
      ]
    },
    {
      "cell_type": "code",
      "metadata": {
        "id": "UpGFwg_Rgdnb",
        "colab_type": "code",
        "colab": {}
      },
      "source": [
        "temp_dict = defaultdict(set)\n",
        "i = 0\n",
        "for word in new_index.inverted_index:\n",
        "    i += 1\n",
        "    if i % 100000 == 0:\n",
        "        print(i)\n",
        "    rus_key = keyw.engrus(word)\n",
        "\n",
        "    temp_dict[rus_key].update(new_index.inverted_index[word])\n",
        "    new_index.inverted_index[word] = None\n",
        "\n",
        "new_index.inverted_index = temp_dict\n",
        "temp_dict = None\n",
        "del temp_dict\n"
      ],
      "execution_count": 0,
      "outputs": []
    },
    {
      "cell_type": "code",
      "metadata": {
        "id": "2hBIRwL1j7Aq",
        "colab_type": "code",
        "colab": {
          "base_uri": "https://localhost:8080/",
          "height": 34
        },
        "outputId": "a59ade1d-ef75-4218-e0ff-f87465c3ac71"
      },
      "source": [
        "len(new_index.inverted_index)"
      ],
      "execution_count": 29,
      "outputs": [
        {
          "output_type": "execute_result",
          "data": {
            "text/plain": [
              "4756065"
            ]
          },
          "metadata": {
            "tags": []
          },
          "execution_count": 29
        }
      ]
    },
    {
      "cell_type": "code",
      "metadata": {
        "id": "F1SgnEfHq0OR",
        "colab_type": "code",
        "colab": {}
      },
      "source": [
        "new_index.save('inverted_index_all_rus_no_stem.pickle')"
      ],
      "execution_count": 0,
      "outputs": []
    },
    {
      "cell_type": "code",
      "metadata": {
        "id": "eQsYrgucrBFC",
        "colab_type": "code",
        "colab": {}
      },
      "source": [
        "!cp inverted_index_all_rus_no_stem.pickle '/content/drive/My Drive/Homeworks/InformationRetrieval/inverted_index_all_rus_no_stem.pickle'"
      ],
      "execution_count": 0,
      "outputs": []
    },
    {
      "cell_type": "markdown",
      "metadata": {
        "id": "E8hg8QdDUHl4",
        "colab_type": "text"
      },
      "source": [
        "##### Testing Block"
      ]
    },
    {
      "cell_type": "code",
      "metadata": {
        "id": "bBxPGXGMHDIp",
        "colab_type": "code",
        "colab": {}
      },
      "source": [
        "test_sentence = 'бандиты боятся ли ментов'"
      ],
      "execution_count": 0,
      "outputs": []
    },
    {
      "cell_type": "code",
      "metadata": {
        "id": "82-U2VzPTSxH",
        "colab_type": "code",
        "colab": {}
      },
      "source": [
        "boolean_model = SolutionPredictor(new_index)"
      ],
      "execution_count": 0,
      "outputs": []
    },
    {
      "cell_type": "code",
      "metadata": {
        "id": "q2AtOv0ITg7i",
        "colab_type": "code",
        "outputId": "f3165571-e3f0-474b-9243-7e07fe1464f3",
        "colab": {
          "base_uri": "https://localhost:8080/",
          "height": 71
        }
      },
      "source": [
        "start = time.time()\n",
        "value_present = boolean_model.find_docs(test_sentence)\n",
        "print(value_present)\n",
        "logging.debug('Search Time: {}'.format(time.time() - start))"
      ],
      "execution_count": 28,
      "outputs": [
        {
          "output_type": "stream",
          "text": [
            "DEBUG:root:Search Time: 0.0024552345275878906\n"
          ],
          "name": "stderr"
        },
        {
          "output_type": "stream",
          "text": [
            "{59393, 122885, 92166, 370697, 262166, 477206, 575512, 110616, 145432, 432154, 432166, 247847, 106540, 557108, 421941, 12351, 522305, 190534, 221260, 198735, 284753, 579665, 364632, 505945, 364635, 178274, 313443, 313451, 419951, 489583, 75893, 22646, 57466, 489595, 180351, 106626, 108677, 88199, 221320, 112780, 489618, 489620, 485525, 489622, 221335, 221336, 383136, 364705, 362658, 362662, 204967, 489639, 112810, 245933, 20656, 489651, 577718, 403642, 383163, 61629, 577727, 14529, 403650, 579780, 563400, 577738, 413900, 14540, 577743, 520399, 135378, 379091, 362708, 340183, 92376, 383196, 442590, 221414, 489710, 299250, 155891, 510199, 311545, 311553, 430350, 495888, 92435, 430358, 364825, 416028, 174377, 174380, 10544, 284977, 284978, 452915, 414004, 414006, 311610, 284990, 284993, 381257, 414037, 383317, 108887, 293207, 389467, 98656, 414049, 414054, 346471, 164202, 383339, 328049, 358783, 489860, 108939, 383372, 213389, 311694, 98709, 72093, 489886, 311712, 266657, 184738, 489897, 311730, 29108, 557505, 96707, 92612, 80328, 192969, 311754, 362956, 438742, 90583, 90584, 90587, 192990, 383461, 149994, 457195, 283122, 383474, 266741, 469496, 150009, 150012, 496125, 477693, 387583, 172544, 410113, 573954, 383491, 489987, 141829, 489992, 92688, 150036, 383511, 457240, 457250, 311843, 150052, 311845, 311849, 43562, 383529, 354864, 524849, 186930, 215604, 383557, 311878, 193095, 539207, 389711, 180816, 299608, 4697, 580189, 121458, 311924, 410232, 371321, 457337, 311934, 195203, 535172, 354955, 94863, 113299, 94870, 12953, 94874, 457373, 369311, 92834, 240291, 373410, 490146, 457382, 94887, 12984, 379589, 344775, 410312, 410314, 525014, 377561, 377562, 209628, 453343, 551651, 107239, 344808, 418544, 92918, 396024, 432889, 119554, 305925, 559882, 289553, 465681, 107288, 119578, 181020, 457514, 389933, 199470, 439092, 336699, 490303, 490304, 305985, 490305, 142152, 295755, 13131, 297812, 297815, 297818, 279388, 504671, 189281, 105315, 473957, 283496, 400235, 880, 293752, 293755, 439164, 252796, 443264, 164737, 897, 463747, 496520, 355209, 78733, 439183, 293777, 457621, 185240, 185242, 185245, 293795, 203683, 271273, 408502, 13243, 408509, 13248, 463809, 293826, 39876, 189383, 574409, 566227, 488406, 72669, 369641, 353260, 535533, 312302, 453615, 189428, 72695, 353272, 457725, 353280, 97282, 189448, 453642, 453647, 369684, 474136, 13342, 386079, 13343, 357410, 365606, 203814, 365609, 193578, 363563, 115759, 164923, 379969, 363590, 388188, 339037, 558174, 13404, 179297, 388195, 189540, 320613, 189545, 189552, 490611, 423037, 490633, 15498, 224395, 490640, 447638, 302231, 152741, 179368, 427183, 363708, 533700, 410823, 523472, 189653, 197851, 44253, 189662, 308445, 179426, 13540, 445672, 259305, 253164, 529647, 466160, 197880, 566521, 13560, 365818, 201989, 181512, 374026, 191759, 374036, 503063, 191768, 197919, 474405, 187687, 533805, 189743, 490807, 89409, 17738, 165205, 460118, 95574, 470360, 120156, 126312, 175465, 478586, 179583, 191872, 363908, 191877, 40338, 431510, 77222, 513448, 433578, 511412, 75205, 513478, 222680, 189912, 189924, 1511, 11755, 42482, 464370, 263674, 370178, 431620, 271880, 349705, 189962, 181771, 189965, 374290, 243218, 374292, 189981, 265758, 15901, 189984, 15905, 370215, 208424, 157225, 15914, 370221, 513582, 210480, 298547, 15925, 190006, 429624, 190012, 222783, 15938, 15939, 431694, 181839, 190035, 452183, 364119, 181850, 190042, 97887, 507491, 120422, 15977, 429679, 190066, 513651, 5748, 190070, 218744, 15999, 5761, 509577, 136844, 362131, 220822, 298647, 429720, 364187, 97949, 87711, 362144, 32418, 210609, 554683, 415422, 315077, 190156, 190157, 429774, 313039, 20177, 310993, 405203, 575189, 190167, 311001, 220905, 247530, 98035, 415481, 505597, 190211, 380676, 190216, 220943, 364304, 360210, 87827, 276243, 380694, 69404, 91939, 190262, 216886, 190268, 55118, 579411, 315220, 42843, 311133, 221023, 243552, 247649, 192353, 292704, 98145, 122722, 61288, 431979, 221037, 421746, 364403, 190337, 307077, 264074, 554890, 378788, 395178, 313260, 257964, 192434, 548791, 122820, 135113, 309204, 548820, 374748, 313313, 376809, 147435, 180215, 59384, 493564, 221181}\n"
          ],
          "name": "stdout"
        }
      ]
    },
    {
      "cell_type": "markdown",
      "metadata": {
        "id": "5CL0J_tDV0mp",
        "colab_type": "text"
      },
      "source": [
        "### Loading File to DataFrame\n",
        "We are doing this for faster search based on index numbers"
      ]
    },
    {
      "cell_type": "code",
      "metadata": {
        "id": "DMN7KIeYTlei",
        "colab_type": "code",
        "outputId": "25e05d09-e3bf-4344-f5b5-5164d623bbd4",
        "colab": {
          "base_uri": "https://localhost:8080/",
          "height": 51
        }
      },
      "source": [
        "%%time\n",
        "database = pd.read_csv(indexing_data_location, sep='\\t', header=None,\n",
        "                       names=['id', 'subject', 'content'],\n",
        "                       dtype = {'id': int,'subject': str,\n",
        "                            'content': str})"
      ],
      "execution_count": 21,
      "outputs": [
        {
          "output_type": "stream",
          "text": [
            "CPU times: user 55.2 s, sys: 13.3 s, total: 1min 8s\n",
            "Wall time: 2min 15s\n"
          ],
          "name": "stdout"
        }
      ]
    },
    {
      "cell_type": "code",
      "metadata": {
        "id": "zpr9WQ0FVkLD",
        "colab_type": "code",
        "outputId": "23058fc7-3095-40d6-83f7-545f5faa7736",
        "colab": {
          "base_uri": "https://localhost:8080/",
          "height": 204
        }
      },
      "source": [
        "database.head()"
      ],
      "execution_count": 22,
      "outputs": [
        {
          "output_type": "execute_result",
          "data": {
            "text/html": [
              "<div>\n",
              "<style scoped>\n",
              "    .dataframe tbody tr th:only-of-type {\n",
              "        vertical-align: middle;\n",
              "    }\n",
              "\n",
              "    .dataframe tbody tr th {\n",
              "        vertical-align: top;\n",
              "    }\n",
              "\n",
              "    .dataframe thead th {\n",
              "        text-align: right;\n",
              "    }\n",
              "</style>\n",
              "<table border=\"1\" class=\"dataframe\">\n",
              "  <thead>\n",
              "    <tr style=\"text-align: right;\">\n",
              "      <th></th>\n",
              "      <th>id</th>\n",
              "      <th>subject</th>\n",
              "      <th>content</th>\n",
              "    </tr>\n",
              "  </thead>\n",
              "  <tbody>\n",
              "    <tr>\n",
              "      <th>0</th>\n",
              "      <td>24</td>\n",
              "      <td>БОЛЕЕТ ЗА ФУТБОЛ И ТРАХАЕТ ДОЧЬ СОФТ ОРГАНАЙЗЕ...</td>\n",
              "      <td>ГЛАВНАЯ НОВОСТИ КАРТА СОФТ ОРГАНАЙЗЕР СКАЧАТЬ ...</td>\n",
              "    </tr>\n",
              "    <tr>\n",
              "      <th>1</th>\n",
              "      <td>26</td>\n",
              "      <td>МОНГОЛЬСКАЯ ТХАНКА СОФТФОН</td>\n",
              "      <td>ГЛАВНАЯ НОВОСТИ КАРТА СОФТФОН GT МОНГОЛЬСКАЯ Т...</td>\n",
              "    </tr>\n",
              "    <tr>\n",
              "      <th>2</th>\n",
              "      <td>30</td>\n",
              "      <td>СМОТРЕТЬ ФИЛЬМЫ ОНЛАЙН БЕСПЛАТНО СМОТРЕТЬ КОНЦ...</td>\n",
              "      <td>ЗАГРУЗКА ПОЖАЛУЙСТА ПОДОЖДИТЕ ВНИМАНИЕ ОБНАРУЖ...</td>\n",
              "    </tr>\n",
              "    <tr>\n",
              "      <th>3</th>\n",
              "      <td>35</td>\n",
              "      <td>КАК ПРИГОТОВИТЬ ТОРТ РАФАЭЛЛО В ДОМАШНИХ УСЛОВ...</td>\n",
              "      <td>ՀԱՅԵՐԵՆ РУССКИЙ ПОЛИТИКА ВНУТРЕННИЙ ВНЕШНИЙ ЭК...</td>\n",
              "    </tr>\n",
              "    <tr>\n",
              "      <th>4</th>\n",
              "      <td>39</td>\n",
              "      <td>МИФЫ О ГВ BREASTFEEDING AM</td>\n",
              "      <td>TOGGLE NAVIGATION BREASTFEEDING AM ГОРЯЧАЯ ЛИН...</td>\n",
              "    </tr>\n",
              "  </tbody>\n",
              "</table>\n",
              "</div>"
            ],
            "text/plain": [
              "   id  ...                                            content\n",
              "0  24  ...  ГЛАВНАЯ НОВОСТИ КАРТА СОФТ ОРГАНАЙЗЕР СКАЧАТЬ ...\n",
              "1  26  ...  ГЛАВНАЯ НОВОСТИ КАРТА СОФТФОН GT МОНГОЛЬСКАЯ Т...\n",
              "2  30  ...  ЗАГРУЗКА ПОЖАЛУЙСТА ПОДОЖДИТЕ ВНИМАНИЕ ОБНАРУЖ...\n",
              "3  35  ...  ՀԱՅԵՐԵՆ РУССКИЙ ПОЛИТИКА ВНУТРЕННИЙ ВНЕШНИЙ ЭК...\n",
              "4  39  ...  TOGGLE NAVIGATION BREASTFEEDING AM ГОРЯЧАЯ ЛИН...\n",
              "\n",
              "[5 rows x 3 columns]"
            ]
          },
          "metadata": {
            "tags": []
          },
          "execution_count": 22
        }
      ]
    },
    {
      "cell_type": "markdown",
      "metadata": {
        "id": "FFVq8V0Yo4Lv",
        "colab_type": "text"
      },
      "source": [
        "### Implementing TFIDF Cosine Distances for text relevancy"
      ]
    },
    {
      "cell_type": "code",
      "metadata": {
        "id": "77VjjGqz6O0U",
        "colab_type": "code",
        "colab": {
          "base_uri": "https://localhost:8080/",
          "height": 66,
          "referenced_widgets": [
            "a9806039ea984d72a2320a708aac8cf4",
            "e879e58cfb3440bba217a60425334705",
            "e418ad5a5e1444278f800280be5f9259",
            "5f544793f91c4047a7a53b035d9b9df5",
            "91af8b1f3f9643cb82d10442e9416fa3",
            "b747241b4b554bf5896c908174731cc0",
            "6ee8f3528d324929aa04844706664d7c",
            "efb24012952841c5bdb70cea8f4cc534"
          ]
        },
        "outputId": "8fb03aac-9985-4302-b63a-ae2158c516b9"
      },
      "source": [
        "# boolean_model = SolutionPredictor(new_index)\n",
        "output=open('submission.csv', 'w')\n",
        "with open(queries_list) as queries:\n",
        "    output.write('QueryId,DocumentId\\n')\n",
        "    for line in tqdm(queries.readlines()):\n",
        "        line = line.split('\\t')\n",
        "        id = int(line[0])\n",
        "        query = line[1]\n",
        "        value_present = boolean_model.find_docs(query)\n",
        "        data = database[database['id'].isin(list(value_present))].copy()\n",
        "        data.loc[:, 'content'] = data[['subject', 'content']].astype(str).apply(' '.join, axis=1)\n",
        "        del data['subject']\n",
        "        data = OrderedDict(data.set_index('id')['content'].to_dict())\n",
        "        for key in data:\n",
        "            data[key] = ' '.join(new_index.preprocess(data[key]))\n",
        "        \n",
        "        if data:\n",
        "            tfidf = TfidfVectorizer()\n",
        "            ids = data.keys()\n",
        "            data = tfidf.fit_transform(data.values())\n",
        "            query = tfidf.transform([query])[0]\n",
        "            distances = cosine_similarity(query, data)\n",
        "            rankings =  sorted(list(zip(ids, distances[0])), key=lambda x: x[1], reverse=True)[:10] \n",
        "            for rank in rankings:\n",
        "                output.write('{},{}\\n'.format(id, rank[0]))\n",
        "\n",
        "            \n",
        "\n",
        "\n",
        "\n",
        "        data = None\n",
        "        query = None\n",
        "        distances = None\n",
        "        rankings = None\n",
        "\n",
        "output.close()"
      ],
      "execution_count": 53,
      "outputs": [
        {
          "output_type": "display_data",
          "data": {
            "application/vnd.jupyter.widget-view+json": {
              "model_id": "a9806039ea984d72a2320a708aac8cf4",
              "version_minor": 0,
              "version_major": 2
            },
            "text/plain": [
              "HBox(children=(FloatProgress(value=0.0, max=400.0), HTML(value='')))"
            ]
          },
          "metadata": {
            "tags": []
          }
        },
        {
          "output_type": "stream",
          "text": [
            "\n"
          ],
          "name": "stdout"
        }
      ]
    },
    {
      "cell_type": "code",
      "metadata": {
        "id": "ig6TtpSAOyFk",
        "colab_type": "code",
        "colab": {}
      },
      "source": [
        "!cp submission.csv '/content/drive/My Drive/Homeworks/InformationRetrieval/submission_tfidf.csv'"
      ],
      "execution_count": 0,
      "outputs": []
    },
    {
      "cell_type": "markdown",
      "metadata": {
        "id": "9oOO0Z1exVsf",
        "colab_type": "text"
      },
      "source": [
        "# Crossed Baseline with this submission"
      ]
    },
    {
      "cell_type": "markdown",
      "metadata": {
        "id": "GQVGzahOxHBs",
        "colab_type": "text"
      },
      "source": [
        "## Implementing BM25 for text relevancy\n",
        "(could not run for memery issues with all boolean searches check different doc for its working)"
      ]
    },
    {
      "cell_type": "code",
      "metadata": {
        "id": "tyHJesRwW_KL",
        "colab_type": "code",
        "outputId": "6236f2e3-2b13-482e-bbae-ff2bf80032a9",
        "colab": {
          "base_uri": "https://localhost:8080/",
          "height": 168,
          "referenced_widgets": [
            "f240404a82b648df902d7a43dcf6f595",
            "4978ebc382ae41fb87b42ce43262dcc4",
            "265f552f4eef4ed8a54848d0c2917fe2",
            "3f7d766157284321bc0d6da9dc68dc2a",
            "d2d94a2452a94df1a8bc37652577f11e",
            "d53c02a2f9dd46e396039911ef4a0762",
            "2371e52747af40d38a20485cbff63229",
            "0b8cfc0cd7734640a7dc761a6750966a"
          ]
        }
      },
      "source": [
        "# boolean_model = SolutionPredictor(new_index)\n",
        "output=open('submission.csv', 'w')\n",
        "with open(queries_list) as queries:\n",
        "    output.write('QueryId,DocumentId\\n')\n",
        "    for line in tqdm(queries.readlines()):\n",
        "        line = line.split('\\t')\n",
        "        id = int(line[0])\n",
        "        query = line[1]\n",
        "        value_present = boolean_model.find_docs(query)\n",
        "        data = database[database['id'].isin(list(value_present))].copy()\n",
        "        data.loc[:, 'content'] = data[['subject', 'content']].astype(str).apply(' '.join, axis=1)\n",
        "        del data['subject']\n",
        "        data = OrderedDict(data.set_index('id')['content'].to_dict())\n",
        "        for key in data:\n",
        "            data[key] = new_index.preprocess(data[key])\n",
        "        if data:\n",
        "            bm25 = BM25Okapi(data.values())\n",
        "            rankings =  sorted(list(zip(data.keys(), bm25.get_scores(new_index.preprocess(query)))), key=lambda x: x[1], reverse=True)[:10]\n",
        "            for rank in rankings:\n",
        "                output.write('{},{}\\n'.format(id, rank[0]))\n",
        "        \n",
        "        if (not data) or len(rankings) < 10:\n",
        "            rankings = []\n",
        "            logging.debug('Found Some values with no query results or less than 10 {} ranking'.format(id, len(rankings)))\n",
        "            print(id, query)\n",
        "            # for i in range(10 - len(rankings)):\n",
        "            #     output.write('{},{}\\n'.format(id, random.randrange(50000)))\n",
        "output.close()"
      ],
      "execution_count": 0,
      "outputs": [
        {
          "output_type": "display_data",
          "data": {
            "application/vnd.jupyter.widget-view+json": {
              "model_id": "f240404a82b648df902d7a43dcf6f595",
              "version_minor": 0,
              "version_major": 2
            },
            "text/plain": [
              "HBox(children=(FloatProgress(value=0.0, max=400.0), HTML(value='')))"
            ]
          },
          "metadata": {
            "tags": []
          }
        },
        {
          "output_type": "stream",
          "text": [
            "DEBUG:root:Found Some values with no query results or less than 10 4420 ranking\n"
          ],
          "name": "stderr"
        },
        {
          "output_type": "stream",
          "text": [
            "4420 ли экспрэс\n",
            "\n"
          ],
          "name": "stdout"
        },
        {
          "output_type": "stream",
          "text": [
            "DEBUG:root:Found Some values with no query results or less than 10 6267 ranking\n"
          ],
          "name": "stderr"
        },
        {
          "output_type": "stream",
          "text": [
            "6267 что хначит datalova\n",
            "\n",
            "\n"
          ],
          "name": "stdout"
        }
      ]
    },
    {
      "cell_type": "code",
      "metadata": {
        "id": "RdYT_pMmYVMq",
        "colab_type": "code",
        "colab": {}
      },
      "source": [
        ""
      ],
      "execution_count": 0,
      "outputs": []
    },
    {
      "cell_type": "code",
      "metadata": {
        "id": "i5scxS0dfqFx",
        "colab_type": "code",
        "colab": {}
      },
      "source": [
        ""
      ],
      "execution_count": 0,
      "outputs": []
    },
    {
      "cell_type": "code",
      "metadata": {
        "id": "tgeVX5euf-Qx",
        "colab_type": "code",
        "colab": {}
      },
      "source": [
        ""
      ],
      "execution_count": 0,
      "outputs": []
    },
    {
      "cell_type": "code",
      "metadata": {
        "id": "N7vf45rN7Cjl",
        "colab_type": "code",
        "colab": {}
      },
      "source": [
        ""
      ],
      "execution_count": 0,
      "outputs": []
    }
  ]
}