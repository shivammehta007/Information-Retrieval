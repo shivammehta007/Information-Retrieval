{
  "nbformat": 4,
  "nbformat_minor": 0,
  "metadata": {
    "colab": {
      "name": "MLinRanking.ipynb",
      "provenance": [],
      "machine_shape": "hm",
      "include_colab_link": true
    },
    "kernelspec": {
      "name": "python3",
      "display_name": "Python 3"
    },
    "widgets": {
      "application/vnd.jupyter.widget-state+json": {
        "ec2a2223c03c4d67a334b53ee9ebb937": {
          "model_module": "@jupyter-widgets/controls",
          "model_name": "HBoxModel",
          "state": {
            "_view_name": "HBoxView",
            "_dom_classes": [],
            "_model_name": "HBoxModel",
            "_view_module": "@jupyter-widgets/controls",
            "_model_module_version": "1.5.0",
            "_view_count": null,
            "_view_module_version": "1.5.0",
            "box_style": "",
            "layout": "IPY_MODEL_5a57f2497dd145b281c9af6bef01e8bc",
            "_model_module": "@jupyter-widgets/controls",
            "children": [
              "IPY_MODEL_a58c0781144b4da8a004d224537ffa8b",
              "IPY_MODEL_0a98b993eec648d88536048faa725f2e"
            ]
          }
        },
        "5a57f2497dd145b281c9af6bef01e8bc": {
          "model_module": "@jupyter-widgets/base",
          "model_name": "LayoutModel",
          "state": {
            "_view_name": "LayoutView",
            "grid_template_rows": null,
            "right": null,
            "justify_content": null,
            "_view_module": "@jupyter-widgets/base",
            "overflow": null,
            "_model_module_version": "1.2.0",
            "_view_count": null,
            "flex_flow": null,
            "width": null,
            "min_width": null,
            "border": null,
            "align_items": null,
            "bottom": null,
            "_model_module": "@jupyter-widgets/base",
            "top": null,
            "grid_column": null,
            "overflow_y": null,
            "overflow_x": null,
            "grid_auto_flow": null,
            "grid_area": null,
            "grid_template_columns": null,
            "flex": null,
            "_model_name": "LayoutModel",
            "justify_items": null,
            "grid_row": null,
            "max_height": null,
            "align_content": null,
            "visibility": null,
            "align_self": null,
            "height": null,
            "min_height": null,
            "padding": null,
            "grid_auto_rows": null,
            "grid_gap": null,
            "max_width": null,
            "order": null,
            "_view_module_version": "1.2.0",
            "grid_template_areas": null,
            "object_position": null,
            "object_fit": null,
            "grid_auto_columns": null,
            "margin": null,
            "display": null,
            "left": null
          }
        },
        "a58c0781144b4da8a004d224537ffa8b": {
          "model_module": "@jupyter-widgets/controls",
          "model_name": "FloatProgressModel",
          "state": {
            "_view_name": "ProgressView",
            "style": "IPY_MODEL_6d68638406ce4880aa62ffb5e3200284",
            "_dom_classes": [],
            "description": "",
            "_model_name": "FloatProgressModel",
            "bar_style": "success",
            "max": 1,
            "_view_module": "@jupyter-widgets/controls",
            "_model_module_version": "1.5.0",
            "value": 1,
            "_view_count": null,
            "_view_module_version": "1.5.0",
            "orientation": "horizontal",
            "min": 0,
            "description_tooltip": null,
            "_model_module": "@jupyter-widgets/controls",
            "layout": "IPY_MODEL_cda5eee119fc4c3797131ecc34229323"
          }
        },
        "0a98b993eec648d88536048faa725f2e": {
          "model_module": "@jupyter-widgets/controls",
          "model_name": "HTMLModel",
          "state": {
            "_view_name": "HTMLView",
            "style": "IPY_MODEL_87b53253a2b245a2805164221fddf33a",
            "_dom_classes": [],
            "description": "",
            "_model_name": "HTMLModel",
            "placeholder": "​",
            "_view_module": "@jupyter-widgets/controls",
            "_model_module_version": "1.5.0",
            "value": " 37816/? [11:37&lt;00:00, 54.24it/s]",
            "_view_count": null,
            "_view_module_version": "1.5.0",
            "description_tooltip": null,
            "_model_module": "@jupyter-widgets/controls",
            "layout": "IPY_MODEL_cc1f130a530c4584ad98cc3753197d2e"
          }
        },
        "6d68638406ce4880aa62ffb5e3200284": {
          "model_module": "@jupyter-widgets/controls",
          "model_name": "ProgressStyleModel",
          "state": {
            "_view_name": "StyleView",
            "_model_name": "ProgressStyleModel",
            "description_width": "initial",
            "_view_module": "@jupyter-widgets/base",
            "_model_module_version": "1.5.0",
            "_view_count": null,
            "_view_module_version": "1.2.0",
            "bar_color": null,
            "_model_module": "@jupyter-widgets/controls"
          }
        },
        "cda5eee119fc4c3797131ecc34229323": {
          "model_module": "@jupyter-widgets/base",
          "model_name": "LayoutModel",
          "state": {
            "_view_name": "LayoutView",
            "grid_template_rows": null,
            "right": null,
            "justify_content": null,
            "_view_module": "@jupyter-widgets/base",
            "overflow": null,
            "_model_module_version": "1.2.0",
            "_view_count": null,
            "flex_flow": null,
            "width": null,
            "min_width": null,
            "border": null,
            "align_items": null,
            "bottom": null,
            "_model_module": "@jupyter-widgets/base",
            "top": null,
            "grid_column": null,
            "overflow_y": null,
            "overflow_x": null,
            "grid_auto_flow": null,
            "grid_area": null,
            "grid_template_columns": null,
            "flex": null,
            "_model_name": "LayoutModel",
            "justify_items": null,
            "grid_row": null,
            "max_height": null,
            "align_content": null,
            "visibility": null,
            "align_self": null,
            "height": null,
            "min_height": null,
            "padding": null,
            "grid_auto_rows": null,
            "grid_gap": null,
            "max_width": null,
            "order": null,
            "_view_module_version": "1.2.0",
            "grid_template_areas": null,
            "object_position": null,
            "object_fit": null,
            "grid_auto_columns": null,
            "margin": null,
            "display": null,
            "left": null
          }
        },
        "87b53253a2b245a2805164221fddf33a": {
          "model_module": "@jupyter-widgets/controls",
          "model_name": "DescriptionStyleModel",
          "state": {
            "_view_name": "StyleView",
            "_model_name": "DescriptionStyleModel",
            "description_width": "",
            "_view_module": "@jupyter-widgets/base",
            "_model_module_version": "1.5.0",
            "_view_count": null,
            "_view_module_version": "1.2.0",
            "_model_module": "@jupyter-widgets/controls"
          }
        },
        "cc1f130a530c4584ad98cc3753197d2e": {
          "model_module": "@jupyter-widgets/base",
          "model_name": "LayoutModel",
          "state": {
            "_view_name": "LayoutView",
            "grid_template_rows": null,
            "right": null,
            "justify_content": null,
            "_view_module": "@jupyter-widgets/base",
            "overflow": null,
            "_model_module_version": "1.2.0",
            "_view_count": null,
            "flex_flow": null,
            "width": null,
            "min_width": null,
            "border": null,
            "align_items": null,
            "bottom": null,
            "_model_module": "@jupyter-widgets/base",
            "top": null,
            "grid_column": null,
            "overflow_y": null,
            "overflow_x": null,
            "grid_auto_flow": null,
            "grid_area": null,
            "grid_template_columns": null,
            "flex": null,
            "_model_name": "LayoutModel",
            "justify_items": null,
            "grid_row": null,
            "max_height": null,
            "align_content": null,
            "visibility": null,
            "align_self": null,
            "height": null,
            "min_height": null,
            "padding": null,
            "grid_auto_rows": null,
            "grid_gap": null,
            "max_width": null,
            "order": null,
            "_view_module_version": "1.2.0",
            "grid_template_areas": null,
            "object_position": null,
            "object_fit": null,
            "grid_auto_columns": null,
            "margin": null,
            "display": null,
            "left": null
          }
        },
        "87c4a57902c04c38a133212329795f35": {
          "model_module": "@jupyter-widgets/controls",
          "model_name": "HBoxModel",
          "state": {
            "_view_name": "HBoxView",
            "_dom_classes": [],
            "_model_name": "HBoxModel",
            "_view_module": "@jupyter-widgets/controls",
            "_model_module_version": "1.5.0",
            "_view_count": null,
            "_view_module_version": "1.5.0",
            "box_style": "",
            "layout": "IPY_MODEL_b04e750ef6de4dc0b067c5d3cc49f81b",
            "_model_module": "@jupyter-widgets/controls",
            "children": [
              "IPY_MODEL_ed7f1158eb744bd4aefb9a9fe4d6a63e",
              "IPY_MODEL_bfc2b479de47442b8c3e6aa2886dd191"
            ]
          }
        },
        "b04e750ef6de4dc0b067c5d3cc49f81b": {
          "model_module": "@jupyter-widgets/base",
          "model_name": "LayoutModel",
          "state": {
            "_view_name": "LayoutView",
            "grid_template_rows": null,
            "right": null,
            "justify_content": null,
            "_view_module": "@jupyter-widgets/base",
            "overflow": null,
            "_model_module_version": "1.2.0",
            "_view_count": null,
            "flex_flow": null,
            "width": null,
            "min_width": null,
            "border": null,
            "align_items": null,
            "bottom": null,
            "_model_module": "@jupyter-widgets/base",
            "top": null,
            "grid_column": null,
            "overflow_y": null,
            "overflow_x": null,
            "grid_auto_flow": null,
            "grid_area": null,
            "grid_template_columns": null,
            "flex": null,
            "_model_name": "LayoutModel",
            "justify_items": null,
            "grid_row": null,
            "max_height": null,
            "align_content": null,
            "visibility": null,
            "align_self": null,
            "height": null,
            "min_height": null,
            "padding": null,
            "grid_auto_rows": null,
            "grid_gap": null,
            "max_width": null,
            "order": null,
            "_view_module_version": "1.2.0",
            "grid_template_areas": null,
            "object_position": null,
            "object_fit": null,
            "grid_auto_columns": null,
            "margin": null,
            "display": null,
            "left": null
          }
        },
        "ed7f1158eb744bd4aefb9a9fe4d6a63e": {
          "model_module": "@jupyter-widgets/controls",
          "model_name": "FloatProgressModel",
          "state": {
            "_view_name": "ProgressView",
            "style": "IPY_MODEL_2cd7081a830d41289ef0b3853e4471a4",
            "_dom_classes": [],
            "description": "100%",
            "_model_name": "FloatProgressModel",
            "bar_style": "success",
            "max": 4815884,
            "_view_module": "@jupyter-widgets/controls",
            "_model_module_version": "1.5.0",
            "value": 4815884,
            "_view_count": null,
            "_view_module_version": "1.5.0",
            "orientation": "horizontal",
            "min": 0,
            "description_tooltip": null,
            "_model_module": "@jupyter-widgets/controls",
            "layout": "IPY_MODEL_6a15b51f3d3c4c119610f7add9cf7df6"
          }
        },
        "bfc2b479de47442b8c3e6aa2886dd191": {
          "model_module": "@jupyter-widgets/controls",
          "model_name": "HTMLModel",
          "state": {
            "_view_name": "HTMLView",
            "style": "IPY_MODEL_e8b2327368d141998fb3685bfa325d25",
            "_dom_classes": [],
            "description": "",
            "_model_name": "HTMLModel",
            "placeholder": "​",
            "_view_module": "@jupyter-widgets/controls",
            "_model_module_version": "1.5.0",
            "value": " 4815884/4815884 [05:18&lt;00:00, 15116.80it/s]",
            "_view_count": null,
            "_view_module_version": "1.5.0",
            "description_tooltip": null,
            "_model_module": "@jupyter-widgets/controls",
            "layout": "IPY_MODEL_fdf3b1e56bd443f28a20ec50d39c798f"
          }
        },
        "2cd7081a830d41289ef0b3853e4471a4": {
          "model_module": "@jupyter-widgets/controls",
          "model_name": "ProgressStyleModel",
          "state": {
            "_view_name": "StyleView",
            "_model_name": "ProgressStyleModel",
            "description_width": "initial",
            "_view_module": "@jupyter-widgets/base",
            "_model_module_version": "1.5.0",
            "_view_count": null,
            "_view_module_version": "1.2.0",
            "bar_color": null,
            "_model_module": "@jupyter-widgets/controls"
          }
        },
        "6a15b51f3d3c4c119610f7add9cf7df6": {
          "model_module": "@jupyter-widgets/base",
          "model_name": "LayoutModel",
          "state": {
            "_view_name": "LayoutView",
            "grid_template_rows": null,
            "right": null,
            "justify_content": null,
            "_view_module": "@jupyter-widgets/base",
            "overflow": null,
            "_model_module_version": "1.2.0",
            "_view_count": null,
            "flex_flow": null,
            "width": null,
            "min_width": null,
            "border": null,
            "align_items": null,
            "bottom": null,
            "_model_module": "@jupyter-widgets/base",
            "top": null,
            "grid_column": null,
            "overflow_y": null,
            "overflow_x": null,
            "grid_auto_flow": null,
            "grid_area": null,
            "grid_template_columns": null,
            "flex": null,
            "_model_name": "LayoutModel",
            "justify_items": null,
            "grid_row": null,
            "max_height": null,
            "align_content": null,
            "visibility": null,
            "align_self": null,
            "height": null,
            "min_height": null,
            "padding": null,
            "grid_auto_rows": null,
            "grid_gap": null,
            "max_width": null,
            "order": null,
            "_view_module_version": "1.2.0",
            "grid_template_areas": null,
            "object_position": null,
            "object_fit": null,
            "grid_auto_columns": null,
            "margin": null,
            "display": null,
            "left": null
          }
        },
        "e8b2327368d141998fb3685bfa325d25": {
          "model_module": "@jupyter-widgets/controls",
          "model_name": "DescriptionStyleModel",
          "state": {
            "_view_name": "StyleView",
            "_model_name": "DescriptionStyleModel",
            "description_width": "",
            "_view_module": "@jupyter-widgets/base",
            "_model_module_version": "1.5.0",
            "_view_count": null,
            "_view_module_version": "1.2.0",
            "_model_module": "@jupyter-widgets/controls"
          }
        },
        "fdf3b1e56bd443f28a20ec50d39c798f": {
          "model_module": "@jupyter-widgets/base",
          "model_name": "LayoutModel",
          "state": {
            "_view_name": "LayoutView",
            "grid_template_rows": null,
            "right": null,
            "justify_content": null,
            "_view_module": "@jupyter-widgets/base",
            "overflow": null,
            "_model_module_version": "1.2.0",
            "_view_count": null,
            "flex_flow": null,
            "width": null,
            "min_width": null,
            "border": null,
            "align_items": null,
            "bottom": null,
            "_model_module": "@jupyter-widgets/base",
            "top": null,
            "grid_column": null,
            "overflow_y": null,
            "overflow_x": null,
            "grid_auto_flow": null,
            "grid_area": null,
            "grid_template_columns": null,
            "flex": null,
            "_model_name": "LayoutModel",
            "justify_items": null,
            "grid_row": null,
            "max_height": null,
            "align_content": null,
            "visibility": null,
            "align_self": null,
            "height": null,
            "min_height": null,
            "padding": null,
            "grid_auto_rows": null,
            "grid_gap": null,
            "max_width": null,
            "order": null,
            "_view_module_version": "1.2.0",
            "grid_template_areas": null,
            "object_position": null,
            "object_fit": null,
            "grid_auto_columns": null,
            "margin": null,
            "display": null,
            "left": null
          }
        },
        "b4f08d2e4caf409ca3c7802bf2aceb20": {
          "model_module": "@jupyter-widgets/controls",
          "model_name": "HBoxModel",
          "state": {
            "_view_name": "HBoxView",
            "_dom_classes": [],
            "_model_name": "HBoxModel",
            "_view_module": "@jupyter-widgets/controls",
            "_model_module_version": "1.5.0",
            "_view_count": null,
            "_view_module_version": "1.5.0",
            "box_style": "",
            "layout": "IPY_MODEL_c210bb744e5a4e8cbf441418370713b8",
            "_model_module": "@jupyter-widgets/controls",
            "children": [
              "IPY_MODEL_6ca07652c18b47c39e02d30e9a98c17b",
              "IPY_MODEL_2e2703687728493eb06bf2c4405bd969"
            ]
          }
        },
        "c210bb744e5a4e8cbf441418370713b8": {
          "model_module": "@jupyter-widgets/base",
          "model_name": "LayoutModel",
          "state": {
            "_view_name": "LayoutView",
            "grid_template_rows": null,
            "right": null,
            "justify_content": null,
            "_view_module": "@jupyter-widgets/base",
            "overflow": null,
            "_model_module_version": "1.2.0",
            "_view_count": null,
            "flex_flow": null,
            "width": null,
            "min_width": null,
            "border": null,
            "align_items": null,
            "bottom": null,
            "_model_module": "@jupyter-widgets/base",
            "top": null,
            "grid_column": null,
            "overflow_y": null,
            "overflow_x": null,
            "grid_auto_flow": null,
            "grid_area": null,
            "grid_template_columns": null,
            "flex": null,
            "_model_name": "LayoutModel",
            "justify_items": null,
            "grid_row": null,
            "max_height": null,
            "align_content": null,
            "visibility": null,
            "align_self": null,
            "height": null,
            "min_height": null,
            "padding": null,
            "grid_auto_rows": null,
            "grid_gap": null,
            "max_width": null,
            "order": null,
            "_view_module_version": "1.2.0",
            "grid_template_areas": null,
            "object_position": null,
            "object_fit": null,
            "grid_auto_columns": null,
            "margin": null,
            "display": null,
            "left": null
          }
        },
        "6ca07652c18b47c39e02d30e9a98c17b": {
          "model_module": "@jupyter-widgets/controls",
          "model_name": "FloatProgressModel",
          "state": {
            "_view_name": "ProgressView",
            "style": "IPY_MODEL_cf9760f573fc490fba2813a4f4da0e5c",
            "_dom_classes": [],
            "description": "100%",
            "_model_name": "FloatProgressModel",
            "bar_style": "success",
            "max": 400,
            "_view_module": "@jupyter-widgets/controls",
            "_model_module_version": "1.5.0",
            "value": 400,
            "_view_count": null,
            "_view_module_version": "1.5.0",
            "orientation": "horizontal",
            "min": 0,
            "description_tooltip": null,
            "_model_module": "@jupyter-widgets/controls",
            "layout": "IPY_MODEL_f9842cfea6754010953c6548baaaed5d"
          }
        },
        "2e2703687728493eb06bf2c4405bd969": {
          "model_module": "@jupyter-widgets/controls",
          "model_name": "HTMLModel",
          "state": {
            "_view_name": "HTMLView",
            "style": "IPY_MODEL_2f81291f353441f2b807a0b99a5e5565",
            "_dom_classes": [],
            "description": "",
            "_model_name": "HTMLModel",
            "placeholder": "​",
            "_view_module": "@jupyter-widgets/controls",
            "_model_module_version": "1.5.0",
            "value": " 400/400 [08:51&lt;00:00,  1.33s/it]",
            "_view_count": null,
            "_view_module_version": "1.5.0",
            "description_tooltip": null,
            "_model_module": "@jupyter-widgets/controls",
            "layout": "IPY_MODEL_ec5939ea5a434682b522ab791dcebd46"
          }
        },
        "cf9760f573fc490fba2813a4f4da0e5c": {
          "model_module": "@jupyter-widgets/controls",
          "model_name": "ProgressStyleModel",
          "state": {
            "_view_name": "StyleView",
            "_model_name": "ProgressStyleModel",
            "description_width": "initial",
            "_view_module": "@jupyter-widgets/base",
            "_model_module_version": "1.5.0",
            "_view_count": null,
            "_view_module_version": "1.2.0",
            "bar_color": null,
            "_model_module": "@jupyter-widgets/controls"
          }
        },
        "f9842cfea6754010953c6548baaaed5d": {
          "model_module": "@jupyter-widgets/base",
          "model_name": "LayoutModel",
          "state": {
            "_view_name": "LayoutView",
            "grid_template_rows": null,
            "right": null,
            "justify_content": null,
            "_view_module": "@jupyter-widgets/base",
            "overflow": null,
            "_model_module_version": "1.2.0",
            "_view_count": null,
            "flex_flow": null,
            "width": null,
            "min_width": null,
            "border": null,
            "align_items": null,
            "bottom": null,
            "_model_module": "@jupyter-widgets/base",
            "top": null,
            "grid_column": null,
            "overflow_y": null,
            "overflow_x": null,
            "grid_auto_flow": null,
            "grid_area": null,
            "grid_template_columns": null,
            "flex": null,
            "_model_name": "LayoutModel",
            "justify_items": null,
            "grid_row": null,
            "max_height": null,
            "align_content": null,
            "visibility": null,
            "align_self": null,
            "height": null,
            "min_height": null,
            "padding": null,
            "grid_auto_rows": null,
            "grid_gap": null,
            "max_width": null,
            "order": null,
            "_view_module_version": "1.2.0",
            "grid_template_areas": null,
            "object_position": null,
            "object_fit": null,
            "grid_auto_columns": null,
            "margin": null,
            "display": null,
            "left": null
          }
        },
        "2f81291f353441f2b807a0b99a5e5565": {
          "model_module": "@jupyter-widgets/controls",
          "model_name": "DescriptionStyleModel",
          "state": {
            "_view_name": "StyleView",
            "_model_name": "DescriptionStyleModel",
            "description_width": "",
            "_view_module": "@jupyter-widgets/base",
            "_model_module_version": "1.5.0",
            "_view_count": null,
            "_view_module_version": "1.2.0",
            "_model_module": "@jupyter-widgets/controls"
          }
        },
        "ec5939ea5a434682b522ab791dcebd46": {
          "model_module": "@jupyter-widgets/base",
          "model_name": "LayoutModel",
          "state": {
            "_view_name": "LayoutView",
            "grid_template_rows": null,
            "right": null,
            "justify_content": null,
            "_view_module": "@jupyter-widgets/base",
            "overflow": null,
            "_model_module_version": "1.2.0",
            "_view_count": null,
            "flex_flow": null,
            "width": null,
            "min_width": null,
            "border": null,
            "align_items": null,
            "bottom": null,
            "_model_module": "@jupyter-widgets/base",
            "top": null,
            "grid_column": null,
            "overflow_y": null,
            "overflow_x": null,
            "grid_auto_flow": null,
            "grid_area": null,
            "grid_template_columns": null,
            "flex": null,
            "_model_name": "LayoutModel",
            "justify_items": null,
            "grid_row": null,
            "max_height": null,
            "align_content": null,
            "visibility": null,
            "align_self": null,
            "height": null,
            "min_height": null,
            "padding": null,
            "grid_auto_rows": null,
            "grid_gap": null,
            "max_width": null,
            "order": null,
            "_view_module_version": "1.2.0",
            "grid_template_areas": null,
            "object_position": null,
            "object_fit": null,
            "grid_auto_columns": null,
            "margin": null,
            "display": null,
            "left": null
          }
        },
        "a9806039ea984d72a2320a708aac8cf4": {
          "model_module": "@jupyter-widgets/controls",
          "model_name": "HBoxModel",
          "state": {
            "_view_name": "HBoxView",
            "_dom_classes": [],
            "_model_name": "HBoxModel",
            "_view_module": "@jupyter-widgets/controls",
            "_model_module_version": "1.5.0",
            "_view_count": null,
            "_view_module_version": "1.5.0",
            "box_style": "",
            "layout": "IPY_MODEL_e879e58cfb3440bba217a60425334705",
            "_model_module": "@jupyter-widgets/controls",
            "children": [
              "IPY_MODEL_e418ad5a5e1444278f800280be5f9259",
              "IPY_MODEL_5f544793f91c4047a7a53b035d9b9df5"
            ]
          }
        },
        "e879e58cfb3440bba217a60425334705": {
          "model_module": "@jupyter-widgets/base",
          "model_name": "LayoutModel",
          "state": {
            "_view_name": "LayoutView",
            "grid_template_rows": null,
            "right": null,
            "justify_content": null,
            "_view_module": "@jupyter-widgets/base",
            "overflow": null,
            "_model_module_version": "1.2.0",
            "_view_count": null,
            "flex_flow": null,
            "width": null,
            "min_width": null,
            "border": null,
            "align_items": null,
            "bottom": null,
            "_model_module": "@jupyter-widgets/base",
            "top": null,
            "grid_column": null,
            "overflow_y": null,
            "overflow_x": null,
            "grid_auto_flow": null,
            "grid_area": null,
            "grid_template_columns": null,
            "flex": null,
            "_model_name": "LayoutModel",
            "justify_items": null,
            "grid_row": null,
            "max_height": null,
            "align_content": null,
            "visibility": null,
            "align_self": null,
            "height": null,
            "min_height": null,
            "padding": null,
            "grid_auto_rows": null,
            "grid_gap": null,
            "max_width": null,
            "order": null,
            "_view_module_version": "1.2.0",
            "grid_template_areas": null,
            "object_position": null,
            "object_fit": null,
            "grid_auto_columns": null,
            "margin": null,
            "display": null,
            "left": null
          }
        },
        "e418ad5a5e1444278f800280be5f9259": {
          "model_module": "@jupyter-widgets/controls",
          "model_name": "FloatProgressModel",
          "state": {
            "_view_name": "ProgressView",
            "style": "IPY_MODEL_91af8b1f3f9643cb82d10442e9416fa3",
            "_dom_classes": [],
            "description": "100%",
            "_model_name": "FloatProgressModel",
            "bar_style": "success",
            "max": 400,
            "_view_module": "@jupyter-widgets/controls",
            "_model_module_version": "1.5.0",
            "value": 400,
            "_view_count": null,
            "_view_module_version": "1.5.0",
            "orientation": "horizontal",
            "min": 0,
            "description_tooltip": null,
            "_model_module": "@jupyter-widgets/controls",
            "layout": "IPY_MODEL_b747241b4b554bf5896c908174731cc0"
          }
        },
        "5f544793f91c4047a7a53b035d9b9df5": {
          "model_module": "@jupyter-widgets/controls",
          "model_name": "HTMLModel",
          "state": {
            "_view_name": "HTMLView",
            "style": "IPY_MODEL_6ee8f3528d324929aa04844706664d7c",
            "_dom_classes": [],
            "description": "",
            "_model_name": "HTMLModel",
            "placeholder": "​",
            "_view_module": "@jupyter-widgets/controls",
            "_model_module_version": "1.5.0",
            "value": " 400/400 [6:38:52&lt;00:00, 59.83s/it]",
            "_view_count": null,
            "_view_module_version": "1.5.0",
            "description_tooltip": null,
            "_model_module": "@jupyter-widgets/controls",
            "layout": "IPY_MODEL_efb24012952841c5bdb70cea8f4cc534"
          }
        },
        "91af8b1f3f9643cb82d10442e9416fa3": {
          "model_module": "@jupyter-widgets/controls",
          "model_name": "ProgressStyleModel",
          "state": {
            "_view_name": "StyleView",
            "_model_name": "ProgressStyleModel",
            "description_width": "initial",
            "_view_module": "@jupyter-widgets/base",
            "_model_module_version": "1.5.0",
            "_view_count": null,
            "_view_module_version": "1.2.0",
            "bar_color": null,
            "_model_module": "@jupyter-widgets/controls"
          }
        },
        "b747241b4b554bf5896c908174731cc0": {
          "model_module": "@jupyter-widgets/base",
          "model_name": "LayoutModel",
          "state": {
            "_view_name": "LayoutView",
            "grid_template_rows": null,
            "right": null,
            "justify_content": null,
            "_view_module": "@jupyter-widgets/base",
            "overflow": null,
            "_model_module_version": "1.2.0",
            "_view_count": null,
            "flex_flow": null,
            "width": null,
            "min_width": null,
            "border": null,
            "align_items": null,
            "bottom": null,
            "_model_module": "@jupyter-widgets/base",
            "top": null,
            "grid_column": null,
            "overflow_y": null,
            "overflow_x": null,
            "grid_auto_flow": null,
            "grid_area": null,
            "grid_template_columns": null,
            "flex": null,
            "_model_name": "LayoutModel",
            "justify_items": null,
            "grid_row": null,
            "max_height": null,
            "align_content": null,
            "visibility": null,
            "align_self": null,
            "height": null,
            "min_height": null,
            "padding": null,
            "grid_auto_rows": null,
            "grid_gap": null,
            "max_width": null,
            "order": null,
            "_view_module_version": "1.2.0",
            "grid_template_areas": null,
            "object_position": null,
            "object_fit": null,
            "grid_auto_columns": null,
            "margin": null,
            "display": null,
            "left": null
          }
        },
        "6ee8f3528d324929aa04844706664d7c": {
          "model_module": "@jupyter-widgets/controls",
          "model_name": "DescriptionStyleModel",
          "state": {
            "_view_name": "StyleView",
            "_model_name": "DescriptionStyleModel",
            "description_width": "",
            "_view_module": "@jupyter-widgets/base",
            "_model_module_version": "1.5.0",
            "_view_count": null,
            "_view_module_version": "1.2.0",
            "_model_module": "@jupyter-widgets/controls"
          }
        },
        "efb24012952841c5bdb70cea8f4cc534": {
          "model_module": "@jupyter-widgets/base",
          "model_name": "LayoutModel",
          "state": {
            "_view_name": "LayoutView",
            "grid_template_rows": null,
            "right": null,
            "justify_content": null,
            "_view_module": "@jupyter-widgets/base",
            "overflow": null,
            "_model_module_version": "1.2.0",
            "_view_count": null,
            "flex_flow": null,
            "width": null,
            "min_width": null,
            "border": null,
            "align_items": null,
            "bottom": null,
            "_model_module": "@jupyter-widgets/base",
            "top": null,
            "grid_column": null,
            "overflow_y": null,
            "overflow_x": null,
            "grid_auto_flow": null,
            "grid_area": null,
            "grid_template_columns": null,
            "flex": null,
            "_model_name": "LayoutModel",
            "justify_items": null,
            "grid_row": null,
            "max_height": null,
            "align_content": null,
            "visibility": null,
            "align_self": null,
            "height": null,
            "min_height": null,
            "padding": null,
            "grid_auto_rows": null,
            "grid_gap": null,
            "max_width": null,
            "order": null,
            "_view_module_version": "1.2.0",
            "grid_template_areas": null,
            "object_position": null,
            "object_fit": null,
            "grid_auto_columns": null,
            "margin": null,
            "display": null,
            "left": null
          }
        },
        "f240404a82b648df902d7a43dcf6f595": {
          "model_module": "@jupyter-widgets/controls",
          "model_name": "HBoxModel",
          "state": {
            "_view_name": "HBoxView",
            "_dom_classes": [],
            "_model_name": "HBoxModel",
            "_view_module": "@jupyter-widgets/controls",
            "_model_module_version": "1.5.0",
            "_view_count": null,
            "_view_module_version": "1.5.0",
            "box_style": "",
            "layout": "IPY_MODEL_4978ebc382ae41fb87b42ce43262dcc4",
            "_model_module": "@jupyter-widgets/controls",
            "children": [
              "IPY_MODEL_265f552f4eef4ed8a54848d0c2917fe2",
              "IPY_MODEL_3f7d766157284321bc0d6da9dc68dc2a"
            ]
          }
        },
        "4978ebc382ae41fb87b42ce43262dcc4": {
          "model_module": "@jupyter-widgets/base",
          "model_name": "LayoutModel",
          "state": {
            "_view_name": "LayoutView",
            "grid_template_rows": null,
            "right": null,
            "justify_content": null,
            "_view_module": "@jupyter-widgets/base",
            "overflow": null,
            "_model_module_version": "1.2.0",
            "_view_count": null,
            "flex_flow": null,
            "width": null,
            "min_width": null,
            "border": null,
            "align_items": null,
            "bottom": null,
            "_model_module": "@jupyter-widgets/base",
            "top": null,
            "grid_column": null,
            "overflow_y": null,
            "overflow_x": null,
            "grid_auto_flow": null,
            "grid_area": null,
            "grid_template_columns": null,
            "flex": null,
            "_model_name": "LayoutModel",
            "justify_items": null,
            "grid_row": null,
            "max_height": null,
            "align_content": null,
            "visibility": null,
            "align_self": null,
            "height": null,
            "min_height": null,
            "padding": null,
            "grid_auto_rows": null,
            "grid_gap": null,
            "max_width": null,
            "order": null,
            "_view_module_version": "1.2.0",
            "grid_template_areas": null,
            "object_position": null,
            "object_fit": null,
            "grid_auto_columns": null,
            "margin": null,
            "display": null,
            "left": null
          }
        },
        "265f552f4eef4ed8a54848d0c2917fe2": {
          "model_module": "@jupyter-widgets/controls",
          "model_name": "FloatProgressModel",
          "state": {
            "_view_name": "ProgressView",
            "style": "IPY_MODEL_d2d94a2452a94df1a8bc37652577f11e",
            "_dom_classes": [],
            "description": "100%",
            "_model_name": "FloatProgressModel",
            "bar_style": "success",
            "max": 400,
            "_view_module": "@jupyter-widgets/controls",
            "_model_module_version": "1.5.0",
            "value": 400,
            "_view_count": null,
            "_view_module_version": "1.5.0",
            "orientation": "horizontal",
            "min": 0,
            "description_tooltip": null,
            "_model_module": "@jupyter-widgets/controls",
            "layout": "IPY_MODEL_d53c02a2f9dd46e396039911ef4a0762"
          }
        },
        "3f7d766157284321bc0d6da9dc68dc2a": {
          "model_module": "@jupyter-widgets/controls",
          "model_name": "HTMLModel",
          "state": {
            "_view_name": "HTMLView",
            "style": "IPY_MODEL_2371e52747af40d38a20485cbff63229",
            "_dom_classes": [],
            "description": "",
            "_model_name": "HTMLModel",
            "placeholder": "​",
            "_view_module": "@jupyter-widgets/controls",
            "_model_module_version": "1.5.0",
            "value": " 400/400 [33:21&lt;00:00,  5.00s/it]",
            "_view_count": null,
            "_view_module_version": "1.5.0",
            "description_tooltip": null,
            "_model_module": "@jupyter-widgets/controls",
            "layout": "IPY_MODEL_0b8cfc0cd7734640a7dc761a6750966a"
          }
        },
        "d2d94a2452a94df1a8bc37652577f11e": {
          "model_module": "@jupyter-widgets/controls",
          "model_name": "ProgressStyleModel",
          "state": {
            "_view_name": "StyleView",
            "_model_name": "ProgressStyleModel",
            "description_width": "initial",
            "_view_module": "@jupyter-widgets/base",
            "_model_module_version": "1.5.0",
            "_view_count": null,
            "_view_module_version": "1.2.0",
            "bar_color": null,
            "_model_module": "@jupyter-widgets/controls"
          }
        },
        "d53c02a2f9dd46e396039911ef4a0762": {
          "model_module": "@jupyter-widgets/base",
          "model_name": "LayoutModel",
          "state": {
            "_view_name": "LayoutView",
            "grid_template_rows": null,
            "right": null,
            "justify_content": null,
            "_view_module": "@jupyter-widgets/base",
            "overflow": null,
            "_model_module_version": "1.2.0",
            "_view_count": null,
            "flex_flow": null,
            "width": null,
            "min_width": null,
            "border": null,
            "align_items": null,
            "bottom": null,
            "_model_module": "@jupyter-widgets/base",
            "top": null,
            "grid_column": null,
            "overflow_y": null,
            "overflow_x": null,
            "grid_auto_flow": null,
            "grid_area": null,
            "grid_template_columns": null,
            "flex": null,
            "_model_name": "LayoutModel",
            "justify_items": null,
            "grid_row": null,
            "max_height": null,
            "align_content": null,
            "visibility": null,
            "align_self": null,
            "height": null,
            "min_height": null,
            "padding": null,
            "grid_auto_rows": null,
            "grid_gap": null,
            "max_width": null,
            "order": null,
            "_view_module_version": "1.2.0",
            "grid_template_areas": null,
            "object_position": null,
            "object_fit": null,
            "grid_auto_columns": null,
            "margin": null,
            "display": null,
            "left": null
          }
        },
        "2371e52747af40d38a20485cbff63229": {
          "model_module": "@jupyter-widgets/controls",
          "model_name": "DescriptionStyleModel",
          "state": {
            "_view_name": "StyleView",
            "_model_name": "DescriptionStyleModel",
            "description_width": "",
            "_view_module": "@jupyter-widgets/base",
            "_model_module_version": "1.5.0",
            "_view_count": null,
            "_view_module_version": "1.2.0",
            "_model_module": "@jupyter-widgets/controls"
          }
        },
        "0b8cfc0cd7734640a7dc761a6750966a": {
          "model_module": "@jupyter-widgets/base",
          "model_name": "LayoutModel",
          "state": {
            "_view_name": "LayoutView",
            "grid_template_rows": null,
            "right": null,
            "justify_content": null,
            "_view_module": "@jupyter-widgets/base",
            "overflow": null,
            "_model_module_version": "1.2.0",
            "_view_count": null,
            "flex_flow": null,
            "width": null,
            "min_width": null,
            "border": null,
            "align_items": null,
            "bottom": null,
            "_model_module": "@jupyter-widgets/base",
            "top": null,
            "grid_column": null,
            "overflow_y": null,
            "overflow_x": null,
            "grid_auto_flow": null,
            "grid_area": null,
            "grid_template_columns": null,
            "flex": null,
            "_model_name": "LayoutModel",
            "justify_items": null,
            "grid_row": null,
            "max_height": null,
            "align_content": null,
            "visibility": null,
            "align_self": null,
            "height": null,
            "min_height": null,
            "padding": null,
            "grid_auto_rows": null,
            "grid_gap": null,
            "max_width": null,
            "order": null,
            "_view_module_version": "1.2.0",
            "grid_template_areas": null,
            "object_position": null,
            "object_fit": null,
            "grid_auto_columns": null,
            "margin": null,
            "display": null,
            "left": null
          }
        }
      }
    }
  },
  "cells": [
    {
      "cell_type": "markdown",
      "metadata": {
        "id": "view-in-github",
        "colab_type": "text"
      },
      "source": [
        "<a href=\"https://colab.research.google.com/github/shivammehta007/Information-Retrieval/blob/master/MLinRanking.ipynb\" target=\"_parent\"><img src=\"https://colab.research.google.com/assets/colab-badge.svg\" alt=\"Open In Colab\"/></a>"
      ]
    },
    {
      "cell_type": "markdown",
      "metadata": {
        "id": "DXrlHszYAA-W",
        "colab_type": "text"
      },
      "source": [
        "# Application of ML in Ranking"
      ]
    },
    {
      "cell_type": "markdown",
      "metadata": {
        "id": "NB4Cq_51AKTa",
        "colab_type": "text"
      },
      "source": [
        "# Application of ML in Ranking of Search Engines"
      ]
    },
    {
      "cell_type": "markdown",
      "metadata": {
        "id": "dxVYBQ9tDrAq",
        "colab_type": "text"
      },
      "source": [
        "## Downloading Data From Kaggle\n",
        "#### Might Take a while"
      ]
    },
    {
      "cell_type": "code",
      "metadata": {
        "id": "NXmYVxMwAKlG",
        "colab_type": "code",
        "outputId": "df863b3b-d77b-4416-e567-e6015a145435",
        "colab": {
          "base_uri": "https://localhost:8080/",
          "height": 34
        }
      },
      "source": [
        "from google.colab import drive\n",
        "drive.mount('/content/drive', force_remount=True)"
      ],
      "execution_count": 1,
      "outputs": [
        {
          "output_type": "stream",
          "text": [
            "Mounted at /content/drive\n"
          ],
          "name": "stdout"
        }
      ]
    },
    {
      "cell_type": "code",
      "metadata": {
        "id": "UgE7bVar-3PR",
        "colab_type": "code",
        "outputId": "18568e30-8ee6-400d-8849-28ad3061e46f",
        "colab": {
          "base_uri": "https://localhost:8080/",
          "height": 340
        }
      },
      "source": [
        "# Download Data\n",
        "!pip install kaggle\n",
        "import json\n",
        "import os\n",
        "\n",
        "with open('/content/drive/My Drive/kaggle.json') as kc:\n",
        "    kaggle_config = json.load(kc)\n",
        "\n",
        "os.environ['KAGGLE_USERNAME'] = kaggle_config['username'] \n",
        "os.environ['KAGGLE_KEY'] = kaggle_config['key'] \n",
        "\n",
        "!kaggle competitions download -c text-relevance-competition-ir-2-itmo-fall-2019\n",
        "!unzip docs.tsv.zip\n",
        "!rm docs.tsv.zip"
      ],
      "execution_count": 2,
      "outputs": [
        {
          "output_type": "stream",
          "text": [
            "Requirement already satisfied: kaggle in /usr/local/lib/python3.6/dist-packages (1.5.6)\n",
            "Requirement already satisfied: python-dateutil in /usr/local/lib/python3.6/dist-packages (from kaggle) (2.6.1)\n",
            "Requirement already satisfied: requests in /usr/local/lib/python3.6/dist-packages (from kaggle) (2.21.0)\n",
            "Requirement already satisfied: six>=1.10 in /usr/local/lib/python3.6/dist-packages (from kaggle) (1.12.0)\n",
            "Requirement already satisfied: urllib3<1.25,>=1.21.1 in /usr/local/lib/python3.6/dist-packages (from kaggle) (1.24.3)\n",
            "Requirement already satisfied: python-slugify in /usr/local/lib/python3.6/dist-packages (from kaggle) (4.0.0)\n",
            "Requirement already satisfied: tqdm in /usr/local/lib/python3.6/dist-packages (from kaggle) (4.41.1)\n",
            "Requirement already satisfied: certifi in /usr/local/lib/python3.6/dist-packages (from kaggle) (2019.11.28)\n",
            "Requirement already satisfied: chardet<3.1.0,>=3.0.2 in /usr/local/lib/python3.6/dist-packages (from requests->kaggle) (3.0.4)\n",
            "Requirement already satisfied: idna<2.9,>=2.5 in /usr/local/lib/python3.6/dist-packages (from requests->kaggle) (2.8)\n",
            "Requirement already satisfied: text-unidecode>=1.3 in /usr/local/lib/python3.6/dist-packages (from python-slugify->kaggle) (1.3)\n",
            "Warning: Looks like you're using an outdated API Version, please consider updating (server 1.5.6 / client 1.5.4)\n",
            "sample.submission.txt: Skipping, found more recently modified local copy (use --force to force download)\n",
            "Downloading docs.tsv.zip to /content\n",
            "100% 1.17G/1.17G [00:05<00:00, 255MB/s]\n",
            "100% 1.17G/1.17G [00:05<00:00, 240MB/s]\n",
            "queries.numerate.txt: Skipping, found more recently modified local copy (use --force to force download)\n",
            "Archive:  docs.tsv.zip\n",
            "replace docs.tsv? [y]es, [n]o, [A]ll, [N]one, [r]ename: N\n"
          ],
          "name": "stdout"
        }
      ]
    },
    {
      "cell_type": "markdown",
      "metadata": {
        "id": "B5_6nqBCD04I",
        "colab_type": "text"
      },
      "source": [
        "## Code"
      ]
    },
    {
      "cell_type": "code",
      "metadata": {
        "id": "Qt9i5ism_42a",
        "colab_type": "code",
        "outputId": "15120bd0-358d-4aa8-8293-cc7fa2997f54",
        "colab": {
          "base_uri": "https://localhost:8080/",
          "height": 153
        }
      },
      "source": [
        "!pip install -U tqdm\n",
        "!pip install rank_bm25\n",
        "!pip install keyw\n",
        "import os\n",
        "import gzip\n",
        "import nltk\n",
        "import random\n",
        "import pickle\n",
        "import pandas as pd\n",
        "import keyw\n",
        "import logging\n",
        "import itertools\n",
        "import re\n",
        "import time\n",
        "\n",
        "import numpy as np\n",
        "import pandas as pd\n",
        "\n",
        "from rank_bm25 import BM25Okapi\n",
        "\n",
        "from nltk.corpus import stopwords\n",
        "nltk.download(\"stopwords\")\n",
        "\n",
        "from string import punctuation\n",
        "from collections import defaultdict\n",
        "from collections import OrderedDict\n",
        "from tqdm.notebook import tqdm\n",
        "from sklearn.metrics.pairwise import cosine_similarity\n",
        "from sklearn.feature_extraction.text import TfidfVectorizer\n",
        "\n",
        "\n",
        "logging.basicConfig(level=logging.DEBUG)\n",
        "logging.debug('Test Logger')"
      ],
      "execution_count": 19,
      "outputs": [
        {
          "output_type": "stream",
          "text": [
            "Requirement already up-to-date: tqdm in /usr/local/lib/python3.6/dist-packages (4.41.1)\n",
            "Requirement already satisfied: rank_bm25 in /usr/local/lib/python3.6/dist-packages (0.2)\n",
            "Requirement already satisfied: numpy in /usr/local/lib/python3.6/dist-packages (from rank_bm25) (1.17.4)\n",
            "Requirement already satisfied: keyw in /usr/local/lib/python3.6/dist-packages (1.0)\n",
            "Requirement already satisfied: peppercorn in /usr/local/lib/python3.6/dist-packages (from keyw) (0.6)\n"
          ],
          "name": "stdout"
        },
        {
          "output_type": "stream",
          "text": [
            "DEBUG:root:Test Logger\n"
          ],
          "name": "stderr"
        },
        {
          "output_type": "stream",
          "text": [
            "[nltk_data] Downloading package stopwords to /root/nltk_data...\n",
            "[nltk_data]   Package stopwords is already up-to-date!\n"
          ],
          "name": "stdout"
        }
      ]
    },
    {
      "cell_type": "code",
      "metadata": {
        "id": "KUDH6FM1-56w",
        "colab_type": "code",
        "colab": {}
      },
      "source": [
        "indexing_data_location = '/content/docs.tsv'\n",
        "queries_list = '/content/queries.numerate.txt'"
      ],
      "execution_count": 0,
      "outputs": []
    },
    {
      "cell_type": "markdown",
      "metadata": {
        "id": "fnw4CtnZGdLR",
        "colab_type": "text"
      },
      "source": [
        "### Building Inverted Index"
      ]
    },
    {
      "cell_type": "markdown",
      "metadata": {
        "id": "U-LH8zk9GhMT",
        "colab_type": "text"
      },
      "source": [
        "#### Inverted Indexer Class"
      ]
    },
    {
      "cell_type": "code",
      "metadata": {
        "id": "PI6rG5CfoBXy",
        "colab_type": "code",
        "colab": {}
      },
      "source": [
        "## Skip This for now its not implemented yet\n",
        "# # Spelling manager\n",
        "# class Trie:\n",
        "#     \"\"\"\n",
        "#     Trie\n",
        "\n",
        "#     Trie is a treelike datastructure used to predict suggestion here is a\n",
        "#     simple implementation of it with add and search functionality.\n",
        "\n",
        "#     It has a root that is the head or the Trie and a node_count to count\n",
        "#     total number of nodes currently in Trie\n",
        "#     \"\"\"\n",
        "\n",
        "#     class _Node:\n",
        "#         \"\"\"\n",
        "#         Node\n",
        "\n",
        "#         This is how a trie node looks like it has a hashmap of characters\n",
        "#         with an end indicating weather this is the end of word or not.\n",
        "#         One additional field that I added is the frequency count just for\n",
        "#         furthur probabilistic calculations if required.\n",
        "#         \"\"\"\n",
        "\n",
        "#         def __init__(self, end=False):\n",
        "#             self.characters = {}\n",
        "#             self.frequency = 0\n",
        "#             self.end = end\n",
        "\n",
        "#     def __init__(self):\n",
        "#         self.root = self._Node()\n",
        "#         self.node_count = 1\n",
        "\n",
        "#     def add_string(self, string):\n",
        "#         \"\"\"\n",
        "#         Adds a string to the trie\n",
        "#         Parameters:\n",
        "#         string: String\n",
        "#         \"\"\"\n",
        "#         node = self.root\n",
        "#         for c in string:\n",
        "#             if c not in node.characters:\n",
        "#                 node.characters[c] = self._Node()\n",
        "#                 self.node_count += 1\n",
        "\n",
        "#             node = node.characters[c]\n",
        "#             node.frequency += 1\n",
        "\n",
        "#         node.end = True\n",
        "\n",
        "#     def search_word(self, string):\n",
        "#         \"\"\"\n",
        "#         Searches for a word in the trie\n",
        "#         Parameters:\n",
        "#         string: String\n",
        "#         \"\"\"\n",
        "#         node = self.root\n",
        "#         for c in string:\n",
        "#             if c not in node.characters:\n",
        "#                 return False\n",
        "#             node = node.characters[c]\n",
        "\n",
        "#         if node.end:\n",
        "#             return True\n",
        "\n",
        "#         return False"
      ],
      "execution_count": 0,
      "outputs": []
    },
    {
      "cell_type": "code",
      "metadata": {
        "id": "71yCFIZloP9v",
        "colab_type": "code",
        "colab": {}
      },
      "source": [
        ""
      ],
      "execution_count": 0,
      "outputs": []
    },
    {
      "cell_type": "code",
      "metadata": {
        "id": "nZvW93v-GXEz",
        "colab_type": "code",
        "colab": {}
      },
      "source": [
        "class InvertedIndexer:\n",
        "    \"\"\"\n",
        "    This class makes inverted index\n",
        "    \"\"\"\n",
        "\n",
        "    def __init__(self, filename=False):\n",
        "        self.filename = filename\n",
        "        self.stemmer_ru = nltk.SnowballStemmer(\"russian\")\n",
        "        self.stopwords = set(stopwords.words(\"russian\")) | set(stopwords.words(\"english\"))\n",
        "        # self.trie = Trie()\n",
        "        self.punctuation = punctuation # from string import punctuation\n",
        "        if filename:\n",
        "            self.inverted_index = self._build_index(self.filename)\n",
        "        else:\n",
        "            self.inverted_index = defaultdict(set)\n",
        "\n",
        "    def preprocess(self, sentence):\n",
        "        \"\"\"\n",
        "        Method to remove stop words and punctuations return tokens\n",
        "        \"\"\"\n",
        "        NONTEXT = re.compile('[^0-9 a-z#+_а-яё]')\n",
        "\n",
        "        sentence = sentence.lower()\n",
        "        sentence = sentence.translate(str.maketrans('', '', punctuation))\n",
        "        sentence = re.sub(NONTEXT,'',sentence)\n",
        "\n",
        "        # Heavy Operation Taking lot of time will move it outside\n",
        "        # tokens = [self.stemmer_ru.stem(word) for word in sentence.split()]\n",
        "\n",
        "        tokens = [token for token in sentence.split() if token not in self.stopwords]\n",
        "        # for t in tokens:\n",
        "        #     self.trie.add_string(t)\n",
        "\n",
        "        return tokens\n",
        "\n",
        "    def stem_keys(self, inverted_index):\n",
        "        \"\"\"\n",
        "        Called after index is built to stem all the keys and normalize them\n",
        "        \"\"\"\n",
        "        logging.debug('Indexing Complete will not Stem keys and remap indexes')\n",
        "        temp_dict = defaultdict(set)\n",
        "        i = 0\n",
        "        for word in tqdm(inverted_index):\n",
        "\n",
        "            stemmed_key = self.stemmer_ru.stem(word)\n",
        "            temp_dict[stemmed_key].update(inverted_index[word])\n",
        "            inverted_index[word] = None\n",
        "\n",
        "        inverted_index = temp_dict\n",
        "        logging.debug('Done Stemmping Indexes')\n",
        "        return inverted_index\n",
        "\n",
        "    def _build_index(self, indexing_data_location):\n",
        "        \"\"\"\n",
        "        This method builds the inverted index and returns the invrted index dictionary\n",
        "        \"\"\"\n",
        "        inverted_index = defaultdict(set)\n",
        "        with open(indexing_data_location, \"rb\") as f:\n",
        "            for line in tqdm(f):\n",
        "                line = line.decode().split('\\t')\n",
        "                file_number = line[0]\n",
        "                subject = line[1]\n",
        "                text = line[2]\n",
        "                line = subject + ' ' + text\n",
        "\n",
        "                for word in self.preprocess(line):\n",
        "                        inverted_index[word].add(int(file_number))\n",
        "\n",
        "        # Intermediate Save\n",
        "        # with open('/content/intermediate_inverted_index.pickle', mode='wb') as f:\n",
        "        #     pickle.dump(inverted_index, f)\n",
        "        # Collab crashed don't do that \n",
        "\n",
        "        inverted_index = self.stem_keys(inverted_index)\n",
        "\n",
        "        return inverted_index\n",
        "\n",
        "    def save(self, filename_to_save):\n",
        "        \"\"\"\n",
        "        Save method to save the inverted indexes\n",
        "        \"\"\"\n",
        "        with open(filename_to_save, mode='wb') as f:\n",
        "            pickle.dump(self.inverted_index, f)\n",
        "        \n",
        "        # with open(filename_to_save + '_trie', mode='wb') as f:\n",
        "        #     pickle.dump(self.trie, f)\n",
        "\n",
        "    def load(self, filelocation_to_load):\n",
        "        \"\"\"\n",
        "        Load method to load the inverted indexes\n",
        "        \"\"\"\n",
        "        with open(filelocation_to_load, mode='rb') as f:\n",
        "            self.inverted_index = pickle.load(f)\n",
        "\n",
        "        # with open(filelocation_to_load + '_trie', mode='rb') as f:\n",
        "        #     self.trie = pickle.load(f)\n"
      ],
      "execution_count": 0,
      "outputs": []
    },
    {
      "cell_type": "markdown",
      "metadata": {
        "id": "vXQMVmKdGkmV",
        "colab_type": "text"
      },
      "source": [
        "#### SolutionPredictor Class"
      ]
    },
    {
      "cell_type": "code",
      "metadata": {
        "id": "uvlVal49GpD2",
        "colab_type": "code",
        "colab": {}
      },
      "source": [
        "class SolutionPredictor:\n",
        "    \"\"\"\n",
        "    This classes uses object of Hw1SolutionIndexer\n",
        "    to make boolean search\n",
        "    \"\"\"\n",
        "    def __init__(self, indexer):\n",
        "        \"\"\"\n",
        "        indexer : object of class Hw1SolutionIndexer\n",
        "        \"\"\"\n",
        "        self.indexer = indexer\n",
        "\n",
        "\n",
        "    def find_docs(self, query):\n",
        "        \"\"\"\n",
        "        This method provides booleaen search\n",
        "        query : string with text of query\n",
        "        Returns Python set with documents which contain query words\n",
        "        Should return maximum 100 docs\n",
        "        \"\"\"\n",
        "\n",
        "        query = keyw.engrus(query)\n",
        "        tokens = self.indexer.preprocess(query)\n",
        "        tokens = [self.indexer.stemmer_ru.stem(word) for word in tokens]\n",
        "        docs_list = set()\n",
        "        for word in tokens:\n",
        "            if word in self.indexer.inverted_index:\n",
        "                if len(docs_list) > 0:\n",
        "                    docs_list.intersection_update(self.indexer.inverted_index[word]) # changed from intersection_update\n",
        "                else:\n",
        "                    docs_list.update(self.indexer.inverted_index[word])\n",
        "        \n",
        "        # Handling case when no set is returned by intersection\n",
        "        # if len(docs_list) < 10:\n",
        "        #     for word in tokens:\n",
        "        #         docs_list.update(self.indexer.inverted_index[word]) # changed from intersection_update\n",
        "\n",
        "        return docs_list"
      ],
      "execution_count": 0,
      "outputs": []
    },
    {
      "cell_type": "markdown",
      "metadata": {
        "id": "S0J9P0DwG17E",
        "colab_type": "text"
      },
      "source": [
        "#### Generate Index \n",
        "Run Only when Index is not generated Otherwise use the Loading code block"
      ]
    },
    {
      "cell_type": "code",
      "metadata": {
        "id": "qP_FPH13GrU6",
        "colab_type": "code",
        "outputId": "171d569d-6556-4166-c1a8-5307d7b9c795",
        "colab": {
          "base_uri": "https://localhost:8080/",
          "height": 183,
          "referenced_widgets": [
            "ec2a2223c03c4d67a334b53ee9ebb937",
            "5a57f2497dd145b281c9af6bef01e8bc",
            "a58c0781144b4da8a004d224537ffa8b",
            "0a98b993eec648d88536048faa725f2e",
            "6d68638406ce4880aa62ffb5e3200284",
            "cda5eee119fc4c3797131ecc34229323",
            "87b53253a2b245a2805164221fddf33a",
            "cc1f130a530c4584ad98cc3753197d2e",
            "87c4a57902c04c38a133212329795f35",
            "b04e750ef6de4dc0b067c5d3cc49f81b",
            "ed7f1158eb744bd4aefb9a9fe4d6a63e",
            "bfc2b479de47442b8c3e6aa2886dd191",
            "2cd7081a830d41289ef0b3853e4471a4",
            "6a15b51f3d3c4c119610f7add9cf7df6",
            "e8b2327368d141998fb3685bfa325d25",
            "fdf3b1e56bd443f28a20ec50d39c798f"
          ]
        }
      },
      "source": [
        "logging.debug('Index is creating...')\n",
        "start = time.time()\n",
        "new_index = InvertedIndexer(indexing_data_location) \n",
        "end = time.time()\n",
        "logging.debug('Index has been created and saved as inverted_index.pickle in {:.4f}s'.format(end-start))"
      ],
      "execution_count": 0,
      "outputs": [
        {
          "output_type": "stream",
          "text": [
            "DEBUG:root:Index is creating...\n"
          ],
          "name": "stderr"
        },
        {
          "output_type": "display_data",
          "data": {
            "application/vnd.jupyter.widget-view+json": {
              "model_id": "ec2a2223c03c4d67a334b53ee9ebb937",
              "version_minor": 0,
              "version_major": 2
            },
            "text/plain": [
              "HBox(children=(FloatProgress(value=1.0, bar_style='info', max=1.0), HTML(value='')))"
            ]
          },
          "metadata": {
            "tags": []
          }
        },
        {
          "output_type": "stream",
          "text": [
            "DEBUG:root:Indexing Complete will not Stem keys and remap indexes\n"
          ],
          "name": "stderr"
        },
        {
          "output_type": "stream",
          "text": [
            "\n"
          ],
          "name": "stdout"
        },
        {
          "output_type": "display_data",
          "data": {
            "application/vnd.jupyter.widget-view+json": {
              "model_id": "87c4a57902c04c38a133212329795f35",
              "version_minor": 0,
              "version_major": 2
            },
            "text/plain": [
              "HBox(children=(FloatProgress(value=0.0, max=4815884.0), HTML(value='')))"
            ]
          },
          "metadata": {
            "tags": []
          }
        },
        {
          "output_type": "stream",
          "text": [
            "DEBUG:root:Done Stemmping Indexes\n",
            "DEBUG:root:Index has been created and saved as inverted_index.pickle in 1007.3685s\n"
          ],
          "name": "stderr"
        },
        {
          "output_type": "stream",
          "text": [
            "\n"
          ],
          "name": "stdout"
        }
      ]
    },
    {
      "cell_type": "code",
      "metadata": {
        "id": "IkT1dOvjJ8yb",
        "colab_type": "code",
        "outputId": "442f4326-beb0-4f7b-8b7e-18174be864e7",
        "colab": {
          "base_uri": "https://localhost:8080/",
          "height": 34
        }
      },
      "source": [
        "len(new_index.inverted_index)"
      ],
      "execution_count": 0,
      "outputs": [
        {
          "output_type": "execute_result",
          "data": {
            "text/plain": [
              "2858862"
            ]
          },
          "metadata": {
            "tags": []
          },
          "execution_count": 8
        }
      ]
    },
    {
      "cell_type": "code",
      "metadata": {
        "id": "Lrvd8h-1Rr54",
        "colab_type": "code",
        "colab": {}
      },
      "source": [
        "new_index.save('inverted_index.pickle')"
      ],
      "execution_count": 0,
      "outputs": []
    },
    {
      "cell_type": "code",
      "metadata": {
        "id": "FM_7-y9dTCST",
        "colab_type": "code",
        "colab": {}
      },
      "source": [
        "!cp inverted_index.pickle '/content/drive/My Drive/Homeworks/InformationRetrieval/inverted_index_4.pickle'"
      ],
      "execution_count": 0,
      "outputs": []
    },
    {
      "cell_type": "markdown",
      "metadata": {
        "id": "Z1hjVJ3SU1a1",
        "colab_type": "text"
      },
      "source": [
        "#### Load Index\n",
        "Run when Index is not generated"
      ]
    },
    {
      "cell_type": "code",
      "metadata": {
        "id": "sA6qW77ZVJD1",
        "colab_type": "code",
        "colab": {}
      },
      "source": [
        "index_location = '/content/drive/My Drive/Homeworks/InformationRetrieval/inverted_index_all_rus.pickle'"
      ],
      "execution_count": 0,
      "outputs": []
    },
    {
      "cell_type": "code",
      "metadata": {
        "id": "_-huYstNU8Ag",
        "colab_type": "code",
        "outputId": "ebf13201-82da-4fd5-e509-65e6ea6bd95a",
        "colab": {
          "base_uri": "https://localhost:8080/",
          "height": 51
        }
      },
      "source": [
        "logging.debug('Loading Index...')\n",
        "start = time.time()\n",
        "new_index = InvertedIndexer()\n",
        "new_index.load(index_location)\n",
        "end = time.time()\n",
        "logging.debug('Index has been loaded from inverted_index.pickle in {:.4f}s'.format(end-start))"
      ],
      "execution_count": 8,
      "outputs": [
        {
          "output_type": "stream",
          "text": [
            "DEBUG:root:Loading Index...\n",
            "DEBUG:root:Index has been loaded from inverted_index.pickle in 76.2058s\n"
          ],
          "name": "stderr"
        }
      ]
    },
    {
      "cell_type": "code",
      "metadata": {
        "id": "8wLJB7hqbAIG",
        "colab_type": "code",
        "outputId": "89e549d7-051d-45a7-ba06-7f248c906dc4",
        "colab": {
          "base_uri": "https://localhost:8080/",
          "height": 34
        }
      },
      "source": [
        "len(new_index.inverted_index)"
      ],
      "execution_count": 9,
      "outputs": [
        {
          "output_type": "execute_result",
          "data": {
            "text/plain": [
              "2820826"
            ]
          },
          "metadata": {
            "tags": []
          },
          "execution_count": 9
        }
      ]
    },
    {
      "cell_type": "markdown",
      "metadata": {
        "id": "byC3g9QZgYCe",
        "colab_type": "text"
      },
      "source": [
        "#### Convert keys to all Russian"
      ]
    },
    {
      "cell_type": "code",
      "metadata": {
        "id": "uPbdT4C1zDA0",
        "colab_type": "code",
        "colab": {
          "base_uri": "https://localhost:8080/",
          "height": 122
        },
        "outputId": "6f1ab3e6-2344-406d-ea40-90115db4963b"
      },
      "source": [
        "i = 0 \n",
        "for key in new_index.inverted_index:\n",
        "    print(new_index.inverted_index[key])\n",
        "    i += 1\n",
        "    if i == 5:\n",
        "        break"
      ],
      "execution_count": 27,
      "outputs": [
        {
          "output_type": "stream",
          "text": [
            "{43011, 493573, 92166, 186375, 233480, 159756, 368654, 145423, 274449, 131090, 71699, 86036, 47126, 188438, 380952, 403481, 24, 90137, 368666, 188443, 159769, 350239, 403483, 532510, 479268, 40998, 39, 368681, 479276, 368685, 221230, 88111, 495665, 557109, 550971, 450625, 41030, 233548, 323663, 489553, 381010, 362581, 159830, 405589, 192602, 438362, 233565, 495717, 510055, 528488, 313451, 536683, 397308, 452719, 538739, 348277, 22646, 303223, 376952, 528502, 303227, 303228, 442493, 276606, 348289, 204931, 313475, 149639, 538766, 221330, 489618, 489620, 209043, 256150, 221336, 254104, 159901, 362658, 362662, 448678, 28840, 112808, 448682, 448683, 489644, 389293, 495783, 448687, 20656, 479407, 254130, 323762, 327858, 364725, 14518, 489651, 61624, 440508, 516286, 577727, 18626, 35010, 366786, 579779, 278726, 364743, 307402, 577738, 112846, 100559, 577743, 135378, 440531, 168148, 149717, 90326, 149719, 216, 92376, 172246, 110811, 220, 235732, 538840, 164064, 32994, 78053, 221414, 209130, 149744, 362736, 311541, 311545, 530687, 219392, 39175, 299276, 311567, 246038, 364825, 233756, 20765, 313628, 297251, 313635, 379177, 298, 186667, 233771, 237867, 446766, 559407, 10544, 311600, 80188, 284990, 219455, 383296, 49473, 389439, 284998, 356680, 432457, 522570, 207182, 518480, 215377, 233810, 233812, 328025, 346460, 440668, 383326, 385377, 219490, 164195, 123235, 188774, 61799, 158056, 385382, 389479, 383339, 487793, 2420, 389495, 149884, 321917, 311679, 72064, 358786, 389507, 489860, 45445, 20871, 100747, 108939, 348560, 311697, 248210, 393617, 518545, 274837, 311705, 489886, 315807, 211361, 266657, 125347, 283042, 379300, 434593, 489891, 74152, 483754, 496042, 453037, 254383, 541105, 283061, 285112, 473529, 489913, 389564, 14781, 321981, 522686, 557505, 92612, 12741, 274885, 281030, 264648, 475593, 477636, 555462, 160207, 485839, 160210, 92629, 233943, 90584, 303576, 149978, 311769, 383452, 440796, 537050, 375263, 242145, 389601, 479718, 389608, 33259, 240109, 350704, 20977, 383474, 266741, 328182, 389623, 479734, 363002, 489983, 410113, 348679, 37384, 213512, 201227, 395787, 461323, 543247, 571922, 76310, 158231, 29208, 383513, 29210, 475675, 205339, 72222, 172580, 389669, 172585, 383529, 518698, 109100, 129582, 385582, 281139, 215604, 547380, 127547, 383550, 234047, 72262, 98886, 539208, 72265, 240202, 494153, 55885, 285261, 361038, 180816, 315988, 225878, 383574, 211548, 383581, 123487, 35425, 389731, 72298, 139882, 348783, 348784, 316017, 211570, 447091, 311924, 107132, 490113, 209539, 490115, 518790, 457353, 94860, 94863, 94867, 414355, 473751, 172696, 555673, 94873, 211610, 211611, 234138, 94878, 119455, 203422, 92834, 252580, 21158, 457382, 389803, 432812, 348849, 180914, 113341, 6846, 193218, 203459, 316100, 209609, 115402, 424650, 457420, 285392, 344785, 389843, 119509, 72406, 119510, 377561, 377562, 518873, 498396, 174813, 432861, 381663, 574170, 371425, 574173, 330469, 172777, 92908, 330479, 197364, 365300, 326392, 33529, 396026, 432889, 107264, 269056, 54020, 389894, 219912, 113417, 107275, 74510, 146191, 113424, 428817, 541457, 41751, 490264, 37657, 574232, 369440, 174881, 369443, 232228, 402221, 457518, 254767, 467757, 363315, 439092, 426805, 113462, 197430, 533302, 418619, 176957, 250687, 514879, 330561, 488258, 80708, 148292, 297798, 480069, 568132, 381769, 35658, 295755, 11088, 133969, 457554, 547666, 514903, 35673, 158554, 228188, 281438, 402272, 516960, 414562, 105315, 486242, 138085, 547683, 269162, 375661, 424813, 516977, 555891, 514933, 381814, 394105, 281466, 314236, 164737, 140164, 299909, 433030, 549767, 33672, 355209, 539529, 418699, 35728, 134032, 457616, 35737, 416666, 35739, 308124, 185256, 320426, 158638, 56241, 129973, 373685, 439224, 222136, 232377, 160698, 109499, 187322, 392120, 418747, 226239, 228287, 359359, 228293, 37836, 351183, 455632, 400337, 132051, 488406, 119769, 234458, 31707, 297948, 527324, 132063, 525281, 107490, 179170, 37865, 179177, 132077, 363503, 312305, 189428, 439285, 568309, 171002, 539643, 197630, 480254, 97282, 556034, 539653, 72715, 375819, 457739, 412686, 453647, 254992, 449553, 490508, 23571, 138259, 318484, 531472, 175128, 216088, 203802, 558108, 60447, 453664, 130081, 189477, 408616, 33834, 349227, 394284, 209965, 291886, 181299, 437303, 394296, 484413, 72766, 240702, 332864, 560190, 193606, 158800, 197713, 80980, 97365, 117844, 191572, 476245, 437341, 95326, 474207, 556126, 189537, 189538, 78947, 332901, 13416, 363625, 35946, 107626, 250987, 349291, 437356, 78961, 158839, 203897, 205946, 332922, 437369, 97408, 107648, 560261, 197766, 259209, 117899, 160908, 251021, 439437, 294031, 533644, 29853, 179368, 36013, 97458, 302258, 502972, 490687, 416964, 218310, 74951, 197832, 122062, 163023, 158938, 132316, 308445, 42207, 394464, 167137, 179426, 404703, 36069, 181477, 259305, 529647, 234736, 380144, 523510, 566519, 308476, 378110, 378114, 290051, 378115, 29960, 181512, 384264, 191759, 398607, 81173, 570645, 550167, 505122, 9512, 150824, 527656, 562474, 146739, 453939, 36149, 144696, 161081, 161082, 218427, 300346, 453944, 302400, 318785, 150850, 103748, 113988, 290119, 503115, 11596, 130380, 161101, 38223, 191824, 552272, 363859, 165205, 95574, 496985, 464226, 97635, 533859, 423269, 560486, 36199, 404840, 363882, 163180, 247148, 120175, 238960, 157041, 292210, 505200, 198004, 54648, 490873, 470395, 161148, 269695, 140672, 349570, 126339, 316804, 363908, 232838, 425347, 519560, 138635, 265611, 419214, 427408, 40338, 433562, 345499, 423325, 167327, 19872, 32160, 136608, 384417, 433569, 112038, 232873, 517550, 572847, 38321, 120243, 511412, 54714, 81339, 159164, 327099, 513467, 552384, 103878, 548294, 308680, 249289, 34250, 150986, 36300, 210379, 329160, 218575, 374222, 486862, 538059, 251348, 153046, 337367, 314841, 312794, 349658, 548314, 548316, 202208, 263648, 151010, 230883, 222692, 425444, 155110, 456162, 218600, 431598, 284151, 144896, 347648, 374274, 572931, 292356, 153097, 374281, 3595, 19980, 40461, 378378, 441871, 488972, 243218, 321044, 374292, 431638, 427543, 181784, 167448, 247321, 437787, 189981, 114206, 548381, 108064, 159265, 161312, 1571, 302626, 364069, 15910, 194086, 208424, 157225, 15914, 126506, 42540, 130602, 202286, 179759, 392751, 359985, 513583, 345653, 579132, 251453, 157247, 579135, 222785, 15939, 60995, 183876, 222787, 222788, 167496, 230986, 167499, 411211, 419405, 509515, 527951, 548429, 548435, 222805, 579157, 233054, 392799, 439906, 235108, 312935, 446056, 325225, 458346, 374379, 157293, 157297, 312946, 429681, 1652, 179831, 179833, 75387, 407166, 575102, 312963, 362115, 364166, 433800, 36498, 108181, 390805, 34456, 507548, 71329, 331430, 298666, 247468, 390829, 40622, 163505, 210609, 448177, 390836, 575512, 16059, 59069, 282302, 431809, 417474, 456385, 222917, 427719, 40648, 433865, 38604, 190156, 220876, 362191, 560844, 310993, 388817, 405203, 57044, 372439, 507608, 419546, 429786, 347870, 276201, 157420, 374516, 159481, 415481, 425721, 190204, 202494, 220928, 331520, 358147, 327428, 470790, 46857, 208653, 171790, 220943, 311055, 311056, 579343, 87827, 233235, 294675, 32534, 487189, 458522, 360219, 32543, 556831, 452385, 374564, 378661, 257830, 87848, 331560, 210730, 40751, 143152, 507698, 184116, 345918, 433983, 323395, 94023, 378697, 499530, 237391, 221008, 59218, 32595, 94039, 104279, 210775, 442200, 448347, 487257, 487259, 130910, 380768, 89953, 159586, 233317, 98151, 36713, 83818, 208745, 374635, 431979, 114544, 98161, 98162, 311160, 380793, 49020, 247676, 331647, 34688, 89985, 190337, 157572, 89997, 98189, 89999, 112528, 219025, 247699, 579477, 71574, 221081, 268187, 319390, 135071, 210847, 362403, 378788, 311208, 85929, 112553, 69547, 112558, 94127, 579506, 94131, 362421, 491449, 190394, 57281, 122820, 374727, 200648, 200649, 346061, 311247, 2008, 151513, 151514, 212956, 81887, 466911, 403425, 362476, 440301, 210927, 104432, 198640, 49138, 83954, 423919, 499701, 536571, 491516}\n",
            "{122893, 335892, 73751, 24, 360473, 368665, 278555, 40998, 368680, 368685, 221230, 55, 245828, 303173, 41030, 24651, 57419, 458844, 221285, 516197, 106610, 41080, 90233, 163962, 41083, 180351, 41089, 90244, 426116, 262285, 106639, 221330, 434324, 499861, 49304, 221336, 327832, 368793, 106652, 32931, 434339, 204967, 327853, 508079, 221360, 98483, 327863, 303288, 90298, 475324, 516286, 417997, 205009, 90325, 409815, 573658, 220, 32988, 475357, 426209, 32994, 475364, 499942, 90345, 475369, 90347, 360690, 155891, 221426, 221429, 303350, 311545, 139514, 573690, 573691, 393468, 573692, 24831, 41218, 24839, 90375, 327955, 205076, 311573, 57623, 311578, 33051, 475428, 298, 311597, 74038, 57662, 33088, 8518, 24902, 450890, 8529, 475481, 475482, 393565, 328033, 385377, 123235, 180581, 74087, 98664, 516457, 82282, 164202, 467306, 581993, 106862, 311666, 475510, 180606, 131458, 33156, 213380, 98694, 139658, 508298, 57745, 311698, 311705, 557467, 180637, 180639, 98724, 557476, 557479, 557487, 311730, 180661, 442805, 90551, 459193, 467388, 74179, 557508, 311753, 582101, 491990, 205272, 582104, 262618, 582105, 57820, 410076, 25054, 582110, 25058, 74211, 549348, 508389, 582115, 557547, 279020, 172529, 74226, 475635, 475636, 49656, 565755, 369149, 74239, 172544, 410112, 475649, 475650, 573953, 573954, 74247, 57864, 74250, 582164, 139801, 115227, 475675, 311849, 33325, 524849, 49716, 475704, 574014, 74303, 475713, 74306, 475714, 311878, 311886, 328270, 180816, 475746, 475749, 311919, 311924, 311928, 410232, 524922, 565882, 402044, 311933, 311934, 467589, 483974, 467591, 74381, 74382, 311950, 524941, 180884, 426645, 172694, 361111, 664, 74393, 533145, 131747, 172708, 41638, 139942, 402094, 696, 703, 33471, 262853, 33478, 713, 230093, 426704, 377554, 33493, 221910, 377561, 377562, 492252, 740, 254693, 107239, 525032, 745, 189162, 131825, 451313, 516851, 197364, 221943, 33529, 41738, 74510, 385807, 434959, 402197, 402201, 49948, 74525, 467742, 805, 115493, 402215, 808, 230185, 467757, 271172, 230215, 164683, 181072, 17240, 279388, 402269, 516961, 279394, 866, 279397, 402282, 33645, 516977, 312189, 459648, 897, 898, 418691, 369540, 222085, 549766, 549767, 902, 222086, 418694, 418699, 82825, 418696, 418698, 82828, 369556, 74652, 246685, 394142, 33699, 484259, 418727, 369579, 279469, 394157, 181167, 459699, 418742, 74679, 418746, 418747, 500672, 222145, 964, 107461, 197572, 418759, 418774, 336859, 33757, 33767, 353260, 328688, 418810, 181255, 189448, 271372, 33813, 33820, 328733, 459804, 558108, 525344, 394274, 189477, 394278, 33834, 189487, 107573, 296001, 418883, 140369, 197713, 279635, 394323, 99418, 459871, 17505, 189537, 189540, 320613, 107626, 476266, 476269, 468079, 476271, 476275, 271476, 500855, 205946, 476292, 304261, 197766, 418953, 443542, 189592, 189594, 9373, 25763, 66729, 124076, 550063, 246962, 33973, 246965, 419004, 33989, 410823, 197838, 509143, 337120, 296161, 173284, 83173, 566505, 255216, 181495, 189687, 197880, 34048, 271616, 533760, 378115, 419079, 533768, 419089, 189715, 25876, 550167, 148766, 189736, 1322, 501034, 189743, 550192, 247092, 271669, 165179, 148803, 369995, 17746, 533844, 17752, 509272, 509280, 17763, 17768, 116072, 189800, 34160, 116082, 189813, 116086, 91515, 517502, 17795, 148871, 394632, 394633, 189834, 361870, 370063, 353680, 517522, 247191, 419225, 189851, 370077, 329123, 247211, 501167, 501174, 75203, 148932, 75205, 558533, 353736, 75210, 9676, 337367, 222680, 501207, 312794, 533975, 263645, 460253, 108006, 247274, 26098, 116218, 386560, 443908, 58888, 443914, 165394, 181783, 181784, 189981, 476701, 108064, 140843, 42541, 509485, 493103, 108081, 34354, 575026, 17972, 190004, 165432, 263737, 190012, 157247, 222783, 222785, 222786, 222787, 222788, 190025, 222794, 411211, 419405, 222799, 18000, 18001, 222805, 91740, 149085, 394846, 190048, 337508, 206450, 378486, 1655, 435850, 91791, 18067, 34456, 362144, 26274, 247468, 476844, 280245, 468661, 247481, 427713, 18120, 50888, 313032, 190157, 34514, 91860, 50901, 83669, 190167, 509656, 566999, 181979, 321252, 567013, 313062, 345832, 247530, 34540, 534252, 345838, 34551, 190210, 34570, 460558, 75535, 116495, 304916, 362264, 263961, 452385, 91939, 190251, 26420, 534325, 485177, 190268, 444222, 190273, 231234, 476994, 444232, 411471, 59217, 526167, 149340, 575334, 198505, 411499, 362349, 419695, 444279, 116602, 1915, 386940, 34688, 100237, 59278, 59284, 116639, 362403, 477100, 477101, 386998, 509878, 34751, 460736, 567234, 485315, 346060, 436174, 460759, 460765, 378855, 75754, 362476, 67578, 436219, 272379, 83969, 43011, 92166, 182279, 10252, 231445, 264215, 575512, 403481, 59426, 256039, 92204, 34861, 182323, 190534, 526411, 256076, 313422, 198735, 362581, 313435, 133219, 419951, 395376, 133233, 34933, 75893, 59513, 133247, 2176, 2177, 108677, 469127, 403599, 485525, 75933, 313510, 59562, 288940, 84141, 84142, 75952, 403642, 108741, 149703, 149705, 51407, 149720, 149721, 149722, 313563, 43242, 362736, 43255, 379130, 149755, 43262, 149762, 116999, 43279, 297232, 362768, 149780, 149783, 59679, 35112, 59690, 100654, 379195, 510268, 510270, 215361, 321871, 215377, 346460, 239966, 362849, 59748, 35173, 199015, 2420, 59780, 35205, 469383, 362889, 395663, 518545, 256403, 35222, 510364, 108960, 10663, 330153, 428461, 461229, 76211, 420292, 215497, 59855, 100815, 469463, 444889, 403936, 109029, 43499, 387567, 575983, 289269, 150009, 526843, 150012, 59901, 18946, 436742, 109066, 289291, 395787, 461323, 289294, 289297, 354834, 428563, 469524, 469525, 150043, 526891, 109100, 395820, 215604, 92726, 559671, 330297, 330300, 92734, 379454, 27202, 92743, 494153, 35405, 166478, 92751, 43600, 43611, 35423, 453252, 174726, 76427, 346770, 404117, 248483, 92837, 576172, 494263, 281277, 395970, 363207, 330441, 469705, 387798, 76506, 518883, 453349, 256746, 92908, 92910, 330478, 191220, 92918, 322299, 76540, 76544, 469766, 281354, 559882, 363276, 35603, 289556, 559897, 174881, 404262, 207669, 576309, 305985, 445251, 297797, 297798, 19271, 142152, 35658, 133969, 35667, 297815, 297818, 35676, 150367, 396127, 232293, 551781, 494444, 125806, 35696, 35699, 273271, 281467, 355199, 134019, 11139, 322438, 502665, 117643, 428939, 174990, 428943, 35728, 289680, 363412, 52117, 35737, 109473, 150434, 428962, 60332, 543663, 412592, 314294, 568257, 150471, 52203, 568309, 314362, 35836, 297985, 93186, 371727, 453647, 175128, 453664, 347175, 347176, 445479, 461865, 445483, 363565, 445486, 568374, 568375, 388154, 232508, 117832, 117833, 527435, 494674, 117844, 388182, 330839, 388183, 437335, 388188, 388195, 19557, 11366, 60519, 191595, 11374, 289906, 519285, 502903, 535674, 519300, 35974, 248967, 117899, 44173, 363662, 461965, 19600, 19605, 576661, 576665, 363675, 248995, 36010, 494763, 36013, 36015, 150705, 502969, 363707, 339139, 191697, 511188, 44253, 191714, 36069, 126181, 503013, 445672, 19695, 363766, 208119, 470271, 175362, 568580, 85254, 232717, 191759, 191766, 191767, 93466, 478499, 478505, 101675, 494896, 535858, 36149, 388407, 453944, 503098, 249151, 208196, 503115, 191824, 322897, 167268, 36198, 126312, 118129, 281973, 77178, 560507, 191869, 36222, 331137, 191874, 191875, 363908, 372108, 445837, 109968, 388497, 404881, 208280, 118169, 77212, 93599, 421279, 413089, 208292, 126377, 93611, 36271, 36273, 462260, 11704, 36281, 462273, 36295, 232903, 265674, 282061, 60878, 118223, 60881, 323026, 282070, 191962, 85469, 126430, 85471, 519645, 85476, 85481, 306665, 191979, 36335, 208369, 495089, 216563, 568822, 85496, 85497, 191994, 470523, 60927, 298498, 470535, 52745, 429578, 19980, 36375, 527898, 11803, 364063, 470560, 429606, 470566, 208424, 527916, 298547, 323125, 355894, 85562, 364092, 233031, 11849, 388683, 388695, 290396, 233054, 429679, 61041, 429681, 446067, 11897, 36473, 233081, 241276, 347775, 347781, 454278, 44682, 20120, 61081, 102041, 347808, 331430, 208553, 102065, 208561, 429748, 429752, 61115, 380606, 528064, 61122, 380611, 347846, 405197, 429774, 20177, 405203, 20183, 495319, 175834, 511710, 323299, 274151, 347890, 69367, 36600, 274168, 298747, 487165, 20224, 462598, 577286, 528142, 454417, 151316, 208669, 528171, 61228, 61229, 94003, 184116, 503604, 69431, 364358, 3912, 12106, 315211, 315220, 503640, 282457, 233310, 266079, 192353, 94057, 208745, 266092, 94074, 274298, 192382, 69503, 94086, 192391, 421771, 380815, 233360, 397206, 552854, 28572, 176032, 12193, 257964, 94127, 176047, 552881, 94131, 454583, 85954, 446412, 159702, 389080, 446447, 274424, 20495, 446493, 36894, 307238, 544809, 12336, 446519, 110656, 520266, 577611, 233548, 323663, 372818, 200791, 36953, 110682, 495717, 356456, 462954, 36972, 61558, 569465, 446597, 364684, 200845, 233614, 446605, 471182, 37012, 348322, 61611, 495790, 20656, 389298, 577718, 463031, 61624, 20665, 37055, 577727, 454852, 20679, 241864, 168137, 577738, 471244, 78030, 577743, 446672, 446678, 241883, 413915, 446686, 78053, 37097, 94443, 372972, 446704, 28914, 299250, 28918, 94466, 200970, 61708, 299276, 110863, 471313, 364825, 61726, 241951, 323870, 291106, 258342, 233771, 135470, 389426, 201014, 37182, 389441, 119108, 209224, 20816, 20817, 12629, 29013, 37207, 414037, 233822, 528735, 20832, 414049, 348515, 37222, 414054, 299368, 20843, 201068, 487793, 332147, 29044, 4469, 389495, 201083, 20871, 233866, 110994, 135571, 135572, 463250, 455062, 455063, 438681, 389536, 283042, 37284, 37285, 225702, 53679, 61871, 143799, 389564, 127423, 315844, 291274, 356813, 348628, 373208, 37343, 455136, 242145, 389601, 389608, 127466, 553450, 242163, 389619, 152053, 61942, 12793, 430588, 242176, 242177, 283143, 348679, 242184, 283146, 201228, 250395, 389662, 356915, 373314, 520774, 414287, 12888, 4697, 299608, 340572, 234078, 389728, 389731, 127592, 496233, 234092, 348784, 381552, 463473, 168564, 414324, 12921, 12925, 209539, 520836, 209542, 94863, 94870, 12953, 94873, 217754, 373408, 78499, 12980, 570037, 389822, 193217, 193218, 209606, 119499, 209619, 119509, 119510, 4824, 29402, 283355, 62172, 389852, 62174, 13025, 13047, 54007, 561912, 275195, 54020, 389894, 439047, 37655, 414491, 340766, 422691, 578340, 127783, 135975, 389933, 54062, 521010, 209716, 119611, 13123, 37703, 299848, 119626, 553805, 553808, 553809, 496473, 504671, 21349, 136042, 488306, 512882, 463737, 29562, 463747, 13187, 308103, 78733, 37773, 37788, 283549, 29598, 373665, 5027, 299943, 5032, 78772, 54198, 136120, 439224, 578488, 54206, 463816, 406473, 455632, 488406, 357339, 29667, 209892, 283622, 447464, 316393, 406517, 439285, 209920, 488452, 119815, 357383, 168971, 447502, 78868, 357401, 78874, 13339, 398364, 357405, 13342, 357406, 570397, 406561, 357410, 414756, 365606, 398375, 169000, 365609, 209965, 480302, 324657, 324660, 406581, 324664, 324665, 324667, 37951, 324672, 226370, 463938, 357450, 218191, 562258, 406614, 78936, 13404, 37988, 554086, 46183, 406638, 136309, 160891, 423037, 87167, 357504, 423041, 218242, 496771, 357513, 439437, 210062, 373903, 193683, 144534, 185494, 488600, 488601, 291996, 439452, 488607, 38049, 267431, 226479, 406704, 226481, 218290, 259249, 447663, 169142, 292023, 226489, 316603, 169153, 38086, 218310, 308433, 38108, 38112, 226529, 38114, 13540, 218349, 529647, 144631, 185591, 169210, 406780, 54527, 406784, 447746, 414985, 390441, 464170, 390444, 488749, 529708, 210223, 390447, 202033, 529709, 30005, 267575, 161082, 218427, 390459, 390460, 390462, 480579, 136518, 292166, 38218, 38223, 95574, 210264, 578904, 169306, 38240, 333154, 578915, 578916, 120169, 578925, 210289, 169330, 292210, 103796, 120182, 120186, 578940, 185725, 103806, 505229, 54671, 38289, 38293, 87445, 333209, 30108, 267677, 161191, 136616, 136617, 431528, 169389, 210350, 120243, 169395, 488884, 54714, 447937, 513478, 169419, 218575, 275919, 169430, 87517, 218600, 431598, 456175, 464372, 316917, 374267, 218623, 456191, 374274, 292356, 521736, 374281, 488972, 513550, 415251, 513558, 513559, 521752, 464409, 169511, 38442, 169515, 169523, 546357, 5687, 185913, 251453, 202302, 489024, 46666, 46668, 251469, 120402, 95830, 210527, 71267, 489059, 38501, 530021, 71272, 226925, 513651, 169598, 5761, 464513, 390792, 431761, 415379, 489110, 54936, 71320, 104089, 259739, 489115, 5790, 5794, 38572, 5807, 292539, 210624, 218819, 374469, 169670, 292553, 87754, 218833, 169688, 71386, 169691, 169695, 571103, 218852, 579301, 210663, 562920, 382704, 5873, 259826, 562928, 554749, 259842, 521990, 87827, 489236, 128790, 431902, 399141, 235307, 431928, 153418, 169802, 284491, 538443, 55118, 579403, 579411, 14166, 210775, 571223, 243552, 292704, 169845, 489345, 112520, 554890, 391052, 251794, 456596, 579477, 399254, 79776, 333728, 169895, 79813, 309204, 251861, 522197, 374748, 407516, 47073, 6114, 169962, 407530, 325618, 104438, 407551, 284679, 473095, 309263, 505873, 170002, 473108, 145432, 47130, 514088, 129065, 440365, 563250, 79925, 210998, 366651, 219205, 415818, 88141, 579665, 366676, 440423, 399466, 194669, 350318, 440431, 268425, 489618, 514195, 39060, 489620, 489622, 383136, 268452, 333989, 415910, 88233, 284845, 80047, 563377, 489651, 497852, 399549, 14529, 563393, 579779, 350404, 506054, 563400, 80073, 391373, 391374, 96470, 399575, 489690, 563420, 30954, 465132, 538860, 489710, 194800, 579828, 30965, 538872, 530687, 448771, 260377, 325914, 383257, 489760, 391461, 416037, 244007, 579881, 301356, 284978, 383283, 71991, 80183, 162104, 383291, 383293, 80196, 145733, 383303, 522570, 285016, 489818, 440668, 178526, 383326, 383339, 96638, 72064, 145793, 358786, 383363, 358788, 88453, 416130, 489860, 522626, 326026, 383372, 47501, 457108, 145814, 47516, 383390, 47519, 31136, 555426, 383406, 571831, 285112, 489913, 14781, 383439, 563664, 547284, 260566, 260567, 547291, 383452, 440796, 285151, 547295, 383461, 489959, 47594, 457194, 457196, 47600, 350704, 47603, 104952, 506362, 170493, 489987, 6662, 522764, 47634, 383513, 490011, 530971, 72222, 547361, 547362, 47660, 186930, 490035, 563766, 121402, 186940, 391742, 383557, 72265, 309834, 383565, 47694, 121430, 244312, 244313, 432728, 457304, 383581, 105055, 121443, 432748, 121458, 23165, 490113, 490115, 195208, 277138, 113299, 15000, 211611, 473761, 473762, 47779, 15016, 80556, 416429, 432812, 473773, 72374, 359095, 6846, 490200, 432861, 457437, 260831, 31463, 490217, 457452, 31470, 301808, 39667, 146172, 350976, 15105, 490245, 162569, 490249, 72463, 449299, 342808, 490273, 203559, 457512, 15145, 490283, 97074, 449333, 490294, 555831, 88890, 457531, 490303, 72512, 490304, 72514, 490308, 56139, 506704, 457554, 228188, 105315, 39781, 285547, 400235, 375661, 490347, 514933, 490361, 285562, 252796, 129924, 269196, 195477, 416666, 490398, 285599, 457634, 293795, 498595, 252841, 383918, 457654, 80827, 195515, 195516, 359358, 359359, 293826, 400337, 302037, 523225, 72670, 23520, 23521, 392166, 490476, 515060, 310266, 138239, 97282, 457730, 187396, 539653, 556034, 556038, 556042, 449553, 367635, 31770, 457759, 556069, 556072, 465967, 449589, 465973, 506936, 367675, 384064, 375881, 326731, 253012, 105562, 580699, 179297, 187495, 97393, 154743, 310391, 203897, 179324, 482431, 253056, 490633, 97430, 564374, 490657, 515239, 179368, 138410, 97458, 441531, 556225, 97475, 72901, 392400, 564439, 433372, 490716, 48353, 179426, 89315, 433381, 490727, 253164, 466160, 187639, 32000, 548102, 531723, 310540, 490769, 392472, 97561, 294170, 32031, 474405, 236838, 187702, 376119, 89402, 580923, 32060, 138560, 89409, 97608, 474440, 154962, 187734, 48474, 499040, 146785, 499048, 269673, 236905, 97643, 261484, 261485, 261486, 499050, 515432, 523625, 154994, 564590, 56695, 253312, 56705, 179587, 540037, 474512, 40338, 433562, 114076, 179626, 433578, 400818, 572853, 302519, 48568, 327096, 433591, 433592, 302524, 425410, 548294, 384465, 318930, 433619, 32216, 40423, 56815, 89584, 548338, 327155, 105983, 105988, 220677, 32264, 73229, 40462, 441871, 56857, 392730, 15901, 450099, 15925, 359991, 56887, 302649, 179777, 24138, 523852, 548429, 7760, 24147, 253524, 286292, 556637, 97887, 269928, 540267, 573042, 179827, 179833, 433800, 384651, 89741, 81550, 220818, 220820, 507548, 458401, 220835, 442020, 138935, 163511, 204474, 138944, 163522, 433864, 417488, 310993, 507608, 32473, 311001, 474849, 98019, 48868, 40681, 16106, 24302, 98035, 384758, 32505, 81662, 32521, 311055, 311056, 32528, 360210, 524049, 32533, 32534, 48917, 311063, 302878, 302880, 237364, 401210, 433983, 499530, 237394, 335699, 499550, 221023, 122722, 130916, 98162, 40826, 368515, 89997, 98189, 335759, 393110, 458652, 491420, 270245, 311219, 139196, 163773, 311232, 49090, 49099, 57298, 180178, 32724, 32747, 557040, 557041, 32756, 499701, 180215, 516091, 221181, 90110}\n",
            "{48128, 48129, 573954, 489987, 102404, 74247, 233480, 102409, 233993, 534536, 189965, 463377, 150036, 24, 558108, 13343, 548389, 383529, 17456, 264240, 87603, 91701, 74303, 8768, 74306, 347204, 545354, 548429, 47694, 309844, 76886, 12888, 233565, 179297, 564324, 564329, 232556, 440431, 22646, 2176, 2177, 5761, 502403, 174725, 110215, 102026, 106123, 106124, 74381, 74382, 477838, 19600, 12945, 224395, 543888, 19605, 74393, 478874, 363675, 312993, 364705, 94887, 47785, 47786, 152745, 691, 43700, 465083, 105148, 558779, 703, 111807, 14529, 220863, 98510, 11473, 11474, 320721, 429784, 201436, 424669, 476384, 19681, 10980, 18159, 47346, 755, 155891, 579828, 564472, 545532, 355075, 269063, 54024, 209675, 1806, 233235, 205076, 57625, 189722, 431902, 805, 808, 9006, 92974, 284977, 471345, 431928, 190268, 510268, 292166, 581959, 346443, 133969, 102738, 297812, 527190, 95584, 385376, 866, 57699, 578915, 38759, 126312, 431979, 266092, 326509, 578925, 118639, 516977, 281973, 473976, 492408, 312189, 514430, 119679, 349570, 545673, 108939, 52619, 52620, 52621, 401807, 109968, 401808, 245138, 474512, 52632, 52635, 233885, 52638, 52640, 312224, 283042, 23462, 10663, 100778, 94127, 366512, 94131, 439224, 47549, 557505, 310266, 265674, 233932, 351692, 351693, 563664, 302037, 90583, 102871, 214999, 425437, 149982, 582110, 19425, 25058, 74211, 146403, 383461, 1511, 582123, 284652, 363503, 464372, 95734, 101366, 312314, 90110}\n",
            "{466944, 196610, 360452, 122885, 8199, 360457, 122890, 131085, 114702, 368654, 90128, 376847, 131090, 253971, 32788, 32791, 24, 360473, 368665, 188443, 81947, 368666, 491549, 532510, 565278, 573470, 507938, 466979, 40996, 180261, 40998, 32807, 204837, 352297, 360485, 368680, 106540, 131116, 221230, 368685, 180272, 335920, 385069, 368692, 262198, 254007, 417846, 90170, 270394, 385082, 24637, 409661, 393279, 467004, 475197, 475198, 360515, 491582, 41030, 24647, 24651, 532556, 180301, 557137, 368725, 491606, 41047, 41055, 508002, 393315, 491620, 327782, 114792, 221292, 188525, 73839, 483439, 57457, 116, 41080, 163962, 41083, 57466, 32891, 196732, 221308, 41089, 98433, 106626, 204931, 499843, 57479, 24714, 434316, 262285, 491661, 106641, 106642, 90259, 221330, 499861, 41110, 221335, 98456, 221336, 254104, 278683, 327832, 311453, 475287, 532632, 565399, 32931, 221349, 8359, 573607, 352425, 131245, 327853, 57519, 524461, 8370, 327858, 426162, 549046, 327863, 221369, 57531, 90299, 188603, 254142, 82111, 516286, 573634, 32963, 32965, 278726, 319687, 393416, 180427, 8397, 98510, 270542, 499923, 8404, 90325, 90326, 131284, 216, 49368, 172246, 319701, 220, 32988, 262365, 278749, 164064, 377054, 32994, 221410, 228, 73958, 221414, 33000, 229610, 236, 24812, 41202, 155891, 164083, 221426, 82166, 360690, 41208, 311545, 139514, 426233, 205052, 311550, 33024, 311553, 41218, 98563, 205058, 311554, 426246, 24839, 82184, 426247, 311562, 114956, 41231, 221455, 327955, 205076, 557334, 33051, 327963, 41248, 289, 65826, 106787, 303397, 188711, 205095, 298, 49458, 49459, 24885, 565558, 311610, 467260, 467264, 49473, 328002, 8518, 581959, 24905, 278864, 131410, 319829, 295254, 393559, 401750, 8537, 346, 16729, 188763, 237915, 491871, 98656, 164193, 328033, 123235, 164195, 164197, 180581, 229735, 98664, 385376, 16746, 164202, 385382, 467306, 8558, 123246, 131440, 262513, 131442, 311664, 311666, 409973, 295290, 557436, 180606, 33156, 98694, 311694, 131473, 131474, 164241, 311697, 98709, 406, 311698, 16792, 311705, 377240, 180636, 33181, 180639, 434593, 16804, 98724, 16807, 74152, 180650, 328109, 57776, 541105, 311730, 385459, 98740, 180661, 90550, 393650, 582065, 459193, 41402, 491962, 41409, 557505, 74179, 123331, 557508, 139720, 311752, 311754, 254415, 328143, 319953, 516559, 16851, 319956, 426453, 491990, 90583, 90584, 270807, 33242, 90587, 262618, 303576, 25054, 270814, 328159, 582110, 25058, 74211, 98787, 573922, 172529, 41458, 74226, 115189, 328182, 311802, 512, 410112, 410113, 573954, 213508, 270852, 418309, 573960, 434697, 74250, 492043, 270858, 205325, 205329, 180754, 582164, 311829, 336405, 147992, 360984, 492056, 147998, 172574, 549406, 311843, 532538, 311845, 311847, 311849, 172587, 541227, 492077, 205358, 385582, 311856, 524849, 492083, 426558, 74303, 8774, 205382, 205384, 311878, 197198, 311886, 180816, 361038, 475726, 574030, 541270, 574041, 295514, 605, 115294, 172639, 205406, 418399, 361060, 423460, 492136, 361065, 311919, 500336, 557682, 442995, 311924, 311928, 25209, 328312, 33404, 361086, 328321, 90755, 483974, 205447, 459399, 230025, 74381, 74382, 311950, 434830, 467597, 139922, 131731, 467598, 467604, 311958, 74393, 361113, 467611, 516761, 533145, 565918, 189089, 402081, 131747, 320163, 524963, 557731, 180906, 549548, 426669, 402094, 139953, 180914, 189105, 58036, 189108, 172726, 197302, 696, 131772, 549565, 17086, 703, 189118, 402116, 410312, 713, 115402, 492233, 230093, 369358, 402127, 426704, 369362, 377554, 33493, 33494, 180951, 410325, 377561, 377562, 221915, 574173, 17120, 402150, 140007, 500456, 745, 82674, 500466, 410356, 197368, 33529, 484089, 328451, 164613, 107275, 74510, 320273, 394005, 189207, 320280, 41753, 402201, 574232, 181020, 451356, 181023, 230176, 74529, 328481, 41763, 805, 115493, 25383, 808, 230185, 385832, 402215, 394028, 402221, 816, 107315, 574260, 41785, 123712, 402240, 271172, 41799, 181064, 230215, 426824, 107339, 295755, 516941, 58190, 369486, 181072, 385870, 82772, 361304, 525144, 525146, 279388, 402272, 189281, 279394, 402276, 33637, 451431, 443242, 33643, 33645, 880, 402291, 402292, 33653, 492408, 246649, 394105, 891, 131963, 312189, 394111, 402304, 897, 164737, 525185, 295812, 33669, 902, 312196, 312198, 418696, 549767, 25486, 394131, 320404, 369556, 33686, 402324, 402326, 181145, 123802, 402328, 402329, 17309, 344990, 394142, 541597, 271269, 394149, 476071, 197544, 492454, 574376, 74668, 9133, 271278, 33711, 189360, 312239, 385964, 271284, 418742, 222136, 115642, 230330, 230332, 328634, 369594, 418746, 132032, 418747, 500672, 107459, 964, 107461, 132038, 328644, 115657, 574409, 402379, 107470, 549839, 132051, 418774, 295896, 295898, 33755, 107483, 238556, 246749, 132063, 33760, 189407, 107490, 295903, 345060, 394209, 525281, 541663, 312296, 369641, 541672, 33771, 353260, 132077, 74734, 189423, 312302, 312305, 107506, 189426, 328688, 353262, 418803, 353272, 312314, 353274, 418810, 517114, 402431, 353280, 558079, 353282, 558080, 320517, 181254, 181255, 189448, 181257, 279561, 369672, 386060, 541703, 254992, 328720, 33810, 328721, 369684, 222229, 254997, 328725, 345110, 140314, 279578, 33820, 279580, 328733, 255007, 386079, 107553, 558108, 91171, 181284, 123942, 279590, 328746, 197675, 115756, 156717, 107566, 115759, 189487, 394284, 181299, 320564, 107573, 394296, 443448, 164923, 451643, 328765, 484413, 541756, 296001, 328769, 418883, 312393, 484425, 189519, 189521, 197713, 279635, 386132, 312405, 394323, 418899, 17505, 115810, 189537, 328804, 386147, 189545, 107626, 410731, 271468, 181357, 25710, 66671, 181360, 189552, 246896, 17523, 173172, 271476, 271478, 394352, 443512, 500855, 189562, 263291, 312451, 468100, 197766, 107658, 533644, 550029, 263310, 541840, 394385, 558228, 189592, 541849, 189594, 189608, 476328, 345260, 533678, 427183, 197811, 345268, 348679, 476348, 189631, 476351, 541889, 394436, 484548, 476358, 410823, 197832, 33993, 312521, 468169, 197838, 132306, 189653, 246998, 541910, 91352, 255194, 132316, 197852, 271582, 42207, 173279, 345308, 394464, 476384, 83173, 181477, 476391, 541929, 271595, 189676, 214253, 386287, 255216, 181495, 189687, 189688, 197880, 378110, 25855, 525568, 533760, 541951, 378115, 279814, 419079, 181512, 394505, 533768, 115979, 525583, 83216, 386320, 525585, 132371, 189716, 402709, 148758, 189719, 525586, 550167, 189722, 443677, 34078, 189727, 525597, 34081, 419106, 189732, 34085, 124198, 345382, 189736, 550184, 140587, 140588, 197932, 378158, 189743, 132400, 525614, 533805, 550192, 247092, 517430, 58680, 279865, 165179, 279867, 542012, 509247, 173376, 197953, 271688, 525640, 17738, 58699, 124236, 148813, 247117, 17743, 247120, 42321, 533844, 165205, 222558, 107871, 116064, 574816, 476514, 116069, 189800, 247148, 34160, 132465, 116082, 435568, 107892, 58741, 116086, 189813, 116088, 353652, 509305, 525693, 542077, 484735, 140672, 50563, 116102, 116104, 116105, 189834, 189835, 296329, 75150, 91535, 320911, 427408, 517522, 460179, 165271, 247191, 189851, 345499, 460190, 279968, 189859, 214435, 9639, 271786, 565282, 517550, 452019, 517560, 58811, 370108, 402875, 452029, 517563, 280000, 75203, 148932, 75205, 75210, 370123, 9676, 75213, 419275, 189906, 247250, 49143, 34261, 189909, 189912, 558552, 443866, 263645, 99806, 460253, 427488, 230883, 189924, 1511, 189930, 42476, 157165, 550385, 132595, 189941, 189942, 312825, 42490, 116218, 17916, 263674, 493054, 132607, 370178, 34307, 370180, 132613, 370181, 165383, 58888, 157193, 165386, 189962, 34316, 132620, 189965, 157199, 271880, 58897, 181778, 214548, 17941, 321044, 124439, 181784, 247321, 427541, 42523, 296476, 427543, 386590, 189983, 189984, 435741, 157218, 386594, 370212, 149029, 370215, 157225, 525866, 157227, 42540, 42541, 165421, 370220, 370221, 108081, 34354, 42547, 190003, 190004, 190006, 280119, 83512, 296505, 165432, 181818, 42555, 575037, 42556, 42557, 190009, 157247, 190012, 190015, 222783, 222785, 222787, 222788, 165446, 296513, 157256, 58953, 230986, 247368, 509515, 157261, 419405, 34383, 190035, 222805, 99929, 190042, 1627, 231007, 190048, 312935, 157293, 116334, 58992, 157297, 181874, 427633, 1652, 157300, 550512, 509561, 362106, 140924, 83585, 140929, 312963, 132740, 222852, 345732, 124551, 362115, 525955, 312975, 427663, 362130, 108181, 108182, 427670, 34456, 362137, 427675, 345756, 362144, 312993, 75426, 452259, 517793, 312997, 452262, 386727, 222891, 247468, 157357, 222893, 362162, 247481, 157370, 247485, 50880, 247488, 190146, 345794, 427713, 526022, 427719, 313032, 534214, 534217, 190156, 190157, 362191, 304850, 83669, 190167, 34527, 26336, 157407, 354018, 59108, 165605, 493287, 345832, 247530, 50923, 34540, 157420, 329451, 419564, 419567, 157425, 59122, 255732, 59125, 42742, 231159, 231160, 255737, 509689, 550645, 34556, 190204, 231165, 362239, 190211, 190216, 337675, 222990, 75535, 190223, 108305, 157458, 575255, 362264, 501528, 190239, 91939, 190243, 321317, 378661, 378664, 190251, 452396, 42805, 108342, 190262, 501557, 190268, 157505, 190273, 190283, 157517, 362319, 411471, 59217, 59218, 157526, 575319, 59225, 157530, 477018, 149340, 411485, 419677, 550746, 165728, 247649, 59234, 190308, 34661, 575334, 550761, 100201, 411499, 485226, 59241, 83818, 67435, 34668, 165740, 190318, 157552, 362349, 362350, 370543, 419695, 550775, 165752, 59257, 83835, 190332, 247676, 51071, 34688, 190337, 477059, 157572, 378757, 550787, 550789, 313224, 550791, 264074, 100237, 59278, 526223, 247697, 59284, 550804, 575384, 116635, 255900, 386973, 116638, 452511, 34721, 378786, 34723, 182179, 362403, 378788, 190375, 165800, 509867, 313260, 149421, 395182, 59314, 206772, 550836, 59318, 165814, 370617, 10170, 190394, 190395, 247739, 75711, 272319, 313283, 362436, 42949, 313287, 165834, 346060, 444367, 75728, 51158, 75739, 10204, 346075, 460765, 313313, 403425, 452582, 378855, 149481, 75754, 133098, 75760, 198640, 83954, 329712, 75764, 460787, 59384, 362490, 493564, 165884, 542717, 305151, 501760, 34816, 518146, 83969, 43011, 256004, 92166, 501767, 534536, 370697, 182279, 116746, 452611, 256005, 256011, 34832, 59409, 411665, 362512, 108563, 444434, 256018, 59410, 477208, 403481, 575512, 403483, 313373, 190495, 550944, 550950, 362534, 247847, 34860, 43052, 346157, 92204, 92206, 165935, 116780, 182323, 370741, 460854, 362551, 34874, 550971, 231484, 43070, 51263, 575550, 247873, 313413, 59463, 149576, 59465, 100426, 2123, 329804, 526411, 206922, 198735, 567376, 247887, 313426, 477267, 59476, 329812, 280662, 362581, 329818, 313435, 34908, 501852, 362587, 59490, 133219, 198756, 313443, 378981, 329828, 452712, 313451, 403566, 419951, 133233, 166003, 34932, 34933, 75893, 59514, 477308, 362622, 2176, 2177, 313475, 92293, 108678, 149639, 116872, 34953, 166026, 133259, 469127, 166029, 362639, 403599, 166036, 247957, 256150, 362644, 493718, 223385, 247964, 247966, 362655, 428191, 362658, 551076, 313510, 34983, 362662, 313514, 34987, 436394, 100526, 59567, 100528, 190638, 59570, 272559, 305330, 444591, 59576, 403642, 411835, 370876, 526526, 313537, 35010, 403650, 452805, 149703, 551114, 403659, 551118, 100559, 133328, 166097, 379091, 116948, 149717, 166100, 149719, 92376, 149720, 149722, 313563, 362708, 166109, 428258, 100581, 411878, 321767, 59624, 362728, 43242, 100586, 428270, 43247, 35056, 149744, 321775, 321779, 362736, 551153, 43255, 43262, 551169, 92420, 551173, 305414, 43271, 362760, 313609, 551179, 313614, 43279, 84239, 215313, 297232, 92435, 305428, 354578, 362768, 18711, 149783, 362774, 379157, 313627, 313628, 395543, 92451, 297251, 362789, 35112, 182569, 59690, 534826, 92460, 174380, 313644, 428335, 10544, 420144, 436528, 559407, 387382, 117047, 215352, 518456, 379195, 510270, 403775, 362820, 108875, 92492, 305484, 207182, 321871, 10576, 280912, 330063, 387410, 403788, 231765, 215382, 428370, 403800, 559442, 403802, 108892, 346460, 239966, 371040, 412002, 297317, 346471, 125289, 420201, 215403, 125292, 92525, 239982, 289134, 510316, 108913, 321906, 354675, 313716, 321909, 76150, 452977, 92536, 166269, 321917, 35205, 362889, 100747, 108939, 575883, 395663, 190864, 387473, 248210, 362898, 469393, 379291, 108959, 453023, 403874, 289188, 379300, 362918, 10663, 297383, 330153, 215466, 43435, 330155, 567717, 313774, 27057, 92593, 76211, 125361, 35253, 166324, 166325, 371122, 575921, 321981, 166334, 256447, 313792, 92612, 166340, 92614, 477636, 264648, 494020, 27082, 84428, 2509, 264653, 100815, 100816, 264655, 362956, 485839, 488966, 92629, 223702, 297431, 436693, 109017, 149978, 420315, 485850, 494044, 526812, 109027, 215523, 109029, 362980, 297447, 412133, 166377, 149994, 43499, 109036, 518634, 35310, 248303, 567788, 35314, 395766, 453114, 526843, 150012, 158205, 166397, 240124, 166400, 387583, 428545, 477693, 485885, 141829, 166405, 240134, 387589, 43529, 322058, 92683, 453127, 248333, 305678, 453135, 92688, 289297, 354834, 461323, 150036, 240148, 305685, 453142, 35352, 133656, 223768, 289305, 363035, 363037, 518683, 51743, 518686, 150052, 191013, 133673, 43562, 526891, 109100, 2607, 117296, 191025, 35378, 281139, 92724, 150068, 35382, 92726, 354870, 240185, 363060, 436788, 559671, 453167, 92734, 240191, 43584, 59968, 313920, 363075, 371267, 453189, 485956, 92743, 158280, 559688, 240202, 150095, 43600, 232015, 363089, 494162, 117332, 133717, 232021, 379479, 494166, 43611, 92764, 43615, 150111, 35425, 43618, 92770, 158308, 240229, 35430, 469601, 166504, 10857, 35434, 43625, 223851, 412269, 240238, 43635, 363124, 240245, 412278, 281210, 240255, 166528, 313985, 363136, 125571, 453250, 60037, 174725, 477831, 215688, 35465, 92809, 76427, 117387, 92813, 60046, 305806, 494226, 125588, 240278, 166553, 60065, 92834, 158369, 240291, 92837, 363170, 215721, 76460, 518829, 395950, 412337, 387762, 76467, 43700, 494263, 412347, 2750, 395970, 109252, 166599, 248520, 346826, 264916, 494292, 387798, 387799, 535253, 51931, 568027, 35550, 305886, 453343, 453344, 330466, 461537, 543459, 330469, 240358, 543460, 240360, 256746, 396010, 330476, 330477, 330478, 330479, 330480, 248564, 330484, 35576, 215802, 150267, 322299, 281341, 396026, 518914, 305925, 469766, 494343, 281354, 363276, 76557, 289553, 109330, 330513, 289556, 363287, 289562, 363290, 568095, 346915, 568100, 273192, 477993, 199470, 297775, 215857, 363315, 43828, 559928, 478010, 494397, 35647, 305985, 84802, 305986, 330561, 297797, 445251, 19271, 142152, 371527, 35658, 215883, 543564, 486223, 11088, 35667, 76628, 297812, 363350, 166743, 297815, 35673, 248665, 297818, 150364, 404317, 396127, 199522, 437093, 551781, 289639, 76650, 281451, 289643, 35696, 101232, 35698, 117617, 134002, 158581, 166772, 281466, 166779, 281467, 314236, 404349, 289663, 551808, 35713, 379777, 134019, 322437, 297862, 322438, 355209, 35726, 560014, 35728, 134032, 560017, 363412, 363413, 437144, 35737, 215962, 76699, 224155, 363421, 543644, 232351, 232352, 109473, 150434, 232353, 166820, 494496, 215974, 215975, 232359, 388009, 232362, 412592, 314294, 494519, 93112, 199608, 232377, 551863, 412605, 412606, 560061, 453573, 191430, 150471, 265159, 560074, 216011, 560075, 166872, 52185, 306137, 297948, 142309, 379880, 314345, 363498, 52203, 314349, 363503, 363504, 216049, 363507, 166900, 216055, 314362, 363521, 175108, 216070, 27656, 216073, 60426, 52235, 216076, 289801, 297994, 371727, 412686, 437261, 453642, 76819, 453647, 412693, 453652, 11288, 93208, 363547, 322588, 166941, 453659, 60447, 437280, 76833, 453664, 35875, 224291, 461857, 11302, 347175, 445479, 35881, 461865, 60459, 363563, 363565, 27694, 445483, 445486, 437297, 560170, 216116, 560180, 437303, 76856, 560184, 60474, 437307, 486459, 560190, 60482, 191556, 347204, 35910, 93254, 437317, 560203, 363596, 60494, 437327, 232528, 560206, 560207, 437335, 560215, 150621, 437341, 330848, 109668, 19557, 216166, 560229, 158825, 560234, 76909, 560242, 19571, 560243, 543861, 158839, 437369, 535674, 560252, 150653, 445565, 306303, 216192, 429184, 11394, 314498, 502914, 109704, 224395, 281741, 19600, 314513, 543888, 19605, 134293, 543894, 19609, 167065, 363675, 126108, 109725, 142494, 478367, 502939, 3237, 36010, 429227, 36015, 109745, 363697, 502966, 527545, 363708, 445629, 478398, 429248, 363714, 445634, 44228, 249028, 502981, 552135, 3272, 224457, 3276, 3278, 363728, 19667, 109779, 298196, 502996, 158938, 552155, 44253, 126175, 36064, 167137, 191714, 363746, 445666, 126181, 503007, 183527, 126184, 503008, 167146, 503013, 380141, 167151, 380144, 404721, 240883, 363766, 265463, 298232, 470265, 470271, 109825, 175362, 290049, 290051, 404740, 560389, 167175, 568580, 429323, 232717, 167183, 191759, 44306, 290066, 322837, 36118, 486678, 503063, 527646, 412959, 363808, 36130, 77092, 36134, 527656, 44329, 527659, 36141, 544046, 363824, 167217, 453939, 421172, 36149, 494904, 36153, 503098, 503099, 3388, 126272, 208196, 453960, 478537, 77135, 322895, 363860, 232790, 331094, 232795, 413023, 167268, 36198, 36199, 126312, 77161, 167270, 175465, 322922, 404840, 404842, 470379, 281973, 388472, 126329, 388473, 478586, 560507, 363901, 191872, 36225, 380288, 404864, 232836, 363908, 60807, 150919, 462219, 560524, 52621, 404877, 11664, 36240, 109968, 404881, 167317, 36249, 52635, 52638, 126367, 52640, 150943, 380318, 413089, 495006, 167333, 167336, 36268, 298412, 495022, 167346, 363954, 380339, 511412, 380342, 462262, 11704, 36281, 462263, 470460, 191933, 232893, 380351, 363969, 36295, 536008, 363977, 36300, 167376, 60881, 323026, 445907, 60885, 282070, 413143, 421334, 85469, 331233, 151010, 208355, 232931, 191978, 191979, 126444, 314865, 429560, 404985, 77306, 191994, 429567, 290304, 347648, 151045, 232966, 77321, 429578, 3595, 298511, 454159, 380434, 568851, 314900, 536084, 167448, 581993, 192026, 454174, 364063, 159265, 249378, 110115, 52772, 364069, 126503, 126504, 85545, 208424, 495149, 208434, 298547, 364085, 126518, 380471, 429624, 85562, 364092, 151101, 159295, 110146, 233031, 159304, 11849, 167496, 323145, 380490, 265805, 429644, 36432, 249433, 208474, 101990, 446056, 175722, 134763, 331371, 11885, 331373, 380524, 28272, 61041, 364146, 380526, 386624, 429679, 429681, 454259, 462450, 36473, 233081, 61052, 77437, 429695, 470656, 364166, 110215, 159369, 3722, 77452, 69263, 61073, 36498, 167571, 175765, 126616, 159384, 85658, 290459, 364187, 69277, 429720, 77471, 429729, 462501, 331430, 208552, 77482, 233131, 208556, 429741, 126640, 69300, 77493, 274100, 274103, 429748, 429753, 380602, 208571, 11964, 282302, 167616, 3779, 380611, 315077, 454344, 397005, 167630, 20175, 364239, 159441, 233170, 405203, 429774, 3799, 20183, 372439, 93916, 143070, 511710, 544481, 437989, 208614, 274151, 282343, 446184, 249578, 380653, 20208, 372464, 528113, 12019, 233203, 20215, 36600, 102136, 159481, 372474, 3836, 208637, 331520, 372480, 380676, 462598, 470790, 478985, 102156, 208653, 208655, 249616, 323343, 364304, 511763, 364310, 241431, 364313, 536346, 159515, 69404, 159517, 208667, 151327, 233247, 282398, 413467, 159523, 233251, 380708, 331558, 151336, 331560, 438059, 77612, 143152, 462640, 470833, 36660, 184116, 462647, 487223, 77625, 495415, 44859, 462651, 12095, 241474, 364358, 94023, 143176, 560967, 102219, 315211, 388941, 468079, 364369, 462675, 208724, 364372, 36697, 94046, 266079, 233314, 364387, 536420, 233317, 380773, 241511, 61288, 94057, 233321, 274280, 225132, 192365, 36718, 266092, 159600, 61299, 118644, 61300, 94067, 192371, 36728, 233337, 61306, 94074, 208764, 380793, 397174, 348031, 192386, 241540, 94085, 421766, 77705, 241546, 77707, 421771, 192399, 233360, 380815, 364435, 225175, 192408, 356249, 12188, 241565, 348065, 225186, 446370, 110500, 233381, 77734, 143270, 257956, 85929, 69547, 69551, 94127, 118703, 176047, 94131, 135092, 192435, 438197, 323514, 135099, 413626, 421821, 241599, 85954, 364490, 110541, 241616, 135124, 135126, 389080, 151513, 151514, 454616, 167902, 28640, 167908, 298981, 151526, 258022, 348132, 372710, 397289, 421861, 438248, 225264, 241649, 69619, 135156, 274424, 397308, 176125, 233473, 12292, 495622, 536582, 397322, 421899, 536588, 495630, 20495, 241679, 36883, 556042, 159765, 348183, 159769, 241690, 356377, 53276, 446493, 36894, 110622, 110623, 233505, 364578, 520226, 110629, 258086, 307238, 544807, 544809, 110634, 544810, 479276, 544815, 495665, 233522, 544820, 331832, 373689, 462909, 12351, 110656, 561215, 323652, 241733, 348229, 495686, 582104, 323658, 520266, 233548, 233551, 241744, 110673, 372818, 53331, 208979, 159830, 110682, 192602, 143452, 233565, 364635, 495711, 372834, 487522, 487523, 372837, 266342, 495717, 209000, 61545, 364649, 159851, 241771, 536677, 241774, 290927, 307311, 536683, 331890, 200820, 61558, 241783, 233592, 364665, 241786, 36987, 372855, 12418, 36994, 36995, 61570, 348290, 348293, 364680, 364684, 200845, 233614, 446605, 413840, 446608, 37012, 209044, 381080, 495770, 348319, 446624, 102561, 110754, 413861, 446630, 241831, 28840, 143529, 159912, 61611, 495783, 389293, 348334, 479407, 20656, 159921, 389298, 495788, 495790, 364725, 446645, 389303, 135352, 20665, 241849, 446650, 561334, 577718, 446654, 577727, 110784, 372931, 159940, 127173, 389316, 209095, 241863, 192713, 241864, 364743, 405701, 446663, 4302, 20686, 446672, 413905, 135378, 381138, 495820, 389333, 241878, 397526, 446678, 340185, 495833, 110811, 192731, 61661, 364763, 389340, 413915, 4321, 389345, 446686, 356581, 233704, 94443, 372972, 463085, 446704, 299250, 446709, 28918, 37112, 86265, 364794, 446718, 282880, 348420, 389381, 520452, 45320, 299273, 192778, 233739, 61708, 299276, 110862, 430350, 438537, 495888, 430358, 446744, 364825, 209178, 373019, 233756, 61725, 323870, 241951, 446752, 446754, 364838, 528678, 233771, 446765, 446766, 241968, 151861, 201014, 414006, 250168, 422202, 446779, 389439, 209216, 373056, 233799, 356680, 446792, 20810, 102731, 209226, 356683, 528716, 20815, 20816, 20817, 315730, 389459, 12629, 356694, 37207, 414037, 282969, 291164, 389468, 233822, 446814, 94561, 414049, 389476, 201062, 414054, 389482, 20843, 160108, 266605, 332139, 389484, 389487, 160113, 201074, 373107, 29044, 209268, 209269, 233845, 389495, 479608, 78210, 389507, 242053, 373125, 151943, 151944, 274825, 233866, 389509, 414089, 348560, 356752, 61842, 438674, 463250, 12693, 274837, 160151, 283030, 389528, 455062, 455063, 168348, 373148, 463261, 94623, 389536, 266657, 184738, 283042, 559377, 37285, 151973, 168359, 242087, 29098, 315818, 332202, 397743, 201137, 389554, 283061, 209334, 160183, 111033, 4538, 233914, 389564, 233918, 479680, 348609, 479681, 389571, 520643, 274885, 160198, 520644, 528835, 192969, 373193, 389577, 233932, 127437, 78286, 168398, 356813, 373198, 37330, 209363, 414164, 233940, 438742, 160213, 348628, 102871, 233943, 258520, 373208, 135643, 389595, 299485, 168414, 37343, 192990, 332254, 119266, 201187, 455136, 209381, 389606, 502403, 553450, 201195, 397804, 578026, 12782, 37359, 348654, 373231, 283122, 389619, 471535, 266741, 37366, 479735, 61942, 389623, 12793, 397818, 471540, 12796, 127485, 373245, 332287, 201216, 471550, 389634, 496125, 389636, 520704, 536602, 283143, 37384, 127497, 37386, 233993, 29196, 201228, 233995, 324110, 373257, 448680, 430611, 448682, 348697, 29210, 324124, 553503, 37409, 373282, 53795, 234020, 389669, 422438, 332327, 21032, 12841, 61992, 447017, 479783, 389677, 127547, 526844, 111165, 414269, 168511, 234047, 62017, 94785, 94786, 234050, 381509, 537150, 389703, 127561, 307786, 234059, 315981, 389711, 315988, 389716, 12888, 4697, 389720, 234078, 504414, 389728, 389731, 12901, 258663, 127592, 234092, 348783, 348784, 316017, 381552, 463473, 234101, 356981, 12925, 209539, 520836, 209542, 94855, 283271, 406153, 520838, 94860, 348813, 94863, 348816, 12945, 201361, 94867, 201364, 397969, 94870, 414355, 12953, 94873, 234138, 111260, 373405, 94878, 152223, 21152, 373408, 373410, 389787, 504481, 520861, 94887, 21160, 348842, 348843, 389803, 430762, 12974, 512685, 45744, 119472, 373424, 185011, 12984, 37560, 94906, 398008, 398009, 430780, 389822, 12992, 193217, 193218, 316100, 111302, 209606, 422599, 209609, 250570, 389833, 94924, 438984, 561872, 537298, 389843, 119508, 119509, 119510, 160471, 398035, 561877, 389850, 283355, 209628, 250592, 13025, 389856, 37603, 520929, 545505, 37608, 496362, 242413, 332532, 13047, 209655, 471799, 561912, 348923, 447230, 553727, 119554, 37636, 54020, 389894, 439047, 54024, 242443, 54028, 381715, 13076, 427565, 37657, 119578, 250651, 414491, 529182, 324385, 545570, 119586, 119587, 439075, 168741, 250662, 127783, 135975, 414504, 471843, 496427, 45868, 389933, 54062, 427571, 29492, 209716, 250682, 332603, 439099, 250687, 348993, 488258, 242499, 37703, 406343, 349002, 13131, 37707, 373579, 242510, 389967, 414540, 463695, 414546, 553805, 553808, 553809, 13143, 373592, 111449, 111450, 316250, 349018, 234333, 447320, 373599, 349024, 373601, 373602, 349027, 373603, 463709, 488293, 504671, 13160, 250729, 332649, 160621, 463725, 332657, 136050, 406385, 488306, 13173, 381814, 349045, 160631, 373622, 373626, 234361, 250746, 37755, 78715, 373623, 45950, 119679, 168832, 250752, 258942, 308097, 422781, 299909, 373638, 308103, 258952, 373640, 373641, 496520, 37773, 13198, 95118, 209806, 152465, 250768, 324494, 332685, 250773, 152470, 373648, 185240, 578458, 520399, 578460, 136090, 185242, 37788, 185245, 250780, 226207, 308124, 349086, 250786, 209827, 381859, 439200, 299943, 406439, 136107, 218031, 54192, 54193, 283568, 562099, 324531, 373680, 373683, 54198, 578488, 373685, 5048, 136120, 160698, 13243, 152508, 226233, 299965, 226239, 13248, 267199, 406461, 226244, 373700, 226246, 283591, 463809, 406473, 250832, 152531, 480213, 152534, 259030, 488406, 283609, 349146, 218075, 13277, 218077, 13279, 332770, 504803, 209892, 349156, 283622, 259047, 381926, 259049, 316393, 504806, 54252, 324588, 504807, 54257, 300018, 518790, 250868, 259066, 447484, 316414, 480254, 160768, 209920, 168964, 119815, 357383, 250890, 168971, 332812, 168973, 447502, 357392, 234515, 78868, 250901, 152598, 381973, 406548, 357401, 78874, 390172, 357405, 13342, 357406, 332832, 349216, 234530, 357410, 406564, 414756, 447520, 496672, 365609, 193578, 283691, 324651, 209965, 480302, 390191, 324657, 308274, 324660, 95285, 406581, 406582, 78904, 504889, 259130, 218171, 324667, 554038, 144446, 46144, 332864, 226370, 259139, 13380, 554049, 193606, 37961, 324681, 300107, 37964, 357452, 218191, 111697, 185425, 54355, 267348, 373842, 308310, 406614, 160856, 324696, 349272, 13404, 259164, 479734, 406624, 5218, 111714, 37988, 119907, 119908, 46183, 13416, 119909, 283749, 259179, 398440, 554086, 565505, 373874, 308342, 38007, 87159, 234617, 308343, 332922, 439415, 513142, 160894, 373887, 201855, 357504, 300161, 218242, 251010, 373886, 128133, 259205, 308357, 349318, 259209, 357513, 46219, 160908, 439437, 210062, 390286, 554126, 169105, 46226, 38035, 431251, 423061, 185494, 447638, 431258, 259227, 38044, 283803, 357534, 439450, 38049, 578723, 578724, 152741, 136358, 267431, 578726, 152745, 423081, 431275, 259248, 259249, 160946, 185522, 406704, 390325, 349366, 13495, 373942, 111807, 308416, 316610, 218310, 496845, 251087, 13520, 308433, 13522, 373969, 439506, 480466, 169174, 201944, 406745, 267482, 160987, 496859, 308445, 160990, 38111, 38112, 251105, 38114, 234723, 496860, 373989, 472296, 259305, 87275, 259308, 218349, 13551, 251120, 38129, 529647, 505077, 374006, 283895, 308476, 406780, 374015, 406784, 578815, 398594, 316675, 341252, 201989, 267525, 513282, 161033, 259337, 374026, 70925, 201997, 513293, 513294, 13586, 87314, 87316, 38165, 251156, 374036, 390422, 54553, 423192, 513303, 218403, 29988, 292133, 283942, 283943, 349477, 439588, 234794, 251179, 447785, 546084, 562474, 210223, 488756, 185655, 202039, 267575, 161082, 103739, 218427, 283959, 300346, 111935, 308542, 251202, 103748, 562501, 292166, 103751, 562502, 406858, 202059, 95565, 111950, 308560, 103762, 54614, 578904, 398682, 120156, 218461, 541658, 578915, 578916, 423269, 251239, 333164, 578925, 54639, 472432, 210289, 292210, 505200, 210292, 120182, 54648, 423288, 54651, 251259, 185725, 406913, 308610, 349570, 349575, 38280, 169354, 325006, 46479, 218512, 210321, 406927, 38293, 71062, 431510, 30108, 95644, 30110, 218524, 423325, 431524, 431528, 513448, 95658, 103851, 251308, 275882, 210350, 406955, 536789, 38321, 54706, 169394, 185780, 87477, 488884, 325048, 54714, 513467, 513468, 423357, 308670, 415170, 210374, 513478, 308680, 169417, 447945, 38347, 169419, 538054, 374222, 406992, 251346, 275923, 169428, 431573, 505301, 456151, 251348, 5590, 169430, 87513, 46554, 316887, 87517, 423385, 202208, 423386, 423393, 538074, 251364, 267748, 103910, 218600, 546282, 382443, 423404, 431598, 385377, 464370, 579059, 464372, 316917, 95734, 153080, 374267, 423421, 218623, 144896, 87554, 431620, 38404, 153092, 292356, 521736, 325127, 120328, 103945, 153097, 349705, 374281, 374282, 423436, 431632, 488972, 374290, 513550, 374292, 431638, 513558, 251416, 464409, 87578, 513559, 505372, 144924, 87581, 415262, 488988, 243232, 87585, 546339, 95777, 128545, 292384, 87589, 194086, 169511, 243239, 194089, 38442, 169515, 259622, 513583, 210480, 87603, 128563, 120373, 120374, 5687, 169523, 218678, 210490, 374327, 407091, 202302, 235070, 489024, 366145, 259651, 259652, 422843, 349766, 431689, 38474, 46666, 46668, 87630, 120402, 390740, 87637, 235093, 38487, 259675, 136796, 202332, 325211, 210527, 136803, 235108, 489059, 341606, 71272, 415339, 489068, 95853, 292463, 382579, 5748, 513651, 71294, 38527, 136831, 5761, 185983, 407166, 489091, 145030, 390792, 87690, 136844, 456334, 431761, 308882, 415379, 390805, 390806, 54936, 145048, 259739, 5790, 87711, 5792, 71329, 5794, 259746, 513698, 71333, 325287, 71336, 87721, 308906, 390826, 390829, 71342, 210609, 390833, 448177, 390836, 161462, 407222, 448185, 104124, 415422, 161475, 104138, 308938, 579276, 38606, 46799, 415440, 87761, 218833, 423630, 38612, 423634, 521935, 440030, 202464, 218852, 14054, 104166, 464616, 562920, 292586, 308971, 440045, 440047, 382704, 489200, 472818, 104180, 38649, 22266, 407291, 415481, 472827, 505597, 554749, 96000, 489216, 259842, 358147, 521990, 5898, 259850, 374541, 530191, 104208, 87826, 55059, 87827, 87829, 128790, 439166, 390936, 440084, 87834, 440094, 87839, 14113, 87848, 235307, 374574, 22322, 104243, 38708, 431928, 300858, 186171, 235324, 366395, 567804, 317249, 407364, 22342, 169802, 259915, 112460, 284491, 55118, 292684, 104275, 579411, 14166, 104279, 22360, 22361, 137050, 210775, 104284, 563035, 309086, 366430, 243552, 71521, 439183, 431979, 112492, 5997, 554859, 268144, 497520, 407410, 71542, 300923, 79742, 309124, 522116, 210822, 464775, 567819, 391052, 112525, 399246, 71568, 112528, 284560, 112532, 456596, 71574, 399254, 161689, 112538, 71582, 210847, 407456, 530335, 202659, 350117, 276390, 350118, 112553, 350122, 473004, 350125, 112558, 350128, 366512, 350130, 243635, 432049, 579506, 96182, 350134, 350136, 219071, 96196, 227268, 169931, 210894, 137168, 71633, 440273, 522193, 382932, 522197, 276438, 374743, 374748, 407516, 579551, 393617, 505827, 579557, 374761, 96234, 169962, 284652, 366571, 440301, 210927, 88049, 219123, 561328, 448509, 536906, 104448, 440321, 432133, 268294, 186375, 448519, 546823, 145423, 79888, 104465, 219151, 71699, 505871, 505873, 423959, 145432, 423960, 432154, 350239, 47136, 161826, 219171, 432162, 88101, 432166, 448552, 219179, 432172, 440365, 88111, 219183, 38962, 170035, 219189, 210998, 88119, 366645, 439224, 219199, 432191, 71745, 71746, 178241, 170052, 219202, 541805, 88135, 170057, 415818, 276556, 366668, 161870, 292944, 284753, 489553, 579665, 325716, 161877, 366676, 432217, 456793, 309339, 407646, 137311, 456800, 489569, 391266, 448610, 161892, 260196, 6246, 137319, 456802, 432234, 284779, 366699, 6254, 489583, 71791, 407664, 227441, 440431, 88179, 456818, 112757, 22646, 276598, 317560, 112761, 468544, 489595, 276604, 579701, 440448, 186499, 88199, 71817, 383115, 112780, 284812, 170126, 71823, 170128, 88209, 170130, 350350, 30868, 358542, 489618, 170135, 6296, 432280, 489620, 489622, 383132, 71837, 424094, 448668, 383136, 514211, 268452, 6309, 235686, 317605, 112808, 456873, 88233, 448683, 489644, 112810, 415910, 309420, 284845, 284846, 202929, 284850, 284852, 284853, 399542, 448687, 489651, 399549, 440509, 14529, 112834, 366786, 14532, 579780, 563400, 80073, 14540, 112846, 145615, 293071, 391374, 432335, 440530, 235732, 293076, 440531, 538840, 432345, 112859, 202972, 563420, 71904, 219362, 129252, 162026, 145643, 284908, 538860, 489710, 579828, 30965, 440565, 71928, 194808, 538872, 276733, 448767, 219392, 530687, 448771, 39175, 104712, 235783, 55565, 219408, 456977, 497937, 129300, 301333, 383253, 383257, 325914, 129308, 489760, 186657, 219430, 6442, 186667, 440620, 80175, 219441, 284977, 284978, 293170, 383281, 383283, 71991, 80183, 219447, 219450, 276794, 80188, 383291, 284990, 219455, 22848, 284993, 383296, 80195, 448827, 301381, 448829, 520689, 219465, 522570, 22863, 244053, 383317, 563542, 104792, 579926, 489818, 440668, 194909, 383326, 219490, 219493, 252264, 383339, 358767, 219505, 440690, 121212, 203134, 358783, 72064, 465281, 358786, 383363, 358788, 416130, 489860, 514430, 22920, 522626, 219530, 219531, 383372, 571783, 80273, 301458, 137621, 366997, 293274, 22939, 571805, 383390, 47519, 31136, 211361, 489886, 489891, 22952, 72104, 285096, 489897, 498091, 383406, 440750, 571823, 285105, 301490, 571826, 520711, 145846, 571831, 285113, 489913, 211387, 285115, 47549, 285116, 364403, 383420, 383421, 522686, 571839, 383431, 55752, 80328, 317898, 383439, 399827, 260566, 260567, 547291, 383452, 440796, 547293, 375263, 383455, 547295, 383458, 145891, 260579, 383461, 457189, 326119, 489959, 80361, 457194, 6635, 80364, 457195, 383470, 547303, 350704, 383474, 358903, 375288, 383481, 547326, 55807, 457215, 489983, 547330, 383491, 489987, 457222, 547334, 489992, 539147, 72207, 563728, 219665, 571922, 317969, 399889, 432657, 55829, 457237, 6679, 383511, 383513, 457240, 490011, 72222, 88606, 375327, 55841, 457250, 498210, 547362, 580130, 367143, 383529, 463747, 285228, 457262, 113199, 326192, 186930, 490035, 547380, 121402, 358972, 408125, 367166, 383550, 580160, 498241, 580162, 72265, 55885, 47694, 383565, 326228, 121430, 383574, 170584, 506457, 383581, 55903, 186975, 277090, 121445, 47718, 219749, 146025, 285290, 47723, 72299, 490092, 293487, 219760, 121457, 121458, 211570, 219761, 121461, 383605, 457329, 457337, 506490, 577738, 457340, 277117, 457341, 211584, 490113, 506496, 490115, 211590, 318087, 367239, 383622, 457352, 211595, 537036, 72333, 211600, 277138, 113299, 577743, 211605, 473751, 211610, 121499, 457373, 195234, 490146, 457382, 113320, 47785, 457385, 457386, 375468, 416429, 432812, 146096, 96945, 457392, 463774, 146099, 457397, 72374, 359095, 490167, 96954, 6843, 6844, 113341, 6846, 15039, 375486, 457407, 203458, 203459, 334530, 563912, 424650, 457420, 96973, 416465, 555729, 260819, 318164, 72406, 391895, 490200, 72409, 293594, 326363, 457437, 56031, 211681, 563938, 72422, 457448, 113385, 490217, 457451, 457452, 498412, 563948, 129776, 39667, 375540, 326392, 383736, 432889, 146172, 310012, 129791, 269056, 563971, 490245, 113417, 490249, 555786, 555789, 113424, 482067, 523028, 449302, 424727, 146200, 449305, 457498, 490262, 490264, 493103, 490273, 301860, 6952, 326440, 457512, 408363, 424747, 228141, 457514, 457518, 490283, 490289, 97074, 228146, 367410, 15157, 113462, 228150, 367414, 375609, 490294, 457531, 547644, 97085, 490303, 490304, 228161, 318274, 490305, 80708, 490306, 490308, 547653, 523081, 523086, 228175, 392018, 457554, 457555, 555863, 113497, 564058, 506715, 228188, 457565, 457567, 80736, 473957, 7014, 490342, 80744, 293738, 400235, 154476, 326509, 367470, 375661, 375662, 424813, 490347, 293747, 400244, 555891, 555892, 293752, 342905, 490361, 97147, 80764, 252796, 293755, 457599, 490363, 269187, 547716, 553368, 228230, 170887, 203655, 293767, 433030, 375691, 555913, 531341, 293777, 56211, 416660, 195477, 457621, 97176, 334745, 416666, 170907, 490398, 56224, 457634, 203683, 293795, 392099, 23462, 457636, 498595, 252841, 555938, 408492, 146350, 326576, 302002, 490418, 89012, 408501, 457654, 408502, 72631, 392120, 424886, 187322, 80827, 195515, 408509, 72638, 408510, 351168, 293826, 515011, 39876, 228293, 261061, 400327, 236488, 408520, 211914, 448678, 195531, 424910, 187343, 220113, 105426, 424914, 392148, 302037, 408534, 105431, 490449, 80857, 547796, 72669, 72670, 392158, 392159, 515041, 310243, 416740, 392166, 424935, 547814, 547816, 545247, 490476, 195565, 392175, 474096, 130034, 539637, 457720, 424953, 72698, 138235, 539644, 39932, 171002, 310266, 318463, 424960, 556034, 457722, 97282, 302082, 539654, 556038, 457730, 195589, 424965, 203783, 539653, 97289, 359433, 72715, 424969, 97293, 457739, 490508, 547856, 449553, 138259, 318484, 367635, 433175, 474135, 474136, 31770, 424986, 539673, 261151, 293923, 457764, 252967, 408616, 113706, 441388, 261169, 408625, 531506, 449589, 490549, 130105, 105533, 64574, 72766, 212029, 572479, 179266, 506949, 97351, 474186, 425035, 195662, 146511, 441422, 490574, 80978, 351314, 80980, 97365, 261206, 80983, 89175, 187481, 310362, 97374, 179297, 179299, 474215, 318569, 490601, 556137, 433260, 81006, 97391, 113775, 48242, 490611, 310391, 203897, 179324, 97408, 253057, 130178, 318592, 31876, 326789, 515207, 269449, 15498, 253067, 490633, 538766, 294031, 490640, 538767, 97430, 416919, 97434, 146593, 490657, 561566, 318633, 72874, 138410, 482475, 302256, 302258, 310450, 326834, 482484, 466104, 392377, 97467, 441531, 359613, 97470, 490687, 556225, 72901, 482502, 564423, 72904, 572619, 89292, 564430, 31952, 523472, 390612, 31955, 433364, 490708, 179416, 138459, 433372, 302302, 425185, 89315, 433381, 171238, 488309, 302312, 433384, 130282, 417002, 490727, 376046, 457967, 367856, 466160, 523502, 367860, 523508, 23798, 40185, 441594, 130299, 433404, 326910, 310532, 326916, 220422, 376069, 146696, 326920, 384264, 302349, 490766, 113935, 220431, 261393, 458004, 318748, 32031, 474405, 236838, 187687, 326954, 97579, 384299, 408874, 474413, 23855, 89391, 146739, 32052, 122165, 130356, 490807, 572724, 326969, 384313, 318779, 441657, 204094, 138560, 89409, 326976, 318788, 97608, 23881, 130380, 384332, 326991, 179536, 269649, 97620, 171350, 359770, 425307, 114012, 327005, 261470, 490846, 179552, 130401, 146785, 146786, 179553, 392547, 351590, 261479, 261481, 261484, 261485, 302444, 327032, 384377, 490873, 507259, 114045, 114047, 269695, 146831, 474512, 384401, 245138, 441749, 507288, 441752, 130457, 433562, 441755, 114076, 114077, 56734, 179613, 490912, 384417, 179618, 245157, 392614, 179626, 179628, 277932, 163246, 400818, 433591, 48568, 433592, 81339, 155068, 327099, 449980, 155071, 155072, 171456, 425410, 212419, 81348, 474556, 425414, 507327, 523711, 171465, 548294, 548300, 171469, 503009, 384463, 269777, 179668, 253399, 32216, 253400, 548316, 425437, 187870, 318942, 130528, 433631, 572894, 187876, 310757, 245755, 130537, 433647, 89584, 163312, 548336, 548338, 548339, 548342, 581113, 32251, 253445, 40461, 40462, 441871, 237072, 474638, 548367, 548372, 400920, 548377, 392730, 56859, 548381, 15905, 187938, 302629, 15910, 548389, 392744, 97833, 15914, 196139, 392748, 179759, 392751, 384561, 433715, 15925, 196150, 56887, 179767, 15929, 245303, 302649, 327222, 359991, 32318, 548415, 392767, 433723, 179777, 15938, 15939, 122434, 56901, 261702, 278086, 540232, 32332, 261708, 220750, 507471, 24147, 255546, 286292, 15958, 343638, 32345, 97881, 384602, 360029, 556637, 97887, 97888, 392799, 384611, 507491, 507494, 179815, 15977, 253545, 507502, 40559, 32370, 179827, 548469, 384632, 507512, 56957, 360062, 15999, 360064, 89729, 327299, 360069, 48775, 245384, 433800, 106124, 89741, 81550, 179855, 507534, 245395, 32404, 392853, 220822, 507548, 32418, 196258, 220835, 179878, 491174, 237225, 433835, 65196, 327340, 16049, 523954, 32438, 138935, 425657, 40638, 220863, 417474, 425667, 188101, 188102, 483014, 220872, 406994, 417482, 433864, 220876, 433865, 507590, 360143, 507593, 310993, 507601, 57047, 406997, 507608, 311001, 24288, 32482, 98019, 57060, 532197, 327400, 220905, 311017, 188140, 294636, 311020, 302831, 311022, 384753, 32505, 220922, 311034, 360192, 524032, 433922, 98051, 425735, 507656, 556810, 556812, 220943, 311055, 524049, 311056, 360210, 294675, 368403, 507669, 81686, 302870, 311063, 392984, 458522, 106269, 171805, 81695, 302878, 302880, 98082, 57123, 327456, 425765, 458531, 40743, 483112, 393003, 40748, 393005, 40751, 32560, 507701, 393016, 311097, 311099, 474942, 433983, 40770, 452609, 24390, 261958, 278343, 499532, 40781, 458573, 122703, 221008, 263737, 311120, 32595, 32596, 393043, 425811, 474963, 204634, 40795, 311133, 130910, 221023, 368478, 98145, 122722, 130916, 425829, 122725, 89958, 98151, 89959, 89960, 163684, 311144, 319338, 376678, 409447, 425839, 98161, 98162, 237426, 57204, 294769, 393079, 319354, 409466, 49020, 425852, 73598, 425853, 425855, 491386, 563339, 368515, 49035, 89997, 98189, 491406, 32660, 393110, 221080, 49051, 311195, 311197, 450460, 491420, 450466, 262052, 73637, 327591, 114600, 311208, 163761, 212913, 311219, 466865, 491442, 556982, 548791, 245692, 311230, 73663, 311232, 81857, 270273, 409539, 417731, 491461, 335815, 188361, 458698, 8139, 311243, 548812, 311246, 311247, 415188, 73685, 188373, 122842, 212956, 466908, 49118, 466911, 49121, 311266, 131048, 49129, 376809, 49131, 221164, 466922, 532459, 466928, 466929, 49138, 557040, 163828, 180213, 57334, 180215, 499701, 466937, 557041, 499707, 491516, 221181}\n",
            "{421890, 536579, 278531, 313348, 92166, 36873, 92171, 4109, 309263, 471055, 471056, 280594, 456726, 471063, 575512, 540695, 385047, 24, 477208, 253981, 249885, 135199, 253982, 266271, 274461, 251944, 258090, 92206, 41009, 92209, 34868, 34880, 231490, 264258, 245828, 301127, 245839, 135251, 477267, 14423, 92248, 200791, 213080, 364632, 129119, 389215, 92258, 448610, 540770, 356456, 499817, 36972, 356466, 395378, 61558, 34935, 280696, 292985, 313466, 419963, 57467, 135288, 90233, 163962, 2176, 32891, 92293, 57479, 82056, 34953, 2186, 462986, 385165, 125074, 223378, 125076, 256150, 356502, 49304, 14489, 57498, 129179, 204954, 422045, 303260, 426139, 577694, 577695, 475298, 577697, 409766, 415910, 471206, 16553, 41129, 57516, 118961, 305330, 200885, 20663, 57527, 366781, 59584, 110784, 579779, 166084, 32965, 53446, 579780, 168137, 387275, 415949, 485585, 172246, 381047, 92376, 32986, 2267, 14559, 518367, 172257, 2276, 8424, 37097, 168169, 33004, 12526, 538863, 360690, 53491, 168180, 162037, 309491, 579828, 37112, 86265, 110842, 71931, 129276, 139514, 385277, 186623, 538880, 92420, 88330, 200970, 450826, 538890, 471310, 57619, 92435, 57623, 266520, 57625, 424215, 426267, 465178, 20765, 266525, 407838, 440608, 92451, 356643, 356645, 258342, 244007, 266534, 45353, 33066, 579875, 473391, 8496, 561457, 31029, 362807, 325946, 510268, 510270, 510272, 82241, 129345, 256323, 328002, 502084, 522563, 530752, 92492, 135502, 215377, 47443, 133459, 12629, 186707, 102747, 528735, 133473, 59748, 35173, 37222, 147812, 199012, 199015, 149866, 88427, 508261, 37229, 276845, 399725, 422254, 135537, 444786, 414067, 508270, 461175, 567675, 61821, 57731, 403844, 489860, 57734, 98694, 184714, 383372, 47501, 223630, 582031, 125330, 256403, 477588, 12693, 35222, 156055, 526745, 133531, 379291, 477595, 33182, 47519, 53662, 61855, 184738, 477597, 37284, 250276, 31142, 199078, 250279, 250280, 88490, 12715, 104874, 125354, 250282, 104879, 57776, 92593, 250284, 266675, 539059, 35253, 250294, 582065, 539066, 47549, 127423, 330177, 465345, 113091, 92612, 12741, 45509, 92614, 123331, 188871, 360900, 516546, 557508, 281038, 135634, 20947, 477651, 92629, 539035, 90583, 207321, 313817, 444889, 410076, 82397, 37343, 121311, 465377, 25058, 74211, 221672, 313834, 12782, 172526, 242158, 403952, 532975, 47603, 539040, 500215, 403959, 289273, 4602, 430588, 403964, 12796, 147965, 172544, 428545, 379394, 395778, 313860, 59909, 172549, 283143, 299527, 37384, 59914, 254469, 459276, 254470, 190990, 10759, 92688, 172560, 47634, 31252, 582164, 4630, 250394, 490011, 102940, 502299, 172574, 152097, 412194, 172580, 172581, 266791, 324136, 12841, 172585, 172587, 174635, 502312, 354864, 37425, 92721, 266803, 490035, 92726, 369207, 369208, 223801, 43578, 174650, 186940, 227900, 92734, 578113, 223812, 100934, 92743, 172616, 461385, 309834, 545352, 12876, 461388, 47694, 92751, 580174, 168538, 92764, 496221, 92770, 569955, 502373, 172647, 172650, 47723, 234092, 412266, 309871, 344691, 467571, 78453, 37494, 2679, 322167, 12921, 344697, 481915, 189052, 12925, 189053, 576118, 576125, 92801, 580225, 307843, 174725, 172678, 205448, 92809, 373385, 373386, 373387, 12941, 92813, 576141, 203409, 80530, 131731, 172691, 385684, 404117, 12953, 94874, 281245, 2721, 80546, 92834, 27300, 92837, 172708, 174756, 281250, 47785, 354978, 363170, 504488, 12974, 12980, 373429, 490166, 696, 12984, 107196, 430780, 6846, 703, 139970, 185026, 193218, 363207, 172744, 363209, 430793, 457420, 82637, 332495, 469713, 271058, 301779, 13012, 318164, 504530, 72409, 29402, 219871, 99040, 92897, 203489, 371425, 389856, 455396, 31463, 434920, 745, 172777, 199403, 92908, 365292, 31470, 92910, 195311, 753, 133874, 4851, 371443, 451313, 92918, 35575, 35576, 121591, 211703, 219898, 277242, 408317, 121598, 557821, 107264, 119554, 54020, 461573, 310024, 490249, 13066, 230154, 408330, 74510, 432915, 13076, 387860, 320280, 432920, 453400, 277275, 387867, 537371, 432926, 559896, 432928, 463648, 570138, 187172, 805, 559909, 127783, 808, 559910, 432939, 305965, 9013, 576309, 512823, 172856, 172859, 72512, 140099, 21316, 172867, 461637, 37703, 406343, 506692, 13131, 107339, 463701, 93014, 13143, 508759, 297818, 72539, 432988, 232285, 461660, 504671, 72544, 119648, 519008, 105315, 93028, 133989, 195431, 13160, 93035, 566124, 37742, 424815, 880, 154481, 35698, 35699, 103283, 13173, 396144, 424816, 33656, 37753, 156536, 549753, 35708, 473980, 272905, 35711, 39807, 119679, 11139, 13187, 33669, 252807, 469899, 21388, 441229, 13198, 35728, 486288, 183187, 277396, 39829, 134038, 289687, 318361, 185242, 33691, 263067, 185245, 244638, 134047, 437149, 555938, 570275, 566181, 172967, 506793, 86954, 320426, 385964, 390060, 33711, 127920, 136113, 244655, 244656, 258993, 183221, 414641, 447412, 127929, 13243, 109499, 533436, 13248, 134081, 463808, 183237, 551882, 220113, 23511, 523225, 256986, 107483, 283611, 13279, 33760, 33761, 361439, 402400, 489886, 504803, 527332, 236519, 263143, 312296, 515049, 33771, 539627, 271346, 377846, 377847, 310266, 54271, 285695, 128001, 373762, 410624, 168964, 115717, 498696, 285706, 498698, 269324, 193554, 46100, 78870, 473207, 99355, 489897, 144413, 529436, 13343, 461857, 410663, 320552, 33834, 230442, 13356, 562218, 107566, 371758, 465966, 465967, 465973, 406582, 218167, 525366, 277562, 367675, 468027, 37951, 95295, 193599, 437311, 128068, 490564, 128070, 525382, 128074, 37966, 525391, 140369, 388182, 388183, 228442, 48219, 388188, 468060, 527450, 459871, 128096, 132193, 330851, 388195, 187495, 89194, 476266, 13421, 216173, 128111, 476269, 476271, 476275, 431220, 431223, 142460, 476292, 128133, 273542, 248967, 314503, 418953, 373898, 490633, 529544, 431245, 461965, 107664, 490640, 25746, 543888, 101524, 9366, 478358, 564374, 193690, 5276, 564384, 490657, 193699, 578723, 457893, 17575, 210087, 275623, 138410, 330922, 459947, 27821, 208048, 33973, 111797, 13495, 97463, 128182, 152762, 466104, 357564, 271549, 560313, 570555, 431296, 193729, 193731, 453828, 54469, 431310, 13520, 320721, 13522, 19667, 557505, 464084, 29909, 400598, 476369, 23768, 498902, 498904, 220379, 197852, 74973, 396507, 507096, 36065, 13540, 507109, 52455, 191719, 474346, 38123, 273645, 5359, 13551, 19695, 13554, 105712, 236787, 249071, 181495, 13560, 390393, 169210, 152829, 472319, 271616, 236802, 288003, 226566, 34055, 167176, 560392, 7434, 105743, 537874, 103701, 191768, 255257, 460058, 498968, 552219, 34078, 32031, 128289, 140578, 32036, 34085, 36134, 361768, 390441, 1322, 128298, 501034, 185646, 216367, 361774, 535858, 206132, 36149, 187702, 7479, 195893, 36153, 292151, 361787, 105788, 195901, 478522, 52543, 578878, 214337, 152898, 333121, 490818, 111941, 36166, 410950, 478534, 333131, 290126, 331091, 390484, 533844, 187734, 331094, 460119, 460121, 228703, 472416, 499040, 496994, 499041, 499045, 320871, 357735, 269673, 499048, 128363, 515438, 32112, 273777, 544112, 259443, 544114, 513397, 101753, 89467, 464251, 497020, 578940, 220543, 195968, 191874, 107907, 107908, 195973, 241030, 241031, 488834, 519560, 499082, 195979, 320907, 368011, 488843, 195983, 195984, 505229, 195986, 296348, 267677, 30110, 93599, 404894, 421279, 578972, 23974, 77222, 93606, 370088, 21930, 488873, 488879, 361904, 544183, 544184, 413113, 366011, 533948, 198077, 187839, 404928, 523711, 48578, 75205, 110022, 36295, 191944, 38347, 48589, 505294, 384463, 105936, 445907, 411092, 44501, 60885, 46554, 64988, 529891, 128484, 99817, 376298, 11755, 36335, 56815, 89584, 42482, 99826, 191986, 191989, 280048, 402929, 579057, 489992, 42490, 413183, 456191, 458241, 513538, 445955, 267785, 56850, 128530, 329234, 204313, 9756, 69148, 476701, 34335, 38442, 40490, 71211, 572973, 253486, 534066, 149043, 128564, 128566, 187959, 458294, 32314, 233018, 458298, 241216, 34372, 99909, 171591, 411209, 411211, 435789, 5713, 271955, 13909, 87637, 56920, 104032, 413281, 411235, 323172, 507491, 120422, 46697, 20074, 396907, 259692, 11885, 265837, 480879, 265840, 61041, 1655, 32376, 56952, 128634, 249467, 263800, 360062, 349823, 458369, 462465, 128645, 245382, 530055, 44680, 114317, 36498, 419475, 220820, 544405, 34456, 491160, 519833, 79515, 544409, 79517, 388767, 5792, 32418, 259746, 550564, 34468, 521891, 523939, 544422, 138920, 259752, 321192, 36523, 38572, 259756, 456366, 5807, 102065, 489622, 251573, 120502, 159416, 85690, 91835, 298682, 380604, 380606, 126655, 280255, 403135, 403137, 259779, 356037, 551905, 220872, 87754, 558794, 87758, 417488, 573889, 243413, 110295, 259800, 384728, 403162, 513751, 575197, 114398, 48868, 210663, 274151, 489191, 247530, 495339, 259826, 259827, 461548, 48884, 5877, 128756, 231159, 259832, 270068, 331507, 331508, 34556, 386809, 81662, 421625, 57088, 489216, 562948, 145158, 429831, 489225, 231179, 34574, 255758, 524049, 567060, 304916, 489236, 14102, 32534, 46870, 71448, 421658, 536346, 69404, 376605, 581407, 489248, 436001, 89890, 67363, 360226, 427817, 235307, 548651, 579375, 372529, 323378, 10035, 57141, 358203, 427838, 116543, 145215, 259903, 114499, 57156, 489293, 558928, 143199, 143200, 554848, 34658, 554851, 364387, 376676, 462692, 251750, 376678, 305000, 128873, 218986, 489323, 14188, 5997, 280431, 149362, 118643, 384882, 421751, 540535, 421756, 384893, 554876, 391039, 505727, 489345, 563069, 163715, 325510, 358280, 554890, 579469, 49040, 235412, 540565, 550804, 403351, 212889, 28572, 403356, 389022, 372639, 321440, 458652, 51106, 577443, 321443, 477090, 73637, 214950, 57255, 87975, 477092, 128938, 477097, 477100, 569254, 94127, 163760, 272305, 569266, 94131, 206772, 280499, 163766, 415668, 477109, 579513, 489402, 139195, 384955, 163773, 421821, 34751, 128960, 223167, 427968, 468926, 477117, 59333, 493508, 493511, 493512, 128970, 382922, 470989, 470993, 470998, 167902, 128991, 128992, 237537, 286689, 573411, 428006, 376809, 403434, 18411, 118763, 147435, 579562, 147439, 436207, 506374, 374771, 147444, 401395, 180215, 471033, 471035, 487422, 421887}\n"
          ],
          "name": "stdout"
        }
      ]
    },
    {
      "cell_type": "code",
      "metadata": {
        "id": "UpGFwg_Rgdnb",
        "colab_type": "code",
        "colab": {}
      },
      "source": [
        "temp_dict = defaultdict(set)\n",
        "i = 0\n",
        "for word in new_index.inverted_index:\n",
        "    i += 1\n",
        "    if i % 100000 == 0:\n",
        "        print(i)\n",
        "    rus_key = keyw.engrus(word)\n",
        "\n",
        "    temp_dict[rus_key].update(new_index.inverted_index[word])\n",
        "    new_index.inverted_index[word] = None\n",
        "\n",
        "new_index.inverted_index = temp_dict\n",
        "temp_dict = None\n",
        "del temp_dict\n"
      ],
      "execution_count": 0,
      "outputs": []
    },
    {
      "cell_type": "code",
      "metadata": {
        "id": "2hBIRwL1j7Aq",
        "colab_type": "code",
        "colab": {
          "base_uri": "https://localhost:8080/",
          "height": 34
        },
        "outputId": "a59ade1d-ef75-4218-e0ff-f87465c3ac71"
      },
      "source": [
        "len(new_index.inverted_index)"
      ],
      "execution_count": 29,
      "outputs": [
        {
          "output_type": "execute_result",
          "data": {
            "text/plain": [
              "4756065"
            ]
          },
          "metadata": {
            "tags": []
          },
          "execution_count": 29
        }
      ]
    },
    {
      "cell_type": "code",
      "metadata": {
        "id": "F1SgnEfHq0OR",
        "colab_type": "code",
        "colab": {}
      },
      "source": [
        "new_index.save('inverted_index_all_rus_no_stem.pickle')"
      ],
      "execution_count": 0,
      "outputs": []
    },
    {
      "cell_type": "code",
      "metadata": {
        "id": "eQsYrgucrBFC",
        "colab_type": "code",
        "colab": {}
      },
      "source": [
        "!cp inverted_index_all_rus_no_stem.pickle '/content/drive/My Drive/Homeworks/InformationRetrieval/inverted_index_all_rus_no_stem.pickle'"
      ],
      "execution_count": 0,
      "outputs": []
    },
    {
      "cell_type": "markdown",
      "metadata": {
        "id": "E8hg8QdDUHl4",
        "colab_type": "text"
      },
      "source": [
        "##### Testing Block"
      ]
    },
    {
      "cell_type": "code",
      "metadata": {
        "id": "bBxPGXGMHDIp",
        "colab_type": "code",
        "colab": {}
      },
      "source": [
        "test_sentence = 'бандиты боятся ли ментов'"
      ],
      "execution_count": 0,
      "outputs": []
    },
    {
      "cell_type": "code",
      "metadata": {
        "id": "82-U2VzPTSxH",
        "colab_type": "code",
        "colab": {}
      },
      "source": [
        "boolean_model = SolutionPredictor(new_index)"
      ],
      "execution_count": 0,
      "outputs": []
    },
    {
      "cell_type": "code",
      "metadata": {
        "id": "q2AtOv0ITg7i",
        "colab_type": "code",
        "outputId": "f3165571-e3f0-474b-9243-7e07fe1464f3",
        "colab": {
          "base_uri": "https://localhost:8080/",
          "height": 71
        }
      },
      "source": [
        "start = time.time()\n",
        "value_present = boolean_model.find_docs(test_sentence)\n",
        "print(value_present)\n",
        "logging.debug('Search Time: {}'.format(time.time() - start))"
      ],
      "execution_count": 28,
      "outputs": [
        {
          "output_type": "stream",
          "text": [
            "DEBUG:root:Search Time: 0.0024552345275878906\n"
          ],
          "name": "stderr"
        },
        {
          "output_type": "stream",
          "text": [
            "{59393, 122885, 92166, 370697, 262166, 477206, 575512, 110616, 145432, 432154, 432166, 247847, 106540, 557108, 421941, 12351, 522305, 190534, 221260, 198735, 284753, 579665, 364632, 505945, 364635, 178274, 313443, 313451, 419951, 489583, 75893, 22646, 57466, 489595, 180351, 106626, 108677, 88199, 221320, 112780, 489618, 489620, 485525, 489622, 221335, 221336, 383136, 364705, 362658, 362662, 204967, 489639, 112810, 245933, 20656, 489651, 577718, 403642, 383163, 61629, 577727, 14529, 403650, 579780, 563400, 577738, 413900, 14540, 577743, 520399, 135378, 379091, 362708, 340183, 92376, 383196, 442590, 221414, 489710, 299250, 155891, 510199, 311545, 311553, 430350, 495888, 92435, 430358, 364825, 416028, 174377, 174380, 10544, 284977, 284978, 452915, 414004, 414006, 311610, 284990, 284993, 381257, 414037, 383317, 108887, 293207, 389467, 98656, 414049, 414054, 346471, 164202, 383339, 328049, 358783, 489860, 108939, 383372, 213389, 311694, 98709, 72093, 489886, 311712, 266657, 184738, 489897, 311730, 29108, 557505, 96707, 92612, 80328, 192969, 311754, 362956, 438742, 90583, 90584, 90587, 192990, 383461, 149994, 457195, 283122, 383474, 266741, 469496, 150009, 150012, 496125, 477693, 387583, 172544, 410113, 573954, 383491, 489987, 141829, 489992, 92688, 150036, 383511, 457240, 457250, 311843, 150052, 311845, 311849, 43562, 383529, 354864, 524849, 186930, 215604, 383557, 311878, 193095, 539207, 389711, 180816, 299608, 4697, 580189, 121458, 311924, 410232, 371321, 457337, 311934, 195203, 535172, 354955, 94863, 113299, 94870, 12953, 94874, 457373, 369311, 92834, 240291, 373410, 490146, 457382, 94887, 12984, 379589, 344775, 410312, 410314, 525014, 377561, 377562, 209628, 453343, 551651, 107239, 344808, 418544, 92918, 396024, 432889, 119554, 305925, 559882, 289553, 465681, 107288, 119578, 181020, 457514, 389933, 199470, 439092, 336699, 490303, 490304, 305985, 490305, 142152, 295755, 13131, 297812, 297815, 297818, 279388, 504671, 189281, 105315, 473957, 283496, 400235, 880, 293752, 293755, 439164, 252796, 443264, 164737, 897, 463747, 496520, 355209, 78733, 439183, 293777, 457621, 185240, 185242, 185245, 293795, 203683, 271273, 408502, 13243, 408509, 13248, 463809, 293826, 39876, 189383, 574409, 566227, 488406, 72669, 369641, 353260, 535533, 312302, 453615, 189428, 72695, 353272, 457725, 353280, 97282, 189448, 453642, 453647, 369684, 474136, 13342, 386079, 13343, 357410, 365606, 203814, 365609, 193578, 363563, 115759, 164923, 379969, 363590, 388188, 339037, 558174, 13404, 179297, 388195, 189540, 320613, 189545, 189552, 490611, 423037, 490633, 15498, 224395, 490640, 447638, 302231, 152741, 179368, 427183, 363708, 533700, 410823, 523472, 189653, 197851, 44253, 189662, 308445, 179426, 13540, 445672, 259305, 253164, 529647, 466160, 197880, 566521, 13560, 365818, 201989, 181512, 374026, 191759, 374036, 503063, 191768, 197919, 474405, 187687, 533805, 189743, 490807, 89409, 17738, 165205, 460118, 95574, 470360, 120156, 126312, 175465, 478586, 179583, 191872, 363908, 191877, 40338, 431510, 77222, 513448, 433578, 511412, 75205, 513478, 222680, 189912, 189924, 1511, 11755, 42482, 464370, 263674, 370178, 431620, 271880, 349705, 189962, 181771, 189965, 374290, 243218, 374292, 189981, 265758, 15901, 189984, 15905, 370215, 208424, 157225, 15914, 370221, 513582, 210480, 298547, 15925, 190006, 429624, 190012, 222783, 15938, 15939, 431694, 181839, 190035, 452183, 364119, 181850, 190042, 97887, 507491, 120422, 15977, 429679, 190066, 513651, 5748, 190070, 218744, 15999, 5761, 509577, 136844, 362131, 220822, 298647, 429720, 364187, 97949, 87711, 362144, 32418, 210609, 554683, 415422, 315077, 190156, 190157, 429774, 313039, 20177, 310993, 405203, 575189, 190167, 311001, 220905, 247530, 98035, 415481, 505597, 190211, 380676, 190216, 220943, 364304, 360210, 87827, 276243, 380694, 69404, 91939, 190262, 216886, 190268, 55118, 579411, 315220, 42843, 311133, 221023, 243552, 247649, 192353, 292704, 98145, 122722, 61288, 431979, 221037, 421746, 364403, 190337, 307077, 264074, 554890, 378788, 395178, 313260, 257964, 192434, 548791, 122820, 135113, 309204, 548820, 374748, 313313, 376809, 147435, 180215, 59384, 493564, 221181}\n"
          ],
          "name": "stdout"
        }
      ]
    },
    {
      "cell_type": "code",
      "metadata": {
        "id": "8hGfl_yREvHX",
        "colab_type": "code",
        "colab": {}
      },
      "source": [
        "data = database[database['id'].isin(list(value_present))].copy()\n",
        "data.loc[:, 'content'] = data[['subject', 'content']].astype(str).apply(' '.join, axis=1)\n",
        "del data['subject']\n",
        "data = OrderedDict(data.set_index('id')['content'].to_dict())\n",
        "for key in data:\n",
        "    data[key] = ' '.join(new_index.preprocess(data[key]))\n",
        "\n"
      ],
      "execution_count": 0,
      "outputs": []
    },
    {
      "cell_type": "code",
      "metadata": {
        "id": "wS3HX6p8F2EM",
        "colab_type": "code",
        "colab": {}
      },
      "source": [
        "i = 0\n",
        "for key in data:\n",
        "    i += 1\n",
        "    print(key, data[key])\n",
        "    if i == 5:\n",
        "        break"
      ],
      "execution_count": 0,
      "outputs": []
    },
    {
      "cell_type": "code",
      "metadata": {
        "id": "9ovJzhitG1H5",
        "colab_type": "code",
        "colab": {}
      },
      "source": [
        "ids = data.keys()"
      ],
      "execution_count": 0,
      "outputs": []
    },
    {
      "cell_type": "code",
      "metadata": {
        "id": "H92B8x0eFhi4",
        "colab_type": "code",
        "colab": {}
      },
      "source": [
        "tf_idf_test = TfidfVectorizer()\n",
        "data = tf_idf_test.fit_transform(data.values())"
      ],
      "execution_count": 0,
      "outputs": []
    },
    {
      "cell_type": "code",
      "metadata": {
        "id": "icToNu0ZHZ-o",
        "colab_type": "code",
        "colab": {}
      },
      "source": [
        "query = tf_idf_test.transform([test_sentence])[0]"
      ],
      "execution_count": 0,
      "outputs": []
    },
    {
      "cell_type": "code",
      "metadata": {
        "id": "2ueMpLK4Hwn5",
        "colab_type": "code",
        "colab": {}
      },
      "source": [
        ""
      ],
      "execution_count": 0,
      "outputs": []
    },
    {
      "cell_type": "code",
      "metadata": {
        "id": "2BaGfwuBHzZf",
        "colab_type": "code",
        "colab": {}
      },
      "source": [
        "distances = cosine_similarity(query, data)"
      ],
      "execution_count": 0,
      "outputs": []
    },
    {
      "cell_type": "code",
      "metadata": {
        "id": "fEVLE8RMH7Kj",
        "colab_type": "code",
        "colab": {
          "base_uri": "https://localhost:8080/",
          "height": 187
        },
        "outputId": "35d52b64-96df-49a7-b8a8-104f1d40b610"
      },
      "source": [
        "sorted(list(zip(ids, distances[0])), key=lambda x: x[1], reverse=True)[:10] "
      ],
      "execution_count": 49,
      "outputs": [
        {
          "output_type": "execute_result",
          "data": {
            "text/plain": [
              "[(178274, 0.13960637256481664),\n",
              " (218744, 0.09090821605679983),\n",
              " (340183, 0.08117254692310241),\n",
              " (336699, 0.05268040409627736),\n",
              " (307077, 0.031005420992367423),\n",
              " (20177, 0.02704131147882186),\n",
              " (61288, 0.026743387069791263),\n",
              " (152741, 0.024239895257922528),\n",
              " (120156, 0.02343521737850251),\n",
              " (187687, 0.02280658489060018)]"
            ]
          },
          "metadata": {
            "tags": []
          },
          "execution_count": 49
        }
      ]
    },
    {
      "cell_type": "markdown",
      "metadata": {
        "id": "5CL0J_tDV0mp",
        "colab_type": "text"
      },
      "source": [
        "### Loading File to DataFrame\n",
        "We are doing this for faster search based on index numbers"
      ]
    },
    {
      "cell_type": "code",
      "metadata": {
        "id": "DMN7KIeYTlei",
        "colab_type": "code",
        "outputId": "25e05d09-e3bf-4344-f5b5-5164d623bbd4",
        "colab": {
          "base_uri": "https://localhost:8080/",
          "height": 51
        }
      },
      "source": [
        "%%time\n",
        "database = pd.read_csv(indexing_data_location, sep='\\t', header=None,\n",
        "                       names=['id', 'subject', 'content'],\n",
        "                       dtype = {'id': int,'subject': str,\n",
        "                            'content': str})"
      ],
      "execution_count": 21,
      "outputs": [
        {
          "output_type": "stream",
          "text": [
            "CPU times: user 55.2 s, sys: 13.3 s, total: 1min 8s\n",
            "Wall time: 2min 15s\n"
          ],
          "name": "stdout"
        }
      ]
    },
    {
      "cell_type": "code",
      "metadata": {
        "id": "zpr9WQ0FVkLD",
        "colab_type": "code",
        "outputId": "23058fc7-3095-40d6-83f7-545f5faa7736",
        "colab": {
          "base_uri": "https://localhost:8080/",
          "height": 204
        }
      },
      "source": [
        "database.head()"
      ],
      "execution_count": 22,
      "outputs": [
        {
          "output_type": "execute_result",
          "data": {
            "text/html": [
              "<div>\n",
              "<style scoped>\n",
              "    .dataframe tbody tr th:only-of-type {\n",
              "        vertical-align: middle;\n",
              "    }\n",
              "\n",
              "    .dataframe tbody tr th {\n",
              "        vertical-align: top;\n",
              "    }\n",
              "\n",
              "    .dataframe thead th {\n",
              "        text-align: right;\n",
              "    }\n",
              "</style>\n",
              "<table border=\"1\" class=\"dataframe\">\n",
              "  <thead>\n",
              "    <tr style=\"text-align: right;\">\n",
              "      <th></th>\n",
              "      <th>id</th>\n",
              "      <th>subject</th>\n",
              "      <th>content</th>\n",
              "    </tr>\n",
              "  </thead>\n",
              "  <tbody>\n",
              "    <tr>\n",
              "      <th>0</th>\n",
              "      <td>24</td>\n",
              "      <td>БОЛЕЕТ ЗА ФУТБОЛ И ТРАХАЕТ ДОЧЬ СОФТ ОРГАНАЙЗЕ...</td>\n",
              "      <td>ГЛАВНАЯ НОВОСТИ КАРТА СОФТ ОРГАНАЙЗЕР СКАЧАТЬ ...</td>\n",
              "    </tr>\n",
              "    <tr>\n",
              "      <th>1</th>\n",
              "      <td>26</td>\n",
              "      <td>МОНГОЛЬСКАЯ ТХАНКА СОФТФОН</td>\n",
              "      <td>ГЛАВНАЯ НОВОСТИ КАРТА СОФТФОН GT МОНГОЛЬСКАЯ Т...</td>\n",
              "    </tr>\n",
              "    <tr>\n",
              "      <th>2</th>\n",
              "      <td>30</td>\n",
              "      <td>СМОТРЕТЬ ФИЛЬМЫ ОНЛАЙН БЕСПЛАТНО СМОТРЕТЬ КОНЦ...</td>\n",
              "      <td>ЗАГРУЗКА ПОЖАЛУЙСТА ПОДОЖДИТЕ ВНИМАНИЕ ОБНАРУЖ...</td>\n",
              "    </tr>\n",
              "    <tr>\n",
              "      <th>3</th>\n",
              "      <td>35</td>\n",
              "      <td>КАК ПРИГОТОВИТЬ ТОРТ РАФАЭЛЛО В ДОМАШНИХ УСЛОВ...</td>\n",
              "      <td>ՀԱՅԵՐԵՆ РУССКИЙ ПОЛИТИКА ВНУТРЕННИЙ ВНЕШНИЙ ЭК...</td>\n",
              "    </tr>\n",
              "    <tr>\n",
              "      <th>4</th>\n",
              "      <td>39</td>\n",
              "      <td>МИФЫ О ГВ BREASTFEEDING AM</td>\n",
              "      <td>TOGGLE NAVIGATION BREASTFEEDING AM ГОРЯЧАЯ ЛИН...</td>\n",
              "    </tr>\n",
              "  </tbody>\n",
              "</table>\n",
              "</div>"
            ],
            "text/plain": [
              "   id  ...                                            content\n",
              "0  24  ...  ГЛАВНАЯ НОВОСТИ КАРТА СОФТ ОРГАНАЙЗЕР СКАЧАТЬ ...\n",
              "1  26  ...  ГЛАВНАЯ НОВОСТИ КАРТА СОФТФОН GT МОНГОЛЬСКАЯ Т...\n",
              "2  30  ...  ЗАГРУЗКА ПОЖАЛУЙСТА ПОДОЖДИТЕ ВНИМАНИЕ ОБНАРУЖ...\n",
              "3  35  ...  ՀԱՅԵՐԵՆ РУССКИЙ ПОЛИТИКА ВНУТРЕННИЙ ВНЕШНИЙ ЭК...\n",
              "4  39  ...  TOGGLE NAVIGATION BREASTFEEDING AM ГОРЯЧАЯ ЛИН...\n",
              "\n",
              "[5 rows x 3 columns]"
            ]
          },
          "metadata": {
            "tags": []
          },
          "execution_count": 22
        }
      ]
    },
    {
      "cell_type": "markdown",
      "metadata": {
        "id": "FFVq8V0Yo4Lv",
        "colab_type": "text"
      },
      "source": [
        "### Implementing BM25"
      ]
    },
    {
      "cell_type": "code",
      "metadata": {
        "id": "44uL1BmcyqBw",
        "colab_type": "code",
        "outputId": "844a29f4-6086-4aef-d016-48fb199f7d8c",
        "colab": {
          "base_uri": "https://localhost:8080/",
          "height": 66,
          "referenced_widgets": [
            "b4f08d2e4caf409ca3c7802bf2aceb20",
            "c210bb744e5a4e8cbf441418370713b8",
            "6ca07652c18b47c39e02d30e9a98c17b",
            "2e2703687728493eb06bf2c4405bd969",
            "cf9760f573fc490fba2813a4f4da0e5c",
            "f9842cfea6754010953c6548baaaed5d",
            "2f81291f353441f2b807a0b99a5e5565",
            "ec5939ea5a434682b522ab791dcebd46"
          ]
        }
      },
      "source": [
        "result_docs = OrderedDict()\n",
        "\n",
        "with open(queries_list) as queries:\n",
        "    for line in tqdm(queries.readlines()):\n",
        "        line = line.split('\\t')\n",
        "        id = int(line[0])\n",
        "        query = line[1]\n",
        "        value_present = boolean_model.find_docs(query)\n",
        "        result_docs[id] = value_present\n"
      ],
      "execution_count": 16,
      "outputs": [
        {
          "output_type": "display_data",
          "data": {
            "application/vnd.jupyter.widget-view+json": {
              "model_id": "b4f08d2e4caf409ca3c7802bf2aceb20",
              "version_minor": 0,
              "version_major": 2
            },
            "text/plain": [
              "HBox(children=(FloatProgress(value=0.0, max=400.0), HTML(value='')))"
            ]
          },
          "metadata": {
            "tags": []
          }
        },
        {
          "output_type": "stream",
          "text": [
            "\n"
          ],
          "name": "stdout"
        }
      ]
    },
    {
      "cell_type": "code",
      "metadata": {
        "id": "fZmkxZAC6zV3",
        "colab_type": "code",
        "colab": {}
      },
      "source": [
        ""
      ],
      "execution_count": 0,
      "outputs": []
    },
    {
      "cell_type": "code",
      "metadata": {
        "id": "4NH5BfT9f26n",
        "colab_type": "code",
        "colab": {}
      },
      "source": [
        "for key in result_docs:\n",
        "    if len(result_docs[key]) < 10:\n",
        "        print(key, result_docs[key])"
      ],
      "execution_count": 0,
      "outputs": []
    },
    {
      "cell_type": "code",
      "metadata": {
        "id": "77VjjGqz6O0U",
        "colab_type": "code",
        "colab": {
          "base_uri": "https://localhost:8080/",
          "height": 66,
          "referenced_widgets": [
            "a9806039ea984d72a2320a708aac8cf4",
            "e879e58cfb3440bba217a60425334705",
            "e418ad5a5e1444278f800280be5f9259",
            "5f544793f91c4047a7a53b035d9b9df5",
            "91af8b1f3f9643cb82d10442e9416fa3",
            "b747241b4b554bf5896c908174731cc0",
            "6ee8f3528d324929aa04844706664d7c",
            "efb24012952841c5bdb70cea8f4cc534"
          ]
        },
        "outputId": "8fb03aac-9985-4302-b63a-ae2158c516b9"
      },
      "source": [
        "# boolean_model = SolutionPredictor(new_index)\n",
        "output=open('submission.csv', 'w')\n",
        "with open(queries_list) as queries:\n",
        "    output.write('QueryId,DocumentId\\n')\n",
        "    for line in tqdm(queries.readlines()):\n",
        "        line = line.split('\\t')\n",
        "        id = int(line[0])\n",
        "        query = line[1]\n",
        "        value_present = boolean_model.find_docs(query)\n",
        "        data = database[database['id'].isin(list(value_present))].copy()\n",
        "        data.loc[:, 'content'] = data[['subject', 'content']].astype(str).apply(' '.join, axis=1)\n",
        "        del data['subject']\n",
        "        data = OrderedDict(data.set_index('id')['content'].to_dict())\n",
        "        for key in data:\n",
        "            data[key] = ' '.join(new_index.preprocess(data[key]))\n",
        "        \n",
        "        if data:\n",
        "            tfidf = TfidfVectorizer()\n",
        "            ids = data.keys()\n",
        "            data = tfidf.fit_transform(data.values())\n",
        "            query = tfidf.transform([query])[0]\n",
        "            distances = cosine_similarity(query, data)\n",
        "            rankings =  sorted(list(zip(ids, distances[0])), key=lambda x: x[1], reverse=True)[:10] \n",
        "            for rank in rankings:\n",
        "                output.write('{},{}\\n'.format(id, rank[0]))\n",
        "\n",
        "            \n",
        "\n",
        "\n",
        "\n",
        "        data = None\n",
        "        query = None\n",
        "        distances = None\n",
        "        rankings = None\n",
        "\n",
        "output.close()"
      ],
      "execution_count": 53,
      "outputs": [
        {
          "output_type": "display_data",
          "data": {
            "application/vnd.jupyter.widget-view+json": {
              "model_id": "a9806039ea984d72a2320a708aac8cf4",
              "version_minor": 0,
              "version_major": 2
            },
            "text/plain": [
              "HBox(children=(FloatProgress(value=0.0, max=400.0), HTML(value='')))"
            ]
          },
          "metadata": {
            "tags": []
          }
        },
        {
          "output_type": "stream",
          "text": [
            "\n"
          ],
          "name": "stdout"
        }
      ]
    },
    {
      "cell_type": "code",
      "metadata": {
        "id": "ig6TtpSAOyFk",
        "colab_type": "code",
        "colab": {}
      },
      "source": [
        "!cp submission.csv '/content/drive/My Drive/Homeworks/InformationRetrieval/submission_tfidf.csv'"
      ],
      "execution_count": 0,
      "outputs": []
    },
    {
      "cell_type": "code",
      "metadata": {
        "id": "tyHJesRwW_KL",
        "colab_type": "code",
        "outputId": "6236f2e3-2b13-482e-bbae-ff2bf80032a9",
        "colab": {
          "base_uri": "https://localhost:8080/",
          "height": 168,
          "referenced_widgets": [
            "f240404a82b648df902d7a43dcf6f595",
            "4978ebc382ae41fb87b42ce43262dcc4",
            "265f552f4eef4ed8a54848d0c2917fe2",
            "3f7d766157284321bc0d6da9dc68dc2a",
            "d2d94a2452a94df1a8bc37652577f11e",
            "d53c02a2f9dd46e396039911ef4a0762",
            "2371e52747af40d38a20485cbff63229",
            "0b8cfc0cd7734640a7dc761a6750966a"
          ]
        }
      },
      "source": [
        "# boolean_model = SolutionPredictor(new_index)\n",
        "output=open('submission.csv', 'w')\n",
        "with open(queries_list) as queries:\n",
        "    output.write('QueryId,DocumentId\\n')\n",
        "    for line in tqdm(queries.readlines()):\n",
        "        line = line.split('\\t')\n",
        "        id = int(line[0])\n",
        "        query = line[1]\n",
        "        value_present = boolean_model.find_docs(query)\n",
        "        data = database[database['id'].isin(list(value_present))].copy()\n",
        "        data.loc[:, 'content'] = data[['subject', 'content']].astype(str).apply(' '.join, axis=1)\n",
        "        del data['subject']\n",
        "        data = OrderedDict(data.set_index('id')['content'].to_dict())\n",
        "        for key in data:\n",
        "            data[key] = new_index.preprocess(data[key])\n",
        "        if data:\n",
        "            bm25 = BM25Okapi(data.values())\n",
        "            rankings =  sorted(list(zip(data.keys(), bm25.get_scores(new_index.preprocess(query)))), key=lambda x: x[1], reverse=True)[:10]\n",
        "            for rank in rankings:\n",
        "                output.write('{},{}\\n'.format(id, rank[0]))\n",
        "        \n",
        "        if (not data) or len(rankings) < 10:\n",
        "            rankings = []\n",
        "            logging.debug('Found Some values with no query results or less than 10 {} ranking'.format(id, len(rankings)))\n",
        "            print(id, query)\n",
        "            # for i in range(10 - len(rankings)):\n",
        "            #     output.write('{},{}\\n'.format(id, random.randrange(50000)))\n",
        "output.close()"
      ],
      "execution_count": 0,
      "outputs": [
        {
          "output_type": "display_data",
          "data": {
            "application/vnd.jupyter.widget-view+json": {
              "model_id": "f240404a82b648df902d7a43dcf6f595",
              "version_minor": 0,
              "version_major": 2
            },
            "text/plain": [
              "HBox(children=(FloatProgress(value=0.0, max=400.0), HTML(value='')))"
            ]
          },
          "metadata": {
            "tags": []
          }
        },
        {
          "output_type": "stream",
          "text": [
            "DEBUG:root:Found Some values with no query results or less than 10 4420 ranking\n"
          ],
          "name": "stderr"
        },
        {
          "output_type": "stream",
          "text": [
            "4420 ли экспрэс\n",
            "\n"
          ],
          "name": "stdout"
        },
        {
          "output_type": "stream",
          "text": [
            "DEBUG:root:Found Some values with no query results or less than 10 6267 ranking\n"
          ],
          "name": "stderr"
        },
        {
          "output_type": "stream",
          "text": [
            "6267 что хначит datalova\n",
            "\n",
            "\n"
          ],
          "name": "stdout"
        }
      ]
    },
    {
      "cell_type": "code",
      "metadata": {
        "id": "RdYT_pMmYVMq",
        "colab_type": "code",
        "colab": {}
      },
      "source": [
        ""
      ],
      "execution_count": 0,
      "outputs": []
    },
    {
      "cell_type": "code",
      "metadata": {
        "id": "i5scxS0dfqFx",
        "colab_type": "code",
        "colab": {}
      },
      "source": [
        ""
      ],
      "execution_count": 0,
      "outputs": []
    },
    {
      "cell_type": "code",
      "metadata": {
        "id": "tgeVX5euf-Qx",
        "colab_type": "code",
        "colab": {}
      },
      "source": [
        ""
      ],
      "execution_count": 0,
      "outputs": []
    },
    {
      "cell_type": "code",
      "metadata": {
        "id": "N7vf45rN7Cjl",
        "colab_type": "code",
        "colab": {}
      },
      "source": [
        ""
      ],
      "execution_count": 0,
      "outputs": []
    }
  ]
}