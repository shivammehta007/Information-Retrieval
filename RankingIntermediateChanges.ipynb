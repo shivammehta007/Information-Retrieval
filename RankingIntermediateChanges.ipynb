{
  "nbformat": 4,
  "nbformat_minor": 0,
  "metadata": {
    "colab": {
      "name": "Untitled",
      "provenance": [],
      "collapsed_sections": [],
      "toc_visible": true,
      "machine_shape": "hm",
      "include_colab_link": true
    },
    "kernelspec": {
      "name": "python3",
      "display_name": "Python 3"
    },
    "widgets": {
      "application/vnd.jupyter.widget-state+json": {
        "1790cdc6d53540059cf52c18866edc3b": {
          "model_module": "@jupyter-widgets/controls",
          "model_name": "HBoxModel",
          "state": {
            "_view_name": "HBoxView",
            "_dom_classes": [],
            "_model_name": "HBoxModel",
            "_view_module": "@jupyter-widgets/controls",
            "_model_module_version": "1.5.0",
            "_view_count": null,
            "_view_module_version": "1.5.0",
            "box_style": "",
            "layout": "IPY_MODEL_b0a84c3f554745559ff7ab66508125d9",
            "_model_module": "@jupyter-widgets/controls",
            "children": [
              "IPY_MODEL_34a94e480c3644f4bbaeccd6b97623e4",
              "IPY_MODEL_158dc0bfa76f459f8d6ad24e171f069b"
            ]
          }
        },
        "b0a84c3f554745559ff7ab66508125d9": {
          "model_module": "@jupyter-widgets/base",
          "model_name": "LayoutModel",
          "state": {
            "_view_name": "LayoutView",
            "grid_template_rows": null,
            "right": null,
            "justify_content": null,
            "_view_module": "@jupyter-widgets/base",
            "overflow": null,
            "_model_module_version": "1.2.0",
            "_view_count": null,
            "flex_flow": null,
            "width": null,
            "min_width": null,
            "border": null,
            "align_items": null,
            "bottom": null,
            "_model_module": "@jupyter-widgets/base",
            "top": null,
            "grid_column": null,
            "overflow_y": null,
            "overflow_x": null,
            "grid_auto_flow": null,
            "grid_area": null,
            "grid_template_columns": null,
            "flex": null,
            "_model_name": "LayoutModel",
            "justify_items": null,
            "grid_row": null,
            "max_height": null,
            "align_content": null,
            "visibility": null,
            "align_self": null,
            "height": null,
            "min_height": null,
            "padding": null,
            "grid_auto_rows": null,
            "grid_gap": null,
            "max_width": null,
            "order": null,
            "_view_module_version": "1.2.0",
            "grid_template_areas": null,
            "object_position": null,
            "object_fit": null,
            "grid_auto_columns": null,
            "margin": null,
            "display": null,
            "left": null
          }
        },
        "34a94e480c3644f4bbaeccd6b97623e4": {
          "model_module": "@jupyter-widgets/controls",
          "model_name": "FloatProgressModel",
          "state": {
            "_view_name": "ProgressView",
            "style": "IPY_MODEL_6cbec07e5a754f64883c381afa9d68f9",
            "_dom_classes": [],
            "description": "",
            "_model_name": "FloatProgressModel",
            "bar_style": "success",
            "max": 1,
            "_view_module": "@jupyter-widgets/controls",
            "_model_module_version": "1.5.0",
            "value": 1,
            "_view_count": null,
            "_view_module_version": "1.5.0",
            "orientation": "horizontal",
            "min": 0,
            "description_tooltip": null,
            "_model_module": "@jupyter-widgets/controls",
            "layout": "IPY_MODEL_9e185296c7b04e1798f3573bd6c1e6f3"
          }
        },
        "158dc0bfa76f459f8d6ad24e171f069b": {
          "model_module": "@jupyter-widgets/controls",
          "model_name": "HTMLModel",
          "state": {
            "_view_name": "HTMLView",
            "style": "IPY_MODEL_311eebcb5ba6420d80284fa1682313be",
            "_dom_classes": [],
            "description": "",
            "_model_name": "HTMLModel",
            "placeholder": "​",
            "_view_module": "@jupyter-widgets/controls",
            "_model_module_version": "1.5.0",
            "value": " 37816/? [01:10&lt;00:00, 538.55it/s]",
            "_view_count": null,
            "_view_module_version": "1.5.0",
            "description_tooltip": null,
            "_model_module": "@jupyter-widgets/controls",
            "layout": "IPY_MODEL_80eaca492f8b4849bcc33295ad4f881a"
          }
        },
        "6cbec07e5a754f64883c381afa9d68f9": {
          "model_module": "@jupyter-widgets/controls",
          "model_name": "ProgressStyleModel",
          "state": {
            "_view_name": "StyleView",
            "_model_name": "ProgressStyleModel",
            "description_width": "initial",
            "_view_module": "@jupyter-widgets/base",
            "_model_module_version": "1.5.0",
            "_view_count": null,
            "_view_module_version": "1.2.0",
            "bar_color": null,
            "_model_module": "@jupyter-widgets/controls"
          }
        },
        "9e185296c7b04e1798f3573bd6c1e6f3": {
          "model_module": "@jupyter-widgets/base",
          "model_name": "LayoutModel",
          "state": {
            "_view_name": "LayoutView",
            "grid_template_rows": null,
            "right": null,
            "justify_content": null,
            "_view_module": "@jupyter-widgets/base",
            "overflow": null,
            "_model_module_version": "1.2.0",
            "_view_count": null,
            "flex_flow": null,
            "width": null,
            "min_width": null,
            "border": null,
            "align_items": null,
            "bottom": null,
            "_model_module": "@jupyter-widgets/base",
            "top": null,
            "grid_column": null,
            "overflow_y": null,
            "overflow_x": null,
            "grid_auto_flow": null,
            "grid_area": null,
            "grid_template_columns": null,
            "flex": null,
            "_model_name": "LayoutModel",
            "justify_items": null,
            "grid_row": null,
            "max_height": null,
            "align_content": null,
            "visibility": null,
            "align_self": null,
            "height": null,
            "min_height": null,
            "padding": null,
            "grid_auto_rows": null,
            "grid_gap": null,
            "max_width": null,
            "order": null,
            "_view_module_version": "1.2.0",
            "grid_template_areas": null,
            "object_position": null,
            "object_fit": null,
            "grid_auto_columns": null,
            "margin": null,
            "display": null,
            "left": null
          }
        },
        "311eebcb5ba6420d80284fa1682313be": {
          "model_module": "@jupyter-widgets/controls",
          "model_name": "DescriptionStyleModel",
          "state": {
            "_view_name": "StyleView",
            "_model_name": "DescriptionStyleModel",
            "description_width": "",
            "_view_module": "@jupyter-widgets/base",
            "_model_module_version": "1.5.0",
            "_view_count": null,
            "_view_module_version": "1.2.0",
            "_model_module": "@jupyter-widgets/controls"
          }
        },
        "80eaca492f8b4849bcc33295ad4f881a": {
          "model_module": "@jupyter-widgets/base",
          "model_name": "LayoutModel",
          "state": {
            "_view_name": "LayoutView",
            "grid_template_rows": null,
            "right": null,
            "justify_content": null,
            "_view_module": "@jupyter-widgets/base",
            "overflow": null,
            "_model_module_version": "1.2.0",
            "_view_count": null,
            "flex_flow": null,
            "width": null,
            "min_width": null,
            "border": null,
            "align_items": null,
            "bottom": null,
            "_model_module": "@jupyter-widgets/base",
            "top": null,
            "grid_column": null,
            "overflow_y": null,
            "overflow_x": null,
            "grid_auto_flow": null,
            "grid_area": null,
            "grid_template_columns": null,
            "flex": null,
            "_model_name": "LayoutModel",
            "justify_items": null,
            "grid_row": null,
            "max_height": null,
            "align_content": null,
            "visibility": null,
            "align_self": null,
            "height": null,
            "min_height": null,
            "padding": null,
            "grid_auto_rows": null,
            "grid_gap": null,
            "max_width": null,
            "order": null,
            "_view_module_version": "1.2.0",
            "grid_template_areas": null,
            "object_position": null,
            "object_fit": null,
            "grid_auto_columns": null,
            "margin": null,
            "display": null,
            "left": null
          }
        },
        "a73d2f85f1ab4790aada362770a79c26": {
          "model_module": "@jupyter-widgets/controls",
          "model_name": "HBoxModel",
          "state": {
            "_view_name": "HBoxView",
            "_dom_classes": [],
            "_model_name": "HBoxModel",
            "_view_module": "@jupyter-widgets/controls",
            "_model_module_version": "1.5.0",
            "_view_count": null,
            "_view_module_version": "1.5.0",
            "box_style": "",
            "layout": "IPY_MODEL_9762cb6dc3ba4992a9a7b921dc01df94",
            "_model_module": "@jupyter-widgets/controls",
            "children": [
              "IPY_MODEL_a21ab3ccd5d947d3b70553c6748ce02f",
              "IPY_MODEL_5db96a095dff4416a6e3256a2941d466"
            ]
          }
        },
        "9762cb6dc3ba4992a9a7b921dc01df94": {
          "model_module": "@jupyter-widgets/base",
          "model_name": "LayoutModel",
          "state": {
            "_view_name": "LayoutView",
            "grid_template_rows": null,
            "right": null,
            "justify_content": null,
            "_view_module": "@jupyter-widgets/base",
            "overflow": null,
            "_model_module_version": "1.2.0",
            "_view_count": null,
            "flex_flow": null,
            "width": null,
            "min_width": null,
            "border": null,
            "align_items": null,
            "bottom": null,
            "_model_module": "@jupyter-widgets/base",
            "top": null,
            "grid_column": null,
            "overflow_y": null,
            "overflow_x": null,
            "grid_auto_flow": null,
            "grid_area": null,
            "grid_template_columns": null,
            "flex": null,
            "_model_name": "LayoutModel",
            "justify_items": null,
            "grid_row": null,
            "max_height": null,
            "align_content": null,
            "visibility": null,
            "align_self": null,
            "height": null,
            "min_height": null,
            "padding": null,
            "grid_auto_rows": null,
            "grid_gap": null,
            "max_width": null,
            "order": null,
            "_view_module_version": "1.2.0",
            "grid_template_areas": null,
            "object_position": null,
            "object_fit": null,
            "grid_auto_columns": null,
            "margin": null,
            "display": null,
            "left": null
          }
        },
        "a21ab3ccd5d947d3b70553c6748ce02f": {
          "model_module": "@jupyter-widgets/controls",
          "model_name": "FloatProgressModel",
          "state": {
            "_view_name": "ProgressView",
            "style": "IPY_MODEL_7ff7359f3e474448aa07bfde7c438a18",
            "_dom_classes": [],
            "description": "",
            "_model_name": "FloatProgressModel",
            "bar_style": "danger",
            "max": 1,
            "_view_module": "@jupyter-widgets/controls",
            "_model_module_version": "1.5.0",
            "value": 1,
            "_view_count": null,
            "_view_module_version": "1.5.0",
            "orientation": "horizontal",
            "min": 0,
            "description_tooltip": null,
            "_model_module": "@jupyter-widgets/controls",
            "layout": "IPY_MODEL_e6261e8352454e858ff5e1c81fe7d828"
          }
        },
        "5db96a095dff4416a6e3256a2941d466": {
          "model_module": "@jupyter-widgets/controls",
          "model_name": "HTMLModel",
          "state": {
            "_view_name": "HTMLView",
            "style": "IPY_MODEL_0efbac92fafc4296a670cd4f3e187ca8",
            "_dom_classes": [],
            "description": "",
            "_model_name": "HTMLModel",
            "placeholder": "​",
            "_view_module": "@jupyter-widgets/controls",
            "_model_module_version": "1.5.0",
            "value": " 2425/? [01:10&lt;00:00, 13.58it/s]",
            "_view_count": null,
            "_view_module_version": "1.5.0",
            "description_tooltip": null,
            "_model_module": "@jupyter-widgets/controls",
            "layout": "IPY_MODEL_9345e617bd0242c8a20e6f35ac396f2a"
          }
        },
        "7ff7359f3e474448aa07bfde7c438a18": {
          "model_module": "@jupyter-widgets/controls",
          "model_name": "ProgressStyleModel",
          "state": {
            "_view_name": "StyleView",
            "_model_name": "ProgressStyleModel",
            "description_width": "initial",
            "_view_module": "@jupyter-widgets/base",
            "_model_module_version": "1.5.0",
            "_view_count": null,
            "_view_module_version": "1.2.0",
            "bar_color": null,
            "_model_module": "@jupyter-widgets/controls"
          }
        },
        "e6261e8352454e858ff5e1c81fe7d828": {
          "model_module": "@jupyter-widgets/base",
          "model_name": "LayoutModel",
          "state": {
            "_view_name": "LayoutView",
            "grid_template_rows": null,
            "right": null,
            "justify_content": null,
            "_view_module": "@jupyter-widgets/base",
            "overflow": null,
            "_model_module_version": "1.2.0",
            "_view_count": null,
            "flex_flow": null,
            "width": null,
            "min_width": null,
            "border": null,
            "align_items": null,
            "bottom": null,
            "_model_module": "@jupyter-widgets/base",
            "top": null,
            "grid_column": null,
            "overflow_y": null,
            "overflow_x": null,
            "grid_auto_flow": null,
            "grid_area": null,
            "grid_template_columns": null,
            "flex": null,
            "_model_name": "LayoutModel",
            "justify_items": null,
            "grid_row": null,
            "max_height": null,
            "align_content": null,
            "visibility": null,
            "align_self": null,
            "height": null,
            "min_height": null,
            "padding": null,
            "grid_auto_rows": null,
            "grid_gap": null,
            "max_width": null,
            "order": null,
            "_view_module_version": "1.2.0",
            "grid_template_areas": null,
            "object_position": null,
            "object_fit": null,
            "grid_auto_columns": null,
            "margin": null,
            "display": null,
            "left": null
          }
        },
        "0efbac92fafc4296a670cd4f3e187ca8": {
          "model_module": "@jupyter-widgets/controls",
          "model_name": "DescriptionStyleModel",
          "state": {
            "_view_name": "StyleView",
            "_model_name": "DescriptionStyleModel",
            "description_width": "",
            "_view_module": "@jupyter-widgets/base",
            "_model_module_version": "1.5.0",
            "_view_count": null,
            "_view_module_version": "1.2.0",
            "_model_module": "@jupyter-widgets/controls"
          }
        },
        "9345e617bd0242c8a20e6f35ac396f2a": {
          "model_module": "@jupyter-widgets/base",
          "model_name": "LayoutModel",
          "state": {
            "_view_name": "LayoutView",
            "grid_template_rows": null,
            "right": null,
            "justify_content": null,
            "_view_module": "@jupyter-widgets/base",
            "overflow": null,
            "_model_module_version": "1.2.0",
            "_view_count": null,
            "flex_flow": null,
            "width": null,
            "min_width": null,
            "border": null,
            "align_items": null,
            "bottom": null,
            "_model_module": "@jupyter-widgets/base",
            "top": null,
            "grid_column": null,
            "overflow_y": null,
            "overflow_x": null,
            "grid_auto_flow": null,
            "grid_area": null,
            "grid_template_columns": null,
            "flex": null,
            "_model_name": "LayoutModel",
            "justify_items": null,
            "grid_row": null,
            "max_height": null,
            "align_content": null,
            "visibility": null,
            "align_self": null,
            "height": null,
            "min_height": null,
            "padding": null,
            "grid_auto_rows": null,
            "grid_gap": null,
            "max_width": null,
            "order": null,
            "_view_module_version": "1.2.0",
            "grid_template_areas": null,
            "object_position": null,
            "object_fit": null,
            "grid_auto_columns": null,
            "margin": null,
            "display": null,
            "left": null
          }
        },
        "891d8122e8a544d5bebd26edb176a403": {
          "model_module": "@jupyter-widgets/controls",
          "model_name": "HBoxModel",
          "state": {
            "_view_name": "HBoxView",
            "_dom_classes": [],
            "_model_name": "HBoxModel",
            "_view_module": "@jupyter-widgets/controls",
            "_model_module_version": "1.5.0",
            "_view_count": null,
            "_view_module_version": "1.5.0",
            "box_style": "",
            "layout": "IPY_MODEL_41100e0626164b3c9b4b06285f6617af",
            "_model_module": "@jupyter-widgets/controls",
            "children": [
              "IPY_MODEL_aa637a9171b542b39c7a1f2b0853366f",
              "IPY_MODEL_b995752c4d06413a8d3ce2270eca598e"
            ]
          }
        },
        "41100e0626164b3c9b4b06285f6617af": {
          "model_module": "@jupyter-widgets/base",
          "model_name": "LayoutModel",
          "state": {
            "_view_name": "LayoutView",
            "grid_template_rows": null,
            "right": null,
            "justify_content": null,
            "_view_module": "@jupyter-widgets/base",
            "overflow": null,
            "_model_module_version": "1.2.0",
            "_view_count": null,
            "flex_flow": null,
            "width": null,
            "min_width": null,
            "border": null,
            "align_items": null,
            "bottom": null,
            "_model_module": "@jupyter-widgets/base",
            "top": null,
            "grid_column": null,
            "overflow_y": null,
            "overflow_x": null,
            "grid_auto_flow": null,
            "grid_area": null,
            "grid_template_columns": null,
            "flex": null,
            "_model_name": "LayoutModel",
            "justify_items": null,
            "grid_row": null,
            "max_height": null,
            "align_content": null,
            "visibility": null,
            "align_self": null,
            "height": null,
            "min_height": null,
            "padding": null,
            "grid_auto_rows": null,
            "grid_gap": null,
            "max_width": null,
            "order": null,
            "_view_module_version": "1.2.0",
            "grid_template_areas": null,
            "object_position": null,
            "object_fit": null,
            "grid_auto_columns": null,
            "margin": null,
            "display": null,
            "left": null
          }
        },
        "aa637a9171b542b39c7a1f2b0853366f": {
          "model_module": "@jupyter-widgets/controls",
          "model_name": "FloatProgressModel",
          "state": {
            "_view_name": "ProgressView",
            "style": "IPY_MODEL_8eb66f7d62d940349729e268ce63ca45",
            "_dom_classes": [],
            "description": "  1%",
            "_model_name": "FloatProgressModel",
            "bar_style": "",
            "max": 400,
            "_view_module": "@jupyter-widgets/controls",
            "_model_module_version": "1.5.0",
            "value": 5,
            "_view_count": null,
            "_view_module_version": "1.5.0",
            "orientation": "horizontal",
            "min": 0,
            "description_tooltip": null,
            "_model_module": "@jupyter-widgets/controls",
            "layout": "IPY_MODEL_4e5a9dd12bae4cc9ba46e89d5a5d557e"
          }
        },
        "b995752c4d06413a8d3ce2270eca598e": {
          "model_module": "@jupyter-widgets/controls",
          "model_name": "HTMLModel",
          "state": {
            "_view_name": "HTMLView",
            "style": "IPY_MODEL_ce589667c206440fb4bd6d8d575833ab",
            "_dom_classes": [],
            "description": "",
            "_model_name": "HTMLModel",
            "placeholder": "​",
            "_view_module": "@jupyter-widgets/controls",
            "_model_module_version": "1.5.0",
            "value": " 5/400 [00:46&lt;1:09:45, 10.60s/it]",
            "_view_count": null,
            "_view_module_version": "1.5.0",
            "description_tooltip": null,
            "_model_module": "@jupyter-widgets/controls",
            "layout": "IPY_MODEL_93908a3eeb9e40549f4901ff9ba6f60f"
          }
        },
        "8eb66f7d62d940349729e268ce63ca45": {
          "model_module": "@jupyter-widgets/controls",
          "model_name": "ProgressStyleModel",
          "state": {
            "_view_name": "StyleView",
            "_model_name": "ProgressStyleModel",
            "description_width": "initial",
            "_view_module": "@jupyter-widgets/base",
            "_model_module_version": "1.5.0",
            "_view_count": null,
            "_view_module_version": "1.2.0",
            "bar_color": null,
            "_model_module": "@jupyter-widgets/controls"
          }
        },
        "4e5a9dd12bae4cc9ba46e89d5a5d557e": {
          "model_module": "@jupyter-widgets/base",
          "model_name": "LayoutModel",
          "state": {
            "_view_name": "LayoutView",
            "grid_template_rows": null,
            "right": null,
            "justify_content": null,
            "_view_module": "@jupyter-widgets/base",
            "overflow": null,
            "_model_module_version": "1.2.0",
            "_view_count": null,
            "flex_flow": null,
            "width": null,
            "min_width": null,
            "border": null,
            "align_items": null,
            "bottom": null,
            "_model_module": "@jupyter-widgets/base",
            "top": null,
            "grid_column": null,
            "overflow_y": null,
            "overflow_x": null,
            "grid_auto_flow": null,
            "grid_area": null,
            "grid_template_columns": null,
            "flex": null,
            "_model_name": "LayoutModel",
            "justify_items": null,
            "grid_row": null,
            "max_height": null,
            "align_content": null,
            "visibility": null,
            "align_self": null,
            "height": null,
            "min_height": null,
            "padding": null,
            "grid_auto_rows": null,
            "grid_gap": null,
            "max_width": null,
            "order": null,
            "_view_module_version": "1.2.0",
            "grid_template_areas": null,
            "object_position": null,
            "object_fit": null,
            "grid_auto_columns": null,
            "margin": null,
            "display": null,
            "left": null
          }
        },
        "ce589667c206440fb4bd6d8d575833ab": {
          "model_module": "@jupyter-widgets/controls",
          "model_name": "DescriptionStyleModel",
          "state": {
            "_view_name": "StyleView",
            "_model_name": "DescriptionStyleModel",
            "description_width": "",
            "_view_module": "@jupyter-widgets/base",
            "_model_module_version": "1.5.0",
            "_view_count": null,
            "_view_module_version": "1.2.0",
            "_model_module": "@jupyter-widgets/controls"
          }
        },
        "93908a3eeb9e40549f4901ff9ba6f60f": {
          "model_module": "@jupyter-widgets/base",
          "model_name": "LayoutModel",
          "state": {
            "_view_name": "LayoutView",
            "grid_template_rows": null,
            "right": null,
            "justify_content": null,
            "_view_module": "@jupyter-widgets/base",
            "overflow": null,
            "_model_module_version": "1.2.0",
            "_view_count": null,
            "flex_flow": null,
            "width": null,
            "min_width": null,
            "border": null,
            "align_items": null,
            "bottom": null,
            "_model_module": "@jupyter-widgets/base",
            "top": null,
            "grid_column": null,
            "overflow_y": null,
            "overflow_x": null,
            "grid_auto_flow": null,
            "grid_area": null,
            "grid_template_columns": null,
            "flex": null,
            "_model_name": "LayoutModel",
            "justify_items": null,
            "grid_row": null,
            "max_height": null,
            "align_content": null,
            "visibility": null,
            "align_self": null,
            "height": null,
            "min_height": null,
            "padding": null,
            "grid_auto_rows": null,
            "grid_gap": null,
            "max_width": null,
            "order": null,
            "_view_module_version": "1.2.0",
            "grid_template_areas": null,
            "object_position": null,
            "object_fit": null,
            "grid_auto_columns": null,
            "margin": null,
            "display": null,
            "left": null
          }
        },
        "c90ee82c512144878cdad22a4905f47a": {
          "model_module": "@jupyter-widgets/controls",
          "model_name": "HBoxModel",
          "state": {
            "_view_name": "HBoxView",
            "_dom_classes": [],
            "_model_name": "HBoxModel",
            "_view_module": "@jupyter-widgets/controls",
            "_model_module_version": "1.5.0",
            "_view_count": null,
            "_view_module_version": "1.5.0",
            "box_style": "",
            "layout": "IPY_MODEL_2caaf80b6e79404f865896d4bd03bb5f",
            "_model_module": "@jupyter-widgets/controls",
            "children": [
              "IPY_MODEL_cc0d375527ea4109afa36fc701ae3f85",
              "IPY_MODEL_90c406c497224f19a5f5dc5d08bc5547"
            ]
          }
        },
        "2caaf80b6e79404f865896d4bd03bb5f": {
          "model_module": "@jupyter-widgets/base",
          "model_name": "LayoutModel",
          "state": {
            "_view_name": "LayoutView",
            "grid_template_rows": null,
            "right": null,
            "justify_content": null,
            "_view_module": "@jupyter-widgets/base",
            "overflow": null,
            "_model_module_version": "1.2.0",
            "_view_count": null,
            "flex_flow": null,
            "width": null,
            "min_width": null,
            "border": null,
            "align_items": null,
            "bottom": null,
            "_model_module": "@jupyter-widgets/base",
            "top": null,
            "grid_column": null,
            "overflow_y": null,
            "overflow_x": null,
            "grid_auto_flow": null,
            "grid_area": null,
            "grid_template_columns": null,
            "flex": null,
            "_model_name": "LayoutModel",
            "justify_items": null,
            "grid_row": null,
            "max_height": null,
            "align_content": null,
            "visibility": null,
            "align_self": null,
            "height": null,
            "min_height": null,
            "padding": null,
            "grid_auto_rows": null,
            "grid_gap": null,
            "max_width": null,
            "order": null,
            "_view_module_version": "1.2.0",
            "grid_template_areas": null,
            "object_position": null,
            "object_fit": null,
            "grid_auto_columns": null,
            "margin": null,
            "display": null,
            "left": null
          }
        },
        "cc0d375527ea4109afa36fc701ae3f85": {
          "model_module": "@jupyter-widgets/controls",
          "model_name": "FloatProgressModel",
          "state": {
            "_view_name": "ProgressView",
            "style": "IPY_MODEL_74afff7cd97a4aab8617337702bbdac4",
            "_dom_classes": [],
            "description": "  0%",
            "_model_name": "FloatProgressModel",
            "bar_style": "danger",
            "max": 400,
            "_view_module": "@jupyter-widgets/controls",
            "_model_module_version": "1.5.0",
            "value": 0,
            "_view_count": null,
            "_view_module_version": "1.5.0",
            "orientation": "horizontal",
            "min": 0,
            "description_tooltip": null,
            "_model_module": "@jupyter-widgets/controls",
            "layout": "IPY_MODEL_61e87fb401204740976d4119b3e6fda1"
          }
        },
        "90c406c497224f19a5f5dc5d08bc5547": {
          "model_module": "@jupyter-widgets/controls",
          "model_name": "HTMLModel",
          "state": {
            "_view_name": "HTMLView",
            "style": "IPY_MODEL_c4f547c735ca4b4faac79a966ac6ed12",
            "_dom_classes": [],
            "description": "",
            "_model_name": "HTMLModel",
            "placeholder": "​",
            "_view_module": "@jupyter-widgets/controls",
            "_model_module_version": "1.5.0",
            "value": " 0/400 [04:18&lt;?, ?it/s]",
            "_view_count": null,
            "_view_module_version": "1.5.0",
            "description_tooltip": null,
            "_model_module": "@jupyter-widgets/controls",
            "layout": "IPY_MODEL_7a4aedd7631c4d48975dd9f368df7177"
          }
        },
        "74afff7cd97a4aab8617337702bbdac4": {
          "model_module": "@jupyter-widgets/controls",
          "model_name": "ProgressStyleModel",
          "state": {
            "_view_name": "StyleView",
            "_model_name": "ProgressStyleModel",
            "description_width": "initial",
            "_view_module": "@jupyter-widgets/base",
            "_model_module_version": "1.5.0",
            "_view_count": null,
            "_view_module_version": "1.2.0",
            "bar_color": null,
            "_model_module": "@jupyter-widgets/controls"
          }
        },
        "61e87fb401204740976d4119b3e6fda1": {
          "model_module": "@jupyter-widgets/base",
          "model_name": "LayoutModel",
          "state": {
            "_view_name": "LayoutView",
            "grid_template_rows": null,
            "right": null,
            "justify_content": null,
            "_view_module": "@jupyter-widgets/base",
            "overflow": null,
            "_model_module_version": "1.2.0",
            "_view_count": null,
            "flex_flow": null,
            "width": null,
            "min_width": null,
            "border": null,
            "align_items": null,
            "bottom": null,
            "_model_module": "@jupyter-widgets/base",
            "top": null,
            "grid_column": null,
            "overflow_y": null,
            "overflow_x": null,
            "grid_auto_flow": null,
            "grid_area": null,
            "grid_template_columns": null,
            "flex": null,
            "_model_name": "LayoutModel",
            "justify_items": null,
            "grid_row": null,
            "max_height": null,
            "align_content": null,
            "visibility": null,
            "align_self": null,
            "height": null,
            "min_height": null,
            "padding": null,
            "grid_auto_rows": null,
            "grid_gap": null,
            "max_width": null,
            "order": null,
            "_view_module_version": "1.2.0",
            "grid_template_areas": null,
            "object_position": null,
            "object_fit": null,
            "grid_auto_columns": null,
            "margin": null,
            "display": null,
            "left": null
          }
        },
        "c4f547c735ca4b4faac79a966ac6ed12": {
          "model_module": "@jupyter-widgets/controls",
          "model_name": "DescriptionStyleModel",
          "state": {
            "_view_name": "StyleView",
            "_model_name": "DescriptionStyleModel",
            "description_width": "",
            "_view_module": "@jupyter-widgets/base",
            "_model_module_version": "1.5.0",
            "_view_count": null,
            "_view_module_version": "1.2.0",
            "_model_module": "@jupyter-widgets/controls"
          }
        },
        "7a4aedd7631c4d48975dd9f368df7177": {
          "model_module": "@jupyter-widgets/base",
          "model_name": "LayoutModel",
          "state": {
            "_view_name": "LayoutView",
            "grid_template_rows": null,
            "right": null,
            "justify_content": null,
            "_view_module": "@jupyter-widgets/base",
            "overflow": null,
            "_model_module_version": "1.2.0",
            "_view_count": null,
            "flex_flow": null,
            "width": null,
            "min_width": null,
            "border": null,
            "align_items": null,
            "bottom": null,
            "_model_module": "@jupyter-widgets/base",
            "top": null,
            "grid_column": null,
            "overflow_y": null,
            "overflow_x": null,
            "grid_auto_flow": null,
            "grid_area": null,
            "grid_template_columns": null,
            "flex": null,
            "_model_name": "LayoutModel",
            "justify_items": null,
            "grid_row": null,
            "max_height": null,
            "align_content": null,
            "visibility": null,
            "align_self": null,
            "height": null,
            "min_height": null,
            "padding": null,
            "grid_auto_rows": null,
            "grid_gap": null,
            "max_width": null,
            "order": null,
            "_view_module_version": "1.2.0",
            "grid_template_areas": null,
            "object_position": null,
            "object_fit": null,
            "grid_auto_columns": null,
            "margin": null,
            "display": null,
            "left": null
          }
        }
      }
    }
  },
  "cells": [
    {
      "cell_type": "markdown",
      "metadata": {
        "id": "view-in-github",
        "colab_type": "text"
      },
      "source": [
        "<a href=\"https://colab.research.google.com/github/shivammehta007/Information-Retrieval/blob/master/RankingIntermediateChanges.ipynb\" target=\"_parent\"><img src=\"https://colab.research.google.com/assets/colab-badge.svg\" alt=\"Open In Colab\"/></a>"
      ]
    },
    {
      "cell_type": "markdown",
      "metadata": {
        "id": "DXrlHszYAA-W",
        "colab_type": "text"
      },
      "source": [
        "# Application of ML in Ranking"
      ]
    },
    {
      "cell_type": "markdown",
      "metadata": {
        "id": "NB4Cq_51AKTa",
        "colab_type": "text"
      },
      "source": [
        "# Application of ML in Ranking of Search Engines"
      ]
    },
    {
      "cell_type": "markdown",
      "metadata": {
        "id": "dxVYBQ9tDrAq",
        "colab_type": "text"
      },
      "source": [
        "## Downloading Data From Kaggle\n",
        "#### Might Take a while"
      ]
    },
    {
      "cell_type": "code",
      "metadata": {
        "id": "NXmYVxMwAKlG",
        "colab_type": "code",
        "outputId": "c539e80f-699f-40bf-e4d2-46624d75124e",
        "colab": {
          "base_uri": "https://localhost:8080/"
        }
      },
      "source": [
        "from google.colab import drive\n",
        "drive.mount('/content/drive', force_remount=True)"
      ],
      "execution_count": 5,
      "outputs": [
        {
          "output_type": "stream",
          "text": [
            "Mounted at /content/drive\n"
          ],
          "name": "stdout"
        }
      ]
    },
    {
      "cell_type": "code",
      "metadata": {
        "id": "UgE7bVar-3PR",
        "colab_type": "code",
        "outputId": "471826a5-4a92-4cf1-ac49-d6a259661c93",
        "colab": {
          "base_uri": "https://localhost:8080/"
        }
      },
      "source": [
        "# Download Data\n",
        "!pip install kaggle\n",
        "import json\n",
        "import os\n",
        "from pprint import pprint\n",
        "\n",
        "with open('/content/drive/My Drive/kaggle.json') as kc:\n",
        "    kaggle_config = json.load(kc)\n",
        "\n",
        "os.environ['KAGGLE_USERNAME'] = kaggle_config['username'] \n",
        "os.environ['KAGGLE_KEY'] = kaggle_config['key'] \n",
        "\n",
        "# !kaggle competitions download -c text-relevance-competition-ir-2-itmo-fall-2019\n",
        "# !unzip docs.tsv.zip\n",
        "# !rm docs.tsv.zip"
      ],
      "execution_count": 2,
      "outputs": [
        {
          "output_type": "stream",
          "text": [
            "Requirement already satisfied: kaggle in /usr/local/lib/python3.6/dist-packages (1.5.6)\n",
            "Requirement already satisfied: certifi in /usr/local/lib/python3.6/dist-packages (from kaggle) (2019.11.28)\n",
            "Requirement already satisfied: python-dateutil in /usr/local/lib/python3.6/dist-packages (from kaggle) (2.6.1)\n",
            "Requirement already satisfied: tqdm in /usr/local/lib/python3.6/dist-packages (from kaggle) (4.41.1)\n",
            "Requirement already satisfied: urllib3<1.25,>=1.21.1 in /usr/local/lib/python3.6/dist-packages (from kaggle) (1.24.3)\n",
            "Requirement already satisfied: requests in /usr/local/lib/python3.6/dist-packages (from kaggle) (2.21.0)\n",
            "Requirement already satisfied: six>=1.10 in /usr/local/lib/python3.6/dist-packages (from kaggle) (1.12.0)\n",
            "Requirement already satisfied: python-slugify in /usr/local/lib/python3.6/dist-packages (from kaggle) (4.0.0)\n",
            "Requirement already satisfied: chardet<3.1.0,>=3.0.2 in /usr/local/lib/python3.6/dist-packages (from requests->kaggle) (3.0.4)\n",
            "Requirement already satisfied: idna<2.9,>=2.5 in /usr/local/lib/python3.6/dist-packages (from requests->kaggle) (2.8)\n",
            "Requirement already satisfied: text-unidecode>=1.3 in /usr/local/lib/python3.6/dist-packages (from python-slugify->kaggle) (1.3)\n"
          ],
          "name": "stdout"
        }
      ]
    },
    {
      "cell_type": "markdown",
      "metadata": {
        "id": "B5_6nqBCD04I",
        "colab_type": "text"
      },
      "source": [
        "## Code"
      ]
    },
    {
      "cell_type": "code",
      "metadata": {
        "id": "Qt9i5ism_42a",
        "colab_type": "code",
        "colab": {
          "base_uri": "https://localhost:8080/"
        },
        "outputId": "01a9daba-efc5-4e44-86c3-4ef15b8e1129"
      },
      "source": [
        "!pip install -U tqdm\n",
        "!pip install rank_bm25\n",
        "import os\n",
        "import gzip\n",
        "import nltk\n",
        "import random\n",
        "import pickle\n",
        "import pandas as pd\n",
        "import logging\n",
        "import itertools\n",
        "import re\n",
        "import time\n",
        "\n",
        "import numpy as np\n",
        "import pandas as pd\n",
        "\n",
        "from rank_bm25 import BM25Okapi\n",
        "\n",
        "from nltk.corpus import stopwords\n",
        "nltk.download(\"stopwords\")\n",
        "\n",
        "from string import punctuation\n",
        "from collections import defaultdict\n",
        "from collections import OrderedDict\n",
        "from tqdm.notebook import tqdm\n",
        "\n",
        "logging.basicConfig(level=logging.DEBUG)\n",
        "logging.debug('Test Logger')"
      ],
      "execution_count": 3,
      "outputs": [
        {
          "output_type": "stream",
          "text": [
            "Requirement already up-to-date: tqdm in /usr/local/lib/python3.6/dist-packages (4.41.1)\n",
            "Requirement already satisfied: rank_bm25 in /usr/local/lib/python3.6/dist-packages (0.2)\n",
            "Requirement already satisfied: numpy in /usr/local/lib/python3.6/dist-packages (from rank_bm25) (1.17.4)\n"
          ],
          "name": "stdout"
        },
        {
          "output_type": "stream",
          "text": [
            "DEBUG:root:Test Logger\n"
          ],
          "name": "stderr"
        },
        {
          "output_type": "stream",
          "text": [
            "[nltk_data] Downloading package stopwords to /root/nltk_data...\n",
            "[nltk_data]   Package stopwords is already up-to-date!\n"
          ],
          "name": "stdout"
        }
      ]
    },
    {
      "cell_type": "code",
      "metadata": {
        "id": "KUDH6FM1-56w",
        "colab_type": "code",
        "colab": {}
      },
      "source": [
        "indexing_data_location = '/content/docs.tsv'\n",
        "queries_list = '/content/queries.numerate.txt'\n",
        "db_directory_name = 'database'"
      ],
      "execution_count": 0,
      "outputs": []
    },
    {
      "cell_type": "markdown",
      "metadata": {
        "id": "uhJDD975sqIG",
        "colab_type": "text"
      },
      "source": [
        "### Convert Docs from memory load to IO operations"
      ]
    },
    {
      "cell_type": "code",
      "metadata": {
        "id": "cs6Pu1a2soKn",
        "colab_type": "code",
        "colab": {}
      },
      "source": [
        "# database = pd.read_csv(indexing_data_location, sep='\\t', header=None,\n",
        "#                        names=['id', 'subject', 'content'],\n",
        "#                        dtype = {'id': int,'subject': str,\n",
        "#                             'content': str})"
      ],
      "execution_count": 0,
      "outputs": []
    },
    {
      "cell_type": "code",
      "metadata": {
        "id": "d77oKgLHtCvE",
        "colab_type": "code",
        "colab": {}
      },
      "source": [
        "# os.mkdir(db_directory_name)"
      ],
      "execution_count": 0,
      "outputs": []
    },
    {
      "cell_type": "code",
      "metadata": {
        "id": "NvBu8bKqszou",
        "colab_type": "code",
        "outputId": "6f533b9a-062c-4ba2-88ce-95ee56a2e942",
        "colab": {
          "base_uri": "https://localhost:8080/",
          "height": 66,
          "referenced_widgets": [
            "1790cdc6d53540059cf52c18866edc3b",
            "b0a84c3f554745559ff7ab66508125d9",
            "34a94e480c3644f4bbaeccd6b97623e4",
            "158dc0bfa76f459f8d6ad24e171f069b",
            "6cbec07e5a754f64883c381afa9d68f9",
            "9e185296c7b04e1798f3573bd6c1e6f3",
            "311eebcb5ba6420d80284fa1682313be",
            "80eaca492f8b4849bcc33295ad4f881a"
          ]
        }
      },
      "source": [
        "# with open(indexing_data_location, \"rb\") as f:\n",
        "#             for line in tqdm(f):\n",
        "#                 line = line.decode().split('\\t')\n",
        "#                 file_number = line[0]\n",
        "#                 subject = line[1]\n",
        "#                 text = line[2]\n",
        "#                 line = subject + ' ' + text\n",
        "#                 with open(os.path.join(db_directory_name, file_number), 'w') as output:\n",
        "#                     output.write(line)"
      ],
      "execution_count": 0,
      "outputs": [
        {
          "output_type": "display_data",
          "data": {
            "application/vnd.jupyter.widget-view+json": {
              "model_id": "1790cdc6d53540059cf52c18866edc3b",
              "version_minor": 0,
              "version_major": 2
            },
            "text/plain": [
              "HBox(children=(FloatProgress(value=1.0, bar_style='info', max=1.0), HTML(value='')))"
            ]
          },
          "metadata": {
            "tags": []
          }
        },
        {
          "output_type": "stream",
          "text": [
            "\n"
          ],
          "name": "stdout"
        }
      ]
    },
    {
      "cell_type": "markdown",
      "metadata": {
        "id": "fnw4CtnZGdLR",
        "colab_type": "text"
      },
      "source": [
        "### Building Inverted Index"
      ]
    },
    {
      "cell_type": "markdown",
      "metadata": {
        "id": "U-LH8zk9GhMT",
        "colab_type": "text"
      },
      "source": [
        "#### Inverted Indexer Class"
      ]
    },
    {
      "cell_type": "code",
      "metadata": {
        "id": "nZvW93v-GXEz",
        "colab_type": "code",
        "colab": {}
      },
      "source": [
        "class InvertedIndexer:\n",
        "    \"\"\"\n",
        "    This class makes inverted index\n",
        "    \"\"\"\n",
        "\n",
        "    def __init__(self, filename=False):\n",
        "        self.filename = filename\n",
        "        self.stemmer_ru = nltk.SnowballStemmer(\"russian\")\n",
        "        self.stopwords = set(stopwords.words(\"russian\")) | set(stopwords.words(\"english\"))\n",
        "        self.punctuation = punctuation # from string import punctuation\n",
        "        if filename:\n",
        "            self.inverted_index = self._build_index(self.filename)\n",
        "        else:\n",
        "            self.inverted_index = defaultdict(set)\n",
        "\n",
        "    def preprocess(self, sentence):\n",
        "        \"\"\"\n",
        "        Method to remove stop words and punctuations return tokens\n",
        "        \"\"\"\n",
        "        NONTEXT = re.compile('[^0-9 a-z#+_а-яё]')\n",
        "\n",
        "        sentence = sentence.lower()\n",
        "        sentence = sentence.translate(str.maketrans('', '', punctuation))\n",
        "        sentence = re.sub(NONTEXT,'',sentence)\n",
        "\n",
        "        # Heavy Operation Taking lot of time will move it outside\n",
        "        # tokens = [self.stemmer_ru.stem(word) for word in sentence.split()]\n",
        "\n",
        "        tokens = [token for token in sentence.split() if token not in self.stopwords]\n",
        "\n",
        "        return tokens\n",
        "\n",
        "    def stem_keys(self, inverted_index):\n",
        "        \"\"\"\n",
        "        Called after index is built to stem all the keys and normalize them\n",
        "        \"\"\"\n",
        "        logging.debug('Indexing Complete will not Stem keys and remap indexes')\n",
        "        temp_dict = defaultdict(set)\n",
        "        i = 0\n",
        "        for word in tqdm(inverted_index):\n",
        "\n",
        "            stemmed_key = self.stemmer_ru.stem(word)\n",
        "            temp_dict[stemmed_key].update(inverted_index[word])\n",
        "            inverted_index[word] = None\n",
        "\n",
        "        inverted_index = temp_dict\n",
        "        logging.debug('Done Stemmping Indexes')\n",
        "        return inverted_index\n",
        "\n",
        "    def _build_index(self, indexing_data_location):\n",
        "        \"\"\"\n",
        "        This method builds the inverted index and returns the invrted index dictionary\n",
        "        \"\"\"\n",
        "        inverted_index = defaultdict(set)\n",
        "        with open(indexing_data_location, \"rb\") as f:\n",
        "            for line in tqdm(f):\n",
        "                line = line.decode().split('\\t')\n",
        "                file_number = line[0]\n",
        "                subject = line[1]\n",
        "                text = line[2]\n",
        "                line = subject + ' ' + text\n",
        "\n",
        "                for word in self.preprocess(line):\n",
        "                        inverted_index[word].add(int(file_number))\n",
        "\n",
        "        inverted_index = self.stem_keys(inverted_index)\n",
        "\n",
        "        return inverted_index\n",
        "\n",
        "    def save(self, filename_to_save):\n",
        "        \"\"\"\n",
        "        Save method to save the inverted indexes\n",
        "        \"\"\"\n",
        "        with open(filename_to_save, mode='wb') as f:\n",
        "            pickle.dump(self.inverted_index, f)\n",
        "\n",
        "    def load(self, filelocation_to_load):\n",
        "        \"\"\"\n",
        "        Load method to load the inverted indexes\n",
        "        \"\"\"\n",
        "        with open(filelocation_to_load, mode='rb') as f:\n",
        "            self.inverted_index = pickle.load(f)"
      ],
      "execution_count": 0,
      "outputs": []
    },
    {
      "cell_type": "markdown",
      "metadata": {
        "id": "vXQMVmKdGkmV",
        "colab_type": "text"
      },
      "source": [
        "#### SolutionPredictor Class"
      ]
    },
    {
      "cell_type": "code",
      "metadata": {
        "id": "uvlVal49GpD2",
        "colab_type": "code",
        "colab": {}
      },
      "source": [
        "class SolutionPredictor:\n",
        "    \"\"\"\n",
        "    This classes uses object of Hw1SolutionIndexer\n",
        "    to make boolean search\n",
        "    \"\"\"\n",
        "    def __init__(self, indexer):\n",
        "        \"\"\"\n",
        "        indexer : object of class Hw1SolutionIndexer\n",
        "        \"\"\"\n",
        "        self.indexer = indexer\n",
        "\n",
        "\n",
        "    def find_docs(self, query):\n",
        "        \"\"\"\n",
        "        This method provides booleaen search\n",
        "        query : string with text of query\n",
        "        Returns Python set with documents which contain query words\n",
        "        Should return maximum 100 docs\n",
        "        \"\"\"\n",
        "        tokens = self.indexer.preprocess(query)\n",
        "        tokens = [self.indexer.stemmer_ru.stem(word) for word in tokens]\n",
        "        docs_list = set()\n",
        "        for word in tokens:\n",
        "            if len(docs_list) > 0:\n",
        "                docs_list.intersection_update(self.indexer.inverted_index[word]) # changed from intersection_update\n",
        "            else:\n",
        "                docs_list.update(self.indexer.inverted_index[word])\n",
        "        \n",
        "        # Handling case when no set is returned by intersection\n",
        "        # if len(docs_list) < 10:\n",
        "        #     for word in tokens:\n",
        "        #         docs_list.update(self.indexer.inverted_index[word]) # changed from intersection_update\n",
        "\n",
        "        return docs_list"
      ],
      "execution_count": 0,
      "outputs": []
    },
    {
      "cell_type": "markdown",
      "metadata": {
        "id": "S0J9P0DwG17E",
        "colab_type": "text"
      },
      "source": [
        "#### Generate Index \n",
        "Run Only when Index is not generated Otherwise use the Loading code block"
      ]
    },
    {
      "cell_type": "code",
      "metadata": {
        "id": "qP_FPH13GrU6",
        "colab_type": "code",
        "outputId": "7a8731c0-5a7b-4e17-a822-a057031ea3c4",
        "colab": {
          "base_uri": "https://localhost:8080/",
          "height": 444,
          "referenced_widgets": [
            "a73d2f85f1ab4790aada362770a79c26",
            "9762cb6dc3ba4992a9a7b921dc01df94",
            "a21ab3ccd5d947d3b70553c6748ce02f",
            "5db96a095dff4416a6e3256a2941d466",
            "7ff7359f3e474448aa07bfde7c438a18",
            "e6261e8352454e858ff5e1c81fe7d828",
            "0efbac92fafc4296a670cd4f3e187ca8",
            "9345e617bd0242c8a20e6f35ac396f2a"
          ]
        }
      },
      "source": [
        "logging.debug('Index is creating...')\n",
        "start = time.time()\n",
        "new_index = InvertedIndexer(indexing_data_location) \n",
        "end = time.time()\n",
        "logging.debug('Index has been created and saved as inverted_index.pickle in {:.4f}s'.format(end-start))"
      ],
      "execution_count": 0,
      "outputs": [
        {
          "output_type": "stream",
          "text": [
            "DEBUG:root:Index is creating...\n"
          ],
          "name": "stderr"
        },
        {
          "output_type": "display_data",
          "data": {
            "application/vnd.jupyter.widget-view+json": {
              "model_id": "a73d2f85f1ab4790aada362770a79c26",
              "version_minor": 0,
              "version_major": 2
            },
            "text/plain": [
              "HBox(children=(FloatProgress(value=1.0, bar_style='info', max=1.0), HTML(value='')))"
            ]
          },
          "metadata": {
            "tags": []
          }
        },
        {
          "output_type": "error",
          "ename": "KeyboardInterrupt",
          "evalue": "ignored",
          "traceback": [
            "\u001b[0;31m---------------------------------------------------------------------------\u001b[0m",
            "\u001b[0;31mKeyboardInterrupt\u001b[0m                         Traceback (most recent call last)",
            "\u001b[0;32m<ipython-input-7-d151b94f4025>\u001b[0m in \u001b[0;36m<module>\u001b[0;34m()\u001b[0m\n\u001b[1;32m      1\u001b[0m \u001b[0mlogging\u001b[0m\u001b[0;34m.\u001b[0m\u001b[0mdebug\u001b[0m\u001b[0;34m(\u001b[0m\u001b[0;34m'Index is creating...'\u001b[0m\u001b[0;34m)\u001b[0m\u001b[0;34m\u001b[0m\u001b[0;34m\u001b[0m\u001b[0m\n\u001b[1;32m      2\u001b[0m \u001b[0mstart\u001b[0m \u001b[0;34m=\u001b[0m \u001b[0mtime\u001b[0m\u001b[0;34m.\u001b[0m\u001b[0mtime\u001b[0m\u001b[0;34m(\u001b[0m\u001b[0;34m)\u001b[0m\u001b[0;34m\u001b[0m\u001b[0;34m\u001b[0m\u001b[0m\n\u001b[0;32m----> 3\u001b[0;31m \u001b[0mnew_index\u001b[0m \u001b[0;34m=\u001b[0m \u001b[0mInvertedIndexer\u001b[0m\u001b[0;34m(\u001b[0m\u001b[0mindexing_data_location\u001b[0m\u001b[0;34m)\u001b[0m\u001b[0;34m\u001b[0m\u001b[0;34m\u001b[0m\u001b[0m\n\u001b[0m\u001b[1;32m      4\u001b[0m \u001b[0mend\u001b[0m \u001b[0;34m=\u001b[0m \u001b[0mtime\u001b[0m\u001b[0;34m.\u001b[0m\u001b[0mtime\u001b[0m\u001b[0;34m(\u001b[0m\u001b[0;34m)\u001b[0m\u001b[0;34m\u001b[0m\u001b[0;34m\u001b[0m\u001b[0m\n\u001b[1;32m      5\u001b[0m \u001b[0mlogging\u001b[0m\u001b[0;34m.\u001b[0m\u001b[0mdebug\u001b[0m\u001b[0;34m(\u001b[0m\u001b[0;34m'Index has been created and saved as inverted_index.pickle in {:.4f}s'\u001b[0m\u001b[0;34m.\u001b[0m\u001b[0mformat\u001b[0m\u001b[0;34m(\u001b[0m\u001b[0mend\u001b[0m\u001b[0;34m-\u001b[0m\u001b[0mstart\u001b[0m\u001b[0;34m)\u001b[0m\u001b[0;34m)\u001b[0m\u001b[0;34m\u001b[0m\u001b[0;34m\u001b[0m\u001b[0m\n",
            "\u001b[0;32m<ipython-input-5-1f31a6e3f3d5>\u001b[0m in \u001b[0;36m__init__\u001b[0;34m(self, filename)\u001b[0m\n\u001b[1;32m     10\u001b[0m         \u001b[0mself\u001b[0m\u001b[0;34m.\u001b[0m\u001b[0mpunctuation\u001b[0m \u001b[0;34m=\u001b[0m \u001b[0mpunctuation\u001b[0m \u001b[0;31m# from string import punctuation\u001b[0m\u001b[0;34m\u001b[0m\u001b[0;34m\u001b[0m\u001b[0m\n\u001b[1;32m     11\u001b[0m         \u001b[0;32mif\u001b[0m \u001b[0mfilename\u001b[0m\u001b[0;34m:\u001b[0m\u001b[0;34m\u001b[0m\u001b[0;34m\u001b[0m\u001b[0m\n\u001b[0;32m---> 12\u001b[0;31m             \u001b[0mself\u001b[0m\u001b[0;34m.\u001b[0m\u001b[0minverted_index\u001b[0m \u001b[0;34m=\u001b[0m \u001b[0mself\u001b[0m\u001b[0;34m.\u001b[0m\u001b[0m_build_index\u001b[0m\u001b[0;34m(\u001b[0m\u001b[0mself\u001b[0m\u001b[0;34m.\u001b[0m\u001b[0mfilename\u001b[0m\u001b[0;34m)\u001b[0m\u001b[0;34m\u001b[0m\u001b[0;34m\u001b[0m\u001b[0m\n\u001b[0m\u001b[1;32m     13\u001b[0m         \u001b[0;32melse\u001b[0m\u001b[0;34m:\u001b[0m\u001b[0;34m\u001b[0m\u001b[0;34m\u001b[0m\u001b[0m\n\u001b[1;32m     14\u001b[0m             \u001b[0mself\u001b[0m\u001b[0;34m.\u001b[0m\u001b[0minverted_index\u001b[0m \u001b[0;34m=\u001b[0m \u001b[0mdefaultdict\u001b[0m\u001b[0;34m(\u001b[0m\u001b[0mset\u001b[0m\u001b[0;34m)\u001b[0m\u001b[0;34m\u001b[0m\u001b[0;34m\u001b[0m\u001b[0m\n",
            "\u001b[0;32m<ipython-input-5-1f31a6e3f3d5>\u001b[0m in \u001b[0;36m_build_index\u001b[0;34m(self, indexing_data_location)\u001b[0m\n\u001b[1;32m     61\u001b[0m                 \u001b[0mline\u001b[0m \u001b[0;34m=\u001b[0m \u001b[0msubject\u001b[0m \u001b[0;34m+\u001b[0m \u001b[0;34m' '\u001b[0m \u001b[0;34m+\u001b[0m \u001b[0mtext\u001b[0m\u001b[0;34m\u001b[0m\u001b[0;34m\u001b[0m\u001b[0m\n\u001b[1;32m     62\u001b[0m \u001b[0;34m\u001b[0m\u001b[0m\n\u001b[0;32m---> 63\u001b[0;31m                 \u001b[0;32mfor\u001b[0m \u001b[0mword\u001b[0m \u001b[0;32min\u001b[0m \u001b[0mself\u001b[0m\u001b[0;34m.\u001b[0m\u001b[0mpreprocess\u001b[0m\u001b[0;34m(\u001b[0m\u001b[0mline\u001b[0m\u001b[0;34m)\u001b[0m\u001b[0;34m:\u001b[0m\u001b[0;34m\u001b[0m\u001b[0;34m\u001b[0m\u001b[0m\n\u001b[0m\u001b[1;32m     64\u001b[0m                         \u001b[0minverted_index\u001b[0m\u001b[0;34m[\u001b[0m\u001b[0mword\u001b[0m\u001b[0;34m]\u001b[0m\u001b[0;34m.\u001b[0m\u001b[0madd\u001b[0m\u001b[0;34m(\u001b[0m\u001b[0mint\u001b[0m\u001b[0;34m(\u001b[0m\u001b[0mfile_number\u001b[0m\u001b[0;34m)\u001b[0m\u001b[0;34m)\u001b[0m\u001b[0;34m\u001b[0m\u001b[0;34m\u001b[0m\u001b[0m\n\u001b[1;32m     65\u001b[0m \u001b[0;34m\u001b[0m\u001b[0m\n",
            "\u001b[0;32m<ipython-input-5-1f31a6e3f3d5>\u001b[0m in \u001b[0;36mpreprocess\u001b[0;34m(self, sentence)\u001b[0m\n\u001b[1;32m     27\u001b[0m         \u001b[0;31m# tokens = [self.stemmer_ru.stem(word) for word in sentence.split()]\u001b[0m\u001b[0;34m\u001b[0m\u001b[0;34m\u001b[0m\u001b[0;34m\u001b[0m\u001b[0m\n\u001b[1;32m     28\u001b[0m \u001b[0;34m\u001b[0m\u001b[0m\n\u001b[0;32m---> 29\u001b[0;31m         \u001b[0mtokens\u001b[0m \u001b[0;34m=\u001b[0m \u001b[0;34m[\u001b[0m\u001b[0mtoken\u001b[0m \u001b[0;32mfor\u001b[0m \u001b[0mtoken\u001b[0m \u001b[0;32min\u001b[0m \u001b[0msentence\u001b[0m\u001b[0;34m.\u001b[0m\u001b[0msplit\u001b[0m\u001b[0;34m(\u001b[0m\u001b[0;34m)\u001b[0m \u001b[0;32mif\u001b[0m \u001b[0mtoken\u001b[0m \u001b[0;32mnot\u001b[0m \u001b[0;32min\u001b[0m \u001b[0mself\u001b[0m\u001b[0;34m.\u001b[0m\u001b[0mstopwords\u001b[0m\u001b[0;34m]\u001b[0m\u001b[0;34m\u001b[0m\u001b[0;34m\u001b[0m\u001b[0m\n\u001b[0m\u001b[1;32m     30\u001b[0m \u001b[0;34m\u001b[0m\u001b[0m\n\u001b[1;32m     31\u001b[0m         \u001b[0;32mreturn\u001b[0m \u001b[0mtokens\u001b[0m\u001b[0;34m\u001b[0m\u001b[0;34m\u001b[0m\u001b[0m\n",
            "\u001b[0;32m<ipython-input-5-1f31a6e3f3d5>\u001b[0m in \u001b[0;36m<listcomp>\u001b[0;34m(.0)\u001b[0m\n\u001b[1;32m     27\u001b[0m         \u001b[0;31m# tokens = [self.stemmer_ru.stem(word) for word in sentence.split()]\u001b[0m\u001b[0;34m\u001b[0m\u001b[0;34m\u001b[0m\u001b[0;34m\u001b[0m\u001b[0m\n\u001b[1;32m     28\u001b[0m \u001b[0;34m\u001b[0m\u001b[0m\n\u001b[0;32m---> 29\u001b[0;31m         \u001b[0mtokens\u001b[0m \u001b[0;34m=\u001b[0m \u001b[0;34m[\u001b[0m\u001b[0mtoken\u001b[0m \u001b[0;32mfor\u001b[0m \u001b[0mtoken\u001b[0m \u001b[0;32min\u001b[0m \u001b[0msentence\u001b[0m\u001b[0;34m.\u001b[0m\u001b[0msplit\u001b[0m\u001b[0;34m(\u001b[0m\u001b[0;34m)\u001b[0m \u001b[0;32mif\u001b[0m \u001b[0mtoken\u001b[0m \u001b[0;32mnot\u001b[0m \u001b[0;32min\u001b[0m \u001b[0mself\u001b[0m\u001b[0;34m.\u001b[0m\u001b[0mstopwords\u001b[0m\u001b[0;34m]\u001b[0m\u001b[0;34m\u001b[0m\u001b[0;34m\u001b[0m\u001b[0m\n\u001b[0m\u001b[1;32m     30\u001b[0m \u001b[0;34m\u001b[0m\u001b[0m\n\u001b[1;32m     31\u001b[0m         \u001b[0;32mreturn\u001b[0m \u001b[0mtokens\u001b[0m\u001b[0;34m\u001b[0m\u001b[0;34m\u001b[0m\u001b[0m\n",
            "\u001b[0;31mKeyboardInterrupt\u001b[0m: "
          ]
        }
      ]
    },
    {
      "cell_type": "code",
      "metadata": {
        "id": "SrIP0GqcuUoY",
        "colab_type": "code",
        "colab": {}
      },
      "source": [
        ""
      ],
      "execution_count": 0,
      "outputs": []
    },
    {
      "cell_type": "code",
      "metadata": {
        "id": "IkT1dOvjJ8yb",
        "colab_type": "code",
        "outputId": "e1d169d9-1c62-4b10-9336-9df580c7a959",
        "colab": {
          "base_uri": "https://localhost:8080/",
          "height": 34
        }
      },
      "source": [
        "len(new_index.inverted_index)"
      ],
      "execution_count": 0,
      "outputs": [
        {
          "output_type": "execute_result",
          "data": {
            "text/plain": [
              "4815884"
            ]
          },
          "metadata": {
            "tags": []
          },
          "execution_count": 10
        }
      ]
    },
    {
      "cell_type": "code",
      "metadata": {
        "id": "Lrvd8h-1Rr54",
        "colab_type": "code",
        "colab": {}
      },
      "source": [
        "new_index.save('inverted_index.pickle')"
      ],
      "execution_count": 0,
      "outputs": []
    },
    {
      "cell_type": "code",
      "metadata": {
        "id": "FM_7-y9dTCST",
        "colab_type": "code",
        "colab": {}
      },
      "source": [
        "# !cp inverted_index.pickle '/content/drive/My Drive/Homeworks/InformationRetrieval/inverted_index_temp.pickle'"
      ],
      "execution_count": 0,
      "outputs": []
    },
    {
      "cell_type": "markdown",
      "metadata": {
        "id": "Z1hjVJ3SU1a1",
        "colab_type": "text"
      },
      "source": [
        "#### Load Index\n",
        "Run when Index is not generated"
      ]
    },
    {
      "cell_type": "code",
      "metadata": {
        "id": "sA6qW77ZVJD1",
        "colab_type": "code",
        "colab": {}
      },
      "source": [
        "index_location = '/content/drive/My Drive/Homeworks/InformationRetrieval/inverted_index_4.pickle'"
      ],
      "execution_count": 0,
      "outputs": []
    },
    {
      "cell_type": "code",
      "metadata": {
        "id": "_-huYstNU8Ag",
        "colab_type": "code",
        "outputId": "54a73cc4-322a-434e-c169-09ca1eb83f43",
        "colab": {
          "base_uri": "https://localhost:8080/",
          "height": 51
        }
      },
      "source": [
        "logging.debug('Loading Index...')\n",
        "start = time.time()\n",
        "new_index = InvertedIndexer()\n",
        "new_index.load(index_location)\n",
        "end = time.time()\n",
        "logging.debug('Index has been loaded from inverted_index.pickle in {:.4f}s'.format(end-start))"
      ],
      "execution_count": 0,
      "outputs": [
        {
          "output_type": "stream",
          "text": [
            "DEBUG:root:Loading Index...\n",
            "DEBUG:root:Index has been loaded from inverted_index.pickle in 83.5460s\n"
          ],
          "name": "stderr"
        }
      ]
    },
    {
      "cell_type": "code",
      "metadata": {
        "id": "8wLJB7hqbAIG",
        "colab_type": "code",
        "outputId": "5915c998-4f1f-40b4-b33f-5f88ca4fbb92",
        "colab": {
          "base_uri": "https://localhost:8080/",
          "height": 34
        }
      },
      "source": [
        "len(new_index.inverted_index)"
      ],
      "execution_count": 0,
      "outputs": [
        {
          "output_type": "execute_result",
          "data": {
            "text/plain": [
              "2858862"
            ]
          },
          "metadata": {
            "tags": []
          },
          "execution_count": 10
        }
      ]
    },
    {
      "cell_type": "markdown",
      "metadata": {
        "id": "E8hg8QdDUHl4",
        "colab_type": "text"
      },
      "source": [
        "##### Testing Block"
      ]
    },
    {
      "cell_type": "code",
      "metadata": {
        "id": "bBxPGXGMHDIp",
        "colab_type": "code",
        "colab": {}
      },
      "source": [
        "test_sentence = 'бандиты боятся ли ментов'"
      ],
      "execution_count": 0,
      "outputs": []
    },
    {
      "cell_type": "code",
      "metadata": {
        "id": "82-U2VzPTSxH",
        "colab_type": "code",
        "colab": {}
      },
      "source": [
        "boolean_model = SolutionPredictor(new_index)"
      ],
      "execution_count": 0,
      "outputs": []
    },
    {
      "cell_type": "code",
      "metadata": {
        "id": "q2AtOv0ITg7i",
        "colab_type": "code",
        "outputId": "5d4ad7e9-fd2a-4e92-d0cf-59b09206fc94",
        "colab": {
          "base_uri": "https://localhost:8080/",
          "height": 71
        }
      },
      "source": [
        "start = time.time()\n",
        "print(boolean_model.find_docs(test_sentence))\n",
        "logging.debug('Search Time: {}'.format(time.time() - start))"
      ],
      "execution_count": 0,
      "outputs": [
        {
          "output_type": "stream",
          "text": [
            "DEBUG:root:Search Time: 0.0032525062561035156\n"
          ],
          "name": "stderr"
        },
        {
          "output_type": "stream",
          "text": [
            "{59393, 122885, 92166, 370697, 262166, 477206, 575512, 110616, 145432, 432154, 432166, 247847, 106540, 557108, 421941, 12351, 522305, 190534, 221260, 198735, 284753, 579665, 364632, 505945, 364635, 178274, 313443, 313451, 419951, 489583, 75893, 22646, 57466, 489595, 180351, 106626, 108677, 88199, 221320, 112780, 489618, 489620, 485525, 489622, 221335, 221336, 383136, 364705, 362658, 362662, 204967, 489639, 112810, 245933, 20656, 489651, 577718, 403642, 383163, 61629, 577727, 14529, 403650, 579780, 563400, 577738, 413900, 14540, 577743, 520399, 135378, 379091, 362708, 340183, 92376, 383196, 442590, 221414, 489710, 299250, 155891, 510199, 311545, 311553, 430350, 495888, 92435, 430358, 364825, 416028, 174377, 174380, 10544, 284977, 284978, 452915, 414004, 414006, 311610, 284990, 284993, 381257, 414037, 383317, 108887, 293207, 389467, 98656, 414049, 414054, 346471, 164202, 383339, 328049, 358783, 489860, 108939, 383372, 213389, 311694, 98709, 72093, 489886, 311712, 266657, 184738, 489897, 311730, 29108, 557505, 96707, 92612, 80328, 192969, 311754, 362956, 438742, 90583, 90584, 90587, 192990, 383461, 149994, 457195, 283122, 383474, 266741, 469496, 150009, 150012, 496125, 477693, 387583, 172544, 410113, 573954, 383491, 489987, 141829, 489992, 92688, 150036, 383511, 457240, 457250, 311843, 150052, 311845, 311849, 43562, 383529, 354864, 524849, 186930, 215604, 383557, 311878, 193095, 539207, 389711, 180816, 299608, 4697, 580189, 121458, 311924, 410232, 371321, 457337, 311934, 195203, 535172, 354955, 94863, 113299, 94870, 12953, 94874, 457373, 369311, 92834, 240291, 373410, 490146, 457382, 94887, 12984, 379589, 344775, 410312, 410314, 525014, 377561, 377562, 209628, 453343, 551651, 107239, 344808, 418544, 92918, 396024, 432889, 119554, 305925, 559882, 289553, 465681, 107288, 119578, 181020, 457514, 389933, 199470, 439092, 336699, 490303, 490304, 305985, 490305, 142152, 295755, 13131, 297812, 297815, 297818, 279388, 504671, 189281, 105315, 473957, 283496, 400235, 880, 293752, 293755, 439164, 252796, 443264, 164737, 897, 463747, 496520, 355209, 78733, 439183, 293777, 457621, 185240, 185242, 185245, 293795, 203683, 271273, 408502, 13243, 408509, 13248, 463809, 293826, 39876, 189383, 574409, 566227, 488406, 72669, 369641, 353260, 535533, 312302, 453615, 189428, 72695, 353272, 457725, 353280, 97282, 189448, 453642, 453647, 369684, 474136, 13342, 386079, 13343, 357410, 365606, 203814, 365609, 193578, 363563, 115759, 164923, 379969, 363590, 388188, 339037, 558174, 13404, 179297, 388195, 189540, 320613, 189545, 189552, 490611, 423037, 490633, 15498, 224395, 490640, 447638, 302231, 152741, 179368, 427183, 363708, 533700, 410823, 523472, 189653, 197851, 44253, 189662, 308445, 179426, 13540, 445672, 259305, 253164, 529647, 466160, 197880, 566521, 13560, 365818, 201989, 181512, 374026, 191759, 374036, 503063, 191768, 197919, 474405, 187687, 533805, 189743, 490807, 89409, 17738, 165205, 460118, 95574, 470360, 120156, 126312, 175465, 478586, 179583, 191872, 363908, 191877, 40338, 431510, 77222, 513448, 433578, 511412, 75205, 513478, 222680, 189912, 189924, 1511, 11755, 42482, 464370, 263674, 370178, 431620, 271880, 349705, 189962, 181771, 189965, 374290, 243218, 374292, 189981, 265758, 15901, 189984, 15905, 370215, 208424, 157225, 15914, 370221, 513582, 210480, 298547, 15925, 190006, 429624, 190012, 222783, 15938, 15939, 431694, 181839, 190035, 452183, 364119, 181850, 190042, 97887, 507491, 120422, 15977, 429679, 190066, 513651, 5748, 190070, 218744, 15999, 5761, 509577, 136844, 362131, 220822, 298647, 429720, 364187, 97949, 87711, 362144, 32418, 210609, 554683, 415422, 315077, 190156, 190157, 429774, 313039, 20177, 310993, 405203, 575189, 190167, 311001, 220905, 247530, 98035, 415481, 505597, 190211, 380676, 190216, 220943, 364304, 360210, 87827, 276243, 380694, 69404, 91939, 190262, 216886, 190268, 55118, 579411, 315220, 42843, 311133, 221023, 243552, 247649, 192353, 292704, 98145, 122722, 61288, 431979, 221037, 421746, 364403, 190337, 307077, 264074, 554890, 378788, 395178, 313260, 257964, 192434, 548791, 122820, 135113, 309204, 548820, 374748, 313313, 376809, 147435, 180215, 59384, 493564, 221181}\n"
          ],
          "name": "stdout"
        }
      ]
    },
    {
      "cell_type": "code",
      "metadata": {
        "id": "8KVrv-R8wZdt",
        "colab_type": "code",
        "colab": {}
      },
      "source": [
        ""
      ],
      "execution_count": 0,
      "outputs": []
    },
    {
      "cell_type": "code",
      "metadata": {
        "id": "1vE7Xo52voFT",
        "colab_type": "code",
        "colab": {}
      },
      "source": [
        "test_docs = boolean_model.find_docs(test_sentence)"
      ],
      "execution_count": 0,
      "outputs": []
    },
    {
      "cell_type": "code",
      "metadata": {
        "id": "yxLVQ6zivtIh",
        "colab_type": "code",
        "colab": {}
      },
      "source": [
        "test_dict = {}\n",
        "\n",
        "for doc in test_docs:\n",
        "    with open(os.path.join(db_directory_name, str(doc))) as f:\n",
        "        test_dict[doc] = f.readlines()[0]"
      ],
      "execution_count": 0,
      "outputs": []
    },
    {
      "cell_type": "markdown",
      "metadata": {
        "id": "5CL0J_tDV0mp",
        "colab_type": "text"
      },
      "source": [
        "### Loading File to DataFrame\n",
        "We are doing this for faster search based on index numbers"
      ]
    },
    {
      "cell_type": "code",
      "metadata": {
        "id": "DMN7KIeYTlei",
        "colab_type": "code",
        "outputId": "99c19f39-a79e-4cac-d03b-d3d5046f18bd",
        "colab": {
          "base_uri": "https://localhost:8080/",
          "height": 51
        }
      },
      "source": [
        "# %%time\n",
        "# database = pd.read_csv(indexing_data_location, sep='\\t', header=None,\n",
        "#                        names=['id', 'subject', 'content'],\n",
        "#                        dtype = {'id': int,'subject': str,\n",
        "#                             'content': str})"
      ],
      "execution_count": 0,
      "outputs": [
        {
          "output_type": "stream",
          "text": [
            "CPU times: user 55.1 s, sys: 8.91 s, total: 1min 3s\n",
            "Wall time: 1min 52s\n"
          ],
          "name": "stdout"
        }
      ]
    },
    {
      "cell_type": "code",
      "metadata": {
        "id": "zpr9WQ0FVkLD",
        "colab_type": "code",
        "outputId": "a55782c7-d191-4639-9ed6-1c3e8e90937d",
        "colab": {
          "base_uri": "https://localhost:8080/",
          "height": 306
        }
      },
      "source": [
        "# database.head()"
      ],
      "execution_count": 0,
      "outputs": [
        {
          "output_type": "execute_result",
          "data": {
            "text/html": [
              "<div>\n",
              "<style scoped>\n",
              "    .dataframe tbody tr th:only-of-type {\n",
              "        vertical-align: middle;\n",
              "    }\n",
              "\n",
              "    .dataframe tbody tr th {\n",
              "        vertical-align: top;\n",
              "    }\n",
              "\n",
              "    .dataframe thead th {\n",
              "        text-align: right;\n",
              "    }\n",
              "</style>\n",
              "<table border=\"1\" class=\"dataframe\">\n",
              "  <thead>\n",
              "    <tr style=\"text-align: right;\">\n",
              "      <th></th>\n",
              "      <th>id</th>\n",
              "      <th>subject</th>\n",
              "      <th>content</th>\n",
              "    </tr>\n",
              "  </thead>\n",
              "  <tbody>\n",
              "    <tr>\n",
              "      <th>0</th>\n",
              "      <td>24</td>\n",
              "      <td>БОЛЕЕТ ЗА ФУТБОЛ И ТРАХАЕТ ДОЧЬ СОФТ ОРГАНАЙЗЕ...</td>\n",
              "      <td>ГЛАВНАЯ НОВОСТИ КАРТА СОФТ ОРГАНАЙЗЕР СКАЧАТЬ ...</td>\n",
              "    </tr>\n",
              "    <tr>\n",
              "      <th>1</th>\n",
              "      <td>26</td>\n",
              "      <td>МОНГОЛЬСКАЯ ТХАНКА СОФТФОН</td>\n",
              "      <td>ГЛАВНАЯ НОВОСТИ КАРТА СОФТФОН GT МОНГОЛЬСКАЯ Т...</td>\n",
              "    </tr>\n",
              "    <tr>\n",
              "      <th>2</th>\n",
              "      <td>30</td>\n",
              "      <td>СМОТРЕТЬ ФИЛЬМЫ ОНЛАЙН БЕСПЛАТНО СМОТРЕТЬ КОНЦ...</td>\n",
              "      <td>ЗАГРУЗКА ПОЖАЛУЙСТА ПОДОЖДИТЕ ВНИМАНИЕ ОБНАРУЖ...</td>\n",
              "    </tr>\n",
              "    <tr>\n",
              "      <th>3</th>\n",
              "      <td>35</td>\n",
              "      <td>КАК ПРИГОТОВИТЬ ТОРТ РАФАЭЛЛО В ДОМАШНИХ УСЛОВ...</td>\n",
              "      <td>ՀԱՅԵՐԵՆ РУССКИЙ ПОЛИТИКА ВНУТРЕННИЙ ВНЕШНИЙ ЭК...</td>\n",
              "    </tr>\n",
              "    <tr>\n",
              "      <th>4</th>\n",
              "      <td>39</td>\n",
              "      <td>МИФЫ О ГВ BREASTFEEDING AM</td>\n",
              "      <td>TOGGLE NAVIGATION BREASTFEEDING AM ГОРЯЧАЯ ЛИН...</td>\n",
              "    </tr>\n",
              "  </tbody>\n",
              "</table>\n",
              "</div>"
            ],
            "text/plain": [
              "   id  ...                                            content\n",
              "0  24  ...  ГЛАВНАЯ НОВОСТИ КАРТА СОФТ ОРГАНАЙЗЕР СКАЧАТЬ ...\n",
              "1  26  ...  ГЛАВНАЯ НОВОСТИ КАРТА СОФТФОН GT МОНГОЛЬСКАЯ Т...\n",
              "2  30  ...  ЗАГРУЗКА ПОЖАЛУЙСТА ПОДОЖДИТЕ ВНИМАНИЕ ОБНАРУЖ...\n",
              "3  35  ...  ՀԱՅԵՐԵՆ РУССКИЙ ПОЛИТИКА ВНУТРЕННИЙ ВНЕШНИЙ ЭК...\n",
              "4  39  ...  TOGGLE NAVIGATION BREASTFEEDING AM ГОРЯЧАЯ ЛИН...\n",
              "\n",
              "[5 rows x 3 columns]"
            ]
          },
          "metadata": {
            "tags": []
          },
          "execution_count": 20
        }
      ]
    },
    {
      "cell_type": "markdown",
      "metadata": {
        "id": "FFVq8V0Yo4Lv",
        "colab_type": "text"
      },
      "source": [
        "### Implementing BM25 (When all data in memory)"
      ]
    },
    {
      "cell_type": "code",
      "metadata": {
        "id": "tyHJesRwW_KL",
        "colab_type": "code",
        "outputId": "cff294ea-2e3c-4014-906a-fb63dce13495",
        "colab": {
          "base_uri": "https://localhost:8080/",
          "height": 49,
          "referenced_widgets": [
            "891d8122e8a544d5bebd26edb176a403",
            "41100e0626164b3c9b4b06285f6617af",
            "aa637a9171b542b39c7a1f2b0853366f",
            "b995752c4d06413a8d3ce2270eca598e",
            "8eb66f7d62d940349729e268ce63ca45",
            "4e5a9dd12bae4cc9ba46e89d5a5d557e",
            "ce589667c206440fb4bd6d8d575833ab",
            "93908a3eeb9e40549f4901ff9ba6f60f"
          ]
        }
      },
      "source": [
        "# # boolean_model = SolutionPredictor(new_index)\n",
        "# output=open('submission.csv', 'w')\n",
        "# with open(queries_list) as queries:\n",
        "#     output.write('QueryId,DocumentId\\n')\n",
        "#     for line in tqdm(queries.readlines()):\n",
        "#         line = line.split('\\t')\n",
        "#         id = int(line[0])\n",
        "#         query = line[1]\n",
        "#         value_present = boolean_model.find_docs(query)\n",
        "#         data = database[database['id'].isin(list(value_present))].copy()\n",
        "#         data.loc[:, 'content'] = data[['subject', 'content']].astype(str).apply(' '.join, axis=1)\n",
        "#         del data['subject']\n",
        "#         data = OrderedDict(data.set_index('id')['content'].to_dict())\n",
        "#         for key in data:\n",
        "#             data[key] = new_index.preprocess(data[key])\n",
        "#         if data:\n",
        "#             bm25 = BM25Okapi(data.values())\n",
        "#             rankings =  sorted(list(zip(data.keys(), bm25.get_scores(new_index.preprocess(query)))), key=lambda x: x[1], reverse=True)[:10]\n",
        "#             for rank in rankings:\n",
        "#                 output.write('{},{}\\n'.format(id, rank[0]))\n",
        "        \n",
        "#         if (not data) or len(rankings) < 10:\n",
        "#             if not data:\n",
        "#                 rankings = []\n",
        "            \n",
        "#             logging.debug('Found Some values with no query results or less than 10 {} ranking'.format(id, len(rankings)))\n",
        "#             print(id, query)\n",
        "#             for i in range(10 - len(rankings)):\n",
        "#                 output.write('{},{}\\n'.format(id, random.randrange(50000)))\n",
        "# output.close()"
      ],
      "execution_count": 0,
      "outputs": [
        {
          "output_type": "display_data",
          "data": {
            "application/vnd.jupyter.widget-view+json": {
              "model_id": "891d8122e8a544d5bebd26edb176a403",
              "version_minor": 0,
              "version_major": 2
            },
            "text/plain": [
              "HBox(children=(FloatProgress(value=0.0, max=400.0), HTML(value='')))"
            ]
          },
          "metadata": {
            "tags": []
          }
        }
      ]
    },
    {
      "cell_type": "code",
      "metadata": {
        "id": "RdYT_pMmYVMq",
        "colab_type": "code",
        "colab": {}
      },
      "source": [
        "# !cp submission.csv '/content/drive/My Drive/Homeworks/InformationRetrieval/submission.csv'"
      ],
      "execution_count": 0,
      "outputs": []
    },
    {
      "cell_type": "markdown",
      "metadata": {
        "id": "qRwEuVO7vG1j",
        "colab_type": "text"
      },
      "source": [
        "### Implementing BM25 when all data on disk"
      ]
    },
    {
      "cell_type": "code",
      "metadata": {
        "id": "F5zx4xm92BtE",
        "colab_type": "code",
        "outputId": "016364ab-8f9b-49fb-c2f8-c250d983a74c",
        "colab": {
          "base_uri": "https://localhost:8080/",
          "height": 71
        }
      },
      "source": [
        "corpus = {\n",
        "    1: \"Hello there good man!\",\n",
        "    2: \"It is quite windy in London\",\n",
        "    3: \"How is the weather today?\"\n",
        "}\n",
        "tokenized_corpus = [doc.split(\" \") for doc in corpus.values()]\n",
        "print(tokenized_corpus)\n",
        "bm25 = BM25Okapi(tokenized_corpus)\n",
        "query = \"windy London\"\n",
        "tokenized_query = query.split(\" \")\n",
        "\n",
        "doc_scores = bm25.get_scores(tokenized_query)\n",
        "print(sorted(list(zip(corpus.keys(),doc_scores)), key=lambda x: x[1], reverse=True))"
      ],
      "execution_count": 0,
      "outputs": [
        {
          "output_type": "stream",
          "text": [
            "[['Hello', 'there', 'good', 'man!'], ['It', 'is', 'quite', 'windy', 'in', 'London'], ['How', 'is', 'the', 'weather', 'today?']]\n",
            "[(2, 0.9372947225064051), (1, 0.0), (3, 0.0)]\n"
          ],
          "name": "stdout"
        }
      ]
    },
    {
      "cell_type": "code",
      "metadata": {
        "id": "i5scxS0dfqFx",
        "colab_type": "code",
        "outputId": "1770ad0a-d682-4118-a31d-7c62497586c9",
        "colab": {
          "base_uri": "https://localhost:8080/",
          "height": 318,
          "referenced_widgets": [
            "c90ee82c512144878cdad22a4905f47a",
            "2caaf80b6e79404f865896d4bd03bb5f",
            "cc0d375527ea4109afa36fc701ae3f85",
            "90c406c497224f19a5f5dc5d08bc5547",
            "74afff7cd97a4aab8617337702bbdac4",
            "61e87fb401204740976d4119b3e6fda1",
            "c4f547c735ca4b4faac79a966ac6ed12",
            "7a4aedd7631c4d48975dd9f368df7177"
          ]
        }
      },
      "source": [
        "output=open('submission.csv', 'w')\n",
        "with open(queries_list) as queries:\n",
        "    output.write('QueryId,DocumentId\\n')\n",
        "    for line in tqdm(queries.readlines()):\n",
        "        line = line.split('\\t')\n",
        "        id = int(line[0])\n",
        "        query = line[1]\n",
        "        value_present = boolean_model.find_docs(query)\n",
        "        logging.debug('Found Value {}'.format(len(value_present)))\n",
        "        \n",
        "        data = OrderedDict()\n",
        "\n",
        "        for doc in value_present:\n",
        "            with open(os.path.join(db_directory_name, str(doc))) as f:\n",
        "                data[doc] = new_index.preprocess(f.readlines()[0])\n",
        "        logging.debug('Loaded Data')\n",
        "        if data:\n",
        "            bm25 = BM25Okapi(data.values())\n",
        "            start = time.time()\n",
        "            rankings =  sorted(list(zip(data.keys(), bm25.get_scores(new_index.preprocess(query)))), key=lambda x: x[1], reverse=True)[:100]\n",
        "            for rank in rankings:\n",
        "                output.write('{},{}\\n'.format(id, rank[0]))\n",
        "            logging.debug('Calculated ranking in {}'.format(time.time()- start))\n",
        "        \n",
        "        if (not data) or len(rankings) < 10:\n",
        "            if not data:\n",
        "                rankings = []\n",
        "            \n",
        "            logging.debug('Found Some values with no query results or less than 10 {} ranking'.format(id, len(rankings)))\n",
        "            print(id, query)\n",
        "            for i in range(10 - len(rankings)):\n",
        "                output.write('{},{}\\n'.format(id, random.randrange(50000)))\n",
        "output.close()"
      ],
      "execution_count": 0,
      "outputs": [
        {
          "output_type": "display_data",
          "data": {
            "application/vnd.jupyter.widget-view+json": {
              "model_id": "c90ee82c512144878cdad22a4905f47a",
              "version_minor": 0,
              "version_major": 2
            },
            "text/plain": [
              "HBox(children=(FloatProgress(value=0.0, max=400.0), HTML(value='')))"
            ]
          },
          "metadata": {
            "tags": []
          }
        },
        {
          "output_type": "stream",
          "text": [
            "DEBUG:root:Found Value 4739\n",
            "DEBUG:root:Loaded Data\n"
          ],
          "name": "stderr"
        },
        {
          "output_type": "error",
          "ename": "TypeError",
          "evalue": "ignored",
          "traceback": [
            "\u001b[0;31m---------------------------------------------------------------------------\u001b[0m",
            "\u001b[0;31mTypeError\u001b[0m                                 Traceback (most recent call last)",
            "\u001b[0;32m<ipython-input-47-9f74a74991cf>\u001b[0m in \u001b[0;36m<module>\u001b[0;34m()\u001b[0m\n\u001b[1;32m     21\u001b[0m             \u001b[0;32mfor\u001b[0m \u001b[0mrank\u001b[0m \u001b[0;32min\u001b[0m \u001b[0mrankings\u001b[0m\u001b[0;34m:\u001b[0m\u001b[0;34m\u001b[0m\u001b[0;34m\u001b[0m\u001b[0m\n\u001b[1;32m     22\u001b[0m                 \u001b[0moutput\u001b[0m\u001b[0;34m.\u001b[0m\u001b[0mwrite\u001b[0m\u001b[0;34m(\u001b[0m\u001b[0;34m'{},{}\\n'\u001b[0m\u001b[0;34m.\u001b[0m\u001b[0mformat\u001b[0m\u001b[0;34m(\u001b[0m\u001b[0mid\u001b[0m\u001b[0;34m,\u001b[0m \u001b[0mrank\u001b[0m\u001b[0;34m[\u001b[0m\u001b[0;36m0\u001b[0m\u001b[0;34m]\u001b[0m\u001b[0;34m)\u001b[0m\u001b[0;34m)\u001b[0m\u001b[0;34m\u001b[0m\u001b[0;34m\u001b[0m\u001b[0m\n\u001b[0;32m---> 23\u001b[0;31m             \u001b[0mlogging\u001b[0m\u001b[0;34m.\u001b[0m\u001b[0mdebug\u001b[0m\u001b[0;34m(\u001b[0m\u001b[0;34m'Calculated ranking in {}'\u001b[0m\u001b[0;34m.\u001b[0m\u001b[0mformat\u001b[0m\u001b[0;34m(\u001b[0m\u001b[0mtime\u001b[0m\u001b[0;34m.\u001b[0m\u001b[0mtime\u001b[0m\u001b[0;34m-\u001b[0m \u001b[0mstart\u001b[0m\u001b[0;34m)\u001b[0m\u001b[0;34m)\u001b[0m\u001b[0;34m\u001b[0m\u001b[0;34m\u001b[0m\u001b[0m\n\u001b[0m\u001b[1;32m     24\u001b[0m \u001b[0;34m\u001b[0m\u001b[0m\n\u001b[1;32m     25\u001b[0m         \u001b[0;32mif\u001b[0m \u001b[0;34m(\u001b[0m\u001b[0;32mnot\u001b[0m \u001b[0mdata\u001b[0m\u001b[0;34m)\u001b[0m \u001b[0;32mor\u001b[0m \u001b[0mlen\u001b[0m\u001b[0;34m(\u001b[0m\u001b[0mrankings\u001b[0m\u001b[0;34m)\u001b[0m \u001b[0;34m<\u001b[0m \u001b[0;36m10\u001b[0m\u001b[0;34m:\u001b[0m\u001b[0;34m\u001b[0m\u001b[0;34m\u001b[0m\u001b[0m\n",
            "\u001b[0;31mTypeError\u001b[0m: unsupported operand type(s) for -: 'builtin_function_or_method' and 'float'"
          ]
        }
      ]
    },
    {
      "cell_type": "code",
      "metadata": {
        "id": "tgeVX5euf-Qx",
        "colab_type": "code",
        "colab": {}
      },
      "source": [
        ""
      ],
      "execution_count": 0,
      "outputs": []
    },
    {
      "cell_type": "code",
      "metadata": {
        "id": "N7vf45rN7Cjl",
        "colab_type": "code",
        "colab": {}
      },
      "source": [
        ""
      ],
      "execution_count": 0,
      "outputs": []
    }
  ]
}